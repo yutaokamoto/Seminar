{
 "cells": [
  {
   "cell_type": "code",
   "execution_count": 13,
   "metadata": {},
   "outputs": [
    {
     "name": "stdout",
     "output_type": "stream",
     "text": [
      "items :  [2, 2, 2, 2, 3, 3, 4, 4, 4, 4, 4, 4, 5, 5, 5, 5, 5, 5, 6, 6, 7, 7, 8, 8] \n",
      " the capacity of bins :  9\n"
     ]
    }
   ],
   "source": [
    "#Bin Packing problem\n",
    "#Cutting stock problem\n",
    "def BinPackingExamples():\n",
    "    \"\"\"\n",
    "    Generate a bin packing problem example.\n",
    "    input : none\n",
    "    ouput :\n",
    "        s : the set of items.\n",
    "        B : the capacity of bins.\n",
    "    \"\"\"\n",
    "    B = 9\n",
    "    w = [2,3,4,5,6,7,8] #アイテムの大きさ\n",
    "    q = [4,2,6,6,2,2,2] #アイテムの必要量\n",
    "    s=[]\n",
    "    for j in range(len(w)):\n",
    "        for i in range(q[j]):\n",
    "            s.append(w[j])\n",
    "    return s,B\n",
    "\n",
    "s,B = BinPackingExamples()\n",
    "print(\"items : \", s, \"\\n the capacity of bins : \", B)"
   ]
  },
  {
   "cell_type": "code",
   "execution_count": 16,
   "metadata": {},
   "outputs": [
    {
     "name": "stdout",
     "output_type": "stream",
     "text": [
      "Initial Cutting Pattern : \n",
      " [[4, 0, 0, 0, 0, 0, 0], [0, 3, 0, 0, 0, 0, 0], [0, 0, 2, 0, 0, 0, 0], [0, 0, 0, 1, 0, 0, 0], [0, 0, 0, 0, 1, 0, 0], [0, 0, 0, 0, 0, 1, 0], [0, 0, 0, 0, 0, 0, 1]]\n"
     ]
    }
   ],
   "source": [
    "#Initial set of cutting pattern\n",
    "#各種類のアイテムを1種類だけ使うというパターンを生成．\n",
    "t=[]\n",
    "m = len(w)\n",
    "for i in range(m):\n",
    "    pat = [0]*m\n",
    "    pat[i] = int(B/w[i])\n",
    "    t.append(pat)\n",
    "    \n",
    "print(\"Initial Cutting Pattern : \\n\", t)"
   ]
  },
  {
   "cell_type": "code",
   "execution_count": null,
   "metadata": {},
   "outputs": [],
   "source": [
    "#Preparation\n",
    "def simplextableau(obj_coefficient, constraints_lval, constrains_rval):\n",
    "    tableau = [[0]*]\n",
    "    return tableau"
   ]
  },
  {
   "cell_type": "code",
   "execution_count": null,
   "metadata": {},
   "outputs": [],
   "source": [
    "#Linear Relaxation\n",
    "def LinearRelaxation(obj_coefficient, constraints_lval, constrains_rval):\n",
    "    \"\"\"\n",
    "    solve a linear relaxation problem.\n",
    "    input : \n",
    "        obj_coefficient : リスト [1,1, ... ,1]\n",
    "        constraints_lval : リスト [-4, -3, ... ,-1]\n",
    "        constrains_rval : リスト [4,2, ... ,2]\n",
    "    output : obj_val\n",
    "    \"\"\"\n",
    "    simplextableau = simplextableau(obj_coefficient, constraints_lval, constrains_rval)\n",
    "    obj_val = simplex(simplextableau)\n",
    "    return obj_val\n",
    "\n",
    "LinearRelaxation([1]*len(w), list(max(pat) for pat in t), w)"
   ]
  }
 ],
 "metadata": {
  "kernelspec": {
   "display_name": "Python 3",
   "language": "python",
   "name": "python3"
  },
  "language_info": {
   "codemirror_mode": {
    "name": "ipython",
    "version": 3
   },
   "file_extension": ".py",
   "mimetype": "text/x-python",
   "name": "python",
   "nbconvert_exporter": "python",
   "pygments_lexer": "ipython3",
   "version": "3.7.7"
  }
 },
 "nbformat": 4,
 "nbformat_minor": 4
}
