{
 "cells": [
  {
   "cell_type": "code",
   "execution_count": 117,
   "metadata": {},
   "outputs": [
    {
     "name": "stdout",
     "output_type": "stream",
     "text": [
      "items :  [2, 3, 4, 5, 6] \n",
      " the requirement number of items :  [1, 1, 1, 1, 1] \n",
      " the capacity of bins :  9\n"
     ]
    }
   ],
   "source": [
    "#Bin Packing problem\n",
    "#Cutting stock problem\n",
    "def BinPackingExamples():\n",
    "    \"\"\"\n",
    "    Generate a bin packing problem example.\n",
    "    input : none\n",
    "    ouput :\n",
    "        s : the set of items.\n",
    "        B : the capacity of bins.\n",
    "    \"\"\"\n",
    "    B = 9\n",
    "    w = [2,3,4,5,6] #[2,3,4,5,6,7,8] #アイテムの大きさ\n",
    "    q = [1]*len(w) #[4,2,6,6,2,2,2] #アイテムの必要量\n",
    "    s=[]\n",
    "    for j in range(len(w)):\n",
    "        for i in range(q[j]):\n",
    "            s.append(w[j])\n",
    "    return s, w, q, B\n",
    "\n",
    "s, w, q, B = BinPackingExamples()\n",
    "print(\"items : \", s, \"\\n the requirement number of items : \", q, \"\\n the capacity of bins : \", B)"
   ]
  },
  {
   "cell_type": "code",
   "execution_count": 118,
   "metadata": {},
   "outputs": [
    {
     "name": "stdout",
     "output_type": "stream",
     "text": [
      "双対緩和問題の解 : \n",
      "      con: array([], dtype=float64)\n",
      "     fun: -2.0\n",
      " message: 'Optimization terminated successfully.'\n",
      "     nit: 9\n",
      "   slack: array([1., 1., 1., 0., 0., 0., 0.])\n",
      "  status: 0\n",
      " success: True\n",
      "       x: array([0., 0., 0., 1., 1.])\n",
      "Using license file /Users/okamoto/gurobi.lic\n"
     ]
    },
    {
     "ename": "GurobiError",
     "evalue": "Version number is 9.0, license is for version 8.0",
     "output_type": "error",
     "traceback": [
      "\u001b[0;31m---------------------------------------------------------------------------\u001b[0m",
      "\u001b[0;31mGurobiError\u001b[0m                               Traceback (most recent call last)",
      "\u001b[0;32m<ipython-input-118-5b604d83cfde>\u001b[0m in \u001b[0;36m<module>\u001b[0;34m\u001b[0m\n\u001b[1;32m     46\u001b[0m         \u001b[0mprint\u001b[0m\u001b[0;34m(\u001b[0m\u001b[0;34m\"双対緩和問題の解 : \\n\"\u001b[0m\u001b[0;34m,\u001b[0m \u001b[0mans_d\u001b[0m\u001b[0;34m)\u001b[0m\u001b[0;34m\u001b[0m\u001b[0;34m\u001b[0m\u001b[0m\n\u001b[1;32m     47\u001b[0m \u001b[0;34m\u001b[0m\u001b[0m\n\u001b[0;32m---> 48\u001b[0;31m         \u001b[0mmodel\u001b[0m \u001b[0;34m=\u001b[0m \u001b[0mgp\u001b[0m\u001b[0;34m.\u001b[0m\u001b[0mModel\u001b[0m\u001b[0;34m(\u001b[0m\u001b[0;34m)\u001b[0m\u001b[0;34m\u001b[0m\u001b[0;34m\u001b[0m\u001b[0m\n\u001b[0m\u001b[1;32m     49\u001b[0m         \u001b[0my\u001b[0m \u001b[0;34m=\u001b[0m \u001b[0;34m{\u001b[0m\u001b[0mi\u001b[0m\u001b[0;34m:\u001b[0m\u001b[0mmodel\u001b[0m\u001b[0;34m.\u001b[0m\u001b[0maddVar\u001b[0m\u001b[0;34m(\u001b[0m\u001b[0mlb\u001b[0m \u001b[0;34m=\u001b[0m \u001b[0;36m0\u001b[0m\u001b[0;34m,\u001b[0m \u001b[0mub\u001b[0m \u001b[0;34m=\u001b[0m \u001b[0;36m1\u001b[0m\u001b[0;34m,\u001b[0m \u001b[0mvtype\u001b[0m \u001b[0;34m=\u001b[0m \u001b[0mgp\u001b[0m\u001b[0;34m.\u001b[0m\u001b[0mGRB\u001b[0m\u001b[0;34m.\u001b[0m\u001b[0mBINARY\u001b[0m\u001b[0;34m,\u001b[0m \u001b[0mname\u001b[0m \u001b[0;34m=\u001b[0m \u001b[0;34m\"y\"\u001b[0m\u001b[0;34m+\u001b[0m\u001b[0mstr\u001b[0m\u001b[0;34m(\u001b[0m\u001b[0mi\u001b[0m\u001b[0;34m)\u001b[0m\u001b[0;34m)\u001b[0m \u001b[0;32mfor\u001b[0m \u001b[0mi\u001b[0m \u001b[0;32min\u001b[0m \u001b[0mrange\u001b[0m\u001b[0;34m(\u001b[0m\u001b[0mlen\u001b[0m\u001b[0;34m(\u001b[0m\u001b[0mans_d\u001b[0m\u001b[0;34m.\u001b[0m\u001b[0mx\u001b[0m\u001b[0;34m)\u001b[0m\u001b[0;34m)\u001b[0m\u001b[0;34m}\u001b[0m\u001b[0;34m\u001b[0m\u001b[0;34m\u001b[0m\u001b[0m\n\u001b[1;32m     50\u001b[0m         \u001b[0mmodel\u001b[0m\u001b[0;34m.\u001b[0m\u001b[0msetObjective\u001b[0m\u001b[0;34m(\u001b[0m\u001b[0mgp\u001b[0m\u001b[0;34m.\u001b[0m\u001b[0mquicksum\u001b[0m\u001b[0;34m(\u001b[0m\u001b[0mq\u001b[0m\u001b[0;34m[\u001b[0m\u001b[0mi\u001b[0m\u001b[0;34m]\u001b[0m\u001b[0;34m*\u001b[0m\u001b[0my\u001b[0m\u001b[0;34m[\u001b[0m\u001b[0mi\u001b[0m\u001b[0;34m]\u001b[0m \u001b[0;32mfor\u001b[0m \u001b[0mi\u001b[0m \u001b[0;32min\u001b[0m \u001b[0mrange\u001b[0m\u001b[0;34m(\u001b[0m\u001b[0mlen\u001b[0m\u001b[0;34m(\u001b[0m\u001b[0mans_d\u001b[0m\u001b[0;34m.\u001b[0m\u001b[0mx\u001b[0m\u001b[0;34m)\u001b[0m\u001b[0;34m)\u001b[0m\u001b[0;34m)\u001b[0m\u001b[0;34m,\u001b[0m \u001b[0msense\u001b[0m\u001b[0;34m=\u001b[0m\u001b[0mgp\u001b[0m\u001b[0;34m.\u001b[0m\u001b[0mGRB\u001b[0m\u001b[0;34m.\u001b[0m\u001b[0mMAXIMIZE\u001b[0m\u001b[0;34m)\u001b[0m\u001b[0;34m\u001b[0m\u001b[0;34m\u001b[0m\u001b[0m\n",
      "\u001b[0;32menv.pxi\u001b[0m in \u001b[0;36mgurobipy.Env.__init__\u001b[0;34m()\u001b[0m\n",
      "\u001b[0;32mgurobi.pxi\u001b[0m in \u001b[0;36mgurobipy.gurobi._getdefaultenv\u001b[0;34m()\u001b[0m\n",
      "\u001b[0;32menv.pxi\u001b[0m in \u001b[0;36mgurobipy.Env.__init__\u001b[0;34m()\u001b[0m\n",
      "\u001b[0;31mGurobiError\u001b[0m: Version number is 9.0, license is for version 8.0"
     ]
    }
   ],
   "source": [
    "#1. 各種類のアイテムを1種類だけ使うというパターンを生成．\n",
    "t=[]\n",
    "m = len(w)\n",
    "for i in range(m):\n",
    "    pat = [0]*m\n",
    "    pat[i] = int(B/w[i])\n",
    "    t.append(pat)\n",
    "\n",
    "from scipy.optimize import linprog\n",
    "import gurobi as gp\n",
    "A_d = t\n",
    "new_pattern = []\n",
    "while(1):\n",
    "    #2. 双対問題を解く\n",
    "    A_d = A_d + [new_pattern]*(new_pattern!=[])\n",
    "    b_d = [1]*len(A_d)\n",
    "    c_d = list(map(lambda x: -x, q)) #使うモジュールの関係で目的関数が必ずminになる\n",
    "    ans_d = linprog(c_d, A_ub=A_d, b_ub=b_d, method=\"simplex\")\n",
    "    #print(ans_d, \"\\n\\n\")\n",
    "\n",
    "    #3. ナップサック問題をとく\n",
    "    A_kp = w\n",
    "    b_kp = B\n",
    "    c_kp = list(ans_d.x)\n",
    "    Idx = list(range(len(A_kp)))\n",
    "    w_per_v = {idx:weight/value for idx,value,weight in zip(Idx, A_kp, c_kp)}\n",
    "    w_per_v = sorted(w_per_v.items(), key=lambda x:x[1], reverse=True)\n",
    "    ans_kp = {i:0 for i in range(len(w))}\n",
    "    for item in w_per_v:\n",
    "        if b_kp >= 0:\n",
    "            ans_kp[item[0]] = b_kp//w[item[0]]\n",
    "            b_kp -= ans[item[0]]*w[item[0]]\n",
    "    obj_kp = 0\n",
    "    for i in range(len(ans_kp)):\n",
    "        obj_kp += ans_kp[i]*c_kp[i]\n",
    "        \n",
    "    ##3.1. ナップサック問題の最適解が1よりも大きい\n",
    "    ###3.1.1. 双対問題に新たな制約を加える\n",
    "    if obj_kp > 1:\n",
    "        new_pattern = list(ans_kp.values())\n",
    "    ###3.1.2. 2.へ\n",
    "\n",
    "    ##3.2. ナップサック問題の最適解が1以下　→　終了\n",
    "    else:\n",
    "        #print(A_d)\n",
    "        print(\"双対緩和問題の解 : \\n\", ans_d)\n",
    "        \n",
    "        model = gp.Model()\n",
    "        y = {i:model.addVar(lb = 0, ub = 1, vtype = gp.GRB.BINARY, name = \"y\"+str(i)) for i in range(len(ans_d.x))}\n",
    "        model.setObjective(gp.quicksum(q[i]*y[i] for i in range(len(ans_d.x))), sense=gp.GRB.MAXIMIZE)\n",
    "        for idx, constraint in enumerate(A_d):\n",
    "            model.addConstr(gp.quicksum(constraint[i]*y[i] for i in range(len(constraint))) <= 1, name=\"constraint\"+ str(idx))\n",
    "        model.optimize()\n",
    "        break"
   ]
  },
  {
   "cell_type": "code",
   "execution_count": 58,
   "metadata": {},
   "outputs": [
    {
     "name": "stdout",
     "output_type": "stream",
     "text": [
      "Initial Cutting Pattern : \n",
      " [[4, 0, 0, 0, 0, 0, 0], [0, 3, 0, 0, 0, 0, 0], [0, 0, 2, 0, 0, 0, 0], [0, 0, 0, 1, 0, 0, 0], [0, 0, 0, 0, 1, 0, 0], [0, 0, 0, 0, 0, 1, 0], [0, 0, 0, 0, 0, 0, 1]]\n"
     ]
    }
   ],
   "source": [
    "#Initial set of cutting pattern\n",
    "#各種類のアイテムを1種類だけ使うというパターンを生成．\n",
    "t=[]\n",
    "m = len(w)\n",
    "for i in range(m):\n",
    "    pat = [0]*m\n",
    "    pat[i] = int(B/w[i])\n",
    "    t.append(pat)\n",
    "    \n",
    "print(\"Initial Cutting Pattern : \\n\", t)"
   ]
  },
  {
   "cell_type": "code",
   "execution_count": 59,
   "metadata": {},
   "outputs": [
    {
     "name": "stdout",
     "output_type": "stream",
     "text": [
      "[[4, 0, 0, 0, 0, 0, 0], [0, 3, 0, 0, 0, 0, 0], [0, 0, 2, 0, 0, 0, 0], [0, 0, 0, 1, 0, 0, 0], [0, 0, 0, 0, 1, 0, 0], [0, 0, 0, 0, 0, 1, 0], [0, 0, 0, 0, 0, 0, 1]] \n",
      " [1, 1, 1, 1, 1, 1, 1] \n",
      " [-1, -1, -1, -1, -1, -1, -1]\n"
     ]
    }
   ],
   "source": [
    "#双対問題を解く\n",
    "A_d = t\n",
    "b_d = [1]*len(A_d)\n",
    "c_d = [-1]*len(A_d[1]) #使うモジュールの関係で目的関数が必ずminになる\n",
    "\n",
    "#print(E, \"\\n\", constraints_lval, \"\\n\", constraints_rval, \"\\n\", obj_coefficient)\n",
    "\n",
    "print(A_d, \"\\n\", b_d, \"\\n\", c_d)"
   ]
  },
  {
   "cell_type": "code",
   "execution_count": 60,
   "metadata": {},
   "outputs": [
    {
     "data": {
      "text/plain": [
       "     con: array([], dtype=float64)\n",
       "     fun: -5.083333333333333\n",
       " message: 'The solution was determined in presolve as there are no non-trivial constraints.'\n",
       "     nit: 0\n",
       "   slack: array([0., 0., 0., 0., 0., 0., 0.])\n",
       "  status: 0\n",
       " success: True\n",
       "       x: array([0.25      , 0.33333333, 0.5       , 1.        , 1.        ,\n",
       "       1.        , 1.        ])"
      ]
     },
     "execution_count": 60,
     "metadata": {},
     "output_type": "execute_result"
    }
   ],
   "source": [
    "from scipy.optimize import linprog\n",
    "ans_d = linprog(c_d, A_ub=A_d, b_ub=b_d, method=\"simplex\")\n",
    "ans_d"
   ]
  },
  {
   "cell_type": "markdown",
   "metadata": {},
   "source": [
    "# ナップサック問題を解いて，良いパッキングを見つける"
   ]
  },
  {
   "cell_type": "code",
   "execution_count": 61,
   "metadata": {},
   "outputs": [
    {
     "name": "stdout",
     "output_type": "stream",
     "text": [
      "[2, 3, 4, 5, 6, 7, 8] \n",
      " 9 \n",
      " [0.25, 0.3333333333333333, 0.5, 1.0, 1.0, 1.0, 1.0]\n"
     ]
    }
   ],
   "source": [
    "#ナップサック問題をとく\n",
    "A_kp = w\n",
    "b_kp = B\n",
    "c_kp = list(ans_d.x)#list(map(lambda x: -x, list(ans.x)))\n",
    "\n",
    "print(A_kp, \"\\n\", b_kp, \"\\n\", c_kp)"
   ]
  },
  {
   "cell_type": "code",
   "execution_count": 62,
   "metadata": {},
   "outputs": [
    {
     "name": "stdout",
     "output_type": "stream",
     "text": [
      "{0: 2, 1: 0, 2: 0, 3: 1, 4: 0, 5: 0, 6: 0}\n"
     ]
    }
   ],
   "source": [
    "Idx = list(range(len(A_kp)))\n",
    "w_per_v = {idx:weight/value for idx,value,weight in zip(Idx, A_kp, c_kp)}\n",
    "#print(w_per_v)\n",
    "w_per_v = sorted(w_per_v.items(), key=lambda x:x[1], reverse=True)\n",
    "#print(w_per_v)\n",
    "ans_kp = {i:0 for i in range(len(w))}\n",
    "for item in w_per_v:\n",
    "    if b_kp >= 0:\n",
    "        ans_kp[item[0]] = b_kp//w[item[0]]\n",
    "        b_kp -= ans[item[0]]*w[item[0]]\n",
    "print(ans_kp)"
   ]
  },
  {
   "cell_type": "code",
   "execution_count": 63,
   "metadata": {},
   "outputs": [
    {
     "name": "stdout",
     "output_type": "stream",
     "text": [
      "1.5\n"
     ]
    }
   ],
   "source": [
    "#ナップサック問題の最適解が1よりも大きいか\n",
    "obj_kp = 0\n",
    "for i in range(len(ans_kp)):\n",
    "    obj_kp += ans_kp[i]*c_kp[i]\n",
    "print(obj_kp)"
   ]
  },
  {
   "cell_type": "code",
   "execution_count": 64,
   "metadata": {},
   "outputs": [
    {
     "name": "stdout",
     "output_type": "stream",
     "text": [
      "[[4, 0, 0, 0, 0, 0, 0], [0, 3, 0, 0, 0, 0, 0], [0, 0, 2, 0, 0, 0, 0], [0, 0, 0, 1, 0, 0, 0], [0, 0, 0, 0, 1, 0, 0], [0, 0, 0, 0, 0, 1, 0], [0, 0, 0, 0, 0, 0, 1], [2, 0, 0, 1, 0, 0, 0]] \n",
      " [1, 1, 1, 1, 1, 1, 1, 1] \n",
      " [-1, -1, -1, -1, -1, -1, -1]\n"
     ]
    }
   ],
   "source": [
    "#双対問題に新たな制約を加える\n",
    "if obj_kp > 1:\n",
    "    A_d.append(list(ans_kp.values()))\n",
    "    b_d = [1]*len(A_d)\n",
    "    c_d = [-1]*len(A_d[1]) #使うモジュールの関係で目的関数が必ずminになる\n",
    "\n",
    "    #print(E, \"\\n\", constraints_lval, \"\\n\", constraints_rval, \"\\n\", obj_coefficient)\n",
    "\n",
    "    print(A_d, \"\\n\", b_d, \"\\n\", c_d)"
   ]
  },
  {
   "cell_type": "code",
   "execution_count": 66,
   "metadata": {},
   "outputs": [
    {
     "data": {
      "text/plain": [
       "     con: array([], dtype=float64)\n",
       "     fun: -4.833333333333333\n",
       " message: 'Optimization terminated successfully.'\n",
       "     nit: 9\n",
       "   slack: array([1., 0., 0., 0., 0., 0., 0., 0.])\n",
       "  status: 0\n",
       " success: True\n",
       "       x: array([0.        , 0.33333333, 0.5       , 1.        , 1.        ,\n",
       "       1.        , 1.        ])"
      ]
     },
     "execution_count": 66,
     "metadata": {},
     "output_type": "execute_result"
    }
   ],
   "source": [
    "ans_d = linprog(c_d, A_ub=A_d, b_ub=b_d, method=\"simplex\")\n",
    "ans_d"
   ]
  },
  {
   "cell_type": "code",
   "execution_count": null,
   "metadata": {},
   "outputs": [],
   "source": []
  }
 ],
 "metadata": {
  "kernelspec": {
   "display_name": "Python 3",
   "language": "python",
   "name": "python3"
  },
  "language_info": {
   "codemirror_mode": {
    "name": "ipython",
    "version": 3
   },
   "file_extension": ".py",
   "mimetype": "text/x-python",
   "name": "python",
   "nbconvert_exporter": "python",
   "pygments_lexer": "ipython3",
   "version": "3.7.7"
  }
 },
 "nbformat": 4,
 "nbformat_minor": 4
}
