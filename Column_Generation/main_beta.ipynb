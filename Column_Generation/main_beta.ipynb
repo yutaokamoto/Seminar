{
 "cells": [
  {
   "cell_type": "code",
   "execution_count": 154,
   "metadata": {},
   "outputs": [
    {
     "name": "stdout",
     "output_type": "stream",
     "text": [
      "items :  [2, 2, 2, 2, 3, 3, 4, 4, 4, 4, 4, 4, 5, 5, 5, 5, 5, 5, 6, 6, 7, 7, 8, 8] \n",
      " the requirement number of items :  [4, 2, 6, 6, 2, 2, 2] \n",
      " the capacity of bins :  9\n"
     ]
    }
   ],
   "source": [
    "#Bin Packing problem\n",
    "#Cutting stock problem\n",
    "def BinPackingExamples():\n",
    "    \"\"\"\n",
    "    Generate a bin packing problem example.\n",
    "    input : none\n",
    "    ouput :\n",
    "        s : the set of items.\n",
    "        B : the capacity of bins.\n",
    "    \"\"\"\n",
    "    B = 9\n",
    "    w = [2,3,4,5,6,7,8] #アイテムの大きさ\n",
    "    q = [4,2,6,6,2,2,2] #アイテムの必要量\n",
    "    s=[]\n",
    "    for j in range(len(w)):\n",
    "        for i in range(q[j]):\n",
    "            s.append(w[j])\n",
    "    return s, w, q, B\n",
    "\n",
    "s, w, q, B = BinPackingExamples()\n",
    "print(\"items : \", s, \"\\n the requirement number of items : \", q, \"\\n the capacity of bins : \", B)"
   ]
  },
  {
   "cell_type": "markdown",
   "metadata": {},
   "source": [
    "# 主問題(ビンパッキング/カッティングストック問題)が実行可能となるようなパッキング・カッティングパターンの集合を作る"
   ]
  },
  {
   "cell_type": "code",
   "execution_count": 155,
   "metadata": {},
   "outputs": [
    {
     "name": "stdout",
     "output_type": "stream",
     "text": [
      "Initial Cutting Pattern : \n",
      " [[4, 0, 0, 0, 0, 0, 0], [0, 3, 0, 0, 0, 0, 0], [0, 0, 2, 0, 0, 0, 0], [0, 0, 0, 1, 0, 0, 0], [0, 0, 0, 0, 1, 0, 0], [0, 0, 0, 0, 0, 1, 0], [0, 0, 0, 0, 0, 0, 1]]\n"
     ]
    }
   ],
   "source": [
    "#Initial set of cutting pattern\n",
    "#各種類のアイテムを1種類だけ使うというパターンを生成．\n",
    "t=[]\n",
    "m = len(w)\n",
    "for i in range(m):\n",
    "    pat = [0]*m\n",
    "    pat[i] = int(B/w[i])\n",
    "    t.append(pat)\n",
    "    \n",
    "print(\"Initial Cutting Pattern : \\n\", t)"
   ]
  },
  {
   "cell_type": "markdown",
   "metadata": {},
   "source": [
    "# 主問題(ビンパッキング/カッティングストック問題)の入力行列"
   ]
  },
  {
   "cell_type": "code",
   "execution_count": 156,
   "metadata": {},
   "outputs": [
    {
     "name": "stdout",
     "output_type": "stream",
     "text": [
      "[[4, 0, 0, 0, 0, 0, 0, 1, 0, 0, 0, 0, 0, 0], [0, 3, 0, 0, 0, 0, 0, 0, 1, 0, 0, 0, 0, 0], [0, 0, 2, 0, 0, 0, 0, 0, 0, 1, 0, 0, 0, 0], [0, 0, 0, 1, 0, 0, 0, 0, 0, 0, 1, 0, 0, 0], [0, 0, 0, 0, 1, 0, 0, 0, 0, 0, 0, 1, 0, 0], [0, 0, 0, 0, 0, 1, 0, 0, 0, 0, 0, 0, 1, 0], [0, 0, 0, 0, 0, 0, 1, 0, 0, 0, 0, 0, 0, 1]] \n",
      " [4, 2, 6, 6, 2, 2, 2] \n",
      " [1, 1, 1, 1, 1, 1, 1, 1, 1, 1, 1, 1, 1, 1]\n"
     ]
    }
   ],
   "source": [
    "E = [[0]*len(q)]*len(q)\n",
    "E = [[1 if idx_r==idx_c else 0 for idx_r, r in enumerate(E)] for idx_c, c in enumerate(r)]\n",
    "A = [r+[0]*(len(t[1])-(len(t[1])-idx))+[1]+[0]*(len(t[1])-idx-1) for idx,r in enumerate(t)]\n",
    "b = q\n",
    "c = [1]*(len(A[0]))\n",
    "\n",
    "#print(E, \"\\n\", constraints_lval, \"\\n\", constraints_rval, \"\\n\", obj_coefficient)\n",
    "\n",
    "print(A, \"\\n\", b, \"\\n\", c)"
   ]
  },
  {
   "cell_type": "code",
   "execution_count": 157,
   "metadata": {},
   "outputs": [
    {
     "data": {
      "text/plain": [
       "[[4, 0, 0, 0, 0, 0, 0, 1, 0, 0, 0, 0, 0, 0],\n",
       " [0, 3, 0, 0, 0, 0, 0, 0, 1, 0, 0, 0, 0, 0],\n",
       " [0, 0, 2, 0, 0, 0, 0, 0, 0, 1, 0, 0, 0, 0],\n",
       " [0, 0, 0, 1, 0, 0, 0, 0, 0, 0, 1, 0, 0, 0],\n",
       " [0, 0, 0, 0, 1, 0, 0, 0, 0, 0, 0, 1, 0, 0],\n",
       " [0, 0, 0, 0, 0, 1, 0, 0, 0, 0, 0, 0, 1, 0],\n",
       " [0, 0, 0, 0, 0, 0, 1, 0, 0, 0, 0, 0, 0, 1]]"
      ]
     },
     "execution_count": 157,
     "metadata": {},
     "output_type": "execute_result"
    }
   ],
   "source": [
    "A"
   ]
  },
  {
   "cell_type": "code",
   "execution_count": null,
   "metadata": {},
   "outputs": [],
   "source": []
  },
  {
   "cell_type": "code",
   "execution_count": 82,
   "metadata": {},
   "outputs": [
    {
     "data": {
      "text/plain": [
       "[[0, 0, 0, 0], [0, 0, 0, 0], [0, 0, 0, 0]]"
      ]
     },
     "execution_count": 82,
     "metadata": {},
     "output_type": "execute_result"
    }
   ],
   "source": [
    "#Preparation\n",
    "def simplextableau(c, A, b):\n",
    "    \"\"\"\n",
    "    input : \n",
    "        obj_coefficient : ベクトル [1,1, ... ,1]\n",
    "        constraints_lval : 行列 [-4, -3, ... ,-1]\n",
    "        constrains_rval : ベクトル [4,2, ... ,2]\n",
    "    output : tableau : 行列\n",
    "    \"\"\"\n",
    "    tableau = [[0]*(len(A[1])+2)]*(len(A[0])+1)\n",
    "    return tableau\n",
    "\n",
    "simplextableau(c, A, b)"
   ]
  },
  {
   "cell_type": "code",
   "execution_count": 61,
   "metadata": {
    "collapsed": true
   },
   "outputs": [
    {
     "ename": "UnboundLocalError",
     "evalue": "local variable 'simplextableau' referenced before assignment",
     "output_type": "error",
     "traceback": [
      "\u001b[0;31m---------------------------------------------------------------------------\u001b[0m",
      "\u001b[0;31mUnboundLocalError\u001b[0m                         Traceback (most recent call last)",
      "\u001b[0;32m<ipython-input-61-9a3b11959c85>\u001b[0m in \u001b[0;36m<module>\u001b[0;34m\u001b[0m\n\u001b[1;32m     13\u001b[0m     \u001b[0;32mreturn\u001b[0m \u001b[0mobj_val\u001b[0m\u001b[0;34m\u001b[0m\u001b[0;34m\u001b[0m\u001b[0m\n\u001b[1;32m     14\u001b[0m \u001b[0;34m\u001b[0m\u001b[0m\n\u001b[0;32m---> 15\u001b[0;31m \u001b[0mLinearRelaxation\u001b[0m\u001b[0;34m(\u001b[0m\u001b[0;34m[\u001b[0m\u001b[0;36m1\u001b[0m\u001b[0;34m]\u001b[0m\u001b[0;34m*\u001b[0m\u001b[0mlen\u001b[0m\u001b[0;34m(\u001b[0m\u001b[0mw\u001b[0m\u001b[0;34m)\u001b[0m\u001b[0;34m,\u001b[0m \u001b[0mlist\u001b[0m\u001b[0;34m(\u001b[0m\u001b[0mmax\u001b[0m\u001b[0;34m(\u001b[0m\u001b[0mpat\u001b[0m\u001b[0;34m)\u001b[0m \u001b[0;32mfor\u001b[0m \u001b[0mpat\u001b[0m \u001b[0;32min\u001b[0m \u001b[0mt\u001b[0m\u001b[0;34m)\u001b[0m\u001b[0;34m,\u001b[0m \u001b[0mw\u001b[0m\u001b[0;34m)\u001b[0m\u001b[0;34m\u001b[0m\u001b[0;34m\u001b[0m\u001b[0m\n\u001b[0m",
      "\u001b[0;32m<ipython-input-61-9a3b11959c85>\u001b[0m in \u001b[0;36mLinearRelaxation\u001b[0;34m(obj_coefficient, constraints_lval, constrains_rval)\u001b[0m\n\u001b[1;32m      9\u001b[0m     \u001b[0moutput\u001b[0m \u001b[0;34m:\u001b[0m \u001b[0mobj_val\u001b[0m \u001b[0;34m:\u001b[0m \u001b[0mスカラー\u001b[0m\u001b[0;34m\u001b[0m\u001b[0;34m\u001b[0m\u001b[0m\n\u001b[1;32m     10\u001b[0m     \"\"\"\n\u001b[0;32m---> 11\u001b[0;31m     \u001b[0msimplextableau\u001b[0m \u001b[0;34m=\u001b[0m \u001b[0msimplextableau\u001b[0m\u001b[0;34m(\u001b[0m\u001b[0mobj_coefficient\u001b[0m\u001b[0;34m,\u001b[0m \u001b[0mconstraints_lval\u001b[0m\u001b[0;34m,\u001b[0m \u001b[0mconstrains_rval\u001b[0m\u001b[0;34m)\u001b[0m\u001b[0;34m\u001b[0m\u001b[0;34m\u001b[0m\u001b[0m\n\u001b[0m\u001b[1;32m     12\u001b[0m     \u001b[0mobj_val\u001b[0m \u001b[0;34m=\u001b[0m \u001b[0msimplex\u001b[0m\u001b[0;34m(\u001b[0m\u001b[0msimplextableau\u001b[0m\u001b[0;34m)\u001b[0m\u001b[0;34m\u001b[0m\u001b[0;34m\u001b[0m\u001b[0m\n\u001b[1;32m     13\u001b[0m     \u001b[0;32mreturn\u001b[0m \u001b[0mobj_val\u001b[0m\u001b[0;34m\u001b[0m\u001b[0;34m\u001b[0m\u001b[0m\n",
      "\u001b[0;31mUnboundLocalError\u001b[0m: local variable 'simplextableau' referenced before assignment"
     ]
    }
   ],
   "source": [
    "#Linear Relaxation\n",
    "def LinearRelaxation(c, A, b):\n",
    "    \"\"\"\n",
    "    solve a linear relaxation problem.\n",
    "    input : \n",
    "        obj_coefficient : ベクトル [1,1, ... ,1]\n",
    "        constraints_lval : 行列 [-4, -3, ... ,-1]\n",
    "        constrains_rval : ベクトル [4,2, ... ,2]\n",
    "    output : obj_val : スカラー\n",
    "    \"\"\"\n",
    "    simplextableau = simplextableau(c, A, b)\n",
    "    obj_val = simplex(simplextableau)\n",
    "    return obj_val\n",
    "\n",
    "LinearRelaxation([1]*len(w), list(max(pat) for pat in t), w)"
   ]
  },
  {
   "cell_type": "code",
   "execution_count": null,
   "metadata": {},
   "outputs": [],
   "source": []
  },
  {
   "cell_type": "markdown",
   "metadata": {},
   "source": [
    "主問題(ビンパッキング/カッティングストック問題)の解を得る"
   ]
  },
  {
   "cell_type": "code",
   "execution_count": 188,
   "metadata": {},
   "outputs": [
    {
     "data": {
      "text/plain": [
       "     con: array([0., 0., 0., 0., 0., 0., 0.])\n",
       "     fun: 16.666666666666664\n",
       " message: 'Optimization terminated successfully.'\n",
       "     nit: 7\n",
       "   slack: array([], dtype=float64)\n",
       "  status: 0\n",
       " success: True\n",
       "       x: array([1.        , 0.66666667, 3.        , 6.        , 2.        ,\n",
       "       2.        , 2.        , 0.        , 0.        , 0.        ,\n",
       "       0.        , 0.        , 0.        , 0.        ])"
      ]
     },
     "execution_count": 188,
     "metadata": {},
     "output_type": "execute_result"
    }
   ],
   "source": [
    "from scipy.optimize import linprog\n",
    "ans = linprog(c, A_eq=A, b_eq=b, method=\"simplex\")\n",
    "ans"
   ]
  },
  {
   "cell_type": "markdown",
   "metadata": {},
   "source": [
    "# 双対変数を求める  \n",
    "https://docs.scipy.org/doc/scipy/reference/generated/scipy.optimize.linprog.html"
   ]
  },
  {
   "cell_type": "code",
   "execution_count": 229,
   "metadata": {
    "scrolled": true
   },
   "outputs": [
    {
     "name": "stdout",
     "output_type": "stream",
     "text": [
      "[[4, 0, 0, 0, 0, 0, 0], [0, 3, 0, 0, 0, 0, 0], [0, 0, 2, 0, 0, 0, 0], [0, 0, 0, 1, 0, 0, 0], [0, 0, 0, 0, 1, 0, 0], [0, 0, 0, 0, 0, 1, 0], [0, 0, 0, 0, 0, 0, 1]] \n",
      " [1, 1, 1, 1, 1, 1, 1] \n",
      " [-1, -1, -1, -1, -1, -1, -1]\n"
     ]
    }
   ],
   "source": [
    "A_d = t\n",
    "b_d = [1]*len(A_d)\n",
    "c_d = [-1]*(len(A_d)) #使うモジュールの関係で目的関数が必ずminになる\n",
    "\n",
    "#print(E, \"\\n\", constraints_lval, \"\\n\", constraints_rval, \"\\n\", obj_coefficient)\n",
    "\n",
    "print(A_d, \"\\n\", b_d, \"\\n\", c_d)"
   ]
  },
  {
   "cell_type": "code",
   "execution_count": 232,
   "metadata": {},
   "outputs": [
    {
     "data": {
      "text/plain": [
       "     con: array([], dtype=float64)\n",
       "     fun: -5.083333333333333\n",
       " message: 'The solution was determined in presolve as there are no non-trivial constraints.'\n",
       "     nit: 0\n",
       "   slack: array([0., 0., 0., 0., 0., 0., 0.])\n",
       "  status: 0\n",
       " success: True\n",
       "       x: array([0.25      , 0.33333333, 0.5       , 1.        , 1.        ,\n",
       "       1.        , 1.        ])"
      ]
     },
     "execution_count": 232,
     "metadata": {},
     "output_type": "execute_result"
    }
   ],
   "source": [
    "ans_d = linprog(c_d, A_ub=A_d, b_ub=b_d, method=\"simplex\")\n",
    "ans_d"
   ]
  },
  {
   "cell_type": "markdown",
   "metadata": {},
   "source": [
    "# ナップサック問題を解いて，良いパッキングを見つける"
   ]
  },
  {
   "cell_type": "code",
   "execution_count": 269,
   "metadata": {
    "scrolled": true
   },
   "outputs": [
    {
     "name": "stdout",
     "output_type": "stream",
     "text": [
      "[2, 3, 4, 5, 6, 7, 8] \n",
      " 9 \n",
      " [0.25, 0.3333333333333333, 0.5, 1.0, 1.0, 1.0, 1.0]\n"
     ]
    }
   ],
   "source": [
    "A_kp = w\n",
    "b_kp = B\n",
    "c_kp = list(ans.x)#list(map(lambda x: -x, list(ans.x)))\n",
    "\n",
    "print(A_kp, \"\\n\", b_kp, \"\\n\", c_kp)"
   ]
  },
  {
   "cell_type": "code",
   "execution_count": 277,
   "metadata": {},
   "outputs": [
    {
     "name": "stdout",
     "output_type": "stream",
     "text": [
      "[(1, 9.0), (0, 8.0), (2, 8.0), (6, 8.0), (5, 7.0), (4, 6.0), (3, 5.0)]\n"
     ]
    }
   ],
   "source": [
    "Idx = list(range(len(A_kp)))\n",
    "v_per_w = {idx:value/weight for idx,value,weight in zip(Idx, A_kp, c_kp)}\n",
    "v_per_w = sorted(v_per_w.items(), key=lambda x:x[1], reverse=True)\n",
    "#v_per_w.sort()\n",
    "print(v_per_w)"
   ]
  },
  {
   "cell_type": "code",
   "execution_count": null,
   "metadata": {},
   "outputs": [],
   "source": []
  }
 ],
 "metadata": {
  "kernelspec": {
   "display_name": "Python 3",
   "language": "python",
   "name": "python3"
  },
  "language_info": {
   "codemirror_mode": {
    "name": "ipython",
    "version": 3
   },
   "file_extension": ".py",
   "mimetype": "text/x-python",
   "name": "python",
   "nbconvert_exporter": "python",
   "pygments_lexer": "ipython3",
   "version": "3.7.7"
  }
 },
 "nbformat": 4,
 "nbformat_minor": 4
}
