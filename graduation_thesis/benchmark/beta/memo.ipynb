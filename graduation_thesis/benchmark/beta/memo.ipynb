{
 "cells": [
  {
   "cell_type": "code",
   "execution_count": 11,
   "metadata": {},
   "outputs": [
    {
     "data": {
      "text/plain": [
       "False"
      ]
     },
     "execution_count": 11,
     "metadata": {},
     "output_type": "execute_result"
    }
   ],
   "source": [
    "{0}&set([1,2,3,4,5])!=set()"
   ]
  },
  {
   "cell_type": "code",
   "execution_count": 7,
   "metadata": {},
   "outputs": [
    {
     "data": {
      "text/plain": [
       "[(2,), (3, 4), (2,)]"
      ]
     },
     "execution_count": 7,
     "metadata": {},
     "output_type": "execute_result"
    }
   ],
   "source": [
    "M=[(0,),(1,2),(3,4,5),(2,)]\n",
    "I=[2,3,4]\n",
    "M_prime = list(tuple(set(I)&set(g)) for g in M if len(set(I)&set(g))!=0)\n",
    "M_prime"
   ]
  },
  {
   "cell_type": "code",
   "execution_count": 10,
   "metadata": {},
   "outputs": [
    {
     "name": "stdout",
     "output_type": "stream",
     "text": [
      "[0]\n"
     ]
    }
   ],
   "source": [
    "I = [0,1,2,3,4,5,6,7]\n",
    "g = (0,1,2)\n",
    "E = [(0,1),(0,2),(0,3),(0,4),(1,2)]\n",
    "E_dict = {0:(1,2,3,4),1:(2,),2:(3,)}\n",
    "max_degree = max(g,key=lambda x:len(E_dict[x])) #グループg内で最もコンフリクトの数が多いアイテムiを選ぶ\n",
    "g_i = list(set(g)&(set(I)-set(E_dict[max_degree])))\n",
    "print(g_i)\n",
    "\n",
    "#nonconf_E = [(i,j) for i in I for j in I if (i!=j and {(i,j),(j,i)}&set(E)==set())]\n",
    "#print(nonconf_E)"
   ]
  },
  {
   "cell_type": "code",
   "execution_count": 4,
   "metadata": {},
   "outputs": [
    {
     "data": {
      "text/plain": [
       "False"
      ]
     },
     "execution_count": 4,
     "metadata": {},
     "output_type": "execute_result"
    }
   ],
   "source": [
    "3 in {0,1,2}"
   ]
  },
  {
   "cell_type": "code",
   "execution_count": 2,
   "metadata": {},
   "outputs": [
    {
     "data": {
      "text/plain": [
       "False"
      ]
     },
     "execution_count": 2,
     "metadata": {},
     "output_type": "execute_result"
    }
   ],
   "source": [
    "(0,3) in {(0,1),(0,2)}"
   ]
  },
  {
   "cell_type": "code",
   "execution_count": null,
   "metadata": {},
   "outputs": [],
   "source": []
  }
 ],
 "metadata": {
  "kernelspec": {
   "display_name": "Python 3",
   "language": "python",
   "name": "python3"
  },
  "language_info": {
   "codemirror_mode": {
    "name": "ipython",
    "version": 3
   },
   "file_extension": ".py",
   "mimetype": "text/x-python",
   "name": "python",
   "nbconvert_exporter": "python",
   "pygments_lexer": "ipython3",
   "version": "3.6.8"
  }
 },
 "nbformat": 4,
 "nbformat_minor": 2
}
