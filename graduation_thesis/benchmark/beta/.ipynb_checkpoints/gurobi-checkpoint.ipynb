{
 "cells": [
  {
   "cell_type": "markdown",
   "metadata": {},
   "source": [
    "# ソルバーの実行"
   ]
  },
  {
   "cell_type": "markdown",
   "metadata": {},
   "source": [
    "## 準備"
   ]
  },
  {
   "cell_type": "code",
   "execution_count": null,
   "metadata": {},
   "outputs": [],
   "source": [
    "import gurobi as gp\n",
    "import datetime\n",
    "import random\n",
    "import numpy as np\n",
    "random.seed(1)\n",
    "import os"
   ]
  },
  {
   "cell_type": "code",
   "execution_count": 2,
   "metadata": {},
   "outputs": [],
   "source": [
    "def group(i,l): # アイテムiがグループGに属しているかどうかをバイナリで返す関数\n",
    "    for j in l:\n",
    "        for k in j:\n",
    "            if k==i:\n",
    "                return 1\n",
    "            else:\n",
    "                return 0"
   ]
  },
  {
   "cell_type": "code",
   "execution_count": 3,
   "metadata": {},
   "outputs": [],
   "source": [
    "def group(i,l): # アイテムiがグループGに属しているかどうかをバイナリで返す関数\n",
    "    if i in l:\n",
    "        return 1\n",
    "    else:\n",
    "        return 0"
   ]
  },
  {
   "cell_type": "code",
   "execution_count": 7,
   "metadata": {},
   "outputs": [],
   "source": [
    "def solve(moel_name,n,w,C,E,M,r,bin_cost):\n",
    "    model = gp.Model(name = model_name)\n",
    "    model.setParam('TimeLimit', 3000) #制限時間\n",
    "    #解\n",
    "    ans_x = {}\n",
    "    ans_y = {}\n",
    "    ans_b = {}\n",
    "    #定数定義\n",
    "    m = len(M)\n",
    "    z = {}\n",
    "    #変数定義\n",
    "    x = {}\n",
    "    y = {}\n",
    "    b = {}\n",
    "    for l in range(m):\n",
    "        for k in range(n):\n",
    "            y[k] = model.addVar(lb=0, ub=1, vtype='B', name='y[%s]'%k)\n",
    "            b[k,l] = model.addVar(lb=0, ub=1, vtype='B', name='b[%s,%s]'%(k,l))\n",
    "            for i in range(n):\n",
    "                x[i,k] = model.addVar(lb=0, ub=1, vtype='B', name='x[%s,%s]'%(i,k))\n",
    "                z[i,l] = group(i,M[l])\n",
    "                #if l==0 and z[i,l]==1:\n",
    "                    #print(i)\n",
    "                \n",
    "    #print(z)\n",
    "    model.update()\n",
    "        \n",
    "    #目的関数\n",
    "    ##model.setObjective(gp.quicksum(bin_cost*y[k] for k in range(n)) + gp.quicksum(r[l]*gp.quicksum(b[k,l] for k in range(n)) for l in range(m)) - sum(r), sense=gp.GRB.MINIMIZE)\n",
    "    model.setObjective(gp.quicksum(y[k] for k in range(n)) + gp.quicksum(gp.quicksum(r[l]*b[k,l] for l in range(m)) for k in range(n)) - sum(r), sense=gp.GRB.MINIMIZE)\n",
    "\n",
    "    #制約式\n",
    "    for k in range(n):\n",
    "        model.addConstr(gp.quicksum(w[i]*x[i,k] for i in range(n))<=C*y[k], 'Binlimit[%s]'%k) #ビンの容量を超えない\n",
    "    for i in range(n):\n",
    "        model.addConstr(gp.quicksum(x[i,k] for k in range(n))==1, 'Assign[%s]'%i) #すべてのアイテムはビンに詰め込まれている\n",
    "        for k in range(n):\n",
    "            model.addConstr(x[i,k]<=y[k], 'Strong[%s,%s]'%(i,k)) #強い定式化\n",
    "    for e in E:\n",
    "        for k in range(n):\n",
    "            model.addConstr(x[e[0],k]+x[e[1],k]<=1,'Conflict[%s,%s]'%(e[0],e[1])) #コンフリクト\n",
    "    for k in range(n):\n",
    "        for l in range(m):\n",
    "            for j in range(n):\n",
    "                model.addConstr(b[k,l]>=x[j,k]*z[j,l],'Group[%s]'%l) #同じグループに属するアイテムは同じビンに割り当てられる\n",
    "    \n",
    "    #解の出力\n",
    "    ##print(\"↓点線の間に、Gurobi Optimizerからログが出力\")\n",
    "    ##print(\"-\" * 100)\n",
    "\n",
    "    model.optimize()\n",
    "    #model.write(f\"{model_name}.rlp\")\n",
    "    \n",
    "    ##print(\"-\" * 100)\n",
    "    ##print()\n",
    "    \n",
    "    if model.Status == gp.GRB.OPTIMAL:\n",
    "        for v in model.getVars():\n",
    "            if \"x\" in v.varName:\n",
    "                #print(\"%s = %g\"%(v.varName,v.x))\n",
    "                ans_x[v.varName] = int(v.x)\n",
    "            if \"y\" in v.varName:\n",
    "                ans_y[v.varName] = int(v.x)\n",
    "            if \"b\" in v.varName:\n",
    "                ans_b[v.varName] = int(v.x)\n",
    "\n",
    "        #print('Opt Value = ', model.ObjVal)\n",
    "        print(\"x\",ans_x)\n",
    "        print(\"bin\\t\",sum(ans_y.values()))\n",
    "        print(\"penalty\\t\",sum(ans_b.values())*r[0])\n",
    "        print(\"Objective value\\t\",sum(ans_y.values())+(sum(ans_b.values()))*r[0]-sum(r))\n",
    "\n",
    "        return model.ObjVal"
   ]
  },
  {
   "cell_type": "code",
   "execution_count": 8,
   "metadata": {},
   "outputs": [
    {
     "data": {
      "text/plain": [
       "'/Users/yutaokamoto/Desktop/yutaokamoto_mac/Seminar/benchmark'"
      ]
     },
     "execution_count": 8,
     "metadata": {},
     "output_type": "execute_result"
    }
   ],
   "source": [
    "#入力, 出力を書き出す階層を指定\n",
    "path = os.path.abspath(\".\")\n",
    "path"
   ]
  },
  {
   "cell_type": "code",
   "execution_count": null,
   "metadata": {
    "scrolled": true
   },
   "outputs": [
    {
     "name": "stdout",
     "output_type": "stream",
     "text": [
      "Changed value of parameter TimeLimit to 3000.0\n",
      "   Prev: 1e+100  Min: 0.0  Max: 1e+100  Default: 1e+100\n",
      "Optimize a model with 129840 rows, 117120 columns and 187320 nonzeros\n",
      "Variable types: 0 continuous, 117120 integer (117120 binary)\n",
      "Coefficient statistics:\n",
      "  Matrix range     [1e+00, 2e+02]\n",
      "  Objective range  [2e-01, 1e+00]\n",
      "  Bounds range     [1e+00, 1e+00]\n",
      "  RHS range        [1e+00, 1e+00]\n",
      "Found heuristic solution: objective 105.0000000\n",
      "Presolve removed 107400 rows and 101880 columns\n",
      "Presolve time: 0.70s\n",
      "Presolved: 22440 rows, 15240 columns, 117360 nonzeros\n",
      "Variable types: 0 continuous, 15240 integer (15240 binary)\n",
      "\n",
      "Deterministic concurrent LP optimizer: primal and dual simplex\n",
      "Showing first log only...\n",
      "\n",
      "Concurrent spin time: 0.57s\n",
      "\n",
      "Solved with primal simplex\n",
      "\n",
      "Root relaxation: objective 4.945333e+01, 14461 iterations, 2.01 seconds\n",
      "Total elapsed time = 6.06s\n",
      "Total elapsed time = 13.44s\n",
      "\n",
      "    Nodes    |    Current Node    |     Objective Bounds      |     Work\n",
      " Expl Unexpl |  Obj  Depth IntInf | Incumbent    BestBd   Gap | It/Node Time\n",
      "\n",
      "     0     0   49.45333    0  447  105.00000   49.45333  52.9%     -   13s\n",
      "\n",
      "Explored 0 nodes (57534 simplex iterations) in 13.51 seconds\n",
      "Thread count was 8 (of 8 available processors)\n",
      "\n",
      "Solution count 1: 105 \n",
      "\n",
      "Solve interrupted\n",
      "Best objective 1.050000000000e+02, best bound 4.960000000000e+01, gap 52.7619%\n",
      "Changed value of parameter TimeLimit to 3000.0\n",
      "   Prev: 1e+100  Min: 0.0  Max: 1e+100  Default: 1e+100\n",
      "Optimize a model with 142200 rows, 117120 columns and 212040 nonzeros\n",
      "Variable types: 0 continuous, 117120 integer (117120 binary)\n",
      "Coefficient statistics:\n",
      "  Matrix range     [1e+00, 2e+02]\n",
      "  Objective range  [2e-01, 1e+00]\n",
      "  Bounds range     [1e+00, 1e+00]\n",
      "  RHS range        [1e+00, 1e+00]\n",
      "Found heuristic solution: objective 105.0000000\n",
      "Presolve removed 120703 rows and 101880 columns\n",
      "Presolve time: 0.93s\n",
      "Presolved: 21497 rows, 15240 columns, 139730 nonzeros\n",
      "Variable types: 0 continuous, 15240 integer (15240 binary)\n",
      "\n",
      "Deterministic concurrent LP optimizer: primal and dual simplex\n",
      "Showing first log only...\n",
      "\n",
      "\n",
      "\n",
      "Root relaxation: interrupted, 13780 iterations, 1.15 seconds\n",
      "\n",
      "    Nodes    |    Current Node    |     Objective Bounds      |     Work\n",
      " Expl Unexpl |  Obj  Depth IntInf | Incumbent    BestBd   Gap | It/Node Time\n",
      "\n",
      "     0     0          -    0       105.00000   -1.60000   102%     -    2s\n",
      "\n",
      "Explored 0 nodes (13780 simplex iterations) in 2.14 seconds\n",
      "Thread count was 8 (of 8 available processors)\n",
      "\n",
      "Solution count 1: 105 \n",
      "\n",
      "Solve interrupted\n",
      "Best objective 1.050000000000e+02, best bound -1.600000000000e+00, gap 101.5238%\n",
      "Changed value of parameter TimeLimit to 3000.0\n",
      "   Prev: 1e+100  Min: 0.0  Max: 1e+100  Default: 1e+100\n",
      "Optimize a model with 193440 rows, 117120 columns and 314520 nonzeros\n",
      "Variable types: 0 continuous, 117120 integer (117120 binary)\n",
      "Coefficient statistics:\n",
      "  Matrix range     [1e+00, 2e+02]\n",
      "  Objective range  [2e-01, 1e+00]\n",
      "  Bounds range     [1e+00, 1e+00]\n",
      "  RHS range        [1e+00, 1e+00]\n"
     ]
    }
   ],
   "source": [
    "for instance_name in [\"w120\",\"w250\",\"w500\",\"w1000\"]:\n",
    "    for instance_number in range(10):\n",
    "        for density in range(10):\n",
    "            \n",
    "            if (instance_name==\"w120\") and (instance_number==0) and (density==0 or density==1 or density==2):################################\n",
    "                \n",
    "                n = 0\n",
    "                V = []\n",
    "                C = 150\n",
    "                w = []\n",
    "                E = []\n",
    "                M = []\n",
    "                group_split_cost = 1\n",
    "                r = []\n",
    "                bin_cost = 5\n",
    "                ans_x = []\n",
    "                ans_y = []\n",
    "                \n",
    "                file_input = path + \"/\" + \"input\" + \"/\" + str(\"i\"+str(instance_name[1:])) + \"_\"  + str(\"n\"+str(instance_number)) + \"_\"  + str(\"d\"+str(int(density*10))) + \".txt\" #インスタンスの規模_インスタンスの番号_グラフの密度\n",
    "                with open(file_input,mode=\"r\") as f:\n",
    "                    for line in f:\n",
    "                        if \"Number of items\\t\" in line:\n",
    "                            n = int(line.split(\"\\t\")[-2])\n",
    "                            V = list(range(n))\n",
    "                        elif \"Capacity of bins\\t\" in line:\n",
    "                            C = int(line.split(\"\\t\")[-2])\n",
    "                        elif \"w\\t\" in line:\n",
    "                            w.append(int(line.split(\"\\t\")[-1]))\n",
    "                        elif \"e\\t\" in line:\n",
    "                            E.append(tuple(map(int,line.split(\"\\t\")[-1].rstrip(\"\\n\").strip(\"(\").strip(\")\").split(\",\"))))\n",
    "                        elif \"g\\t\" in line:\n",
    "                            M.append(tuple(map(int,line.split(\"\\t\")[-1].rstrip(\"\\n\").strip(\"(\").strip(\")\").strip(\",\").split(\",\"))))\n",
    "                        elif \"Costs of spliting groups\\t\" in line:\n",
    "                            r = [int(i) for i in line.split(\"\\t\")[-2][1:-1].split(\",\")]\n",
    "                        elif \"Costs of using bins\\t\" in line:\n",
    "                            bin_cost = int(line.split(\"\\t\")[-2])\n",
    "                            \n",
    "                #print(M[0])\n",
    "                \n",
    "                #コンフリクト\n",
    "                conf={}\n",
    "                n_conf = len(E)\n",
    "                for i in range(n_conf):\n",
    "                    temp = [0]*n\n",
    "                    temp[E[i][0]-1] = 1\n",
    "                    temp[E[i][1]-1] = 1\n",
    "                    conf[f\"conf{i}\"] = temp\n",
    "\n",
    "                file_output =  path + \"/\" + \"output\" + \"/\" + \"Gurobi\" + \"/\" + str(\"i\"+str(instance_name[1:])) + \"_\"  + str(\"n\"+str(instance_number)) + \"_\"  + str(\"d\"+str(int(density*10))) + \"_\" + \"3000s\" + \".txt\"\n",
    "                model_name = str(file_output)\n",
    "\n",
    "                objval = 0\n",
    "                r = list(map(lambda x:x/bin_cost,r))\n",
    "                bin_cost = bin_cost/bin_cost\n",
    "                objval = solve(model_name,n,w,C,E,M,r,bin_cost)\n",
    "                \n",
    "                with open(file_output,mode=\"w\") as f:\n",
    "                    f.write(\"Object value\\t\"+str(objval)+\"\\n\\n\")"
   ]
  },
  {
   "cell_type": "markdown",
   "metadata": {},
   "source": [
    "# 解の図示 "
   ]
  },
  {
   "cell_type": "markdown",
   "metadata": {},
   "source": [
    "## ビンごとに辞書に登録 "
   ]
  },
  {
   "cell_type": "code",
   "execution_count": 21,
   "metadata": {},
   "outputs": [
    {
     "data": {
      "text/plain": [
       "{0: [0]}"
      ]
     },
     "execution_count": 21,
     "metadata": {},
     "output_type": "execute_result"
    }
   ],
   "source": [
    "node_dict = {}\n",
    "for Item,Bin in ans_x:\n",
    "    if ans_x[Item,Bin] == 1:\n",
    "        Item = int(Item)\n",
    "        Bin = int(Bin)\n",
    "        try:\n",
    "            node_dict[Bin] = node_dict[Bin] + [Item]\n",
    "        except:\n",
    "            node_dict[Bin] = [Item]\n",
    "        \n",
    "node_dict"
   ]
  },
  {
   "cell_type": "code",
   "execution_count": 16,
   "metadata": {},
   "outputs": [
    {
     "data": {
      "text/plain": [
       "{0: [0]}"
      ]
     },
     "execution_count": 16,
     "metadata": {},
     "output_type": "execute_result"
    }
   ],
   "source": [
    "node_dict = {}\n",
    "for Item,Bin in ans_x:\n",
    "    if ans_x[Item,Bin] == 1:\n",
    "        Item = int(Item)\n",
    "        Bin = int(Bin)\n",
    "        node_dict.setdefault(Bin,[])\n",
    "        node_dict[Bin] = node_dict[Bin] + [Item]\n",
    "    \n",
    "node_dict"
   ]
  },
  {
   "cell_type": "code",
   "execution_count": 17,
   "metadata": {},
   "outputs": [
    {
     "data": {
      "text/plain": [
       "{0: [0]}"
      ]
     },
     "execution_count": 17,
     "metadata": {},
     "output_type": "execute_result"
    }
   ],
   "source": [
    "node_dict = {}\n",
    "for Item,Bin in ans_x:\n",
    "    if ans_x[Item,Bin] == 1:\n",
    "        Item = int(Item)\n",
    "        Bin = int(Bin)\n",
    "        node_dict[Bin] = node_dict.setdefault(Bin,[]) + [Item]\n",
    "    \n",
    "node_dict"
   ]
  },
  {
   "cell_type": "markdown",
   "metadata": {},
   "source": [
    "## 描画"
   ]
  },
  {
   "cell_type": "code",
   "execution_count": 18,
   "metadata": {},
   "outputs": [],
   "source": [
    "import networkx as nx\n",
    "import matplotlib\n",
    "import matplotlib.pyplot as plt\n",
    "matplotlib.use(\"Agg\")\n",
    "import random\n",
    "G = nx.Graph()\n",
    "\n",
    "for v in range(n): # グラフにノードを追加\n",
    "    G.add_node(v)\n",
    "    \n",
    "pos = nx.spring_layout(G, k=1)\n",
    "plt.figure(figsize=(10,10))\n",
    "\n",
    "\n",
    "for l in node_dict.values():\n",
    "    node_color = random.sample(matplotlib.colors.cnames.keys(),1)\n",
    "    nx.draw_networkx_nodes(G, pos, nodelist=[i for i in l], node_color=node_color, alpha=0.6, node_size=4000)\n",
    "    nx.draw_networkx_labels(G, pos, font_size=50, font_family=\"Yu Gothic\", font_weight=\"bold\")\n",
    "    \n",
    "%matplotlib inline\n",
    "plt.show()\n",
    "#plt.savefig(\"figure.png\")"
   ]
  },
  {
   "cell_type": "code",
   "execution_count": 19,
   "metadata": {},
   "outputs": [
    {
     "ename": "KeyError",
     "evalue": "('10', '0')",
     "output_type": "error",
     "traceback": [
      "\u001b[0;31m---------------------------------------------------------------------------\u001b[0m",
      "\u001b[0;31mKeyError\u001b[0m                                  Traceback (most recent call last)",
      "\u001b[0;32m<ipython-input-19-abc397358711>\u001b[0m in \u001b[0;36m<module>\u001b[0;34m\u001b[0m\n\u001b[1;32m     14\u001b[0m     \u001b[0mnode_color\u001b[0m \u001b[0;34m=\u001b[0m \u001b[0mrandom\u001b[0m\u001b[0;34m.\u001b[0m\u001b[0msample\u001b[0m\u001b[0;34m(\u001b[0m\u001b[0mmatplotlib\u001b[0m\u001b[0;34m.\u001b[0m\u001b[0mcolors\u001b[0m\u001b[0;34m.\u001b[0m\u001b[0mcnames\u001b[0m\u001b[0;34m.\u001b[0m\u001b[0mkeys\u001b[0m\u001b[0;34m(\u001b[0m\u001b[0;34m)\u001b[0m\u001b[0;34m,\u001b[0m\u001b[0;36m1\u001b[0m\u001b[0;34m)\u001b[0m\u001b[0;34m\u001b[0m\u001b[0;34m\u001b[0m\u001b[0m\n\u001b[1;32m     15\u001b[0m     \u001b[0;32mfor\u001b[0m \u001b[0mi\u001b[0m \u001b[0;32min\u001b[0m \u001b[0mrange\u001b[0m\u001b[0;34m(\u001b[0m\u001b[0mn\u001b[0m\u001b[0;34m)\u001b[0m\u001b[0;34m:\u001b[0m\u001b[0;34m\u001b[0m\u001b[0;34m\u001b[0m\u001b[0m\n\u001b[0;32m---> 16\u001b[0;31m         \u001b[0;32mif\u001b[0m \u001b[0mans_x\u001b[0m\u001b[0;34m[\u001b[0m\u001b[0mstr\u001b[0m\u001b[0;34m(\u001b[0m\u001b[0mi\u001b[0m\u001b[0;34m)\u001b[0m\u001b[0;34m,\u001b[0m\u001b[0mstr\u001b[0m\u001b[0;34m(\u001b[0m\u001b[0mb\u001b[0m\u001b[0;34m)\u001b[0m\u001b[0;34m]\u001b[0m\u001b[0;34m==\u001b[0m\u001b[0;36m1\u001b[0m\u001b[0;34m:\u001b[0m\u001b[0;34m\u001b[0m\u001b[0;34m\u001b[0m\u001b[0m\n\u001b[0m\u001b[1;32m     17\u001b[0m             \u001b[0mnx\u001b[0m\u001b[0;34m.\u001b[0m\u001b[0mdraw_networkx_nodes\u001b[0m\u001b[0;34m(\u001b[0m\u001b[0mG\u001b[0m\u001b[0;34m,\u001b[0m \u001b[0mpos\u001b[0m\u001b[0;34m,\u001b[0m \u001b[0mnodelist\u001b[0m\u001b[0;34m=\u001b[0m\u001b[0;34m[\u001b[0m\u001b[0mi\u001b[0m\u001b[0;34m]\u001b[0m\u001b[0;34m,\u001b[0m\u001b[0mnode_color\u001b[0m\u001b[0;34m=\u001b[0m\u001b[0mnode_color\u001b[0m\u001b[0;34m,\u001b[0m \u001b[0malpha\u001b[0m\u001b[0;34m=\u001b[0m\u001b[0;36m0.6\u001b[0m\u001b[0;34m,\u001b[0m \u001b[0mnode_size\u001b[0m\u001b[0;34m=\u001b[0m\u001b[0;36m4000\u001b[0m\u001b[0;34m)\u001b[0m\u001b[0;34m\u001b[0m\u001b[0;34m\u001b[0m\u001b[0m\n\u001b[1;32m     18\u001b[0m             \u001b[0mnx\u001b[0m\u001b[0;34m.\u001b[0m\u001b[0mdraw_networkx_labels\u001b[0m\u001b[0;34m(\u001b[0m\u001b[0mG\u001b[0m\u001b[0;34m,\u001b[0m \u001b[0mpos\u001b[0m\u001b[0;34m,\u001b[0m \u001b[0mfont_size\u001b[0m\u001b[0;34m=\u001b[0m\u001b[0;36m50\u001b[0m\u001b[0;34m,\u001b[0m \u001b[0mfont_family\u001b[0m\u001b[0;34m=\u001b[0m\u001b[0;34m\"Yu Gothic\"\u001b[0m\u001b[0;34m,\u001b[0m \u001b[0mfont_weight\u001b[0m\u001b[0;34m=\u001b[0m\u001b[0;34m\"bold\"\u001b[0m\u001b[0;34m)\u001b[0m\u001b[0;34m\u001b[0m\u001b[0;34m\u001b[0m\u001b[0m\n",
      "\u001b[0;31mKeyError\u001b[0m: ('10', '0')"
     ]
    },
    {
     "name": "stderr",
     "output_type": "stream",
     "text": [
      "findfont: Font family ['Yu Gothic'] not found. Falling back to DejaVu Sans.\n"
     ]
    }
   ],
   "source": [
    "import networkx as nx\n",
    "import matplotlib\n",
    "import matplotlib.pyplot as plt\n",
    "matplotlib.use(\"Agg\")\n",
    "import random\n",
    "G = nx.Graph()\n",
    "\n",
    "for v in range(n): # グラフにノードを追加\n",
    "    G.add_node(v)\n",
    "    \n",
    "plt.figure(figsize=(10,10))\n",
    "\n",
    "for b in range(n):\n",
    "    node_color = random.sample(matplotlib.colors.cnames.keys(),1)\n",
    "    for i in range(n):\n",
    "        if ans_x[str(i),str(b)]==1:\n",
    "            nx.draw_networkx_nodes(G, pos, nodelist=[i],node_color=node_color, alpha=0.6, node_size=4000)\n",
    "            nx.draw_networkx_labels(G, pos, font_size=50, font_family=\"Yu Gothic\", font_weight=\"bold\")\n",
    "\n",
    "plt.show()\n",
    "#plt.savefig(\"figure.png\")"
   ]
  },
  {
   "cell_type": "code",
   "execution_count": null,
   "metadata": {},
   "outputs": [],
   "source": [
    "import networkx as nx\n",
    "import matplotlib\n",
    "import matplotlib.pyplot as plt\n",
    "matplotlib.use(\"Agg\")\n",
    "import random\n",
    "G = nx.Graph()\n",
    "\n",
    "for v in range(n): # グラフにノードを追加\n",
    "    G.add_node(v)\n",
    "    \n",
    "plt.figure(figsize=(10,10))\n",
    "\n",
    "for b in map(lambda x:x[1],ans_x.keys()):\n",
    "    node_color = random.sample(matplotlib.colors.cnames.keys(),1)\n",
    "    for i in list(set(map(lambda x:x[0],ans_x.keys()))):\n",
    "        if ans_x[str(i),str(b)]==1:\n",
    "            nx.draw_networkx_nodes(G, pos, nodelist=[int(i)],node_color=node_color, alpha=0.6, node_size=4000)\n",
    "            nx.draw_networkx_labels(G, pos, font_size=50, font_family=\"Yu Gothic\", font_weight=\"bold\")\n",
    "\n",
    "plt.show()\n",
    "#plt.savefig(\"figure.png\")"
   ]
  },
  {
   "cell_type": "code",
   "execution_count": null,
   "metadata": {},
   "outputs": [],
   "source": []
  }
 ],
 "metadata": {
  "kernelspec": {
   "display_name": "Python 3",
   "language": "python",
   "name": "python3"
  },
  "language_info": {
   "codemirror_mode": {
    "name": "ipython",
    "version": 3
   },
   "file_extension": ".py",
   "mimetype": "text/x-python",
   "name": "python",
   "nbconvert_exporter": "python",
   "pygments_lexer": "ipython3",
   "version": "3.7.4"
  }
 },
 "nbformat": 4,
 "nbformat_minor": 4
}
