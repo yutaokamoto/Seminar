{
 "cells": [
  {
   "cell_type": "code",
   "execution_count": 1,
   "metadata": {},
   "outputs": [],
   "source": [
    "import numpy as np"
   ]
  },
  {
   "cell_type": "code",
   "execution_count": 2,
   "metadata": {},
   "outputs": [],
   "source": [
    "number = [120,250,500,1000]"
   ]
  },
  {
   "cell_type": "markdown",
   "metadata": {},
   "source": [
    "アイテムの大きさ"
   ]
  },
  {
   "cell_type": "code",
   "execution_count": 3,
   "metadata": {},
   "outputs": [
    {
     "name": "stderr",
     "output_type": "stream",
     "text": [
      "/opt/miniconda3/lib/python3.7/site-packages/ipykernel_launcher.py:4: DeprecationWarning: This function is deprecated. Please call randint(20, 100 + 1) instead\n",
      "  after removing the cwd from sys.path.\n"
     ]
    }
   ],
   "source": [
    "W = {\"w\"+str(i):{} for i in number}\n",
    "for i in number:\n",
    "    for j in range(10):\n",
    "        W[\"w\"+str(i)][j] = np.random.random_integers(low=20,high=100,size=i) #一様乱数にしたがって区間[20,100]内の値をアイテムの大きさとして与える。"
   ]
  },
  {
   "cell_type": "markdown",
   "metadata": {},
   "source": [
    "コンフリクト"
   ]
  },
  {
   "cell_type": "code",
   "execution_count": 4,
   "metadata": {},
   "outputs": [],
   "source": [
    "import random\n",
    "\n",
    "instance = {}\n",
    "for i in number:\n",
    "    instance[\"instance\"+str(i)] = {}\n",
    "    for j in range(10):\n",
    "        instance[\"instance\"+str(i)][j] = np.array(list(random.uniform(0,1) for k in range(i))) #一様乱数にしたがって区間[0,1]内の値を各アイテムに割り振る。アイテムiに割り当てられた値をpiとする。"
   ]
  },
  {
   "cell_type": "code",
   "execution_count": 5,
   "metadata": {},
   "outputs": [],
   "source": [
    "d = np.arange(0,10,1) #グラフの密度"
   ]
  },
  {
   "cell_type": "code",
   "execution_count": 6,
   "metadata": {},
   "outputs": [],
   "source": [
    "import itertools\n",
    "conf = {\"instance\"+str(i):{j:{} for j in instance[\"instance\"+str(i)]} for i in number} #インスタンス名,番号,密度 : [(枝),...]\n",
    "for density in d:\n",
    "    density = density/10\n",
    "    for i in instance:\n",
    "        for j in instance[i]:\n",
    "            comb_list = list(itertools.combinations(range(len(instance[i][j])),2)) #n個のアイテムから2個選ぶ組み合わせ\n",
    "            conf[i][j][density] = [comb for comb in comb_list if (instance[i][j][comb[0]] + instance[i][j][comb[1]])/2<=density] #(pi+pj)/2<=グラフの密度 ならば、枝(i,j)をつくる"
   ]
  },
  {
   "cell_type": "markdown",
   "metadata": {},
   "source": [
    "グループ"
   ]
  },
  {
   "cell_type": "code",
   "execution_count": 7,
   "metadata": {},
   "outputs": [],
   "source": [
    "import numpy as np\n",
    "import random\n",
    "\n",
    "M_dict = {\"instance\"+str(i):{} for i in number} #インスタンス名,番号 : (メンバーの番号,...)\n",
    "for i in number:\n",
    "    for n in range(10):\n",
    "        V = set(np.arange(i))\n",
    "        group_list = []\n",
    "        n_of_group = np.random.randint(1,i) #グループ数を決める\n",
    "        #print(\"グループ数\",n_of_group)\n",
    "        \n",
    "        n_of_groupmenber = [max(1,int(np.random.normal( int(i**(1/2)), int(i**(1/2)) ))) for j in range(n_of_group)] #各グループのメンバー数を決める\n",
    "        #print(\"グループのメンバー数\",n_of_groupmenber)\n",
    "        \n",
    "        for k in n_of_groupmenber: #各グループのメンバー数に従ってアイテムをランダムに選ぶ\n",
    "            if len(V)!=0:\n",
    "                try:\n",
    "                    group_list.append(tuple(random.sample(V,k)))\n",
    "                    V = V-set(group_list[-1])\n",
    "                except:\n",
    "                    group_list.append(tuple(V))\n",
    "                    V = V-set(group_list[-1])\n",
    "                    break\n",
    "            \n",
    "        if len(V)>0:\n",
    "            group_list[-1] = group_list[-1] + tuple(V)\n",
    "        #print(\"group_list\",group_list)\n",
    "        M_dict[\"instance\"+str(i)][n] = group_list"
   ]
  },
  {
   "cell_type": "code",
   "execution_count": 8,
   "metadata": {},
   "outputs": [],
   "source": [
    "#入力, 出力を書き出す階層を指定\n",
    "import os\n",
    "path = os.path.abspath(\".\")"
   ]
  },
  {
   "cell_type": "code",
   "execution_count": 10,
   "metadata": {},
   "outputs": [],
   "source": [
    "n = None\n",
    "V = None\n",
    "C = 150\n",
    "w = None\n",
    "E = None\n",
    "M = None\n",
    "group_split_cost = 1\n",
    "r = None\n",
    "bin_cost = 5\n",
    "\n",
    "\n",
    "#for group_order in range(1,5):\n",
    "#for heuristics in range(3,8):\n",
    "for instance_name in W.keys():\n",
    "    for instance_number in W[instance_name].keys():\n",
    "        for density in conf[\"instance\"+instance_name[1:]][instance_number]:\n",
    "            #if instance_number==0 and density==0.2:#####################\n",
    "                n = len(W[instance_name][instance_number].tolist())\n",
    "                V = np.arange(n)\n",
    "                w = W[instance_name][instance_number]\n",
    "                E = conf[\"instance\"+instance_name[1:]][instance_number][density]\n",
    "                M = M_dict[\"instance\"+instance_name[1:]][instance_number]\n",
    "                r = [group_split_cost for i in range(len(M_dict[\"instance\"+instance_name[1:]][instance_number]))]\n",
    "\n",
    "                #print(\"instance_name\\t\",instance_name)\n",
    "                #print(\"instance_number\\t\",instance_number)\n",
    "\n",
    "                #print(\"Number of items\\t\"+str(n)+\"\\n\")\n",
    "                #print(\"Graph density\\t\"+str(density*100)+\"%\\n\")\n",
    "                #print(\"Capacity of bins\\t\"+str(C)+\"\\n\")\n",
    "                #print(\"Costs of spliting groups\\t\"+str(r)+\"\\n\")\n",
    "                #print(\"Costs of using bins\\t\"+str(bin_cost)+\"\\n\")\n",
    "                #print(\"Weight of items\\t\"+str(w)+\"\\n\")\n",
    "                #print(\"Number of Edge\\t\"+str(len(E))+\"\\n\")\n",
    "                #print(\"Edges\\t\"+str(E)+\"\\n\")\n",
    "                #print(\"Number of Groups\\t\"+str(len(M))+\"\\n\")\n",
    "                #print(\"Groups\\t\"+str(M)+\"\\n\\n\\n\")\n",
    "\n",
    "                #Item = set()\n",
    "                #for i in M:\n",
    "                 #   Item = Item | set(i)\n",
    "                #print(f\"アイテムは全部で{len(Item)}個です\")\n",
    "                #if len(Item)>number[0]:\n",
    "                 #   print(f\"more than {number[0]}\")\n",
    "                #elif len(Item)<250:\n",
    "                 #   print(f\"less than {number[0]}\")\n",
    "\n",
    "                #入力をテキストファイルに書き出す\n",
    "                file_input = path + \"/\" + \"input\" + \"/\" + str(\"i\"+str(instance_name[1:])) + \"_\"  + str(\"n\"+str(instance_number)) + \"_\"  + str(\"d\"+str(int(density*100))) + \".txt\" #インスタンスの規模_インスタンスの番号_グラフの密度\n",
    "                with open(file_input,mode=\"w\") as f:\n",
    "                    f.write(\"Number of items\\t\"+str(n)+\"\\t\\n\\n\")\n",
    "                    f.write(\"Graph density\\t\"+str(density*100)+\"%\\t\\n\\n\")\n",
    "                    f.write(\"Capacity of bins\\t\"+str(C)+\"\\t\\n\\n\")\n",
    "                    f.write(\"Costs of spliting groups\\t\"+str(r)+\"\\t\\n\\n\")\n",
    "                    f.write(\"Costs of using bins\\t\"+str(bin_cost)+\"\\t\\n\\n\")\n",
    "                    f.write(\"Weight of items\\n\")\n",
    "                    for weight in w:\n",
    "                        f.write(f\"w\\t{weight}\\n\")\n",
    "                    f.write(\"\\n\")\n",
    "                    f.write(\"Number of Edges\\t\"+str(len(E))+\"\\t\\n\\n\")\n",
    "                    f.write(\"Edges\\n\")\n",
    "                    for e in E:\n",
    "                        f.write(f\"e\\t{e}\\n\")\n",
    "                    f.write(\"\\n\")\n",
    "                    f.write(\"Number of Groups\\t\"+str(len(M))+\"\\t\\n\\n\")\n",
    "                    f.write(\"Groups\\n\")\n",
    "                    for g in M:\n",
    "                        f.write(f\"g\\t{g}\\n\")"
   ]
  },
  {
   "cell_type": "code",
   "execution_count": null,
   "metadata": {},
   "outputs": [],
   "source": []
  }
 ],
 "metadata": {
  "kernelspec": {
   "display_name": "Python 3",
   "language": "python",
   "name": "python3"
  },
  "language_info": {
   "codemirror_mode": {
    "name": "ipython",
    "version": 3
   },
   "file_extension": ".py",
   "mimetype": "text/x-python",
   "name": "python",
   "nbconvert_exporter": "python",
   "pygments_lexer": "ipython3",
   "version": "3.7.4"
  }
 },
 "nbformat": 4,
 "nbformat_minor": 2
}
