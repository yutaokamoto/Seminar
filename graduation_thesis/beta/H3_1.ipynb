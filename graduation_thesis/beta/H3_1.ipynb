{
 "cells": [
  {
   "cell_type": "markdown",
   "metadata": {},
   "source": [
    "## FFD_for_conflict関数の引数にbin_dictとbins_group_usingを含んでないことがベータ版である理由"
   ]
  },
  {
   "cell_type": "markdown",
   "metadata": {},
   "source": [
    "## 定数定義\n",
    "$$\n",
    "V=\\{1,\\ldots,n\\}:アイテムの集合\\\\\n",
    "B=\\{1,\\ldots,n\\}:ビンの集合\\\\\n",
    "M=\\{1,\\ldots,m\\}:グループの集合\\\\\n",
    "w_i:アイテムiの大きさ\\\\\n",
    "z_{il}\\in\\{0,1\\}:アイテムiのグループlへの所属を表すバイナリ定数\\\\\n",
    "r_l:グループlがビンを1つ使用するのにかかるコスト\\\\\n",
    "C:ビンの容量\\\\\n",
    "E=\\{(s,t) ~|~ w_s+w_t > C~または~sとtは同じビンに割り当てられられない\\}:枝の集合\\\\\n",
    "G=(V,E):~VとEから成るグラフ\\\\\n",
    "$$"
   ]
  },
  {
   "cell_type": "markdown",
   "metadata": {},
   "source": [
    "## 変数定義\n",
    "$$\n",
    "x_{ik}\\in\\{0,1\\}:アイテムiのビンkへの割り当てを表すバイナリ変数\\\\\n",
    "y_k\\in\\{0,1\\}:ビンkの使用を表すバイナリ変数\\\\\n",
    "b_{kl}\\in\\{0,1\\}:グループlのビンkの使用を表すバイナリ変数\\\\\n",
    "$$"
   ]
  },
  {
   "cell_type": "markdown",
   "metadata": {},
   "source": [
    "## 目的関数\n",
    "$$\n",
    "\\begin{align}\n",
    "\\text{minimize} & \\displaystyle\\sum_{k=1}^n y_k + \\sum_{k=1}^n \\sum_{l=1}^m r_l b_{kl} - \\sum_{l=1}^m r_l\n",
    "\\end{align}\n",
    "$$"
   ]
  },
  {
   "cell_type": "markdown",
   "metadata": {},
   "source": [
    "## 制約式\n",
    "$$\n",
    "\\begin{align}\n",
    "\\text{subject to}\n",
    "\\displaystyle\\sum_{i=1}^n w_i x_{ik} \\leq C y_k&~~~~~(k=1,\\dots,n)\\\\\n",
    "\\displaystyle\\sum_{k=1}^n x_{ik} = 1&~~~~~(i=1,\\dots,n)\\\\\n",
    "x_{sk}+x_{tk} \\leq 1&~~~~~((s,t)\\in E,~k=1,\\dots,n)\\\\\n",
    "b_{kl} \\geq x_{jk} z_{jl}&~~~~~(k=1,\\dots,n,~l=1,\\dots,m,~j=1,\\dots,n)\\\\\n",
    "x_{ik}\\in\\{0,1\\}&~~~~~(i,k=1,\\dots,n)\\\\\n",
    "y_k\\in\\{0,1\\}&~~~~~(k=1,\\dots,n)\\\\\n",
    "b_{kl}\\in\\{0,1\\}&~~~~~(k=1,\\dots,n,~l=1,\\dots,m)\\\\\n",
    "\\end{align}\n",
    "$$"
   ]
  },
  {
   "cell_type": "markdown",
   "metadata": {},
   "source": [
    "# ファイルの読み込み "
   ]
  },
  {
   "cell_type": "code",
   "execution_count": 31,
   "metadata": {},
   "outputs": [],
   "source": [
    "filename = \"C125.9.clq.txt\"\n",
    "E=[]\n",
    "with open(filename,mode=\"r\") as f:\n",
    "    lines = f.readlines()\n",
    "    for i,v in enumerate(lines):\n",
    "        line = v\n",
    "        if \"number of vertices\" in line:\n",
    "            n = int(line.split(\" \")[-1])\n",
    "        if line[0]==\"e\":\n",
    "            start = i\n",
    "            break\n",
    "E = lines[start:-1] #ファイル名とEOFを除く\n",
    "for i in range(len(E)):\n",
    "    #E[i] = tuple(map(int,E[i][2:-1].split(\" \"))) #数字の数え方が１から始まってしまう\n",
    "    temp = E[i][2:-1].split(\" \")\n",
    "    E[i] = (int(temp[0])-1,int(temp[1])-1)"
   ]
  },
  {
   "cell_type": "markdown",
   "metadata": {},
   "source": [
    "# 問題設定"
   ]
  },
  {
   "cell_type": "markdown",
   "metadata": {},
   "source": [
    "## 基本設定"
   ]
  },
  {
   "cell_type": "code",
   "execution_count": 32,
   "metadata": {},
   "outputs": [],
   "source": [
    "import random\n",
    "import numpy as np\n",
    "random.seed(1)\n",
    "\n",
    "#アイテムの個数\n",
    "n\n",
    "\n",
    "#アイテムの大きさ\n",
    "w=[]\n",
    "maximum=0\n",
    "for i in range(n):\n",
    "    w.append(random.randint(0,maximum))\n",
    "    \n",
    "#ビンの容量\n",
    "C={b:maximum+1 for b in range(n)}\n",
    "\n",
    "#枝\n",
    "E\n",
    "    \n",
    "#コンフリクト\n",
    "conf={}\n",
    "n_conf = len(E)\n",
    "for i in range(n_conf):\n",
    "    temp = [0]*n\n",
    "    temp[E[i][0]-1] = 1\n",
    "    temp[E[i][1]-1] = 1\n",
    "    conf[f\"conf{i}\"] = temp\n",
    "    \n",
    "\n",
    "#グループ\n",
    "G=[]#[tuple(np.arange(1,126))]\n",
    "\n",
    "#グループを分けるコスト\n",
    "r = [1]*len(G)\n",
    "\n",
    "#ビンを使うコスト\n",
    "bin_cost = 100"
   ]
  },
  {
   "cell_type": "markdown",
   "metadata": {},
   "source": [
    "## グループ分け"
   ]
  },
  {
   "cell_type": "code",
   "execution_count": 33,
   "metadata": {},
   "outputs": [],
   "source": [
    "N = np.arange(0,n) #アイテムのグループ分けの際にのみ使う定数\n",
    "G  = []\n",
    "\n",
    "random_list = list(np.random.choice(N,10))\n",
    "\n",
    "index=0\n",
    "while True:\n",
    "    if random_list[index]>=len(N): #random[index]の値がNの個数より多かったらGにNをいれて終わり\n",
    "        G.append(tuple(N))\n",
    "        break\n",
    "    group = random.sample(N.tolist(),random_list[index])\n",
    "    N = np.array(list(set(N)-set(group)))\n",
    "    G.append(tuple(group))\n",
    "    index+=1"
   ]
  },
  {
   "cell_type": "markdown",
   "metadata": {},
   "source": [
    "## コンフリクト辞書とノットコンフリクト辞書の作成"
   ]
  },
  {
   "cell_type": "markdown",
   "metadata": {},
   "source": [
    "### コンフリクトがあるノード間に枝があるような辞書"
   ]
  },
  {
   "cell_type": "code",
   "execution_count": 34,
   "metadata": {},
   "outputs": [],
   "source": [
    "N = np.arange(0,n) #辞書をつくる際にのみ使う定数\n",
    "E_dict={}\n",
    "notconf_E_dict={}\n",
    "flag=E[0][0]\n",
    "for i in range(len(E)):\n",
    "    if flag!=E[i][0]:\n",
    "        flag=E[i][0]\n",
    "    E_dict[E[i][0]] = E_dict.setdefault(E[i][0],[]) + [E[i][1]]\n",
    "    E_dict[E[i][1]] = E_dict.setdefault(E[i][1],[]) + [E[i][0]]\n",
    "    notconf_E_dict[E[i][0]] = list(set(N)-set(E_dict[E[i][0]])-{E[i][0]})\n",
    "    notconf_E_dict[E[i][1]] = list(set(N)-set(E_dict[E[i][1]])-{E[i][1]})"
   ]
  },
  {
   "cell_type": "markdown",
   "metadata": {},
   "source": [
    "### コンフリクトがないノード間に枝があるような辞書"
   ]
  },
  {
   "cell_type": "code",
   "execution_count": 35,
   "metadata": {},
   "outputs": [],
   "source": [
    "notconf_E = []\n",
    "for i in notconf_E_dict:\n",
    "    for j in notconf_E_dict[i]:\n",
    "               notconf_E.append((i,j))"
   ]
  },
  {
   "cell_type": "markdown",
   "metadata": {},
   "source": [
    "# FFD "
   ]
  },
  {
   "cell_type": "code",
   "execution_count": 36,
   "metadata": {},
   "outputs": [],
   "source": [
    "def capacity(w_i,bin_b,w,C): #bin_bの容量がw_iの大きさよりも大きいかを判定\n",
    "    if (C-sum(w[i] for i in bin_b)) >= w_i:\n",
    "        return True\n",
    "    else:\n",
    "        return False"
   ]
  },
  {
   "cell_type": "code",
   "execution_count": 37,
   "metadata": {},
   "outputs": [],
   "source": [
    "def conflict(item,bin_b,E_dict): #bin_bに割り当てられているアイテムたちとw_iの間にコンフリクトがあるかを判定\n",
    "    if item not in E_dict:\n",
    "        return False\n",
    "    for i in bin_b:\n",
    "        if i in E_dict[item]:\n",
    "                return False\n",
    "    return True"
   ]
  },
  {
   "cell_type": "code",
   "execution_count": 38,
   "metadata": {},
   "outputs": [],
   "source": [
    "def group(i,G): #アイテムiの属するグループの番号を返す関数\n",
    "    for index,menber in enumerate(G):\n",
    "        if i in menber:\n",
    "            return index"
   ]
  },
  {
   "cell_type": "markdown",
   "metadata": {},
   "source": [
    "# グループを並べ替える関数\n",
    "## 1.グループのメンバーが多い順\n",
    "\n",
    "## 2.コンフリクトの数の平均が多い順\n",
    "\n",
    "## 3.コンフリクトの数の最高値が高い順"
   ]
  },
  {
   "cell_type": "code",
   "execution_count": 39,
   "metadata": {},
   "outputs": [
    {
     "name": "stdout",
     "output_type": "stream",
     "text": [
      "(89, 41, 63, 60, 14, 3, 39, 49, 43, 53, 101, 24, 33, 13, 32, 93, 65, 26, 77, 55, 104, 2, 28, 103, 50, 18, 4, 92, 20, 57, 90, 64, 86, 54, 69, 102, 80, 66, 95, 124, 67, 83, 119, 100, 73, 123, 91, 7, 38, 16, 27, 6, 118, 9, 71, 72, 76, 96, 115, 110, 75, 1, 35, 56, 78, 114, 37, 52, 111, 36, 29, 10, 97, 117, 45, 94, 108, 59, 113, 12, 22, 88, 61, 105, 74, 58, 81, 31, 116, 46, 99, 48, 51, 122, 87, 19, 40, 68, 70, 0, 5, 79, 30, 34)\n",
      "(8, 11, 15, 17, 21, 23, 25, 42, 44, 47, 62, 82, 84, 85, 98, 106, 107, 109, 112, 120, 121)\n"
     ]
    }
   ],
   "source": [
    "for i in G:\n",
    "    print(i)"
   ]
  },
  {
   "cell_type": "code",
   "execution_count": 40,
   "metadata": {
    "scrolled": true
   },
   "outputs": [
    {
     "name": "stdout",
     "output_type": "stream",
     "text": [
      "[(89, 41, 63, 60, 14, 3, 39, 49, 43, 53, 101, 24, 33, 13, 32, 93, 65, 26, 77, 55, 104, 2, 28, 103, 50, 18, 4, 92, 20, 57, 90, 64, 86, 54, 69, 102, 80, 66, 95, 124, 67, 83, 119, 100, 73, 123, 91, 7, 38, 16, 27, 6, 118, 9, 71, 72, 76, 96, 115, 110, 75, 1, 35, 56, 78, 114, 37, 52, 111, 36, 29, 10, 97, 117, 45, 94, 108, 59, 113, 12, 22, 88, 61, 105, 74, 58, 81, 31, 116, 46, 99, 48, 51, 122, 87, 19, 40, 68, 70, 0, 5, 79, 30, 34), (8, 11, 15, 17, 21, 23, 25, 42, 44, 47, 62, 82, 84, 85, 98, 106, 107, 109, 112, 120, 121)]\n"
     ]
    }
   ],
   "source": [
    "sort_G_1 = sorted(G,key=lambda x:len(x),reverse=True)\n",
    "print(sort_G_1)"
   ]
  },
  {
   "cell_type": "code",
   "execution_count": 41,
   "metadata": {},
   "outputs": [
    {
     "name": "stdout",
     "output_type": "stream",
     "text": [
      "0 \t (89, 41, 63) ... \t 104\n",
      "1 \t (8, 11, 15) ... \t 21\n"
     ]
    }
   ],
   "source": [
    "#上の確め算\n",
    "for group_number,x in enumerate(G):\n",
    "    print(group_number,\"\\t\",x[:3],\"...\",\"\\t\",len(x))"
   ]
  },
  {
   "cell_type": "code",
   "execution_count": 42,
   "metadata": {},
   "outputs": [
    {
     "name": "stdout",
     "output_type": "stream",
     "text": [
      "[(89, 41, 63, 60, 14, 3, 39, 49, 43, 53, 101, 24, 33, 13, 32, 93, 65, 26, 77, 55, 104, 2, 28, 103, 50, 18, 4, 92, 20, 57, 90, 64, 86, 54, 69, 102, 80, 66, 95, 124, 67, 83, 119, 100, 73, 123, 91, 7, 38, 16, 27, 6, 118, 9, 71, 72, 76, 96, 115, 110, 75, 1, 35, 56, 78, 114, 37, 52, 111, 36, 29, 10, 97, 117, 45, 94, 108, 59, 113, 12, 22, 88, 61, 105, 74, 58, 81, 31, 116, 46, 99, 48, 51, 122, 87, 19, 40, 68, 70, 0, 5, 79, 30, 34), (8, 11, 15, 17, 21, 23, 25, 42, 44, 47, 62, 82, 84, 85, 98, 106, 107, 109, 112, 120, 121)]\n"
     ]
    }
   ],
   "source": [
    "sort_G_2 = sorted(G,key=lambda x:sum(len(E_dict[i]) for i in x)/len(x),reverse=True)\n",
    "print(sort_G_2)"
   ]
  },
  {
   "cell_type": "code",
   "execution_count": 43,
   "metadata": {},
   "outputs": [
    {
     "name": "stdout",
     "output_type": "stream",
     "text": [
      "0 \t (89, 41, 63) ... \t 111.4326923076923\n",
      "1 \t (8, 11, 15) ... \t 111.28571428571429\n"
     ]
    }
   ],
   "source": [
    "#上の確め算\n",
    "for group_number,x in enumerate(G):\n",
    "    print(group_number,\"\\t\",x[:3],\"...\",\"\\t\",sum(len(E_dict[i]) for i in x)/len(x))"
   ]
  },
  {
   "cell_type": "code",
   "execution_count": 44,
   "metadata": {},
   "outputs": [
    {
     "name": "stdout",
     "output_type": "stream",
     "text": [
      "[(89, 41, 63, 60, 14, 3, 39, 49, 43, 53, 101, 24, 33, 13, 32, 93, 65, 26, 77, 55, 104, 2, 28, 103, 50, 18, 4, 92, 20, 57, 90, 64, 86, 54, 69, 102, 80, 66, 95, 124, 67, 83, 119, 100, 73, 123, 91, 7, 38, 16, 27, 6, 118, 9, 71, 72, 76, 96, 115, 110, 75, 1, 35, 56, 78, 114, 37, 52, 111, 36, 29, 10, 97, 117, 45, 94, 108, 59, 113, 12, 22, 88, 61, 105, 74, 58, 81, 31, 116, 46, 99, 48, 51, 122, 87, 19, 40, 68, 70, 0, 5, 79, 30, 34), (8, 11, 15, 17, 21, 23, 25, 42, 44, 47, 62, 82, 84, 85, 98, 106, 107, 109, 112, 120, 121)]\n"
     ]
    }
   ],
   "source": [
    "sort_G_3 = sorted(G,key=lambda x:max(len(E_dict[i]) for i in x),reverse=True)\n",
    "print(sort_G_2)"
   ]
  },
  {
   "cell_type": "code",
   "execution_count": 45,
   "metadata": {},
   "outputs": [
    {
     "name": "stdout",
     "output_type": "stream",
     "text": [
      "0 \t (89, 41, 63) ... \t 53\n",
      "0 \t (89, 41, 63) ... \t 59\n",
      "0 \t (89, 41, 63) ... \t 113\n",
      "1 \t (8, 11, 15) ... \t 44\n"
     ]
    }
   ],
   "source": [
    "#上の確め算\n",
    "for group_number,x in enumerate(G):\n",
    "    for i in x:\n",
    "        if len(E_dict[i])==max(len(E_dict[j]) for j in x):\n",
    "            print(group_number,\"\\t\",x[:3],\"...\",\"\\t\",i)"
   ]
  },
  {
   "cell_type": "code",
   "execution_count": 46,
   "metadata": {},
   "outputs": [],
   "source": [
    "#グループを並べ替える関数_1\n",
    "def sort_G_1(G):\n",
    "    return sorted(G,key=lambda x:len(x),reverse=True)"
   ]
  },
  {
   "cell_type": "code",
   "execution_count": 47,
   "metadata": {},
   "outputs": [],
   "source": [
    "#グループを並べ替える関数_2\n",
    "def sort_G_2(G):\n",
    "    return sorted(G,key=lambda x:sum(len(E_dict[i]) for i in x)/len(x),reverse=True)"
   ]
  },
  {
   "cell_type": "code",
   "execution_count": 48,
   "metadata": {},
   "outputs": [],
   "source": [
    "#グループを並べ替える関数_3\n",
    "def sort_G_3(G):\n",
    "    return sorted(G,key=lambda x:max(len(E_dict[i]) for i in x),reverse=True)"
   ]
  },
  {
   "cell_type": "code",
   "execution_count": 20,
   "metadata": {},
   "outputs": [],
   "source": [
    "def FFD_for_conflict(Item,w,C,E_dict,G): #コンフリクトの数が多い順にアイテムをビンに割り当てる\n",
    "    bin_dict = {b:[] for b in range(len(Item))}\n",
    "    bins_group_using = {g:-1 for g in range(len(G))}\n",
    "    Item = sorted(E_dict,key=lambda x:len(E_dict[x]),reverse=True) #コンフリクトの数が多い順にアイテムを走査\n",
    "    \n",
    "    for i in Item:\n",
    "        group_no = group(i,G)\n",
    "        for b in range(len(bin_dict)): #インデックスが小さい順にビンを走査\n",
    "            if capacity(w[i],bin_dict[b],w,C[b]) and conflict(i,bin_dict[b],E_dict): #容量制約を満たす　and　コンフリクトがない\n",
    "                bin_dict[b] = bin_dict.setdefault(b,[]) + [i] #ビンbにアイテムiを入れる\n",
    "                C[b] = C[b]-w[i] #ビンbのキャパシティーをアイテムiの大きさ分減少させる\n",
    "                bins_group_using[group_no] += 1 #グループgroup_noの使用するビンの数を1増やす\n",
    "                break  \n",
    "                \n",
    "    return bin_dict,bins_group_using"
   ]
  },
  {
   "cell_type": "code",
   "execution_count": 71,
   "metadata": {},
   "outputs": [],
   "source": [
    "def FFD_for_conflict(Item,w,C,E_dict,G,bin_dict,bins_group_using): #コンフリクトの数が多い順にアイテムをビンに割り当てる\n",
    "    \"\"\"print(\"グループ\",group(Item[0],G),\"\\t\",len(Item),\"個\",\"\\t\",Item)\n",
    "    print()\"\"\"\n",
    "    Item = sorted(Item,key=lambda x:len(E_dict[x]),reverse=True) #コンフリクトの数が多い順にアイテムを走査\n",
    "    \n",
    "    for i in Item:\n",
    "        group_no = group(i,G)\n",
    "        for b in range(len(bin_dict)): #インデックスが小さい順にビンを走査\n",
    "            if capacity(w[i],bin_dict[b],w,C[b]) and conflict(i,bin_dict[b],E_dict): #容量制約を満たす　and　コンフリクトがない\n",
    "                bin_dict[b] = bin_dict.setdefault(b,[]) + [i] #ビンbにアイテムiを入れる\n",
    "                C[b] = C[b]-w[i] #ビンbのキャパシティーをアイテムiの大きさ分減少させる\n",
    "                bins_group_using[group_no] += 1 #グループgroup_noの使用するビンの数を1増やす\n",
    "                break  \n",
    "                \n",
    "    return bin_dict,bins_group_using,C"
   ]
  },
  {
   "cell_type": "code",
   "execution_count": 72,
   "metadata": {},
   "outputs": [],
   "source": [
    "def FFD_for_conflict_group(Item,w,C,E_dict,G):\n",
    "    bin_dict = {b:[] for b in range(len(Item))}\n",
    "    bins_group_using = {g:-1 for g in range(len(G))}\n",
    "    \n",
    "    G = sort_G_3(G) #グループの並べ替え\n",
    "    for g in G: #グループごとにFFD_for_conflict()\n",
    "        #print(len(g),g)\n",
    "        bin_dict,bins_group_using,C = FFD_for_conflict(g,w,C,E_dict,G,bin_dict,bins_group_using)\n",
    "    return bin_dict,bins_group_using"
   ]
  },
  {
   "cell_type": "code",
   "execution_count": 73,
   "metadata": {},
   "outputs": [],
   "source": [
    "Item = list(range(n))\n",
    "C={b:maximum+1 for b in range(n)}\n",
    "bin_dict = {b:[] for b in range(len(Item))}\n",
    "bins_group_using = {g:-1 for g in range(len(G))}"
   ]
  },
  {
   "cell_type": "code",
   "execution_count": 75,
   "metadata": {},
   "outputs": [],
   "source": [
    "bin_dict,bins_group_using,C = FFD_for_conflict(Item,w,C,E_dict,G,bin_dict,bins_group_using)"
   ]
  },
  {
   "cell_type": "code",
   "execution_count": 76,
   "metadata": {},
   "outputs": [
    {
     "name": "stdout",
     "output_type": "stream",
     "text": [
      "0 [53, 9, 53, 9]\n",
      "1 [59, 18, 59, 18]\n",
      "2 [113, 23, 113, 23]\n",
      "3 [44, 110, 44, 110]\n",
      "4 [103, 100, 103, 100]\n",
      "5 [6, 29, 107, 6, 29, 107]\n",
      "6 [7, 109, 7, 109]\n",
      "7 [79, 91, 79, 91]\n",
      "8 [98, 46, 81, 98, 46, 81]\n",
      "9 [10, 58, 10, 58]\n",
      "10 [28, 45, 28, 45]\n",
      "11 [39, 73, 15, 39, 73, 15]\n",
      "12 [48, 40, 48, 40]\n",
      "13 [66, 0, 86, 66, 0, 86]\n",
      "14 [97, 122, 97, 122]\n",
      "15 [124, 5, 82, 124, 5, 82]\n",
      "16 [17, 64, 17, 64]\n",
      "17 [38, 76, 38, 76]\n",
      "18 [69, 19, 106, 69, 19, 106]\n",
      "19 [21, 3, 30, 21, 3, 30]\n",
      "20 [33, 57, 33, 57]\n",
      "21 [1, 12, 1, 12]\n",
      "22 [8, 68, 115, 8, 68, 115]\n",
      "23 [24, 34, 24, 34]\n",
      "24 [47, 51, 47, 51]\n",
      "25 [84, 108, 35, 84, 108, 35]\n",
      "26 [85, 116, 72, 85, 116, 72]\n",
      "27 [95, 118, 114, 95, 118, 114]\n",
      "28 [4, 22, 94, 4, 22, 94]\n",
      "29 [43, 56, 26, 43, 56, 26]\n",
      "30 [71, 25, 71, 25]\n",
      "31 [78, 117, 74, 78, 117, 74]\n",
      "32 [90, 52, 90, 52]\n",
      "33 [36, 42, 36, 42]\n",
      "34 [61, 31, 67, 61, 31, 67]\n",
      "35 [65, 55, 65, 55]\n",
      "36 [83, 121, 89, 83, 121, 89]\n",
      "37 [105, 120, 105, 120]\n",
      "38 [27, 13, 63, 27, 13, 63]\n",
      "39 [60, 119, 60, 119]\n",
      "40 [70, 20, 70, 20]\n",
      "41 [92, 49, 92, 49]\n",
      "42 [123, 32, 123, 32]\n",
      "43 [37, 104, 111, 37, 104, 111]\n",
      "44 [54, 62, 54, 62]\n",
      "45 [77, 11, 77, 11]\n",
      "46 [88, 2, 88, 2]\n",
      "47 [101, 16, 101, 16]\n",
      "48 [80, 41, 50, 80, 41, 50]\n",
      "49 [99, 99]\n",
      "50 [102, 102]\n",
      "51 [14, 93, 14, 93]\n",
      "52 [87, 87]\n",
      "53 [96, 96]\n",
      "54 [112, 112]\n",
      "55 [75, 75]\n",
      "56 []\n",
      "57 []\n",
      "58 []\n",
      "59 []\n",
      "60 []\n",
      "61 []\n",
      "62 []\n",
      "63 []\n",
      "64 []\n",
      "65 []\n",
      "66 []\n",
      "67 []\n",
      "68 []\n",
      "69 []\n",
      "70 []\n",
      "71 []\n",
      "72 []\n",
      "73 []\n",
      "74 []\n",
      "75 []\n",
      "76 []\n",
      "77 []\n",
      "78 []\n",
      "79 []\n",
      "80 []\n",
      "81 []\n",
      "82 []\n",
      "83 []\n",
      "84 []\n",
      "85 []\n",
      "86 []\n",
      "87 []\n",
      "88 []\n",
      "89 []\n",
      "90 []\n",
      "91 []\n",
      "92 []\n",
      "93 []\n",
      "94 []\n",
      "95 []\n",
      "96 []\n",
      "97 []\n",
      "98 []\n",
      "99 []\n",
      "100 []\n",
      "101 []\n",
      "102 []\n",
      "103 []\n",
      "104 []\n",
      "105 []\n",
      "106 []\n",
      "107 []\n",
      "108 []\n",
      "109 []\n",
      "110 []\n",
      "111 []\n",
      "112 []\n",
      "113 []\n",
      "114 []\n",
      "115 []\n",
      "116 []\n",
      "117 []\n",
      "118 []\n",
      "119 []\n",
      "120 []\n",
      "121 []\n",
      "122 []\n",
      "123 []\n",
      "124 []\n"
     ]
    }
   ],
   "source": [
    "for i in range(len(bin_dict)):\n",
    "    print(i,bin_dict[i])"
   ]
  },
  {
   "cell_type": "code",
   "execution_count": 77,
   "metadata": {},
   "outputs": [
    {
     "name": "stdout",
     "output_type": "stream",
     "text": [
      "{0: 207, 1: 41}\n"
     ]
    }
   ],
   "source": [
    "print(bins_group_using)"
   ]
  },
  {
   "cell_type": "code",
   "execution_count": 78,
   "metadata": {},
   "outputs": [
    {
     "name": "stdout",
     "output_type": "stream",
     "text": [
      "56\n"
     ]
    }
   ],
   "source": [
    "bin_counter=0\n",
    "for i in range(len(bin_dict)):\n",
    "    if len(bin_dict[i]) > 0:\n",
    "        bin_counter+=1\n",
    "print(bin_counter)"
   ]
  },
  {
   "cell_type": "markdown",
   "metadata": {},
   "source": [
    "# FFD for conflict and group"
   ]
  },
  {
   "cell_type": "code",
   "execution_count": 64,
   "metadata": {},
   "outputs": [],
   "source": [
    "Item = list(range(n))\n",
    "C={b:maximum+1 for b in range(n)}"
   ]
  },
  {
   "cell_type": "code",
   "execution_count": 65,
   "metadata": {
    "scrolled": false
   },
   "outputs": [],
   "source": [
    "bin_dict,bins_group_using = FFD_for_conflict_group(Item,w,C,E_dict,G)"
   ]
  },
  {
   "cell_type": "code",
   "execution_count": 66,
   "metadata": {
    "scrolled": true
   },
   "outputs": [
    {
     "name": "stdout",
     "output_type": "stream",
     "text": [
      "0 [53, 9]\n",
      "1 [59, 18]\n",
      "2 [113, 5]\n",
      "3 [103, 100]\n",
      "4 [110, 64]\n",
      "5 [7, 39]\n",
      "6 [6, 29, 107]\n",
      "7 [79, 91]\n",
      "8 [28, 45]\n",
      "9 [66, 114, 93]\n",
      "10 [124, 40]\n",
      "11 [10, 58]\n",
      "12 [97, 122]\n",
      "13 [48, 56]\n",
      "14 [69, 83, 106]\n",
      "15 [38, 76]\n",
      "16 [46, 81, 98]\n",
      "17 [33, 3]\n",
      "18 [24, 34]\n",
      "19 [95, 118, 14]\n",
      "20 [73, 4, 26]\n",
      "21 [1, 12]\n",
      "22 [51, 71, 25]\n",
      "23 [43, 108]\n",
      "24 [57, 123]\n",
      "25 [90, 52]\n",
      "26 [78, 117, 74]\n",
      "27 [116, 61, 31]\n",
      "28 [68, 22, 99]\n",
      "29 [0, 36, 94]\n",
      "30 [30, 86]\n",
      "31 [65, 60]\n",
      "32 [105, 55]\n",
      "33 [19, 112]\n",
      "34 [92, 13, 63]\n",
      "35 [119, 101, 50]\n",
      "36 [27, 37, 111]\n",
      "37 [70, 20]\n",
      "38 [77, 104, 67]\n",
      "39 [54, 80]\n",
      "40 [88, 49, 75]\n",
      "41 [32, 16, 115]\n",
      "42 [102, 35]\n",
      "43 [2, 41, 82]\n",
      "44 [96, 89]\n",
      "45 [87, 8, 11]\n",
      "46 [72, 85]\n",
      "47 [44]\n",
      "48 [109]\n",
      "49 [17]\n",
      "50 [23]\n",
      "51 [21, 120]\n",
      "52 [47]\n",
      "53 [84]\n",
      "54 [42]\n",
      "55 [121]\n",
      "56 [62]\n",
      "57 [15]\n",
      "58 []\n",
      "59 []\n",
      "60 []\n",
      "61 []\n",
      "62 []\n",
      "63 []\n",
      "64 []\n",
      "65 []\n",
      "66 []\n",
      "67 []\n",
      "68 []\n",
      "69 []\n",
      "70 []\n",
      "71 []\n",
      "72 []\n",
      "73 []\n",
      "74 []\n",
      "75 []\n",
      "76 []\n",
      "77 []\n",
      "78 []\n",
      "79 []\n",
      "80 []\n",
      "81 []\n",
      "82 []\n",
      "83 []\n",
      "84 []\n",
      "85 []\n",
      "86 []\n",
      "87 []\n",
      "88 []\n",
      "89 []\n",
      "90 []\n",
      "91 []\n",
      "92 []\n",
      "93 []\n",
      "94 []\n",
      "95 []\n",
      "96 []\n",
      "97 []\n",
      "98 []\n",
      "99 []\n",
      "100 []\n",
      "101 []\n",
      "102 []\n",
      "103 []\n",
      "104 []\n",
      "105 []\n",
      "106 []\n",
      "107 []\n",
      "108 []\n",
      "109 []\n",
      "110 []\n",
      "111 []\n",
      "112 []\n",
      "113 []\n",
      "114 []\n",
      "115 []\n",
      "116 []\n",
      "117 []\n",
      "118 []\n",
      "119 []\n",
      "120 []\n",
      "121 []\n",
      "122 []\n",
      "123 []\n",
      "124 []\n"
     ]
    }
   ],
   "source": [
    "for i in range(len(bin_dict)):\n",
    "    print(i,bin_dict[i])"
   ]
  },
  {
   "cell_type": "code",
   "execution_count": 67,
   "metadata": {},
   "outputs": [
    {
     "data": {
      "text/plain": [
       "0"
      ]
     },
     "execution_count": 67,
     "metadata": {},
     "output_type": "execute_result"
    }
   ],
   "source": [
    "w[39]+w[74]#+w[96]"
   ]
  },
  {
   "cell_type": "code",
   "execution_count": 68,
   "metadata": {},
   "outputs": [
    {
     "name": "stdout",
     "output_type": "stream",
     "text": [
      "{0: 103, 1: 20}\n"
     ]
    }
   ],
   "source": [
    "print(bins_group_using)"
   ]
  },
  {
   "cell_type": "code",
   "execution_count": 69,
   "metadata": {},
   "outputs": [
    {
     "name": "stdout",
     "output_type": "stream",
     "text": [
      "58\n"
     ]
    }
   ],
   "source": [
    "bin_counter=0\n",
    "for i in range(len(bin_dict)):\n",
    "    if len(bin_dict[i]) > 0:\n",
    "        bin_counter+=1\n",
    "print(bin_counter)"
   ]
  },
  {
   "cell_type": "code",
   "execution_count": null,
   "metadata": {},
   "outputs": [],
   "source": []
  }
 ],
 "metadata": {
  "kernelspec": {
   "display_name": "Python 3",
   "language": "python",
   "name": "python3"
  },
  "language_info": {
   "codemirror_mode": {
    "name": "ipython",
    "version": 3
   },
   "file_extension": ".py",
   "mimetype": "text/x-python",
   "name": "python",
   "nbconvert_exporter": "python",
   "pygments_lexer": "ipython3",
   "version": "3.6.8"
  }
 },
 "nbformat": 4,
 "nbformat_minor": 4
}
