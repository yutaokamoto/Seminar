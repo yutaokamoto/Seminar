{
 "cells": [
  {
   "cell_type": "markdown",
   "metadata": {},
   "source": [
    "# 問題設定"
   ]
  },
  {
   "cell_type": "markdown",
   "metadata": {},
   "source": [
    "## 基本設定"
   ]
  },
  {
   "cell_type": "code",
   "execution_count": 1,
   "metadata": {},
   "outputs": [],
   "source": [
    "import numpy as np"
   ]
  },
  {
   "cell_type": "code",
   "execution_count": 2,
   "metadata": {},
   "outputs": [],
   "source": [
    "n = 6\n",
    "V = np.arange(n)\n",
    "C = 9\n",
    "B = {i:C for i in range(n)}\n",
    "w = [3, 2, 5, 6, 1, 1]\n",
    "E = [(0,2), (1,2)]\n",
    "M = [(0,3), (1,4,5), (2,)]\n",
    "r = [1]*len(M)\n",
    "bin_cost = 100"
   ]
  },
  {
   "cell_type": "markdown",
   "metadata": {},
   "source": [
    "## コンフリクト辞書とノットコンフリクト辞書の作成"
   ]
  },
  {
   "cell_type": "markdown",
   "metadata": {},
   "source": [
    "### コンフリクトがあるノード間に枝があるような辞書 E_dict"
   ]
  },
  {
   "cell_type": "code",
   "execution_count": 3,
   "metadata": {},
   "outputs": [],
   "source": [
    "def E_dict_func(E):\n",
    "    E_dict={}\n",
    "    flag=E[0][0]\n",
    "    for i in range(len(E)):\n",
    "        if flag!=E[i][0]:\n",
    "            flag=E[i][0]\n",
    "        E_dict[E[i][0]] = E_dict.setdefault(E[i][0],()) + (E[i][1],)\n",
    "        E_dict[E[i][1]] = E_dict.setdefault(E[i][1],()) + (E[i][0],)\n",
    "        \n",
    "    for i in range(n):\n",
    "        if i not in E_dict.keys():\n",
    "            E_dict[i] = ()\n",
    "            \n",
    "    return E_dict"
   ]
  },
  {
   "cell_type": "code",
   "execution_count": 4,
   "metadata": {},
   "outputs": [
    {
     "data": {
      "text/plain": [
       "{0: (2,), 2: (0, 1), 1: (2,), 3: (), 4: (), 5: ()}"
      ]
     },
     "execution_count": 4,
     "metadata": {},
     "output_type": "execute_result"
    }
   ],
   "source": [
    "E_dict = E_dict_func(E)\n",
    "E_dict"
   ]
  },
  {
   "cell_type": "markdown",
   "metadata": {},
   "source": [
    "### コンフリクトがないノード間に枝があるような辞書 nonconf_E_dict"
   ]
  },
  {
   "cell_type": "code",
   "execution_count": 5,
   "metadata": {},
   "outputs": [],
   "source": [
    "def nonconf_E_dict_func(E):\n",
    "    import numpy as np\n",
    "    N = np.arange(0,n) #辞書をつくる際にのみ使う定数\n",
    "    E_dict = {}\n",
    "    nonconf_E_dict={}\n",
    "    flag=E[0][0]\n",
    "    E_dict = E_dict_func(E)\n",
    "    for i in range(len(E)):\n",
    "        if flag!=E[i][0]:\n",
    "            flag=E[i][0]\n",
    "        nonconf_E_dict[E[i][0]] = tuple(set(N)-set(E_dict[E[i][0]])-{E[i][0]})\n",
    "        nonconf_E_dict[E[i][1]] = tuple(set(N)-set(E_dict[E[i][1]])-{E[i][1]})\n",
    "        \n",
    "    for i in range(n):\n",
    "        if len(E_dict[i])==0:\n",
    "            nonconf_E_dict[i] = tuple(range(n))\n",
    "    \n",
    "    return nonconf_E_dict"
   ]
  },
  {
   "cell_type": "code",
   "execution_count": 6,
   "metadata": {},
   "outputs": [
    {
     "data": {
      "text/plain": [
       "{0: (1, 3, 4, 5),\n",
       " 2: (3, 4, 5),\n",
       " 1: (0, 3, 4, 5),\n",
       " 3: (0, 1, 2, 3, 4, 5),\n",
       " 4: (0, 1, 2, 3, 4, 5),\n",
       " 5: (0, 1, 2, 3, 4, 5)}"
      ]
     },
     "execution_count": 6,
     "metadata": {},
     "output_type": "execute_result"
    }
   ],
   "source": [
    "nonconf_E_dict = nonconf_E_dict_func(E)\n",
    "nonconf_E_dict"
   ]
  },
  {
   "cell_type": "markdown",
   "metadata": {},
   "source": [
    "### コンフリクトがないノード間に枝があるとした場合の枝集合 nonconf_E"
   ]
  },
  {
   "cell_type": "code",
   "execution_count": 7,
   "metadata": {},
   "outputs": [],
   "source": [
    "def nonconf_E_func(E):\n",
    "    nonconf_E = []\n",
    "    nonconf_E_dict = nonconf_E_dict_func(E)\n",
    "    for i in nonconf_E_dict:\n",
    "        for j in nonconf_E_dict[i]:\n",
    "            nonconf_E.append((i,j))\n",
    "            \n",
    "    return nonconf_E"
   ]
  },
  {
   "cell_type": "code",
   "execution_count": 8,
   "metadata": {
    "scrolled": true
   },
   "outputs": [
    {
     "data": {
      "text/plain": [
       "[(0, 1),\n",
       " (0, 3),\n",
       " (0, 4),\n",
       " (0, 5),\n",
       " (2, 3),\n",
       " (2, 4),\n",
       " (2, 5),\n",
       " (1, 0),\n",
       " (1, 3),\n",
       " (1, 4),\n",
       " (1, 5),\n",
       " (3, 0),\n",
       " (3, 1),\n",
       " (3, 2),\n",
       " (3, 3),\n",
       " (3, 4),\n",
       " (3, 5),\n",
       " (4, 0),\n",
       " (4, 1),\n",
       " (4, 2),\n",
       " (4, 3),\n",
       " (4, 4),\n",
       " (4, 5),\n",
       " (5, 0),\n",
       " (5, 1),\n",
       " (5, 2),\n",
       " (5, 3),\n",
       " (5, 4),\n",
       " (5, 5)]"
      ]
     },
     "execution_count": 8,
     "metadata": {},
     "output_type": "execute_result"
    }
   ],
   "source": [
    "nonconf_E = nonconf_E_func(E)\n",
    "nonconf_E"
   ]
  },
  {
   "cell_type": "markdown",
   "metadata": {},
   "source": [
    "# アルゴリズム"
   ]
  },
  {
   "cell_type": "code",
   "execution_count": 9,
   "metadata": {},
   "outputs": [],
   "source": [
    "def capacity(w_i,bin_b,w,C): #bin_bの容量がw_iの大きさよりも大きいかを判定\n",
    "    if (C-sum(w[i] for i in bin_b)) >= w_i:\n",
    "        return True\n",
    "    else:\n",
    "        return False"
   ]
  },
  {
   "cell_type": "code",
   "execution_count": 10,
   "metadata": {},
   "outputs": [],
   "source": [
    "def conflict(item,bin_b,E_dict): #bin_bに割り当てられているアイテムたちとw_iの間にコンフリクトがあるかを判定\n",
    "    if item not in E_dict:\n",
    "        return False\n",
    "    for i in bin_b:\n",
    "        if i in E_dict[item]:\n",
    "                return False\n",
    "    return True"
   ]
  },
  {
   "cell_type": "code",
   "execution_count": 11,
   "metadata": {},
   "outputs": [],
   "source": [
    "def group(i,G): #アイテムiの属するグループの番号を返す関数\n",
    "    for index,menber in enumerate(G):\n",
    "        if i in menber:\n",
    "            return index"
   ]
  },
  {
   "cell_type": "markdown",
   "metadata": {},
   "source": [
    "## グループを並べ替える関数\n",
    "### 1.グループのメンバーが多い順\n",
    "\n",
    "### 2.コンフリクトの数の平均が多い順\n",
    "\n",
    "### 3.コンフリクトの数の最高値が高い順\n",
    "\n",
    "### 4.グループを分けるコストが大きい順"
   ]
  },
  {
   "cell_type": "code",
   "execution_count": 12,
   "metadata": {},
   "outputs": [],
   "source": [
    "#グループを並べ替える関数_1\n",
    "def sort_G_1(G):\n",
    "    return sorted(G,key=lambda x:len(x),reverse=True)"
   ]
  },
  {
   "cell_type": "code",
   "execution_count": 13,
   "metadata": {},
   "outputs": [],
   "source": [
    "#グループを並べ替える関数_2\n",
    "def sort_G_2(G):\n",
    "    return sorted(G,key=lambda x:sum(len(E_dict[i]) for i in x)/len(x),reverse=True)"
   ]
  },
  {
   "cell_type": "code",
   "execution_count": 14,
   "metadata": {},
   "outputs": [],
   "source": [
    "#グループを並べ替える関数_3\n",
    "def sort_G_3(G):\n",
    "    return sorted(G,key=lambda x:max(len(E_dict[i]) for i in x),reverse=True)"
   ]
  },
  {
   "cell_type": "code",
   "execution_count": 15,
   "metadata": {},
   "outputs": [],
   "source": [
    "#グループを並べ替える関数_4\n",
    "def sort_G_4(G):\n",
    "    return sorted(enumerate(G),key=lambda x:r[x[0]],reverse=True)"
   ]
  },
  {
   "cell_type": "markdown",
   "metadata": {},
   "source": [
    "# H1 : FFD"
   ]
  },
  {
   "cell_type": "code",
   "execution_count": null,
   "metadata": {},
   "outputs": [],
   "source": [
    "def FFD(n,V,B,w,C,E,G):\n",
    "    assign = {}\n",
    "    penalty = {}\n",
    "    I = sorted(V,key=lambda x:w[x],reverse=True) #大きさが大きい順にアイテムを並べ替える\n",
    "    \n",
    "    for i in I:\n",
    "        group_no = group(i,G)\n",
    "        for b in B:\n",
    "            if capacity(w[i],B[b],w,C): #容量制約を満たす\n",
    "                assign[b].append(i) #ビンbにアイテムiを入れる\n",
    "                "
   ]
  },
  {
   "cell_type": "code",
   "execution_count": 22,
   "metadata": {},
   "outputs": [],
   "source": [
    "def FFD(I,w,C,C_dict,E_dict,G,bin_dict,bins_group_using): #アイテムをビンに割り当てる\n",
    "    #I = sorted(I,key=lambda x:len(nonconf_E_dict[x]),reverse=True) #コンフリクトのないアイテム数が多い順にアイテムを走査\n",
    "    I = sorted(I,key=lambda x:w[x],reverse=True) #大きさが大きい順にアイテムを走査\n",
    "    \n",
    "    for i in I:\n",
    "        group_no = group(i,G)\n",
    "        for b in range(len(w)): #インデックスが小さい順にビンを走査\n",
    "            bin_dict[b] = bin_dict.setdefault(b,[])\n",
    "            C_dict[b] = C_dict.setdefault(b,C)\n",
    "            if capacity(w[i],bin_dict[b],w,C): #容量制約を満たす\n",
    "                bin_dict[b].append(i) #ビンbにアイテムiを入れる\n",
    "                bins_group_using[group_no] = bins_group_using.setdefault(group_no,[]) + [b] #グループgroup_noの使用するビンのインデックスを１つ追加\n",
    "                break  \n",
    "                \n",
    "    return bin_dict,bins_group_using"
   ]
  },
  {
   "cell_type": "markdown",
   "metadata": {},
   "source": [
    "# H2 : FFD for conflict"
   ]
  },
  {
   "cell_type": "code",
   "execution_count": 256,
   "metadata": {},
   "outputs": [],
   "source": [
    "def FFD_for_conflict(I,w,C,C_dict,E_dict,G,bin_dict,bins_group_using): #コンフリクトの数が多い順にアイテムをビンに割り当てる\n",
    "    I = sorted(I,key=lambda x:len(E_dict[x]),reverse=True) #コンフリクトの数が多い順にアイテムを走査\n",
    "    #I = sorted(I,key=lambda x:w[x],reverse=True) #大きさが大きい順にアイテムを走査\n",
    "    \n",
    "    for i in I:\n",
    "        group_no = group(i,G)\n",
    "        for b in range(len(w)): #インデックスが小さい順にビンを走査\n",
    "            bin_dict[b] = bin_dict.setdefault(b,[])\n",
    "            C_dict[b] = C_dict.setdefault(b,C)\n",
    "            if capacity(w[i],bin_dict[b],w,C) and conflict(i,bin_dict[b],E_dict): #容量制約を満たす　and　コンフリクトがない\n",
    "                bin_dict[b].append(i) #ビンbにアイテムiを入れる\n",
    "                bins_group_using[group_no] = bins_group_using.setdefault(group_no,[]) + [b] #.append(b) #グループgroup_noの使用するビンのインデックスを１つ追加\n",
    "                break  \n",
    "                \n",
    "    return bin_dict,bins_group_using"
   ]
  },
  {
   "cell_type": "markdown",
   "metadata": {},
   "source": [
    "# H3 : FFD for conflict and group"
   ]
  },
  {
   "cell_type": "code",
   "execution_count": 257,
   "metadata": {},
   "outputs": [],
   "source": [
    "def FFD_for_conflict_group(I,w,C,E_dict,G): #コンフリクトの数が多い順にアイテムをビンに割り当てる、をグループごとに行う\n",
    "    bin_dict = {} #ビンのインデックスをキーとし、ビンに割り当てられたアイテムを値とする辞書\n",
    "    bins_group_using = {} #グループのインデックスをキーとし、グループが使用したビンのインデックスのリストを値とする辞書\n",
    "    C_dict = {} #ビンのインデックスをキーとし、ビンの残り容量を値とする辞書\n",
    "    \n",
    "    G = sort_G_1(G) #グループの並べ替え\n",
    "    for g in G: #グループごとにFFD_for_conflict()\n",
    "        bin_dict,bins_group_using = FFD_for_conflict(g,w,C,C_dict,E_dict,G,bin_dict,bins_group_using) #gに対してFFD for conflictを行う\n",
    "        for b in range(len(bin_dict)):\n",
    "            C_dict[b] = C_dict[b]-sum(w[i] for i in bin_dict[b]) #割り当てたアイテムの大きさ分ずつビンの容量を減らしていく\n",
    "        \n",
    "    return bin_dict,bins_group_using"
   ]
  },
  {
   "cell_type": "markdown",
   "metadata": {},
   "source": [
    "# H4 : FFD for conflict and group 1"
   ]
  },
  {
   "cell_type": "code",
   "execution_count": 258,
   "metadata": {},
   "outputs": [],
   "source": [
    "def H4(I,w,C,E_dict,G): #コンフリクトの数が多い順にアイテムをビンに割り当てる、をグループごとに行う\n",
    "    bin_dict = {} #ビンのインデックスをキーとし、ビンに割り当てられたアイテムを値とする辞書\n",
    "    bins_group_using = {} #グループのインデックスをキーとし、グループが使用したビンのインデックスのリストを値とする辞書\n",
    "    C_dict = {} #ビンのインデックスをキーとし、ビンの残り容量を値とする辞書\n",
    "    \n",
    "    H = [i for i in I if len(E_dict[i])==0] #アイテムの順序付き集合I内のコンフリクトの数が0のアイテムの集合をHとし、I=I\\Hとする。\n",
    "    G_prime = [tuple(set(g)-(set(H)&set(g))) for index,g in enumerate(G)] #グループの順序つき集合Gを更新する。\n",
    "    \n",
    "    G_prime = sort_G_1(G_prime) #グループの並べ替え\n",
    "    for g in G_prime: #グループごとにFFD_for_conflict()\n",
    "        bin_dict,bins_group_using = FFD_for_conflict(g,w,C,C_dict,E_dict,G_prime,bin_dict,bins_group_using) #gに対してFFD for conflictを行う\n",
    "        for b in range(len(bin_dict)):\n",
    "            C_dict[b] = C_dict[b]-sum(w[i] for i in bin_dict[b]) #割り当てたアイテムの大きさ分ずつビンの容量を減らしていく\n",
    "            \n",
    "    bin_dict,bins_group_using = FFD(H,w,C,C_dict,E_dict,G,bin_dict,bins_group_using) #Hに対してFFDを行う\n",
    "    for b in range(len(bin_dict)):\n",
    "        C_dict[b] = C_dict[b]-sum(w[i] for i in bin_dict[b])\n",
    "        \n",
    "    return bin_dict,bins_group_using"
   ]
  },
  {
   "cell_type": "markdown",
   "metadata": {},
   "source": [
    "# H5 : Improved FFD for conflict and group 2"
   ]
  },
  {
   "cell_type": "code",
   "execution_count": 259,
   "metadata": {},
   "outputs": [],
   "source": [
    "def H5(I,w,C,E_dict,G): #コンフリクトの数が多い順にアイテムをビンに割り当てる、をグループごとに行う\n",
    "    bin_dict = {} #ビンのインデックスをキーとし、ビンに割り当てられたアイテムを値とする辞書\n",
    "    bins_group_using = {} #グループのインデックスをキーとし、グループが使用したビンのインデックスのリストを値とする辞書\n",
    "    C_dict = {} #ビンのインデックスをキーとし、ビンの残り容量を値とする辞書\n",
    "    \n",
    "    G = sort_G_1(G) #グループの並べ替え\n",
    "    for g in G: #グループごとにFFD_for_conflict()\n",
    "        H = [i for i in g if len(E_dict[i])==0] #コンフリクトの数が0のアイテムの集合H\n",
    "        g = tuple(set(g)-set(H)) #g=g\\H\n",
    "        bin_dict,bins_group_using = FFD_for_conflict(g,w,C,C_dict,E_dict,G,bin_dict,bins_group_using) #gに対してFFD for conflictを行う\n",
    "        bin_dict,bins_group_using = FFD(H,w,C,C_dict,E_dict,G,bin_dict,bins_group_using) #Hに対してFFDを行う\n",
    "        for b in range(len(bin_dict)):\n",
    "            C_dict[b] = C_dict[b]-sum(w[i] for i in bin_dict[b]) #割り当てたアイテムの大きさ分ずつビンの容量を減らしていく\n",
    "        \n",
    "    return bin_dict,bins_group_using"
   ]
  },
  {
   "cell_type": "markdown",
   "metadata": {},
   "source": [
    "# H6 : Improved FFD for conflict and group 3"
   ]
  },
  {
   "cell_type": "code",
   "execution_count": 260,
   "metadata": {},
   "outputs": [],
   "source": [
    "def H6(I,w,C,E_dict,G): #コンフリクトの数が多い順にアイテムをビンに割り当てる、をグループごとに行う\n",
    "    bin_dict = {} #ビンのインデックスをキーとし、ビンに割り当てられたアイテムを値とする辞書\n",
    "    bins_group_using = {} #グループのインデックスをキーとし、グループが使用したビンのインデックスのリストを値とする辞書\n",
    "    C_dict = {} #ビンのインデックスをキーとし、ビンの残り容量を値とする辞書\n",
    "    \n",
    "    G = sort_G_3(G) #グループの並べ替え\n",
    "    for g in G:\n",
    "        H = [i for i in g if len(E_dict[i])==0] #コンフリクトの数が0のアイテムの集合H\n",
    "        g = tuple(set(g)-set(H)) #g=g\\H\n",
    "        while len(g)>0:\n",
    "            max_degree = max(i for i in g) #グループg内で最もコンフリクトの数が多いアイテムiを選ぶ\n",
    "            g_i = (max_degree,) + tuple(menber for menber in g if menber in nonconf_E_dict[max_degree]) #グループg内でiとコンフリクトがないアイテムとiからなる集合g_iを定める\n",
    "            g = tuple(set(g)-set(g_i)) #g=g\\g_i\n",
    "            bin_dict,bins_group_using = FFD_for_conflict(g_i,w,C,C_dict,E_dict,G,bin_dict,bins_group_using) #g_iに対してFFD for conflictを行う\n",
    "            for b in range(len(bin_dict)):\n",
    "                C_dict[b] = C_dict[b]-sum(w[i] for i in bin_dict[b]) #割り当てたアイテムの大きさ分ずつビンの容量を減らしていく\n",
    "        bin_dict,bins_group_using = FFD(H,w,C,C_dict,E_dict,G,bin_dict,bins_group_using) #Hに対してFFDを行う\n",
    "        for b in range(len(bin_dict)):\n",
    "            C_dict[b] = C_dict[b]-sum(w[i] for i in bin_dict[b]) #割り当てたアイテムの大きさ分ずつビンの容量を減らしていく\n",
    "\n",
    "    return bin_dict,bins_group_using"
   ]
  },
  {
   "cell_type": "markdown",
   "metadata": {},
   "source": [
    "# H7 : Improved FFD for conflict and group 4"
   ]
  },
  {
   "cell_type": "code",
   "execution_count": 261,
   "metadata": {},
   "outputs": [],
   "source": [
    "def H7(I,w,C,E_dict,G): #コンフリクトの数が多い順にアイテムをビンに割り当てる、をグループごとに行う\n",
    "    bin_dict = {} #ビンのインデックスをキーとし、ビンに割り当てられたアイテムを値とする辞書\n",
    "    bins_group_using = {} #グループのインデックスをキーとし、グループが使用したビンのインデックスのリストを値とする辞書\n",
    "    C_dict = {} #ビンのインデックスをキーとし、ビンの残り容量を値とする辞書\n",
    "    \n",
    "    H = [i for i in I if len(E_dict[i])==0] #アイテムの順序付き集合I内のコンフリクトの数が0のアイテムの集合をHとし、I=I\\Hとする。\n",
    "    G_prime = [tuple(set(g)-(set(H)&set(g))) for index,g in enumerate(G)] #グループの順序つき集合Gを更新する。\n",
    "    \n",
    "    G_prime = sort_G_3(G_prime) #グループの並べ替え\n",
    "    for g in G_prime:\n",
    "        g = tuple(set(g)-set(H)) #g=g\\H\n",
    "        while len(g)>0:\n",
    "            max_degree = max(i for i in g) #グループg内で最もコンフリクトの数が多いアイテムiを選ぶ\n",
    "            g_i = (max_degree,) + tuple(menber for menber in g if menber in nonconf_E_dict[max_degree]) #グループg内でiとコンフリクトがないアイテムとiからなる集合g_iを定める\n",
    "            g = tuple(set(g)-set(g_i)) #g=g\\g_i\n",
    "            bin_dict,bins_group_using = FFD_for_conflict(g_i,w,C,C_dict,E_dict,G_prime,bin_dict,bins_group_using) #g_iに対してFFD for conflictを行う\n",
    "            for b in range(len(bin_dict)):\n",
    "                C_dict[b] = C_dict[b]-sum(w[i] for i in bin_dict[b]) #割り当てたアイテムの大きさ分ずつビンの容量を減らしていく\n",
    "    bin_dict,bins_group_using = FFD(H,w,C,C_dict,E_dict,G,bin_dict,bins_group_using) #Hに対してFFDを行う\n",
    "    for b in range(len(bin_dict)):\n",
    "        C_dict[b] = C_dict[b]-sum(w[i] for i in bin_dict[b]) #割り当てたアイテムの大きさ分ずつビンの容量を減らしていく\n",
    "\n",
    "    return bin_dict,bins_group_using"
   ]
  },
  {
   "cell_type": "markdown",
   "metadata": {},
   "source": [
    "# Gendreauさんのビンパッキングに対するヒューリスティクスなやつ"
   ]
  },
  {
   "cell_type": "markdown",
   "metadata": {},
   "source": [
    "1. アイテムの集合V内のコンフリクトの数が0のアイテムの集合をHとし、V=V \\Hとする。\n",
    "2. Johnsonのヒューリスティクスを使ってコンフリクトグラフG内のクリークDを定め、V=V \\Dとする。V=φならば終了。\n",
    "3. クリークDのすべての要素iに対し、Johnsonのヒューリスティックを使ってV ∪ {i}として導出されるノンコンフリクトグラフG^~iの中からiを含む最大のクリークDiを定める。Diに対しFFDを行う。Vからiを含むビンに割り当てられているアイテム全てを除く。そして、D=D\\iとする。もしI=φならばステップ4へ。もしD=φならばステップ2へ。さもなければ、ステップ3へ。\n",
    "4. Hに対してFFDを行う。このとき、現在使われているビンから優先的に割り当てるようにする。"
   ]
  },
  {
   "cell_type": "markdown",
   "metadata": {},
   "source": [
    "# Johnsonさんの最大クリークを求めるヒューリスティクスなやつ"
   ]
  },
  {
   "cell_type": "markdown",
   "metadata": {},
   "source": [
    "入力　G=(N,A)  \n",
    "出力 最大のクリーク\n",
    "1. SUB =Nとする\n",
    "2. もしSUBがクリークなら終了し、SUBを返す\n",
    "3. yをSUBに属するノードのうち、SUBに属する他のノードと隣接している数が最も少ないものとする\n",
    "4. SUB=SUB-{y}とし、2.へ"
   ]
  },
  {
   "cell_type": "code",
   "execution_count": 16,
   "metadata": {},
   "outputs": [],
   "source": [
    "def clique(SUB,A):\n",
    "    flag=True\n",
    "    for i in SUB:\n",
    "        for j in SUB:\n",
    "            if i!=j:\n",
    "                if (i,j) not in A and (j,i) not in A:\n",
    "                    flag = False\n",
    "                    break\n",
    "        if flag!=True:\n",
    "            break       \n",
    "    return flag"
   ]
  },
  {
   "cell_type": "code",
   "execution_count": 17,
   "metadata": {},
   "outputs": [],
   "source": [
    "def fewest_degree_node(SUB,A):\n",
    "    degree_dict = {}\n",
    "    for n in SUB:\n",
    "        degree_dict[n] = 0\n",
    "    for e in A:\n",
    "        try:\n",
    "            degree_dict[e[0]] += 1\n",
    "            degree_dict[e[1]] += 1\n",
    "        except:\n",
    "            continue\n",
    "    return {min(degree_dict,key=lambda x:degree_dict[x])}"
   ]
  },
  {
   "cell_type": "code",
   "execution_count": 18,
   "metadata": {},
   "outputs": [],
   "source": [
    "def Johnson(N,A): #与えられた点集合と枝集合から最大クリークを生成する #Nは点の集合、Aは枝の集合\n",
    "    SUB = N\n",
    "    while True:\n",
    "        if clique(SUB,A):\n",
    "            break\n",
    "        else:\n",
    "            y = fewest_degree_node(SUB,A) #SUBのノードのうち、最も次数の少ないものを定める\n",
    "            SUB = SUB-y #SUBからyを除く\n",
    "            for e in A:\n",
    "                if y in e:\n",
    "                    A = A-{e} #yにつながってる枝を除く\n",
    "    return SUB"
   ]
  },
  {
   "cell_type": "code",
   "execution_count": 20,
   "metadata": {},
   "outputs": [],
   "source": [
    "I = sorted(V,key=lambda x:w[x],reverse=True)"
   ]
  },
  {
   "cell_type": "code",
   "execution_count": 24,
   "metadata": {},
   "outputs": [],
   "source": [
    "G = [(0,3), (1,4,5), (2,)]"
   ]
  },
  {
   "cell_type": "code",
   "execution_count": 25,
   "metadata": {
    "scrolled": true
   },
   "outputs": [
    {
     "name": "stdout",
     "output_type": "stream",
     "text": [
      "\t i \t 1\n",
      "\t V \t {0, 1}\n",
      "\t D_i \t {0, 1}\n",
      "\t bin_dict \t {0: [0, 1]}\n",
      "\t bins_group_using \t {0: [0], 1: [0]}\n",
      "\t V \t set()\n",
      "\t D \t {2}\n",
      "\t C_dict \t {0: 4}\n",
      "\n",
      "\t i \t 2\n",
      "\t V \t {2}\n",
      "\t D_i \t {2}\n",
      "\t bin_dict \t {0: [], 1: [2]}\n",
      "\t bins_group_using \t {0: [0], 1: [0], 2: [1]}\n",
      "\t V \t set()\n",
      "\t D \t set()\n",
      "\t C_dict \t {0: 4, 1: 4}\n",
      "\n"
     ]
    }
   ],
   "source": [
    "bin_dict = {} #ビンのインデックスをキーとし、ビンに割り当てられたアイテムを値とする辞書\n",
    "bins_group_using = {} #グループのインデックスをキーとし、グループが使用したビンのインデックスのリストを値とする辞書\n",
    "C_dict = {} #ビンのインデックスをキーとし、ビンの残り容量を値とする辞書\n",
    "\n",
    "#1\n",
    "V = set(I)\n",
    "H = set(i for i in V if len(E_dict[i])==0) #アイテムの集合V内のコンフリクトの数が0のアイテムの集合をHとし、V=V\\Hとする。\n",
    "V = V-H #コンフリクトの数が0のアイテムを含まないアイテム集合\n",
    "E = set(E)    \n",
    "#print(\"V \\t\",V)\n",
    "\n",
    "#2\n",
    "if V==set(): #V=φならば終了\n",
    "    pass\n",
    "else:\n",
    "    D = Johnson(V,E) #DはグラフG内の最大のクリーク\n",
    "    V = V-D\n",
    "#print(\"D \\t\",D)\n",
    "#print(\"V-D\")\n",
    "#print(\"V \\t\",V)\n",
    "#print()\n",
    "\n",
    "#3\n",
    "for i in D:\n",
    "    print(\"\\t i \\t\",i)\n",
    "    \n",
    "    V = V | {i}\n",
    "    print(\"\\t V \\t\",V)\n",
    "    \n",
    "    D_i = Johnson(V,nonconf_E) #V ∪ {i} と　コンフリクトがないアイテム同士の組みを要素にもつ枝集合　から最大クリークを見つける\n",
    "    print(\"\\t D_i \\t\",D_i)\n",
    "    \n",
    "    bin_dict,bins_group_using = FFD(D_i,w,C,C_dict,E_dict,G,bin_dict,bins_group_using)\n",
    "    for index,value in bin_dict.items():\n",
    "        if i in value:\n",
    "            V = V - set(value)\n",
    "        else:\n",
    "            bin_dict[index] = []\n",
    "            \n",
    "    print(\"\\t bin_dict \\t\",bin_dict)\n",
    "    print(\"\\t bins_group_using \\t\",bins_group_using)\n",
    "    \n",
    "    for b in range(len(bin_dict)):\n",
    "        C_dict[b] = C_dict[b]-sum(w[k] for k in bin_dict[b]) #割り当てたアイテムの大きさ分ずつビンの容量を減らしていく\n",
    "        \n",
    "    D = D - {i}\n",
    "    print(\"\\t V \\t\",V)\n",
    "    print(\"\\t D \\t\",D)\n",
    "    print(\"\\t C_dict \\t\",C_dict)\n",
    "    print()\n",
    "    \n",
    "    #4\n",
    "    #if V==set() and D==set():"
   ]
  },
  {
   "cell_type": "code",
   "execution_count": 26,
   "metadata": {
    "scrolled": true
   },
   "outputs": [
    {
     "name": "stdout",
     "output_type": "stream",
     "text": [
      "V \t {0, 1, 2}\n",
      "D \t {1, 2}\n",
      "V-D\n",
      "V \t {0}\n",
      "\n",
      "\t i \t 1\n",
      "\t V \t {0, 1}\n",
      "\t D_i \t {0, 1}\n",
      "\t bin_dict_temp \t {0: [0, 1]}\n",
      "\t bins_group_using_temp \t {0: [0], 1: [0]}\n",
      "\t bin_dict \t {0: [0, 1]}\n",
      "\t bins_group_using \t {0: [0], 1: [0]}\n",
      "\t V \t set()\n",
      "\t D \t {2}\n",
      "\t C_dict \t {0: 9}\n",
      "\n",
      "\t i \t 2\n",
      "\t V \t {2}\n",
      "\t D_i \t {2}\n",
      "\t bin_dict_temp \t {0: [0, 1], 1: [2]}\n",
      "\t bins_group_using_temp \t {0: [0], 1: [0], 2: [1]}\n",
      "\t bin_dict \t {0: [0, 1], 1: [2]}\n",
      "\t bins_group_using \t {0: [0], 1: [0], 2: [1]}\n",
      "\t V \t set()\n",
      "\t D \t set()\n",
      "\t C_dict \t {0: 9, 1: 9}\n",
      "\n"
     ]
    }
   ],
   "source": [
    "bin_dict = {} #ビンのインデックスをキーとし、ビンに割り当てられたアイテムを値とする辞書\n",
    "bins_group_using = {} #グループのインデックスをキーとし、グループが使用したビンのインデックスのリストを値とする辞書\n",
    "C_dict = {} #ビンのインデックスをキーとし、ビンの残り容量を値とする辞書\n",
    "\n",
    "#1\n",
    "V = set(I)\n",
    "H = set(i for i in V if len(E_dict[i])==0) #アイテムの集合V内のコンフリクトの数が0のアイテムの集合をHとし、V=V\\Hとする。\n",
    "V = V-H #コンフリクトの数が0のアイテムを含まないアイテム集合\n",
    "E = set(E)    \n",
    "print(\"V \\t\",V)\n",
    "#2\n",
    "if V==set(): #V=φならば終了\n",
    "    pass\n",
    "else:\n",
    "    D = Johnson(V,E) #DはグラフG内の最大のクリーク\n",
    "    V = V-D\n",
    "print(\"D \\t\",D)\n",
    "print(\"V-D\")\n",
    "print(\"V \\t\",V)\n",
    "print()\n",
    "#3\n",
    "bin_dict_temp = {}\n",
    "bins_group_using_temp = {}\n",
    "for i in D:\n",
    "    print(\"\\t i \\t\",i)\n",
    "    \n",
    "    V = V | {i}\n",
    "    print(\"\\t V \\t\",V)\n",
    "    \n",
    "    D_i = Johnson(V,nonconf_E) #V ∪ {i} と　コンフリクトがないアイテム同士の組みを要素にもつ枝集合　から最大クリークを見つける\n",
    "    print(\"\\t D_i \\t\",D_i)\n",
    "    \n",
    "    bin_dict_temp,bins_group_using_temp = FFD(D_i,w,C,C_dict,E_dict,G,bin_dict_temp,bins_group_using_temp)\n",
    "    print(\"\\t bin_dict_temp \\t\",bin_dict_temp)\n",
    "    print(\"\\t bins_group_using_temp \\t\",bins_group_using_temp)\n",
    "    \n",
    "    for index,value in bin_dict_temp.items():\n",
    "        if i in value:\n",
    "            V = V - set(value)\n",
    "            bin_dict[index] = value\n",
    "        \"\"\"for j in value:\n",
    "            group_no = group(j,G)\n",
    "            bins_group_using[group_no] = bins_group_using.setdefault(group_no,[]) + [index]\"\"\"\n",
    "        \n",
    "    for b in range(len(bin_dict)):\n",
    "        if bin_dict[b]==9:\n",
    "            C_dict[b] = C-sum(w[k] for k in bin_dict[b]) #割り当てたアイテムの大きさ分ずつビンの容量を減らしていく\n",
    "        \n",
    "    bins_group_using = bins_group_using_temp\n",
    "    #bin_dict_temp,bins_group_using_temp = bin_dict,bins_group_using\n",
    "    \n",
    "    print(\"\\t bin_dict \\t\",bin_dict)\n",
    "    print(\"\\t bins_group_using \\t\",bins_group_using)\n",
    "    D = D - {i}\n",
    "    print(\"\\t V \\t\",V)\n",
    "    print(\"\\t D \\t\",D)\n",
    "    print(\"\\t C_dict \\t\",C_dict)\n",
    "    print()\n",
    "    \n",
    "    #4\n",
    "    #if V==set() and D==set():"
   ]
  },
  {
   "cell_type": "code",
   "execution_count": 139,
   "metadata": {},
   "outputs": [],
   "source": [
    "def Gendreau(I,w,C,E,nonconf_E,E_dict,G):\n",
    "    bin_dict = {} #ビンのインデックスをキーとし、ビンに割り当てられたアイテムを値とする辞書\n",
    "    bins_group_using = {} #グループのインデックスをキーとし、グループが使用したビンのインデックスのリストを値とする辞書\n",
    "    C_dict = {} #ビンのインデックスをキーとし、ビンの残り容量を値とする辞書\n",
    "    \n",
    "    #1\n",
    "    V = set(I)\n",
    "    H = set(i for i in V if len(E_dict[i])==0) #アイテムの集合V内のコンフリクトの数が0のアイテムの集合をHとし、V=V\\Hとする。\n",
    "    V = V-H #コンフリクトの数が0のアイテムを含まないアイテム集合\n",
    "    E = set(E)    \n",
    "    #2\n",
    "    if V==set(): #V=φならば終了\n",
    "        pass\n",
    "    else:\n",
    "        D = Johnson(V,E) #DはグラフG内の最大のクリーク\n",
    "        V = V-D\n",
    "    #3\n",
    "    for i in D:\n",
    "        V = V | {i}\n",
    "        D_i = Johnson(V,nonconf_E) #V ∪ {i} と　コンフリクトがないアイテム同士の組みを要素にもつ枝集合　から最大クリークを見つける\n",
    "        bin_dict_temp = {}\n",
    "        bins_group_using_temp = {}\n",
    "        bin_dict_temp,bins_group_using_temp = FFD(I,w,C,C_dict,E_dict,G,bin_dict,bins_group_using)\n",
    "        for index,value in enumerate(bins_group_using_temp):\n",
    "            if i in value:\n",
    "                "
   ]
  },
  {
   "cell_type": "code",
   "execution_count": 91,
   "metadata": {
    "collapsed": true
   },
   "outputs": [
    {
     "name": "stdout",
     "output_type": "stream",
     "text": [
      "{(1, 2), (0, 2)}\n"
     ]
    },
    {
     "ename": "NameError",
     "evalue": "name 'Johnson' is not defined",
     "output_type": "error",
     "traceback": [
      "\u001b[0;31m---------------------------------------------------------------------------\u001b[0m",
      "\u001b[0;31mNameError\u001b[0m                                 Traceback (most recent call last)",
      "\u001b[0;32m<ipython-input-91-e461c6e0245c>\u001b[0m in \u001b[0;36m<module>\u001b[0;34m\u001b[0m\n\u001b[0;32m----> 1\u001b[0;31m \u001b[0mGendreau\u001b[0m\u001b[0;34m(\u001b[0m\u001b[0mI\u001b[0m\u001b[0;34m,\u001b[0m\u001b[0mw\u001b[0m\u001b[0;34m,\u001b[0m\u001b[0mC\u001b[0m\u001b[0;34m,\u001b[0m\u001b[0mE\u001b[0m\u001b[0;34m,\u001b[0m\u001b[0mG\u001b[0m\u001b[0;34m)\u001b[0m \u001b[0;31m#引数にE_dictではなくEを渡していることに注意\u001b[0m\u001b[0;34m\u001b[0m\u001b[0;34m\u001b[0m\u001b[0m\n\u001b[0m",
      "\u001b[0;32m<ipython-input-90-7134ac6f5b67>\u001b[0m in \u001b[0;36mGendreau\u001b[0;34m(I, w, C, E, G)\u001b[0m\n\u001b[1;32m     15\u001b[0m         \u001b[0;32mpass\u001b[0m\u001b[0;34m\u001b[0m\u001b[0;34m\u001b[0m\u001b[0m\n\u001b[1;32m     16\u001b[0m     \u001b[0;32melse\u001b[0m\u001b[0;34m:\u001b[0m\u001b[0;34m\u001b[0m\u001b[0;34m\u001b[0m\u001b[0m\n\u001b[0;32m---> 17\u001b[0;31m         \u001b[0mD\u001b[0m \u001b[0;34m=\u001b[0m \u001b[0mJohnson\u001b[0m\u001b[0;34m(\u001b[0m\u001b[0mV\u001b[0m\u001b[0;34m,\u001b[0m\u001b[0mE\u001b[0m\u001b[0;34m)\u001b[0m \u001b[0;31m#DはグラフG内の最大のクリーク\u001b[0m\u001b[0;34m\u001b[0m\u001b[0;34m\u001b[0m\u001b[0m\n\u001b[0m\u001b[1;32m     18\u001b[0m         \u001b[0mV\u001b[0m \u001b[0;34m=\u001b[0m \u001b[0mV\u001b[0m\u001b[0;34m-\u001b[0m\u001b[0mD\u001b[0m\u001b[0;34m\u001b[0m\u001b[0;34m\u001b[0m\u001b[0m\n",
      "\u001b[0;31mNameError\u001b[0m: name 'Johnson' is not defined"
     ]
    }
   ],
   "source": [
    "Gendreau(I,w,C,E,nonconf_E,G)"
   ]
  },
  {
   "cell_type": "markdown",
   "metadata": {},
   "source": [
    "# H3 : FFD for conflict and groupの実行"
   ]
  },
  {
   "cell_type": "code",
   "execution_count": 19,
   "metadata": {},
   "outputs": [],
   "source": [
    "I = list(range(n))\n",
    "C = maximum #{b:maximum+1 for b in range(n)}"
   ]
  },
  {
   "cell_type": "code",
   "execution_count": 20,
   "metadata": {
    "scrolled": true
   },
   "outputs": [],
   "source": [
    "bin_dict,bins_group_using = FFD_for_conflict_group(I,w,C,E_dict,G)"
   ]
  },
  {
   "cell_type": "code",
   "execution_count": 21,
   "metadata": {
    "scrolled": true
   },
   "outputs": [
    {
     "name": "stdout",
     "output_type": "stream",
     "text": [
      "0 [1, 4, 5, 0]\n",
      "1 [3]\n",
      "2 [2]\n",
      "6\n"
     ]
    }
   ],
   "source": [
    "item_number = 0\n",
    "for i in range(len(bin_dict)):\n",
    "    item_number += len(bin_dict[i])\n",
    "    print(i,bin_dict[i])\n",
    "    \n",
    "print(item_number)"
   ]
  },
  {
   "cell_type": "code",
   "execution_count": 22,
   "metadata": {},
   "outputs": [
    {
     "name": "stdout",
     "output_type": "stream",
     "text": [
      "{0: [0, 0, 0], 1: [0, 1], 2: [2]}\n"
     ]
    }
   ],
   "source": [
    "print(bins_group_using)"
   ]
  },
  {
   "cell_type": "code",
   "execution_count": 23,
   "metadata": {},
   "outputs": [
    {
     "name": "stdout",
     "output_type": "stream",
     "text": [
      "0 [0, 0, 0]\n",
      "1 [0, 1]\n",
      "2 [2]\n"
     ]
    }
   ],
   "source": [
    "for group_number in range(len(G)):\n",
    "    print(group_number,bins_group_using[group_number])\n",
    "    #print(r[group_number]*len(set(bins_group_using[group_number])))"
   ]
  },
  {
   "cell_type": "code",
   "execution_count": 24,
   "metadata": {},
   "outputs": [
    {
     "name": "stdout",
     "output_type": "stream",
     "text": [
      "3\n"
     ]
    }
   ],
   "source": [
    "bin_counter=0\n",
    "for i in range(len(bin_dict)):\n",
    "    if len(bin_dict[i]) > 0:\n",
    "        bin_counter+=1\n",
    "print(bin_counter)"
   ]
  },
  {
   "cell_type": "markdown",
   "metadata": {},
   "source": [
    "# H4 : Improved FFD for conflict and group 1の実行"
   ]
  },
  {
   "cell_type": "code",
   "execution_count": 25,
   "metadata": {},
   "outputs": [],
   "source": [
    "I = list(range(n))\n",
    "C = maximum #{b:maximum+1 for b in range(n)}"
   ]
  },
  {
   "cell_type": "code",
   "execution_count": 26,
   "metadata": {
    "scrolled": true
   },
   "outputs": [],
   "source": [
    "bin_dict,bins_group_using = H4(I,w,C,E_dict,G)"
   ]
  },
  {
   "cell_type": "code",
   "execution_count": 27,
   "metadata": {
    "scrolled": true
   },
   "outputs": [
    {
     "name": "stdout",
     "output_type": "stream",
     "text": [
      "0 [0, 1, 4, 5]\n",
      "1 [2]\n",
      "2 [3]\n",
      "6\n"
     ]
    }
   ],
   "source": [
    "item_number = 0\n",
    "for i in range(len(bin_dict)):\n",
    "    item_number += len(bin_dict[i])\n",
    "    print(i,bin_dict[i])\n",
    "    \n",
    "print(item_number)"
   ]
  },
  {
   "cell_type": "code",
   "execution_count": 28,
   "metadata": {},
   "outputs": [
    {
     "name": "stdout",
     "output_type": "stream",
     "text": [
      "{0: [0, 2], 1: [0, 0, 0], 2: [1]}\n"
     ]
    }
   ],
   "source": [
    "print(bins_group_using)"
   ]
  },
  {
   "cell_type": "code",
   "execution_count": 29,
   "metadata": {},
   "outputs": [
    {
     "name": "stdout",
     "output_type": "stream",
     "text": [
      "0 [0, 2]\n",
      "1 [0, 0, 0]\n",
      "2 [1]\n"
     ]
    }
   ],
   "source": [
    "for group_number in range(len(G)):\n",
    "    print(group_number,bins_group_using[group_number])\n",
    "    #print(r[group_number]*len(set(bins_group_using[group_number])))"
   ]
  },
  {
   "cell_type": "code",
   "execution_count": 30,
   "metadata": {},
   "outputs": [
    {
     "name": "stdout",
     "output_type": "stream",
     "text": [
      "3\n"
     ]
    }
   ],
   "source": [
    "bin_counter=0\n",
    "for i in range(len(bin_dict)):\n",
    "    if len(bin_dict[i]) > 0:\n",
    "        bin_counter+=1\n",
    "print(bin_counter)"
   ]
  },
  {
   "cell_type": "markdown",
   "metadata": {},
   "source": [
    "# H6 : Improved FFD for conflict and group 3の実行"
   ]
  },
  {
   "cell_type": "code",
   "execution_count": 31,
   "metadata": {},
   "outputs": [],
   "source": [
    "I = list(range(n))\n",
    "C = maximum #{b:maximum+1 for b in range(n)}"
   ]
  },
  {
   "cell_type": "code",
   "execution_count": 32,
   "metadata": {
    "scrolled": true
   },
   "outputs": [],
   "source": [
    "bin_dict,bins_group_using = H6(I,w,C,E_dict,G)"
   ]
  },
  {
   "cell_type": "code",
   "execution_count": 33,
   "metadata": {
    "scrolled": true
   },
   "outputs": [
    {
     "name": "stdout",
     "output_type": "stream",
     "text": [
      "0 [2, 4, 5]\n",
      "1 [0, 3]\n",
      "2 [1]\n",
      "6\n"
     ]
    }
   ],
   "source": [
    "number = 0\n",
    "for i in range(len(bin_dict)):\n",
    "    number += len(bin_dict[i])\n",
    "    print(i,bin_dict[i])\n",
    "    \n",
    "print(number)"
   ]
  },
  {
   "cell_type": "code",
   "execution_count": 34,
   "metadata": {},
   "outputs": [
    {
     "name": "stdout",
     "output_type": "stream",
     "text": [
      "{0: [0], 1: [1, 1], 2: [2, 0, 0]}\n"
     ]
    }
   ],
   "source": [
    "print(bins_group_using)"
   ]
  },
  {
   "cell_type": "code",
   "execution_count": 35,
   "metadata": {},
   "outputs": [
    {
     "name": "stdout",
     "output_type": "stream",
     "text": [
      "1\n",
      "1\n",
      "2\n"
     ]
    }
   ],
   "source": [
    "for group_number in range(len(G)):\n",
    "    print(r[group_number]*len(set(bins_group_using[group_number])))"
   ]
  },
  {
   "cell_type": "code",
   "execution_count": 36,
   "metadata": {},
   "outputs": [
    {
     "name": "stdout",
     "output_type": "stream",
     "text": [
      "3\n"
     ]
    }
   ],
   "source": [
    "bin_counter=0\n",
    "for i in range(len(bin_dict)):\n",
    "    if len(bin_dict[i]) > 0:\n",
    "        bin_counter+=1\n",
    "print(bin_counter)"
   ]
  },
  {
   "cell_type": "markdown",
   "metadata": {},
   "source": [
    "# H7 : Improved FFD for conflict and group 4の実行"
   ]
  },
  {
   "cell_type": "code",
   "execution_count": 37,
   "metadata": {},
   "outputs": [],
   "source": [
    "I = list(range(n))\n",
    "C = maximum #{b:maximum+1 for b in range(n)}"
   ]
  },
  {
   "cell_type": "code",
   "execution_count": 38,
   "metadata": {
    "scrolled": true
   },
   "outputs": [],
   "source": [
    "bin_dict,bins_group_using = H7(I,w,C,E_dict,G)"
   ]
  },
  {
   "cell_type": "code",
   "execution_count": 39,
   "metadata": {
    "scrolled": true
   },
   "outputs": [
    {
     "name": "stdout",
     "output_type": "stream",
     "text": [
      "0 [2, 4, 5]\n",
      "1 [0, 1]\n",
      "2 [3]\n",
      "6\n"
     ]
    }
   ],
   "source": [
    "number = 0\n",
    "for i in range(len(bin_dict)):\n",
    "    number += len(bin_dict[i])\n",
    "    print(i,bin_dict[i])\n",
    "    \n",
    "print(number)"
   ]
  },
  {
   "cell_type": "code",
   "execution_count": 40,
   "metadata": {},
   "outputs": [
    {
     "name": "stdout",
     "output_type": "stream",
     "text": [
      "{0: [0, 2], 1: [1, 0, 0], 2: [1]}\n"
     ]
    }
   ],
   "source": [
    "print(bins_group_using)"
   ]
  },
  {
   "cell_type": "code",
   "execution_count": 41,
   "metadata": {},
   "outputs": [
    {
     "name": "stdout",
     "output_type": "stream",
     "text": [
      "2\n",
      "2\n",
      "1\n"
     ]
    }
   ],
   "source": [
    "for group_number in range(len(G)):\n",
    "    print(r[group_number]*len(set(bins_group_using[group_number])))"
   ]
  },
  {
   "cell_type": "code",
   "execution_count": 42,
   "metadata": {},
   "outputs": [
    {
     "name": "stdout",
     "output_type": "stream",
     "text": [
      "3\n"
     ]
    }
   ],
   "source": [
    "bin_counter=0\n",
    "for i in range(len(bin_dict)):\n",
    "    if len(bin_dict[i]) > 0:\n",
    "        bin_counter+=1\n",
    "print(bin_counter)"
   ]
  },
  {
   "cell_type": "markdown",
   "metadata": {},
   "source": [
    "# グループの並べ替え、新しい方法を考える"
   ]
  },
  {
   "cell_type": "markdown",
   "metadata": {},
   "source": [
    "# ビンを使うコストとグループを分けるコストの比によってH6 : FFD for conflict and group 3を使うアイテムの集合とGendreauのH6を使うアイテムの集合に分割する --> GendreauのH6実装"
   ]
  },
  {
   "cell_type": "markdown",
   "metadata": {},
   "source": [
    "# H4とH7の完成 **H4は完成"
   ]
  },
  {
   "cell_type": "code",
   "execution_count": null,
   "metadata": {},
   "outputs": [],
   "source": []
  }
 ],
 "metadata": {
  "kernelspec": {
   "display_name": "Python 3",
   "language": "python",
   "name": "python3"
  },
  "language_info": {
   "codemirror_mode": {
    "name": "ipython",
    "version": 3
   },
   "file_extension": ".py",
   "mimetype": "text/x-python",
   "name": "python",
   "nbconvert_exporter": "python",
   "pygments_lexer": "ipython3",
   "version": "3.6.8"
  }
 },
 "nbformat": 4,
 "nbformat_minor": 4
}
