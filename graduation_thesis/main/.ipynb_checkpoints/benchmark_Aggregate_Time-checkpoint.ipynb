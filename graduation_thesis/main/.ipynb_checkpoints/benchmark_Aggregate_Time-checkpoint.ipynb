{
 "cells": [
  {
   "cell_type": "code",
   "execution_count": 12,
   "metadata": {},
   "outputs": [
    {
     "name": "stdout",
     "output_type": "stream",
     "text": [
      "Current directory\t /Users/okamoto/Desktop/yutaokamoto_mac/Seminar/benchmark\n"
     ]
    }
   ],
   "source": [
    "import os\n",
    "path = os.path.abspath(\".\")\n",
    "print(\"Current directory\\t\",path)"
   ]
  },
  {
   "cell_type": "code",
   "execution_count": 19,
   "metadata": {},
   "outputs": [],
   "source": [
    "import datetime\n",
    "import pathlib\n",
    "from decimal import Decimal, ROUND_HALF_UP, ROUND_HALF_EVEN\n",
    "for instance_scale in [\"w120\",\"w250\",\"w500\"]: #アイテム数が500以下の問題例に対して実験を行なった．\n",
    "\n",
    "    instance_number==0: #0に対してのみ実験を行なった．\n",
    "        \n",
    "    file_output = path + \"/\" + \"output\" + \"/\" + \"Myheuristics_Aggregate\" + \"/Time_\" + str(\"i\"+str(instance_scale[1:])) + \"_\"  + f\"n{instance_number}\" + \".txt\"\n",
    "    with open(file_output,mode=\"w\") as f:\n",
    "        f.write(\"density\\t\\tH3\\tH4\\tH5\\tH6\\tH7\\tH8\\n\")\n",
    "\n",
    "    for density in range(10):\n",
    "        for heuristics in range(3,9):\n",
    "            if instance_scale==\"w500\":#density<=4:\n",
    "                file_input = path + \"/output/Myheuristics_n0_time/Time_\" + str(\"i\"+str(instance_scale[1:])) + \"_\" + f\"n{instance_number}\" + \"_\" + str(\"d\"+str(density*10)) + \"_\" + str(\"H\"+str(heuristics)) + \".txt\"\n",
    "                with open(file_input,mode=\"r\") as f:\n",
    "                    for line in f:\n",
    "                        if \"Times\" in line:\n",
    "                            elapsed_time = line.split(\"\\t\")[-1]\n",
    "                elapsed_time = Decimal(str(elapsed_time)).quantize(Decimal('0.1'), rounding=ROUND_HALF_UP)\n",
    "                file_output = path + \"/\" + \"output\" + \"/\" + \"Myheuristics_Aggregate\" + \"/Time_\" + str(\"i\"+str(instance_scale[1:])) + \"_\"  + f\"n{instance_number}\" + \".txt\"\n",
    "                with open(file_output,mode=\"a\") as f:\n",
    "                    if heuristics==3:\n",
    "                        f.write(str(density*10)+\"%\"+\"\\t\"+str(elapsed_time)+\"\\t\")\n",
    "                    elif heuristics==4 or heuristics==5 or heuristics==6 or heuristics==7:\n",
    "                        f.write(str(elapsed_time)+\"\\t\")\n",
    "                    elif heuristics==8:\n",
    "                        f.write(str(elapsed_time)+\"\\n\\n\")"
   ]
  },
  {
   "cell_type": "code",
   "execution_count": null,
   "metadata": {},
   "outputs": [],
   "source": []
  }
 ],
 "metadata": {
  "kernelspec": {
   "display_name": "Python 3",
   "language": "python",
   "name": "python3"
  },
  "language_info": {
   "codemirror_mode": {
    "name": "ipython",
    "version": 3
   },
   "file_extension": ".py",
   "mimetype": "text/x-python",
   "name": "python",
   "nbconvert_exporter": "python",
   "pygments_lexer": "ipython3",
   "version": "3.6.8"
  }
 },
 "nbformat": 4,
 "nbformat_minor": 2
}
