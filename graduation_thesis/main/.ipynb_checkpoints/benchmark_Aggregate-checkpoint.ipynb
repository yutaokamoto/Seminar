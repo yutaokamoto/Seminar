{
 "cells": [
  {
   "cell_type": "code",
   "execution_count": 1,
   "metadata": {},
   "outputs": [
    {
     "name": "stdout",
     "output_type": "stream",
     "text": [
      "Current directory\t /Users/okamoto/Desktop/yutaokamoto_mac/Seminar/benchmark\n"
     ]
    }
   ],
   "source": [
    "import os\n",
    "path = os.path.abspath(\".\")\n",
    "print(\"Current directory\\t\",path)"
   ]
  },
  {
   "cell_type": "code",
   "execution_count": 2,
   "metadata": {},
   "outputs": [],
   "source": [
    "for instance_scale in [\"w120\",\"w250\",\"w500\"]:\n",
    "    instance_number==0:\n",
    "    file_output = path + \"/\" + \"output\" + \"/\" + \"Myheuristics_Aggregate\" + \"/\" + str(\"i\"+str(instance_scale[1:])) + \"_\"  + f\"n{instance_number}\" + \".txt\"\n",
    "    with open(file_output,mode=\"w\") as f:\n",
    "        f.write(\"density\\t\\tH3\\tH4\\tH5\\tH6\\tH7\\tH8\\n\")\n",
    "    for density in range(10):\n",
    "        for heuristics in range(3,9):\n",
    "\n",
    "                obj = 0\n",
    "                file_input = path + \"/\" + \"output\" + \"/\" + \"Myheuristics_n0/\" + str(\"i\"+str(instance_scale[1:])) + \"_\"  + f\"n{instance_number}\" + \"_\"  + str(\"d\"+str(int(density*10))) + \"_\"  + str(\"H\"+str(heuristics)) + \".txt\" #インスタンスの規模_インスタンスの番号_グラフの密度\n",
    "                with open(file_input,mode=\"r\") as f:\n",
    "                    for line in f:\n",
    "                        if \"obj\" in line:\n",
    "                            obj= int(line.split(\"\\t\")[-1])/5\n",
    "\n",
    "                file_output = path + \"/\" + \"output\" + \"/\" + \"Myheuristics_Aggregate\" + \"/\" + str(\"i\"+str(instance_scale[1:])) + \"_\"  + f\"n{instance_number}\" + \".txt\"\n",
    "                with open(file_output,mode=\"a\") as f:\n",
    "                    if heuristics==3:\n",
    "                        f.write(str(density*10)+\"%\"+\"\\t\"+str(obj)+\"\\t\")\n",
    "                    elif heuristics==4 or heuristics==5 or heuristics==6 or heuristics==7:\n",
    "                        f.write(str(obj)+\"\\t\")\n",
    "                    elif heuristics==8:\n",
    "                        f.write(str(obj)+\"\\n\\n\")"
   ]
  },
  {
   "cell_type": "code",
   "execution_count": null,
   "metadata": {},
   "outputs": [],
   "source": []
  }
 ],
 "metadata": {
  "kernelspec": {
   "display_name": "Python 3",
   "language": "python",
   "name": "python3"
  },
  "language_info": {
   "codemirror_mode": {
    "name": "ipython",
    "version": 3
   },
   "file_extension": ".py",
   "mimetype": "text/x-python",
   "name": "python",
   "nbconvert_exporter": "python",
   "pygments_lexer": "ipython3",
   "version": "3.6.8"
  }
 },
 "nbformat": 4,
 "nbformat_minor": 2
}
