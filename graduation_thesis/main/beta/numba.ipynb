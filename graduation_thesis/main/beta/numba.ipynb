{
 "cells": [
  {
   "cell_type": "code",
   "execution_count": 1,
   "metadata": {},
   "outputs": [],
   "source": [
    "import numpy as np\n",
    "from numba import njit\n",
    "from numba import types\n",
    "from numba.typed import Dict"
   ]
  },
  {
   "cell_type": "code",
   "execution_count": 2,
   "metadata": {},
   "outputs": [],
   "source": [
    "# Make array type.  Type-expression is not supported in jit functions.\n",
    "int_array = types.int64[:]"
   ]
  },
  {
   "cell_type": "code",
   "execution_count": 65,
   "metadata": {},
   "outputs": [],
   "source": [
    "@njit\n",
    "def foo():\n",
    "    # Make dictionary\n",
    "    d = Dict.empty(\n",
    "        key_type=types.unicode_type,\n",
    "        value_type=int_array,\n",
    "    )\n",
    "    #keys = []\n",
    "    # Fill the dictionary\n",
    "    d[\"posx\"] = np.arange(3).astype(np.int64)#(0,1,2)\n",
    "    d[\"posx\"] = np.append(d[\"posx\"],np.array(3).astype(np.int64))\n",
    "    #keys.append(d[\"posx\"])\n",
    "    d[\"posy\"] = np.arange(3, 6).astype(np.int64)#(3,4,5)\n",
    "    return d,keys"
   ]
  },
  {
   "cell_type": "code",
   "execution_count": 63,
   "metadata": {},
   "outputs": [],
   "source": [
    "d,keys = foo()"
   ]
  },
  {
   "cell_type": "code",
   "execution_count": 64,
   "metadata": {},
   "outputs": [
    {
     "name": "stdout",
     "output_type": "stream",
     "text": [
      "{posx: [0 1 2 3], posy: [3 4 5]}\n"
     ]
    }
   ],
   "source": [
    "print(d)"
   ]
  },
  {
   "cell_type": "code",
   "execution_count": null,
   "metadata": {},
   "outputs": [],
   "source": []
  }
 ],
 "metadata": {
  "kernelspec": {
   "display_name": "Python 3",
   "language": "python",
   "name": "python3"
  },
  "language_info": {
   "codemirror_mode": {
    "name": "ipython",
    "version": 3
   },
   "file_extension": ".py",
   "mimetype": "text/x-python",
   "name": "python",
   "nbconvert_exporter": "python",
   "pygments_lexer": "ipython3",
   "version": "3.6.8"
  }
 },
 "nbformat": 4,
 "nbformat_minor": 2
}
