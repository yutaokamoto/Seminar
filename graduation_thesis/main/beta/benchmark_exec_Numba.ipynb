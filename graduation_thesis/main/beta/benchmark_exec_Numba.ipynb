{
 "cells": [
  {
   "cell_type": "code",
   "execution_count": 1,
   "metadata": {},
   "outputs": [],
   "source": [
    "import numpy as np\n",
    "from numba import njit\n",
    "from numba import types\n",
    "from numba.typed import Dict"
   ]
  },
  {
   "cell_type": "code",
   "execution_count": 2,
   "metadata": {},
   "outputs": [],
   "source": [
    "number = [120,250,500,1000]"
   ]
  },
  {
   "cell_type": "markdown",
   "metadata": {},
   "source": [
    "# アルゴリズム"
   ]
  },
  {
   "cell_type": "code",
   "execution_count": 3,
   "metadata": {},
   "outputs": [],
   "source": [
    "def E_dict_func(E): #キーにアイテム名、値にそのアイテムとコンフリクトのあるアイテムをもつ辞書\n",
    "    E_dict={}\n",
    "    for e in E:\n",
    "        E_dict[e[0]] = tuple(set(E_dict.setdefault(e[0],()) + (e[1],)))\n",
    "        E_dict[e[1]] = tuple(set(E_dict.setdefault(e[1],()) + (e[0],)))\n",
    "    return E_dict"
   ]
  },
  {
   "cell_type": "code",
   "execution_count": 4,
   "metadata": {},
   "outputs": [],
   "source": [
    "def nonconf_E_dict_func(E,I): #キーにアイテム名、値にそのアイテムとコンフリクトのないアイテムをもつ辞書\n",
    "    if len(E)==0:\n",
    "        return {}\n",
    "    else:\n",
    "        E_dict = {}\n",
    "        nonconf_E_dict={}\n",
    "        E_dict = E_dict_func(E)\n",
    "        nonconf_E_dict = {i:tuple(set(I)-(set(E_dict[i])|{i})) if i in E_dict.keys() else tuple(set(I)-{i}) for i in I}\n",
    "\n",
    "        return nonconf_E_dict"
   ]
  },
  {
   "cell_type": "code",
   "execution_count": 5,
   "metadata": {},
   "outputs": [],
   "source": [
    "def nonconf_E_func(E,I): #枝集合　アイテムiとjにコンフリクトがないとき、枝(i,j)をつくる\n",
    "    nonconf_E = []\n",
    "    nonconf_E_dict = nonconf_E_dict_func(E,I)\n",
    "    for i in nonconf_E_dict:\n",
    "        for j in nonconf_E_dict[i]:\n",
    "            if i != j and (j,i) not in nonconf_E:\n",
    "                nonconf_E.append((i,j))\n",
    "            \n",
    "    return nonconf_E"
   ]
  },
  {
   "cell_type": "code",
   "execution_count": 6,
   "metadata": {},
   "outputs": [],
   "source": [
    "def update_E(E,I): #アイテムの分割の際、コンフリクトがあるアイテム間の枝の集合を更新する\n",
    "    return [e for e in E if ((e[0] in I) or (e[1] in I)) and ((e[1],e[0]) not in E)]"
   ]
  },
  {
   "cell_type": "code",
   "execution_count": 7,
   "metadata": {},
   "outputs": [],
   "source": [
    "def update_nonconf_E(E,I1,I2):\n",
    "    I1_nonconf_E = []\n",
    "    I2_nonconf_E = []\n",
    "    \n",
    "    I1_nonconf_E = nonconf_E_func(E,I1)\n",
    "    I2_nonconf_E = nonconf_E_func(E,I2)\n",
    "    return I1_nonconf_E,I2_nonconf_E"
   ]
  },
  {
   "cell_type": "code",
   "execution_count": 8,
   "metadata": {},
   "outputs": [],
   "source": [
    "def update_M(M,I):\n",
    "    return list(set(tuple(set(I)&set(g)) for g in M if len(set(I)&set(g))!=0))"
   ]
  },
  {
   "cell_type": "code",
   "execution_count": 34,
   "metadata": {},
   "outputs": [],
   "source": [
    "#@njit\n",
    "def capacity(w_i,bin_b,w,C): #bin_bの容量がw_iの大きさよりも大きいかを判定\n",
    "    if (C-sum(w[i] for i in bin_b)) >= w_i:\n",
    "        return True\n",
    "    else:\n",
    "        return False"
   ]
  },
  {
   "cell_type": "code",
   "execution_count": 10,
   "metadata": {},
   "outputs": [],
   "source": [
    "def conflict(item,item_in_bin_b,E_dict): #bin_bに割り当てられているアイテムたちとw_iの間にコンフリクトがあるかを判定\n",
    "    if item not in E_dict.keys():\n",
    "        return True\n",
    "    for i in item_in_bin_b:\n",
    "        if i in E_dict[item]:\n",
    "                return False\n",
    "    return True"
   ]
  },
  {
   "cell_type": "code",
   "execution_count": 11,
   "metadata": {},
   "outputs": [],
   "source": [
    "def group(i,M): #アイテムiの属するグループの番号を返す関数\n",
    "    for index,menber in enumerate(M):\n",
    "        if i in menber:\n",
    "            return index"
   ]
  },
  {
   "cell_type": "code",
   "execution_count": 12,
   "metadata": {},
   "outputs": [],
   "source": [
    "def degree(i,E_dict): #アイテムiのコンフリクトの次数を返す関数\n",
    "    try:\n",
    "        return len(E_dict[i])\n",
    "    except:\n",
    "        return 0"
   ]
  },
  {
   "cell_type": "code",
   "execution_count": 13,
   "metadata": {},
   "outputs": [],
   "source": [
    "def sort_M(M,E_dict,r):\n",
    "    if M!=[] and E_dict!={}:\n",
    "        return sorted(M,key=lambda x:(r[M.index(x)], max(len(E_dict[i]) if i in E_dict.keys() else 0 for i in x)),reverse=True)\n",
    "    else:\n",
    "        return []"
   ]
  },
  {
   "cell_type": "markdown",
   "metadata": {},
   "source": [
    "# H1"
   ]
  },
  {
   "cell_type": "code",
   "execution_count": 32,
   "metadata": {},
   "outputs": [],
   "source": [
    "def FFD(I,C,w,E,M,assign): #アイテムをビンに割り当てる\n",
    "    E_dict = {}\n",
    "    E_dict = E_dict_func(E) #コンフリクトを表す枝を管理する辞書\n",
    "    for i in I:\n",
    "        for b in range(len(assign.keys())+1): #インデックスが小さい順にビンを走査\n",
    "            assign[b] = assign.setdefault(b,[])\n",
    "            if capacity(w[i],assign[b],w,C) or assign[b]==[]: #容量制約を満たす\n",
    "                assign[b].append(i) #ビンbにアイテムiを入れる\n",
    "                break  \n",
    "                \n",
    "    return assign"
   ]
  },
  {
   "cell_type": "markdown",
   "metadata": {},
   "source": [
    "# H2"
   ]
  },
  {
   "cell_type": "code",
   "execution_count": 31,
   "metadata": {},
   "outputs": [],
   "source": [
    "def FFD_for_conflict(I,C,w,E,M,assign): #コンフリクトの数が多い順にアイテムをビンに割り当てる\n",
    "    E_dict = {}\n",
    "    E_dict = E_dict_func(E) #コンフリクトを表す枝を管理する辞書\n",
    "    for i in I:\n",
    "        for b in range(len(assign.keys())+1): #インデックスが小さい順にビンを走査\n",
    "            assign[b] = assign.setdefault(b,[])\n",
    "            if (capacity(w[i],assign[b],w,C) and conflict(i,assign[b],E_dict)) or assign[b]==[]: #容量制約を満たす　and　コンフリクトがない\n",
    "                assign[b].append(i) #ビンbにアイテムiを入れる\n",
    "                break  \n",
    "\n",
    "    return assign"
   ]
  },
  {
   "cell_type": "markdown",
   "metadata": {},
   "source": [
    "# H3"
   ]
  },
  {
   "cell_type": "code",
   "execution_count": 16,
   "metadata": {},
   "outputs": [],
   "source": [
    "def H3(I,C,w,E,M,r,assign): #コンフリクトの数が多い順にアイテムをビンに割り当てる、をグループごとに行う\n",
    "    E_dict = {}\n",
    "    M_prime = []\n",
    "    \n",
    "    E_dict = E_dict_func(E) #コンフリクトを表す枝を管理する辞書\n",
    "    M_prime = update_M(M,I) #グループの順序つき集合Mを更新する。\n",
    "    \n",
    "    M_prime = sort_M(M_prime,E_dict,r)\n",
    "    \n",
    "    #グループの集合Mはすでに並べ替えてある\n",
    "    for g in M_prime: #グループごとにFFD_for_conflict()\n",
    "        assign = FFD_for_conflict(g,C,w,E,M_prime,assign) #gに対してFFD for conflictを行う\n",
    "        \n",
    "    return assign"
   ]
  },
  {
   "cell_type": "markdown",
   "metadata": {},
   "source": [
    "# H4"
   ]
  },
  {
   "cell_type": "code",
   "execution_count": 17,
   "metadata": {},
   "outputs": [],
   "source": [
    "def H4(I,C,w,E,M,r,assign): #コンフリクトの数が多い順にアイテムをビンに割り当てる、をグループごとに行う\n",
    "    E_dict = {}\n",
    "    M_prime = []\n",
    "    \n",
    "    E_dict = E_dict_func(E) #コンフリクトを表す枝を管理する辞書\n",
    "    \n",
    "    H = list(set(I)-set(E_dict.keys())) #アイテムの順序付き集合I内のコンフリクトの数が0のアイテムの集合をHとする\n",
    "    I = set(I)-set(H) #I=I\\Hとする。\n",
    "    I = sorted(list(I),key=lambda x:w[x],reverse=True) #アイテム集合をアイテムの大きさが大きい順に並べ替える\n",
    "    \n",
    "    M_prime = update_M(M,I)#[tuple(set(I)&set(g)) for g in M if len(set(I)&set(g))!=0] #グループの順序つき集合Mを更新する。\n",
    "    \n",
    "    M_prime = sort_M(M_prime,E_dict,r)\n",
    "\n",
    "    for g in M_prime: #グループごとにFFD_for_conflict()\n",
    "        assign = FFD_for_conflict(g,C,w,E,M_prime,assign) #gに対してFFD for conflictを行う\n",
    "            \n",
    "    assign = FFD(H,C,w,E,M_prime,assign) #Hに対してFFDを行う\n",
    "        \n",
    "    return assign"
   ]
  },
  {
   "cell_type": "markdown",
   "metadata": {},
   "source": [
    "# H5"
   ]
  },
  {
   "cell_type": "code",
   "execution_count": 18,
   "metadata": {},
   "outputs": [],
   "source": [
    "def H5(I,C,w,E,M,r,assign): #コンフリクトの数が多い順にアイテムをビンに割り当てる、をグループごとに行う\n",
    "    E_dict = {}\n",
    "    M_prime = []\n",
    "    \n",
    "    E_dict = E_dict_func(E) #コンフリクトを表す枝を管理する辞書\n",
    "    M_prime = update_M(M,I)#[tuple(set(I)&set(g)) for g in M if len(set(I)&set(g))!=0] #グループの順序つき集合Mを更新する。\n",
    "    \n",
    "    M_prime = sort_M(M_prime,E_dict,r)\n",
    "\n",
    "    #グループの集合Mはすでに並べ替えてある\n",
    "    for g in M_prime: #グループごとにFFD_for_conflict()\n",
    "        H = list(set(g)-set(E_dict.keys())) #アイテムの順序付き集合I内のコンフリクトの数が0のアイテムの集合をHとし、I=I\\Hとする。\n",
    "        g = set(g)-set(H) #g=g\\H\n",
    "        g = sorted(list(g),key=lambda x:w[x],reverse=True) #アイテム集合をアイテムの大きさが大きい順に並べ替える\n",
    "        #print(\"H\\t\",H)\n",
    "        #print(\"g\\t\",g)\n",
    "        assign = FFD_for_conflict(g,C,w,E,M_prime,assign) #gに対してFFD for conflictを行う\n",
    "        assign = FFD(H,C,w,E,M_prime,assign) #Hに対してFFDを行う\n",
    "        \n",
    "    return assign"
   ]
  },
  {
   "cell_type": "markdown",
   "metadata": {},
   "source": [
    "# H6"
   ]
  },
  {
   "cell_type": "code",
   "execution_count": 19,
   "metadata": {},
   "outputs": [],
   "source": [
    "def H6(I,C,w,E,M,r,assign): #コンフリクトの数が多い順にアイテムをビンに割り当てる、をグループごとに行う\n",
    "    E_dict = {}\n",
    "    noncconf_E_dict = {}\n",
    "    M_prime = []\n",
    "    \n",
    "    E_dict = E_dict_func(E) #コンフリクトを表す枝を管理する辞書\n",
    "    nonconf_E_dict = nonconf_E_dict_func(E,I)\n",
    "    M_prime = update_M(M,I)#[tuple(set(I)&set(g)) for g in M if len(set(I)&set(g))!=0] #グループの順序つき集合Mを更新する。\n",
    "    \n",
    "    M_prime = sort_M(M_prime,E_dict,r)\n",
    "    \n",
    "    #グループの集合Mはすでに並べ替えてある\n",
    "    for g in M_prime:\n",
    "        H = list(set(g)-set(E_dict.keys())) #アイテムの順序付き集合I内のコンフリクトの数が0のアイテムの集合をHとし、I=I\\Hとする。\n",
    "        g = tuple(set(g)-set(H)) #g=g\\H\n",
    "        #print(\"H\\t\",H)\n",
    "        #print(\"g\\t\",g)\n",
    "        while len(g)>0:\n",
    "            max_degree = max(g,key=lambda x:len(E_dict[x])) #グループg内で最もコンフリクトの数が多いアイテムiを選ぶ\n",
    "            #print(\"max_degree\\t\",max_degree)\n",
    "            if len(g)!=1:\n",
    "                g_i = (max_degree,) + tuple(menber for menber in g if menber in nonconf_E_dict[max_degree]) #グループg内でiとコンフリクトがないアイテムとiからなる集合g_iを定める\n",
    "            else:\n",
    "                g_i = (max_degree,)\n",
    "            #print(\"g_i\\t\",g_i)\n",
    "            assign = FFD_for_conflict(g_i,C,w,E,M_prime,assign) #g_iに対してFFD for conflictを行う\n",
    "            g = tuple(set(g)-set(g_i)) #g=g\\g_i\n",
    "                \n",
    "        assign = FFD(H,C,w,E,M_prime,assign) #Hに対してFFDを行う\n",
    "\n",
    "    return assign"
   ]
  },
  {
   "cell_type": "markdown",
   "metadata": {},
   "source": [
    "# H7"
   ]
  },
  {
   "cell_type": "code",
   "execution_count": 20,
   "metadata": {},
   "outputs": [],
   "source": [
    "def H7(I,C,w,E,M,r,assign): #コンフリクトの数が多い順にアイテムをビンに割り当てる、をグループごとに行う\n",
    "    E_dict = {}\n",
    "    M_prime = []\n",
    "    \n",
    "    #E_dict = E_dict_func(E) #コンフリクトを表す枝を管理する辞書\n",
    "    H = list(set(I)-set(E_dict.keys())) #アイテムの順序付き集合I内のコンフリクトの数が0のアイテムの集合をHとし、I=I\\Hとする。\n",
    "    I = set(I)-set(H)\n",
    "    I = sorted(list(I),key=lambda x:w[x],reverse=True) #アイテム集合をアイテムの大きさが大きい順に並べ替える\n",
    "    \n",
    "    M_prime = [tuple(set(I)&set(g)) for g in M if len(set(I)&set(g))!=0] #グループの順序つき集合Mを更新する。\n",
    "    \n",
    "    #E = update_E(E,I)\n",
    "    E_dict = E_dict_func(E) #コンフリクトを表す枝を管理する辞書\n",
    "    nonconf_E_dict = nonconf_E_dict_func(E,I) #コンフリクトを表す枝を管理する辞書\n",
    "    \n",
    "    M_prime = sort_M(M_prime,E_dict,r)\n",
    " \n",
    "    for g in M_prime:\n",
    "        while len(g)>0:\n",
    "            #コンフリクトが最高次数のアイテムを選べてない\n",
    "            max_degree = max(g,key=lambda x:len(E_dict[x])) #グループg内で最もコンフリクトの数が多いアイテムiを選ぶ\n",
    "            if len(g)!=1:\n",
    "                #すでに割り当てたアイテムをg_iに含んでる可能性がある気がする\n",
    "                g_i = (max_degree,) + tuple(menber for menber in g if menber in nonconf_E_dict[max_degree]) #グループg内でiとコンフリクトがないアイテムとiからなる集合g_iを定める\n",
    "            else:\n",
    "                g_i = (max_degree,)\n",
    "            assign = FFD_for_conflict(g_i,C,w,E,M_prime,assign) #g_iに対してFFD for conflictを行う\n",
    "            g = tuple(set(g)-set(g_i)) #g=g\\g_i\n",
    "                \n",
    "    assign = FFD(H,C,w,E,M_prime,assign) #Hに対してFFDを行う\n",
    "\n",
    "    return assign"
   ]
  },
  {
   "cell_type": "code",
   "execution_count": 21,
   "metadata": {},
   "outputs": [],
   "source": [
    "def clique(SUB,A):\n",
    "    flag=True\n",
    "    for i in SUB:\n",
    "        for j in SUB:\n",
    "            if i!=j:\n",
    "                if (i,j) not in A and (j,i) not in A:\n",
    "                    flag = False\n",
    "                    break\n",
    "        if flag!=True:\n",
    "            break       \n",
    "    return flag"
   ]
  },
  {
   "cell_type": "code",
   "execution_count": 22,
   "metadata": {},
   "outputs": [],
   "source": [
    "def fewest_degree_node(SUB,A):\n",
    "    degree_dict = {}\n",
    "    for n in SUB:\n",
    "        degree_dict[n] = 0\n",
    "    for e in A:\n",
    "        try:\n",
    "            degree_dict[e[0]] += 1\n",
    "            degree_dict[e[1]] += 1\n",
    "        except:\n",
    "            continue\n",
    "    return {min(degree_dict,key=lambda x:degree_dict[x])}"
   ]
  },
  {
   "cell_type": "code",
   "execution_count": 23,
   "metadata": {},
   "outputs": [],
   "source": [
    "def Johnson(N,A): #与えられた点集合と枝集合から最大クリークを生成する #Nは点の集合、Aは枝の集合\n",
    "    SUB = N\n",
    "    while True:\n",
    "        if clique(SUB,A):\n",
    "            break\n",
    "        else:\n",
    "            y = fewest_degree_node(SUB,A) #SUBのノードのうち、最も次数の少ないものを定める\n",
    "            SUB = SUB-y #SUBからyを除く\n",
    "            for e in A:\n",
    "                if y in e:\n",
    "                    A = A-{e} #yにつながってる枝を除く\n",
    "    return SUB"
   ]
  },
  {
   "cell_type": "code",
   "execution_count": 24,
   "metadata": {},
   "outputs": [],
   "source": [
    "def Gendreau(I,C,w,E,M,assign):\n",
    "    #print(\"Gendreau start\")\n",
    "    \n",
    "    import copy\n",
    "    \n",
    "    E_dict = E_dict_func(E) #コンフリクトを表す枝を管理する辞書\n",
    "    nonconf_E = nonconf_E_func(E,I)\n",
    "\n",
    "    #1\n",
    "    V = set(I)\n",
    "    H = set(I)-set(E_dict.keys()) #アイテムの集合V内のコンフリクトの数が0のアイテムの集合をHとし、V=V\\Hとする。\n",
    "    V = V-H #コンフリクトの数が0のアイテムを含まないアイテム集合\n",
    "    E = set(E)\n",
    "    \n",
    "    #print(\"V\\t\",V)\n",
    "    #print(\"H\\t\",H)\n",
    "\n",
    "    #2\n",
    "    assign_temp = {}\n",
    "    while V!=set():\n",
    "        if V==set(): #V=φならば終了\n",
    "            break\n",
    "        else:\n",
    "            D = Johnson(V,E) #DはグラフG内の最大のクリーク\n",
    "            V = V-D\n",
    "\n",
    "        #3\n",
    "        for i in D:\n",
    "            V = V | {i}\n",
    "            D_i = Johnson(V,nonconf_E) | {i} #V ∪ {i} と　コンフリクトがないアイテム同士の組みを要素にもつ枝集合　から最大クリークを見つける\n",
    "            #print(\"i\\t\",i)\n",
    "            #print(\"D_i\\t\",D_i)\n",
    "            #print(\"E\\t\",E)\n",
    "            \n",
    "            assign_temp = FFD_for_conflict(D_i,C,w,E,M,assign_temp)\n",
    "            #print(\"assign_temp\\t\",assign_temp)\n",
    "            \n",
    "            for index,value in assign_temp.items():\n",
    "                if i in value:\n",
    "                    V = V - set(value)\n",
    "                    for new_key in range(len(assign_temp.keys())):\n",
    "                        #print(\"新しくビンに割り当てられたアイテム\\t\",set(value)&D_i )\n",
    "                        #print(\"new_key\\t\",new_key)\n",
    "                        \n",
    "                        if new_key not in assign.keys(): #new_keyがassignに登録されていない場合\n",
    "                            #print(\"新しいビンを使う\")\n",
    "                            assign[new_key] = value\n",
    "                            break\n",
    "                        \n",
    "                        elif set(assign[new_key])|(set(value)&D_i)==set(value):#assign_temp[index]: #new_keyはassignに登録されていて、正しい割り当てビンの場合\n",
    "                            #print(\"今あるビンに入れる\")\n",
    "                            #print(f\"ビン{index}にアイテム{set(value)&D_i }を入れる\")\n",
    "                            assign[new_key] = list(set(assign[new_key]) | set(value))\n",
    "                            break\n",
    "                                \n",
    "                    #print(\"assign\\t\",assign)\n",
    "                        \n",
    "            assign_temp = copy.deepcopy(assign)\n",
    "            D = D - {i}\n",
    "\n",
    "            B = {}\n",
    "            for b in assign.keys():\n",
    "                B[b] = C-sum(w[i] for i in assign[b]) #割り当てたアイテムの大きさ分ずつビンの容量を減らしていく\n",
    "            #print(\"B\\t\",B)\n",
    "            #print()\n",
    "\n",
    "    #4\n",
    "    assign = FFD(H,C,w,E,M,assign) #Hに対してFFDを行う\n",
    "    #print(\"HにFFD\")\n",
    "    #print(\"H\\t\",H)\n",
    "    #print(\"assign\\t\",assign)\n",
    "    #print(\"B\\t\",B)\n",
    "    #print(\"Gendreau finish\")\n",
    "    return assign"
   ]
  },
  {
   "cell_type": "markdown",
   "metadata": {},
   "source": [
    "## アイテム集合に与える順序、大きさが大きい順orコンフリクトの数が多い順"
   ]
  },
  {
   "cell_type": "code",
   "execution_count": 25,
   "metadata": {},
   "outputs": [
    {
     "name": "stdout",
     "output_type": "stream",
     "text": [
      "/Users/okamoto/Desktop/yutaokamoto_mac/Seminar/benchmark\n"
     ]
    }
   ],
   "source": [
    "#入力, 出力を書き出す階層を指定\n",
    "import os\n",
    "path = os.path.abspath(\".\")\n",
    "print(path)"
   ]
  },
  {
   "cell_type": "code",
   "execution_count": 36,
   "metadata": {
    "scrolled": true
   },
   "outputs": [],
   "source": [
    "for instance_name in [\"w120\",\"w250\",\"w500\",\"w1000\"]:\n",
    "    for instance_number in range(10):\n",
    "        for density in range(10):\n",
    "                    \n",
    "            if instance_number==0:# and density==1 and instance_name==\"w250\" :################################\n",
    "                if instance_name==\"w250\" and density==1:\n",
    "\n",
    "                    file_input = path + \"/\" + \"input\" + \"/\" + str(\"i\"+str(instance_name[1:])) + \"_\"  + str(\"n\"+str(instance_number)) + \"_\"  + str(\"d\"+str(int(density*10))) + \".txt\" #インスタンスの規模_インスタンスの番号_グラフの密度\n",
    "\n",
    "                    n = None\n",
    "                    V = None\n",
    "                    C = 150\n",
    "                    w = []\n",
    "                    E = []\n",
    "                    M = []\n",
    "                    group_split_cost = 1\n",
    "                    r = None\n",
    "                    bin_cost = 5\n",
    "\n",
    "                    with open(file_input,mode=\"r\") as f:\n",
    "                        for line in f:\n",
    "                            if \"Number of items\\t\" in line:\n",
    "                                n = int(line.split(\"\\t\")[-2])\n",
    "                                V = np.arange(n)\n",
    "                            elif \"Capacity of bins\\t\" in line:\n",
    "                                C = int(line.split(\"\\t\")[-2])\n",
    "                            elif \"w\\t\" in line:\n",
    "                                w.append(int(line.split(\"\\t\")[-1]))\n",
    "                            elif \"e\\t\" in line:\n",
    "                                E.append(tuple(map(int,line.split(\"\\t\")[-1].rstrip(\"\\n\").strip(\"(\").strip(\")\").split(\",\"))))\n",
    "                            elif \"g\\t\" in line:\n",
    "                                M.append(tuple(map(int,line.split(\"\\t\")[-1].rstrip(\"\\n\").strip(\"(\").strip(\")\").strip(\",\").split(\",\"))))\n",
    "                            elif \"Costs of spliting groups\\t\" in line:\n",
    "                                r = [int(i) for i in line.split(\"\\t\")[-2][1:-1].split(\",\")]\n",
    "                            elif \"Costs of using bins\\t\" in line:\n",
    "                                bin_cost = int(line.split(\"\\t\")[-2])\n",
    "\n",
    "\n",
    "                    #アイテムの分割\n",
    "                    ##コンフリクトの数が大きい順、大きさが大きい順にアイテムを並べ替える\n",
    "                    E_dict = {}\n",
    "                    E_dict = E_dict_func(E)\n",
    "                    I = sorted(V,key=lambda x:(degree(x,E_dict), w[x]),reverse=True)\n",
    "                    ##I1とI2の要素の個数を決める\n",
    "                    n1 = None\n",
    "                    n2 = None\n",
    "                    n1 = int(np.ceil(n*bin_cost/(bin_cost+r[0])))\n",
    "                    n2 = n-n1\n",
    "                    #print(\"n1\\t\",n1)\n",
    "                    #print(\"n2\\t\",n2)\n",
    "                    #print()\n",
    "                    ##I1とI2を定める\n",
    "                    I1 = None\n",
    "                    I2 = None\n",
    "                    I1 = I[:n1]\n",
    "                    I2 = I[n1:]\n",
    "                    #print(\"I1\\t\",I1)\n",
    "                    #print(\"I2\\t\",I2)\n",
    "                    #print()\n",
    "                    ##枝集合の更新\n",
    "                    I1_E = None\n",
    "                    I2_E = None\n",
    "                    I1_E = update_E(E,I1)\n",
    "                    I2_E = update_E(E,I2)\n",
    "                    #print(\"I1_E\\t\",I1_E)\n",
    "                    #print(\"I2_E\\t\",I2_E)\n",
    "                    #print()\n",
    "\n",
    "                    for heuristics in range(3,8):\n",
    "                        if heuristics==3:\n",
    "\n",
    "                            #ヒューリスティクスの選択\n",
    "                            assign = {}\n",
    "                            assign = Gendreau(I1,C,w,I1_E,M,assign)\n",
    "                            #print(assign,\"\\n\")\n",
    "                            #item_set=set()\n",
    "                            #double=set()\n",
    "                            #for item in assign.values():\n",
    "                                #double = (item_set&set(item)) | double\n",
    "                                #item_set = item_set | set(item)\n",
    "                            #if double!=set():\n",
    "                                #print(\"アイテムの個数は\",len(item_set),\"\\n\")\n",
    "                                #print(\"重複しているアイテムは\",double,\"\\n\")\n",
    "\n",
    "                            #B = {}\n",
    "                            #for b in assign.keys():\n",
    "                                #B[b] = C-sum(w[i] for i in assign[b]) #割り当てたアイテムの大きさ分ずつビンの容量を減らしていく\n",
    "                            #for b in B:\n",
    "                                #if B[b]<0:\n",
    "                                    #print(\"assign\\t\",assign)\n",
    "                                    #print(\"B\\t\",B)\n",
    "                                    #print()\"\"\"\n",
    "\n",
    "                            #print(\"H\"+str(heuristics)+\"\\n\")\n",
    "\n",
    "                            assign = eval(\"H\"+str(heuristics))(I2,C,w,I2_E,M,r,assign)\n",
    "\n",
    "                            #print(assign,\"\\n\")\n",
    "                            #item_set=set()\n",
    "                            #double=set()\n",
    "                            #for item in assign.values():\n",
    "                                #double = (item_set&set(item)) | double\n",
    "                                #item_set = item_set | set(item)\n",
    "                            #if double!=set():\n",
    "                                #print(\"アイテムの個数は\",len(item_set),\"\\n\")\n",
    "                                #print(\"重複しているアイテムは\",double,\"\\n\\n\\n\")\n",
    "\n",
    "                            #B = {}\n",
    "                            #for b in assign.keys():\n",
    "                                #B[b] = C-sum(w[i] for i in assign[b]) #割り当てたアイテムの大きさ分ずつビンの容量を減らしていく\n",
    "                            #for b in B:\n",
    "                                #if B[b]<0:\n",
    "                                    #print(\"assign\\t\",assign)\n",
    "                                    #print(\"B\\t\",B)\n",
    "                                    #print(\"\\n\"*2)\"\"\"\n",
    "\n",
    "                            #結果の出力　→　出力をテキストファイルに書き出す\n",
    "                            bin_counter=len(assign.keys())\n",
    "\n",
    "                            penalty_sum = 0\n",
    "                            penalty_dict = {}\n",
    "                            penalty_list = []\n",
    "                            for items in assign.values():\n",
    "                                penalty_list = list(set(group(item,M) for item in items)) #そのビンを使用しているグループの番号\n",
    "                                for group_name in penalty_list:\n",
    "                                    penalty_dict[group_name] = penalty_dict.setdefault(group_name,0) + 1\n",
    "                            penalty_sum = sum(v*r[i] for i,v in penalty_dict.items())\n",
    "\n",
    "                            #print(\"bin_counter\\t\",bin_counter)\n",
    "                            #print(\"penalty_dict\\t\",penalty_dict)\n",
    "                            #print(\"penalty_sum\\t\",penalty_sum)\n",
    "                            #print(\"\\n\\n\\n\")\n",
    "\n",
    "\n",
    "                            file_output =  path + \"/\" + \"output\" + \"/\" + \"Myheuristics_Numba\" + \"/\" + str(\"i\"+str(instance_name[1:])) + \"_\"  + str(\"n\"+str(instance_number)) + \"_\"  + str(\"d\"+str(int(density*10))) + \"_\" + str(\"H\"+str(heuristics)) + \".txt\" #インスタンスの規模_インスタンスの番号_グラフの密度\n",
    "                            with open(file_output,mode=\"w\") as f:\n",
    "                                f.write(\"Number of Bins\\t\"+str(bin_counter)+\"\\n\\n\")\n",
    "                                f.write(\"Bin cost\\t\"+str(bin_cost)+\"\\n\\n\")\n",
    "                                f.write(\"Penalty\\t\"+str(penalty_sum)+\"\\n\\n\")\n",
    "                                f.write(\"obj\\t\"+str(penalty_sum+bin_counter*bin_cost))"
   ]
  },
  {
   "cell_type": "markdown",
   "metadata": {},
   "source": [
    "# 小さい問題例"
   ]
  },
  {
   "cell_type": "code",
   "execution_count": 74,
   "metadata": {},
   "outputs": [
    {
     "name": "stdout",
     "output_type": "stream",
     "text": [
      "n1\t 3\n",
      "n2\t 3\n",
      "\n",
      "I1\t [3, 2, 0]\n",
      "I2\t [1, 4, 5]\n",
      "\n",
      "I1_E\t [(0, 2), (1, 2)]\n",
      "I2_E\t [(1, 2)]\n",
      "\n",
      "heuristics\t 7\n",
      "group_order\t 1\n",
      "\n",
      "assign\t {0: [0, 3], 1: [2]}\n",
      "B\t {0: 0, 1: 4}\n",
      "\n",
      "assign\t {0: [0, 3], 1: [2, 4, 5], 2: [1]}\n",
      "B\t {0: 0, 1: 2, 2: 7}\n",
      "\n",
      "bin_counter\t 3\n",
      "penalty_sum\t 1\n"
     ]
    }
   ],
   "source": [
    "n = 6\n",
    "V = np.arange(n)\n",
    "C = 9\n",
    "B = {i:C for i in range(n)}\n",
    "w = [3, 2, 5, 6, 1, 1]\n",
    "E = [(0,2), (1,2)]\n",
    "M = [(0,3), (1,4,5), (2,)]\n",
    "r = [1]*len(M)\n",
    "bin_cost = 100\n",
    "\n",
    "\n",
    "#アイテムの分割\n",
    "\n",
    "##大きさが大きい順にアイテムを並べ替える\n",
    "I = sorted(V,key=lambda x:w[x],reverse=True)\n",
    "\n",
    "##I1とI2の要素の個数を決める\n",
    "n1 = None\n",
    "n2 = None\n",
    "n1 = 3#int(np.ceil(n*bin_cost/(bin_cost+r[0])))\n",
    "n2 = n-n1\n",
    "print(\"n1\\t\",n1)\n",
    "print(\"n2\\t\",n2)\n",
    "print()\n",
    "\n",
    "##I1とI2を定める\n",
    "I1 = None\n",
    "I2 = None\n",
    "I1 = I[:n1]\n",
    "I2 = I[n1:]\n",
    "print(\"I1\\t\",I1)\n",
    "print(\"I2\\t\",I2)\n",
    "print()\n",
    "\n",
    "##枝集合の更新\n",
    "I1_E = None\n",
    "I2_E = None\n",
    "I1_E = update_E(E,I)\n",
    "I2_E = update_E(E,I2)\n",
    "print(\"I1_E\\t\",I1_E)\n",
    "print(\"I2_E\\t\",I2_E)\n",
    "print()\n",
    "\n",
    "\n",
    "#ヒューリスティクスの選択\n",
    "heuristics = 7\n",
    "print(\"heuristics\\t\",heuristics)\n",
    "group_order = 1\n",
    "print(\"group_order\\t\",group_order)\n",
    "print()\n",
    "\n",
    "assign = {}\n",
    "assign = Gendreau(I1,C,w,I1_E,M,assign)\n",
    "B = {}\n",
    "for b in assign.keys():\n",
    "    B[b] = C-sum(w[i] for i in assign[b]) #割り当てたアイテムの大きさ分ずつビンの容量を減らしていく\n",
    "print(\"assign\\t\",assign)\n",
    "print(\"B\\t\",B)\n",
    "print()\n",
    "\n",
    "assign = eval(\"H\"+str(heuristics))(I2,C,w,I2_E,M,r,group_order,assign)\n",
    "B = {}\n",
    "for b in assign.keys():\n",
    "    B[b] = C-sum(w[i] for i in assign[b]) #割り当てたアイテムの大きさ分ずつビンの容量を減らしていく\n",
    "print(\"assign\\t\",assign)\n",
    "print(\"B\\t\",B)\n",
    "print()\n",
    "\n",
    "#結果の出力　→　出力をテキストファイルに書き出す\n",
    "bin_counter=len(assign.keys())\n",
    "\n",
    "penalty_sum = 0\n",
    "penalty_dict = {}\n",
    "penalty_list = []\n",
    "for items in assign.values():\n",
    "    penalty_list = list(set(group(item,M) for item in items)) #そのビンを使用しているグループ名\n",
    "    for group_name in penalty_list:\n",
    "        penalty_dict[group_name] = penalty_dict.setdefault(group_name,0) + 1\n",
    "        penalty_sum += r[group_name]*(penalty_dict[group_name]-1)\n",
    "        \n",
    "print(\"bin_counter\\t\",bin_counter)\n",
    "print(\"penalty_sum\\t\",penalty_sum)"
   ]
  },
  {
   "cell_type": "code",
   "execution_count": 73,
   "metadata": {},
   "outputs": [
    {
     "data": {
      "text/plain": [
       "[(0, 3), (1, 4, 5), (2,)]"
      ]
     },
     "execution_count": 73,
     "metadata": {},
     "output_type": "execute_result"
    }
   ],
   "source": [
    "M"
   ]
  },
  {
   "cell_type": "code",
   "execution_count": 69,
   "metadata": {},
   "outputs": [
    {
     "data": {
      "text/plain": [
       "1"
      ]
     },
     "execution_count": 69,
     "metadata": {},
     "output_type": "execute_result"
    }
   ],
   "source": [
    "group_order"
   ]
  },
  {
   "cell_type": "code",
   "execution_count": null,
   "metadata": {},
   "outputs": [],
   "source": []
  }
 ],
 "metadata": {
  "kernelspec": {
   "display_name": "Python 3",
   "language": "python",
   "name": "python3"
  },
  "language_info": {
   "codemirror_mode": {
    "name": "ipython",
    "version": 3
   },
   "file_extension": ".py",
   "mimetype": "text/x-python",
   "name": "python",
   "nbconvert_exporter": "python",
   "pygments_lexer": "ipython3",
   "version": "3.6.8"
  }
 },
 "nbformat": 4,
 "nbformat_minor": 2
}
