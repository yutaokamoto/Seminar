{
 "cells": [
  {
   "cell_type": "code",
   "execution_count": 130,
   "metadata": {},
   "outputs": [],
   "source": [
    "import numpy as np"
   ]
  },
  {
   "cell_type": "code",
   "execution_count": 170,
   "metadata": {},
   "outputs": [],
   "source": [
    "number = [120,250,500,1000]"
   ]
  },
  {
   "cell_type": "code",
   "execution_count": 171,
   "metadata": {},
   "outputs": [],
   "source": [
    "#入力, 出力を書き出す階層を指定\n",
    "import os\n",
    "path = os.path.abspath(\".\")"
   ]
  },
  {
   "cell_type": "code",
   "execution_count": 173,
   "metadata": {},
   "outputs": [],
   "source": [
    "n = None\n",
    "V = None\n",
    "C = 150\n",
    "w = []\n",
    "E = []\n",
    "M = []\n",
    "group_split_cost = 1\n",
    "r = None\n",
    "bin_cost = 5\n",
    "\n",
    "\n",
    "\n",
    "for instance_scale in [\"w120\",\"w250\",\"w500\",\"w1000\"]:\n",
    "    for instance_number in range(10):\n",
    "        for density in range(10):\n",
    "            for heuristics in range(3,8):\n",
    "                for group_order in range(1,5):\n",
    "                    if instance_scale==\"w120\" and instance_number==0 and density==1:################################\n",
    "                        file_input = path + \"/\" + \"input\" + \"/\" + str(\"i\"+str(instance_scale[1:])) + \"_\"  + str(\"n\"+str(instance_number)) + \"_\"  + str(\"d\"+str(int(density*10))) + \".txt\" #インスタンスの規模_インスタンスの番号_グラフの密度\n",
    "                        with open(file_input,mode=\"r\") as f:\n",
    "                            for line in f:\n",
    "                                if \"Number of items\\t\" in line:\n",
    "                                    n = int(line.split(\"\\t\")[-2])\n",
    "                                    V = np.arange(n)\n",
    "                                elif \"Capacity of bins\\t\" in line:\n",
    "                                    C = int(line.split(\"\\t\")[-2])\n",
    "                                elif \"w\\t\" in line:\n",
    "                                    w.append(int(line.split(\"\\t\")[-1]))\n",
    "                                elif \"e\\t\" in line:\n",
    "                                    E.append(tuple(map(int,line.split(\"\\t\")[-1].rstrip(\"\\n\").strip(\"(\").strip(\")\").split(\",\"))))\n",
    "                                elif \"g\\t\" in line:\n",
    "                                    M.append(tuple(map(int,line.split(\"\\t\")[-1].rstrip(\"\\n\").strip(\"(\").strip(\")\").strip(\",\").split(\",\"))))\n",
    "                                elif \"Costs of spliting groups\\t\" in line:\n",
    "                                    r = [int(i) for i in line.split(\"\\t\")[-2][1:-1].split(\",\")]\n",
    "                                elif \"Costs of using bins\\t\" in line:\n",
    "                                    bin_cost = int(line.split(\"\\t\")[-2])\n",
    "\n",
    "                        \"\"\"print(\"instance_scale\\t\",instance_scale)\n",
    "                        print(\"instance_number\\t\",instance_number)\n",
    "                        print()\n",
    "\n",
    "                        print(\"Number of items\\t\"+str(n)+\"\\n\")\n",
    "                        print(\"Graph density\\t\"+str(density*100)+\"%\\n\")\n",
    "                        print(\"Capacity of bins\\t\"+str(C)+\"\\n\")\n",
    "                        print(\"Costs of spliting groups\\t\"+str(r)+\"\\n\")\n",
    "                        print(\"Costs of using bins\\t\"+str(bin_cost)+\"\\n\")\n",
    "                        print(\"Weight of items\\t\"+str(w)+\"\\n\")\n",
    "                        print(\"Number of Edge\\t\"+str(len(E))+\"\\n\")\n",
    "                        print(\"Edges\\t\"+str(E)+\"\\n\")\n",
    "                        print(\"Number of Group\\t\"+str(len(M))+\"\\n\")\n",
    "                        print(\"Groups\\t\"+str(M)+\"\\n\\n\\n\")\"\"\""
   ]
  },
  {
   "cell_type": "code",
   "execution_count": null,
   "metadata": {},
   "outputs": [],
   "source": []
  }
 ],
 "metadata": {
  "kernelspec": {
   "display_name": "Python 3",
   "language": "python",
   "name": "python3"
  },
  "language_info": {
   "codemirror_mode": {
    "name": "ipython",
    "version": 3
   },
   "file_extension": ".py",
   "mimetype": "text/x-python",
   "name": "python",
   "nbconvert_exporter": "python",
   "pygments_lexer": "ipython3",
   "version": "3.6.8"
  }
 },
 "nbformat": 4,
 "nbformat_minor": 2
}
