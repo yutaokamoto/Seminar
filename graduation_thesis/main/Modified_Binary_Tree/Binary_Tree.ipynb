{
 "cells": [
  {
   "cell_type": "markdown",
   "metadata": {},
   "source": [
    "# ビンの走査する順を木構造で管理することで効率化する"
   ]
  },
  {
   "cell_type": "markdown",
   "metadata": {},
   "source": [
    "## FFD、MFFDに、引数として \"ビンの走査する順\" を与える"
   ]
  },
  {
   "cell_type": "markdown",
   "metadata": {},
   "source": [
    "## FFD、MFFD内で、アイテムを１つビンに割り当てるごとに \"ビンの走査する順\" を更新する"
   ]
  },
  {
   "cell_type": "code",
   "execution_count": null,
   "metadata": {},
   "outputs": [],
   "source": [
    "#アイテムiが割り当てられたビンbの\"順番\"の更新\n",
    "#入力:ビンb, ビンの残り容量をノードの値にもつ二分探索木\n",
    "#出力:ビンの残り容量をノードの値にもつ二分探索木(ビンの走査順)\n",
    "def update_tree(b,tree):\n",
    "    #右の子b_right<親bならば入れ替えを行う\n",
    "    while tree[b_right]<tree[b]:\n",
    "        tree[b],tree[b_right] = tree[b_right],tree[b]\n",
    "    return tree"
   ]
  }
 ],
 "metadata": {
  "kernelspec": {
   "display_name": "Python 3",
   "language": "python",
   "name": "python3"
  },
  "language_info": {
   "codemirror_mode": {
    "name": "ipython",
    "version": 3
   },
   "file_extension": ".py",
   "mimetype": "text/x-python",
   "name": "python",
   "nbconvert_exporter": "python",
   "pygments_lexer": "ipython3",
   "version": "3.6.8"
  }
 },
 "nbformat": 4,
 "nbformat_minor": 2
}
