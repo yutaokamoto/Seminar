{
 "cells": [
  {
   "cell_type": "markdown",
   "metadata": {},
   "source": [
    "# 問題設定"
   ]
  },
  {
   "cell_type": "markdown",
   "metadata": {},
   "source": [
    "## 基本設定"
   ]
  },
  {
   "cell_type": "code",
   "execution_count": 197,
   "metadata": {},
   "outputs": [],
   "source": [
    "n = 6\n",
    "I = list(range(n))\n",
    "w = [3, 2, 5, 6, 1, 1]\n",
    "C = 9\n",
    "E = [(0,2), (1,2)]\n",
    "G = [(0,3), (1,4,5), (2,)]\n",
    "r = [1]*len(G)\n",
    "bin_cost = 100"
   ]
  },
  {
   "cell_type": "markdown",
   "metadata": {},
   "source": [
    "## コンフリクト辞書とノットコンフリクト辞書の作成"
   ]
  },
  {
   "cell_type": "code",
   "execution_count": 198,
   "metadata": {},
   "outputs": [],
   "source": [
    "import numpy as np\n",
    "N = np.arange(0,n) #辞書をつくる際にのみ使う定数\n",
    "E_dict={}\n",
    "nonconf_E_dict={}\n",
    "flag=E[0][0]\n",
    "for i in range(len(E)):\n",
    "    if flag!=E[i][0]:\n",
    "        flag=E[i][0]\n",
    "    E_dict[E[i][0]] = E_dict.setdefault(E[i][0],()) + (E[i][1],)\n",
    "    E_dict[E[i][1]] = E_dict.setdefault(E[i][1],()) + (E[i][0],)\n",
    "    nonconf_E_dict[E[i][0]] = tuple(set(N)-set(E_dict[E[i][0]])-{E[i][0]})\n",
    "    nonconf_E_dict[E[i][1]] = tuple(set(N)-set(E_dict[E[i][1]])-{E[i][1]})\n",
    "    \n",
    "for i in range(n):\n",
    "    if i not in E_dict.keys():\n",
    "        E_dict[i] = ()\n",
    "    \n",
    "for i in range(n):\n",
    "    if len(E_dict[i])==0:\n",
    "        nonconf_E_dict[i] = tuple(range(n))"
   ]
  },
  {
   "cell_type": "code",
   "execution_count": 199,
   "metadata": {},
   "outputs": [],
   "source": [
    "nonconf_E = []\n",
    "for i in nonconf_E_dict:\n",
    "    for j in nonconf_E_dict[i]:\n",
    "               nonconf_E.append((i,j))"
   ]
  },
  {
   "cell_type": "code",
   "execution_count": 200,
   "metadata": {},
   "outputs": [
    {
     "data": {
      "text/plain": [
       "{0: (2,), 2: (0, 1), 1: (2,), 3: (), 4: (), 5: ()}"
      ]
     },
     "execution_count": 200,
     "metadata": {},
     "output_type": "execute_result"
    }
   ],
   "source": [
    "E_dict"
   ]
  },
  {
   "cell_type": "code",
   "execution_count": 201,
   "metadata": {},
   "outputs": [
    {
     "data": {
      "text/plain": [
       "{0: (1, 3, 4, 5),\n",
       " 2: (3, 4, 5),\n",
       " 1: (0, 3, 4, 5),\n",
       " 3: (0, 1, 2, 3, 4, 5),\n",
       " 4: (0, 1, 2, 3, 4, 5),\n",
       " 5: (0, 1, 2, 3, 4, 5)}"
      ]
     },
     "execution_count": 201,
     "metadata": {},
     "output_type": "execute_result"
    }
   ],
   "source": [
    "nonconf_E_dict"
   ]
  },
  {
   "cell_type": "markdown",
   "metadata": {},
   "source": [
    "# アイテムの順序つき集合I内のコンフリクトの数が0のアイテムの集合Hを定める"
   ]
  },
  {
   "cell_type": "code",
   "execution_count": 202,
   "metadata": {},
   "outputs": [
    {
     "name": "stdout",
     "output_type": "stream",
     "text": [
      "[3, 4, 5]\n"
     ]
    }
   ],
   "source": [
    "H=[i for i in I if len(E_dict[i])==0]\n",
    "print(H)"
   ]
  },
  {
   "cell_type": "markdown",
   "metadata": {},
   "source": [
    "# グループの順序つき集合Gの更新\n",
    "Gの要素のうち、コンフリクトの数が0のものを除く"
   ]
  },
  {
   "cell_type": "markdown",
   "metadata": {},
   "source": [
    "1. Gの要素gを１つ取り出す。Gの要素を全て取り出し終わっていれば終了。\n",
    "2. gの要素iを取り出す。gの要素を全て取り出し終わっていれば1.へ。\n",
    "3. iがHに含まれていればg=g\\iとし、2.へ。"
   ]
  },
  {
   "cell_type": "code",
   "execution_count": 203,
   "metadata": {},
   "outputs": [
    {
     "data": {
      "text/plain": [
       "[(0, 3), (1, 4, 5), (2,)]"
      ]
     },
     "execution_count": 203,
     "metadata": {},
     "output_type": "execute_result"
    }
   ],
   "source": [
    "G"
   ]
  },
  {
   "cell_type": "markdown",
   "metadata": {},
   "source": [
    "1"
   ]
  },
  {
   "cell_type": "code",
   "execution_count": 204,
   "metadata": {},
   "outputs": [
    {
     "name": "stdout",
     "output_type": "stream",
     "text": [
      "[(0,), (1, 4), (2,)]\n",
      "[(0, 3), (1, 4, 5), (2,)]\n"
     ]
    }
   ],
   "source": [
    "import copy\n",
    "G_1 = copy.deepcopy(G)\n",
    "for index,g in enumerate(G):\n",
    "    for i in g:\n",
    "        if i in H:\n",
    "            G_1[index] = tuple(set(G[index])-set([i]))\n",
    "print(G_1)\n",
    "print(G)"
   ]
  },
  {
   "cell_type": "markdown",
   "metadata": {},
   "source": [
    "2"
   ]
  },
  {
   "cell_type": "code",
   "execution_count": 205,
   "metadata": {},
   "outputs": [
    {
     "name": "stdout",
     "output_type": "stream",
     "text": [
      "[(0,), (1,), (2,)]\n"
     ]
    }
   ],
   "source": [
    "G_2 = [tuple(filter(lambda i:i not in H, g)) for g in G]\n",
    "print(G_2)"
   ]
  },
  {
   "cell_type": "markdown",
   "metadata": {},
   "source": [
    "3"
   ]
  },
  {
   "cell_type": "code",
   "execution_count": 209,
   "metadata": {},
   "outputs": [
    {
     "name": "stdout",
     "output_type": "stream",
     "text": [
      "[(0,), (1,), (2,)]\n"
     ]
    }
   ],
   "source": [
    "G_3 = list(map(lambda g:tuple(set(g)-(set(H)&set(g))), G))\n",
    "print(G_3)"
   ]
  },
  {
   "cell_type": "markdown",
   "metadata": {},
   "source": [
    "4"
   ]
  },
  {
   "cell_type": "code",
   "execution_count": 210,
   "metadata": {},
   "outputs": [
    {
     "name": "stdout",
     "output_type": "stream",
     "text": [
      "[(0,), (1,), (2,)]\n"
     ]
    }
   ],
   "source": [
    "G_4 = [tuple(set(g)-(set(H)&set(g))) for index,g in enumerate(G)] #set(g)-set(H)でもできる！！\n",
    "print(G_4)"
   ]
  },
  {
   "cell_type": "code",
   "execution_count": null,
   "metadata": {},
   "outputs": [],
   "source": []
  }
 ],
 "metadata": {
  "kernelspec": {
   "display_name": "Python 3",
   "language": "python",
   "name": "python3"
  },
  "language_info": {
   "codemirror_mode": {
    "name": "ipython",
    "version": 3
   },
   "file_extension": ".py",
   "mimetype": "text/x-python",
   "name": "python",
   "nbconvert_exporter": "python",
   "pygments_lexer": "ipython3",
   "version": "3.7.4"
  }
 },
 "nbformat": 4,
 "nbformat_minor": 2
}
