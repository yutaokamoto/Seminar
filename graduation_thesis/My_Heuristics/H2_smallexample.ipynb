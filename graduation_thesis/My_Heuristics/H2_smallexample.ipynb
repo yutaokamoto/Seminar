{
 "cells": [
  {
   "cell_type": "markdown",
   "metadata": {},
   "source": [
    "## 定数定義\n",
    "$$\n",
    "V=\\{1,\\ldots,n\\}:アイテムの集合\\\\\n",
    "B=\\{1,\\ldots,n\\}:ビンの集合\\\\\n",
    "M=\\{1,\\ldots,m\\}:グループの集合\\\\\n",
    "w_i:アイテムiの大きさ\\\\\n",
    "z_{il}\\in\\{0,1\\}:アイテムiのグループlへの所属を表すバイナリ定数\\\\\n",
    "r_l:グループlがビンを1つ使用するのにかかるコスト\\\\\n",
    "C:ビンの容量\\\\\n",
    "E=\\{(s,t) ~|~ w_s+w_t > C~または~sとtは同じビンに割り当てられられない\\}:枝の集合\\\\\n",
    "G=(V,E):~VとEから成るグラフ\\\\\n",
    "$$"
   ]
  },
  {
   "cell_type": "markdown",
   "metadata": {},
   "source": [
    "## 変数定義\n",
    "$$\n",
    "x_{ik}\\in\\{0,1\\}:アイテムiのビンkへの割り当てを表すバイナリ変数\\\\\n",
    "y_k\\in\\{0,1\\}:ビンkの使用を表すバイナリ変数\\\\\n",
    "b_{kl}\\in\\{0,1\\}:グループlのビンkの使用を表すバイナリ変数\\\\\n",
    "$$"
   ]
  },
  {
   "cell_type": "markdown",
   "metadata": {},
   "source": [
    "## 目的関数\n",
    "$$\n",
    "\\begin{align}\n",
    "\\text{minimize} & \\displaystyle\\sum_{k=1}^n y_k + \\sum_{k=1}^n \\sum_{l=1}^m r_l b_{kl} - \\sum_{l=1}^m r_l\n",
    "\\end{align}\n",
    "$$"
   ]
  },
  {
   "cell_type": "markdown",
   "metadata": {},
   "source": [
    "## 制約式\n",
    "$$\n",
    "\\begin{align}\n",
    "\\text{subject to}\n",
    "\\displaystyle\\sum_{i=1}^n w_i x_{ik} \\leq C y_k&~~~~~(k=1,\\dots,n)\\\\\n",
    "\\displaystyle\\sum_{k=1}^n x_{ik} = 1&~~~~~(i=1,\\dots,n)\\\\\n",
    "x_{sk}+x_{tk} \\leq 1&~~~~~((s,t)\\in E,~k=1,\\dots,n)\\\\\n",
    "b_{kl} \\geq x_{jk} z_{jl}&~~~~~(k=1,\\dots,n,~l=1,\\dots,m,~j=1,\\dots,n)\\\\\n",
    "x_{ik}\\in\\{0,1\\}&~~~~~(i,k=1,\\dots,n)\\\\\n",
    "y_k\\in\\{0,1\\}&~~~~~(k=1,\\dots,n)\\\\\n",
    "b_{kl}\\in\\{0,1\\}&~~~~~(k=1,\\dots,n,~l=1,\\dots,m)\\\\\n",
    "\\end{align}\n",
    "$$"
   ]
  },
  {
   "cell_type": "markdown",
   "metadata": {},
   "source": [
    "# 問題設定"
   ]
  },
  {
   "cell_type": "code",
   "execution_count": 66,
   "metadata": {},
   "outputs": [],
   "source": [
    "import numpy as np\n",
    "import random"
   ]
  },
  {
   "cell_type": "markdown",
   "metadata": {},
   "source": [
    "## 基本設定"
   ]
  },
  {
   "cell_type": "code",
   "execution_count": 67,
   "metadata": {},
   "outputs": [],
   "source": [
    "n = 6\n",
    "w = [3, 2, 5, 6, 1, 1]\n",
    "C = 9\n",
    "E = [(0,2), (1,2)]\n",
    "#G = [(0,1,2,3,4,5)]\n",
    "G = [(0,3), (1,4,5), (2,)]\n",
    "r = [1]*len(G)\n",
    "bin_cost = 100"
   ]
  },
  {
   "cell_type": "markdown",
   "metadata": {},
   "source": [
    "## コンフリクト辞書とノットコンフリクト辞書の作成"
   ]
  },
  {
   "cell_type": "code",
   "execution_count": 68,
   "metadata": {},
   "outputs": [],
   "source": [
    "N = np.arange(0,n)\n",
    "E_dict={}\n",
    "notconf_E_dict={}\n",
    "flag=E[0][0]\n",
    "for i in range(len(E)):\n",
    "    if flag!=E[i][0]:\n",
    "        flag=E[i][0]\n",
    "    E_dict[E[i][0]] = E_dict.setdefault(E[i][0],[]) + [E[i][1]]\n",
    "    E_dict[E[i][1]] = E_dict.setdefault(E[i][1],[]) + [E[i][0]]\n",
    "    notconf_E_dict[E[i][0]] = list(set(N)-set(E_dict[E[i][0]])-{E[i][0]})\n",
    "    notconf_E_dict[E[i][1]] = list(set(N)-set(E_dict[E[i][1]])-{E[i][1]})"
   ]
  },
  {
   "cell_type": "code",
   "execution_count": 69,
   "metadata": {
    "scrolled": true
   },
   "outputs": [
    {
     "data": {
      "text/plain": [
       "{0: [2], 2: [0, 1], 1: [2]}"
      ]
     },
     "execution_count": 69,
     "metadata": {},
     "output_type": "execute_result"
    }
   ],
   "source": [
    "E_dict"
   ]
  },
  {
   "cell_type": "markdown",
   "metadata": {},
   "source": [
    "### コンフリクトがないノード間に枝があるような集合"
   ]
  },
  {
   "cell_type": "code",
   "execution_count": 70,
   "metadata": {},
   "outputs": [],
   "source": [
    "notconf_E = []\n",
    "for i in notconf_E_dict:\n",
    "    for j in notconf_E_dict[i]:\n",
    "               notconf_E.append((i,j))"
   ]
  },
  {
   "cell_type": "markdown",
   "metadata": {},
   "source": [
    "# FFD "
   ]
  },
  {
   "cell_type": "code",
   "execution_count": 71,
   "metadata": {},
   "outputs": [],
   "source": [
    "def capacity(w_i,bin_b,w,C): #bin_bの容量がw_iの大きさよりも大きいかを判定\n",
    "    if (C-sum(w[i] for i in bin_b)) >= w_i:\n",
    "        return True\n",
    "    else:\n",
    "        return False"
   ]
  },
  {
   "cell_type": "code",
   "execution_count": 72,
   "metadata": {},
   "outputs": [],
   "source": [
    "def conflict(item,bin_b,E_dict): #bin_bに割り当てられているアイテムたちとw_iの間にコンフリクトがあるかを判定\n",
    "    if item not in E_dict:\n",
    "        return True\n",
    "    for i in bin_b:\n",
    "        if i in E_dict[item]:\n",
    "                return False\n",
    "    return True"
   ]
  },
  {
   "cell_type": "code",
   "execution_count": 73,
   "metadata": {},
   "outputs": [],
   "source": [
    "bin_dict = {}\n",
    "for i in range(len(N)):\n",
    "    bin_dict[i] = []\n",
    "for i in range(len(N)): #アイテムをすべて走査\n",
    "    for b in range(len(bin_dict)): #インデックスが小さい順にビンを走査\n",
    "        if capacity(w[i],bin_dict[b],w,C) and conflict(i,bin_dict[b],E_dict):\n",
    "            bin_dict[b] = bin_dict.setdefault(b,[]) + [i]\n",
    "            break  "
   ]
  },
  {
   "cell_type": "code",
   "execution_count": 74,
   "metadata": {
    "scrolled": true
   },
   "outputs": [
    {
     "name": "stdout",
     "output_type": "stream",
     "text": [
      "0 [0, 1, 4, 5]\n",
      "1 [2]\n",
      "2 [3]\n",
      "3 []\n",
      "4 []\n",
      "5 []\n"
     ]
    }
   ],
   "source": [
    "for i in range(len(bin_dict)):\n",
    "    print(i,bin_dict[i])"
   ]
  },
  {
   "cell_type": "code",
   "execution_count": 75,
   "metadata": {},
   "outputs": [
    {
     "name": "stdout",
     "output_type": "stream",
     "text": [
      "3\n"
     ]
    }
   ],
   "source": [
    "bin_counter=0\n",
    "for i in range(len(bin_dict)):\n",
    "    if len(bin_dict[i]) > 0:\n",
    "        bin_counter+=1\n",
    "print(bin_counter)"
   ]
  },
  {
   "cell_type": "markdown",
   "metadata": {},
   "source": [
    "# 走査するアイテムの順をシャッフルする"
   ]
  },
  {
   "cell_type": "code",
   "execution_count": 59,
   "metadata": {},
   "outputs": [],
   "source": [
    "random_list = random.shuffle(N)"
   ]
  },
  {
   "cell_type": "code",
   "execution_count": 60,
   "metadata": {
    "scrolled": true
   },
   "outputs": [
    {
     "name": "stdout",
     "output_type": "stream",
     "text": [
      "[1 2 5 4 3 0]\n"
     ]
    }
   ],
   "source": [
    "print(N)"
   ]
  },
  {
   "cell_type": "markdown",
   "metadata": {},
   "source": [
    "## FFDの実行"
   ]
  },
  {
   "cell_type": "code",
   "execution_count": 62,
   "metadata": {},
   "outputs": [],
   "source": [
    "bin_dict = {}\n",
    "for i in N:\n",
    "    bin_dict[i] = []\n",
    "for i in N: #アイテム\n",
    "    for b in range(len(bin_dict)): #ビン\n",
    "        if capacity(w[i],bin_dict[b],w,C) and conflict(i,bin_dict[b],E_dict):\n",
    "            bin_dict[b] = bin_dict.setdefault(b,[]) + [i]\n",
    "            break  "
   ]
  },
  {
   "cell_type": "code",
   "execution_count": 63,
   "metadata": {},
   "outputs": [
    {
     "name": "stdout",
     "output_type": "stream",
     "text": [
      "0 [1, 5, 4, 0]\n",
      "1 [2]\n",
      "2 [3]\n",
      "3 []\n",
      "4 []\n",
      "5 []\n"
     ]
    }
   ],
   "source": [
    "for i in range(len(bin_dict)):\n",
    "    print(i,bin_dict[i])"
   ]
  },
  {
   "cell_type": "code",
   "execution_count": 64,
   "metadata": {},
   "outputs": [
    {
     "name": "stdout",
     "output_type": "stream",
     "text": [
      "3\n"
     ]
    }
   ],
   "source": [
    "bin_counter=0\n",
    "for i in range(len(bin_dict)):\n",
    "    if len(bin_dict[i]) > 0:\n",
    "        bin_counter+=1\n",
    "print(bin_counter)"
   ]
  },
  {
   "cell_type": "code",
   "execution_count": null,
   "metadata": {},
   "outputs": [],
   "source": []
  }
 ],
 "metadata": {
  "kernelspec": {
   "display_name": "Python 3",
   "language": "python",
   "name": "python3"
  },
  "language_info": {
   "codemirror_mode": {
    "name": "ipython",
    "version": 3
   },
   "file_extension": ".py",
   "mimetype": "text/x-python",
   "name": "python",
   "nbconvert_exporter": "python",
   "pygments_lexer": "ipython3",
   "version": "3.6.8"
  }
 },
 "nbformat": 4,
 "nbformat_minor": 4
}
