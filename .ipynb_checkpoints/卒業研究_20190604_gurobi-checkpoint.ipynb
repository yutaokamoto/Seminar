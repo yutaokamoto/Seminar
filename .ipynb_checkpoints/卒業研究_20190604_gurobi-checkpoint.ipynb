{
 "cells": [
  {
   "cell_type": "code",
   "execution_count": 3,
   "metadata": {},
   "outputs": [],
   "source": [
    "import gurobipy as gp"
   ]
  },
  {
   "cell_type": "code",
   "execution_count": 4,
   "metadata": {},
   "outputs": [
    {
     "ename": "GurobiError",
     "evalue": "No Gurobi license found (user yutaokamoto, host b2.dhcp.e.kaiyodai.ac.jp, hostid a3327782, cores 4)",
     "output_type": "error",
     "traceback": [
      "\u001b[0;31m---------------------------------------------------------------------------\u001b[0m",
      "\u001b[0;31mGurobiError\u001b[0m                               Traceback (most recent call last)",
      "\u001b[0;32m<ipython-input-4-7683c92b28da>\u001b[0m in \u001b[0;36m<module>\u001b[0;34m\u001b[0m\n\u001b[0;32m----> 1\u001b[0;31m \u001b[0mmodel\u001b[0m \u001b[0;34m=\u001b[0m \u001b[0mgp\u001b[0m\u001b[0;34m.\u001b[0m\u001b[0mModel\u001b[0m\u001b[0;34m(\u001b[0m\u001b[0mname\u001b[0m \u001b[0;34m=\u001b[0m \u001b[0;34m\"20190604\"\u001b[0m\u001b[0;34m)\u001b[0m\u001b[0;34m\u001b[0m\u001b[0;34m\u001b[0m\u001b[0m\n\u001b[0m",
      "\u001b[0;32mmodel.pxi\u001b[0m in \u001b[0;36mgurobipy.Model.__init__\u001b[0;34m()\u001b[0m\n",
      "\u001b[0;32mgurobi.pxi\u001b[0m in \u001b[0;36mgurobipy.gurobi._getdefaultenv\u001b[0;34m()\u001b[0m\n",
      "\u001b[0;32menv.pxi\u001b[0m in \u001b[0;36mgurobipy.Env.__init__\u001b[0;34m()\u001b[0m\n",
      "\u001b[0;31mGurobiError\u001b[0m: No Gurobi license found (user yutaokamoto, host b2.dhcp.e.kaiyodai.ac.jp, hostid a3327782, cores 4)"
     ]
    }
   ],
   "source": [
    "model = gp.Model(name = \"20190604\")"
   ]
  },
  {
   "cell_type": "code",
   "execution_count": 243,
   "metadata": {},
   "outputs": [],
   "source": [
    "n = 6\n",
    "w = [3, 2, 5, 6, 1, 1]\n",
    "C = 9"
   ]
  },
  {
   "cell_type": "code",
   "execution_count": 244,
   "metadata": {},
   "outputs": [
    {
     "name": "stdout",
     "output_type": "stream",
     "text": [
      "Cの値は9です。\n",
      "w0の値は3です。\n",
      "w1の値は2です。\n",
      "w2の値は5です。\n",
      "w3の値は6です。\n",
      "w4の値は1です。\n",
      "w5の値は1です。\n"
     ]
    }
   ],
   "source": [
    "print(f'Cの値は{C}です。')\n",
    "#print(f'w{i}の値は{w[i]}です。' for i in range(len(w))\n",
    "for i in range(len(w)):\n",
    "    print(f'w{i}の値は{w[i]}です。')"
   ]
  },
  {
   "cell_type": "code",
   "execution_count": 245,
   "metadata": {
    "collapsed": true
   },
   "outputs": [
    {
     "ename": "NameError",
     "evalue": "name 'k' is not defined",
     "output_type": "error",
     "traceback": [
      "\u001b[0;31m---------------------------------------------------------------------------\u001b[0m",
      "\u001b[0;31mNameError\u001b[0m                                 Traceback (most recent call last)",
      "\u001b[0;32m<ipython-input-245-4233892da47d>\u001b[0m in \u001b[0;36m<module>\u001b[0;34m\u001b[0m\n\u001b[0;32m----> 1\u001b[0;31m \u001b[0mgp\u001b[0m\u001b[0;34m.\u001b[0m\u001b[0mquicksum\u001b[0m\u001b[0;34m(\u001b[0m\u001b[0mw\u001b[0m\u001b[0;34m[\u001b[0m\u001b[0mi\u001b[0m\u001b[0;34m]\u001b[0m\u001b[0;34m*\u001b[0m\u001b[0mx\u001b[0m\u001b[0;34m[\u001b[0m\u001b[0mi\u001b[0m\u001b[0;34m,\u001b[0m\u001b[0mk\u001b[0m\u001b[0;34m]\u001b[0m \u001b[0;32mfor\u001b[0m \u001b[0mi\u001b[0m \u001b[0;32min\u001b[0m \u001b[0mrange\u001b[0m\u001b[0;34m(\u001b[0m\u001b[0mn\u001b[0m\u001b[0;34m)\u001b[0m\u001b[0;34m)\u001b[0m\u001b[0;34m\u001b[0m\u001b[0;34m\u001b[0m\u001b[0m\n\u001b[0m",
      "\u001b[0;32mgurobi.pxi\u001b[0m in \u001b[0;36mgurobipy.quicksum\u001b[0;34m()\u001b[0m\n",
      "\u001b[0;32m<ipython-input-245-4233892da47d>\u001b[0m in \u001b[0;36m<genexpr>\u001b[0;34m(.0)\u001b[0m\n\u001b[0;32m----> 1\u001b[0;31m \u001b[0mgp\u001b[0m\u001b[0;34m.\u001b[0m\u001b[0mquicksum\u001b[0m\u001b[0;34m(\u001b[0m\u001b[0mw\u001b[0m\u001b[0;34m[\u001b[0m\u001b[0mi\u001b[0m\u001b[0;34m]\u001b[0m\u001b[0;34m*\u001b[0m\u001b[0mx\u001b[0m\u001b[0;34m[\u001b[0m\u001b[0mi\u001b[0m\u001b[0;34m,\u001b[0m\u001b[0mk\u001b[0m\u001b[0;34m]\u001b[0m \u001b[0;32mfor\u001b[0m \u001b[0mi\u001b[0m \u001b[0;32min\u001b[0m \u001b[0mrange\u001b[0m\u001b[0;34m(\u001b[0m\u001b[0mn\u001b[0m\u001b[0;34m)\u001b[0m\u001b[0;34m)\u001b[0m\u001b[0;34m\u001b[0m\u001b[0;34m\u001b[0m\u001b[0m\n\u001b[0m",
      "\u001b[0;31mNameError\u001b[0m: name 'k' is not defined"
     ]
    }
   ],
   "source": [
    "gp.quicksum(w[i]*x[i,k] for i in range(n))"
   ]
  },
  {
   "cell_type": "code",
   "execution_count": 246,
   "metadata": {},
   "outputs": [],
   "source": [
    "def solve(n, w, C):\n",
    "    x = {}\n",
    "    y = {}\n",
    "    for j in range(n):\n",
    "        y[j] = model.addVar(lb = 0, ub = 1, vtype='B', name='y[%s]'%j)\n",
    "        for i in range(n):\n",
    "            x[i,j] = model.addVar(lb = 0, ub = 1, vtype='B', name='x[%s,%s]'%(i,j))\n",
    "        \n",
    "    model.update()\n",
    "        \n",
    "    #目的関数\n",
    "    model.setObjective(gp.quicksum(y[j] for j in range(n)), sense = gp.GRB.MINIMIZE)\n",
    "    \n",
    "    #制約式\n",
    "    for i in range(n):\n",
    "        model.addConstr(gp.quicksum(x[i,j] for j in range(n))==1, 'Assign[%s]'%i) #すべてのアイテムはビンに詰め込まれる\n",
    "        for j in range(n):\n",
    "            model.addConstr(x[i,j]<=y[j], 'Strong[%s,%s]'%(i,j)) #強い定式化\n",
    "            \n",
    "    for k in range(n):\n",
    "        model.addConstr(gp.quicksum(w[i]*x[i,k] for i in range(n))<=C*y[k], 'Binlimit[%s]'%k) #ビンの容量を超えない\n",
    "            \n",
    "    print(\"↓点線の間に、Gurobi Optimizerからログが出力\")\n",
    "    print(\"-\" * 40)\n",
    "\n",
    "    model.optimize()\n",
    "\n",
    "    print(\"-\" * 40)\n",
    "    print()\n",
    "    \n",
    "    print('Opt Value = ', model.ObjVal)"
   ]
  },
  {
   "cell_type": "code",
   "execution_count": 247,
   "metadata": {},
   "outputs": [
    {
     "name": "stdout",
     "output_type": "stream",
     "text": [
      "↓点線の間に、Gurobi Optimizerからログが出力\n",
      "----------------------------------------\n",
      "Optimize a model with 48 rows, 42 columns and 150 nonzeros\n",
      "Variable types: 0 continuous, 42 integer (42 binary)\n",
      "Coefficient statistics:\n",
      "  Matrix range     [1e+00, 9e+00]\n",
      "  Objective range  [1e+00, 1e+00]\n",
      "  Bounds range     [1e+00, 1e+00]\n",
      "  RHS range        [1e+00, 1e+00]\n",
      "Found heuristic solution: objective 4.0000000\n",
      "Presolve removed 6 rows and 0 columns\n",
      "Presolve time: 0.00s\n",
      "Presolved: 42 rows, 42 columns, 144 nonzeros\n",
      "Variable types: 0 continuous, 42 integer (42 binary)\n",
      "\n",
      "Root relaxation: objective 2.000000e+00, 55 iterations, 0.00 seconds\n",
      "\n",
      "    Nodes    |    Current Node    |     Objective Bounds      |     Work\n",
      " Expl Unexpl |  Obj  Depth IntInf | Incumbent    BestBd   Gap | It/Node Time\n",
      "\n",
      "*    0     0               0       2.0000000    2.00000  0.00%     -    0s\n",
      "\n",
      "Explored 0 nodes (55 simplex iterations) in 0.02 seconds\n",
      "Thread count was 4 (of 4 available processors)\n",
      "\n",
      "Solution count 2: 2 4 \n",
      "\n",
      "Optimal solution found (tolerance 1.00e-04)\n",
      "Best objective 2.000000000000e+00, best bound 2.000000000000e+00, gap 0.0000%\n",
      "----------------------------------------\n",
      "\n",
      "Opt Value =  2.0\n"
     ]
    }
   ],
   "source": [
    "solve(n, w, C)"
   ]
  },
  {
   "cell_type": "code",
   "execution_count": 1,
   "metadata": {},
   "outputs": [],
   "source": [
    "import gurobipy as gp"
   ]
  },
  {
   "cell_type": "code",
   "execution_count": 2,
   "metadata": {},
   "outputs": [
    {
     "name": "stdout",
     "output_type": "stream",
     "text": [
      "Academic license - for non-commercial use only\n"
     ]
    }
   ],
   "source": [
    "model = gp.Model(name = \"20190604_conflict\")"
   ]
  },
  {
   "cell_type": "code",
   "execution_count": 253,
   "metadata": {},
   "outputs": [],
   "source": [
    "n = 6\n",
    "w = [3, 2, 5, 6, 1, 1]\n",
    "C = 9\n",
    "E = [(0,2), (1,2)]"
   ]
  },
  {
   "cell_type": "code",
   "execution_count": 254,
   "metadata": {},
   "outputs": [],
   "source": [
    "def solve(n, w, C, E):\n",
    "    x = {}\n",
    "    y = {}\n",
    "    for j in range(n):\n",
    "        y[j] = model.addVar(lb = 0, ub = 1, vtype='B', name='y[%s]'%j)\n",
    "        for i in range(n):\n",
    "            x[i,j] = model.addVar(lb = 0, ub = 1, vtype='B', name='x[%s,%s]'%(i,j))\n",
    "    \n",
    "    model.update()\n",
    "        \n",
    "    #目的関数\n",
    "    model.setObjective(gp.quicksum(y[j] for j in range(n)), sense = gp.GRB.MINIMIZE)\n",
    "    \n",
    "    #制約式\n",
    "    for i in range(n):\n",
    "        model.addConstr(gp.quicksum(x[i,j] for j in range(n))==1, 'Assign[%s]'%i) #すべてのアイテムはビンに詰め込まれる\n",
    "        for j in range(n):\n",
    "            model.addConstr(x[i,j]<=y[j], 'Strong[%s,%s]'%(i,j)) #強い定式化\n",
    "    for k in range(n):\n",
    "        model.addConstr(gp.quicksum(w[i]*x[i,k] for i in range(n))<=C*y[k], 'Binlimit[%s]'%k) #ビンの容量を超えない\n",
    "    for e in E:\n",
    "        for j in range(n):\n",
    "            model.addConstr(x[e[0],j]+x[e[1],j]<=1,'Conflict[%s,%s]'%(e[0],e[1])) #相性の悪いアイテムの組み or 　同じビンに入れるとビンの容量を超えてしまうアイテムの組み\n",
    "            \n",
    "    print(\"↓点線の間に、Gurobi Optimizerからログが出力\")\n",
    "    print(\"-\" * 40)\n",
    "\n",
    "    model.optimize()\n",
    "\n",
    "    print(\"-\" * 40)\n",
    "    print()\n",
    "    \n",
    "    print('Opt Value = ', model.ObjVal)"
   ]
  },
  {
   "cell_type": "code",
   "execution_count": 255,
   "metadata": {},
   "outputs": [
    {
     "name": "stdout",
     "output_type": "stream",
     "text": [
      "↓点線の間に、Gurobi Optimizerからログが出力\n",
      "----------------------------------------\n",
      "Optimize a model with 114 rows, 84 columns and 336 nonzeros\n",
      "Variable types: 0 continuous, 84 integer (84 binary)\n",
      "Coefficient statistics:\n",
      "  Matrix range     [1e+00, 9e+00]\n",
      "  Objective range  [1e+00, 1e+00]\n",
      "  Bounds range     [1e+00, 1e+00]\n",
      "  RHS range        [1e+00, 1e+00]\n",
      "\n",
      "MIP start produced solution with objective 3 (0.02s)\n",
      "Loaded MIP start with objective 3\n",
      "\n",
      "Presolve removed 72 rows and 42 columns\n",
      "Presolve time: 0.00s\n",
      "Presolved: 42 rows, 42 columns, 156 nonzeros\n",
      "Variable types: 0 continuous, 42 integer (42 binary)\n",
      "\n",
      "Root relaxation: cutoff, 54 iterations, 0.00 seconds\n",
      "\n",
      "    Nodes    |    Current Node    |     Objective Bounds      |     Work\n",
      " Expl Unexpl |  Obj  Depth IntInf | Incumbent    BestBd   Gap | It/Node Time\n",
      "\n",
      "     0     0     cutoff    0         3.00000    3.00000  0.00%     -    0s\n",
      "\n",
      "Explored 0 nodes (54 simplex iterations) in 0.05 seconds\n",
      "Thread count was 4 (of 4 available processors)\n",
      "\n",
      "Solution count 1: 3 \n",
      "\n",
      "Optimal solution found (tolerance 1.00e-04)\n",
      "Best objective 3.000000000000e+00, best bound 3.000000000000e+00, gap 0.0000%\n",
      "----------------------------------------\n",
      "\n",
      "Opt Value =  3.0\n"
     ]
    }
   ],
   "source": [
    "solve(n, w, C, E)"
   ]
  },
  {
   "cell_type": "code",
   "execution_count": null,
   "metadata": {},
   "outputs": [],
   "source": []
  },
  {
   "cell_type": "code",
   "execution_count": null,
   "metadata": {},
   "outputs": [],
   "source": []
  },
  {
   "cell_type": "code",
   "execution_count": 114,
   "metadata": {},
   "outputs": [],
   "source": [
    "if model_1.Status == gp.GRB.OPTIMAL:\n",
    "    # 解の値\n",
    "    x_opt = {}\n",
    "    y_opt = {}\n",
    "    \n",
    "    for j in range(n):\n",
    "        y_opt[j] = y[j].Y\n",
    "        for j in range(n):\n",
    "            x_opt[i,j] = x[i,j].X\n",
    "    # 目的関数の値\n",
    "    val_opt = model.ObjVal\n",
    "    print('最適解は')\n",
    "    for i in range(n):\n",
    "        for j in range(n):\n",
    "            print(f\"x{i,j} = {x_opt[i,j]}\")\n",
    "    for j in range(n):\n",
    "        print(f'y{j} = {y_opt[j]}')\n",
    "    print(f\"最適値は {val_opt}\")"
   ]
  },
  {
   "cell_type": "code",
   "execution_count": null,
   "metadata": {},
   "outputs": [],
   "source": []
  }
 ],
 "metadata": {
  "kernelspec": {
   "display_name": "Python 3",
   "language": "python",
   "name": "python3"
  },
  "language_info": {
   "codemirror_mode": {
    "name": "ipython",
    "version": 3
   },
   "file_extension": ".py",
   "mimetype": "text/x-python",
   "name": "python",
   "nbconvert_exporter": "python",
   "pygments_lexer": "ipython3",
   "version": "3.7.3"
  }
 },
 "nbformat": 4,
 "nbformat_minor": 2
}
