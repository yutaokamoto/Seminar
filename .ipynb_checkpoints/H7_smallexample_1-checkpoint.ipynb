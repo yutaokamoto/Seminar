{
 "cells": [
  {
   "cell_type": "markdown",
   "metadata": {},
   "source": [
    "# 問題設定"
   ]
  },
  {
   "cell_type": "markdown",
   "metadata": {},
   "source": [
    "## 基本設定"
   ]
  },
  {
   "cell_type": "code",
   "execution_count": 2,
   "metadata": {},
   "outputs": [],
   "source": [
    "import numpy as np"
   ]
  },
  {
   "cell_type": "code",
   "execution_count": 3,
   "metadata": {},
   "outputs": [],
   "source": [
    "n = 6\n",
    "V = np.arange(n)\n",
    "C = 9\n",
    "B = {i:C for i in range(n)}\n",
    "w = [3, 2, 5, 6, 1, 1]\n",
    "E = [(0,2), (1,2)]\n",
    "M = [(0,3), (1,4,5), (2,)]\n",
    "r = [1]*len(M)\n",
    "bin_cost = 100"
   ]
  },
  {
   "cell_type": "markdown",
   "metadata": {},
   "source": [
    "## コンフリクト辞書とノットコンフリクト辞書の作成"
   ]
  },
  {
   "cell_type": "markdown",
   "metadata": {},
   "source": [
    "### コンフリクトがあるノード間に枝があるような辞書 E_dict"
   ]
  },
  {
   "cell_type": "code",
   "execution_count": 4,
   "metadata": {},
   "outputs": [],
   "source": [
    "def E_dict_func(E):\n",
    "    E_dict={}\n",
    "    flag=E[0][0]\n",
    "    for i in range(len(E)):\n",
    "        if flag!=E[i][0]:\n",
    "            flag=E[i][0]\n",
    "        E_dict[E[i][0]] = E_dict.setdefault(E[i][0],()) + (E[i][1],)\n",
    "        E_dict[E[i][1]] = E_dict.setdefault(E[i][1],()) + (E[i][0],)\n",
    "        \n",
    "    for i in range(n):\n",
    "        if i not in E_dict.keys():\n",
    "            E_dict[i] = ()\n",
    "            \n",
    "    return E_dict"
   ]
  },
  {
   "cell_type": "code",
   "execution_count": 5,
   "metadata": {},
   "outputs": [
    {
     "data": {
      "text/plain": [
       "{0: (2,), 2: (0, 1), 1: (2,), 3: (), 4: (), 5: ()}"
      ]
     },
     "execution_count": 5,
     "metadata": {},
     "output_type": "execute_result"
    }
   ],
   "source": [
    "E_dict = E_dict_func(E)\n",
    "E_dict"
   ]
  },
  {
   "cell_type": "markdown",
   "metadata": {},
   "source": [
    "### コンフリクトがないノード間に枝があるような辞書 nonconf_E_dict"
   ]
  },
  {
   "cell_type": "code",
   "execution_count": 6,
   "metadata": {},
   "outputs": [],
   "source": [
    "def nonconf_E_dict_func(E):\n",
    "    import numpy as np\n",
    "    N = np.arange(0,n) #辞書をつくる際にのみ使う定数\n",
    "    E_dict = {}\n",
    "    nonconf_E_dict={}\n",
    "    flag=E[0][0]\n",
    "    E_dict = E_dict_func(E)\n",
    "    for i in range(len(E)):\n",
    "        if flag!=E[i][0]:\n",
    "            flag=E[i][0]\n",
    "        nonconf_E_dict[E[i][0]] = tuple(set(N)-set(E_dict[E[i][0]])-{E[i][0]})\n",
    "        nonconf_E_dict[E[i][1]] = tuple(set(N)-set(E_dict[E[i][1]])-{E[i][1]})\n",
    "        \n",
    "    for i in range(n):\n",
    "        if len(E_dict[i])==0:\n",
    "            nonconf_E_dict[i] = tuple(range(n))\n",
    "    \n",
    "    return nonconf_E_dict"
   ]
  },
  {
   "cell_type": "code",
   "execution_count": 7,
   "metadata": {},
   "outputs": [
    {
     "data": {
      "text/plain": [
       "{0: (1, 3, 4, 5),\n",
       " 2: (3, 4, 5),\n",
       " 1: (0, 3, 4, 5),\n",
       " 3: (0, 1, 2, 3, 4, 5),\n",
       " 4: (0, 1, 2, 3, 4, 5),\n",
       " 5: (0, 1, 2, 3, 4, 5)}"
      ]
     },
     "execution_count": 7,
     "metadata": {},
     "output_type": "execute_result"
    }
   ],
   "source": [
    "nonconf_E_dict = nonconf_E_dict_func(E)\n",
    "nonconf_E_dict"
   ]
  },
  {
   "cell_type": "markdown",
   "metadata": {},
   "source": [
    "### コンフリクトがないノード間に枝があるとした場合の枝集合 nonconf_E"
   ]
  },
  {
   "cell_type": "code",
   "execution_count": 8,
   "metadata": {},
   "outputs": [],
   "source": [
    "def nonconf_E_func(E):\n",
    "    nonconf_E = []\n",
    "    nonconf_E_dict = nonconf_E_dict_func(E)\n",
    "    for i in nonconf_E_dict:\n",
    "        for j in nonconf_E_dict[i]:\n",
    "            nonconf_E.append((i,j))\n",
    "            \n",
    "    return nonconf_E"
   ]
  },
  {
   "cell_type": "code",
   "execution_count": 9,
   "metadata": {
    "scrolled": true
   },
   "outputs": [
    {
     "data": {
      "text/plain": [
       "[(0, 1),\n",
       " (0, 3),\n",
       " (0, 4),\n",
       " (0, 5),\n",
       " (2, 3),\n",
       " (2, 4),\n",
       " (2, 5),\n",
       " (1, 0),\n",
       " (1, 3),\n",
       " (1, 4),\n",
       " (1, 5),\n",
       " (3, 0),\n",
       " (3, 1),\n",
       " (3, 2),\n",
       " (3, 3),\n",
       " (3, 4),\n",
       " (3, 5),\n",
       " (4, 0),\n",
       " (4, 1),\n",
       " (4, 2),\n",
       " (4, 3),\n",
       " (4, 4),\n",
       " (4, 5),\n",
       " (5, 0),\n",
       " (5, 1),\n",
       " (5, 2),\n",
       " (5, 3),\n",
       " (5, 4),\n",
       " (5, 5)]"
      ]
     },
     "execution_count": 9,
     "metadata": {},
     "output_type": "execute_result"
    }
   ],
   "source": [
    "nonconf_E = nonconf_E_func(E)\n",
    "nonconf_E"
   ]
  },
  {
   "cell_type": "markdown",
   "metadata": {},
   "source": [
    "# アルゴリズム"
   ]
  },
  {
   "cell_type": "code",
   "execution_count": 10,
   "metadata": {},
   "outputs": [],
   "source": [
    "def capacity(w_i,bin_b,w,C): #bin_bの容量がw_iの大きさよりも大きいかを判定\n",
    "    if (C-sum(w[i] for i in bin_b)) >= w_i:\n",
    "        return True\n",
    "    else:\n",
    "        return False"
   ]
  },
  {
   "cell_type": "code",
   "execution_count": 11,
   "metadata": {},
   "outputs": [],
   "source": [
    "def conflict(item,bin_b,E_dict): #bin_bに割り当てられているアイテムたちとw_iの間にコンフリクトがあるかを判定\n",
    "    if item not in E_dict:\n",
    "        return False\n",
    "    for i in bin_b:\n",
    "        if i in E_dict[item]:\n",
    "                return False\n",
    "    return True"
   ]
  },
  {
   "cell_type": "code",
   "execution_count": 12,
   "metadata": {},
   "outputs": [],
   "source": [
    "def group(i,M): #アイテムiの属するグループの番号を返す関数\n",
    "    for index,menber in enumerate(M):\n",
    "        if i in menber:\n",
    "            return index"
   ]
  },
  {
   "cell_type": "markdown",
   "metadata": {},
   "source": [
    "## グループを並べ替える関数\n",
    "### 1.グループのメンバーが多い順\n",
    "\n",
    "### 2.コンフリクトの数の平均が多い順\n",
    "\n",
    "### 3.コンフリクトの数の最高値が高い順\n",
    "\n",
    "### 4.グループを分けるコストが大きい順"
   ]
  },
  {
   "cell_type": "code",
   "execution_count": 13,
   "metadata": {},
   "outputs": [],
   "source": [
    "#グループを並べ替える関数_1\n",
    "def sort_M_1(M):\n",
    "    return sorted(M,key=lambda x:len(x),reverse=True)"
   ]
  },
  {
   "cell_type": "code",
   "execution_count": 14,
   "metadata": {},
   "outputs": [],
   "source": [
    "#グループを並べ替える関数_2\n",
    "def sort_M_2(M):\n",
    "    return sorted(M,key=lambda x:sum(len(E_dict[i]) for i in x)/len(x),reverse=True)"
   ]
  },
  {
   "cell_type": "code",
   "execution_count": 15,
   "metadata": {},
   "outputs": [],
   "source": [
    "#グループを並べ替える関数_3\n",
    "def sort_M_3(M):\n",
    "    return sorted(M,key=lambda x:max(len(E_dict[i]) for i in x),reverse=True)"
   ]
  },
  {
   "cell_type": "code",
   "execution_count": 16,
   "metadata": {},
   "outputs": [],
   "source": [
    "#グループを並べ替える関数_4\n",
    "def sort_M_4(M):\n",
    "    return sorted(enumerate(M),key=lambda x:r[x[0]],reverse=True)"
   ]
  },
  {
   "cell_type": "markdown",
   "metadata": {},
   "source": [
    "# H1 : FFD"
   ]
  },
  {
   "cell_type": "code",
   "execution_count": 17,
   "metadata": {},
   "outputs": [],
   "source": [
    "def FFD(n,V,B,w,C,E,M):\n",
    "    assign = {}\n",
    "    penalty = {}\n",
    "    I = sorted(V,key=lambda x:w[x],reverse=True) #大きさが大きい順にアイテムを並べ替える\n",
    "    \n",
    "    for i in I:\n",
    "        group_no = group(i,M)\n",
    "        for b in B:\n",
    "            if capacity(w[i],B[b],w,C): #容量制約を満たす\n",
    "                assign[b].append(i) #ビンbにアイテムiを入れる\n",
    "                "
   ]
  },
  {
   "cell_type": "code",
   "execution_count": 18,
   "metadata": {},
   "outputs": [],
   "source": [
    "def FFD(I,w,C,C_dict,E_dict,M,assign,penalty): #アイテムをビンに割り当てる\n",
    "    #I = sorted(I,key=lambda x:len(nonconf_E_dict[x]),reverse=True) #コンフリクトのないアイテム数が多い順にアイテムを走査\n",
    "    I = sorted(I,key=lambda x:w[x],reverse=True) #大きさが大きい順にアイテムを走査\n",
    "    \n",
    "    for i in I:\n",
    "        group_no = group(i,M)\n",
    "        for b in range(len(w)): #インデックスが小さい順にビンを走査\n",
    "            assign[b] = assign.setdefault(b,[])\n",
    "            C_dict[b] = C_dict.setdefault(b,C)\n",
    "            if capacity(w[i],assign[b],w,C): #容量制約を満たす\n",
    "                assign[b].append(i) #ビンbにアイテムiを入れる\n",
    "                penalty[group_no] = penalty.setdefault(group_no,[]) + [b] #グループgroup_noの使用するビンのインデックスを１つ追加\n",
    "                break  \n",
    "                \n",
    "    return assign,penalty"
   ]
  },
  {
   "cell_type": "markdown",
   "metadata": {},
   "source": [
    "# H2 : FFD for conflict"
   ]
  },
  {
   "cell_type": "code",
   "execution_count": 19,
   "metadata": {},
   "outputs": [],
   "source": [
    "def FFD_for_conflict(I,w,C,C_dict,E_dict,M,assign,penalty): #コンフリクトの数が多い順にアイテムをビンに割り当てる\n",
    "    I = sorted(I,key=lambda x:len(E_dict[x]),reverse=True) #コンフリクトの数が多い順にアイテムを走査\n",
    "    #I = sorted(I,key=lambda x:w[x],reverse=True) #大きさが大きい順にアイテムを走査\n",
    "    \n",
    "    for i in I:\n",
    "        group_no = group(i,M)\n",
    "        for b in range(len(w)): #インデックスが小さい順にビンを走査\n",
    "            assign[b] = assign.setdefault(b,[])\n",
    "            C_dict[b] = C_dict.setdefault(b,C)\n",
    "            if capacity(w[i],assign[b],w,C) and conflict(i,assign[b],E_dict): #容量制約を満たす　and　コンフリクトがない\n",
    "                assign[b].append(i) #ビンbにアイテムiを入れる\n",
    "                penalty[group_no] = penalty.setdefault(group_no,[]) + [b] #.append(b) #グループgroup_noの使用するビンのインデックスを１つ追加\n",
    "                break  \n",
    "                \n",
    "    return assign,penalty"
   ]
  },
  {
   "cell_type": "markdown",
   "metadata": {},
   "source": [
    "# H3 : FFD for conflict and group"
   ]
  },
  {
   "cell_type": "code",
   "execution_count": 20,
   "metadata": {},
   "outputs": [],
   "source": [
    "def FFD_for_conflict_group(I,w,C,E_dict,M): #コンフリクトの数が多い順にアイテムをビンに割り当てる、をグループごとに行う\n",
    "    assign = {} #ビンのインデックスをキーとし、ビンに割り当てられたアイテムを値とする辞書\n",
    "    penalty = {} #グループのインデックスをキーとし、グループが使用したビンのインデックスのリストを値とする辞書\n",
    "    C_dict = {} #ビンのインデックスをキーとし、ビンの残り容量を値とする辞書\n",
    "    \n",
    "    M = sort_G_1(M) #グループの並べ替え\n",
    "    for g in M: #グループごとにFFD_for_conflict()\n",
    "        assign,penalty = FFD_for_conflict(g,w,C,C_dict,E_dict,M,assign,penalty) #gに対してFFD for conflictを行う\n",
    "        for b in range(len(assign)):\n",
    "            C_dict[b] = C_dict[b]-sum(w[i] for i in assign[b]) #割り当てたアイテムの大きさ分ずつビンの容量を減らしていく\n",
    "        \n",
    "    return assign,penalty"
   ]
  },
  {
   "cell_type": "markdown",
   "metadata": {},
   "source": [
    "# H4 : FFD for conflict and group 1"
   ]
  },
  {
   "cell_type": "code",
   "execution_count": 21,
   "metadata": {},
   "outputs": [],
   "source": [
    "def H4(I,w,C,E_dict,M): #コンフリクトの数が多い順にアイテムをビンに割り当てる、をグループごとに行う\n",
    "    assign = {} #ビンのインデックスをキーとし、ビンに割り当てられたアイテムを値とする辞書\n",
    "    penalty = {} #グループのインデックスをキーとし、グループが使用したビンのインデックスのリストを値とする辞書\n",
    "    C_dict = {} #ビンのインデックスをキーとし、ビンの残り容量を値とする辞書\n",
    "    \n",
    "    H = [i for i in I if len(E_dict[i])==0] #アイテムの順序付き集合I内のコンフリクトの数が0のアイテムの集合をHとし、I=I\\Hとする。\n",
    "    M_prime = [tuple(set(g)-(set(H)&set(g))) for index,g in enumerate(M)] #グループの順序つき集合Gを更新する。\n",
    "    \n",
    "    M_prime = sort_M_1(M_prime) #グループの並べ替え\n",
    "    for g in M_prime: #グループごとにFFD_for_conflict()\n",
    "        assign,penalty = FFD_for_conflict(g,w,C,C_dict,E_dict,M_prime,assign,penalty) #gに対してFFD for conflictを行う\n",
    "        for b in range(len(assign)):\n",
    "            C_dict[b] = C_dict[b]-sum(w[i] for i in assign[b]) #割り当てたアイテムの大きさ分ずつビンの容量を減らしていく\n",
    "            \n",
    "    assign,penalty = FFD(H,w,C,C_dict,E_dict,M,assign,penalty) #Hに対してFFDを行う\n",
    "    for b in range(len(assign)):\n",
    "        C_dict[b] = C_dict[b]-sum(w[i] for i in assign[b])\n",
    "        \n",
    "    return assign,penalty"
   ]
  },
  {
   "cell_type": "markdown",
   "metadata": {},
   "source": [
    "# H5 : Improved FFD for conflict and group 2"
   ]
  },
  {
   "cell_type": "code",
   "execution_count": 22,
   "metadata": {},
   "outputs": [],
   "source": [
    "def H5(I,w,C,E_dict,M): #コンフリクトの数が多い順にアイテムをビンに割り当てる、をグループごとに行う\n",
    "    assign = {} #ビンのインデックスをキーとし、ビンに割り当てられたアイテムを値とする辞書\n",
    "    penalty = {} #グループのインデックスをキーとし、グループが使用したビンのインデックスのリストを値とする辞書\n",
    "    C_dict = {} #ビンのインデックスをキーとし、ビンの残り容量を値とする辞書\n",
    "    \n",
    "    M = sort_M_1(M) #グループの並べ替え\n",
    "    for g in M: #グループごとにFFD_for_conflict()\n",
    "        H = [i for i in g if len(E_dict[i])==0] #コンフリクトの数が0のアイテムの集合H\n",
    "        g = tuple(set(g)-set(H)) #g=g\\H\n",
    "        assign,penalty = FFD_for_conflict(g,w,C,C_dict,E_dict,M,assign,penalty) #gに対してFFD for conflictを行う\n",
    "        assign,penalty = FFD(H,w,C,C_dict,E_dict,M,assign,penalty) #Hに対してFFDを行う\n",
    "        for b in range(len(assign)):\n",
    "            C_dict[b] = C_dict[b]-sum(w[i] for i in assign[b]) #割り当てたアイテムの大きさ分ずつビンの容量を減らしていく\n",
    "        \n",
    "    return assign,penalty"
   ]
  },
  {
   "cell_type": "markdown",
   "metadata": {},
   "source": [
    "# H6 : Improved FFD for conflict and group 3"
   ]
  },
  {
   "cell_type": "code",
   "execution_count": 23,
   "metadata": {},
   "outputs": [],
   "source": [
    "def H6(I,w,C,E_dict,M): #コンフリクトの数が多い順にアイテムをビンに割り当てる、をグループごとに行う\n",
    "    assign = {} #ビンのインデックスをキーとし、ビンに割り当てられたアイテムを値とする辞書\n",
    "    penalty = {} #グループのインデックスをキーとし、グループが使用したビンのインデックスのリストを値とする辞書\n",
    "    C_dict = {} #ビンのインデックスをキーとし、ビンの残り容量を値とする辞書\n",
    "    \n",
    "    M = sort_M_3(M) #グループの並べ替え\n",
    "    for g in M:\n",
    "        H = [i for i in g if len(E_dict[i])==0] #コンフリクトの数が0のアイテムの集合H\n",
    "        g = tuple(set(g)-set(H)) #g=g\\H\n",
    "        while len(g)>0:\n",
    "            max_degree = max(i for i in g) #グループg内で最もコンフリクトの数が多いアイテムiを選ぶ\n",
    "            g_i = (max_degree,) + tuple(menber for menber in g if menber in nonconf_E_dict[max_degree]) #グループg内でiとコンフリクトがないアイテムとiからなる集合g_iを定める\n",
    "            g = tuple(set(g)-set(g_i)) #g=g\\g_i\n",
    "            assign,penalty = FFD_for_conflict(g_i,w,C,C_dict,E_dict,M,assign,penalty) #g_iに対してFFD for conflictを行う\n",
    "            for b in range(len(assign)):\n",
    "                C_dict[b] = C_dict[b]-sum(w[i] for i in assign[b]) #割り当てたアイテムの大きさ分ずつビンの容量を減らしていく\n",
    "        assign,penalty = FFD(H,w,C,C_dict,E_dict,M,assign,penalty) #Hに対してFFDを行う\n",
    "        for b in range(len(assign)):\n",
    "            C_dict[b] = C_dict[b]-sum(w[i] for i in assign[b]) #割り当てたアイテムの大きさ分ずつビンの容量を減らしていく\n",
    "\n",
    "    return assign,penalty"
   ]
  },
  {
   "cell_type": "markdown",
   "metadata": {},
   "source": [
    "# H7 : Improved FFD for conflict and group 4"
   ]
  },
  {
   "cell_type": "code",
   "execution_count": 24,
   "metadata": {},
   "outputs": [],
   "source": [
    "def H7(I,w,C,E_dict,M): #コンフリクトの数が多い順にアイテムをビンに割り当てる、をグループごとに行う\n",
    "    assign = {} #ビンのインデックスをキーとし、ビンに割り当てられたアイテムを値とする辞書\n",
    "    penalty = {} #グループのインデックスをキーとし、グループが使用したビンのインデックスのリストを値とする辞書\n",
    "    C_dict = {} #ビンのインデックスをキーとし、ビンの残り容量を値とする辞書\n",
    "    \n",
    "    H = [i for i in I if len(E_dict[i])==0] #アイテムの順序付き集合I内のコンフリクトの数が0のアイテムの集合をHとし、I=I\\Hとする。\n",
    "    M_prime = [tuple(set(g)-(set(H)&set(g))) for index,g in enumerate(G)] #グループの順序つき集合Gを更新する。\n",
    "    \n",
    "    M_prime = sort_M_3(M_prime) #グループの並べ替え\n",
    "    for g in M_prime:\n",
    "        g = tuple(set(g)-set(H)) #g=g\\H\n",
    "        while len(g)>0:\n",
    "            max_degree = max(i for i in g) #グループg内で最もコンフリクトの数が多いアイテムiを選ぶ\n",
    "            g_i = (max_degree,) + tuple(menber for menber in g if menber in nonconf_E_dict[max_degree]) #グループg内でiとコンフリクトがないアイテムとiからなる集合g_iを定める\n",
    "            g = tuple(set(g)-set(g_i)) #g=g\\g_i\n",
    "            assign,penalty = FFD_for_conflict(g_i,w,C,C_dict,E_dict,M_prime,assign,penalty) #g_iに対してFFD for conflictを行う\n",
    "            for b in range(len(assign)):\n",
    "                C_dict[b] = C_dict[b]-sum(w[i] for i in assign[b]) #割り当てたアイテムの大きさ分ずつビンの容量を減らしていく\n",
    "    assign,penalty = FFD(H,w,C,C_dict,E_dict,M,assign,penalty) #Hに対してFFDを行う\n",
    "    for b in range(len(assign)):\n",
    "        C_dict[b] = C_dict[b]-sum(w[i] for i in assign[b]) #割り当てたアイテムの大きさ分ずつビンの容量を減らしていく\n",
    "\n",
    "    return assign,penalty"
   ]
  },
  {
   "cell_type": "markdown",
   "metadata": {},
   "source": [
    "# Gendreauさんのビンパッキングに対するヒューリスティクスなやつ"
   ]
  },
  {
   "cell_type": "markdown",
   "metadata": {},
   "source": [
    "1. アイテムの集合V内のコンフリクトの数が0のアイテムの集合をHとし、V=V \\Hとする。\n",
    "2. Johnsonのヒューリスティクスを使ってコンフリクトグラフG内のクリークDを定め、V=V \\Dとする。V=φならば終了。\n",
    "3. クリークDのすべての要素iに対し、Johnsonのヒューリスティックを使ってV ∪ {i}として導出されるノンコンフリクトグラフG^~iの中からiを含む最大のクリークDiを定める。Diに対しFFDを行う。Vからiを含むビンに割り当てられているアイテム全てを除く。そして、D=D\\iとする。もしI=φならばステップ4へ。もしD=φならばステップ2へ。さもなければ、ステップ3へ。\n",
    "4. Hに対してFFDを行う。このとき、現在使われているビンから優先的に割り当てるようにする。"
   ]
  },
  {
   "cell_type": "markdown",
   "metadata": {},
   "source": [
    "# Johnsonさんの最大クリークを求めるヒューリスティクスなやつ"
   ]
  },
  {
   "cell_type": "markdown",
   "metadata": {},
   "source": [
    "入力　G=(N,A)  \n",
    "出力 最大のクリーク\n",
    "1. SUB =Nとする\n",
    "2. もしSUBがクリークなら終了し、SUBを返す\n",
    "3. yをSUBに属するノードのうち、SUBに属する他のノードと隣接している数が最も少ないものとする\n",
    "4. SUB=SUB-{y}とし、2.へ"
   ]
  },
  {
   "cell_type": "code",
   "execution_count": 25,
   "metadata": {},
   "outputs": [],
   "source": [
    "def clique(SUB,A):\n",
    "    flag=True\n",
    "    for i in SUB:\n",
    "        for j in SUB:\n",
    "            if i!=j:\n",
    "                if (i,j) not in A and (j,i) not in A:\n",
    "                    flag = False\n",
    "                    break\n",
    "        if flag!=True:\n",
    "            break       \n",
    "    return flag"
   ]
  },
  {
   "cell_type": "code",
   "execution_count": 26,
   "metadata": {},
   "outputs": [],
   "source": [
    "def fewest_degree_node(SUB,A):\n",
    "    degree_dict = {}\n",
    "    for n in SUB:\n",
    "        degree_dict[n] = 0\n",
    "    for e in A:\n",
    "        try:\n",
    "            degree_dict[e[0]] += 1\n",
    "            degree_dict[e[1]] += 1\n",
    "        except:\n",
    "            continue\n",
    "    return {min(degree_dict,key=lambda x:degree_dict[x])}"
   ]
  },
  {
   "cell_type": "code",
   "execution_count": 27,
   "metadata": {},
   "outputs": [],
   "source": [
    "def Johnson(N,A): #与えられた点集合と枝集合から最大クリークを生成する #Nは点の集合、Aは枝の集合\n",
    "    SUB = N\n",
    "    while True:\n",
    "        if clique(SUB,A):\n",
    "            break\n",
    "        else:\n",
    "            y = fewest_degree_node(SUB,A) #SUBのノードのうち、最も次数の少ないものを定める\n",
    "            SUB = SUB-y #SUBからyを除く\n",
    "            for e in A:\n",
    "                if y in e:\n",
    "                    A = A-{e} #yにつながってる枝を除く\n",
    "    return SUB"
   ]
  },
  {
   "cell_type": "code",
   "execution_count": 28,
   "metadata": {},
   "outputs": [],
   "source": [
    "I = sorted(V,key=lambda x:w[x],reverse=True)"
   ]
  },
  {
   "cell_type": "code",
   "execution_count": 29,
   "metadata": {},
   "outputs": [],
   "source": [
    "M = [(0,3), (1,4,5), (2,)]"
   ]
  },
  {
   "cell_type": "code",
   "execution_count": 32,
   "metadata": {
    "scrolled": false
   },
   "outputs": [
    {
     "name": "stdout",
     "output_type": "stream",
     "text": [
      "V \t {0, 1, 2}\n",
      "D \t {1, 2}\n",
      "V-D\n",
      "V \t {0}\n",
      "\n",
      "\t i \t 1\n",
      "\t V \t {0, 1}\n",
      "\t D_i \t {0, 1}\n",
      "\t bin_dict_temp \t {0: [0, 1]}\n",
      "\t bins_group_using_temp \t {0: [0], 1: [0]}\n",
      "\t bin_dict \t {0: [0, 1]}\n",
      "\t bins_group_using \t {0: [0], 1: [0]}\n",
      "\t D \t {2}\n",
      "\t C_dict \t {0: 4}\n",
      "\n",
      "\t i \t 2\n",
      "\t V \t {2}\n",
      "\t D_i \t {2}\n",
      "\t bin_dict_temp \t {0: [0, 1], 1: [2]}\n",
      "\t bins_group_using_temp \t {0: [0], 1: [0], 2: [1]}\n",
      "\t bin_dict \t {0: [0, 1], 1: [2]}\n",
      "\t bins_group_using \t {0: [0], 1: [0], 2: [1]}\n",
      "\t D \t set()\n",
      "\t C_dict \t {0: 4, 1: 4}\n",
      "\n",
      "ANSWER\n",
      "bin_dict \t {0: [0, 1, 4, 5], 1: [2], 2: [3]}\n",
      "bins_group_using \t {0: [0, 2], 1: [0, 0, 0], 2: [1]}\n"
     ]
    }
   ],
   "source": [
    "assign = {} #ビンのインデックスをキーとし、ビンに割り当てられたアイテムを値とする辞書\n",
    "penalty = {} #グループのインデックスをキーとし、グループが使用したビンのインデックスのリストを値とする辞書\n",
    "C_dict = {} #ビンのインデックスをキーとし、ビンの残り容量を値とする辞書\n",
    "\n",
    "#1\n",
    "V = set(I)\n",
    "H = set(i for i in V if len(E_dict[i])==0) #アイテムの集合V内のコンフリクトの数が0のアイテムの集合をHとし、V=V\\Hとする。\n",
    "V = V-H #コンフリクトの数が0のアイテムを含まないアイテム集合\n",
    "E = set(E)    \n",
    "print(\"V \\t\",V)\n",
    "\n",
    "#2\n",
    "while V!=set():\n",
    "    if V==set(): #V=φならば終了\n",
    "        pass\n",
    "    else:\n",
    "        D = Johnson(V,E) #DはグラフG内の最大のクリーク\n",
    "        V = V-D\n",
    "    print(\"D \\t\",D)\n",
    "    print(\"V-D\")\n",
    "    print(\"V \\t\",V)\n",
    "    print()\n",
    "\n",
    "    #3\n",
    "    assign_temp = {}\n",
    "    penalty_temp = {}\n",
    "    for i in D:\n",
    "        print(\"\\t i \\t\",i)\n",
    "\n",
    "        V = V | {i}\n",
    "        print(\"\\t V \\t\",V)\n",
    "\n",
    "        D_i = Johnson(V,nonconf_E) #V ∪ {i} と　コンフリクトがないアイテム同士の組みを要素にもつ枝集合　から最大クリークを見つける\n",
    "        print(\"\\t D_i \\t\",D_i)\n",
    "\n",
    "        assign_temp,penalty_temp = FFD(D_i,w,C,C_dict,E_dict,M,assign_temp,penalty_temp)\n",
    "        print(\"\\t assign_temp \\t\",assign_temp)\n",
    "        print(\"\\t penalty_temp \\t\",penalty_temp)\n",
    "\n",
    "        for index,value in assign_temp.items():\n",
    "            if i in value:\n",
    "                V = V - set(value)\n",
    "                assign[index] = value\n",
    "\n",
    "        for b in range(len(assign)):\n",
    "            C_dict[b] = C-sum(w[k] for k in assign[b]) #割り当てたアイテムの大きさ分ずつビンの容量を減らしていく\n",
    "\n",
    "        penalty = penalty_temp\n",
    "\n",
    "        print(\"\\t assign \\t\",assign)\n",
    "        print(\"\\t penalty \\t\",penalty)\n",
    "        D = D - {i}\n",
    "        #print(\"\\t V \\t\",V)\n",
    "        print(\"\\t D \\t\",D)\n",
    "        print(\"\\t C_dict \\t\",C_dict)\n",
    "        print()\n",
    "    \n",
    "#4\n",
    "assign,penalty = FFD(H,w,C,C_dict,E_dict,M,assign,penalty) #Hに対してFFDを行う\n",
    "for b in range(len(assign)):\n",
    "    C_dict[b] = C_dict[b]-sum(w[i] for i in assign[b]) #割り当てたアイテムの大きさ分ずつビンの容量を減らしていく\n",
    "    \n",
    "print(\"ANSWER\")\n",
    "print(\"assign \\t\",assign)\n",
    "print(\"penalty \\t\",penalty)"
   ]
  },
  {
   "cell_type": "code",
   "execution_count": 38,
   "metadata": {},
   "outputs": [],
   "source": [
    "def Gendreau(I,w,C,E,nonconf_E,E_dict,M):\n",
    "    assign = {} #ビンのインデックスをキーとし、ビンに割り当てられたアイテムを値とする辞書\n",
    "    penalty = {} #グループのインデックスをキーとし、グループが使用したビンのインデックスのリストを値とする辞書\n",
    "    C_dict = {} #ビンのインデックスをキーとし、ビンの残り容量を値とする辞書\n",
    "\n",
    "    #1\n",
    "    V = set(I)\n",
    "    H = set(i for i in V if len(E_dict[i])==0) #アイテムの集合V内のコンフリクトの数が0のアイテムの集合をHとし、V=V\\Hとする。\n",
    "    V = V-H #コンフリクトの数が0のアイテムを含まないアイテム集合\n",
    "    E = set(E)    \n",
    "\n",
    "    #2\n",
    "    while V!=set():\n",
    "        if V==set(): #V=φならば終了\n",
    "            pass\n",
    "        else:\n",
    "            D = Johnson(V,E) #DはグラフG内の最大のクリーク\n",
    "            V = V-D\n",
    "\n",
    "        #3\n",
    "        assign_temp = {}\n",
    "        penalty_temp = {}\n",
    "        for i in D:\n",
    "            V = V | {i}\n",
    "            D_i = Johnson(V,nonconf_E) #V ∪ {i} と　コンフリクトがないアイテム同士の組みを要素にもつ枝集合　から最大クリークを見つける\n",
    "            assign_temp,penalty_temp = FFD(D_i,w,C,C_dict,E_dict,M,assign_temp,penalty_temp)\n",
    "            for index,value in assign_temp.items():\n",
    "                if i in value:\n",
    "                    V = V - set(value)\n",
    "                    assign[index] = value\n",
    "            for b in range(len(assign)):\n",
    "                C_dict[b] = C-sum(w[k] for k in assign[b]) #割り当てたアイテムの大きさ分ずつビンの容量を減らしていく\n",
    "            penalty = penalty_temp\n",
    "            D = D - {i}\n",
    "\n",
    "    #4\n",
    "    assign,penalty = FFD(H,w,C,C_dict,E_dict,M,assign,penalty) #Hに対してFFDを行う\n",
    "    for b in range(len(assign)):\n",
    "        C_dict[b] = C_dict[b]-sum(w[i] for i in assign[b]) #割り当てたアイテムの大きさ分ずつビンの容量を減らしていく\n",
    "\n",
    "    return assign,penalty"
   ]
  },
  {
   "cell_type": "code",
   "execution_count": 43,
   "metadata": {},
   "outputs": [],
   "source": [
    "assign,penalty = Gendreau(I,w,C,E,nonconf_E,E_dict,M)"
   ]
  },
  {
   "cell_type": "code",
   "execution_count": 44,
   "metadata": {
    "scrolled": true
   },
   "outputs": [
    {
     "name": "stdout",
     "output_type": "stream",
     "text": [
      "0 [0, 1, 4, 5]\n",
      "1 [2]\n",
      "2 [3]\n",
      "6\n"
     ]
    }
   ],
   "source": [
    "item_number = 0\n",
    "for i in range(len(assign)):\n",
    "    item_number += len(assign[i])\n",
    "    print(i,assign[i])\n",
    "    \n",
    "print(item_number)"
   ]
  },
  {
   "cell_type": "code",
   "execution_count": 45,
   "metadata": {},
   "outputs": [
    {
     "name": "stdout",
     "output_type": "stream",
     "text": [
      "{0: [0, 2], 1: [0, 0, 0], 2: [1]}\n"
     ]
    }
   ],
   "source": [
    "print(penalty)"
   ]
  },
  {
   "cell_type": "code",
   "execution_count": 46,
   "metadata": {},
   "outputs": [
    {
     "name": "stdout",
     "output_type": "stream",
     "text": [
      "0 [0, 2]\n",
      "1 [0, 0, 0]\n",
      "2 [1]\n"
     ]
    }
   ],
   "source": [
    "for group_number in range(len(M)):\n",
    "    print(group_number,penalty[group_number])\n",
    "    #print(r[group_number]*len(set(penalty[group_number])))"
   ]
  },
  {
   "cell_type": "code",
   "execution_count": 47,
   "metadata": {},
   "outputs": [
    {
     "name": "stdout",
     "output_type": "stream",
     "text": [
      "0 [0, 2]\n",
      "1 [0, 0, 0]\n",
      "2 [1]\n"
     ]
    }
   ],
   "source": [
    "for group_number in range(len(M)):\n",
    "    print(group_number,penalty[group_number])\n",
    "    #print(r[group_number]*len(set(penalty[group_number])))"
   ]
  },
  {
   "cell_type": "markdown",
   "metadata": {},
   "source": [
    "# H3 : FFD for conflict and groupの実行"
   ]
  },
  {
   "cell_type": "code",
   "execution_count": 19,
   "metadata": {},
   "outputs": [],
   "source": [
    "I = list(range(n))\n",
    "C = maximum #{b:maximum+1 for b in range(n)}"
   ]
  },
  {
   "cell_type": "code",
   "execution_count": 20,
   "metadata": {
    "scrolled": true
   },
   "outputs": [],
   "source": [
    "assign,penalty = FFD_for_conflict_group(I,w,C,E_dict,M)"
   ]
  },
  {
   "cell_type": "code",
   "execution_count": 21,
   "metadata": {
    "scrolled": true
   },
   "outputs": [
    {
     "name": "stdout",
     "output_type": "stream",
     "text": [
      "0 [1, 4, 5, 0]\n",
      "1 [3]\n",
      "2 [2]\n",
      "6\n"
     ]
    }
   ],
   "source": [
    "item_number = 0\n",
    "for i in range(len(assign)):\n",
    "    item_number += len(assign[i])\n",
    "    print(i,assign[i])\n",
    "    \n",
    "print(item_number)"
   ]
  },
  {
   "cell_type": "code",
   "execution_count": 22,
   "metadata": {},
   "outputs": [
    {
     "name": "stdout",
     "output_type": "stream",
     "text": [
      "{0: [0, 0, 0], 1: [0, 1], 2: [2]}\n"
     ]
    }
   ],
   "source": [
    "print(penalty)"
   ]
  },
  {
   "cell_type": "code",
   "execution_count": 23,
   "metadata": {},
   "outputs": [
    {
     "name": "stdout",
     "output_type": "stream",
     "text": [
      "0 [0, 0, 0]\n",
      "1 [0, 1]\n",
      "2 [2]\n"
     ]
    }
   ],
   "source": [
    "for group_number in range(len(M)):\n",
    "    print(group_number,penalty[group_number])\n",
    "    #print(r[group_number]*len(set(penalty[group_number])))"
   ]
  },
  {
   "cell_type": "code",
   "execution_count": 24,
   "metadata": {},
   "outputs": [
    {
     "name": "stdout",
     "output_type": "stream",
     "text": [
      "3\n"
     ]
    }
   ],
   "source": [
    "bin_counter=0\n",
    "for i in range(len(assign)):\n",
    "    if len(assign[i]) > 0:\n",
    "        bin_counter+=1\n",
    "print(bin_counter)"
   ]
  },
  {
   "cell_type": "markdown",
   "metadata": {},
   "source": [
    "# H4 : Improved FFD for conflict and group 1の実行"
   ]
  },
  {
   "cell_type": "code",
   "execution_count": 25,
   "metadata": {},
   "outputs": [],
   "source": [
    "I = list(range(n))\n",
    "C = maximum #{b:maximum+1 for b in range(n)}"
   ]
  },
  {
   "cell_type": "code",
   "execution_count": 26,
   "metadata": {
    "scrolled": true
   },
   "outputs": [],
   "source": [
    "assign,penalty = H4(I,w,C,E_dict,M)"
   ]
  },
  {
   "cell_type": "code",
   "execution_count": 27,
   "metadata": {
    "scrolled": true
   },
   "outputs": [
    {
     "name": "stdout",
     "output_type": "stream",
     "text": [
      "0 [0, 1, 4, 5]\n",
      "1 [2]\n",
      "2 [3]\n",
      "6\n"
     ]
    }
   ],
   "source": [
    "item_number = 0\n",
    "for i in range(len(assign)):\n",
    "    item_number += len(assign[i])\n",
    "    print(i,assign[i])\n",
    "    \n",
    "print(item_number)"
   ]
  },
  {
   "cell_type": "code",
   "execution_count": 28,
   "metadata": {},
   "outputs": [
    {
     "name": "stdout",
     "output_type": "stream",
     "text": [
      "{0: [0, 2], 1: [0, 0, 0], 2: [1]}\n"
     ]
    }
   ],
   "source": [
    "print(penalty)"
   ]
  },
  {
   "cell_type": "code",
   "execution_count": 29,
   "metadata": {},
   "outputs": [
    {
     "name": "stdout",
     "output_type": "stream",
     "text": [
      "0 [0, 2]\n",
      "1 [0, 0, 0]\n",
      "2 [1]\n"
     ]
    }
   ],
   "source": [
    "for group_number in range(len(M)):\n",
    "    print(group_number,penalty[group_number])\n",
    "    #print(r[group_number]*len(set(penalty[group_number])))"
   ]
  },
  {
   "cell_type": "code",
   "execution_count": 30,
   "metadata": {},
   "outputs": [
    {
     "name": "stdout",
     "output_type": "stream",
     "text": [
      "3\n"
     ]
    }
   ],
   "source": [
    "bin_counter=0\n",
    "for i in range(len(assign)):\n",
    "    if len(assign[i]) > 0:\n",
    "        bin_counter+=1\n",
    "print(bin_counter)"
   ]
  },
  {
   "cell_type": "markdown",
   "metadata": {},
   "source": [
    "# H6 : Improved FFD for conflict and group 3の実行"
   ]
  },
  {
   "cell_type": "code",
   "execution_count": 31,
   "metadata": {},
   "outputs": [],
   "source": [
    "I = list(range(n))\n",
    "C = maximum #{b:maximum+1 for b in range(n)}"
   ]
  },
  {
   "cell_type": "code",
   "execution_count": 32,
   "metadata": {
    "scrolled": true
   },
   "outputs": [],
   "source": [
    "assign,penalty = H6(I,w,C,E_dict,M)"
   ]
  },
  {
   "cell_type": "code",
   "execution_count": 33,
   "metadata": {
    "scrolled": true
   },
   "outputs": [
    {
     "name": "stdout",
     "output_type": "stream",
     "text": [
      "0 [2, 4, 5]\n",
      "1 [0, 3]\n",
      "2 [1]\n",
      "6\n"
     ]
    }
   ],
   "source": [
    "number = 0\n",
    "for i in range(len(assign)):\n",
    "    number += len(assign[i])\n",
    "    print(i,assign[i])\n",
    "    \n",
    "print(number)"
   ]
  },
  {
   "cell_type": "code",
   "execution_count": 34,
   "metadata": {},
   "outputs": [
    {
     "name": "stdout",
     "output_type": "stream",
     "text": [
      "{0: [0], 1: [1, 1], 2: [2, 0, 0]}\n"
     ]
    }
   ],
   "source": [
    "print(penalty)"
   ]
  },
  {
   "cell_type": "code",
   "execution_count": 35,
   "metadata": {},
   "outputs": [
    {
     "name": "stdout",
     "output_type": "stream",
     "text": [
      "1\n",
      "1\n",
      "2\n"
     ]
    }
   ],
   "source": [
    "for group_number in range(len(M)):\n",
    "    print(r[group_number]*len(set(penalty[group_number])))"
   ]
  },
  {
   "cell_type": "code",
   "execution_count": 36,
   "metadata": {},
   "outputs": [
    {
     "name": "stdout",
     "output_type": "stream",
     "text": [
      "3\n"
     ]
    }
   ],
   "source": [
    "bin_counter=0\n",
    "for i in range(len(assign)):\n",
    "    if len(assign[i]) > 0:\n",
    "        bin_counter+=1\n",
    "print(bin_counter)"
   ]
  },
  {
   "cell_type": "markdown",
   "metadata": {},
   "source": [
    "# H7 : Improved FFD for conflict and group 4の実行"
   ]
  },
  {
   "cell_type": "code",
   "execution_count": 37,
   "metadata": {},
   "outputs": [],
   "source": [
    "I = list(range(n))\n",
    "C = maximum #{b:maximum+1 for b in range(n)}"
   ]
  },
  {
   "cell_type": "code",
   "execution_count": 38,
   "metadata": {
    "scrolled": true
   },
   "outputs": [],
   "source": [
    "assign,penalty = H7(I,w,C,E_dict,M)"
   ]
  },
  {
   "cell_type": "code",
   "execution_count": 39,
   "metadata": {
    "scrolled": true
   },
   "outputs": [
    {
     "name": "stdout",
     "output_type": "stream",
     "text": [
      "0 [2, 4, 5]\n",
      "1 [0, 1]\n",
      "2 [3]\n",
      "6\n"
     ]
    }
   ],
   "source": [
    "number = 0\n",
    "for i in range(len(assign)):\n",
    "    number += len(assign[i])\n",
    "    print(i,assign[i])\n",
    "    \n",
    "print(number)"
   ]
  },
  {
   "cell_type": "code",
   "execution_count": 40,
   "metadata": {},
   "outputs": [
    {
     "name": "stdout",
     "output_type": "stream",
     "text": [
      "{0: [0, 2], 1: [1, 0, 0], 2: [1]}\n"
     ]
    }
   ],
   "source": [
    "print(penalty)"
   ]
  },
  {
   "cell_type": "code",
   "execution_count": 41,
   "metadata": {},
   "outputs": [
    {
     "name": "stdout",
     "output_type": "stream",
     "text": [
      "2\n",
      "2\n",
      "1\n"
     ]
    }
   ],
   "source": [
    "for group_number in range(len(M)):\n",
    "    print(r[group_number]*len(set(penalty[group_number])))"
   ]
  },
  {
   "cell_type": "code",
   "execution_count": 42,
   "metadata": {},
   "outputs": [
    {
     "name": "stdout",
     "output_type": "stream",
     "text": [
      "3\n"
     ]
    }
   ],
   "source": [
    "bin_counter=0\n",
    "for i in range(len(assign)):\n",
    "    if len(assign[i]) > 0:\n",
    "        bin_counter+=1\n",
    "print(bin_counter)"
   ]
  },
  {
   "cell_type": "markdown",
   "metadata": {},
   "source": [
    "# グループの並べ替え、新しい方法を考える"
   ]
  },
  {
   "cell_type": "code",
   "execution_count": null,
   "metadata": {},
   "outputs": [],
   "source": []
  }
 ],
 "metadata": {
  "kernelspec": {
   "display_name": "Python 3",
   "language": "python",
   "name": "python3"
  },
  "language_info": {
   "codemirror_mode": {
    "name": "ipython",
    "version": 3
   },
   "file_extension": ".py",
   "mimetype": "text/x-python",
   "name": "python",
   "nbconvert_exporter": "python",
   "pygments_lexer": "ipython3",
   "version": "3.7.4"
  }
 },
 "nbformat": 4,
 "nbformat_minor": 4
}
