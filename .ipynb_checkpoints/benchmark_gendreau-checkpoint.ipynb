{
 "cells": [
  {
   "cell_type": "markdown",
   "metadata": {},
   "source": [
    "# 問題例の作成"
   ]
  },
  {
   "cell_type": "markdown",
   "metadata": {},
   "source": [
    "## アイテムの大きさ"
   ]
  },
  {
   "cell_type": "markdown",
   "metadata": {},
   "source": [
    "一様分布"
   ]
  },
  {
   "cell_type": "code",
   "execution_count": 1,
   "metadata": {},
   "outputs": [],
   "source": [
    "import numpy as np"
   ]
  },
  {
   "cell_type": "code",
   "execution_count": 2,
   "metadata": {},
   "outputs": [],
   "source": [
    "number = [10]#[120,250,500,1000]"
   ]
  },
  {
   "cell_type": "code",
   "execution_count": 3,
   "metadata": {},
   "outputs": [
    {
     "name": "stderr",
     "output_type": "stream",
     "text": [
      "/anaconda3/lib/python3.6/site-packages/ipykernel_launcher.py:5: DeprecationWarning: This function is deprecated. Please call randint(20, 100 + 1) instead\n",
      "  \"\"\"\n"
     ]
    }
   ],
   "source": [
    "number = [10]#[120,250,500,1000]\n",
    "W = {\"w\"+str(i):{} for i in number}\n",
    "for i in number:\n",
    "    for j in range(10):\n",
    "        W[\"w\"+str(i)][j] = np.random.random_integers(low=20,high=100,size=i) #一様乱数にしたがって[20,100]の中の値をアイテムの大きさとして与える。"
   ]
  },
  {
   "cell_type": "code",
   "execution_count": 4,
   "metadata": {},
   "outputs": [
    {
     "data": {
      "text/plain": [
       "{'w10': {0: array([ 61,  73, 100,  33,  90,  40,  53,  82,  57,  53]),\n",
       "  1: array([37, 66, 67, 25, 28, 68, 56, 45, 59, 41]),\n",
       "  2: array([ 47,  92,  92,  58, 100,  49,  72,  78,  88,  37]),\n",
       "  3: array([ 55,  36,  73,  34, 100,  92,  87,  29,  48,  32]),\n",
       "  4: array([95, 54, 26, 29, 49, 81, 44, 37, 50, 49]),\n",
       "  5: array([82, 53, 63, 53, 38, 79, 40, 59, 33, 84]),\n",
       "  6: array([ 63,  42,  31,  38, 100,  21,  71,  98,  21,  91]),\n",
       "  7: array([38, 57, 39, 29, 97, 51, 37, 53, 31, 53]),\n",
       "  8: array([26, 50, 30, 28, 52, 27, 38, 78, 97, 64]),\n",
       "  9: array([32, 61, 94, 74, 77, 98, 30, 71, 55, 43])}}"
      ]
     },
     "execution_count": 4,
     "metadata": {},
     "output_type": "execute_result"
    }
   ],
   "source": [
    "W"
   ]
  },
  {
   "cell_type": "markdown",
   "metadata": {},
   "source": [
    "## アイテムのコンフリクト"
   ]
  },
  {
   "cell_type": "code",
   "execution_count": 5,
   "metadata": {},
   "outputs": [],
   "source": [
    "import random\n",
    "\n",
    "instance = {}\n",
    "for i in number:\n",
    "    instance[\"instance\"+str(i)] = {}\n",
    "    for j in range(10):\n",
    "        instance[\"instance\"+str(i)][j] = np.array(list(random.uniform(0,1) for k in range(i))) #一様乱数にしたがって[0,1]の中の値を各アイテムに割り振る。アイテムiに割り当てられた値をpiとする。"
   ]
  },
  {
   "cell_type": "code",
   "execution_count": 6,
   "metadata": {},
   "outputs": [
    {
     "data": {
      "text/plain": [
       "{'instance10': {0: array([0.79560378, 0.23850702, 0.69498276, 0.90863406, 0.09519894,\n",
       "         0.75387896, 0.23992571, 0.18467732, 0.06320306, 0.60380312]),\n",
       "  1: array([0.51791632, 0.92115525, 0.68360901, 0.21974762, 0.16706343,\n",
       "         0.72321202, 0.89326718, 0.89547384, 0.50957798, 0.66359906]),\n",
       "  2: array([0.5682949 , 0.28589685, 0.28699517, 0.73900111, 0.62026329,\n",
       "         0.1150418 , 0.146442  , 0.44839312, 0.10521755, 0.48952854]),\n",
       "  3: array([0.65418443, 0.81540878, 0.14516155, 0.17290815, 0.40943715,\n",
       "         0.01334216, 0.77615713, 0.61176979, 0.32899931, 0.79099348]),\n",
       "  4: array([0.15794536, 0.76175712, 0.3346407 , 0.80115412, 0.7866685 ,\n",
       "         0.60027847, 0.17615392, 0.89065631, 0.29546911, 0.88199149]),\n",
       "  5: array([0.28154563, 0.61035627, 0.5399746 , 0.5357749 , 0.91246571,\n",
       "         0.91317619, 0.96500435, 0.50891522, 0.42464198, 0.11260762]),\n",
       "  6: array([0.75270267, 0.3401738 , 0.98577886, 0.6130012 , 0.31416879,\n",
       "         0.12810413, 0.71481021, 0.72164018, 0.15602466, 0.40705704]),\n",
       "  7: array([0.47909831, 0.51257977, 0.39099996, 0.38454145, 0.91646302,\n",
       "         0.45877769, 0.57034846, 0.03792196, 0.59043488, 0.31256986]),\n",
       "  8: array([0.05590496, 0.71417566, 0.98714801, 0.96443269, 0.35721848,\n",
       "         0.39536983, 0.28185157, 0.31817712, 0.15039096, 0.44748835]),\n",
       "  9: array([0.28299357, 0.60485887, 0.50130759, 0.78094356, 0.78269823,\n",
       "         0.84778005, 0.22417198, 0.29559168, 0.69900573, 0.45992421])}}"
      ]
     },
     "execution_count": 6,
     "metadata": {},
     "output_type": "execute_result"
    }
   ],
   "source": [
    "instance"
   ]
  },
  {
   "cell_type": "code",
   "execution_count": 7,
   "metadata": {},
   "outputs": [
    {
     "data": {
      "text/plain": [
       "array([0, 1, 2, 3, 4, 5, 6, 7, 8, 9])"
      ]
     },
     "execution_count": 7,
     "metadata": {},
     "output_type": "execute_result"
    }
   ],
   "source": [
    "d = np.arange(0,10,1) #グラフの密度\n",
    "d"
   ]
  },
  {
   "cell_type": "code",
   "execution_count": 8,
   "metadata": {},
   "outputs": [],
   "source": [
    "import itertools\n",
    "conf = {\"instance\"+str(i):{j:{} for j in instance[\"instance\"+str(i)]} for i in number} #インスタンス名,番号,密度 : [(枝),...]\n",
    "for density in d:\n",
    "    density = density/10\n",
    "    for i in instance:\n",
    "        for j in instance[i]:\n",
    "            comb_list = list(itertools.combinations(range(len(instance[i][j])),2)) #n個のアイテムから2個選ぶ組み合わせ\n",
    "            conf[i][j][density] = [comb for comb in comb_list if (instance[i][j][comb[0]] + instance[i][j][comb[1]])/2<=density] #(pi+pj)/2<=グラフの密度 ならば、枝(i,j)をつくる"
   ]
  },
  {
   "cell_type": "code",
   "execution_count": 9,
   "metadata": {},
   "outputs": [
    {
     "data": {
      "text/plain": [
       "{0.0: [],\n",
       " 0.1: [(4, 8)],\n",
       " 0.2: [(1, 4), (1, 8), (4, 6), (4, 7), (4, 8), (6, 8), (7, 8)],\n",
       " 0.3: [(1, 4),\n",
       "  (1, 6),\n",
       "  (1, 7),\n",
       "  (1, 8),\n",
       "  (4, 6),\n",
       "  (4, 7),\n",
       "  (4, 8),\n",
       "  (6, 7),\n",
       "  (6, 8),\n",
       "  (7, 8)],\n",
       " 0.4: [(1, 4),\n",
       "  (1, 6),\n",
       "  (1, 7),\n",
       "  (1, 8),\n",
       "  (2, 4),\n",
       "  (2, 8),\n",
       "  (4, 6),\n",
       "  (4, 7),\n",
       "  (4, 8),\n",
       "  (4, 9),\n",
       "  (6, 7),\n",
       "  (6, 8),\n",
       "  (7, 8),\n",
       "  (7, 9),\n",
       "  (8, 9)],\n",
       " 0.5: [(0, 4),\n",
       "  (0, 7),\n",
       "  (0, 8),\n",
       "  (1, 2),\n",
       "  (1, 4),\n",
       "  (1, 5),\n",
       "  (1, 6),\n",
       "  (1, 7),\n",
       "  (1, 8),\n",
       "  (1, 9),\n",
       "  (2, 4),\n",
       "  (2, 6),\n",
       "  (2, 7),\n",
       "  (2, 8),\n",
       "  (3, 8),\n",
       "  (4, 5),\n",
       "  (4, 6),\n",
       "  (4, 7),\n",
       "  (4, 8),\n",
       "  (4, 9),\n",
       "  (5, 6),\n",
       "  (5, 7),\n",
       "  (5, 8),\n",
       "  (6, 7),\n",
       "  (6, 8),\n",
       "  (6, 9),\n",
       "  (7, 8),\n",
       "  (7, 9),\n",
       "  (8, 9)],\n",
       " 0.6: [(0, 1),\n",
       "  (0, 4),\n",
       "  (0, 6),\n",
       "  (0, 7),\n",
       "  (0, 8),\n",
       "  (1, 2),\n",
       "  (1, 3),\n",
       "  (1, 4),\n",
       "  (1, 5),\n",
       "  (1, 6),\n",
       "  (1, 7),\n",
       "  (1, 8),\n",
       "  (1, 9),\n",
       "  (2, 4),\n",
       "  (2, 6),\n",
       "  (2, 7),\n",
       "  (2, 8),\n",
       "  (3, 4),\n",
       "  (3, 6),\n",
       "  (3, 7),\n",
       "  (3, 8),\n",
       "  (4, 5),\n",
       "  (4, 6),\n",
       "  (4, 7),\n",
       "  (4, 8),\n",
       "  (4, 9),\n",
       "  (5, 6),\n",
       "  (5, 7),\n",
       "  (5, 8),\n",
       "  (6, 7),\n",
       "  (6, 8),\n",
       "  (6, 9),\n",
       "  (7, 8),\n",
       "  (7, 9),\n",
       "  (8, 9)],\n",
       " 0.7: [(0, 1),\n",
       "  (0, 4),\n",
       "  (0, 6),\n",
       "  (0, 7),\n",
       "  (0, 8),\n",
       "  (0, 9),\n",
       "  (1, 2),\n",
       "  (1, 3),\n",
       "  (1, 4),\n",
       "  (1, 5),\n",
       "  (1, 6),\n",
       "  (1, 7),\n",
       "  (1, 8),\n",
       "  (1, 9),\n",
       "  (2, 4),\n",
       "  (2, 6),\n",
       "  (2, 7),\n",
       "  (2, 8),\n",
       "  (2, 9),\n",
       "  (3, 4),\n",
       "  (3, 6),\n",
       "  (3, 7),\n",
       "  (3, 8),\n",
       "  (4, 5),\n",
       "  (4, 6),\n",
       "  (4, 7),\n",
       "  (4, 8),\n",
       "  (4, 9),\n",
       "  (5, 6),\n",
       "  (5, 7),\n",
       "  (5, 8),\n",
       "  (5, 9),\n",
       "  (6, 7),\n",
       "  (6, 8),\n",
       "  (6, 9),\n",
       "  (7, 8),\n",
       "  (7, 9),\n",
       "  (8, 9)],\n",
       " 0.8: [(0, 1),\n",
       "  (0, 2),\n",
       "  (0, 4),\n",
       "  (0, 5),\n",
       "  (0, 6),\n",
       "  (0, 7),\n",
       "  (0, 8),\n",
       "  (0, 9),\n",
       "  (1, 2),\n",
       "  (1, 3),\n",
       "  (1, 4),\n",
       "  (1, 5),\n",
       "  (1, 6),\n",
       "  (1, 7),\n",
       "  (1, 8),\n",
       "  (1, 9),\n",
       "  (2, 4),\n",
       "  (2, 5),\n",
       "  (2, 6),\n",
       "  (2, 7),\n",
       "  (2, 8),\n",
       "  (2, 9),\n",
       "  (3, 4),\n",
       "  (3, 6),\n",
       "  (3, 7),\n",
       "  (3, 8),\n",
       "  (3, 9),\n",
       "  (4, 5),\n",
       "  (4, 6),\n",
       "  (4, 7),\n",
       "  (4, 8),\n",
       "  (4, 9),\n",
       "  (5, 6),\n",
       "  (5, 7),\n",
       "  (5, 8),\n",
       "  (5, 9),\n",
       "  (6, 7),\n",
       "  (6, 8),\n",
       "  (6, 9),\n",
       "  (7, 8),\n",
       "  (7, 9),\n",
       "  (8, 9)],\n",
       " 0.9: [(0, 1),\n",
       "  (0, 2),\n",
       "  (0, 3),\n",
       "  (0, 4),\n",
       "  (0, 5),\n",
       "  (0, 6),\n",
       "  (0, 7),\n",
       "  (0, 8),\n",
       "  (0, 9),\n",
       "  (1, 2),\n",
       "  (1, 3),\n",
       "  (1, 4),\n",
       "  (1, 5),\n",
       "  (1, 6),\n",
       "  (1, 7),\n",
       "  (1, 8),\n",
       "  (1, 9),\n",
       "  (2, 3),\n",
       "  (2, 4),\n",
       "  (2, 5),\n",
       "  (2, 6),\n",
       "  (2, 7),\n",
       "  (2, 8),\n",
       "  (2, 9),\n",
       "  (3, 4),\n",
       "  (3, 5),\n",
       "  (3, 6),\n",
       "  (3, 7),\n",
       "  (3, 8),\n",
       "  (3, 9),\n",
       "  (4, 5),\n",
       "  (4, 6),\n",
       "  (4, 7),\n",
       "  (4, 8),\n",
       "  (4, 9),\n",
       "  (5, 6),\n",
       "  (5, 7),\n",
       "  (5, 8),\n",
       "  (5, 9),\n",
       "  (6, 7),\n",
       "  (6, 8),\n",
       "  (6, 9),\n",
       "  (7, 8),\n",
       "  (7, 9),\n",
       "  (8, 9)]}"
      ]
     },
     "execution_count": 9,
     "metadata": {},
     "output_type": "execute_result"
    }
   ],
   "source": [
    "conf[\"instance10\"][0]"
   ]
  },
  {
   "cell_type": "code",
   "execution_count": 164,
   "metadata": {
    "collapsed": true
   },
   "outputs": [
    {
     "ename": "KeyError",
     "evalue": "'instance120'",
     "output_type": "error",
     "traceback": [
      "\u001b[0;31m---------------------------------------------------------------------------\u001b[0m",
      "\u001b[0;31mKeyError\u001b[0m                                  Traceback (most recent call last)",
      "\u001b[0;32m<ipython-input-164-bc2ddc7357f3>\u001b[0m in \u001b[0;36m<module>\u001b[0;34m\u001b[0m\n\u001b[0;32m----> 1\u001b[0;31m \u001b[0mconf\u001b[0m\u001b[0;34m[\u001b[0m\u001b[0;34m\"instance120\"\u001b[0m\u001b[0;34m]\u001b[0m\u001b[0;34m[\u001b[0m\u001b[0;36m0\u001b[0m\u001b[0;34m]\u001b[0m\u001b[0;34m\u001b[0m\u001b[0;34m\u001b[0m\u001b[0m\n\u001b[0m",
      "\u001b[0;31mKeyError\u001b[0m: 'instance120'"
     ]
    }
   ],
   "source": [
    "conf[\"instance120\"][0]"
   ]
  },
  {
   "cell_type": "markdown",
   "metadata": {},
   "source": [
    "## グループ分け"
   ]
  },
  {
   "cell_type": "code",
   "execution_count": 10,
   "metadata": {
    "scrolled": true
   },
   "outputs": [
    {
     "name": "stdout",
     "output_type": "stream",
     "text": [
      "グループ数 4\n",
      "グループのメンバー数 [6, 6, 5, 6]\n",
      "group_list [(3, 1, 0, 6, 2, 5), (8, 9, 4, 7)]\n",
      "グループ数 3\n",
      "グループのメンバー数 [4, 5, 5]\n",
      "group_list [(4, 8, 9, 6), (7, 2, 0, 1, 5), (3,)]\n",
      "グループ数 2\n",
      "グループのメンバー数 [3, 3]\n",
      "group_list [(1, 6, 4), (5, 7, 2, 0, 8, 3, 9)]\n",
      "グループ数 2\n",
      "グループのメンバー数 [5, 5]\n",
      "group_list [(9, 2, 4, 3, 5), (0, 1, 8, 6, 7)]\n",
      "グループ数 9\n",
      "グループのメンバー数 [4, 4, 3, 5, 6, 4, 5, 5, 4]\n",
      "group_list [(9, 3, 4, 7), (6, 1, 8, 0), (2, 5)]\n",
      "グループ数 4\n",
      "グループのメンバー数 [6, 4, 4, 6]\n",
      "group_list [(9, 0, 2, 7, 4, 6), (1, 5, 8, 3)]\n",
      "グループ数 3\n",
      "グループのメンバー数 [3, 2, 4]\n",
      "group_list [(3, 9, 7), (2, 0), (8, 6, 5, 4, 1)]\n",
      "グループ数 9\n",
      "グループのメンバー数 [4, 3, 5, 6, 4, 6, 4, 7, 5]\n",
      "group_list [(0, 9, 3, 8), (4, 5, 2), (1, 6, 7)]\n",
      "グループ数 1\n",
      "グループのメンバー数 [6]\n",
      "group_list [(6, 0, 8, 1, 5, 9, 2, 3, 4, 7)]\n",
      "グループ数 9\n",
      "グループのメンバー数 [5, 5, 4, 3, 5, 2, 4, 5, 4]\n",
      "group_list [(5, 1, 9, 0, 8), (2, 7, 3, 6, 4)]\n"
     ]
    }
   ],
   "source": [
    "import numpy as np\n",
    "import random\n",
    "\n",
    "M_dict = {\"instance\"+str(i):{} for i in number} #インスタンス名,番号 : (メンバーの番号,...)\n",
    "for i in number:\n",
    "    for n in range(10):\n",
    "        V = set(np.arange(i))\n",
    "        group_list = []\n",
    "        n_of_group = np.random.randint(1,i) #グループ数を決める\n",
    "        print(\"グループ数\",n_of_group)\n",
    "        \n",
    "        n_of_groupmenber = [int(np.random.normal(i//2,1)) for j in range(n_of_group)] #各グループのメンバー数を決める\n",
    "        print(\"グループのメンバー数\",n_of_groupmenber)\n",
    "        \n",
    "        for k in n_of_groupmenber: #各グループのメンバー数に従ってアイテムをランダムに選ぶ\n",
    "            if len(V)!=0:\n",
    "                try:\n",
    "                    group_list.append(tuple(random.sample(V,k)))\n",
    "                    V = V-set(group_list[-1])\n",
    "                except:\n",
    "                    group_list.append(tuple(V))\n",
    "                    V = V-set(group_list[-1])\n",
    "                    break\n",
    "            \n",
    "        if len(V)>0:\n",
    "            group_list[-1] = group_list[-1] + tuple(V)\n",
    "            #print(\"V\",V)\n",
    "        print(\"group_list\",group_list)\n",
    "        M_dict[\"instance\"+str(i)][n] = group_list"
   ]
  },
  {
   "cell_type": "code",
   "execution_count": 11,
   "metadata": {},
   "outputs": [
    {
     "name": "stdout",
     "output_type": "stream",
     "text": [
      "グループ数\t 2\n",
      "グループ数\t 3\n",
      "グループ数\t 2\n",
      "グループ数\t 2\n",
      "グループ数\t 3\n",
      "グループ数\t 2\n",
      "グループ数\t 3\n",
      "グループ数\t 3\n",
      "グループ数\t 1\n",
      "グループ数\t 2\n"
     ]
    },
    {
     "data": {
      "text/plain": [
       "[(3, 1, 0, 6, 2, 5), (8, 9, 4, 7)]"
      ]
     },
     "execution_count": 11,
     "metadata": {},
     "output_type": "execute_result"
    }
   ],
   "source": [
    "for n in M_dict[\"instance10\"]:\n",
    "    print(\"グループ数\\t\",len(M_dict[\"instance10\"][n]))\n",
    "    #print(M_dict[\"instance120\"][n])\n",
    "M_dict[\"instance10\"][0]"
   ]
  },
  {
   "cell_type": "code",
   "execution_count": 58,
   "metadata": {
    "collapsed": true
   },
   "outputs": [
    {
     "ename": "KeyError",
     "evalue": "'instance120'",
     "output_type": "error",
     "traceback": [
      "\u001b[0;31m---------------------------------------------------------------------------\u001b[0m",
      "\u001b[0;31mKeyError\u001b[0m                                  Traceback (most recent call last)",
      "\u001b[0;32m<ipython-input-58-16dfaf6e1a6c>\u001b[0m in \u001b[0;36m<module>\u001b[0;34m\u001b[0m\n\u001b[0;32m----> 1\u001b[0;31m \u001b[0;32mfor\u001b[0m \u001b[0mn\u001b[0m \u001b[0;32min\u001b[0m \u001b[0mM_dict\u001b[0m\u001b[0;34m[\u001b[0m\u001b[0;34m\"instance120\"\u001b[0m\u001b[0;34m]\u001b[0m\u001b[0;34m:\u001b[0m\u001b[0;34m\u001b[0m\u001b[0;34m\u001b[0m\u001b[0m\n\u001b[0m\u001b[1;32m      2\u001b[0m     \u001b[0mprint\u001b[0m\u001b[0;34m(\u001b[0m\u001b[0;34m\"グループ数\\t\"\u001b[0m\u001b[0;34m,\u001b[0m\u001b[0mlen\u001b[0m\u001b[0;34m(\u001b[0m\u001b[0mM_dict\u001b[0m\u001b[0;34m[\u001b[0m\u001b[0;34m\"instance120\"\u001b[0m\u001b[0;34m]\u001b[0m\u001b[0;34m[\u001b[0m\u001b[0mn\u001b[0m\u001b[0;34m]\u001b[0m\u001b[0;34m)\u001b[0m\u001b[0;34m)\u001b[0m\u001b[0;34m\u001b[0m\u001b[0;34m\u001b[0m\u001b[0m\n\u001b[1;32m      3\u001b[0m     \u001b[0;31m#print(M_dict[\"instance120\"][n])\u001b[0m\u001b[0;34m\u001b[0m\u001b[0;34m\u001b[0m\u001b[0;34m\u001b[0m\u001b[0m\n",
      "\u001b[0;31mKeyError\u001b[0m: 'instance120'"
     ]
    }
   ],
   "source": [
    "for n in M_dict[\"instance120\"]:\n",
    "    print(\"グループ数\\t\",len(M_dict[\"instance120\"][n]))\n",
    "    #print(M_dict[\"instance120\"][n])"
   ]
  },
  {
   "cell_type": "markdown",
   "metadata": {},
   "source": [
    "# アルゴリズム"
   ]
  },
  {
   "cell_type": "code",
   "execution_count": 105,
   "metadata": {},
   "outputs": [],
   "source": [
    "def E_dict_func(E): #キーにアイテム名、値にそのアイテムとコンフリクトのあるアイテムをもつ辞書\n",
    "    E_dict={}\n",
    "    for e in E:\n",
    "        E_dict[e[0]] = E_dict.setdefault(e[0],()) + (e[1],)\n",
    "        E_dict[e[1]] = E_dict.setdefault(e[1],()) + (e[0],)\n",
    "    return E_dict"
   ]
  },
  {
   "cell_type": "code",
   "execution_count": 131,
   "metadata": {},
   "outputs": [],
   "source": [
    "def nonconf_E_dict_func(E,I): #キーにアイテム名、値にそのアイテムとコンフリクトのないアイテムをもつ辞書\n",
    "    if len(E)==0:\n",
    "        return {}\n",
    "    else:\n",
    "        E_dict = {}\n",
    "        nonconf_E_dict={}\n",
    "        E_dict = E_dict_func(E)\n",
    "        nonconf_E_dict = {i:tuple(set(I)-set(E_dict[i])|{i}) if i in E_dict.keys() else tuple(set(I)-{i}) for i in I}\n",
    "\n",
    "        return nonconf_E_dict"
   ]
  },
  {
   "cell_type": "code",
   "execution_count": 107,
   "metadata": {},
   "outputs": [],
   "source": [
    "def nonconf_E_func(E,I): #枝集合　アイテムiとjにコンフリクトがないとき、枝(i,j)をつくる\n",
    "    nonconf_E = []\n",
    "    nonconf_E_dict = nonconf_E_dict_func(E,I)\n",
    "    for i in nonconf_E_dict:\n",
    "        for j in nonconf_E_dict[i]:\n",
    "            if i != j and (j,i) not in nonconf_E:\n",
    "                nonconf_E.append((i,j))\n",
    "            \n",
    "    return nonconf_E"
   ]
  },
  {
   "cell_type": "code",
   "execution_count": 108,
   "metadata": {},
   "outputs": [],
   "source": [
    "def update_E(E,I): #アイテムの分割の際、コンフリクトがあるアイテム間の枝の集合を更新する\n",
    "    return [e for e in E if (e[0] in I) or (e[1] in I)]"
   ]
  },
  {
   "cell_type": "code",
   "execution_count": 109,
   "metadata": {},
   "outputs": [],
   "source": [
    "def update_nonconf_E(E,I1,I2):\n",
    "    I1_nonconf_E = []\n",
    "    I2_nonconf_E = []\n",
    "    \n",
    "    I1_nonconf_E = nonconf_E_func(E,I1)\n",
    "    I2_nonconf_E = nonconf_E_func(E,I2)\n",
    "    return I1_nonconf_E,I2_nonconf_E"
   ]
  },
  {
   "cell_type": "code",
   "execution_count": 110,
   "metadata": {},
   "outputs": [],
   "source": [
    "def update_M(M,I):\n",
    "    return [tuple(set(I)&set(g)) for g in M if len(set(I)&set(g))!=0]"
   ]
  },
  {
   "cell_type": "code",
   "execution_count": 111,
   "metadata": {},
   "outputs": [],
   "source": [
    "def capacity(w_i,bin_b,w,C): #bin_bの容量がw_iの大きさよりも大きいかを判定\n",
    "    if (C-sum(w[i] for i in bin_b)) >= w_i:\n",
    "        return True\n",
    "    else:\n",
    "        return False"
   ]
  },
  {
   "cell_type": "code",
   "execution_count": 152,
   "metadata": {},
   "outputs": [],
   "source": [
    "def conflict(item,item_in_bin_b,E_dict): #bin_bに割り当てられているアイテムたちとw_iの間にコンフリクトがあるかを判定\n",
    "    if item not in E_dict.keys():\n",
    "        return True\n",
    "    for i in item_in_bin_b:\n",
    "        if i in E_dict[item]:\n",
    "                return False\n",
    "    return True"
   ]
  },
  {
   "cell_type": "code",
   "execution_count": 113,
   "metadata": {},
   "outputs": [],
   "source": [
    "def group(i,M): #アイテムiの属するグループの番号を返す関数\n",
    "    for index,menber in enumerate(M):\n",
    "        if i in menber:\n",
    "            return index"
   ]
  },
  {
   "cell_type": "code",
   "execution_count": 114,
   "metadata": {},
   "outputs": [],
   "source": [
    "#グループを並べ替える関数_1\n",
    "def sort_M_1(M):\n",
    "    if M!=[]:\n",
    "        return sorted(M,key=lambda x:len(x),reverse=True)\n",
    "    else:\n",
    "        return []"
   ]
  },
  {
   "cell_type": "code",
   "execution_count": 115,
   "metadata": {},
   "outputs": [],
   "source": [
    "#グループを並べ替える関数_2\n",
    "def sort_M_2(M,E_dict):\n",
    "        if M!=[] and E_dict!={}:\n",
    "            return sorted(M,key=lambda x:sum(len(E_dict[i]) for i in x)/len(x),reverse=True)\n",
    "        else:\n",
    "            return []"
   ]
  },
  {
   "cell_type": "code",
   "execution_count": 116,
   "metadata": {},
   "outputs": [],
   "source": [
    "#グループを並べ替える関数_3\n",
    "def sort_M_3(M,E_dict):\n",
    "        if M!=[] and E_dict!={}:\n",
    "            return sorted(M,key=lambda x:max(len(E_dict[i]) if i in E_dict.keys() else 0 for i in x) ,reverse=True)\n",
    "        else:\n",
    "            return []"
   ]
  },
  {
   "cell_type": "code",
   "execution_count": 117,
   "metadata": {},
   "outputs": [],
   "source": [
    "#グループを並べ替える関数_4\n",
    "def sort_M_4(M,r):\n",
    "        if M!=[]:\n",
    "            return sorted(M,key=lambda x:r[M.index(x)],reverse=True)\n",
    "        else:\n",
    "            return []"
   ]
  },
  {
   "cell_type": "markdown",
   "metadata": {},
   "source": [
    "# H1"
   ]
  },
  {
   "cell_type": "code",
   "execution_count": 153,
   "metadata": {},
   "outputs": [],
   "source": [
    "def FFD(I,C,B,w,E,M,assign): #アイテムをビンに割り当てる\n",
    "    E_dict = E_dict_func(E) #コンフリクトを表す枝を管理する辞書\n",
    "    \n",
    "    for i in I:\n",
    "        for b in range(len(B)): #インデックスが小さい順にビンを走査\n",
    "            assign[b] = assign.setdefault(b,[])\n",
    "            if capacity(w[i],assign[b],w,C): #容量制約を満たす\n",
    "                assign[b].append(i) #ビンbにアイテムiを入れる\n",
    "                break  \n",
    "                \n",
    "    return assign"
   ]
  },
  {
   "cell_type": "markdown",
   "metadata": {},
   "source": [
    "# H2"
   ]
  },
  {
   "cell_type": "code",
   "execution_count": 192,
   "metadata": {},
   "outputs": [],
   "source": [
    "def FFD_for_conflict(I,C,B,w,E,M,assign): #コンフリクトの数が多い順にアイテムをビンに割り当てる\n",
    "    E_dict = E_dict_func(E) #コンフリクトを表す枝を管理する辞書\n",
    "    for i in I:\n",
    "        for b in range(len(B)): #インデックスが小さい順にビンを走査\n",
    "            assign[b] = assign.setdefault(b,[])\n",
    "            if capacity(w[i],assign[b],w,C) and conflict(i,assign[b],E_dict): #容量制約を満たす　and　コンフリクトがない\n",
    "                assign[b].append(i) #ビンbにアイテムiを入れる\n",
    "                break  \n",
    "\n",
    "    return assign"
   ]
  },
  {
   "cell_type": "markdown",
   "metadata": {},
   "source": [
    "# H3"
   ]
  },
  {
   "cell_type": "code",
   "execution_count": 155,
   "metadata": {},
   "outputs": [],
   "source": [
    "def H3(I,C,B,w,E,M,r,group_order,assign): #コンフリクトの数が多い順にアイテムをビンに割り当てる、をグループごとに行う\n",
    "    E_dict = E_dict_func(E) #コンフリクトを表す枝を管理する辞書\n",
    "    M_prime = update_M(M,I)#[tuple(set(I)&set(g)) for g in M if len(set(I)&set(g))!=0] #グループの順序つき集合Mを更新する。\n",
    "    \n",
    "    if group_order == 1:\n",
    "        M_prime = eval(\"sort_M_\"+str(group_order))(M_prime)\n",
    "    elif group_order == 2 or group_order == 3:\n",
    "        M_prime = eval(\"sort_M_\"+str(group_order))(M_prime,E_dict)\n",
    "    else:\n",
    "        M_prime = eval(\"sort_M_\"+str(group_order))(M_prime,r)\n",
    "    \n",
    "    #グループの集合Mはすでに並べ替えてある\n",
    "    for g in M_prime: #グループごとにFFD_for_conflict()\n",
    "        assign = FFD_for_conflict(g,C,B,w,E,M,assign) #gに対してFFD for conflictを行う\n",
    "        for b in assign.keys():\n",
    "            B[b] = C-sum(w[k] for k in assign[b]) #割り当てたアイテムの大きさ分ずつビンの容量を減らしていく\n",
    "        \n",
    "    return assign"
   ]
  },
  {
   "cell_type": "markdown",
   "metadata": {},
   "source": [
    "# H4"
   ]
  },
  {
   "cell_type": "code",
   "execution_count": 156,
   "metadata": {},
   "outputs": [],
   "source": [
    "def H4(I,C,B,w,E,M,r,group_order,assign): #コンフリクトの数が多い順にアイテムをビンに割り当てる、をグループごとに行う\n",
    "    E_dict = E_dict_func(E) #コンフリクトを表す枝を管理する辞書\n",
    "    H = list(set(I)-set(E_dict.keys())) #アイテムの順序付き集合I内のコンフリクトの数が0のアイテムの集合をHとし、I=I\\Hとする。\n",
    "    M_prime = update_M(M,I)#[tuple(set(I)&set(g)) for g in M if len(set(I)&set(g))!=0] #グループの順序つき集合Mを更新する。\n",
    "    \n",
    "    if group_order == 1:\n",
    "        M_prime = eval(\"sort_M_\"+str(group_order))(M_prime)\n",
    "    elif group_order == 2 or group_order == 3:\n",
    "        M_prime = eval(\"sort_M_\"+str(group_order))(M_prime,E_dict)\n",
    "    else:\n",
    "        M_prime = eval(\"sort_M_\"+str(group_order))(M_prime,r)\n",
    "\n",
    "    for g in M_prime: #グループごとにFFD_for_conflict()\n",
    "        assign = FFD_for_conflict(g,C,B,w,E,M,assign) #gに対してFFD for conflictを行う\n",
    "        for b in assign.keys():\n",
    "            B[b] = C-sum(w[k] for k in assign[b]) #割り当てたアイテムの大きさ分ずつビンの容量を減らしていく\n",
    "            \n",
    "    assign = FFD(H,C,B,w,E,M,assign) #Hに対してFFDを行う\n",
    "    for b in assign.keys():\n",
    "        B[b] = C-sum(w[k] for k in assign[b]) #割り当てたアイテムの大きさ分ずつビンの容量を減らしていく\n",
    "        \n",
    "    return assign"
   ]
  },
  {
   "cell_type": "markdown",
   "metadata": {},
   "source": [
    "# H5"
   ]
  },
  {
   "cell_type": "code",
   "execution_count": 157,
   "metadata": {},
   "outputs": [],
   "source": [
    "def H5(I,C,B,w,E,M,r,group_order,assign): #コンフリクトの数が多い順にアイテムをビンに割り当てる、をグループごとに行う\n",
    "    E_dict = E_dict_func(E) #コンフリクトを表す枝を管理する辞書\n",
    "\n",
    "    #グループの集合Mはすでに並べ替えてある\n",
    "    for g in M: #グループごとにFFD_for_conflict()\n",
    "        H = list(set(I)-set(E_dict.keys())) #アイテムの順序付き集合I内のコンフリクトの数が0のアイテムの集合をHとし、I=I\\Hとする。\n",
    "        g = tuple(set(g)-set(H)) #g=g\\H\n",
    "        assign = FFD_for_conflict(g,C,B,w,E,M,assign) #gに対してFFD for conflictを行う\n",
    "        for b in assign.keys():\n",
    "            B[b] = C-sum(w[k] for k in assign[b]) #割り当てたアイテムの大きさ分ずつビンの容量を減らしていく\n",
    "        assign = FFD(H,C,B,w,E,M,assign) #Hに対してFFDを行う\n",
    "        for b in assign.keys():\n",
    "            B[b] = C-sum(w[k] for k in assign[b]) #割り当てたアイテムの大きさ分ずつビンの容量を減らしていく\n",
    "        \n",
    "    return assign"
   ]
  },
  {
   "cell_type": "markdown",
   "metadata": {},
   "source": [
    "# H6"
   ]
  },
  {
   "cell_type": "code",
   "execution_count": 158,
   "metadata": {},
   "outputs": [],
   "source": [
    "def H6(I,C,B,w,E,M,r,group_order,assign): #コンフリクトの数が多い順にアイテムをビンに割り当てる、をグループごとに行う\n",
    "    E_dict = E_dict_func(E) #コンフリクトを表す枝を管理する辞書\n",
    "    nonconf_E_dict = nonconf_E_dict_func(E,I)\n",
    "    \n",
    "    M_prime = update_M(M,I)#[tuple(set(I)&set(g)) for g in M if len(set(I)&set(g))!=0] #グループの順序つき集合Mを更新する。\n",
    "    \n",
    "    if group_order == 1:\n",
    "        M_prime = eval(\"sort_M_\"+str(group_order))(M_prime)\n",
    "    elif group_order == 2 or group_order == 3:\n",
    "        M_prime = eval(\"sort_M_\"+str(group_order))(M_prime,E_dict)\n",
    "    else:\n",
    "        M_prime = eval(\"sort_M_\"+str(group_order))(M_prime,r)\n",
    "    \n",
    "    #グループの集合Mはすでに並べ替えてある\n",
    "    for g in M_prime:\n",
    "        H = list(set(I)-set(E_dict.keys())) #アイテムの順序付き集合I内のコンフリクトの数が0のアイテムの集合をHとし、I=I\\Hとする。\n",
    "        g = tuple(set(g)-set(H)) #g=g\\H\n",
    "        while len(g)>0:\n",
    "            max_degree = max(i for i in g) #グループg内で最もコンフリクトの数が多いアイテムiを選ぶ\n",
    "            if len(g)!=1:\n",
    "                g_i = (max_degree,) + tuple(menber for menber in g if menber in nonconf_E_dict[max_degree]) #グループg内でiとコンフリクトがないアイテムとiからなる集合g_iを定める\n",
    "            else:\n",
    "                g_i = (max_degree,)            \n",
    "            assign = FFD_for_conflict(g_i,C,B,w,E,M,assign) #g_iに対してFFD for conflictを行う\n",
    "            g = tuple(set(g)-set(g_i)) #g=g\\g_i\n",
    "            for b in assign.keys():\n",
    "                B[b] = C-sum(w[k] for k in assign[b]) #割り当てたアイテムの大きさ分ずつビンの容量を減らしていく\n",
    "                \n",
    "        assign = FFD(H,C,B,w,E,M,assign) #Hに対してFFDを行う\n",
    "        for b in assign.keys():\n",
    "            B[b] = C-sum(w[k] for k in assign[b]) #割り当てたアイテムの大きさ分ずつビンの容量を減らしていく\n",
    "\n",
    "    return assign"
   ]
  },
  {
   "cell_type": "markdown",
   "metadata": {},
   "source": [
    "# H7"
   ]
  },
  {
   "cell_type": "code",
   "execution_count": 159,
   "metadata": {},
   "outputs": [],
   "source": [
    "def H7(I,C,B,w,E,M,r,group_order,assign): #コンフリクトの数が多い順にアイテムをビンに割り当てる、をグループごとに行う\n",
    "    \n",
    "    E_dict = E_dict_func(E) #コンフリクトを表す枝を管理する辞書\n",
    "    H = list(set(I)-set(E_dict.keys())) #アイテムの順序付き集合I内のコンフリクトの数が0のアイテムの集合をHとし、I=I\\Hとする。\n",
    "    \n",
    "    I = set(I)-set(H)\n",
    "    I = sorted(I,key=lambda x:w[x],reverse=True) #アイテム集合をアイテムの大きさが大きい順に並べ替える\n",
    "    \n",
    "    M_prime = [tuple(set(I)&set(g)) for g in M if len(set(I)&set(g))!=0] #グループの順序つき集合Mを更新する。\n",
    "    \n",
    "    E = update_E(E,I)\n",
    "    \n",
    "    E_dict = E_dict_func(E) #コンフリクトを表す枝を管理する辞書\n",
    "    \n",
    "    nonconf_E_dict = nonconf_E_dict_func(E,I) #コンフリクトを表す枝を管理する辞書\n",
    "    \n",
    "    if group_order == 1:\n",
    "        M_prime = eval(\"sort_M_\"+str(group_order))(M_prime)\n",
    "    elif group_order == 2 or group_order == 3:\n",
    "        M_prime = eval(\"sort_M_\"+str(group_order))(M_prime,E_dict)\n",
    "    else:\n",
    "        M_prime = eval(\"sort_M_\"+str(group_order))(M_prime,r)\n",
    " \n",
    "    for g in M_prime:\n",
    "        while len(g)>0:\n",
    "            max_degree = max(i for i in g) #グループg内で最もコンフリクトの数が多いアイテムiを選ぶ\n",
    "            if len(g)!=1:\n",
    "                g_i = (max_degree,) + tuple(menber for menber in g if menber in nonconf_E_dict[max_degree]) #グループg内でiとコンフリクトがないアイテムとiからなる集合g_iを定める\n",
    "            else:\n",
    "                g_i = (max_degree,)\n",
    "            assign = FFD_for_conflict(g_i,C,B,w,E,M_prime,assign) #g_iに対してFFD for conflictを行う\n",
    "            g = tuple(set(g)-set(g_i)) #g=g\\g_i\n",
    "            for b in assign.keys():\n",
    "                B[b] = C-sum(w[k] for k in assign[b]) #割り当てたアイテムの大きさ分ずつビンの容量を減らしていく\n",
    "                \n",
    "    assign = FFD(H,C,B,w,E,M,assign) #Hに対してFFDを行う\n",
    "    for b in assign.keys():\n",
    "        B[b] = C-sum(w[k] for k in assign[b]) #割り当てたアイテムの大きさ分ずつビンの容量を減らしていく\n",
    "\n",
    "    return assign"
   ]
  },
  {
   "cell_type": "code",
   "execution_count": 160,
   "metadata": {},
   "outputs": [],
   "source": [
    "def clique(SUB,A):\n",
    "    flag=True\n",
    "    for i in SUB:\n",
    "        for j in SUB:\n",
    "            if i!=j:\n",
    "                if (i,j) not in A and (j,i) not in A:\n",
    "                    flag = False\n",
    "                    break\n",
    "        if flag!=True:\n",
    "            break       \n",
    "    return flag"
   ]
  },
  {
   "cell_type": "code",
   "execution_count": 161,
   "metadata": {},
   "outputs": [],
   "source": [
    "def fewest_degree_node(SUB,A):\n",
    "    degree_dict = {}\n",
    "    for n in SUB:\n",
    "        degree_dict[n] = 0\n",
    "    for e in A:\n",
    "        try:\n",
    "            degree_dict[e[0]] += 1\n",
    "            degree_dict[e[1]] += 1\n",
    "        except:\n",
    "            continue\n",
    "    return {min(degree_dict,key=lambda x:degree_dict[x])}"
   ]
  },
  {
   "cell_type": "code",
   "execution_count": 162,
   "metadata": {},
   "outputs": [],
   "source": [
    "def Johnson(N,A): #与えられた点集合と枝集合から最大クリークを生成する #Nは点の集合、Aは枝の集合\n",
    "    SUB = N\n",
    "    while True:\n",
    "        if clique(SUB,A):\n",
    "            break\n",
    "        else:\n",
    "            y = fewest_degree_node(SUB,A) #SUBのノードのうち、最も次数の少ないものを定める\n",
    "            SUB = SUB-y #SUBからyを除く\n",
    "            for e in A:\n",
    "                if y in e:\n",
    "                    A = A-{e} #yにつながってる枝を除く\n",
    "    return SUB"
   ]
  },
  {
   "cell_type": "code",
   "execution_count": 210,
   "metadata": {},
   "outputs": [],
   "source": [
    "def Gendreau(I,C,B,w,E,M,assign):\n",
    "    \"\"\"print(\"Gendreau start\")\"\"\"\n",
    "    import copy\n",
    "    \n",
    "    E_dict = E_dict_func(E) #コンフリクトを表す枝を管理する辞書\n",
    "    nonconf_E = nonconf_E_func(E,I)\n",
    "\n",
    "    #1\n",
    "    V = set(I)\n",
    "    H = set(I)-set(E_dict.keys()) #アイテムの集合V内のコンフリクトの数が0のアイテムの集合をHとし、V=V\\Hとする。\n",
    "    V = V-H #コンフリクトの数が0のアイテムを含まないアイテム集合\n",
    "    E = set(E)    \n",
    "\n",
    "    #2\n",
    "    assign_temp = {}\n",
    "    while V!=set():\n",
    "        if V==set(): #V=φならば終了\n",
    "            pass\n",
    "        else:\n",
    "            D = Johnson(V,E) #DはグラフG内の最大のクリーク\n",
    "            V = V-D\n",
    "\n",
    "        #3\n",
    "        for i in D:\n",
    "            V = V | {i}\n",
    "            D_i = Johnson(V,nonconf_E) | {i} #V ∪ {i} と　コンフリクトがないアイテム同士の組みを要素にもつ枝集合　から最大クリークを見つける\n",
    "            \"\"\"print(\"i\\t\",i)\n",
    "            print(\"D_i\\t\",D_i)\n",
    "            print(\"E\\t\",E)\"\"\"\n",
    "            assign_temp = FFD_for_conflict(D_i,C,B,w,E,M,assign_temp)\n",
    "            \"\"\"print(\"assign_temp\\t\",assign_temp)\"\"\"\n",
    "            for index,value in assign_temp.items():\n",
    "                if i in value:\n",
    "                    V = V - set(value)\n",
    "                    #すでにassign[index]にアイテムが入ってるのに、新たなアイテムがassign[index]に割り当てられると元のassign[index]が消されて新たなアイテムのみが残ってしまう\n",
    "                    try:\n",
    "                        if value not in assign[index]:\n",
    "                            assign[index] = assign[index] + value\n",
    "                    except:\n",
    "                        assign[index] = value\n",
    "            for b in assign.keys():\n",
    "                B[b] = C-sum(w[k] for k in assign[b]) #割り当てたアイテムの大きさ分ずつビンの容量を減らしていく\n",
    "            \"\"\"print(\"assign\\t\",assign)\n",
    "            print(\"B\\t\",B)\"\"\"\n",
    "            assign_temp = copy.deepcopy(assign)\n",
    "            \"\"\"print(\"assign_tempにassignを代入。assign_temp\\t\",assign_temp)\n",
    "            print()\"\"\"\n",
    "            D = D - {i}\n",
    "\n",
    "    #4\n",
    "    assign = FFD(H,C,B,w,E,M,assign) #Hに対してFFDを行う\n",
    "    for b in assign.keys():#range(len(assign)):#######################\n",
    "        B[b] = C-sum(w[i] for i in assign[b]) #割り当てたアイテムの大きさ分ずつビンの容量を減らしていく\n",
    "    \"\"\"print(\"HにFFD\")\n",
    "    print(\"assign\\t\",assign)\n",
    "    print(\"B\\t\",B)\n",
    "\n",
    "    print(\"Gendreau finish\")\"\"\"\n",
    "    return assign,B"
   ]
  },
  {
   "cell_type": "markdown",
   "metadata": {},
   "source": [
    "# 問題例の選択,アイテムの分割,ヒューリスティクスの選択,結果の出力"
   ]
  },
  {
   "cell_type": "code",
   "execution_count": 208,
   "metadata": {},
   "outputs": [
    {
     "data": {
      "text/plain": [
       "'/Users/okamoto/Desktop/yutaokamoto_mac/Seminar/benchmark'"
      ]
     },
     "execution_count": 208,
     "metadata": {},
     "output_type": "execute_result"
    }
   ],
   "source": [
    "#入力, 出力を書き出す階層を指定\n",
    "import os\n",
    "path = os.path.abspath(\"./benchmark\")\n",
    "path"
   ]
  },
  {
   "cell_type": "code",
   "execution_count": 215,
   "metadata": {
    "scrolled": true
   },
   "outputs": [],
   "source": [
    "n = None\n",
    "V = None\n",
    "w = None\n",
    "C = 150\n",
    "B = None\n",
    "w = None\n",
    "E = None\n",
    "M = None\n",
    "group_split_cost = 1\n",
    "r = None\n",
    "bin_cost = 5\n",
    "\n",
    "\n",
    "for group_order in range(1,5):\n",
    "    for heuristics in range(3,8):\n",
    "        for instance_name in W.keys():\n",
    "            for instance_number in W[instance_name].keys():\n",
    "                for density in conf[\"instance\"+instance_name[1:]][instance_number]:\n",
    "                    n = len(W[instance_name][instance_number].tolist())\n",
    "                    V = np.arange(n)\n",
    "                    B = {i:C for i in range(n)}\n",
    "                    w = W[instance_name][instance_number]\n",
    "                    M = M_dict[\"instance\"+instance_name[1:]][instance_number]\n",
    "                    r = [group_split_cost for i in range(len(M_dict[\"instance\"+instance_name[1:]][instance_number]))]\n",
    "                    E = conf[\"instance\"+instance_name[1:]][instance_number][density]\n",
    "\n",
    "                    #入力をテキストファイルに書き出す\n",
    "                    \"\"\"file_input = path + \"/\" + \"input\" + \"/\" + str(\"i\"+str(instance_name[1:])) + \"_\"  + str(\"n\"+str(instance_number)) + \"_\"  + str(\"d\"+str(int(density*100))) + \"_\" + str(\"H\"+str(heuristics)) + \"_\" + str(\"go\"+str(group_order)) + \".txt\" #インスタンスの規模_インスタンスの番号_グラフの密度\n",
    "                    with open(file_input,mode=\"w\") as f:\n",
    "                        f.write(\"Number of items\\t\"+str(n)+\"\\n\\n\")\n",
    "                        f.write(\"Graph density\\t\"+str(density*100)+\"%\\n\\n\")\n",
    "                        f.write(\"Capacity of bins\\t\"+str(C)+\"\\n\\n\")\n",
    "                        f.write(\"Costs of using bins\\t\"+str(bin_cost)+\"\\n\\n\")\n",
    "                        f.write(\"Costs of spliting groups\\t\"+str(r)+\"\\n\\n\")\n",
    "                        f.write(\"Weight of items\\t\"+str(W)+\"\\n\\n\")\n",
    "                        f.write(\"Edges\\t\"+str(E)+\"\\n\\n\")\n",
    "                        f.write(\"Groups\\t\"+str(M))\"\"\"\n",
    "\n",
    "                    \"\"\"print(\"instance_number\\t\",instance_number)\n",
    "                    print(\"density\\t\",density)\n",
    "                    print(\"group_order\\t\",group_order)\n",
    "                    print(\"w\\t\",w)\n",
    "                    print(\"E\\t\",E)\n",
    "                    print(\"M\\t\",M)\"\"\"\n",
    "                    \n",
    "\n",
    "                    #アイテムの分割\n",
    "                    ####################V = np.arange(n)\n",
    "                    ##大きさが大きい順にアイテムを並べ替える\n",
    "                    I = sorted(V,key=lambda x:w[x],reverse=True)\n",
    "                    ##I1とI2の要素の個数を決める\n",
    "                    n1 = None\n",
    "                    n2 = None\n",
    "                    n1 = int(np.ceil(n*bin_cost/(bin_cost+r[0])))\n",
    "                    n2 = n-n1\n",
    "                    \"\"\"print(\"n1\\t\",n1)\n",
    "                    print(\"n2\\t\",n2)\n",
    "                    print()\"\"\"\n",
    "                    ##I1とI2を定める\n",
    "                    I1 = None\n",
    "                    I2 = None\n",
    "                    I1 = I[:n1]\n",
    "                    I2 = I[n1:]\n",
    "                    \"\"\"print(\"I1\\t\",I1)\n",
    "                    print(\"I2\\t\",I2)\n",
    "                    print()\"\"\"\n",
    "                    ##枝集合の更新\n",
    "                    I1_E = None\n",
    "                    I2_E = None\n",
    "                    I1_E = update_E(E,I)\n",
    "                    I2_E = update_E(E,I2)\n",
    "                    \"\"\"print(\"I1_E\\t\",I1_E)\n",
    "                    print(\"I2_E\\t\",I2_E)\n",
    "                    print()\"\"\"\n",
    "                    \"\"\"##グループの集合の更新\n",
    "                    I1_M = None\n",
    "                    I2_M = None\n",
    "                    I1_M = update_M(M,I1)\n",
    "                    I2_M = update_M(M,I2)\n",
    "                    print(\"I1_M\",I1_M)\n",
    "                    print(\"I2_M\",I2_M)\n",
    "                    print()\"\"\"\n",
    "                    ##グループの集合を並べ替える\n",
    "                    I1_E_dict = None\n",
    "                    I2_E_dict =None\n",
    "                    I1_E_dict = E_dict_func(I1_E)\n",
    "                    I2_E_dict = E_dict_func(I2_E)\n",
    "                    \"\"\"print(\"I1_E_dict\",I1_E_dict)\n",
    "                    print(\"I2_E_dict\",I2_E_dict)\n",
    "                    print()\"\"\"\n",
    "                    \"\"\"if group_order == 1:\n",
    "                        I1_M = eval(\"sort_M_\"+str(group_order))(I1_M)\n",
    "                        I2_M = eval(\"sort_M_\"+str(group_order))(I2_M)\n",
    "                        #M = eval(\"sort_M_\"+str(group_order))(M)\n",
    "                    elif group_order == 2 or group_order == 3:\n",
    "                        I1_M = eval(\"sort_M_\"+str(group_order))(I1_M,I1_E_dict)\n",
    "                        I2_M = eval(\"sort_M_\"+str(group_order))(I2_M,I2_E_dict)\n",
    "                        #M = eval(\"sort_M_\"+str(group_order))(M,E_dict)\n",
    "                    else:\n",
    "                        I1_M = eval(\"sort_M_\"+str(group_order))(I1_M,r)\n",
    "                        I2_M = eval(\"sort_M_\"+str(group_order))(I2_M,r)\n",
    "                        #M = eval(\"sort_M_\"+str(group_order))(M,r)\n",
    "                    print(\"I1_M\\t\",I1_M)\n",
    "                    print(\"I2_M\\t\",I2_M)\n",
    "                    print(\"M\\t\",M)\n",
    "                    print()\"\"\"\n",
    "\n",
    "                    #ヒューリスティクスの選択\n",
    "                    \"\"\"print(\"heuristics\\t\",heuristics)\"\"\"\n",
    "                    \n",
    "                    assign = {}\n",
    "                    assign,B = Gendreau(I1,C,B,w,I1_E,M,assign)\n",
    "                    for b in B:\n",
    "                        if B[b]<0:\n",
    "                            print(\"instance_number\\t\",instance_number)\n",
    "                            print(\"density\\t\",density)\n",
    "                            print(\"B\\t\",B)\n",
    "                            \n",
    "                    assign = eval(\"H\"+str(heuristics))(I2,C,B,w,I2_E,M,r,group_order,assign)\n",
    "                    for b in B:\n",
    "                        if B[b]<0:\n",
    "                            print(\"instance_number\\t\",instance_number)\n",
    "                            print(\"density\\t\",density)\n",
    "                            print(\"B\\t\",B)\n",
    "                    \"\"\"print(\"\\n\"*5)\"\"\"\n",
    "                    \n",
    "                    \"\"\"#結果の出力　→　出力をテキストファイルに書き出す\n",
    "                    bin_counter=0\n",
    "                    for i in assign.keys():#range(len(assign)):###############\n",
    "                        if len(assign[i]) > 0:\n",
    "                            bin_counter+=1\"\"\"\n",
    "\n",
    "                    \"\"\"penalty_sum = 0\n",
    "                    for group_number in penalty:\n",
    "                        penalty_sum += r[group_number]*(len(set(penalty[group_number]))-1)\"\"\"\n",
    "\n",
    "\n",
    "\n",
    "                    \"\"\"file_output =  path + \"/\" + \"output\" + \"/\" + str(\"i\"+str(instance_name[1:])) + \"_\"  + str(\"n\"+str(instance_number)) + \"_\"  + str(\"d\"+str(int(density*100))) + \"_\" + str(\"H\"+str(heuristics)) + \"_\" + str(\"go\"+str(group_order)) + \".txt\" #インスタンスの規模_インスタンスの番号_グラフの密度\n",
    "                    with open(file_output,mode=\"w\") as f:\n",
    "                        f.write(\"Number of Bins\\t\"+str(bin_counter)+\"\\n\\n\")\n",
    "                        f.write(\"Penalty\\t\"+str(penalty_sum))\n",
    "                    print(\"\\n\\n\\n\\n\")\"\"\""
   ]
  },
  {
   "cell_type": "markdown",
   "metadata": {},
   "source": [
    "# Gendreau -> H3 などとした時に、Gendreauで割り当てたアイテム達分の大きさを重複してBから引いてしまってないか？"
   ]
  },
  {
   "cell_type": "markdown",
   "metadata": {},
   "source": [
    "## 実行の練習"
   ]
  },
  {
   "cell_type": "code",
   "execution_count": 156,
   "metadata": {
    "scrolled": false
   },
   "outputs": [
    {
     "name": "stdout",
     "output_type": "stream",
     "text": [
      "n1\t 6\n",
      "n2\t 0\n",
      "\n",
      "I1\t [3, 2, 0, 1, 4, 5]\n",
      "I2\t []\n",
      "\n",
      "I1_E\t [(0, 2), (1, 2)]\n",
      "I2_E\t []\n",
      "\n",
      "I1_M [(0, 3), (1, 4, 5), (2,)]\n",
      "I2_M []\n",
      "\n",
      "I1_E_dict {0: (2,), 2: (0, 1), 1: (2,)}\n",
      "I2_E_dict {}\n",
      "I1_M\t [(2,), (0, 3), (1, 4, 5)]\n",
      "I2_M\t []\n",
      "\n",
      "Gendreau start\n",
      "D\t {1, 2}\n",
      "D_i\t {0, 1}\n",
      "FFD for conflict start\n",
      "E_dict\t {1: (2,), 2: (1, 0), 0: (2,)}\n",
      "I\t {0, 1}\n",
      "アイテム集合{0, 1}の要素0\n",
      "グループ集合[(0, 3), (1, 4, 5), (2,)]\n",
      "アイテム0をビン0に入れる\n",
      "\n",
      "アイテム集合{0, 1}の要素1\n",
      "グループ集合[(0, 3), (1, 4, 5), (2,)]\n",
      "アイテム1をビン0に入れる\n",
      "\n",
      "FFD for conflict finish\n",
      "B\t {0: 4, 1: 9, 2: 9, 3: 9, 4: 9, 5: 9}\n",
      "D_i\t {2}\n",
      "FFD for conflict start\n",
      "E_dict\t {1: (2,), 2: (1, 0), 0: (2,)}\n",
      "I\t {2}\n",
      "アイテム集合{2}の要素2\n",
      "グループ集合[(0, 3), (1, 4, 5), (2,)]\n",
      "アイテム2をビン1に入れる\n",
      "\n",
      "FFD for conflict finish\n",
      "B\t {0: 4, 1: 4, 2: 9, 3: 9, 4: 9, 5: 9}\n",
      "FFD start\n",
      "E_dict\t {1: (2,), 2: (1, 0), 0: (2,)}\n",
      "I\t {3, 4, 5}\n",
      "アイテム集合{3, 4, 5}の要素3\n",
      "グループ集合[(0, 3), (1, 4, 5), (2,)]\n",
      "アイテム3はグループ0に属している\n",
      "アイテム3をビン2に入れる\n",
      "アイテム集合{3, 4, 5}の要素4\n",
      "グループ集合[(0, 3), (1, 4, 5), (2,)]\n",
      "アイテム4はグループ1に属している\n",
      "アイテム4をビン0に入れる\n",
      "アイテム集合{3, 4, 5}の要素5\n",
      "グループ集合[(0, 3), (1, 4, 5), (2,)]\n",
      "アイテム5はグループ1に属している\n",
      "アイテム5をビン0に入れる\n",
      "FFD finish\n",
      "Gendreau finish\n",
      "\n"
     ]
    }
   ],
   "source": [
    "n = 6\n",
    "V = np.arange(n)\n",
    "C = 9\n",
    "B = {i:C for i in range(n)}\n",
    "w = [3, 2, 5, 6, 1, 1]\n",
    "E = [(0,2), (1,2)]\n",
    "M = [(0,3), (1,4,5), (2,)]\n",
    "r = [1]*len(M)\n",
    "bin_cost = 100\n",
    "\n",
    "#アイテムの分割\n",
    "##大きさが大きい順にアイテムを並べ替える\n",
    "I = sorted(V,key=lambda x:w[x],reverse=True)\n",
    "\n",
    "##I1とI2の要素の個数を決める\n",
    "n1 = None\n",
    "n2 = None\n",
    "n1 = int(np.ceil(n*bin_cost/(bin_cost+r[0])))\n",
    "n2 = n-n1\n",
    "print(\"n1\\t\",n1)\n",
    "print(\"n2\\t\",n2)\n",
    "print()\n",
    "\n",
    "##I1とI2を定める\n",
    "I1 = None\n",
    "I2 = None\n",
    "I1 = I[:n1]\n",
    "I2 = I[n1:]\n",
    "print(\"I1\\t\",I1)\n",
    "print(\"I2\\t\",I2)\n",
    "print()\n",
    "\n",
    "##枝集合の更新\n",
    "I1_E = None\n",
    "I2_E = None\n",
    "I1_E = update_E(E,I)\n",
    "I2_E = update_E(E,I2)\n",
    "print(\"I1_E\\t\",I1_E)\n",
    "print(\"I2_E\\t\",I2_E)\n",
    "print()\n",
    "\n",
    "##グループの集合の更新\n",
    "I1_M = None\n",
    "I2_M = None\n",
    "I1_M = update_M(M,I1)\n",
    "I2_M = update_M(M,I2)\n",
    "print(\"I1_M\",I1_M)\n",
    "print(\"I2_M\",I2_M)\n",
    "print()\n",
    "\n",
    "##グループの集合を並べ替える\n",
    "I1_E_dict = None\n",
    "I2_E_dict =None\n",
    "I1_E_dict = E_dict_func(I1_E)\n",
    "I2_E_dict = E_dict_func(I2_E)\n",
    "print(\"I1_E_dict\",I1_E_dict)\n",
    "print(\"I2_E_dict\",I2_E_dict)\n",
    "group_order = 3\n",
    "if group_order == 1:\n",
    "    I1_M = eval(\"sort_M_\"+str(group_order))(I1_M)\n",
    "    I2_M = eval(\"sort_M_\"+str(group_order))(I2_M)\n",
    "elif group_order == 2 or group_order == 3:\n",
    "    I1_M = eval(\"sort_M_\"+str(group_order))(I1_M,I1_E_dict)\n",
    "    I2_M = eval(\"sort_M_\"+str(group_order))(I2_M,I2_E_dict)\n",
    "else:\n",
    "    I1_M = eval(\"sort_M_\"+str(group_order))(I1_M,r)\n",
    "    I2_M = eval(\"sort_M_\"+str(group_order))(I2_M,r)\n",
    "print(\"I1_M\\t\",I1_M)\n",
    "print(\"I2_M\\t\",I2_M)\n",
    "print()\n",
    "\n",
    "#ヒューリスティクスの選択\n",
    "assign = {}\n",
    "penalty = {}\n",
    "#B = {}\n",
    "heuristics = 7\n",
    "#group_order = 3\n",
    "\n",
    "assign,penalty,B = Gendreau(I1,C,B,w,E,M,assign,penalty)\n",
    "if heuristics == 3:\n",
    "    if group_order == 3:\n",
    "        assign,penalty = eval(\"H\"+str(heuristics))(I2,C,B,w,E,M,r,group_order,assign,penalty)"
   ]
  },
  {
   "cell_type": "code",
   "execution_count": 80,
   "metadata": {},
   "outputs": [
    {
     "name": "stdout",
     "output_type": "stream",
     "text": [
      "0 [0, 1, 4, 5]\n",
      "1 [2]\n",
      "2 [3]\n",
      "6\n"
     ]
    }
   ],
   "source": [
    "item_number = 0\n",
    "for i in range(len(assign)):\n",
    "    item_number += len(assign[i])\n",
    "    print(i,assign[i])\n",
    "    \n",
    "print(item_number)"
   ]
  },
  {
   "cell_type": "code",
   "execution_count": 81,
   "metadata": {},
   "outputs": [
    {
     "name": "stdout",
     "output_type": "stream",
     "text": [
      "{0: [0, 2], 1: [0, 0, 0], 2: [1]}\n"
     ]
    }
   ],
   "source": [
    "print(penalty)"
   ]
  },
  {
   "cell_type": "code",
   "execution_count": 82,
   "metadata": {
    "scrolled": true
   },
   "outputs": [
    {
     "name": "stdout",
     "output_type": "stream",
     "text": [
      "penalty_sum\t 1\n"
     ]
    }
   ],
   "source": [
    "penalty_sum = 0\n",
    "for group_number in penalty:\n",
    "    #print(r[group_number]*(len(set(penalty[group_number]))-1))\n",
    "    penalty_sum += r[group_number]*(len(set(penalty[group_number]))-1)\n",
    "print(\"penalty_sum\\t\",penalty_sum)"
   ]
  },
  {
   "cell_type": "code",
   "execution_count": 83,
   "metadata": {},
   "outputs": [
    {
     "name": "stdout",
     "output_type": "stream",
     "text": [
      "bin_counter\t 3\n"
     ]
    }
   ],
   "source": [
    "bin_counter=0\n",
    "for i in range(len(assign)):\n",
    "    if len(assign[i]) > 0:\n",
    "        bin_counter+=1\n",
    "print(\"bin_counter\\t\",bin_counter)"
   ]
  },
  {
   "cell_type": "code",
   "execution_count": 84,
   "metadata": {},
   "outputs": [
    {
     "name": "stdout",
     "output_type": "stream",
     "text": [
      "4\n"
     ]
    }
   ],
   "source": [
    "print(bin_counter+penalty_sum)"
   ]
  },
  {
   "cell_type": "code",
   "execution_count": 417,
   "metadata": {
    "collapsed": true
   },
   "outputs": [
    {
     "ename": "NameError",
     "evalue": "name 'H' is not defined",
     "output_type": "error",
     "traceback": [
      "\u001b[0;31m---------------------------------------------------------------------------\u001b[0m",
      "\u001b[0;31mNameError\u001b[0m                                 Traceback (most recent call last)",
      "\u001b[0;32m<ipython-input-417-988290c2359a>\u001b[0m in \u001b[0;36m<module>\u001b[0;34m\u001b[0m\n\u001b[0;32m----> 1\u001b[0;31m \u001b[0;34m[\u001b[0m\u001b[0mtuple\u001b[0m\u001b[0;34m(\u001b[0m\u001b[0mset\u001b[0m\u001b[0;34m(\u001b[0m\u001b[0mg\u001b[0m\u001b[0;34m)\u001b[0m\u001b[0;34m-\u001b[0m\u001b[0;34m(\u001b[0m\u001b[0mset\u001b[0m\u001b[0;34m(\u001b[0m\u001b[0mH\u001b[0m\u001b[0;34m)\u001b[0m\u001b[0;34m&\u001b[0m\u001b[0mset\u001b[0m\u001b[0;34m(\u001b[0m\u001b[0mg\u001b[0m\u001b[0;34m)\u001b[0m\u001b[0;34m)\u001b[0m\u001b[0;34m)\u001b[0m \u001b[0;32mfor\u001b[0m \u001b[0mg\u001b[0m \u001b[0;32min\u001b[0m \u001b[0mM\u001b[0m \u001b[0;32mif\u001b[0m \u001b[0mlen\u001b[0m\u001b[0;34m(\u001b[0m\u001b[0mset\u001b[0m\u001b[0;34m(\u001b[0m\u001b[0mg\u001b[0m\u001b[0;34m)\u001b[0m\u001b[0;34m-\u001b[0m\u001b[0;34m(\u001b[0m\u001b[0mset\u001b[0m\u001b[0;34m(\u001b[0m\u001b[0mH\u001b[0m\u001b[0;34m)\u001b[0m\u001b[0;34m&\u001b[0m\u001b[0mset\u001b[0m\u001b[0;34m(\u001b[0m\u001b[0mg\u001b[0m\u001b[0;34m)\u001b[0m\u001b[0;34m)\u001b[0m\u001b[0;34m)\u001b[0m\u001b[0;34m!=\u001b[0m\u001b[0;36m0\u001b[0m\u001b[0;34m]\u001b[0m \u001b[0;31m#グループの順序つき集合Gを更新する。\u001b[0m\u001b[0;34m\u001b[0m\u001b[0;34m\u001b[0m\u001b[0m\n\u001b[0m",
      "\u001b[0;32m<ipython-input-417-988290c2359a>\u001b[0m in \u001b[0;36m<listcomp>\u001b[0;34m(.0)\u001b[0m\n\u001b[0;32m----> 1\u001b[0;31m \u001b[0;34m[\u001b[0m\u001b[0mtuple\u001b[0m\u001b[0;34m(\u001b[0m\u001b[0mset\u001b[0m\u001b[0;34m(\u001b[0m\u001b[0mg\u001b[0m\u001b[0;34m)\u001b[0m\u001b[0;34m-\u001b[0m\u001b[0;34m(\u001b[0m\u001b[0mset\u001b[0m\u001b[0;34m(\u001b[0m\u001b[0mH\u001b[0m\u001b[0;34m)\u001b[0m\u001b[0;34m&\u001b[0m\u001b[0mset\u001b[0m\u001b[0;34m(\u001b[0m\u001b[0mg\u001b[0m\u001b[0;34m)\u001b[0m\u001b[0;34m)\u001b[0m\u001b[0;34m)\u001b[0m \u001b[0;32mfor\u001b[0m \u001b[0mg\u001b[0m \u001b[0;32min\u001b[0m \u001b[0mM\u001b[0m \u001b[0;32mif\u001b[0m \u001b[0mlen\u001b[0m\u001b[0;34m(\u001b[0m\u001b[0mset\u001b[0m\u001b[0;34m(\u001b[0m\u001b[0mg\u001b[0m\u001b[0;34m)\u001b[0m\u001b[0;34m-\u001b[0m\u001b[0;34m(\u001b[0m\u001b[0mset\u001b[0m\u001b[0;34m(\u001b[0m\u001b[0mH\u001b[0m\u001b[0;34m)\u001b[0m\u001b[0;34m&\u001b[0m\u001b[0mset\u001b[0m\u001b[0;34m(\u001b[0m\u001b[0mg\u001b[0m\u001b[0;34m)\u001b[0m\u001b[0;34m)\u001b[0m\u001b[0;34m)\u001b[0m\u001b[0;34m!=\u001b[0m\u001b[0;36m0\u001b[0m\u001b[0;34m]\u001b[0m \u001b[0;31m#グループの順序つき集合Gを更新する。\u001b[0m\u001b[0;34m\u001b[0m\u001b[0;34m\u001b[0m\u001b[0m\n\u001b[0m",
      "\u001b[0;31mNameError\u001b[0m: name 'H' is not defined"
     ]
    }
   ],
   "source": [
    "[tuple(set(g)-(set(H)&set(g))) for g in M if len(set(g)-(set(H)&set(g)))!=0] #グループの順序つき集合Gを更新する。"
   ]
  },
  {
   "cell_type": "code",
   "execution_count": null,
   "metadata": {},
   "outputs": [],
   "source": []
  }
 ],
 "metadata": {
  "kernelspec": {
   "display_name": "Python 3",
   "language": "python",
   "name": "python3"
  },
  "language_info": {
   "codemirror_mode": {
    "name": "ipython",
    "version": 3
   },
   "file_extension": ".py",
   "mimetype": "text/x-python",
   "name": "python",
   "nbconvert_exporter": "python",
   "pygments_lexer": "ipython3",
   "version": "3.6.8"
  }
 },
 "nbformat": 4,
 "nbformat_minor": 2
}
