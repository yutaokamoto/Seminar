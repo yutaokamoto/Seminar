{
 "cells": [
  {
   "cell_type": "markdown",
   "metadata": {},
   "source": [
    "# 問題例"
   ]
  },
  {
   "cell_type": "markdown",
   "metadata": {},
   "source": [
    "## 問題例の作成"
   ]
  },
  {
   "cell_type": "code",
   "execution_count": 1,
   "metadata": {},
   "outputs": [],
   "source": [
    "class TW():\n",
    "    def __init__(self, s, e):\n",
    "        \"\"\"\n",
    "        時間枠を表す型\n",
    "        \"\"\"\n",
    "        self.s = s\n",
    "        self.e = e"
   ]
  },
  {
   "cell_type": "code",
   "execution_count": 2,
   "metadata": {},
   "outputs": [],
   "source": [
    "class Customer():\n",
    "    def __init__(self, number, dt, demand, pickup, delivery, tw, penalty):\n",
    "        \"\"\"\n",
    "        customer : 顧客　(顧客を表す数字, 需要が発生する時刻, 需要量, ピックアップ地点を表す座標, デリバリー地点を表す座標, 時間枠, 時間枠の逸脱費用)\n",
    "            dt : 需要が発生する時刻\n",
    "            demand : 需要量\n",
    "            pickup : ピックアップ地点を表す座標\n",
    "            delivery : デリバリー地点を表す座標\n",
    "            tw : 顧客の時間枠\n",
    "            penalty : 時間枠の逸脱費用\n",
    "        \"\"\"\n",
    "        self.number = number\n",
    "        self.dt = dt\n",
    "        self.demand = demand\n",
    "        self.pickup = pickup\n",
    "        self.delivery = delivery\n",
    "        self.tw = tw\n",
    "        self.penalty = penalty"
   ]
  },
  {
   "cell_type": "code",
   "execution_count": 3,
   "metadata": {},
   "outputs": [],
   "source": [
    "class Piecewiseinterval():\n",
    "    def __init__(self, interval):\n",
    "        self.start = interval[0]\n",
    "        self.end = interval[1]"
   ]
  },
  {
   "cell_type": "code",
   "execution_count": 4,
   "metadata": {},
   "outputs": [],
   "source": [
    "class Capacityfunctype():\n",
    "    def __init__(self, capacities, intervals):\n",
    "        self.capacities = capacities\n",
    "        self.intervals = [Piecewiseinterval(i) for i in intervals]"
   ]
  },
  {
   "cell_type": "code",
   "execution_count": 5,
   "metadata": {},
   "outputs": [],
   "source": [
    "class Capacity():\n",
    "    def __init__(self, capacities=(0,), intervals=[(0,0)]):\n",
    "        \"\"\"\n",
    "        車両の容量を表す区分線型関数\n",
    "        inputs :\n",
    "            capacity : ある時刻での車両の容量を表す数字を要素にもつリスト\n",
    "        \"\"\"\n",
    "        #self.func = Capacityfunctype((0,), [(0, 0)])\n",
    "        self.capacities = capacities\n",
    "        self.intervals = intervals\n",
    "    def setfunc(self, capacities, intervals):\n",
    "        \"\"\"\n",
    "        与えられたcapacities(タプル)とpiecewiseintervals(タプル)を元にして，新たに関数を定義する\n",
    "        \"\"\"\n",
    "        #self.func = Capacityfunctype(capacities, intervals)\n",
    "        self.capacities = capacities\n",
    "        self.intervals = [Piecewiseinterval(i) for i in intervals]\n",
    "    def getfuncval(self, x):\n",
    "        #for i, t in enumerate(self.func.intervals):\n",
    "            #if t.start <= x <= t.end:\n",
    "                #return self.func.capacity[i]\n",
    "        for i, t in zip(self.capacities, self.intervals):\n",
    "            if t.start <= x <= t.end:\n",
    "                return i"
   ]
  },
  {
   "cell_type": "code",
   "execution_count": 6,
   "metadata": {},
   "outputs": [],
   "source": [
    "class Vehicle():\n",
    "    def __init__(self, number, capacity, tour):\n",
    "        \"\"\"\n",
    "        vehicles : 配送車 (配送車を表す数字, 容量, 巡回路, 各顧客の発着時間))\n",
    "            number : 配送車を表す数字\n",
    "            capacity : 容量\n",
    "            tour : 巡回路\n",
    "            #plan : 各顧客の発着時間\n",
    "        \"\"\"\n",
    "        self.number = number\n",
    "        self.capacity = Capacity()\n",
    "        self.tour = tour\n",
    "        #self.plan = plan"
   ]
  },
  {
   "cell_type": "code",
   "execution_count": 8,
   "metadata": {},
   "outputs": [],
   "source": [
    "class Location():\n",
    "    def __init__(self, location, arrivetime=0, departuretime=0):\n",
    "        self.number, self.coordinate, self.demand, self.loc_type = location   \n",
    "        self.arr = arrivetime\n",
    "        self.dep = departuretime"
   ]
  },
  {
   "cell_type": "code",
   "execution_count": 9,
   "metadata": {},
   "outputs": [],
   "source": [
    "class Instance():\n",
    "    def __init__(self):\n",
    "        \"\"\"\n",
    "        service_period : 全体の勤務時間\n",
    "        customers : 客の集合\n",
    "        vehicles : 配送車の集合\n",
    "        \"\"\"\n",
    "        self.service_period = 0\n",
    "        self.customers = []\n",
    "        self.vehicles = []\n",
    "    def example(self):\n",
    "        \"\"\"\n",
    "        inputs :\n",
    "            None\n",
    "        outputs :\n",
    "            None\n",
    "        parameters :\n",
    "            n : 顧客の数\n",
    "            r : 顧客の座標の範囲\n",
    "            dt : 需要が発生する時刻\n",
    "            lower_dem : 需要量の最小値\n",
    "            upper_dem : 需要量の最大値\n",
    "            demand : 需要量\n",
    "            tw : 顧客の時間枠\n",
    "            penalty : 時間枠の逸脱費用\n",
    "            n_vehicles : 配送車の数\n",
    "            lower_cap : 配送車の容量の最小値\n",
    "            capacity : 配送車の容量\n",
    "            tour : 巡回路\n",
    "        \"\"\"\n",
    "        import random\n",
    "        random.seed(0)\n",
    "        self.service_period = 30\n",
    "        n = 3\n",
    "        r = 10.0\n",
    "        lower_dem = 1\n",
    "        upper_dem = 10\n",
    "        demands = 0\n",
    "        for i in range(n):\n",
    "            dt = random.randint(0, int(self.service_period*0.7))\n",
    "            demand = random.uniform(lower_dem, upper_dem)\n",
    "            p_x = random.uniform(-r, r)\n",
    "            p_y = random.uniform(-r, r)\n",
    "            d_x = random.uniform(-r, r)\n",
    "            d_y = random.uniform(-r, r)\n",
    "            s = random.uniform(0, self.service_period)\n",
    "            e = random.uniform(s, self.service_period)\n",
    "            tw = TW(s,e)\n",
    "            penalty = 0.1\n",
    "            c = Customer(i, dt, demand, (p_x, p_y), (d_x, d_y), tw, penalty)\n",
    "            self.customers.append(c)\n",
    "            demands += demand\n",
    "        n_vehicles = random.randint(1, n)\n",
    "        lower_cap = demands/2\n",
    "        upper_cap = demands\n",
    "        for v in range(n_vehicles):\n",
    "            capacity = random.uniform(lower_cap, upper_cap)\n",
    "            #upper_cap = demands - capacity\n",
    "            depot = Location([-1, (0.0), 0, \"depot\"], 0, 0)\n",
    "            tour = [depot, depot]\n",
    "            #plan = [(0,0), (self.service_period,)]\n",
    "            v = Vehicle(v, capacity, tour)\n",
    "            v.capacity.setfunc((capacity,), [(0, self.service_period)])\n",
    "            self.vehicles.append(v)"
   ]
  },
  {
   "cell_type": "code",
   "execution_count": 10,
   "metadata": {},
   "outputs": [],
   "source": [
    "instance = Instance()\n",
    "instance.example()"
   ]
  },
  {
   "cell_type": "code",
   "execution_count": 11,
   "metadata": {
    "scrolled": true
   },
   "outputs": [
    {
     "name": "stdout",
     "output_type": "stream",
     "text": [
      "全体の時間 :  30 分\n",
      "顧客 : \n",
      "\t number  : 0\n",
      "\t dt  : 12\n",
      "\t demand  : 7.821589626462722\n",
      "\t pickup  : (-1.5885683833831, -4.821664994140733)\n",
      "\t delivery  : (0.22549442737217085, -1.9013172509917133)\n",
      "\t tw  : <__main__.TW object at 0x7fc0d658d190>\n",
      "\t penalty  : 0.1\n",
      "\n",
      "\t number  : 1\n",
      "\t dt  : 15\n",
      "\t demand  : 4.222444372254895\n",
      "\t pickup  : (7.833213196413649, -5.6311454616953664)\n",
      "\t delivery  : (-7.214525896036948, -7.205084300666423)\n",
      "\t tw  : <__main__.TW object at 0x7fc0d658d5d0>\n",
      "\t penalty  : 0.1\n",
      "\n",
      "\t number  : 2\n",
      "\t dt  : 17\n",
      "\t demand  : 9.845069284338878\n",
      "\t pickup  : (6.20434471993179, 8.043319008791656)\n",
      "\t delivery  : (-3.797048613613347, 4.596634965202572)\n",
      "\t tw  : <__main__.TW object at 0x7fc0d658d150>\n",
      "\t penalty  : 0.1\n",
      "\n",
      "車両 : \n",
      "\t number  :\t 0\n",
      "\t capacity  :\t <__main__.Capacity object at 0x7fc0d659b290>\n",
      "\t tour  :\t [<__main__.Location object at 0x7fc0d658d910>, <__main__.Location object at 0x7fc0d658d910>]\n",
      "\n",
      "\t number  :\t 1\n",
      "\t capacity  :\t <__main__.Capacity object at 0x7fc0d659b3d0>\n",
      "\t tour  :\t [<__main__.Location object at 0x7fc0d659b250>, <__main__.Location object at 0x7fc0d659b250>]\n",
      "\n"
     ]
    }
   ],
   "source": [
    "print(\"全体の時間 : \", instance.service_period, \"分\")\n",
    "print(\"顧客 : \")\n",
    "for c in instance.customers:\n",
    "    for var in vars(c):\n",
    "        print(\"\\t\", var, \" :\", eval(\"c.\"+str(var)))\n",
    "    print()\n",
    "print(\"車両 : \")\n",
    "for v in instance.vehicles:\n",
    "    for var in vars(v):\n",
    "        print(\"\\t\", var, \" :\\t\", eval(\"v.\"+str(var)))\n",
    "    print()"
   ]
  },
  {
   "cell_type": "code",
   "execution_count": 12,
   "metadata": {
    "scrolled": true
   },
   "outputs": [
    {
     "data": {
      "text/plain": [
       "17.07146136114074"
      ]
     },
     "execution_count": 12,
     "metadata": {},
     "output_type": "execute_result"
    }
   ],
   "source": [
    "instance.vehicles[0].capacity.capacities[0]"
   ]
  },
  {
   "cell_type": "code",
   "execution_count": 20,
   "metadata": {
    "scrolled": true
   },
   "outputs": [
    {
     "data": {
      "text/plain": [
       "-1"
      ]
     },
     "execution_count": 20,
     "metadata": {},
     "output_type": "execute_result"
    }
   ],
   "source": [
    "instance.vehicles[0].tour[0].number"
   ]
  },
  {
   "cell_type": "code",
   "execution_count": 13,
   "metadata": {
    "scrolled": true
   },
   "outputs": [
    {
     "name": "stdout",
     "output_type": "stream",
     "text": [
      "[ 0 , 30 ]\n"
     ]
    }
   ],
   "source": [
    "print('[', instance.vehicles[0].capacity.intervals[0].start, ',', instance.vehicles[1].capacity.intervals[0].end, ']')"
   ]
  },
  {
   "cell_type": "code",
   "execution_count": 14,
   "metadata": {},
   "outputs": [
    {
     "data": {
      "text/plain": [
       "17.07146136114074"
      ]
     },
     "execution_count": 14,
     "metadata": {},
     "output_type": "execute_result"
    }
   ],
   "source": [
    "instance.vehicles[0].capacity.getfuncval(30)"
   ]
  },
  {
   "cell_type": "code",
   "execution_count": 15,
   "metadata": {
    "scrolled": true
   },
   "outputs": [
    {
     "name": "stdout",
     "output_type": "stream",
     "text": [
      "True\n"
     ]
    }
   ],
   "source": [
    "#顧客の需要の合計 < 配送車の容量の合計　となっているかチェック\n",
    "print(\n",
    "    sum(eval(\"c.\"+str(var)) for var in vars(c) for c in instance.customers if var==\"demand\")\n",
    "      <=\n",
    "    sum(eval(\"v.\"+str(var) + \".capacities[0]\")  for var in vars(v) for v in instance.vehicles if var==\"capacity\")\n",
    ")\n",
    "#sum(map(lambda x : x[1], customers.values())) <= sum(map(lambda x : x[0], vehicles.values()))"
   ]
  },
  {
   "cell_type": "markdown",
   "metadata": {},
   "source": [
    "## 問題例の描画"
   ]
  },
  {
   "cell_type": "code",
   "execution_count": 16,
   "metadata": {},
   "outputs": [
    {
     "name": "stdout",
     "output_type": "stream",
     "text": [
      "あるリクエストに対し，●がピックアップ地点，▲がデリバリー地点\n"
     ]
    },
    {
     "data": {
      "image/png": "[encoded data removed]",
      "text/plain": [
       "<Figure size 432x288 with 1 Axes>"
      ]
     },
     "metadata": {
      "needs_background": "light"
     },
     "output_type": "display_data"
    }
   ],
   "source": [
    "import matplotlib\n",
    "import matplotlib.pyplot as plt\n",
    "%matplotlib inline\n",
    "\n",
    "# 顧客の情報の展開\n",
    "p, d = [], []\n",
    "for c in instance.customers:\n",
    "    for var in vars(c):\n",
    "        if var == \"pickup\":\n",
    "            p.append(eval(\"c.\"+str(var)))\n",
    "        elif var == \"delivery\":\n",
    "            d.append(eval(\"c.\"+str(var)))\n",
    "p_xs, p_ys = zip(*p)\n",
    "d_xs, d_ys = zip(*d)\n",
    "\n",
    "# 顧客の色の選択と，デポの描画\n",
    "colors =  list(matplotlib.colors.cnames.keys())\n",
    "plt.scatter(0, 0, marker=\",\", color=\"black\", s=150, label=\"depot\")\n",
    "\n",
    "for i in range(len(instance.customers)):\n",
    "    color = colors[i+20]\n",
    "    p_x, p_y, d_x, d_y = p_xs[i], p_ys[i], d_xs[i], d_ys[i]\n",
    "    # ピックアップ地点\n",
    "    plt.scatter(p_x, p_y, marker=\".\", color=color, s=500)\n",
    "    # デリバリー地点\n",
    "    plt.scatter(d_x, d_y, marker=\"^\", color=color, s=150)\n",
    "\n",
    "# 顧客の描画\n",
    "print(\"あるリクエストに対し，●がピックアップ地点，▲がデリバリー地点\")\n",
    "plt.legend()\n",
    "plt.show()"
   ]
  },
  {
   "cell_type": "markdown",
   "metadata": {},
   "source": [
    "# 問題を解く"
   ]
  },
  {
   "cell_type": "markdown",
   "metadata": {},
   "source": [
    "## 配送計画"
   ]
  },
  {
   "cell_type": "markdown",
   "metadata": {},
   "source": [
    "### 1. Constructive method\n",
    "\n",
    "- Constructive methodでは，i分ごとにCheapest insertion methodを行う．\n",
    "- Cheapest insertion methodでは，tourにリクエストを挿入するのにかかるコストを元に，現在のtourにリクエストを挿入する．\n",
    "- リクエストをスラックタイムの少ない順に並べてから挿入を行う．\n",
    "- コストはそのリクエストを挿入することによっておこるルートの増加量とスラックタイムの減少量を元に算出する．"
   ]
  },
  {
   "cell_type": "markdown",
   "metadata": {},
   "source": [
    "### 2. Local Search\n",
    "\n",
    "- LS"
   ]
  },
  {
   "cell_type": "markdown",
   "metadata": {},
   "source": [
    "## スケジューリング"
   ]
  },
  {
   "cell_type": "markdown",
   "metadata": {},
   "source": [
    "### Drive first strategy\n",
    "- なるはやで行く．\n",
    "- 客のところで待つのも可．"
   ]
  },
  {
   "cell_type": "code",
   "execution_count": 17,
   "metadata": {},
   "outputs": [],
   "source": [
    "class Insertion_location():\n",
    "    def __init__(self, vehicle_n, p_loc, d_loc):\n",
    "        \"\"\"\n",
    "        あるリクエストが割り当てられる車両の番号，ピックアップ地点が挿入される場所，デリバリー地点が挿入される場所を要素にもつ構造体\n",
    "        \"\"\"\n",
    "        self.vehicle_n = vehicle_num\n",
    "        self.p_loc = p_loc\n",
    "        self.d_loc = d_loc"
   ]
  },
  {
   "cell_type": "code",
   "execution_count": 18,
   "metadata": {},
   "outputs": [],
   "source": [
    "class Methods():\n",
    "    def __init__(self):\n",
    "        self.velocity = 1\n",
    "        self.alpha = 0.1\n",
    "        self.objval = 0\n",
    "    def set_var(self, instance):\n",
    "        self.service_period = instance.service_period\n",
    "        self.customers = instance.customers\n",
    "        self.vehicles = instance.vehicles\n",
    "        self.current_location = (0, 0) # 最初はデポから出発 & 最後はデポに帰る\n",
    "        self.n_customer = len(self.customers)\n",
    "    def solve(self):\n",
    "        \"\"\"\n",
    "        i分ごとに実行可能解を作る．（Cheapest insertion methodを行う + DFを行う．）\n",
    "        parameters :\n",
    "            i : Cheapest insertion methodを行う時間間隔（整数）\n",
    "        \"\"\"\n",
    "        # 需要が発生する時刻が早い順に並べ替える\n",
    "        sorted_cs = sorted(self.customers, key=lambda customer : customer.dt)\n",
    "        ###print(\"需要が発生する時刻が早い順に並べた顧客 : \", [c.number for c in sorted_cs])\n",
    "        ###print(\"顧客の需要が発生する時刻 : \", [c.dt for c in sorted_cs])\n",
    "        ###print()\n",
    "        # i分ごとにconstructiveを実行\n",
    "        i = 5\n",
    "        time = sorted(set(range(0, self.service_period, i))|{self.service_period})\n",
    "        ###print(\"time : \", time)\n",
    "        now = -1\n",
    "        while (sorted_cs != []) and (len(sorted_cs) != 0):\n",
    "            now += 1\n",
    "            # 前回挿入を行った時から現在までの間に溜まったリクエスト\n",
    "            self.new_reqs = []\n",
    "            for idx, customer in enumerate(sorted_cs):\n",
    "                ###print(\"顧客の需要が発生する時刻は，\", customer.dt)\n",
    "                if customer.dt <= time[now]:\n",
    "                    self.new_reqs.append(customer)\n",
    "                    if idx == len(sorted_cs)-1:\n",
    "                        sorted_cs = []\n",
    "                else:\n",
    "                    sorted_cs = sorted_cs[idx:]\n",
    "                    break\n",
    "            ###print(\"time : \", time[now], \"\\t self.new_reqs : \", [c.number for c in self.new_reqs])\n",
    "            ###print(\"sorted_cs : \", [c.number for c in sorted_cs])\n",
    "            ###print()\n",
    "            # Cheapest insertionの実行\n",
    "            self.constructive()\n",
    "            print([v.tour for v in self.vehicles])\n",
    "            # DFの実行\n",
    "            self.DF()\n",
    "            print([v.tour for v in self.vehicles])\n",
    "    def constructive(self):\n",
    "        \"\"\"\n",
    "        Cheapest insertion methos : tourを前から順番に見ていき,最も挿入するコストがかからないところにリクエストを挿入\n",
    "        variables :\n",
    "            insertion_locations : リクエストをtourに挿入する場所の辞書（keyが顧客の番号，valueが挿入する場所）\n",
    "        \"\"\"\n",
    "        if self.new_reqs != []:\n",
    "            # tourを前から順番に見ていき，最も挿入するコストがかからないところを見つける\n",
    "            self.insertion_locations = {}\n",
    "            self.decide_locations()\n",
    "            # 各車両のtourにリクエストを挿入(insertion_locationsの値を元に挿入)\n",
    "            self.insert()\n",
    "    def decide_locations(self):\n",
    "        \"\"\"\n",
    "        新しいリクエストたち(new_reqs)を挿入する場所を決め，insertion_locationsに格納する\n",
    "        parameters :\n",
    "            min_cost_p, min_cost_d : あるリクエストを巡回路に挿入するときに便宜上必要なコスト\n",
    "        \"\"\"\n",
    "        # 新しいリクエストを順番に見ていく\n",
    "        for new_req in self.new_reqs:\n",
    "            vehicle_n = 0\n",
    "            location_p, location_d = 0, 0\n",
    "            cost_p, cost_d = 0, 0\n",
    "            min_cost_p, min_cost_d = 1e+10, 1e+10\n",
    "            # 各車両\n",
    "            for vehicle in self.vehicles:\n",
    "                # 車両vehicleのtour\n",
    "                for location in self.traverse_tour():\n",
    "                    # コストの計算\n",
    "                    cost_p = (1-self.alpha)*self.f(location, new_req.pickup) + self.alpha*self.g(new_req.pickup) + self.i(vehicle.capacity, new_req.demand)\n",
    "                    cost_d = (1-self.alpha)*self.f(location, new_req.delivery) + self.alpha*self.g(new_req.pickup, new_req.delivery) + self.h(location, new_req)\n",
    "                    # 最小コストの更新\n",
    "                    if cost_p < min_cost_p:\n",
    "                        min_cost_p = cost_p\n",
    "                        location_p = location\n",
    "                        vehicle_n = vehicle.number\n",
    "                    if (cost_d < min_cost_d) and (location_p <= location_d):\n",
    "                        min_cost_d = cost_p\n",
    "                        location_d = location\n",
    "                        vehicle_n = vehicle.number\n",
    "            \"\"\"if location_p > location_d:\n",
    "                print(\"Error : ピックアップよりも前にデリバリーされている\")\n",
    "                break\"\"\"\n",
    "            # 新たなリクエストを含めた巡回路を決定し．insertion_locationsに格納する\n",
    "            self.insertion_locations[new_req.number] = Insertionl_ocation(vehicle_n, p_loc, d_loc)\n",
    "    def traverse_tour(self):\n",
    "        \"\"\"\n",
    "        車両の現在地(self.current_location)よりも後にある顧客．つまり，まだ訪問していない顧客の配列を返す\n",
    "        \"\"\"\n",
    "        return traverse_tour\n",
    "    def f(self, location, new_location):\n",
    "        \"\"\"\n",
    "        巡回路の増加分を計算する\n",
    "        locationとnew_locationのユークリッド距離 + new_locationとlocation+1のユークリッド距離\n",
    "        \"\"\"\n",
    "        return self.distance(location, new_location) + self.distance(new_location, location+1)\n",
    "    def distance(self, p, q):\n",
    "        return ((p[0]-q[0])**2+(p[1]-q[1])**2)**(1/2)\n",
    "    def g(self, p, d):\n",
    "        \"\"\"\n",
    "        スラックタイムの減少を計算する\n",
    "        サービス可能時間 - ピックアップ地点からデリバリー地点へ直接移動するのにかかる時間\n",
    "        \"\"\"\n",
    "        slacktime = 0\n",
    "        return slacktime - self.distance(p, d)/self.velocity\n",
    "    def h(self, alocintour, new_req):\n",
    "        \"\"\"\n",
    "        時間枠の違反度を計算する\n",
    "        tour内の地点を出発する時刻 + tour内の地点からリクエストのデリバリー地点までにかかる時間 <= 顧客の時間枠の締め切り時刻　→　ペナルティ 0\n",
    "        それ以外　→ ペナルティ (顧客の時間枠の締め切り時刻 - tour内の地点からリクエストのデリバリー地点までにかかる時間)*そのリクエストの時間枠違反にかかる単位時間あたりコスト\n",
    "        \"\"\"\n",
    "        overtime = new_req.tw.t - self.distance(alocintour, new_req.delivery)\n",
    "        penalty = 0\n",
    "        if overtime > 0:\n",
    "            penalty = overtime*new_req.penalty\n",
    "        return penalty\n",
    "    def i(self, capacity, demand):\n",
    "        \"\"\"\n",
    "        車両の容量制約が満たされているか判断する\n",
    "        parameters :\n",
    "            違反した場合に返す値\n",
    "        \"\"\"\n",
    "        if demand > capacity:\n",
    "            return 1e+100\n",
    "        return 0\n",
    "    def insert(self):\n",
    "        \"\"\"\n",
    "        tourに，新しいリクエストたち(new_reqs)のLocationインスタンスを挿入する\n",
    "        巡回路に新たなリクエストが入れられた車両の容量を減らす\n",
    "        \"\"\"\n",
    "        for insertion_location, new_req in zip(self.insertion_locations, self.new_reqs):\n",
    "            self.vehicles[insertion_location.vehicle_n].tour = self.tour[insertion_location.location_p:] + [str(new_req.number)+'p'] + self.tour[:insertion_location.location_p]\n",
    "            self.vehicles[insertion_location.vehicle_n].tour = self.tour[insertion_location.location_d:] + [str(new_req.number)+'d'] + self.tour[:insertion_location.location_d]\n",
    "            self.vehicles[insertion_location.vehicle_n].capacity -= new_req.demand#????????????????\n",
    "    def DF(self, tour):\n",
    "        \"\"\"\n",
    "        各車両の巡回路(tour)から顧客の発着時間を作成．\n",
    "        \"\"\"\n",
    "        for i, now in enumerate(tour):\n",
    "            if i != 0:\n",
    "                prev = L[-1]\n",
    "                loc.arr =prev.dep + distance(prev.coordinate, now.coordinate)"
   ]
  },
  {
   "cell_type": "code",
   "execution_count": null,
   "metadata": {},
   "outputs": [],
   "source": [
    "L = [0,1,2]\n",
    "for i,l in enumerate(L):\n",
    "    print(\"prev\", L[i-1])\n",
    "    print(i,l)\n",
    "    print()"
   ]
  },
  {
   "cell_type": "code",
   "execution_count": null,
   "metadata": {},
   "outputs": [],
   "source": [
    "methods = Methods()\n",
    "methods.set_var(instance)\n",
    "print(methods.service_period)"
   ]
  },
  {
   "cell_type": "code",
   "execution_count": null,
   "metadata": {},
   "outputs": [],
   "source": [
    "print(methods.vehicles[0].number)"
   ]
  },
  {
   "cell_type": "code",
   "execution_count": null,
   "metadata": {
    "scrolled": false
   },
   "outputs": [],
   "source": [
    "methods.solve()"
   ]
  },
  {
   "cell_type": "code",
   "execution_count": null,
   "metadata": {},
   "outputs": [],
   "source": []
  }
 ],
 "metadata": {
  "kernelspec": {
   "display_name": "Python 3",
   "language": "python",
   "name": "python3"
  },
  "language_info": {
   "codemirror_mode": {
    "name": "ipython",
    "version": 3
   },
   "file_extension": ".py",
   "mimetype": "text/x-python",
   "name": "python",
   "nbconvert_exporter": "python",
   "pygments_lexer": "ipython3",
   "version": "3.7.7"
  }
 },
 "nbformat": 4,
 "nbformat_minor": 4
}
