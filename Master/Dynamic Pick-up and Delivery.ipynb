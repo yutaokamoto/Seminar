{
 "cells": [
  {
   "cell_type": "markdown",
   "metadata": {},
   "source": [
    "# 問題例"
   ]
  },
  {
   "cell_type": "markdown",
   "metadata": {},
   "source": [
    "## 問題例の作成"
   ]
  },
  {
   "cell_type": "code",
   "execution_count": 350,
   "metadata": {},
   "outputs": [],
   "source": [
    "def example():\n",
    "    \"\"\"\n",
    "    inputs :\n",
    "        None\n",
    "    outputs :\n",
    "        service_period : 全体の勤務時間\n",
    "        customers : 顧客を表す辞書．　{顧客を表す数字 : (需要が発生する時刻, 需要量, ピックアップ地点を表す座標, デリバリー地点を表す座標, 時間枠, 時間枠の逸脱費用}\n",
    "        vehicles : 配送車を表す辞書．　{配送車を表す数字 : (容量)}\n",
    "    parameters :\n",
    "        n : 顧客の数\n",
    "        r : 顧客の座標の範囲\n",
    "        d_time : 需要が発生する時刻\n",
    "        lower_dem : 需要量の最小値\n",
    "        upper_dem : 需要量の最大値\n",
    "        demand : 需要量\n",
    "        tw : 顧客の時間枠\n",
    "        penalty : 時間枠の逸脱費用\n",
    "        n_vehicles : 配送車の数\n",
    "        lower_cap : 配送車の容量の最小値\n",
    "        capacity : 配送車の容量\n",
    "    \"\"\"\n",
    "    import random\n",
    "    random.seed(0)\n",
    "    service_period = 30\n",
    "    n = 3\n",
    "    r = 10.0\n",
    "    lower_dem = 1\n",
    "    upper_dem = 10\n",
    "    customers = {}\n",
    "    demands = 0\n",
    "    for i in range(n):\n",
    "        d_time = random.randint(0, int(service_period*0.7))\n",
    "        demand = random.uniform(lower_dem, upper_dem)\n",
    "        p_x = random.uniform(-r, r)\n",
    "        p_y = random.uniform(-r, r)\n",
    "        d_x = random.uniform(-r, r)\n",
    "        d_y = random.uniform(-r, r)\n",
    "        s = random.uniform(0, service_period)\n",
    "        t = random.uniform(s, service_period)\n",
    "        tw = (s,t)\n",
    "        penalty = 0.1\n",
    "        customers[i] = (d_time, demand, (p_x, p_y), (d_x, d_y), tw, penalty)\n",
    "        demands += demand\n",
    "    n_vehicles = random.randint(1, n)\n",
    "    lower_cap = demands/2\n",
    "    upper_cap = demands\n",
    "    vehicles = {}\n",
    "    for v in range(n_vehicles):\n",
    "        capacity = random.uniform(lower_cap, upper_cap)\n",
    "        #upper_cap = demands - capacity\n",
    "        vehicles[v] = capacity\n",
    "    return service_period, customers, vehicles"
   ]
  },
  {
   "cell_type": "code",
   "execution_count": 351,
   "metadata": {
    "scrolled": true
   },
   "outputs": [
    {
     "name": "stdout",
     "output_type": "stream",
     "text": [
      "全体の時間 :  30 分\n",
      "顧客 : \n",
      "0\n",
      "\t 12\n",
      "\t 7.821589626462722\n",
      "\t (-1.5885683833831, -4.821664994140733)\n",
      "\t (0.22549442737217085, -1.9013172509917133)\n",
      "\t (23.51395767104318, 25.481256851302387)\n",
      "\t 0.1\n",
      "1\n",
      "\t 15\n",
      "\t 4.222444372254895\n",
      "\t (7.833213196413649, -5.6311454616953664)\n",
      "\t (-7.214525896036948, -7.205084300666423)\n",
      "\t (2.844922904305678, 24.552761433972293)\n",
      "\t 0.1\n",
      "2\n",
      "\t 17\n",
      "\t 9.845069284338878\n",
      "\t (6.20434471993179, 8.043319008791656)\n",
      "\t (-3.797048613613347, 4.596634965202572)\n",
      "\t (26.965148639039803, 29.04093820568829)\n",
      "\t 0.1\n",
      "車両 : \n",
      "0 \t 17.07146136114074\n",
      "1 \t 14.816639117776514\n"
     ]
    }
   ],
   "source": [
    "service_period, customers, vehicles = example()\n",
    "print(\"全体の時間 : \", service_period, \"分\")\n",
    "print(\"顧客 : \")\n",
    "for key, values in customers.items():\n",
    "    print(key)\n",
    "    for value in values:\n",
    "        print(\"\\t\", value)\n",
    "print(\"車両 : \")\n",
    "for key, values in vehicles.items():\n",
    "    print(key, \"\\t\", values)"
   ]
  },
  {
   "cell_type": "code",
   "execution_count": 352,
   "metadata": {
    "scrolled": true
   },
   "outputs": [
    {
     "data": {
      "text/plain": [
       "True"
      ]
     },
     "execution_count": 352,
     "metadata": {},
     "output_type": "execute_result"
    }
   ],
   "source": [
    "#顧客の需要の合計 < 配送車の容量の合計　となっているかチェック\n",
    "sum(map(lambda x : x[1], customers.values())) < sum(vehicles.values())"
   ]
  },
  {
   "cell_type": "markdown",
   "metadata": {},
   "source": [
    "## 問題例の描画"
   ]
  },
  {
   "cell_type": "code",
   "execution_count": 353,
   "metadata": {},
   "outputs": [
    {
     "name": "stdout",
     "output_type": "stream",
     "text": [
      "あるリクエストに対し，●がピックアップ地点，▲がデリバリー地点\n"
     ]
    },
    {
     "data": {
      "image/png": "[encoded data removed]",
      "text/plain": [
       "<Figure size 432x288 with 1 Axes>"
      ]
     },
     "metadata": {
      "needs_background": "light"
     },
     "output_type": "display_data"
    }
   ],
   "source": [
    "import matplotlib\n",
    "import matplotlib.pyplot as plt\n",
    "%matplotlib inline\n",
    "\n",
    "#x = list(map(lambda x: x[0], customers.values()))\n",
    "#y = list(map(lambda x: x[1], customers.values()))\n",
    "d_time, demand, p, d, tw, penalty = zip(*customers.values())\n",
    "p_xs, p_ys = zip(*p)\n",
    "d_xs, d_ys = zip(*d)\n",
    "\n",
    "colors =  list(matplotlib.colors.cnames.keys())\n",
    "plt.scatter(0, 0, marker=\",\", color=\"black\", s=150, label=\"depot\")\n",
    "\n",
    "for i in range(len(customers)):\n",
    "    color = colors[i+20]\n",
    "    p_x, p_y, d_x, d_y = p_xs[i], p_ys[i], d_xs[i], d_ys[i]\n",
    "    #ピックアップ地点\n",
    "    plt.scatter(p_x, p_y, marker=\".\", color=color, s=500)\n",
    "    #デリバリー地点\n",
    "    plt.scatter(d_x, d_y, marker=\"^\", color=color, s=150)\n",
    "\n",
    "print(\"あるリクエストに対し，●がピックアップ地点，▲がデリバリー地点\")\n",
    "plt.legend()\n",
    "plt.show()"
   ]
  },
  {
   "cell_type": "markdown",
   "metadata": {},
   "source": [
    "# Constructive method"
   ]
  },
  {
   "cell_type": "markdown",
   "metadata": {},
   "source": [
    "- Constructive methodでは，i分ごとにSimple insertion methodを行う．\n",
    "- Simple insertion methodでは，tourにリクエストを挿入するのにかかるコストを元に，現在のtourにリクエストを挿入する．"
   ]
  },
  {
   "cell_type": "markdown",
   "metadata": {},
   "source": [
    "- customerを需要が発生する時刻の早い順に並べ替え，キューにいれる．\n",
    "- sloveの中で，time%i==0となるごとにconstructive(self, 新しい需要)として挿入を行う．"
   ]
  },
  {
   "cell_type": "code",
   "execution_count": 453,
   "metadata": {},
   "outputs": [],
   "source": [
    "class instance():\n",
    "    def __init__(self):\n",
    "        self.n_customer = len(customers)\n",
    "        self.tour = []\n",
    "        self.objval = 0\n",
    "    def set_instance(self, service_period, customers, vehicles):\n",
    "        self.service_period = service_period\n",
    "        self.customers = customers\n",
    "        self.vehicles = vehicles\n",
    "        self.tour = []\n",
    "    def solve(self):\n",
    "        \"\"\"\n",
    "        i分ごとにSimple insertion methodを行う．\n",
    "        inputs :\n",
    "        outputs :\n",
    "            None\n",
    "        parameters :\n",
    "            i : Simple insertion methodを行う時間間隔\n",
    "        \"\"\"\n",
    "        # 需要が発生する時刻が早い順に並べ替える\n",
    "        sorted_cs = sorted(self.customers, key=lambda x : self.customers[x][0])\n",
    "        \"\"\"\n",
    "        print(\"需要が発生する時刻が早い順に並べた顧客 : \", sorted_cs)\n",
    "        print(\"顧客の需要が発生する時刻 : \", [self.customers[c][0] for c in sorted_cs])\n",
    "        \"\"\"\n",
    "        # i分ごとにconstructiveを実行\n",
    "        i = 5\n",
    "        \n",
    "        time = sorted(set(range(0, self.service_period, i))|{self.service_period})\n",
    "        print(\"time : \", time)\n",
    "        now = -1\n",
    "        while (sorted_cs != []) and (len(sorted_cs) != 1):\n",
    "            now += 1\n",
    "            print(\"now : \", now)\n",
    "            # 前回挿入を行った時から現在までの間に溜まったリクエスト\n",
    "            new_reqs = []\n",
    "            for idx,req in enumerate(sorted_cs):\n",
    "                print(\"顧客の需要が発生する時刻は，\", self.customers[req][0])\n",
    "                if self.customers[req][0] <= time[now]:\n",
    "                    new_reqs.append(self.customers[req])\n",
    "                    if idx == len(sorted_cs)-1:\n",
    "                        sorted_cs = []\n",
    "                else:\n",
    "                    sorted_cs = sorted_cs[idx:]\n",
    "                    break\n",
    "            # constructiveの実行\n",
    "            self.constructive(new_reqs)\n",
    "            #print(self.tour)\n",
    "            print(\"time : \", time[now], \"\\t new_reqs : \", new_reqs)\n",
    "            print(\"sorted_cs : \", sorted_cs)\n",
    "            print()\n",
    "        \"\"\"for time in sorted(set(range(0, self.service_period, i))|{self.service_period}):\n",
    "            # 前回挿入を行った時から現在までの間に溜まったリクエスト\n",
    "            new_reqs = []\n",
    "            if sorted_cs != []:\n",
    "                for idx,req in enumerate(sorted_cs):\n",
    "                    ##print(\"顧客の需要が発生する時刻は，\", self.customers[req][0], \"\\t 現在時刻は\", time)\n",
    "                    if self.customers[req][0] <= time:\n",
    "                        new_reqs.append(self.customers[req])\n",
    "                    else:                    \n",
    "                        sorted_cs = sorted_cs[idx:]\n",
    "                        break\n",
    "                    if len(sorted_cs) == 1:\n",
    "                        sorted_cs = []\n",
    "                ##print(\"time : \", time, \"\\t new_reqs : \", new_reqs)\n",
    "                ##print(\"sorted_cs : \", sorted_cs)\n",
    "                ##print()\n",
    "            else:\n",
    "                break\n",
    "            # constructiveの実行\n",
    "            self.constructive(new_reqs)\n",
    "            #print(self.tour)\"\"\"\n",
    "    def constructive(self, new_reqs):\n",
    "        \"\"\"\n",
    "        Simple insertion methos\n",
    "        inputs :\n",
    "        outputs :\n",
    "        \"\"\"\n",
    "        # tourを前から順番に見ていって最も挿入するコストがかからないところにリクエストを挿入\n",
    "        #for t in tour:"
   ]
  },
  {
   "cell_type": "code",
   "execution_count": 454,
   "metadata": {},
   "outputs": [
    {
     "name": "stdout",
     "output_type": "stream",
     "text": [
      "30\n"
     ]
    }
   ],
   "source": [
    "instance = instance()\n",
    "instance.set_instance(service_period, customers, vehicles)\n",
    "print(instance.service_period)"
   ]
  },
  {
   "cell_type": "code",
   "execution_count": 455,
   "metadata": {
    "scrolled": false
   },
   "outputs": [
    {
     "name": "stdout",
     "output_type": "stream",
     "text": [
      "time :  [0, 5, 10, 15, 20, 25, 30]\n",
      "now :  0\n",
      "顧客の需要が発生する時刻は， 12\n",
      "time :  0 \t new_reqs :  []\n",
      "sorted_cs :  [0, 1, 2]\n",
      "\n",
      "now :  1\n",
      "顧客の需要が発生する時刻は， 12\n",
      "time :  5 \t new_reqs :  []\n",
      "sorted_cs :  [0, 1, 2]\n",
      "\n",
      "now :  2\n",
      "顧客の需要が発生する時刻は， 12\n",
      "time :  10 \t new_reqs :  []\n",
      "sorted_cs :  [0, 1, 2]\n",
      "\n",
      "now :  3\n",
      "顧客の需要が発生する時刻は， 12\n",
      "顧客の需要が発生する時刻は， 15\n",
      "顧客の需要が発生する時刻は， 17\n",
      "time :  15 \t new_reqs :  [(12, 7.821589626462722, (-1.5885683833831, -4.821664994140733), (0.22549442737217085, -1.9013172509917133), (23.51395767104318, 25.481256851302387), 0.1), (15, 4.222444372254895, (7.833213196413649, -5.6311454616953664), (-7.214525896036948, -7.205084300666423), (2.844922904305678, 24.552761433972293), 0.1)]\n",
      "sorted_cs :  [2]\n",
      "\n"
     ]
    }
   ],
   "source": [
    "instance.solve()"
   ]
  },
  {
   "cell_type": "code",
   "execution_count": null,
   "metadata": {},
   "outputs": [],
   "source": []
  }
 ],
 "metadata": {
  "kernelspec": {
   "display_name": "Python 3",
   "language": "python",
   "name": "python3"
  },
  "language_info": {
   "codemirror_mode": {
    "name": "ipython",
    "version": 3
   },
   "file_extension": ".py",
   "mimetype": "text/x-python",
   "name": "python",
   "nbconvert_exporter": "python",
   "pygments_lexer": "ipython3",
   "version": "3.7.7"
  }
 },
 "nbformat": 4,
 "nbformat_minor": 4
}
