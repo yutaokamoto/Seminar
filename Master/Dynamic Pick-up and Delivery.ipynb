{
 "cells": [
  {
   "cell_type": "markdown",
   "metadata": {},
   "source": [
    " # 変更点\n",
    "- CustomerをLocationインスタンスの塊に変更\n",
    "- insertion_locationを削除"
   ]
  },
  {
   "cell_type": "markdown",
   "metadata": {},
   "source": [
    "# 問題例"
   ]
  },
  {
   "cell_type": "markdown",
   "metadata": {},
   "source": [
    "## 問題例の作成"
   ]
  },
  {
   "cell_type": "code",
   "execution_count": 1,
   "metadata": {},
   "outputs": [],
   "source": [
    "class TW():\n",
    "    def __init__(self, s, e):\n",
    "        \"\"\"\n",
    "        時間枠を表す構造体\n",
    "        \"\"\"\n",
    "        self.s = s\n",
    "        self.e = e"
   ]
  },
  {
   "cell_type": "code",
   "execution_count": 25,
   "metadata": {},
   "outputs": [],
   "source": [
    "class Location():\n",
    "    def __init__(self, number=None, coordinate=None, demand=None, loc_type=None, arrivetime=0, departuretime=0, tw=TW(0,0), penalty=0):\n",
    "        \"\"\"\n",
    "        地点を表す構造体\n",
    "        \"\"\"\n",
    "        self.number = number\n",
    "        self.coordinate = coordinate\n",
    "        self.demand = demand\n",
    "        self.loc_type = loc_type\n",
    "        self.arr = arrivetime\n",
    "        self.dep = departuretime\n",
    "        self.tw = tw\n",
    "        self.penalty = penalty"
   ]
  },
  {
   "cell_type": "code",
   "execution_count": 26,
   "metadata": {},
   "outputs": [],
   "source": [
    "class Customer():\n",
    "    def __init__(self, number, dt, pickup_coordinate, delivery_coordinate, demand, tw, penalty):\n",
    "        \"\"\"\n",
    "        customer : 顧客　(顧客を表す数字, 需要が発生する時刻, 需要量, ピックアップ地点を表す座標, デリバリー地点を表す座標, 時間枠, 時間枠の逸脱費用)\n",
    "            number : 顧客を表す数字\n",
    "            dt : 需要が発生する時刻\n",
    "            pickup : ピックアップ地点を表すLocationインスタンス\n",
    "            delivery : デリバリー地点を表すLocationインスタンス\n",
    "            penalty : 時間枠の逸脱費用\n",
    "        \"\"\"\n",
    "        self.number = number\n",
    "        self.dt = dt\n",
    "        self.demand = demand\n",
    "        self.pickup = Location(number, pickup_coordinate, -demand, \"p\")\n",
    "        self.delivery = Location(number, delivery_coordinate, demand, \"d\", tw, penalty)\n",
    "        self.penalty = penalty"
   ]
  },
  {
   "cell_type": "code",
   "execution_count": 27,
   "metadata": {},
   "outputs": [],
   "source": [
    "class Piecewiseinterval():\n",
    "    def __init__(self, interval):\n",
    "        self.start = interval[0]\n",
    "        self.end = interval[1]"
   ]
  },
  {
   "cell_type": "code",
   "execution_count": 28,
   "metadata": {},
   "outputs": [],
   "source": [
    "class Capacityfunctype():\n",
    "    def __init__(self, capacities, intervals):\n",
    "        self.capacities = capacities\n",
    "        self.intervals = [Piecewiseinterval(i) for i in intervals]"
   ]
  },
  {
   "cell_type": "code",
   "execution_count": 29,
   "metadata": {},
   "outputs": [],
   "source": [
    "class Capacity():\n",
    "    def __init__(self, capacities=(0,), intervals=[(0,0)]):\n",
    "        \"\"\"\n",
    "        車両の容量を表す区分線型関数\n",
    "        inputs :\n",
    "            capacity : ある時刻での車両の容量を表す数字を要素にもつリスト\n",
    "        \"\"\"\n",
    "        #self.func = Capacityfunctype((0,), [(0, 0)])\n",
    "        self.capacities = capacities\n",
    "        self.intervals = intervals\n",
    "    def setfunc(self, capacities, intervals):\n",
    "        \"\"\"\n",
    "        与えられたcapacities(タプル)とpiecewiseintervals(タプル)を元にして，新たに関数を定義する\n",
    "        \"\"\"\n",
    "        #self.func = Capacityfunctype(capacities, intervals)\n",
    "        self.capacities = capacities\n",
    "        self.intervals = [Piecewiseinterval(i) for i in intervals]\n",
    "    def getfuncval(self, x):\n",
    "        #for i, t in enumerate(self.func.intervals):\n",
    "            #if t.start <= x <= t.end:\n",
    "                #return self.func.capacity[i]\n",
    "        for i, t in zip(self.capacities, self.intervals):\n",
    "            if t.start <= x <= t.end:\n",
    "                return i"
   ]
  },
  {
   "cell_type": "code",
   "execution_count": 30,
   "metadata": {},
   "outputs": [],
   "source": [
    "class Currnetlocation():\n",
    "    def __init__(self, coordinate, customer_idx):\n",
    "        \"\"\"\n",
    "        車両の現在位置を表す構造体\n",
    "        \"\"\"\n",
    "        self.coordinate = coordinate\n",
    "        self.idx = customer_idx"
   ]
  },
  {
   "cell_type": "code",
   "execution_count": 31,
   "metadata": {},
   "outputs": [],
   "source": [
    "class Vehicle():\n",
    "    def __init__(self, number, capacity, tour):\n",
    "        \"\"\"\n",
    "        vehicles : 配送車 (配送車を表す数字, 容量, 巡回路, 各顧客の発着時間))\n",
    "            number : 配送車を表す数字\n",
    "            capacity : 容量\n",
    "            tour : 巡回路\n",
    "            #plan : 各顧客の発着時間\n",
    "        \"\"\"\n",
    "        self.number = number\n",
    "        self.capacity = Capacity()\n",
    "        self.tour = tour\n",
    "        self.currentlocation = Location(-1, (0,0))#Currnetlocation((0, 0), -1) # 最初はデポから出発 & 最後はデポに帰る\n",
    "        #self.plan = plan"
   ]
  },
  {
   "cell_type": "code",
   "execution_count": 32,
   "metadata": {},
   "outputs": [],
   "source": [
    "class Instance():\n",
    "    def __init__(self):\n",
    "        \"\"\"\n",
    "        service_period : 全体の勤務時間\n",
    "        customers : 客の集合\n",
    "        vehicles : 配送車の集合\n",
    "        \"\"\"\n",
    "        self.service_period = 0\n",
    "        self.customers = []\n",
    "        self.vehicles = []\n",
    "    def example(self):\n",
    "        \"\"\"\n",
    "        inputs :\n",
    "            None\n",
    "        outputs :\n",
    "            None\n",
    "        parameters :\n",
    "            n : 顧客の数\n",
    "            r : 顧客の座標の範囲\n",
    "            dt : 需要が発生する時刻\n",
    "            lower_dem : 需要量の最小値\n",
    "            upper_dem : 需要量の最大値\n",
    "            demand : 需要量\n",
    "            tw : 顧客の時間枠\n",
    "            penalty : 時間枠の逸脱費用\n",
    "            n_vehicles : 配送車の数\n",
    "            lower_cap : 配送車の容量の最小値\n",
    "            capacity : 配送車の容量\n",
    "            tour : 巡回路\n",
    "        \"\"\"\n",
    "        import random\n",
    "        random.seed(0)\n",
    "        self.service_period = 30\n",
    "        n = 3\n",
    "        r = 10.0\n",
    "        lower_dem = 1\n",
    "        upper_dem = 10\n",
    "        demands = 0\n",
    "        for i in range(n):\n",
    "            dt = random.randint(0, int(self.service_period*0.7))\n",
    "            demand = random.uniform(lower_dem, upper_dem)\n",
    "            p_x = random.uniform(-r, r)\n",
    "            p_y = random.uniform(-r, r)\n",
    "            d_x = random.uniform(-r, r)\n",
    "            d_y = random.uniform(-r, r)\n",
    "            s = random.uniform(0, self.service_period)\n",
    "            e = random.uniform(s, self.service_period)\n",
    "            tw = TW(s,e)\n",
    "            penalty = 0.1\n",
    "            c = Customer(i, dt, (p_x, p_y), (d_x, d_y), demand, tw, penalty)\n",
    "            self.customers.append(c)\n",
    "            demands += demand\n",
    "        n_vehicles = random.randint(1, n)\n",
    "        lower_cap = demands/2\n",
    "        upper_cap = demands\n",
    "        for v in range(n_vehicles):\n",
    "            capacity = random.uniform(lower_cap, upper_cap)\n",
    "            #upper_cap = demands - capacity\n",
    "            depot = Location(-1, (0,0), 0, \"depot\")\n",
    "            tour = [depot, depot]\n",
    "            #plan = [(0,0), (self.service_period,)]\n",
    "            v = Vehicle(v, capacity, tour)\n",
    "            v.capacity.setfunc((capacity,), [(0, self.service_period)])\n",
    "            self.vehicles.append(v)"
   ]
  },
  {
   "cell_type": "code",
   "execution_count": 33,
   "metadata": {},
   "outputs": [],
   "source": [
    "instance = Instance()\n",
    "instance.example()"
   ]
  },
  {
   "cell_type": "code",
   "execution_count": 34,
   "metadata": {
    "scrolled": true
   },
   "outputs": [
    {
     "name": "stdout",
     "output_type": "stream",
     "text": [
      "全体の時間 :  30 分\n",
      "顧客 : \n",
      "\t number  : 0\n",
      "\t dt  : 12\n",
      "\t demand  : 7.821589626462722\n",
      "\t pickup  : <__main__.Location object at 0x7f9d1ab32350>\n",
      "\t delivery  : <__main__.Location object at 0x7f9d1ab32150>\n",
      "\t penalty  : 0.1\n",
      "\n",
      "\t number  : 1\n",
      "\t dt  : 15\n",
      "\t demand  : 4.222444372254895\n",
      "\t pickup  : <__main__.Location object at 0x7f9d1ab4b4d0>\n",
      "\t delivery  : <__main__.Location object at 0x7f9d1ab4b750>\n",
      "\t penalty  : 0.1\n",
      "\n",
      "\t number  : 2\n",
      "\t dt  : 17\n",
      "\t demand  : 9.845069284338878\n",
      "\t pickup  : <__main__.Location object at 0x7f9d1ab4b290>\n",
      "\t delivery  : <__main__.Location object at 0x7f9d1ab4b2d0>\n",
      "\t penalty  : 0.1\n",
      "\n",
      "車両 : \n",
      "\t number  :\t 0\n",
      "\t capacity  :\t <__main__.Capacity object at 0x7f9d1aa95210>\n",
      "\t tour  :\t [<__main__.Location object at 0x7f9d1ab4bc50>, <__main__.Location object at 0x7f9d1ab4bc50>]\n",
      "\t currentlocation  :\t <__main__.Location object at 0x7f9d1932a150>\n",
      "\n",
      "\t number  :\t 1\n",
      "\t capacity  :\t <__main__.Capacity object at 0x7f9d1abb2050>\n",
      "\t tour  :\t [<__main__.Location object at 0x7f9d1932a550>, <__main__.Location object at 0x7f9d1932a550>]\n",
      "\t currentlocation  :\t <__main__.Location object at 0x7f9d1abb21d0>\n",
      "\n"
     ]
    }
   ],
   "source": [
    "print(\"全体の時間 : \", instance.service_period, \"分\")\n",
    "print(\"顧客 : \")\n",
    "for c in instance.customers:\n",
    "    for var in vars(c):\n",
    "        print(\"\\t\", var, \" :\", eval(\"c.\"+str(var)))\n",
    "    print()\n",
    "print(\"車両 : \")\n",
    "for v in instance.vehicles:\n",
    "    for var in vars(v):\n",
    "        print(\"\\t\", var, \" :\\t\", eval(\"v.\"+str(var)))\n",
    "    print()"
   ]
  },
  {
   "cell_type": "code",
   "execution_count": 35,
   "metadata": {
    "scrolled": true
   },
   "outputs": [
    {
     "data": {
      "text/plain": [
       "17.07146136114074"
      ]
     },
     "execution_count": 35,
     "metadata": {},
     "output_type": "execute_result"
    }
   ],
   "source": [
    "instance.vehicles[0].capacity.capacities[0]"
   ]
  },
  {
   "cell_type": "code",
   "execution_count": 36,
   "metadata": {
    "scrolled": true
   },
   "outputs": [
    {
     "data": {
      "text/plain": [
       "-1"
      ]
     },
     "execution_count": 36,
     "metadata": {},
     "output_type": "execute_result"
    }
   ],
   "source": [
    "instance.vehicles[0].tour[0].number"
   ]
  },
  {
   "cell_type": "code",
   "execution_count": 37,
   "metadata": {
    "scrolled": true
   },
   "outputs": [
    {
     "name": "stdout",
     "output_type": "stream",
     "text": [
      "[ 0 , 30 ]\n"
     ]
    }
   ],
   "source": [
    "print('[', instance.vehicles[0].capacity.intervals[0].start, ',', instance.vehicles[1].capacity.intervals[0].end, ']')"
   ]
  },
  {
   "cell_type": "code",
   "execution_count": 38,
   "metadata": {},
   "outputs": [
    {
     "data": {
      "text/plain": [
       "17.07146136114074"
      ]
     },
     "execution_count": 38,
     "metadata": {},
     "output_type": "execute_result"
    }
   ],
   "source": [
    "instance.vehicles[0].capacity.getfuncval(30)"
   ]
  },
  {
   "cell_type": "code",
   "execution_count": 39,
   "metadata": {
    "scrolled": true
   },
   "outputs": [
    {
     "name": "stdout",
     "output_type": "stream",
     "text": [
      "True\n"
     ]
    }
   ],
   "source": [
    "#顧客の需要の合計 < 配送車の容量の合計　となっているかチェック\n",
    "print(\n",
    "    sum(eval(\"c.\"+str(var)+\".demand\") for var in vars(c) for c in instance.customers if var==\"pickup\")\n",
    "      <=\n",
    "    sum(eval(\"v.\"+str(var) +\".capacities[0]\")  for var in vars(v) for v in instance.vehicles if var==\"capacity\")\n",
    ")\n",
    "#sum(map(lambda x : x[1], customers.values())) <= sum(map(lambda x : x[0], vehicles.values()))"
   ]
  },
  {
   "cell_type": "markdown",
   "metadata": {},
   "source": [
    "## 問題例の描画"
   ]
  },
  {
   "cell_type": "code",
   "execution_count": 40,
   "metadata": {},
   "outputs": [
    {
     "name": "stdout",
     "output_type": "stream",
     "text": [
      "あるリクエストに対し，●がピックアップ地点，▲がデリバリー地点\n"
     ]
    },
    {
     "data": {
      "image/png": "[encoded data removed]",
      "text/plain": [
       "<Figure size 432x288 with 1 Axes>"
      ]
     },
     "metadata": {
      "needs_background": "light"
     },
     "output_type": "display_data"
    }
   ],
   "source": [
    "import matplotlib\n",
    "import matplotlib.pyplot as plt\n",
    "%matplotlib inline\n",
    "\n",
    "# 顧客の情報の展開\n",
    "p, d = [], []\n",
    "for c in instance.customers:\n",
    "    for var in vars(c):\n",
    "        if var == \"pickup\":\n",
    "            p.append(eval(\"c.\"+str(var)+\".coordinate\"))\n",
    "        elif var == \"delivery\":\n",
    "            d.append(eval(\"c.\"+str(var)+\".coordinate\"))\n",
    "p_xs, p_ys = zip(*p)\n",
    "d_xs, d_ys = zip(*d)\n",
    "\n",
    "# 顧客の色の選択と，デポの描画\n",
    "colors =  list(matplotlib.colors.cnames.keys())\n",
    "plt.scatter(0, 0, marker=\",\", color=\"black\", s=150, label=\"depot\")\n",
    "\n",
    "for i in range(len(instance.customers)):\n",
    "    color = colors[i+20]\n",
    "    p_x, p_y, d_x, d_y = p_xs[i], p_ys[i], d_xs[i], d_ys[i]\n",
    "    # ピックアップ地点\n",
    "    plt.scatter(p_x, p_y, marker=\".\", color=color, s=500)\n",
    "    # デリバリー地点\n",
    "    plt.scatter(d_x, d_y, marker=\"^\", color=color, s=150)\n",
    "\n",
    "# 顧客の描画\n",
    "print(\"あるリクエストに対し，●がピックアップ地点，▲がデリバリー地点\")\n",
    "plt.legend()\n",
    "plt.show()"
   ]
  },
  {
   "cell_type": "markdown",
   "metadata": {},
   "source": [
    "# 問題を解く"
   ]
  },
  {
   "cell_type": "markdown",
   "metadata": {},
   "source": [
    "## 配送計画"
   ]
  },
  {
   "cell_type": "markdown",
   "metadata": {},
   "source": [
    "### 1. Constructive method\n",
    "\n",
    "- Constructive methodでは，i分ごとにCheapest insertion methodを行う．\n",
    "- Cheapest insertion methodでは，tourにリクエストを挿入するのにかかるコストを元に，現在のtourにリクエストを挿入する．\n",
    "- リクエストをスラックタイムの少ない順に並べてから挿入を行う．\n",
    "- コストはそのリクエストを挿入することによっておこるルートの増加量とスラックタイムの減少量を元に算出する．"
   ]
  },
  {
   "cell_type": "markdown",
   "metadata": {},
   "source": [
    "### 2. Local Search\n",
    "\n",
    "- LS"
   ]
  },
  {
   "cell_type": "markdown",
   "metadata": {},
   "source": [
    "## スケジューリング"
   ]
  },
  {
   "cell_type": "markdown",
   "metadata": {},
   "source": [
    "### Drive first strategy\n",
    "- なるはやで行く．\n",
    "- 客のところで待つのも可．"
   ]
  },
  {
   "cell_type": "code",
   "execution_count": 182,
   "metadata": {},
   "outputs": [],
   "source": [
    "class Methods():\n",
    "    def __init__(self):\n",
    "        self.velocity = 1\n",
    "        self.alpha = 0.1\n",
    "    def set_var(self, instance):\n",
    "        self.service_period = instance.service_period\n",
    "        self.customers = instance.customers\n",
    "        self.vehicles = instance.vehicles\n",
    "    def solve(self):\n",
    "        \"\"\"\n",
    "        i分ごとに実行可能解を作る．（Cheapest insertion methodを行う + DFを行う．）\n",
    "        parameters :\n",
    "            i : Cheapest insertion methodを行う時間間隔（整数）\n",
    "        \"\"\"\n",
    "        # 需要が発生する時刻が早い順に並べ替える\n",
    "        sorted_cs = sorted(self.customers, key=lambda customer : customer.dt)\n",
    "        # i分ごとにconstructiveを実行\n",
    "        i = 5\n",
    "        self.time = sorted(set(range(0, self.service_period, i))|{self.service_period})\n",
    "        self.now = -1\n",
    "        while (sorted_cs != []) and (len(sorted_cs) != 0):\n",
    "            self.now += 1\n",
    "            # 前回挿入を行った時から現在までの間に溜まったリクエスト\n",
    "            self.new_reqs = []\n",
    "            for idx, customer in enumerate(sorted_cs):\n",
    "                if customer.dt <= self.time[self.now]:\n",
    "                    self.new_reqs.append(customer)\n",
    "                    if idx == len(sorted_cs)-1:\n",
    "                        sorted_cs = []\n",
    "                else:\n",
    "                    sorted_cs = sorted_cs[idx:]\n",
    "                    break\n",
    "            # Cheapest insertionの実行\n",
    "            self.constructive()\n",
    "            ################print([v.tour for v in self.vehicles])\n",
    "    def constructive(self):\n",
    "        \"\"\"\n",
    "        Cheapest insertion methos : tourを前から順番に見ていき,最も挿入するコストがかからないところにリクエストを挿入\n",
    "        variables :\n",
    "            #insertion_locations : リクエストをtourに挿入する場所の辞書（keyが顧客の番号，valueが挿入する場所）\n",
    "        \"\"\"\n",
    "        if self.new_reqs != []:\n",
    "            # tourを前から順番に見ていき，最も挿入するコストがかからないところを見つける\n",
    "            # 各車両のtourにリクエストを挿入\n",
    "            self.insert()\n",
    "    def insert(self):\n",
    "        \"\"\"\n",
    "        新しいリクエストたち(new_reqs)を挿入する場所を決め,tourに挿入する\n",
    "        新しいリクエストの発着時間を決める\n",
    "        variables :\n",
    "            min_cost_p, min_cost_d : あるリクエストを巡回路に挿入するときに便宜上必要なコスト\n",
    "        \"\"\"\n",
    "        # 新しいリクエストを順番に見ていく\n",
    "        for new_req in self.new_reqs:\n",
    "            self.vehicle_n = 0\n",
    "            self.point_p, self.point_d = 0, 0\n",
    "            self.cost_p, self.cost_d = 0, 0\n",
    "            self.min_cost_p, self.min_cost_d = 1e+10, 1e+10\n",
    "            # 各車両\n",
    "            for vehicle in self.vehicles:\n",
    "                # 車両vehicleのtour\n",
    "                v_tour = self.traverse_tour(vehicle, self.time[self.now])\n",
    "                for idx, location in enumerate(v_tour):\n",
    "                    nextlocation = v_tour[idx+1]\n",
    "                    # コストの計算\n",
    "                    self.calculate_cost(new_req, vehicle, location.coordinate, nextlocation.coordinate)\n",
    "                    # 最小コストの更新\n",
    "                    self.update_mincost(vehicle, idx)\n",
    "                    \n",
    "            assert self.point_p <= self.point_d, \"ピックアップよりも前にデリバリーされている\"\n",
    "                \n",
    "            # tourに，新しいリクエストたち(new_reqs)のLocationインスタンス(Customerインスタンスをピックアップとデリバリーに分解したもの)を挿入する\n",
    "            self.update_tour(new_req)\n",
    "            # DFの実行\n",
    "            self.DF(self.vehicles[self.vehicle_n], new_req)\n",
    "    def traverse_tour(self, vehicle, nowtime):\n",
    "        \"\"\"\n",
    "        車両の現在地(self.currentlocation)よりも後にある顧客．つまり，まだ訪問していない顧客の配列を返す\n",
    "        \"\"\"\n",
    "        traverse_tour = []\n",
    "        idx = vehicle.currentlocation.number\n",
    "        #####print(\"現在時刻 : \", self.time[self.now])\n",
    "        #####print(\"現在地(顧客の番号) : \", idx)\n",
    "        for i, nowlocation in enumerate(vehicle.tour[idx:-2]):\n",
    "            if nowlocation.dep <= nowtime:\n",
    "                nextlocation = vehicle.tour[i+1]\n",
    "                previouslocation = vehicle.tour[i-1]\n",
    "                # 現在地の更新\n",
    "                self.update_currentlocation(vehicle, i, nowtime, previouslocation, nowlocation, nextlocation)\n",
    "                # traverse_tourに代入\n",
    "                traverse_tour = [vehicle.currentlocation] + vehicle.tour[i:-1]\n",
    "                break\n",
    "        return traverse_tour\n",
    "    def update_currentlocation(self, vehicle, i, nowtime, previouslocation, nowlocation, nextlocation):\n",
    "        dx = nextlocation.coordinate[0]-nowlocation.coordinate[0] or 1\n",
    "        dy = nextlocation.coordinate[1]-nowlocation.coordinate[1] or 1\n",
    "        diagonal = (dx**2+dy**2)**(1/2) or 1\n",
    "        x_per_min = dx/(self.velocity*(dx/diagonal))\n",
    "        y_per_min = dy/(self.velocity*(dy/diagonal))\n",
    "        vehicle.currentlocation.idx =  i\n",
    "        vehicle.currentlocation.coordinate = (nowlocation.coordinate[0]+x_per_min*(nowtime - previouslocation.dep), nowlocation.coordinate[1]+y_per_min*(nowtime - previouslocation.dep))\n",
    "    def calculate_cost(self, new_req, vehicle, location, nextlocation):\n",
    "        self.cost_p = (1-self.alpha)*self.f(location, new_req.pickup.coordinate, nextlocation) + self.alpha*self.g(new_req.pickup.coordinate, new_req.delivery.coordinate) + self.i(vehicle.capacity.getfuncval(self.time[self.now]), new_req.demand)\n",
    "        self.cost_d = (1-self.alpha)*self.f(location, new_req.delivery.coordinate, nextlocation) + self.alpha*self.g(new_req.pickup.coordinate, new_req.delivery.coordinate) + self.h(location, new_req)\n",
    "    def update_mincost(self, vehicle, idx):\n",
    "        if self.cost_p < self.min_cost_p:\n",
    "            self.min_cost_p = self.cost_p\n",
    "            self.point_p = idx\n",
    "            self.vehicle_n = vehicle.number\n",
    "        if (self.cost_d < self.min_cost_d) and (self.point_p <= self.point_d):\n",
    "            self.min_cost_d = self.cost_p\n",
    "            self.point_d = idx\n",
    "            self.vehicle_n = vehicle.number\n",
    "    def f(self, location, new_location, nextlocation):\n",
    "        \"\"\"\n",
    "        巡回路の距離の増加を計算する\n",
    "        locationとnew_locationのユークリッド距離 + new_locationとlocation+1のユークリッド距離\n",
    "        \"\"\"\n",
    "        return self.distance(location, new_location) + self.distance(new_location, nextlocation)\n",
    "    def distance(self, p, q):\n",
    "        return ((p[0]-q[0])**2+(p[1]-q[1])**2)**(1/2)\n",
    "    def g(self, p, d):\n",
    "        \"\"\"\n",
    "        スラックタイムの減少を計算する\n",
    "        サービス可能時間 - ピックアップ地点からデリバリー地点へ直接移動するのにかかる時間\n",
    "        \"\"\"\n",
    "        slacktime = 0\n",
    "        return slacktime - self.distance(p, d)/self.velocity\n",
    "    def h(self, alocintour, new_req):\n",
    "        \"\"\"\n",
    "        時間枠の違反度を計算する\n",
    "        tour内の地点を出発する時刻 + tour内の地点からリクエストのデリバリー地点までにかかる時間 <= 顧客の時間枠の締め切り時刻　→　ペナルティ 0\n",
    "        それ以外　→ ペナルティ (顧客の時間枠の締め切り時刻 - tour内の地点からリクエストのデリバリー地点までにかかる時間)*そのリクエストの時間枠違反にかかる単位時間あたりコスト\n",
    "        \"\"\"\n",
    "        overtime = new_req.delivery.tw.e - self.distance(alocintour, new_req.delivery.coordinate)\n",
    "        penalty = 0\n",
    "        if overtime > 0:\n",
    "            penalty = overtime*new_req.penalty\n",
    "        return penalty\n",
    "    def i(self, capacity, demand):\n",
    "        \"\"\"\n",
    "        車両の容量制約が満たされているか判断する\n",
    "        parameters :\n",
    "            違反した場合に返す値\n",
    "        \"\"\"\n",
    "        if demand > capacity:\n",
    "            return 1e+100\n",
    "        return 0\n",
    "    def update_tour(self, new_req):\n",
    "        \"\"\"\n",
    "        tourにリクエストのピックアップ地点，デリバリー地点を追加\n",
    "        \"\"\"\n",
    "        idx_p, idx_d = self.point_p, self.point_d\n",
    "        tour = self.vehicles[self.vehicle_n].tour\n",
    "        self.vehicles[self.vehicle_n].tour = tour[:idx_p+1] + [new_req.pickup] + tour[idx_p+1:idx_d+1] + [new_req.delivery] + tour[idx_d+1:]\n",
    "    def DF(self, vehicle, new_req):\n",
    "        \"\"\"\n",
    "        各車両の巡回路(tour)から顧客の発着時間を決定\n",
    "        巡回路に新たなリクエストが入れられた車両の容量を減らす\n",
    "        \"\"\"\n",
    "        # 発着時間の決定\n",
    "        for i, now in enumerate(vehicle.tour):\n",
    "            if i != 0:\n",
    "                prev = vehicle.tour[i-1]\n",
    "                now.arr = prev.dep + self.distance(prev.coordinate, now.coordinate)\n",
    "                now.dep = prev.dep + self.distance(prev.coordinate, now.coordinate) + (now.tw.s-now.arr)*((now.tw.s-now.arr)<0)#時間枠の始まりよりも前に着いたら待機\n",
    "        # 車両の容量を減らす\n",
    "        # self.vehicles[self.vehicle_n].tour[self.point_p].depからself.vehicles[self.vehicle_n].tour[self.point_d].arrまでの間の車両の容量を減らす\n",
    "        self.modifycapacity(new_req)\n",
    "    def modifycapacity(self, new_req):\n",
    "        \"\"\"\n",
    "        車両の容量を表す区分線形関数に変更を加える．\n",
    "        \"\"\"\n",
    "        s, e = self.vehicles[self.vehicle_n].tour[self.point_p].dep, self.vehicles[self.vehicle_n].tour[self.point_p].arr\n",
    "        capacities, intervals = self.vehicles[self.vehicle_n].capacity.capacities, self.vehicles[self.vehicle_n].capacity.intervals\n",
    "        flag = False\n",
    "        for idx,v in enumerate(zip(capacities, intervals)):\n",
    "            if v[1].start <= s <= v[1].end:\n",
    "                flag = True\n",
    "                del intervals[idx]\n",
    "                intervals = intervals[:idx+1] + [(v[1].start, s)] + [(s, v[1].end)] + intervals[idx+1:]\n",
    "                capacities = capacities[:idx+1] + (v[0]-new_req.demand) + capacities[idx+1:]\n",
    "            elif v[1].start <= e <= v[1].end:\n",
    "                flag = False\n",
    "                del intervals[idx]\n",
    "                intervals = intervals[:idx+1] + [(v[1].start, e)] + [(e, v[1].end)] + intervals[idx+1:]\n",
    "                capacities = capacities[:idx+1] + [v[0]-new_req.demand] + capacities[idx+1:]\n",
    "            if flag:\n",
    "                v[0] -= new_req\n",
    "        self.vehicles[self.vehicle_n].capacity.setfunc(capacities, intervals)"
   ]
  },
  {
   "cell_type": "code",
   "execution_count": 183,
   "metadata": {},
   "outputs": [
    {
     "name": "stdout",
     "output_type": "stream",
     "text": [
      "0\n",
      "(1, 10)\n",
      "[1, 2, 3]\n",
      "\n",
      "1\n",
      "(2, 20)\n",
      "[1, 2, 0, 3]\n",
      "\n",
      "2\n",
      "(3, 30)\n",
      "[1, 2, 0, 3]\n",
      "\n"
     ]
    }
   ],
   "source": [
    "l1 = [1,2,3]\n",
    "l2 = [10, 20, 30]\n",
    "idx = 1\n",
    "for a,b in enumerate(zip(l1, l2)):\n",
    "    print(a)\n",
    "    print(b)\n",
    "    if a == idx:\n",
    "        l1 = l1[:idx+1] + [0] + l1[idx+1:]\n",
    "        l2 = l2[:idx+1] + [0] + l2[idx+1:]\n",
    "    print(l1)\n",
    "    print()"
   ]
  },
  {
   "cell_type": "code",
   "execution_count": 184,
   "metadata": {},
   "outputs": [
    {
     "data": {
      "text/plain": [
       "[1, 2, 0, 3]"
      ]
     },
     "execution_count": 184,
     "metadata": {},
     "output_type": "execute_result"
    }
   ],
   "source": [
    "l1"
   ]
  },
  {
   "cell_type": "code",
   "execution_count": 185,
   "metadata": {},
   "outputs": [
    {
     "data": {
      "text/plain": [
       "[0, 1, 2, 3, 100, 200, 4, 5, 6, 7, 8, 9]"
      ]
     },
     "execution_count": 185,
     "metadata": {},
     "output_type": "execute_result"
    }
   ],
   "source": [
    "l = [i for i in range(10)]\n",
    "l = l[:4] + [100] + l[4:4] + [200] + l[4:]\n",
    "l"
   ]
  },
  {
   "cell_type": "code",
   "execution_count": 186,
   "metadata": {},
   "outputs": [
    {
     "name": "stdout",
     "output_type": "stream",
     "text": [
      "30\n"
     ]
    }
   ],
   "source": [
    "methods = Methods()\n",
    "methods.set_var(instance)\n",
    "print(methods.service_period)"
   ]
  },
  {
   "cell_type": "code",
   "execution_count": 187,
   "metadata": {},
   "outputs": [
    {
     "name": "stdout",
     "output_type": "stream",
     "text": [
      "0\n"
     ]
    }
   ],
   "source": [
    "print(methods.vehicles[0].number)"
   ]
  },
  {
   "cell_type": "code",
   "execution_count": 188,
   "metadata": {
    "scrolled": false
   },
   "outputs": [
    {
     "name": "stdout",
     "output_type": "stream",
     "text": [
      "self.point_p :  0\n",
      "self.point_d :  0\n",
      "self.point_p :  0\n",
      "self.point_d :  0\n",
      "self.point_p :  0\n",
      "self.point_d :  0\n"
     ]
    }
   ],
   "source": [
    "methods.solve()"
   ]
  },
  {
   "cell_type": "code",
   "execution_count": 192,
   "metadata": {},
   "outputs": [
    {
     "name": "stdout",
     "output_type": "stream",
     "text": [
      "[<__main__.Location object at 0x7f9d1ab4bc50>, <__main__.Location object at 0x7f9d1ab4b290>, <__main__.Location object at 0x7f9d1ab4b2d0>, <__main__.Location object at 0x7f9d1ab4b4d0>, <__main__.Location object at 0x7f9d1ab4b750>, <__main__.Location object at 0x7f9d1ab32350>, <__main__.Location object at 0x7f9d1ab32150>, <__main__.Location object at 0x7f9d1ab4b290>, <__main__.Location object at 0x7f9d1ab4b2d0>, <__main__.Location object at 0x7f9d1ab4b4d0>, <__main__.Location object at 0x7f9d1ab4b750>, <__main__.Location object at 0x7f9d1ab32350>, <__main__.Location object at 0x7f9d1ab32150>, <__main__.Location object at 0x7f9d1ab32350>, <__main__.Location object at 0x7f9d1ab32150>, <__main__.Location object at 0x7f9d1ab32350>, <__main__.Location object at 0x7f9d1ab32150>, <__main__.Location object at 0x7f9d1ab32350>, <__main__.Location object at 0x7f9d1ab32150>, <__main__.Location object at 0x7f9d1ab32350>, <__main__.Location object at 0x7f9d1ab32150>, <__main__.Location object at 0x7f9d1ab32350>, <__main__.Location object at 0x7f9d1ab32150>, <__main__.Location object at 0x7f9d1ab32350>, <__main__.Location object at 0x7f9d1ab32150>, <__main__.Location object at 0x7f9d1ab32350>, <__main__.Location object at 0x7f9d1ab32150>, <__main__.Location object at 0x7f9d1ab4bc50>]\n"
     ]
    }
   ],
   "source": [
    "print(methods.vehicles[0].tour)"
   ]
  },
  {
   "cell_type": "code",
   "execution_count": null,
   "metadata": {},
   "outputs": [],
   "source": []
  }
 ],
 "metadata": {
  "kernelspec": {
   "display_name": "Python 3",
   "language": "python",
   "name": "python3"
  },
  "language_info": {
   "codemirror_mode": {
    "name": "ipython",
    "version": 3
   },
   "file_extension": ".py",
   "mimetype": "text/x-python",
   "name": "python",
   "nbconvert_exporter": "python",
   "pygments_lexer": "ipython3",
   "version": "3.7.7"
  }
 },
 "nbformat": 4,
 "nbformat_minor": 4
}
