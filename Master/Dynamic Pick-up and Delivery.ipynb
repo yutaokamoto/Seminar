{
 "cells": [
  {
   "cell_type": "markdown",
   "metadata": {},
   "source": [
    "# 問題例"
   ]
  },
  {
   "cell_type": "markdown",
   "metadata": {},
   "source": [
    "## 問題例の作成"
   ]
  },
  {
   "cell_type": "code",
   "execution_count": 103,
   "metadata": {},
   "outputs": [],
   "source": [
    "def example():\n",
    "    \"\"\"\n",
    "    inputs :\n",
    "        None\n",
    "    outputs :\n",
    "        service_period : 全体の勤務時間\n",
    "        customers : 顧客を表す辞書．　{顧客を表す数字 : (需要量, ピックアップ地点を表す座標, デリバリー地点を表す座標, 時間枠, 時間枠の逸脱費用}\n",
    "        vehicles : 配送車を表す辞書．　{配送車を表す数字 : (容量)}\n",
    "    parameters :\n",
    "        n : 顧客の数\n",
    "        r : 顧客の座標の範囲\n",
    "        lower_dem : 需要量の最小値\n",
    "        upper_dem : 需要量の最大値\n",
    "        tw : 顧客の時間枠\n",
    "        penalty : 時間枠の逸脱費用\n",
    "        lower_cap : 配送車の容量の最小値\n",
    "        n_vehicles : 配送車の数\n",
    "        capacity : 配送車の容量\n",
    "    \"\"\"\n",
    "    import random\n",
    "    random.seed(0)\n",
    "    service_period = 30\n",
    "    n = 5\n",
    "    r = 10.0\n",
    "    lower_dem = 1\n",
    "    upper_dem = 5\n",
    "    customers = {}\n",
    "    demands = 0\n",
    "    for i in range(n):\n",
    "        demand = random.uniform(lower_dem, upper_dem)\n",
    "        p_x = random.uniform(-r, r)\n",
    "        p_y = random.uniform(-r, r)\n",
    "        d_x = random.uniform(-r, r)\n",
    "        d_y = random.uniform(-r, r)\n",
    "        s = random.uniform(0, service_period)\n",
    "        t = random.uniform(s, service_period)\n",
    "        tw = (s,t)\n",
    "        penalty = 0.1\n",
    "        customers[i] = (demand, (p_x, p_y), (d_x, d_y), tw)\n",
    "        demands += demand\n",
    "    n_vehicles = random.randint(1, n)\n",
    "    lower_cap = lower_dem\n",
    "    upper_cap = demands\n",
    "    vehicles = {}\n",
    "    for v in range(n_vehicles):\n",
    "        capacity = random.uniform(lower_cap, upper_cap)\n",
    "        upper_cap = demands-capacity\n",
    "        vehicles[v] = (capacity)\n",
    "    return service_period, customers, vehicles"
   ]
  },
  {
   "cell_type": "code",
   "execution_count": 104,
   "metadata": {},
   "outputs": [
    {
     "name": "stdout",
     "output_type": "stream",
     "text": [
      "車両数 :  30\n",
      "顧客 : \n",
      "0\n",
      "\t 4.3776874061001925\n",
      "\t (5.159088058806049, -1.5885683833831)\n",
      "\t (-4.821664994140733, 0.22549442737217085)\n",
      "\t (12.148024123512428, 26.140377626986186)\n",
      "1\n",
      "\t 2.21325090431571\n",
      "\t (-0.4680609169528829, 1.6676407891006235)\n",
      "\t (8.162257703906704, 0.09373711634780513)\n",
      "\t (8.455135331991116, 24.738834626070663)\n",
      "2\n",
      "\t 3.4734759867013265\n",
      "\t (-4.989873172751189, 8.194925119364804)\n",
      "\t (9.655709520753064, 6.20434471993179)\n",
      "\t (27.06497851318748, 27.975268293222395)\n",
      "3\n",
      "\t 3.9193269930405146\n",
      "\t (7.976765759359871, 3.6796786383088254)\n",
      "\t (-0.5571456909457329, -7.985975838632684)\n",
      "\t (13.02515506361351, 23.394866711480496)\n",
      "4\n",
      "\t 4.652044212951592\n",
      "\t (9.332127355415174, -0.4598044689456593)\n",
      "\t (7.3061985554328, -4.790153792160812)\n",
      "\t (24.15083481039067, 27.36026767794867)\n",
      "車両 : \n",
      "0 \t (24.15083481039067, 27.36026767794867)\n"
     ]
    }
   ],
   "source": [
    "service_period, customers, vehicles = example()\n",
    "print(\"車両数 : \", service_period)\n",
    "print(\"顧客 : \")\n",
    "for key, values in customers.items():\n",
    "    print(key)\n",
    "    for value in values:\n",
    "        print(\"\\t\", value)\n",
    "print(\"車両 : \")\n",
    "for key, values in vehicles.items():\n",
    "    print(key, \"\\t\", value)"
   ]
  },
  {
   "cell_type": "code",
   "execution_count": 101,
   "metadata": {},
   "outputs": [
    {
     "data": {
      "text/plain": [
       "False"
      ]
     },
     "execution_count": 101,
     "metadata": {},
     "output_type": "execute_result"
    }
   ],
   "source": [
    "#顧客の需要の合計 < 配送車の容量の合計　となっているかチェック\n",
    "sum(map(lambda x : x[0], customers.values())) < sum(vehicles.values())"
   ]
  },
  {
   "cell_type": "markdown",
   "metadata": {},
   "source": [
    "## 問題例の描画"
   ]
  },
  {
   "cell_type": "code",
   "execution_count": 78,
   "metadata": {},
   "outputs": [
    {
     "name": "stdout",
     "output_type": "stream",
     "text": [
      "あるリクエストに対し，●がピックアップ地点，▲がデリバリー地点\n"
     ]
    },
    {
     "data": {
      "image/png": "[encoded data removed]",
      "text/plain": [
       "<Figure size 432x288 with 1 Axes>"
      ]
     },
     "metadata": {
      "needs_background": "light"
     },
     "output_type": "display_data"
    }
   ],
   "source": [
    "import matplotlib.pyplot as plt\n",
    "%matplotlib inline\n",
    "\n",
    "#x = list(map(lambda x: x[0], customers.values()))\n",
    "#y = list(map(lambda x: x[1], customers.values()))\n",
    "p, d = zip(*customers.values())\n",
    "p_xs, p_ys = zip(*p)\n",
    "d_xs, d_ys = zip(*d)\n",
    "\n",
    "colors =  list(matplotlib.colors.cnames.keys())\n",
    "plt.scatter(0, 0, marker=\",\", color=\"red\", s=150)\n",
    "\n",
    "for i in range(len(customers)):\n",
    "    color = colors[i+20]\n",
    "    p_x, p_y, d_x, d_y = p_xs[i], p_ys[i], d_xs[i], d_ys[i]\n",
    "    #ピックアップ地点\n",
    "    plt.scatter(p_x, p_y, marker=\".\", color=color, s=500)\n",
    "    #デリバリー地点\n",
    "    plt.scatter(d_x, d_y, marker=\"^\", color=color, s=150)\n",
    "\n",
    "print(\"あるリクエストに対し，●がピックアップ地点，▲がデリバリー地点\")\n",
    "plt.show()"
   ]
  },
  {
   "cell_type": "markdown",
   "metadata": {},
   "source": [
    "# Constructive method"
   ]
  },
  {
   "cell_type": "markdown",
   "metadata": {},
   "source": [
    "- Constructive methodでは，i分ごとにSimple insertion methodを行う．\n",
    "- Simple insertion methodでは，tourにリクエストを挿入するのにかかるコストを元に，現在のtourにリクエストを挿入する．"
   ]
  },
  {
   "cell_type": "code",
   "execution_count": 71,
   "metadata": {},
   "outputs": [],
   "source": [
    "class instance(customers):\n",
    "    def __init__(self):\n",
    "        self.n_customer = len(customers)\n",
    "        self.tour = []\n",
    "        self.objval = 0\n",
    "    def solve(self):\n",
    "        \"\"\"\n",
    "        i分ごとにSimple insertion methodを行う．\n",
    "        inputs :\n",
    "        outputs :\n",
    "            None\n",
    "        \"\"\"\n",
    "    def constructive(self):\n",
    "        \"\"\"\n",
    "        Simple insertion methos\n",
    "        inputs :\n",
    "        outputs :\n",
    "        \"\"\"\n",
    "        return tour"
   ]
  },
  {
   "cell_type": "code",
   "execution_count": null,
   "metadata": {},
   "outputs": [],
   "source": []
  }
 ],
 "metadata": {
  "kernelspec": {
   "display_name": "Python 3",
   "language": "python",
   "name": "python3"
  },
  "language_info": {
   "codemirror_mode": {
    "name": "ipython",
    "version": 3
   },
   "file_extension": ".py",
   "mimetype": "text/x-python",
   "name": "python",
   "nbconvert_exporter": "python",
   "pygments_lexer": "ipython3",
   "version": "3.7.7"
  }
 },
 "nbformat": 4,
 "nbformat_minor": 4
}
