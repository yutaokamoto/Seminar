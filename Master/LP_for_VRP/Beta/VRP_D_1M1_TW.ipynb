{
 "cells": [
  {
   "cell_type": "markdown",
   "metadata": {},
   "source": [
    "# 配送計画モデルVRP_D_1M1_TWの実行例\n",
    "使用可能な機能：距離，容量制約1M1, 時間枠\n",
    "\n",
    "## ランダムな問題例の作成"
   ]
  },
  {
   "cell_type": "code",
   "execution_count": null,
   "metadata": {},
   "outputs": [],
   "source": [
    "n=10 #客数\n",
    "demand_dim=2 # 需要の次元\n",
    "\n",
    "import random\n",
    "random.seed(1)\n",
    "\n",
    "C={} # 客の座標を保存する辞書\n",
    "TW={} # 客の時間枠を保存する辞書\n",
    "demand={} # 客の要求量(正の値は集荷，負の値は配達)\n",
    "S={} # 客のサービス時間\n",
    "\n",
    "for i in range(n):\n",
    "    name=\"c\"+str(i)\n",
    "    x=random.randint(-500,500)\n",
    "    y=random.randint(-500,500)\n",
    "    C[name]=(x,y)\n",
    "    e=random.randint(0,3000)\n",
    "    l=e+random.randint(0,4000-e)\n",
    "    TW[name]=(e,l)\n",
    "\n",
    "    demand[name]=tuple(random.randint(-5,5) for k in range(demand_dim))\n",
    "    S[name]=random.randint(10,20)\n",
    "        \n",
    "C[\"depot\"]=(0,0)"
   ]
  },
  {
   "cell_type": "code",
   "execution_count": null,
   "metadata": {},
   "outputs": [],
   "source": [
    "print(\"Customer\",C)\n",
    "print(\"Time Window\",TW)\n",
    "print(\"Demand\",demand)\n",
    "print(\"Service Time\",S)"
   ]
  },
  {
   "cell_type": "markdown",
   "metadata": {},
   "source": [
    "## 車両数と容量の設定"
   ]
  },
  {
   "cell_type": "code",
   "execution_count": null,
   "metadata": {},
   "outputs": [],
   "source": [
    "m=10 # number of vehicles\n",
    "capacity=tuple(30 for k in range(demand_dim)) # capacity of vehicle"
   ]
  },
  {
   "cell_type": "markdown",
   "metadata": {},
   "source": [
    "## 問題例の描画"
   ]
  },
  {
   "cell_type": "code",
   "execution_count": null,
   "metadata": {},
   "outputs": [],
   "source": [
    "import networkx as nx\n",
    "import matplotlib.pyplot as plt\n",
    "\n",
    "fig=plt.figure(figsize=(7,7))\n",
    "\n",
    "G=nx.DiGraph()\n",
    "nx.draw_networkx(G,pos=C,nodelist=[i for i in C if i != \"depot\"],node_color=\"y\",node_size=50,with_labels=True,edge_color=\"k\",width=1)\n",
    "nx.draw_networkx(G,pos=C,nodelist=[\"depot\"],node_color=\"blue\",node_shape='s',alpha=0.5,node_size=100,with_labels=True,edge_color=\"k\",width=1)\n",
    "\n",
    "plt.show()"
   ]
  },
  {
   "cell_type": "code",
   "execution_count": null,
   "metadata": {},
   "outputs": [],
   "source": [
    "def distance(t1,t2):\n",
    "    return ((t1[0]-t2[0])**2+(t1[1]-t2[1])**2)**(0.5)"
   ]
  },
  {
   "cell_type": "code",
   "execution_count": null,
   "metadata": {},
   "outputs": [],
   "source": [
    "import sys\n",
    "sys.path.append('..')\n",
    "\n",
    "from vrplib.vrp_d_1m1_t_model import *"
   ]
  },
  {
   "cell_type": "markdown",
   "metadata": {},
   "source": [
    "## 配送計画ソルバーの実行"
   ]
  },
  {
   "cell_type": "code",
   "execution_count": null,
   "metadata": {
    "scrolled": true
   },
   "outputs": [],
   "source": [
    "import sys\n",
    "sys.path.append('..')\n",
    "\n",
    "#from vrplib.vrp_d_1m1_t_model import *\n",
    "\n",
    "model = Model(\"example-vrp_d_1m1_tw\") # モデルインスタンスの生成\n",
    "\n",
    "# 客インスタンスの生成\n",
    "for i in C:\n",
    "    if i == \"depot\":\n",
    "        continue\n",
    "    model += Customer(i,demand=demand[i],timewindow=TW[i],servicetime=S[i])\n",
    "\n",
    "# 車両インスタンスの生成\n",
    "for k in range(m):\n",
    "    model += Vehicle(\"v\"+str(k),capacity=capacity)\n",
    "    \n",
    "# 枝インスタンスの生成\n",
    "for i in C:\n",
    "    for j in C:\n",
    "        if i!=j:\n",
    "            dist = time = distance(C[i],C[j])\n",
    "            model += Edge(i,j,dist,time)\n",
    "\n",
    "# 最適化の実行\n",
    "obj=model.optimize(IterLimit=5,TimeLimit=11,Verbose=True,OutputFlag=False)\n",
    "\n",
    "# 得られた解の表示\n",
    "print(\"objective value =\",obj)\n",
    "for v in model.vehiclesL:\n",
    "    print()\n",
    "    print(v)\n",
    "    print(list(map(lambda x:x.name,v.routing[1:-1])))    \n",
    "    for iv in map(lambda x:x.name,v.routing[1:-1]):\n",
    "        print(iv)"
   ]
  },
  {
   "cell_type": "markdown",
   "metadata": {},
   "source": [
    "## 得られた解の描画"
   ]
  },
  {
   "cell_type": "code",
   "execution_count": null,
   "metadata": {},
   "outputs": [],
   "source": [
    "import networkx as nx\n",
    "import matplotlib.pyplot as plt\n",
    "G=nx.DiGraph()\n",
    "for v in model.vehiclesL:\n",
    "    prev=None\n",
    "    for j in v.routing[1:-1]:\n",
    "        if prev == None:                \n",
    "            G.add_edge(\"depot\",j.name)\n",
    "        else:\n",
    "            G.add_edge(prev.name,j.name)\n",
    "        prev= j \n",
    "    G.add_edge(prev.name,\"depot\")\n",
    "    \n",
    "fig=plt.figure(figsize=(9,9))    \n",
    "nx.draw_networkx(G,pos=C,nodelist=[i for i in G.nodes() if i != \"depot\"],node_color=\"yellow\",node_size=50,with_labels=True,edge_color=\"k\",width=1)\n",
    "nx.draw_networkx(G,pos=C,nodelist=[\"depot\"],node_color=\"blue\",node_shape='s',alpha=0.5,node_size=50,with_labels=True,edge_color=\"k\",width=1)\n",
    "plt.show()"
   ]
  },
  {
   "cell_type": "markdown",
   "metadata": {},
   "source": [
    "## 得られた解の詳細な情報"
   ]
  },
  {
   "cell_type": "code",
   "execution_count": null,
   "metadata": {},
   "outputs": [],
   "source": [
    "for v in model.vehiclesL:\n",
    "    print()\n",
    "    print(v)\n",
    "    print(\"v.stat:\",v.stat)\n",
    "    keys=v.routing[1].stat.keys()\n",
    "    print(\"customer,\",\", \".join(keys))\n",
    "    for c in v.routing[1:-1]:\n",
    "        print(c.name+\", \",end=\"\")\n",
    "        for k in keys:\n",
    "            print(c.stat[k],end=\",\")\n",
    "        print()"
   ]
  },
  {
   "cell_type": "code",
   "execution_count": null,
   "metadata": {},
   "outputs": [],
   "source": []
  }
 ],
 "metadata": {
  "kernelspec": {
   "display_name": "Python 3",
   "language": "python",
   "name": "python3"
  },
  "language_info": {
   "codemirror_mode": {
    "name": "ipython",
    "version": 3
   },
   "file_extension": ".py",
   "mimetype": "text/x-python",
   "name": "python",
   "nbconvert_exporter": "python",
   "pygments_lexer": "ipython3",
   "version": "3.7.7"
  }
 },
 "nbformat": 4,
 "nbformat_minor": 2
}
