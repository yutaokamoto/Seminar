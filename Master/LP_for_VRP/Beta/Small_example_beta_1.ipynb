{
 "cells": [
  {
   "cell_type": "markdown",
   "metadata": {},
   "source": [
    "# 問題例の作成"
   ]
  },
  {
   "cell_type": "code",
   "execution_count": 321,
   "metadata": {},
   "outputs": [],
   "source": [
    "class TW():\n",
    "    def __init__(self, e, l):\n",
    "        self.e = e\n",
    "        self.l = l"
   ]
  },
  {
   "cell_type": "code",
   "execution_count": 322,
   "metadata": {},
   "outputs": [],
   "source": [
    "class Coordinate():\n",
    "    def __init__(self, x, y):\n",
    "        self.x = x\n",
    "        self.y = y"
   ]
  },
  {
   "cell_type": "code",
   "execution_count": 323,
   "metadata": {},
   "outputs": [],
   "source": [
    "class Customer():\n",
    "    def __init__(self, d, tw, coo, penalty):\n",
    "        self.demand = d\n",
    "        self.tw = TW(tw[0], tw[1])\n",
    "        self.coordinate = Coordinate(coo[0], coo[1])\n",
    "        self.penalty = penalty"
   ]
  },
  {
   "cell_type": "code",
   "execution_count": 324,
   "metadata": {},
   "outputs": [],
   "source": [
    "class Vehicle():\n",
    "    def __init__(self, c, tour):\n",
    "        self.capacity = c\n",
    "        #self.loading = 0\n",
    "        self.tour = tour"
   ]
  },
  {
   "cell_type": "code",
   "execution_count": 325,
   "metadata": {},
   "outputs": [],
   "source": [
    "def ex():\n",
    "    \"\"\"\n",
    "    V : 客集合\n",
    "        N : 客数\n",
    "        d : 需要\n",
    "        tw : 時間枠\n",
    "        (x, y) : 座標\n",
    "        penalty : 時間枠を違反した場合にかかる、単位時間あたりの違反料\n",
    "    K : 車両集合\n",
    "        c : 容料\n",
    "        #loading : 現在積んでいる荷物の量\n",
    "        tour : 巡回路\n",
    "    \"\"\"\n",
    "    import random\n",
    "    random.seed(0)\n",
    "    N = random.randint(10, 50)\n",
    "    max_d = 10\n",
    "    max_tw = 10\n",
    "    max_co = 50\n",
    "    V = {}\n",
    "    sum_d = 0\n",
    "    for i in range(N):\n",
    "        d = random.uniform(-max_d, max_d)\n",
    "        tw = sorted([random.uniform(0, max_tw) for i in range(2)])\n",
    "        x, y = random.uniform(-max_co, max_co), random.uniform(-max_co, max_co)\n",
    "        penalty = random.uniform(10, 100)\n",
    "        V[i] = Customer(d, tw, (x, y), penalty)\n",
    "        sum_d += d\n",
    "        \n",
    "    K = {}\n",
    "    min_cap = max_d/7\n",
    "    max_cap = max_d/5\n",
    "    sum_cap = 0\n",
    "    i = 0\n",
    "    while sum_cap<sum_d:\n",
    "        c = random.uniform(min_cap, max_cap)\n",
    "        K[i] = Vehicle(c, {})\n",
    "        sum_cap += c\n",
    "        i += 1\n",
    "    return V, K"
   ]
  },
  {
   "cell_type": "code",
   "execution_count": 326,
   "metadata": {},
   "outputs": [],
   "source": [
    "def ex_small():\n",
    "    \"\"\"\n",
    "    V : 客集合\n",
    "        N : 客数\n",
    "        d : 需要\n",
    "        tw : 時間枠\n",
    "        (x, y) : 座標\n",
    "        penalty : 時間枠を違反した場合にかかる、単位時間あたりの違反料\n",
    "    K : 車両集合\n",
    "        c : 容料\n",
    "        tour : 巡回路\n",
    "    \"\"\"\n",
    "    import random\n",
    "    random.seed(0)\n",
    "    N = 5\n",
    "    V = {}\n",
    "    d_list = [1,-2,3,-4,5]\n",
    "    tw_list = [(0,10),(1,6),(2,8),(3,7),(4,7)]\n",
    "    coo_list = [(0,0) for i in range(5)]#[(0,2),(1,3),(2,6),(3,3),(4,10)]\n",
    "    penalty_list = [10,10,10,20,20]\n",
    "    for i in range(N):\n",
    "        d = d_list[i]\n",
    "        tw = tw_list[i]\n",
    "        x, y = coo_list[i]\n",
    "        penalty = penalty_list[i]\n",
    "        V[i] = Customer(d, tw, (x, y), penalty)\n",
    "        \n",
    "    M = 3\n",
    "    c_list = [2,4,6]\n",
    "    K = {k:Vehicle(c_list[k], {}) for k in range(M)}\n",
    "    K[0].tour = {0}\n",
    "    K[1].tour = {1,2}\n",
    "    K[2].tour = {3,4}\n",
    "    \n",
    "    return V, K"
   ]
  },
  {
   "cell_type": "code",
   "execution_count": 327,
   "metadata": {},
   "outputs": [],
   "source": [
    "V, K = ex()"
   ]
  },
  {
   "cell_type": "code",
   "execution_count": 328,
   "metadata": {},
   "outputs": [
    {
     "name": "stdout",
     "output_type": "stream",
     "text": [
      "0\t5.159088058806049\n",
      "\t<__main__.TW object at 0x7fad2dca0510>\n",
      "\t<__main__.Coordinate object at 0x7fad2dca0f10>\n",
      "\t80.54187301312953\n",
      "\t\n",
      "1\t-3.933745478421451\n",
      "\t<__main__.TW object at 0x7fad2dca0150>\n",
      "\t<__main__.Coordinate object at 0x7fad2dca0cd0>\n",
      "\t35.36540599597335\n",
      "\t\n",
      "2\t5.116084083144479\n",
      "\t<__main__.TW object at 0x7fad2dca00d0>\n",
      "\t<__main__.Coordinate object at 0x7fad2dca0d10>\n",
      "\t82.91955123969306\n",
      "\t\n",
      "3\t8.043319008791656\n",
      "\t<__main__.TW object at 0x7fad2dca0690>\n",
      "\t<__main__.Coordinate object at 0x7fad2dca0810>\n",
      "\t52.4928443907442\n",
      "\t\n",
      "4\t-7.985975838632684\n",
      "\t<__main__.TW object at 0x7fad2dca0a50>\n",
      "\t<__main__.Coordinate object at 0x7fad2dc47fd0>\n",
      "\t52.93087988974453\n",
      "\t\n",
      "5\t7.3061985554328\n",
      "\t<__main__.TW object at 0x7fad2dc47d10>\n",
      "\t<__main__.Coordinate object at 0x7fad2dc47990>\n",
      "\t74.77342177635587\n",
      "\t\n",
      "6\t-2.023529155514625\n",
      "\t<__main__.TW object at 0x7fad2dc47950>\n",
      "\t<__main__.Coordinate object at 0x7fad2dc470d0>\n",
      "\t88.08424979435028\n",
      "\t\n",
      "7\t-5.121782462257361\n",
      "\t<__main__.TW object at 0x7fad2dc47a90>\n",
      "\t<__main__.Coordinate object at 0x7fad2de1d790>\n",
      "\t31.475433575369816\n",
      "\t\n",
      "8\t9.350805005802869\n",
      "\t<__main__.TW object at 0x7fad2de1dcd0>\n",
      "\t<__main__.Coordinate object at 0x7fad2de1de50>\n",
      "\t55.71465782685165\n",
      "\t\n",
      "9\t8.656676484538135\n",
      "\t<__main__.TW object at 0x7fad2de1df50>\n",
      "\t<__main__.Coordinate object at 0x7fad2de1d3d0>\n",
      "\t83.30201769622023\n",
      "\t\n",
      "10\t0.8056721394064787\n",
      "\t<__main__.TW object at 0x7fad2de1db50>\n",
      "\t<__main__.Coordinate object at 0x7fad2de1d7d0>\n",
      "\t63.665817542479566\n",
      "\t\n",
      "11\t-2.3019770805467914\n",
      "\t<__main__.TW object at 0x7fad2de1d0d0>\n",
      "\t<__main__.Coordinate object at 0x7fad2de1d950>\n",
      "\t65.1495861881746\n",
      "\t\n",
      "12\t3.1331877797925767\n",
      "\t<__main__.TW object at 0x7fad2de1d150>\n",
      "\t<__main__.Coordinate object at 0x7fad2de1dc90>\n",
      "\t93.10429143516525\n",
      "\t\n",
      "13\t6.849204462803648\n",
      "\t<__main__.TW object at 0x7fad2de1d810>\n",
      "\t<__main__.Coordinate object at 0x7fad2de1d750>\n",
      "\t73.47550598689656\n",
      "\t\n",
      "14\t-4.487317573757457\n",
      "\t<__main__.TW object at 0x7fad2de34ad0>\n",
      "\t<__main__.Coordinate object at 0x7fad2dca7650>\n",
      "\t95.47883859089085\n",
      "\t\n",
      "15\t1.593900214912118\n",
      "\t<__main__.TW object at 0x7fad2dca7d50>\n",
      "\t<__main__.Coordinate object at 0x7fad2dca7e50>\n",
      "\t81.39925757172017\n",
      "\t\n",
      "16\t-8.352540236067052\n",
      "\t<__main__.TW object at 0x7fad2dca7c10>\n",
      "\t<__main__.Coordinate object at 0x7fad2dca7a90>\n",
      "\t31.87320598556706\n",
      "\t\n",
      "17\t4.629784415816955\n",
      "\t<__main__.TW object at 0x7fad2dca7610>\n",
      "\t<__main__.Coordinate object at 0x7fad2dca7c90>\n",
      "\t83.43217868802935\n",
      "\t\n",
      "18\t-7.987849595678076\n",
      "\t<__main__.TW object at 0x7fad2dca74d0>\n",
      "\t<__main__.Coordinate object at 0x7fad2dca7b10>\n",
      "\t91.90144132291357\n",
      "\t\n",
      "19\t0.6839593652144789\n",
      "\t<__main__.TW object at 0x7fad2dca7d90>\n",
      "\t<__main__.Coordinate object at 0x7fad2dca7410>\n",
      "\t61.83576532283867\n",
      "\t\n",
      "20\t-2.1758118135434623\n",
      "\t<__main__.TW object at 0x7fad2dcb2b50>\n",
      "\t<__main__.Coordinate object at 0x7fad2dcb2890>\n",
      "\t96.49281522156501\n",
      "\t\n",
      "21\t-6.300561172051234\n",
      "\t<__main__.TW object at 0x7fad2dcb2510>\n",
      "\t<__main__.Coordinate object at 0x7fad2dcb2950>\n",
      "\t12.050431810179255\n",
      "\t\n",
      "22\t-1.4876233606636564\n",
      "\t<__main__.TW object at 0x7fad2dcb8fd0>\n",
      "\t<__main__.Coordinate object at 0x7fad2dcb8b90>\n",
      "\t41.52645706568791\n",
      "\t\n",
      "23\t-6.393641969406243\n",
      "\t<__main__.TW object at 0x7fad2dcb8190>\n",
      "\t<__main__.Coordinate object at 0x7fad2dcb8a90>\n",
      "\t27.942021142035667\n",
      "\t\n",
      "24\t-2.828893973767963\n",
      "\t<__main__.TW object at 0x7fad2dcb8090>\n",
      "\t<__main__.Coordinate object at 0x7fad2dcb87d0>\n",
      "\t70.53765072157474\n",
      "\t\n",
      "25\t9.330978060863664\n",
      "\t<__main__.TW object at 0x7fad2dcb8650>\n",
      "\t<__main__.Coordinate object at 0x7fad2dcb8d10>\n",
      "\t32.561860535660045\n",
      "\t\n",
      "26\t1.9358278693882198\n",
      "\t<__main__.TW object at 0x7fad2dcb8450>\n",
      "\t<__main__.Coordinate object at 0x7fad2dcb8890>\n",
      "\t61.22014655718522\n",
      "\t\n",
      "27\t0.17200260125266276\n",
      "\t<__main__.TW object at 0x7fad2dcb8f10>\n",
      "\t<__main__.Coordinate object at 0x7fad2dcb8250>\n",
      "\t60.454019696817156\n",
      "\t\n",
      "28\t-9.751273623413713\n",
      "\t<__main__.TW object at 0x7fad2dcb8150>\n",
      "\t<__main__.Coordinate object at 0x7fad2dcb8e50>\n",
      "\t31.611736704371857\n",
      "\t\n",
      "29\t9.062586796555976\n",
      "\t<__main__.TW object at 0x7fad2dcb8690>\n",
      "\t<__main__.Coordinate object at 0x7fad2dcb84d0>\n",
      "\t67.03730670243273\n",
      "\t\n",
      "30\t2.4215369123733446\n",
      "\t<__main__.TW object at 0x7fad2dcb8310>\n",
      "\t<__main__.Coordinate object at 0x7fad2dcb8f50>\n",
      "\t10.137179967104817\n",
      "\t\n",
      "31\t-6.153809175106484\n",
      "\t<__main__.TW object at 0x7fad2dcb8c10>\n",
      "\t<__main__.Coordinate object at 0x7fad2dcb8050>\n",
      "\t88.78810525417154\n",
      "\t\n",
      "32\t1.3630284182038377\n",
      "\t<__main__.TW object at 0x7fad2dcb8790>\n",
      "\t<__main__.Coordinate object at 0x7fad2dcb8a50>\n",
      "\t69.59763000764357\n",
      "\t\n",
      "33\t-9.064406280864034\n",
      "\t<__main__.TW object at 0x7fad2dcb80d0>\n",
      "\t<__main__.Coordinate object at 0x7fad2dcb8290>\n",
      "\t53.85390409621289\n",
      "\t\n"
     ]
    }
   ],
   "source": [
    "for i in V:\n",
    "    print(i, end=\"\\t\")\n",
    "    for condition in V[i].__dict__.values():\n",
    "        print(condition, end=\"\\n\\t\")\n",
    "    print()"
   ]
  },
  {
   "cell_type": "code",
   "execution_count": 329,
   "metadata": {},
   "outputs": [
    {
     "data": {
      "text/plain": [
       "-0.7368985565923367"
      ]
     },
     "execution_count": 329,
     "metadata": {},
     "output_type": "execute_result"
    }
   ],
   "source": [
    "sum(i.demand for i in V.values())"
   ]
  },
  {
   "cell_type": "code",
   "execution_count": 330,
   "metadata": {},
   "outputs": [
    {
     "data": {
      "text/plain": [
       "0"
      ]
     },
     "execution_count": 330,
     "metadata": {},
     "output_type": "execute_result"
    }
   ],
   "source": [
    "sum(i.capacity for i in K.values())"
   ]
  },
  {
   "cell_type": "markdown",
   "metadata": {},
   "source": [
    "# 問題を解く"
   ]
  },
  {
   "cell_type": "markdown",
   "metadata": {},
   "source": [
    "## 巡回路を生成  \n",
    "とりあえず、顧客の名前のインデックスが小さい順"
   ]
  },
  {
   "cell_type": "code",
   "execution_count": null,
   "metadata": {
    "scrolled": true
   },
   "outputs": [],
   "source": []
  },
  {
   "cell_type": "markdown",
   "metadata": {},
   "source": [
    "## 巡回路を評価（各顧客の出発時刻を決める）  \n",
    "どのくらい時間がかかるか調べる"
   ]
  },
  {
   "cell_type": "code",
   "execution_count": 331,
   "metadata": {},
   "outputs": [],
   "source": [
    "# 顧客iへ車両が時刻arr_tに到着する場合の、顧客iの時間枠に関する違反料を計算する関数\n",
    "def penalty(i, arr_t, V):\n",
    "    #print(\"arr_t \\t\", arr_t)\n",
    "    e_diff = arr_t - V[i].tw.e\n",
    "    #print(\"V[i].tw.e \\t\", V[i].tw.e)\n",
    "    #print(\"e_diff \\t\", e_diff)\n",
    "    l_diff = arr_t - V[i].tw.l\n",
    "    #print(\"V[i].tw.l \\t\", V[i].tw.l)\n",
    "    #print(\"l_diff \\t\", l_diff)\n",
    "    #print(\"e_diff*l_diff \\t\", e_diff*l_diff)\n",
    "    #print(\"penalty per minute \\t\", V[i].penalty)\n",
    "    return (-1*(e_diff<0)*e_diff + (l_diff>0)*l_diff) *V[i].penalty\n",
    "    \"\"\"\n",
    "    if e_diff*l_diff > 0:\n",
    "        return (-1*(e_diff<0)*e_diff + (l_diff>0)*l_diff) *V[i].penalty\n",
    "    return 0\n",
    "    \"\"\""
   ]
  },
  {
   "cell_type": "code",
   "execution_count": 332,
   "metadata": {},
   "outputs": [],
   "source": [
    "def distance(i, j, V):\n",
    "    x0 = V[i].coordinate.x\n",
    "    y0 = V[i].coordinate.y\n",
    "    x1 = V[j].coordinate.x\n",
    "    y1 = V[j].coordinate.y\n",
    "    return ((x0-x1)**2 + (y0-y1)**2)**(1/2)"
   ]
  },
  {
   "cell_type": "code",
   "execution_count": 337,
   "metadata": {
    "scrolled": false
   },
   "outputs": [],
   "source": [
    "import gurobipy as gp\n",
    "\n",
    "# インスタンスの生成\n",
    "m = gp.Model(\"LP_for_VRP_small\")\n",
    "\n",
    "# 定数を設定\n",
    "V, K = ex_small()\n",
    "\n",
    "# 変数を設定\n",
    "\"\"\"\n",
    "x_ik : 顧客iへ車両kが到着する時刻を表す変数\n",
    "#z_ik : 車両kが顧客iに到着する時刻が、顧客iの時間枠に対して、どの程度違反しているかを表す変数\n",
    "z_i : 車両が顧客iに到着する時刻が、顧客iの時間枠に対して、どの程度違反しているかを表す変数\n",
    "\"\"\"\n",
    "x = {(i,k):m.addVar(vtype=gp.GRB.CONTINUOUS, name=f\"x({i},{k})\") for k in K for i in K[k].tour}\n",
    "#z = {(i,k):m.addVar(vtype=gp.GRB.CONTINUOUS, name=f\"z({i},{k})\") for k in K for i in K[k].tour}\n",
    "z = {i:m.addVar(vtype=gp.GRB.CONTINUOUS, name=f\"z({i})\") for i in V}\n",
    "\n",
    "m.update()"
   ]
  },
  {
   "cell_type": "code",
   "execution_count": 334,
   "metadata": {},
   "outputs": [],
   "source": [
    "# 目的関数を設定\n",
    "## 各顧客iの到着時刻x_ikと顧客iの時間枠を元に計算した違反料の和を最小化する\n",
    "#m.setObjective(gp.quicksum(V[i].penalty*z[i,k] for k in K for i in K[k].tour), sense = gp.GRB.MINIMIZE)\n",
    "m.setObjective(gp.quicksum(V[i].penalty*z[i] for i in V), sense = gp.GRB.MINIMIZE)"
   ]
  },
  {
   "cell_type": "code",
   "execution_count": 335,
   "metadata": {},
   "outputs": [],
   "source": [
    "# 制約条件を設定\n",
    "## 容料制約\n",
    "\"\"\"for k in K:\n",
    "    m.addConstr(gp.quicksum(V[i].demand for i in K[k].tour) <= K[k].capacity)\"\"\"\n",
    "## 時間枠制約\n",
    "for k in K:\n",
    "    for i in K[k].tour:\n",
    "        #m.addConstr(z[i,k] == penalty(i, x[i,k], V))\n",
    "        m.addConstr(V[i].tw.e-z[i] <= x[i,k])\n",
    "        m.addConstr(x[i,k] <= V[i].tw.l+z[i])\n",
    "## 任意の車両の巡回路内における、各顧客への到着時刻の先行、後行に関する制約\n",
    "for k in K:\n",
    "    for i_p in K[k].tour:\n",
    "        for i_f in K[k].tour:\n",
    "            if i_p != i_f:\n",
    "                m.addConstr(x[i_p, k] + distance(i_p, i_f, V) <= x[i_f, k])"
   ]
  },
  {
   "cell_type": "code",
   "execution_count": 336,
   "metadata": {},
   "outputs": [
    {
     "name": "stdout",
     "output_type": "stream",
     "text": [
      "Gurobi Optimizer version 9.0.2 build v9.0.2rc0 (mac64)\n",
      "Optimize a model with 14 rows, 10 columns and 28 nonzeros\n",
      "Model fingerprint: 0xe952e9b9\n",
      "Coefficient statistics:\n",
      "  Matrix range     [1e+00, 1e+00]\n",
      "  Objective range  [1e+01, 2e+01]\n",
      "  Bounds range     [0e+00, 0e+00]\n",
      "  RHS range        [1e+00, 1e+01]\n",
      "Presolve removed 6 rows and 4 columns\n",
      "Presolve time: 0.03s\n",
      "Presolved: 8 rows, 6 columns, 16 nonzeros\n",
      "\n",
      "Iteration    Objective       Primal Inf.    Dual Inf.      Time\n",
      "       0    0.0000000e+00   1.000000e+01   0.000000e+00      0s\n",
      "       2    0.0000000e+00   0.000000e+00   0.000000e+00      0s\n",
      "\n",
      "Solved in 2 iterations and 0.05 seconds\n",
      "Optimal objective  0.000000000e+00\n",
      "車両0が顧客0に到着する時刻は、<gurobi.Var x(0,0) (value 10.0)>\n",
      "車両1が顧客1に到着する時刻は、<gurobi.Var x(1,1) (value 2.0)>\n",
      "車両1が顧客2に到着する時刻は、<gurobi.Var x(2,1) (value 2.0)>\n",
      "車両2が顧客3に到着する時刻は、<gurobi.Var x(3,2) (value 4.0)>\n",
      "車両2が顧客4に到着する時刻は、<gurobi.Var x(4,2) (value 4.0)>\n",
      "最適値 :  0.0\n"
     ]
    }
   ],
   "source": [
    "# 最適化\n",
    "m.optimize()\n",
    "                \n",
    "# 解の表示\n",
    "if m.Status == gp.GRB.OPTIMAL:\n",
    "    for k in K:\n",
    "        for i in K[k].tour:\n",
    "            print(f\"車両{k}が顧客{i}に到着する時刻は、{x[i, k]}\")\n",
    "    print(\"最適値 : \", m.ObjVal)"
   ]
  },
  {
   "cell_type": "code",
   "execution_count": null,
   "metadata": {},
   "outputs": [],
   "source": []
  }
 ],
 "metadata": {
  "kernelspec": {
   "display_name": "Python 3",
   "language": "python",
   "name": "python3"
  },
  "language_info": {
   "codemirror_mode": {
    "name": "ipython",
    "version": 3
   },
   "file_extension": ".py",
   "mimetype": "text/x-python",
   "name": "python",
   "nbconvert_exporter": "python",
   "pygments_lexer": "ipython3",
   "version": "3.7.7"
  }
 },
 "nbformat": 4,
 "nbformat_minor": 4
}
