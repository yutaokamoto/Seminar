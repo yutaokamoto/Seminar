{
 "cells": [
  {
   "cell_type": "code",
   "execution_count": 173,
   "id": "514c2f4d",
   "metadata": {},
   "outputs": [],
   "source": [
    "import instances\n",
    "import importlib\n",
    "importlib.reload(instances)\n",
    "Customers = instances.Customers\n",
    "Points = instances.Points\n",
    "C, F = instances.C, instances.F\n",
    "tour = instances.tour\n",
    "\n",
    "instance_name = \"C\" + str(len(Customers)-1)"
   ]
  },
  {
   "cell_type": "code",
   "execution_count": 174,
   "id": "c5142bb8",
   "metadata": {
    "scrolled": true
   },
   "outputs": [
    {
     "name": "stdout",
     "output_type": "stream",
     "text": [
      "Preceding constraints are done.\n",
      "Time-window constarints are done.\n",
      "Pick-up and delivery constarints are done.\n",
      "Charge constarints are done.\n"
     ]
    }
   ],
   "source": [
    "import inputs\n",
    "As, Ac_eq, Ac_leq, Ar_eq, Ar_leq, Ap, Aq, b_eq, b_leq, op, oq = inputs.make_inputs(tour, Customers, Points, F, C)"
   ]
  },
  {
   "cell_type": "code",
   "execution_count": 187,
   "id": "d3fc4781",
   "metadata": {
    "scrolled": true
   },
   "outputs": [
    {
     "name": "stdout",
     "output_type": "stream",
     "text": [
      "Changed value of parameter Presolve to 0\n",
      "   Prev: -1  Min: -1  Max: 2  Default: -1\n",
      "Changed value of parameter Method to 0\n",
      "   Prev: -1  Min: -1  Max: 5  Default: -1\n",
      "Gurobi Optimizer version 9.0.2 build v9.0.2rc0 (mac64)\n",
      "Optimize a model with 166 rows, 155 columns and 402 nonzeros\n",
      "Model fingerprint: 0x27a7427b\n",
      "Coefficient statistics:\n",
      "  Matrix range     [1e+00, 1e+00]\n",
      "  Objective range  [1e+00, 1e+00]\n",
      "  Bounds range     [0e+00, 0e+00]\n",
      "  RHS range        [1e-01, 5e+02]\n",
      "Iteration    Objective       Primal Inf.    Dual Inf.      Time\n",
      "       0    0.0000000e+00   5.010643e+03   6.199997e+07      0s\n",
      "     132    8.6369240e+02   0.000000e+00   0.000000e+00      0s\n",
      "\n",
      "Solved in 132 iterations and 0.06 seconds\n",
      "Optimal objective  8.636924036e+02\n",
      "0.12475013732910156\n"
     ]
    }
   ],
   "source": [
    "# Gurobiによって最適解を求める\n",
    "import formulation\n",
    "import importlib\n",
    "importlib.reload(formulation)\n",
    "num_vars = len(tour)\n",
    "import time\n",
    "start = time.time()\n",
    "P = formulation.solve_primal(As, Ac_eq, Ac_leq, Ar_eq, Ar_leq, Ap, Aq, b_eq, b_leq, op, oq, instance_name+\"P\", num_vars)\n",
    "end = time.time()\n",
    "print(end-start)"
   ]
  },
  {
   "cell_type": "code",
   "execution_count": 176,
   "id": "ad8cd63d",
   "metadata": {},
   "outputs": [],
   "source": [
    "threshold = len(tour)//2\n",
    "\n",
    "former = tour[:threshold]\n",
    "latter = tour[threshold:]"
   ]
  },
  {
   "cell_type": "code",
   "execution_count": 177,
   "id": "276d796d",
   "metadata": {},
   "outputs": [],
   "source": [
    "import separate_coefficient_matrix\n",
    "As_1, Ac_eq_1, Ac_leq_1, Ar_eq_1, Ar_leq_1, Ap_1, Aq_1, b_eq_1, b_leq_1, op_1, oq_1, \\\n",
    "As_2, Ac_eq_2, Ac_leq_2, Ar_eq_2, Ar_leq_2, Ap_2, Aq_2, b_eq_2, b_leq_2, op_2, oq_2, \\\n",
    "index_P_f_eq, index_P_f_leq, index_P_l_eq, index_P_l_leq \\\n",
    "= separate_coefficient_matrix.separate(As, Ac_eq, Ac_leq, Ar_eq, Ar_leq, Ap, Aq, b_eq, b_leq, op, oq, threshold)"
   ]
  },
  {
   "cell_type": "code",
   "execution_count": null,
   "id": "bae2c31d",
   "metadata": {},
   "outputs": [],
   "source": []
  },
  {
   "cell_type": "code",
   "execution_count": 178,
   "id": "1ccbfc12",
   "metadata": {},
   "outputs": [],
   "source": [
    "# 前半と後半に分けてそれぞれを解く"
   ]
  },
  {
   "cell_type": "code",
   "execution_count": 179,
   "id": "3a673b8d",
   "metadata": {
    "scrolled": false
   },
   "outputs": [
    {
     "name": "stdout",
     "output_type": "stream",
     "text": [
      "Changed value of parameter Presolve to 0\n",
      "   Prev: -1  Min: -1  Max: 2  Default: -1\n",
      "Changed value of parameter Method to 0\n",
      "   Prev: -1  Min: -1  Max: 5  Default: -1\n",
      "Gurobi Optimizer version 9.0.2 build v9.0.2rc0 (mac64)\n",
      "Optimize a model with 74 rows, 75 columns and 175 nonzeros\n",
      "Model fingerprint: 0x72ff82ad\n",
      "Coefficient statistics:\n",
      "  Matrix range     [1e+00, 1e+00]\n",
      "  Objective range  [1e+00, 1e+00]\n",
      "  Bounds range     [0e+00, 0e+00]\n",
      "  RHS range        [2e-01, 2e+02]\n",
      "Iteration    Objective       Primal Inf.    Dual Inf.      Time\n",
      "       0    0.0000000e+00   1.277275e+03   3.199998e+07      0s\n",
      "      49    0.0000000e+00   0.000000e+00   0.000000e+00      0s\n",
      "\n",
      "Solved in 49 iterations and 0.05 seconds\n",
      "Optimal objective  0.000000000e+00\n",
      "\n",
      "\n",
      "\n",
      "Changed value of parameter Presolve to 0\n",
      "   Prev: -1  Min: -1  Max: 2  Default: -1\n",
      "Changed value of parameter Method to 0\n",
      "   Prev: -1  Min: -1  Max: 5  Default: -1\n",
      "Gurobi Optimizer version 9.0.2 build v9.0.2rc0 (mac64)\n",
      "Optimize a model with 83 rows, 80 columns and 200 nonzeros\n",
      "Model fingerprint: 0xa418f630\n",
      "Coefficient statistics:\n",
      "  Matrix range     [1e+00, 1e+00]\n",
      "  Objective range  [1e+00, 1e+00]\n",
      "  Bounds range     [0e+00, 0e+00]\n",
      "  RHS range        [1e-01, 5e+02]\n",
      "Iteration    Objective       Primal Inf.    Dual Inf.      Time\n",
      "       0    0.0000000e+00   3.731497e+03   3.099998e+07      0s\n",
      "      49    3.5506226e+02   0.000000e+00   0.000000e+00      0s\n",
      "\n",
      "Solved in 49 iterations and 0.02 seconds\n",
      "Optimal objective  3.550622577e+02\n"
     ]
    }
   ],
   "source": [
    "# Gurobiによって最適解を求める\n",
    "P_f = formulation.solve_primal(As_1, Ac_eq_1, Ac_leq_1, Ar_eq_1, Ar_leq_1, Ap_1, Aq_1, \\\n",
    "                                                       b_eq_1, b_leq_1, op_1, oq_1, instance_name+\"P_f\", len(former))\n",
    "print(\"\\n\\n\")\n",
    "P_l = formulation.solve_primal(As_2, Ac_eq_2, Ac_leq_2, Ar_eq_2, Ar_leq_2, Ap_2, Aq_2, \\\n",
    "                                                       b_eq_2, b_leq_2, op_2, oq_2, instance_name+\"P_l\", len(latter))"
   ]
  },
  {
   "cell_type": "code",
   "execution_count": 180,
   "id": "388080d2",
   "metadata": {},
   "outputs": [],
   "source": [
    "index_P_f_eq = list(map(lambda x:x+As.shape[0], index_P_f_eq))\n",
    "index_P_l_eq = list(map(lambda x:x+As.shape[0], index_P_l_eq))\n",
    "index_P_f = list(set(index_P_f_eq) | set(index_P_f_leq))\n",
    "index_P_l = list(set(index_P_l_eq) | set(index_P_l_leq))"
   ]
  },
  {
   "cell_type": "code",
   "execution_count": 181,
   "id": "1b4986f9",
   "metadata": {},
   "outputs": [],
   "source": [
    "# 初期解の保存\n",
    "import numpy as np\n",
    "DStarts = [-var.x for var in P_f.getVars()+P_l.getVars()]\n",
    "\n",
    "PStarts = [0 for constr in P.getConstrs()]\n",
    "for i, constr in zip(index_P_f, P_f.getConstrs()):\n",
    "    PStarts[i] = -constr.Pi\n",
    "for i, constr in zip(index_P_l, P_l.getConstrs()):\n",
    "    PStarts[i] = -constr.Pi"
   ]
  },
  {
   "cell_type": "code",
   "execution_count": 182,
   "id": "acba0016",
   "metadata": {},
   "outputs": [],
   "source": [
    "# 基底変数、非基底変数の保存\n",
    "import numpy as np\n",
    "VBases = [var.VBasis for var in P_f.getVars()+P_l.getVars()]\n",
    "\n",
    "CBases = [0 for constr in P.getConstrs()]\n",
    "for i, constr in zip(index_P_f, P_f.getConstrs()):\n",
    "    CBases[i] = constr.CBasis\n",
    "for i, constr in zip(index_P_l, P_l.getConstrs()):\n",
    "    CBases[i] = constr.CBasis"
   ]
  },
  {
   "cell_type": "code",
   "execution_count": 183,
   "id": "26f791a4",
   "metadata": {},
   "outputs": [],
   "source": [
    "VBases = []\n",
    "var_names = ['s', 'r', 'c', 'p', 'q']\n",
    "for i in var_names:\n",
    "    for j in range(len(former)):\n",
    "        VBases.append(P_f.getVarByName(i+'['+str(j)+']').VBasis)\n",
    "    for j in range(len(latter)):\n",
    "        VBases.append(P_l.getVarByName(i+'['+str(j)+']').VBasis)"
   ]
  },
  {
   "cell_type": "code",
   "execution_count": 184,
   "id": "c3b9caf6",
   "metadata": {
    "scrolled": true
   },
   "outputs": [],
   "source": [
    "CBases = [0 for constr in P.getConstrs()]\n",
    "ind_pfleq = 0\n",
    "ind_pfeq = 0\n",
    "ind_plleq = 0\n",
    "ind_pleq = 0\n",
    "for i in range(len(P.getConstrs())):\n",
    "    if i in index_P_f_leq:\n",
    "        #print(i)\n",
    "        CBases[i] = (P_f.getConstrByName('c_leq['+str(ind_pfleq)+']').CBasis)\n",
    "        ind_pfleq += 1\n",
    "    if i in index_P_f_eq:\n",
    "        #print(i)\n",
    "        CBases[i] = (P_f.getConstrByName('c_eq['+str(ind_pfeq)+']').CBasis)\n",
    "        ind_pfeq += 1\n",
    "    if i in index_P_l_leq:\n",
    "        #print(i)\n",
    "        CBases[i] = (P_l.getConstrByName('c_leq['+str(ind_plleq)+']').CBasis)\n",
    "        ind_plleq += 1\n",
    "    if i in index_P_l_eq:\n",
    "        #print(i)\n",
    "        CBases[i] = (P_l.getConstrByName('c_eq['+str(ind_pleq)+']').CBasis)\n",
    "        ind_pleq += 1"
   ]
  },
  {
   "cell_type": "code",
   "execution_count": 185,
   "id": "87bbcd22",
   "metadata": {},
   "outputs": [],
   "source": [
    "# 基底変数、非基底変数の保存\n",
    "# 主問題の解をそのまま使う\n",
    "import numpy as np\n",
    "CBases_ = [constr.CBasis for constr in P.getConstrs()]\n",
    "VBases_ = [var.VBasis for var in P.getVars()]"
   ]
  },
  {
   "cell_type": "code",
   "execution_count": 188,
   "id": "a061f469",
   "metadata": {
    "scrolled": true
   },
   "outputs": [
    {
     "name": "stdout",
     "output_type": "stream",
     "text": [
      "Changed value of parameter Presolve to 0\n",
      "   Prev: -1  Min: -1  Max: 2  Default: -1\n",
      "Changed value of parameter Method to 1\n",
      "   Prev: -1  Min: -1  Max: 5  Default: -1\n",
      "Gurobi Optimizer version 9.0.2 build v9.0.2rc0 (mac64)\n",
      "Optimize a model with 166 rows, 155 columns and 402 nonzeros\n",
      "Coefficient statistics:\n",
      "  Matrix range     [1e+00, 1e+00]\n",
      "  Objective range  [1e+00, 1e+00]\n",
      "  Bounds range     [0e+00, 0e+00]\n",
      "  RHS range        [1e-01, 5e+02]\n",
      "Iteration    Objective       Primal Inf.    Dual Inf.      Time\n",
      "       0    3.5506226e+02   5.935467e+02   0.000000e+00      0s\n",
      "      16    8.6369240e+02   0.000000e+00   0.000000e+00      0s\n",
      "\n",
      "Solved in 16 iterations and 0.01 seconds\n",
      "Optimal objective  8.636924036e+02\n",
      "0.05163407325744629\n"
     ]
    }
   ],
   "source": [
    "import formulation\n",
    "import importlib\n",
    "importlib.reload(formulation)\n",
    "import time\n",
    "start = time.time()\n",
    "D = formulation.solve_dual(As, Ac_eq, Ac_leq, Ar_eq, Ar_leq, Ap, Aq, b_eq, b_leq, op, oq, \\\n",
    "                                                   instance_name+\"D\", num_vars, VBases, CBases)\n",
    "end = time.time()\n",
    "print(end-start)"
   ]
  },
  {
   "cell_type": "code",
   "execution_count": null,
   "id": "834b32a7",
   "metadata": {},
   "outputs": [],
   "source": [
    "for var in P_f.getVars():\n",
    "    print(var)"
   ]
  },
  {
   "cell_type": "code",
   "execution_count": null,
   "id": "26afd068",
   "metadata": {},
   "outputs": [],
   "source": [
    "for var in P_l.getVars():\n",
    "    print(var)"
   ]
  },
  {
   "cell_type": "code",
   "execution_count": null,
   "id": "247e5b81",
   "metadata": {},
   "outputs": [],
   "source": []
  },
  {
   "cell_type": "code",
   "execution_count": null,
   "id": "a9723c4f",
   "metadata": {},
   "outputs": [],
   "source": [
    "# 以下で、前半と前半と後半を繋げるための前準備"
   ]
  },
  {
   "cell_type": "code",
   "execution_count": 71,
   "id": "c1514696",
   "metadata": {},
   "outputs": [],
   "source": [
    "import numpy as np"
   ]
  },
  {
   "cell_type": "code",
   "execution_count": 72,
   "id": "4c4874fb",
   "metadata": {},
   "outputs": [],
   "source": [
    "padding_1 = np.zeros([As_1.shape[0], As_2.shape[1]])\n",
    "padding_2= np.zeros([As_2.shape[0], As_1.shape[1]])\n",
    "As_1_ = np.concatenate([As_1, padding_2], axis=0)\n",
    "As_2_ = np.concatenate([padding_1, As_2], axis=0)\n",
    "As_ = np.concatenate([As_1_, As_2_], axis=1)"
   ]
  },
  {
   "cell_type": "code",
   "execution_count": 73,
   "id": "33629f3a",
   "metadata": {},
   "outputs": [],
   "source": [
    "padding_1 = np.zeros([Ac_eq_1.shape[0], Ac_eq_2.shape[1]])\n",
    "padding_2= np.zeros([Ac_eq_2.shape[0], Ac_eq_1.shape[1]])\n",
    "Ac_eq_1_ = np.concatenate([Ac_eq_1, padding_2], axis=0)\n",
    "Ac_eq_2_ = np.concatenate([padding_1, Ac_eq_2], axis=0)\n",
    "Ac_eq_ = np.concatenate([Ac_eq_1_, Ac_eq_2_], axis=1)"
   ]
  },
  {
   "cell_type": "code",
   "execution_count": 74,
   "id": "030b30e4",
   "metadata": {},
   "outputs": [],
   "source": [
    "padding_1 = np.zeros([Ac_leq_1.shape[0], Ac_leq_2.shape[1]])\n",
    "padding_2= np.zeros([Ac_leq_2.shape[0], Ac_leq_1.shape[1]])\n",
    "Ac_leq_1_ = np.concatenate([Ac_leq_1, padding_2], axis=0)\n",
    "Ac_leq_2_ = np.concatenate([padding_1, Ac_leq_2], axis=0)\n",
    "Ac_leq_ = np.concatenate([Ac_leq_1_, Ac_leq_2_], axis=1)"
   ]
  },
  {
   "cell_type": "code",
   "execution_count": 75,
   "id": "53a97868",
   "metadata": {},
   "outputs": [],
   "source": [
    "padding_1 = np.zeros([Ar_eq_1.shape[0], Ar_eq_2.shape[1]])\n",
    "padding_2= np.zeros([Ar_eq_2.shape[0], Ar_eq_1.shape[1]])\n",
    "Ar_eq_1_ = np.concatenate([Ar_eq_1, padding_2], axis=0)\n",
    "Ar_eq_2_ = np.concatenate([padding_1, Ar_eq_2], axis=0)\n",
    "Ar_eq_ = np.concatenate([Ar_eq_1_, Ar_eq_2_], axis=1)"
   ]
  },
  {
   "cell_type": "code",
   "execution_count": 76,
   "id": "9422c892",
   "metadata": {},
   "outputs": [],
   "source": [
    "padding_1 = np.zeros([Ar_leq_1.shape[0], Ar_leq_2.shape[1]])\n",
    "padding_2= np.zeros([Ar_leq_2.shape[0], Ar_leq_1.shape[1]])\n",
    "Ar_leq_1_ = np.concatenate([Ar_leq_1, padding_2], axis=0)\n",
    "Ar_leq_2_ = np.concatenate([padding_1, Ar_leq_2], axis=0)\n",
    "Ar_leq_ = np.concatenate([Ar_leq_1_, Ar_leq_2_], axis=1)"
   ]
  },
  {
   "cell_type": "code",
   "execution_count": 77,
   "id": "b9e81d7f",
   "metadata": {},
   "outputs": [],
   "source": [
    "padding_1 = np.zeros([Ap_1.shape[0], Ap_2.shape[1]])\n",
    "padding_2= np.zeros([Ap_2.shape[0], Ap_1.shape[1]])\n",
    "Ap_1_ = np.concatenate([Ap_1, padding_2], axis=0)\n",
    "Ap_2_ = np.concatenate([padding_1, Ap_2], axis=0)\n",
    "Ap_ = np.concatenate([Ap_1_, Ap_2_], axis=1)"
   ]
  },
  {
   "cell_type": "code",
   "execution_count": 78,
   "id": "4d649e59",
   "metadata": {},
   "outputs": [],
   "source": [
    "padding_1 = np.zeros([Aq_1.shape[0], Aq_2.shape[1]])\n",
    "padding_2= np.zeros([Aq_2.shape[0], Aq_1.shape[1]])\n",
    "Aq_1_ = np.concatenate([Aq_1, padding_2], axis=0)\n",
    "Aq_2_ = np.concatenate([padding_1, Aq_2], axis=0)\n",
    "Aq_ = np.concatenate([Aq_1_, Aq_2_], axis=1)"
   ]
  },
  {
   "cell_type": "code",
   "execution_count": 79,
   "id": "4e8eb9bd",
   "metadata": {},
   "outputs": [],
   "source": [
    "b_eq_ = np.concatenate([b_eq_1, b_eq_2], axis=0)"
   ]
  },
  {
   "cell_type": "code",
   "execution_count": 80,
   "id": "5c182cec",
   "metadata": {},
   "outputs": [],
   "source": [
    "b_leq_ = np.concatenate([b_leq_1, b_leq_2], axis=0)"
   ]
  },
  {
   "cell_type": "code",
   "execution_count": 81,
   "id": "7839f98d",
   "metadata": {},
   "outputs": [],
   "source": [
    "# 前半と後半をつなげたものを解く"
   ]
  },
  {
   "cell_type": "code",
   "execution_count": 82,
   "id": "0ba6482d",
   "metadata": {
    "scrolled": false
   },
   "outputs": [
    {
     "name": "stdout",
     "output_type": "stream",
     "text": [
      "Changed value of parameter Presolve to 0\n",
      "   Prev: -1  Min: -1  Max: 2  Default: -1\n",
      "Changed value of parameter Method to 0\n",
      "   Prev: -1  Min: -1  Max: 5  Default: -1\n",
      "Gurobi Optimizer version 9.0.2 build v9.0.2rc0 (mac64)\n",
      "Optimize a model with 517 rows, 505 columns and 1245 nonzeros\n",
      "Model fingerprint: 0xd8012ba7\n",
      "Coefficient statistics:\n",
      "  Matrix range     [1e+00, 1e+00]\n",
      "  Objective range  [1e+00, 1e+00]\n",
      "  Bounds range     [0e+00, 0e+00]\n",
      "  RHS range        [1e-01, 1e+03]\n",
      "Iteration    Objective       Primal Inf.    Dual Inf.      Time\n",
      "       0    0.0000000e+00   5.603384e+04   2.039999e+08      0s\n",
      "     412    1.3499757e+03   0.000000e+00   0.000000e+00      0s\n",
      "\n",
      "Solved in 412 iterations and 0.03 seconds\n",
      "Optimal objective  1.349975705e+03\n"
     ]
    }
   ],
   "source": [
    "import formulation\n",
    "import importlib\n",
    "importlib.reload(formulation)\n",
    "Pf_plus_Pl = formulation.solve_primal(As_, Ac_eq_, Ac_leq_, Ar_eq_, Ar_leq_, Ap_, Aq_, b_eq_, b_leq_, op, oq, \\\n",
    "                                                                  instance_name+\"Pf_plus_Pl\", len(former)+len(latter))"
   ]
  },
  {
   "cell_type": "code",
   "execution_count": 83,
   "id": "b5e7d4cd",
   "metadata": {
    "scrolled": true
   },
   "outputs": [
    {
     "data": {
      "text/plain": [
       "1349.975705478139"
      ]
     },
     "execution_count": 83,
     "metadata": {},
     "output_type": "execute_result"
    }
   ],
   "source": [
    "Pf_plus_Pl.getObjective().getValue()"
   ]
  },
  {
   "cell_type": "code",
   "execution_count": 84,
   "id": "351712b4",
   "metadata": {},
   "outputs": [
    {
     "data": {
      "text/plain": [
       "1349.975705478139"
      ]
     },
     "execution_count": 84,
     "metadata": {},
     "output_type": "execute_result"
    }
   ],
   "source": [
    "P_f.getObjective().getValue() + P_l.getObjective().getValue()"
   ]
  },
  {
   "cell_type": "code",
   "execution_count": null,
   "id": "43bebe45",
   "metadata": {},
   "outputs": [],
   "source": [
    "# 基底解を与えて解く"
   ]
  },
  {
   "cell_type": "code",
   "execution_count": null,
   "id": "630cd841",
   "metadata": {},
   "outputs": [],
   "source": [
    "c_eq = P_f.getConstrByName(\"c_eq\")"
   ]
  },
  {
   "cell_type": "code",
   "execution_count": null,
   "id": "18a3cede",
   "metadata": {},
   "outputs": [],
   "source": [
    "print(c_eq)"
   ]
  },
  {
   "cell_type": "code",
   "execution_count": null,
   "id": "e406d67d",
   "metadata": {
    "scrolled": true
   },
   "outputs": [],
   "source": [
    "c = P_l.getConstrs()\n",
    "print(c)"
   ]
  },
  {
   "cell_type": "code",
   "execution_count": null,
   "id": "ccf3fc58",
   "metadata": {
    "scrolled": true
   },
   "outputs": [],
   "source": [
    "VBases__ = []\n",
    "var_names = ['s', 'r', 'c', 'p', 'q']\n",
    "for i in var_names:\n",
    "    for j in range(len(former)):\n",
    "        VBases__.append(P_f.getVarByName(i+'['+str(j)+']').VBasis)\n",
    "    for j in range(len(latter)):\n",
    "        VBases__.append(P_l.getVarByName(i+'['+str(j)+']').VBasis)\n",
    "#VBases__ = [var.VBasis for var in P_f.getVars()+P_l.getVars()]\n",
    "\n",
    "CBases__ = [] #[constr.CBasis for constr in P_f.getConstrs()+P_l.getConstrs()]\n",
    "#constr_names = [\"c_leq\", \"c_eq\"]\n",
    "#for i in constr_names:\n",
    "for j in range(As_1.shape[0]):\n",
    "    CBases__.append(P_f.getConstrByName('c_leq['+str(j)+']').CBasis)\n",
    "for j in range(As_2.shape[0]):\n",
    "    CBases__.append(P_l.getConstrByName('c_leq['+str(j)+']').CBasis)\n",
    "for j in range(Ac_eq_1.shape[0]):\n",
    "    CBases__.append(P_f.getConstrByName('c_eq['+str(j)+']').CBasis)\n",
    "for j in range(Ac_eq_2.shape[0]):\n",
    "    CBases__.append(P_l.getConstrByName('c_eq['+str(j)+']').CBasis)\n",
    "\n",
    "VBases__prime = [var.VBasis for var in Pf_plus_Pl.getVars()]\n",
    "CBases__prime = [constr.CBasis for constr in Pf_plus_Pl.getConstrs()]"
   ]
  },
  {
   "cell_type": "code",
   "execution_count": null,
   "id": "c00670e7",
   "metadata": {},
   "outputs": [],
   "source": []
  },
  {
   "cell_type": "code",
   "execution_count": null,
   "id": "19c01ee2",
   "metadata": {},
   "outputs": [],
   "source": [
    "len(VBases__) == len(VBases__prime)"
   ]
  },
  {
   "cell_type": "code",
   "execution_count": null,
   "id": "dcba267f",
   "metadata": {
    "scrolled": true
   },
   "outputs": [],
   "source": [
    "for ind, i in enumerate(zip(VBases__, VBases__prime)):\n",
    "    if i[0]!=i[1]:\n",
    "        print(ind, \"\\t\", i[0], i[1])"
   ]
  },
  {
   "cell_type": "code",
   "execution_count": null,
   "id": "d0578b36",
   "metadata": {
    "scrolled": true
   },
   "outputs": [],
   "source": [
    "for i, i_prime in zip(CBases__, CBases__prime):\n",
    "    if i!=i_prime:\n",
    "        print(i, i_prime)"
   ]
  },
  {
   "cell_type": "code",
   "execution_count": null,
   "id": "89c7b086",
   "metadata": {},
   "outputs": [],
   "source": [
    "import formulation\n",
    "import importlib\n",
    "importlib.reload(formulation)\n",
    "Pf_plus_Pl = formulation.solve_dual(As_, Ac_eq_, Ac_leq_, Ar_eq_, Ar_leq_, Ap_, Aq_, b_eq_, b_leq_, op, oq, \\\n",
    "                                                                  instance_name+\"Pf_plus_Pl\", len(former)+len(latter), VBases__, CBases__)"
   ]
  },
  {
   "cell_type": "code",
   "execution_count": null,
   "id": "63f7df9e",
   "metadata": {},
   "outputs": [],
   "source": [
    "Pf_plus_Pl.getObjective().getValue()"
   ]
  },
  {
   "cell_type": "code",
   "execution_count": null,
   "id": "5155e21e",
   "metadata": {},
   "outputs": [],
   "source": [
    "P_f.getObjective().getValue() + P_l.getObjective().getValue()"
   ]
  },
  {
   "cell_type": "code",
   "execution_count": null,
   "id": "ffc95c6d",
   "metadata": {},
   "outputs": [],
   "source": []
  },
  {
   "cell_type": "code",
   "execution_count": 57,
   "id": "a686eee4",
   "metadata": {},
   "outputs": [],
   "source": [
    "num_vars_1 = b_leq.shape[0]\n",
    "num_vars_2 = b_eq.shape[0]"
   ]
  },
  {
   "cell_type": "code",
   "execution_count": 58,
   "id": "baf276a0",
   "metadata": {},
   "outputs": [
    {
     "name": "stdout",
     "output_type": "stream",
     "text": [
      "Changed value of parameter Presolve to 0\n",
      "   Prev: -1  Min: -1  Max: 2  Default: -1\n",
      "Changed value of parameter Method to 0\n",
      "   Prev: -1  Min: -1  Max: 5  Default: -1\n",
      "Gurobi Optimizer version 9.0.2 build v9.0.2rc0 (mac64)\n",
      "Optimize a model with 505 rows, 528 columns and 1278 nonzeros\n",
      "Coefficient statistics:\n",
      "  Matrix range     [1e+00, 1e+00]\n",
      "  Objective range  [1e-01, 1e+03]\n",
      "  Bounds range     [1e+03, 1e+03]\n",
      "  RHS range        [1e+00, 1e+00]\n",
      "Crossover log...\n",
      "\n",
      "       0 DPushes remaining with DInf 1.5635349e+03                 0s\n",
      "\n",
      "      73 PPushes remaining with PInf 0.0000000e+00                 0s\n",
      "       0 PPushes remaining with PInf 0.0000000e+00                 0s\n",
      "\n",
      "  Push phase complete: Pinf 0.0000000e+00, Dinf 2.9286108e+03      0s\n",
      "\n",
      "Iteration    Objective       Primal Inf.    Dual Inf.      Time\n",
      "     224    1.3499757e+03   0.000000e+00   2.928611e+03      0s\n",
      "\n",
      "Solved in 339 iterations and 0.10 seconds\n",
      "Optimal objective  2.881641047e+03\n"
     ]
    }
   ],
   "source": [
    "import importlib\n",
    "importlib.reload(formulation)\n",
    "D_2 = formulation.solve_dual_2(As, Ac_eq, Ac_leq, Ar_eq, Ar_leq, Ap, Aq, b_eq, b_leq, op, oq, \\\n",
    "                                                   instance_name+\"D\", num_vars_1, num_vars_2, PStarts, DStarts)"
   ]
  },
  {
   "cell_type": "code",
   "execution_count": 59,
   "id": "ccb9f59e",
   "metadata": {},
   "outputs": [
    {
     "data": {
      "text/plain": [
       "False"
      ]
     },
     "execution_count": 59,
     "metadata": {},
     "output_type": "execute_result"
    }
   ],
   "source": [
    "D.getVars() == D_2.getVars()"
   ]
  },
  {
   "cell_type": "code",
   "execution_count": null,
   "id": "19724075",
   "metadata": {},
   "outputs": [],
   "source": [
    "for var, var_2 in zip(D.getVars(), D_2.getVars()):\n",
    "    print(var.varName, var.X, \"\\t\", var_2.X)"
   ]
  }
 ],
 "metadata": {
  "kernelspec": {
   "display_name": "Python 3",
   "language": "python",
   "name": "python3"
  },
  "language_info": {
   "codemirror_mode": {
    "name": "ipython",
    "version": 3
   },
   "file_extension": ".py",
   "mimetype": "text/x-python",
   "name": "python",
   "nbconvert_exporter": "python",
   "pygments_lexer": "ipython3",
   "version": "3.7.7"
  }
 },
 "nbformat": 4,
 "nbformat_minor": 5
}
