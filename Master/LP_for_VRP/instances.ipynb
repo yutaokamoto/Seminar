{
 "cells": [
  {
   "cell_type": "code",
   "execution_count": 1,
   "id": "a7412473",
   "metadata": {},
   "outputs": [],
   "source": [
    "class Customer():\n",
    "    def __init__(self, x, y, d, e, l, s):\n",
    "        self.x = x\n",
    "        self.y = y\n",
    "        self.d = d\n",
    "        self.e = e\n",
    "        self.l = l\n",
    "        self.s = s"
   ]
  },
  {
   "cell_type": "markdown",
   "id": "1c2f1aa5",
   "metadata": {},
   "source": [
    "# インスタンスを作成する関数"
   ]
  },
  {
   "cell_type": "code",
   "execution_count": 2,
   "id": "7b26657b",
   "metadata": {},
   "outputs": [],
   "source": [
    "def make_instance():\n",
    "    import random\n",
    "    random.seed(0)\n",
    "    Customers = {}\n",
    "    Customers[\"depot\"] = Customer(0,0,0,0,1000,0)\n",
    "    # ここにコードを書く\n",
    "    # ランダムに顧客数を決める\n",
    "    N = 10#random.randint(10, 10000)\n",
    "    # ランダムに各顧客の情報(座標、時間枠, サービスタイム)を決める\n",
    "    lower = 1\n",
    "    for i in range(N):\n",
    "        x = random.randint(0,10)\n",
    "        y = random.randint(0,10)\n",
    "        d = 0\n",
    "        e = random.randint(lower,lower+2)\n",
    "        l = random.randint(e,e+5)\n",
    "        s = 0\n",
    "        Customers[i] = Customer(x, y, d, e, l, s)\n",
    "        lower = l\n",
    "    return Customers"
   ]
  },
  {
   "cell_type": "markdown",
   "id": "8fb90a18",
   "metadata": {},
   "source": [
    "# インスタンス化"
   ]
  },
  {
   "cell_type": "code",
   "execution_count": 3,
   "id": "f868f6f9",
   "metadata": {
    "scrolled": true
   },
   "outputs": [],
   "source": [
    "Customers = make_instance()"
   ]
  },
  {
   "cell_type": "markdown",
   "id": "fa955394",
   "metadata": {},
   "source": [
    "## 値の表示"
   ]
  },
  {
   "cell_type": "code",
   "execution_count": 4,
   "id": "98781715",
   "metadata": {
    "scrolled": true
   },
   "outputs": [
    {
     "name": "stdout",
     "output_type": "stream",
     "text": [
      "\t ['x', 'y', 'd', 'e', 'l', 's']\n",
      "depot\t0 0 0 0 1000 0 \n",
      "0\t6 6 0 1 3 0 \n",
      "1\t8 7 0 4 6 0 \n",
      "2\t7 5 0 8 9 0 \n",
      "3\t8 2 0 10 11 0 \n",
      "4\t1 9 0 12 16 0 \n",
      "5\t9 2 0 17 17 0 \n",
      "6\t1 10 0 18 21 0 \n",
      "7\t8 1 0 22 25 0 \n",
      "8\t5 9 0 27 28 0 \n",
      "9\t8 7 0 29 33 0 \n"
     ]
    }
   ],
   "source": [
    "# 顧客全体の各値を確認\n",
    "print(\"\\t\", list(vars(Customers[\"depot\"]).keys()))\n",
    "for i in Customers.keys():\n",
    "    print(i, end=\"\\t\")\n",
    "    for key, val in vars(Customers[i]).items():\n",
    "        print(val, end=\" \")\n",
    "    print()"
   ]
  },
  {
   "cell_type": "code",
   "execution_count": 5,
   "id": "38a3f599",
   "metadata": {
    "scrolled": true
   },
   "outputs": [
    {
     "name": "stdout",
     "output_type": "stream",
     "text": [
      "0\t[1, 3]\n",
      "1\t[4, 6]\n",
      "2\t[8, 9]\n",
      "3\t[10, 11]\n",
      "4\t[12, 16]\n",
      "5\t[17, 17]\n",
      "6\t[18, 21]\n",
      "7\t[22, 25]\n",
      "8\t[27, 28]\n",
      "9\t[29, 33]\n"
     ]
    }
   ],
   "source": [
    "# 全体の顧客の時間枠を確認\n",
    "for i in range(len(Customers)-1):\n",
    "    print(f\"{i}\\t[{Customers[i].e}, {Customers[i].l}]\")"
   ]
  },
  {
   "cell_type": "markdown",
   "id": "3f844e50",
   "metadata": {},
   "source": [
    "# 巡回路"
   ]
  },
  {
   "cell_type": "code",
   "execution_count": 7,
   "id": "de1ccd3f",
   "metadata": {},
   "outputs": [],
   "source": [
    "tour = list(Customers.keys())[1:]"
   ]
  },
  {
   "cell_type": "code",
   "execution_count": 9,
   "id": "cf5e8d43",
   "metadata": {},
   "outputs": [
    {
     "data": {
      "text/plain": [
       "10"
      ]
     },
     "execution_count": 9,
     "metadata": {},
     "output_type": "execute_result"
    }
   ],
   "source": [
    "n = len(tour)\n",
    "n"
   ]
  },
  {
   "cell_type": "code",
   "execution_count": 40,
   "id": "228e18ce",
   "metadata": {},
   "outputs": [
    {
     "data": {
      "text/plain": [
       "3"
      ]
     },
     "execution_count": 40,
     "metadata": {},
     "output_type": "execute_result"
    }
   ],
   "source": [
    "import random\n",
    "random.seed(0)\n",
    "n_pair = random.randint(0, n//2)\n",
    "n_pair"
   ]
  },
  {
   "cell_type": "code",
   "execution_count": 51,
   "id": "ad961273",
   "metadata": {},
   "outputs": [
    {
     "name": "stdout",
     "output_type": "stream",
     "text": [
      "p=  5 , d =  9\n",
      "demand of 'p' =  0\n",
      "9 0\n",
      "\n",
      "p=  7 , d =  9\n",
      "demand of 'p' =  0\n",
      "9 0\n",
      "\n",
      "p=  5 , d =  6\n",
      "demand of 'p' =  0\n",
      "6 0\n",
      "\n"
     ]
    }
   ],
   "source": [
    "pickup = set()\n",
    "for i in range(n_pair):\n",
    "    p, d = -1, -1\n",
    "    while p==d:\n",
    "        p = random.randint(0, n-1)\n",
    "        d = random.randint(p, n-1)\n",
    "    pickup |= {p}\n",
    "    print(\"p= \", p, \", d = \", d)\n",
    "    Customers[p].t = random.randint(0,1000)\n",
    "    print(\"demand of 'p' = \", Customers[p].d)\n",
    "    if Customers[d].d >= 0:\n",
    "        Customers[d].d = 0\n",
    "    Customers[d].d -= Customers[p].d\n",
    "    print(Customers[d].d)\n",
    "    print()\n",
    "    #pair = [random.randint(0, n) for _ in range(2)]\n",
    "#for i in Customers.values():\n",
    "#    print(i.d)"
   ]
  },
  {
   "cell_type": "code",
   "execution_count": null,
   "id": "8f9ebf95",
   "metadata": {},
   "outputs": [],
   "source": []
  },
  {
   "cell_type": "code",
   "execution_count": null,
   "id": "edb6e17f",
   "metadata": {},
   "outputs": [],
   "source": [
    "tour = list(Customers.keys())[1:] + [\"depot\"]"
   ]
  },
  {
   "cell_type": "code",
   "execution_count": null,
   "id": "be1ccb39",
   "metadata": {
    "scrolled": true
   },
   "outputs": [],
   "source": [
    "tour"
   ]
  },
  {
   "cell_type": "code",
   "execution_count": null,
   "id": "f56f98c2",
   "metadata": {},
   "outputs": [],
   "source": []
  },
  {
   "cell_type": "code",
   "execution_count": null,
   "id": "4575b2d4",
   "metadata": {},
   "outputs": [],
   "source": []
  }
 ],
 "metadata": {
  "kernelspec": {
   "display_name": "Python 3",
   "language": "python",
   "name": "python3"
  },
  "language_info": {
   "codemirror_mode": {
    "name": "ipython",
    "version": 3
   },
   "file_extension": ".py",
   "mimetype": "text/x-python",
   "name": "python",
   "nbconvert_exporter": "python",
   "pygments_lexer": "ipython3",
   "version": "3.7.7"
  }
 },
 "nbformat": 4,
 "nbformat_minor": 5
}
