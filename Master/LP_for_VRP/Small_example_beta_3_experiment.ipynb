{
 "cells": [
  {
   "cell_type": "markdown",
   "metadata": {},
   "source": [
    "# コマンドライン引数"
   ]
  },
  {
   "cell_type": "code",
   "execution_count": null,
   "metadata": {},
   "outputs": [],
   "source": [
    "import sys\n",
    "\n",
    "args = sys.argv"
   ]
  },
  {
   "cell_type": "code",
   "execution_count": null,
   "metadata": {},
   "outputs": [],
   "source": [
    "instance = args[]"
   ]
  },
  {
   "cell_type": "code",
   "execution_count": null,
   "metadata": {},
   "outputs": [],
   "source": [
    "time_limit = int(args[3])"
   ]
  },
  {
   "cell_type": "code",
   "execution_count": null,
   "metadata": {},
   "outputs": [],
   "source": [
    "output_file = args[1]+\"_N\"+str(N)+\"_TL\"+str(time_limit)+\".txt\""
   ]
  },
  {
   "cell_type": "code",
   "execution_count": null,
   "metadata": {},
   "outputs": [],
   "source": [
    "print(output_file)"
   ]
  },
  {
   "cell_type": "markdown",
   "metadata": {},
   "source": [
    "# 問題例の読み込み"
   ]
  },
  {
   "cell_type": "code",
   "execution_count": 1,
   "metadata": {},
   "outputs": [],
   "source": [
    "inputfile = \"/Desktop/yutaokamoto_mac/Seminar/Master/LP_for_VRP/T1-cvrppdtw/10T1.DAT\""
   ]
  },
  {
   "cell_type": "code",
   "execution_count": null,
   "metadata": {},
   "outputs": [],
   "source": [
    "with open(inputfile) as f:\n",
    "    f.readline"
   ]
  },
  {
   "cell_type": "markdown",
   "metadata": {},
   "source": [
    "# 問題例の作成"
   ]
  },
  {
   "cell_type": "code",
   "execution_count": null,
   "metadata": {},
   "outputs": [],
   "source": [
    "class Timewindow():\n",
    "    def __init__(self, e, l):\n",
    "        self.e = e\n",
    "        self.l = l"
   ]
  },
  {
   "cell_type": "code",
   "execution_count": null,
   "metadata": {},
   "outputs": [],
   "source": [
    "class Coordinate():\n",
    "    def __init__(self, x, y):\n",
    "        self.x = x\n",
    "        self.y = y"
   ]
  },
  {
   "cell_type": "code",
   "execution_count": null,
   "metadata": {},
   "outputs": [],
   "source": [
    "class Customer():\n",
    "    def __init__(self, d, tw, coo, penalty, reward):\n",
    "        self.demand = d\n",
    "        self.tw = Timewindow(*tw)\n",
    "        self.coordinate = Coordinate(*coo)\n",
    "        self.penalty = penalty\n",
    "        self.reward = reward"
   ]
  },
  {
   "cell_type": "code",
   "execution_count": null,
   "metadata": {},
   "outputs": [],
   "source": [
    "class Vehicle():\n",
    "    def __init__(self, c, tour):\n",
    "        self.capacity = c\n",
    "        self.tour = tour"
   ]
  },
  {
   "cell_type": "code",
   "execution_count": null,
   "metadata": {},
   "outputs": [],
   "source": [
    "class piecewise_func():\n",
    "    def __init__(self, e, l, interception, slope):\n",
    "        self.e, self.l = e, l\n",
    "        self.linear_func = lambda x : interception-(x-e)*slope\n",
    "    def val(self, x):\n",
    "        if x < self.e or self.l < x:\n",
    "            return 0\n",
    "        elif self.e <= x <= self.l:\n",
    "            return self.linear_func(x)"
   ]
  },
  {
   "cell_type": "code",
   "execution_count": null,
   "metadata": {},
   "outputs": [],
   "source": [
    "class Reward_func():\n",
    "    def __init__(self, interception, slope):\n",
    "        self.interception = interception\n",
    "        self.slope = slope"
   ]
  },
  {
   "cell_type": "code",
   "execution_count": null,
   "metadata": {},
   "outputs": [],
   "source": [
    "def ex(N):\n",
    "    \"\"\"\n",
    "    V : 客集合\n",
    "        N : 客数\n",
    "        d : 需要\n",
    "        tw : 時間枠\n",
    "        (x, y) : 座標\n",
    "        penalty : 時間枠を違反した場合にかかる、単位時間あたりの違反料\n",
    "    K : 車両集合\n",
    "        c : 容料\n",
    "        #loading : 現在積んでいる荷物の量\n",
    "        tour : 巡回路\n",
    "    \"\"\"\n",
    "    import random\n",
    "    random.seed(0)\n",
    "    #N = 1024 #random.randint(5, 10)\n",
    "    max_d = N #10\n",
    "    max_tw = N*10 #50\n",
    "    max_co = N*0.2 #10\n",
    "    max_slope = 3\n",
    "    max_interception = 5\n",
    "    V = {}\n",
    "    sum_d = 0\n",
    "    V[0] = Customer(0, [0,max_tw], (0,0), 0, piecewise_func(*(0, max_tw), *(0,0)))\n",
    "    for i in range(1, N+1):\n",
    "        d = random.uniform(-max_d, max_d)\n",
    "        tw = sorted([random.uniform(0, max_tw) for i in range(2)])\n",
    "        x, y = random.uniform(-max_co, max_co), random.uniform(-max_co, max_co)\n",
    "        penalty = random.uniform(1, 10)\n",
    "        slope = (-1)*random.uniform(0, max_slope)\n",
    "        interception = random.uniform(0, max_interception) + (tw[1]-tw[0])*(-slope)\n",
    "        reward = Reward_func(interception, slope)#piecewise_func(*tw, interception, slope)\n",
    "        V[i] = Customer(d, tw, (x, y), penalty, reward)\n",
    "        sum_d += d*(d>0)\n",
    "        \n",
    "    K = {}\n",
    "    min_cap = max_d*0.8\n",
    "    max_cap = max_d*2\n",
    "    \"\"\"\n",
    "    M = 2 # random.randint(N//2, N*2)\n",
    "    for k in range(M):\n",
    "        c = random.uniform(min_cap, max_cap)\n",
    "        K[k] = Vehicle(c, [])\n",
    "    \"\"\"\n",
    "    sum_cap = 0\n",
    "    i = 0\n",
    "    while sum_cap<sum_d*3:\n",
    "        c = random.uniform(min_cap, max_cap)\n",
    "        K[i] = Vehicle(c, {})\n",
    "        sum_cap += c\n",
    "        i += 1\n",
    "    #\"\"\"\n",
    "    return V, K"
   ]
  },
  {
   "cell_type": "markdown",
   "metadata": {},
   "source": [
    "# 問題を解く"
   ]
  },
  {
   "cell_type": "markdown",
   "metadata": {},
   "source": [
    "## 巡回路を生成  \n",
    "先生のソルバーを使う"
   ]
  },
  {
   "cell_type": "code",
   "execution_count": null,
   "metadata": {},
   "outputs": [],
   "source": [
    "V, K = ex(N)"
   ]
  },
  {
   "cell_type": "code",
   "execution_count": null,
   "metadata": {},
   "outputs": [],
   "source": [
    "# 入力\n",
    "## 顧客\n",
    "C={} # 客の座標を保存する辞書\n",
    "TW={} # 客の時間枠を保存する辞書\n",
    "demand={} # 客の要求量(正の値は集荷，負の値は配達)\n",
    "S={} # 客のサービス時間\n",
    "\n",
    "for i in V:\n",
    "    if i != 0:\n",
    "        name=\"c\"+str(i-1)\n",
    "        x, y = V[i].coordinate.x, V[i].coordinate.y\n",
    "        C[name] = (x,y)\n",
    "        e, l = V[i].tw.e, V[i].tw.l\n",
    "        TW[name] = (e,l)\n",
    "        demand[name] = (V[i].demand, )\n",
    "        S[name] = 0 #random.randint(10,20)\n",
    "C[\"depot\"]=(0,0)\n",
    "\n",
    "## 車両\n",
    "M = len(K) # number of vehicles\n",
    "capacities = [(K[k].capacity, ) for k in range(M)] # capacity of vehicle"
   ]
  },
  {
   "cell_type": "code",
   "execution_count": null,
   "metadata": {
    "scrolled": true
   },
   "outputs": [],
   "source": [
    "# 距離関数の定義\n",
    "def Distance(t1,t2):\n",
    "    return ((t1[0]-t2[0])**2+(t1[1]-t2[1])**2)**(0.5)\n",
    "\n",
    "# ソルバーの読み込み\n",
    "import sys\n",
    "sys.path.append('..')\n",
    "\n",
    "#from vrplib.vrp_d_1m1_t_model import *\n",
    "import vrplib.vrp_d_1m1_t_model as vrp\n",
    "\n",
    "# ソルバーの実行\n",
    "model = vrp.Model(\"example\") # モデルインスタンスの生成\n",
    "\n",
    "## 客インスタンスの生成\n",
    "for i in C:\n",
    "    if i == \"depot\":\n",
    "        continue\n",
    "    model += vrp.Customer(i,demand=demand[i],timewindow=TW[i],servicetime=S[i])\n",
    "\n",
    "## 車両インスタンスの生成\n",
    "for k in range(M):\n",
    "    model += vrp.Vehicle(\"v\"+str(k),capacity=capacities[k])\n",
    "    \n",
    "## 枝インスタンスの生成\n",
    "for i in C:\n",
    "    for j in C:\n",
    "        if i!=j:\n",
    "            dist = time = Distance(C[i],C[j])\n",
    "            model += vrp.Edge(i,j,dist,time)"
   ]
  },
  {
   "cell_type": "code",
   "execution_count": null,
   "metadata": {
    "scrolled": true
   },
   "outputs": [],
   "source": [
    "## 最適化の実行\n",
    "obj=model.optimize(IterLimit=100000,TimeLimit=time_limit,Verbose=False,OutputFlag=False)"
   ]
  },
  {
   "cell_type": "markdown",
   "metadata": {},
   "source": [
    "## 各車両の巡回路を保存"
   ]
  },
  {
   "cell_type": "code",
   "execution_count": null,
   "metadata": {},
   "outputs": [],
   "source": [
    "for v in model.vehiclesL:\n",
    "    K[int(v.name[1:])].tour = (0,) + tuple(map(lambda x:int(x.name[1:])+1, v.routing[1:-1]))"
   ]
  },
  {
   "cell_type": "markdown",
   "metadata": {},
   "source": [
    "## 巡回路を評価（各顧客の出発時刻を決める）  \n",
    "どのくらい時間がかかるか調べる"
   ]
  },
  {
   "cell_type": "code",
   "execution_count": null,
   "metadata": {},
   "outputs": [],
   "source": [
    "def distance(i, j, V):\n",
    "    x0 = V[i].coordinate.x\n",
    "    y0 = V[i].coordinate.y\n",
    "    x1 = V[j].coordinate.x\n",
    "    y1 = V[j].coordinate.y\n",
    "    return ((x0-x1)**2 + (y0-y1)**2)**(1/2)"
   ]
  },
  {
   "cell_type": "code",
   "execution_count": null,
   "metadata": {
    "scrolled": false
   },
   "outputs": [],
   "source": [
    "import gurobipy as gp\n",
    "\n",
    "# インスタンスの生成\n",
    "m = gp.Model(\"LP_for_VRP_small\")\n",
    "\n",
    "# 定数を設定\n",
    "#V, K = ex() #ex_small()\n",
    "\n",
    "# 変数を設定\n",
    "\"\"\"\n",
    "x_ik : 顧客iへ車両kが到着する時刻を表す変数\n",
    "y_i : 車両が顧客iに到着する時刻が、顧客iの時間枠に対して、どの程度違反しているかを表す変数\n",
    "\"\"\"\n",
    "x = {(i,k):m.addVar(vtype=gp.GRB.CONTINUOUS, name=f\"x({i},{k})\") for k in K for i in K[k].tour}\n",
    "y = {i:m.addVar(vtype=gp.GRB.CONTINUOUS, name=f\"y({i})\") for i in V}\n",
    "\n",
    "m.update()"
   ]
  },
  {
   "cell_type": "code",
   "execution_count": null,
   "metadata": {},
   "outputs": [],
   "source": [
    "# 目的関数を設定\n",
    "## 各顧客iの到着時刻x_ikと顧客iの時間枠を元に計算した違反料の和を最小化する\n",
    "m.setObjective(gp.quicksum(V[i].penalty*y[i] for i in V), sense=gp.GRB.MINIMIZE)"
   ]
  },
  {
   "cell_type": "code",
   "execution_count": null,
   "metadata": {},
   "outputs": [],
   "source": [
    "# 制約条件を設定\n",
    "## 時間枠の違反に関する制約\n",
    "for k in K:\n",
    "    for i in K[k].tour:\n",
    "        #m.addConstr(y[i,k] == penalty(i, x[i,k], V))\n",
    "        m.addConstr(V[i].tw.e-y[i] <= x[i,k])\n",
    "        m.addConstr(x[i,k] <= V[i].tw.l+y[i])\n",
    "## 任意の車両の巡回路内における、各顧客への到着時刻の先行、後行に関する制約\n",
    "for k in K:\n",
    "    for idx_p, i_p in enumerate(K[k].tour):\n",
    "        for idx_f, i_f in enumerate(K[k].tour):\n",
    "            if idx_p < idx_f:\n",
    "                #print(f\"顧客{i_p}は顧客{i_f}よりも先に訪れられる\")\n",
    "                m.addConstr(x[i_p, k] + distance(i_p, i_f, V) <= x[i_f, k])\n",
    "## 全ての車両はデポを出発し、サービス時間内に到着するという制約\n",
    "for k in K:\n",
    "    m.addConstr(0 <= x[0,k])"
   ]
  },
  {
   "cell_type": "code",
   "execution_count": null,
   "metadata": {},
   "outputs": [],
   "source": [
    "import time\n",
    "\n",
    "# 時間計測スタート\n",
    "start = time.time()\n",
    "\n",
    "# 最適化\n",
    "m.optimize()\n",
    "\n",
    "# 時間計測ストップ\n",
    "elapsed_time = time.time() - start\n",
    "\n",
    "fea_flag = False\n",
    "if m.Status == gp.GRB.OPTIMAL:\n",
    "    fea_flag = True\n",
    "    \n",
    "objval = m.ObjVal\n",
    "                \n",
    "\"\"\"# 解の表示\n",
    "if m.Status == gp.GRB.OPTIMAL:\n",
    "    for k in K:\n",
    "        for i in K[k].tour:\n",
    "            print(f\"車両{k}が顧客{i}に到着する時刻は、{x[i, k].X}\")\n",
    "    print(\"最適値 : \", m.ObjVal)\n",
    "    \n",
    "print('\\033[31m'+f\"実時間\\t{elapsed_time}\"+'\\033[0m')\"\"\""
   ]
  },
  {
   "cell_type": "markdown",
   "metadata": {},
   "source": [
    "# ファイルに結果を出力"
   ]
  },
  {
   "cell_type": "code",
   "execution_count": null,
   "metadata": {},
   "outputs": [],
   "source": [
    "print(f\"顧客数 : {N}, 実行可能性 : {fea_flag}, 目的関数値 : {objval}, 実時間 : {elapsed_time}\")"
   ]
  },
  {
   "cell_type": "code",
   "execution_count": null,
   "metadata": {},
   "outputs": [],
   "source": [
    "with open(output_file, mode=\"w\") as f:\n",
    "    f.write(\"Number of customers : \"+str(N)+\"\\n\")\n",
    "    f.write(\"Feasibility : \"+str(fea_flag)+\"\\n\")\n",
    "    f.write(\"Objective value : \"+str(objval)+\"\\n\")\n",
    "    f.write(\"Execution time : \"+str(elapsed_time)+\"\\n\")\n",
    "    #f.write(\"顧客数 : \"+str(N)+\"\\n\"+\"実行可能性 : \"+str(fea_flag)+\"\\n\"+\"目的関数値 : \"+str(objval)+\"\\n\"+\"実時間 : \"+str(elapsed_time)+\"\\n\")"
   ]
  }
 ],
 "metadata": {
  "kernelspec": {
   "display_name": "Python 3",
   "language": "python",
   "name": "python3"
  },
  "language_info": {
   "codemirror_mode": {
    "name": "ipython",
    "version": 3
   },
   "file_extension": ".py",
   "mimetype": "text/x-python",
   "name": "python",
   "nbconvert_exporter": "python",
   "pygments_lexer": "ipython3",
   "version": "3.7.7"
  }
 },
 "nbformat": 4,
 "nbformat_minor": 4
}
