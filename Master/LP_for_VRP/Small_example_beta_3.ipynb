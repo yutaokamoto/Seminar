{
 "cells": [
  {
   "cell_type": "markdown",
   "metadata": {},
   "source": [
    "# 問題例の作成"
   ]
  },
  {
   "cell_type": "code",
   "execution_count": 384,
   "metadata": {},
   "outputs": [],
   "source": [
    "class Timewindow():\n",
    "    def __init__(self, e, l):\n",
    "        self.e = e\n",
    "        self.l = l"
   ]
  },
  {
   "cell_type": "code",
   "execution_count": 385,
   "metadata": {},
   "outputs": [],
   "source": [
    "class Coordinate():\n",
    "    def __init__(self, x, y):\n",
    "        self.x = x\n",
    "        self.y = y"
   ]
  },
  {
   "cell_type": "code",
   "execution_count": 386,
   "metadata": {},
   "outputs": [],
   "source": [
    "class Customer():\n",
    "    def __init__(self, d, tw, coo, penalty, reward):\n",
    "        self.demand = d\n",
    "        self.tw = Timewindow(*tw)\n",
    "        self.coordinate = Coordinate(*coo)\n",
    "        self.penalty = penalty\n",
    "        self.reward = reward"
   ]
  },
  {
   "cell_type": "code",
   "execution_count": 387,
   "metadata": {},
   "outputs": [],
   "source": [
    "class Vehicle():\n",
    "    def __init__(self, c, tour):\n",
    "        self.capacity = c\n",
    "        self.tour = tour"
   ]
  },
  {
   "cell_type": "code",
   "execution_count": 388,
   "metadata": {},
   "outputs": [],
   "source": [
    "class piecewise_func():\n",
    "    def __init__(self, e, l, interception, slope):\n",
    "        self.e, self.l = e, l\n",
    "        self.linear_func = lambda x : interception-(x-e)*slope\n",
    "    def val(self, x):\n",
    "        if x < self.e or self.l < x:\n",
    "            return 0\n",
    "        elif self.e <= x <= self.l:\n",
    "            return self.linear_func(x)"
   ]
  },
  {
   "cell_type": "code",
   "execution_count": 389,
   "metadata": {},
   "outputs": [],
   "source": [
    "class Reward_func():\n",
    "    def __init__(self, interception, slope):\n",
    "        self.interception = interception\n",
    "        self.slope = slope"
   ]
  },
  {
   "cell_type": "code",
   "execution_count": 442,
   "metadata": {},
   "outputs": [],
   "source": [
    "def ex():\n",
    "    \"\"\"\n",
    "    V : 客集合\n",
    "        N : 客数\n",
    "        d : 需要\n",
    "        tw : 時間枠\n",
    "        (x, y) : 座標\n",
    "        penalty : 時間枠を違反した場合にかかる、単位時間あたりの違反料\n",
    "    K : 車両集合\n",
    "        c : 容料\n",
    "        #loading : 現在積んでいる荷物の量\n",
    "        tour : 巡回路\n",
    "    \"\"\"\n",
    "    import random\n",
    "    random.seed(0)\n",
    "    N = 5 #random.randint(5, 10)\n",
    "    max_d = 10\n",
    "    max_tw = 50\n",
    "    max_co = 10\n",
    "    max_slope = 3\n",
    "    max_interception = 5\n",
    "    V = {}\n",
    "    sum_d = 0\n",
    "    V[0] = Customer(0, [0,max_tw], (0,0), 0, piecewise_func(*(0, max_tw), *(0,0)))\n",
    "    for i in range(1, N+1):\n",
    "        d = random.uniform(-max_d, max_d)\n",
    "        tw = sorted([random.uniform(0, max_tw) for i in range(2)])\n",
    "        x, y = random.uniform(-max_co, max_co), random.uniform(-max_co, max_co)\n",
    "        penalty = random.uniform(1, 10)\n",
    "        slope = (-1)*random.uniform(0, max_slope)\n",
    "        interception = random.uniform(0, max_interception) + (tw[1]-tw[0])*(-slope)\n",
    "        reward = Reward_func(interception, slope)#piecewise_func(*tw, interception, slope)\n",
    "        V[i] = Customer(d, tw, (x, y), penalty, reward)\n",
    "        sum_d += d*(d>0)\n",
    "        \n",
    "    K = {}\n",
    "    min_cap = max_d\n",
    "    max_cap = max_d//1.2\n",
    "    \"\"\"\n",
    "    M = 2 # random.randint(N//2, N*2)\n",
    "    for k in range(M):\n",
    "        c = random.uniform(min_cap, max_cap)\n",
    "        K[k] = Vehicle(c, [])\n",
    "    \"\"\"\n",
    "    sum_cap = 0\n",
    "    i = 0\n",
    "    while sum_cap<sum_d:\n",
    "        c = random.uniform(min_cap, max_cap*1.5)\n",
    "        K[i] = Vehicle(c, {})\n",
    "        sum_cap += c\n",
    "        i += 1\n",
    "    #\"\"\"\n",
    "    return V, K"
   ]
  },
  {
   "cell_type": "code",
   "execution_count": 443,
   "metadata": {},
   "outputs": [],
   "source": [
    "def ex_small():\n",
    "    \"\"\"\n",
    "    V : 客集合\n",
    "        N : 客数\n",
    "        d : 需要\n",
    "        tw : 時間枠\n",
    "        (x, y) : 座標\n",
    "        penalty : 時間枠を違反した場合にかかる、単位時間あたりの違反料\n",
    "    K : 車両集合\n",
    "        c : 容料\n",
    "        tour : 巡回路\n",
    "    \"\"\"\n",
    "    import random\n",
    "    random.seed(0)\n",
    "    N = 5\n",
    "    V = {}\n",
    "    d_list = [0,1,-2,3,-4,5]\n",
    "    tw_list = [(0,10),(0,10),(1,6),(2,8),(3,7),(4,7)]\n",
    "    coo_list = [(0,0) for i in range(5+1)]#[(0,0),(0,2),(1,3),(2,6),(3,3),(4,10)]\n",
    "    penalty_list = [0,10,10,10,20,20]\n",
    "    linearfunc_list = [(0,0),(1,0),(2,0),(3,0),(4,0),(5,0)]\n",
    "    V[0] = Customer(d_list[0], tw_list[0], coo_list[0], penalty_list[0], piecewise_func(*tw_list[0], *linearfunc_list[0]))\n",
    "    for i in range(1,N+1):\n",
    "        d = d_list[i]\n",
    "        tw = tw_list[i]\n",
    "        x, y = coo_list[i]\n",
    "        penalty = penalty_list[i]\n",
    "        reward = Reward_func(*linearfunc_list[i])#piecewise_func(*tw, *linearfunc_list[i])\n",
    "        V[i] = Customer(d, tw, (x, y), penalty, reward)\n",
    "        \n",
    "    M = 3\n",
    "    c_list = [2,4,6]\n",
    "    K = {k:Vehicle(c_list[k], {}) for k in range(M)}\n",
    "    K[0].tour = [0,1]\n",
    "    K[1].tour = [0,2,3]\n",
    "    K[2].tour = [0,4,5]\n",
    "    \n",
    "    return V, K"
   ]
  },
  {
   "cell_type": "code",
   "execution_count": 444,
   "metadata": {},
   "outputs": [],
   "source": [
    "V, K = ex()"
   ]
  },
  {
   "cell_type": "code",
   "execution_count": 445,
   "metadata": {
    "scrolled": true
   },
   "outputs": [
    {
     "name": "stdout",
     "output_type": "stream",
     "text": [
      "0\t0\n",
      "\t<__main__.Timewindow object at 0x7fdaabc63d90>\n",
      "\t<__main__.Coordinate object at 0x7fdaabc63810>\n",
      "\t0\n",
      "\t<__main__.piecewise_func object at 0x7fdaabc01c50>\n",
      "\t\n",
      "1\t6.888437030500963\n",
      "\t<__main__.Timewindow object at 0x7fdaaafe0610>\n",
      "\t<__main__.Coordinate object at 0x7fdaaafe07d0>\n",
      "\t4.644407237053729\n",
      "\t<__main__.Reward_func object at 0x7fdaabc634d0>\n",
      "\t\n",
      "2\t-0.4680609169528829\n",
      "\t<__main__.Timewindow object at 0x7fdaaafe0510>\n",
      "\t<__main__.Coordinate object at 0x7fdaaafe0d90>\n",
      "\t7.802237837415015\n",
      "\t<__main__.Reward_func object at 0x7fdaaafe00d0>\n",
      "\t\n",
      "3\t8.194925119364804\n",
      "\t<__main__.Timewindow object at 0x7fdaaafe0b90>\n",
      "\t<__main__.Coordinate object at 0x7fdaaafe0fd0>\n",
      "\t7.568485734341158\n",
      "\t<__main__.Reward_func object at 0x7fdaaafe0a90>\n",
      "\t\n",
      "4\t-0.5571456909457329\n",
      "\t<__main__.Timewindow object at 0x7fdaaafe0690>\n",
      "\t<__main__.Coordinate object at 0x7fdaaafe0210>\n",
      "\t9.699457309936829\n",
      "\t<__main__.Reward_func object at 0x7fdaaafe0c10>\n",
      "\t\n",
      "5\t-4.790153792160812\n",
      "\t<__main__.Timewindow object at 0x7fdaaafe0290>\n",
      "\t<__main__.Coordinate object at 0x7fdaaafe0110>\n",
      "\t4.589411880018419\n",
      "\t<__main__.Reward_func object at 0x7fdaaafe0490>\n",
      "\t\n"
     ]
    }
   ],
   "source": [
    "for i in V:\n",
    "    print(i, end=\"\\t\")\n",
    "    for condition in V[i].__dict__.values():\n",
    "        print(condition, end=\"\\n\\t\")\n",
    "    print()"
   ]
  },
  {
   "cell_type": "code",
   "execution_count": 446,
   "metadata": {
    "scrolled": true
   },
   "outputs": [
    {
     "name": "stdout",
     "output_type": "stream",
     "text": [
      "0\t10.002285638628857\n",
      "\t{}\n",
      "\t\n",
      "1\t10.987155732930649\n",
      "\t{}\n",
      "\t\n"
     ]
    }
   ],
   "source": [
    "for k in K:\n",
    "    print(k, end=\"\\t\")\n",
    "    for condition in K[k].__dict__.values():\n",
    "        print(condition, end=\"\\n\\t\")\n",
    "    print()"
   ]
  },
  {
   "cell_type": "code",
   "execution_count": 447,
   "metadata": {},
   "outputs": [
    {
     "data": {
      "text/plain": [
       "9.26800174980634"
      ]
     },
     "execution_count": 447,
     "metadata": {},
     "output_type": "execute_result"
    }
   ],
   "source": [
    "sum(i.demand for i in V.values())"
   ]
  },
  {
   "cell_type": "code",
   "execution_count": 448,
   "metadata": {},
   "outputs": [
    {
     "data": {
      "text/plain": [
       "20.989441371559508"
      ]
     },
     "execution_count": 448,
     "metadata": {},
     "output_type": "execute_result"
    }
   ],
   "source": [
    "sum(i.capacity for i in K.values())"
   ]
  },
  {
   "cell_type": "markdown",
   "metadata": {},
   "source": [
    "# 問題を解く"
   ]
  },
  {
   "cell_type": "markdown",
   "metadata": {},
   "source": [
    "## 巡回路を生成  \n",
    "先生のソルバーを使う"
   ]
  },
  {
   "cell_type": "code",
   "execution_count": 481,
   "metadata": {},
   "outputs": [],
   "source": [
    "V, K = ex()"
   ]
  },
  {
   "cell_type": "code",
   "execution_count": 482,
   "metadata": {},
   "outputs": [],
   "source": [
    "# 入力\n",
    "## 顧客\n",
    "C={} # 客の座標を保存する辞書\n",
    "TW={} # 客の時間枠を保存する辞書\n",
    "demand={} # 客の要求量(正の値は集荷，負の値は配達)\n",
    "S={} # 客のサービス時間\n",
    "\n",
    "for i in V:\n",
    "    if i != 0:\n",
    "        name=\"c\"+str(i-1)\n",
    "        x, y = V[i].coordinate.x, V[i].coordinate.y\n",
    "        C[name] = (x,y)\n",
    "        e, l = V[i].tw.e, V[i].tw.l\n",
    "        TW[name] = (e,l)\n",
    "        demand[name] = (V[i].demand, )\n",
    "        S[name] = 0 #random.randint(10,20)\n",
    "C[\"depot\"]=(0,0)\n",
    "\n",
    "## 車両\n",
    "M = len(K) # number of vehicles\n",
    "capacities = [(K[k].capacity, ) for k in range(M)] # capacity of vehicle"
   ]
  },
  {
   "cell_type": "code",
   "execution_count": 483,
   "metadata": {
    "scrolled": true
   },
   "outputs": [
    {
     "name": "stdout",
     "output_type": "stream",
     "text": [
      "Customer {'c0': (-4.821664994140733, 0.22549442737217085), 'c1': (0.09373711634780513, -4.363243112005923), 'c2': (8.043319008791656, -3.797048613613347), 'c3': (2.217739468876033, 8.260221064757964), 'c4': (-9.719165996719621, 4.394093728079083), 'depot': (0, 0)}\n",
      "Time Window {'c0': (21.02857904154225, 37.89772014701512), 'c1': (29.16910197275156, 45.40564425976676), 'c2': (40.51086179982948, 49.13927380188265), 'c3': (5.03506040341829, 21.708591772689186), 'c4': (27.434965191779465, 40.25139135065112)}\n",
      "Demand {'c0': (6.888437030500963,), 'c1': (-0.4680609169528829,), 'c2': (8.194925119364804,), 'c3': (-0.5571456909457329,), 'c4': (-4.790153792160812,)}\n",
      "Service Time {'c0': 0, 'c1': 0, 'c2': 0, 'c3': 0, 'c4': 0}\n"
     ]
    }
   ],
   "source": [
    "print(\"Customer\",C)\n",
    "print(\"Time Window\",TW)\n",
    "print(\"Demand\",demand)\n",
    "print(\"Service Time\",S)"
   ]
  },
  {
   "cell_type": "code",
   "execution_count": 484,
   "metadata": {},
   "outputs": [
    {
     "data": {
      "image/png": "[encoded data removed]",
      "text/plain": [
       "<Figure size 504x504 with 1 Axes>"
      ]
     },
     "metadata": {},
     "output_type": "display_data"
    }
   ],
   "source": [
    "import networkx as nx\n",
    "import matplotlib.pyplot as plt\n",
    "\n",
    "fig=plt.figure(figsize=(7,7))\n",
    "\n",
    "G=nx.DiGraph()\n",
    "nx.draw_networkx(G,pos=C,nodelist=[i for i in C if i != \"depot\"],node_color=\"y\",node_size=50,with_labels=True,edge_color=\"k\",width=1)\n",
    "nx.draw_networkx(G,pos=C,nodelist=[\"depot\"],node_color=\"blue\",node_shape='s',alpha=0.5,node_size=100,with_labels=True,edge_color=\"k\",width=1)\n",
    "\n",
    "plt.show()"
   ]
  },
  {
   "cell_type": "code",
   "execution_count": 485,
   "metadata": {
    "scrolled": true
   },
   "outputs": [],
   "source": [
    "# 距離関数の定義\n",
    "def Distance(t1,t2):\n",
    "    return ((t1[0]-t2[0])**2+(t1[1]-t2[1])**2)**(0.5)\n",
    "\n",
    "# ソルバーの読み込み\n",
    "import sys\n",
    "sys.path.append('..')\n",
    "\n",
    "#from vrplib.vrp_d_1m1_t_model import *\n",
    "import vrplib.vrp_d_1m1_t_model as vrp\n",
    "\n",
    "# ソルバーの実行\n",
    "model = vrp.Model(\"example\") # モデルインスタンスの生成\n",
    "\n",
    "## 客インスタンスの生成\n",
    "for i in C:\n",
    "    if i == \"depot\":\n",
    "        continue\n",
    "    model += vrp.Customer(i,demand=demand[i],timewindow=TW[i],servicetime=S[i])\n",
    "\n",
    "## 車両インスタンスの生成\n",
    "for k in range(M):\n",
    "    model += vrp.Vehicle(\"v\"+str(k),capacity=capacities[k])\n",
    "    \n",
    "## 枝インスタンスの生成\n",
    "for i in C:\n",
    "    for j in C:\n",
    "        if i!=j:\n",
    "            dist = time = Distance(C[i],C[j])\n",
    "            model += vrp.Edge(i,j,dist,time)"
   ]
  },
  {
   "cell_type": "code",
   "execution_count": 486,
   "metadata": {},
   "outputs": [
    {
     "name": "stdout",
     "output_type": "stream",
     "text": [
      "objective value = 53.59\n",
      "\n",
      "Vehicle v0: {'capacity': (10.002285638628857,)}\n",
      "21.228493 = {'distance': 21.228493, 'freight_1M1': 0.0, 'timecost': 0.0}\n",
      "['c1', 'c2']\n",
      "c1\n",
      "c2\n",
      "\n",
      "Vehicle v1: {'capacity': (10.987155732930649,)}\n",
      "32.358453 = {'distance': 32.358453, 'freight_1M1': 0.0, 'timecost': 0.0}\n",
      "['c3', 'c4', 'c0']\n",
      "c3\n",
      "c4\n",
      "c0\n"
     ]
    }
   ],
   "source": [
    "## 最適化の実行\n",
    "obj=model.optimize(IterLimit=100,TimeLimit=11,Verbose=False,OutputFlag=False)\n",
    "\n",
    "## 得られた解の表示\n",
    "print(\"objective value =\",obj)\n",
    "for v in model.vehiclesL:\n",
    "    print()\n",
    "    print(v)\n",
    "    print(list(map(lambda x:x.name,v.routing[1:-1])))    \n",
    "    for iv in map(lambda x:x.name,v.routing[1:-1]):\n",
    "        print(iv)"
   ]
  },
  {
   "cell_type": "markdown",
   "metadata": {},
   "source": [
    "## 各車両の巡回路を保存"
   ]
  },
  {
   "cell_type": "code",
   "execution_count": 487,
   "metadata": {},
   "outputs": [],
   "source": [
    "for v in model.vehiclesL:\n",
    "    #print(K[v.name[1]])\n",
    "    K[int(v.name[1])].tour = (0,) + tuple(map(lambda x:int(x.name[1])+1, v.routing[1:-1]))"
   ]
  },
  {
   "cell_type": "code",
   "execution_count": 488,
   "metadata": {},
   "outputs": [
    {
     "name": "stdout",
     "output_type": "stream",
     "text": [
      "(0, 2, 3)\n",
      "(0, 4, 5, 1)\n"
     ]
    }
   ],
   "source": [
    "for k in range(len(K)):\n",
    "    print(K[k].tour)"
   ]
  },
  {
   "cell_type": "markdown",
   "metadata": {},
   "source": [
    "## 巡回路を評価（各顧客の出発時刻を決める）  \n",
    "どのくらい時間がかかるか調べる"
   ]
  },
  {
   "cell_type": "code",
   "execution_count": 489,
   "metadata": {},
   "outputs": [],
   "source": [
    "def distance(i, j, V):\n",
    "    x0 = V[i].coordinate.x\n",
    "    y0 = V[i].coordinate.y\n",
    "    x1 = V[j].coordinate.x\n",
    "    y1 = V[j].coordinate.y\n",
    "    return ((x0-x1)**2 + (y0-y1)**2)**(1/2)"
   ]
  },
  {
   "cell_type": "code",
   "execution_count": 490,
   "metadata": {
    "scrolled": false
   },
   "outputs": [],
   "source": [
    "import gurobipy as gp\n",
    "\n",
    "# インスタンスの生成\n",
    "m = gp.Model(\"LP_for_VRP_small\")\n",
    "\n",
    "# 定数を設定\n",
    "#V, K = ex() #ex_small()\n",
    "\n",
    "# 変数を設定\n",
    "\"\"\"\n",
    "x_ik : 顧客iへ車両kが到着する時刻を表す変数\n",
    "y_i : 車両が顧客iに到着する時刻が、顧客iの時間枠に対して、どの程度違反しているかを表す変数\n",
    "z_i : 車両が顧客iに到着する時刻が、顧客iの時間枠に対して、どの程度嬉しいかを表す変数\n",
    "\"\"\"\n",
    "x = {(i,k):m.addVar(vtype=gp.GRB.CONTINUOUS, name=f\"x({i},{k})\") for k in K for i in K[k].tour}\n",
    "y = {i:m.addVar(vtype=gp.GRB.CONTINUOUS, name=f\"y({i})\") for i in V}\n",
    "#z = {i:m.addVar(vtype=gp.GRB.CONTINUOUS, name=f\"z({i})\") for i in V if i != 0}\n",
    "\n",
    "m.update()"
   ]
  },
  {
   "cell_type": "code",
   "execution_count": 491,
   "metadata": {},
   "outputs": [
    {
     "data": {
      "text/plain": [
       "'\\nm.setObjectiveN(gp.quicksum(gp.quicksum(V[i].reward.val(x[i,k]) for i in K[k].tour) for k in K))\\nV[i].reward.val(x[i,k]) for k in K for i in K[k].tour\\n'"
      ]
     },
     "execution_count": 491,
     "metadata": {},
     "output_type": "execute_result"
    }
   ],
   "source": [
    "# 目的関数を設定\n",
    "## 各顧客iの到着時刻x_ikと顧客iの時間枠を元に計算した違反料の和を最小化する\n",
    "m.setObjective(gp.quicksum(V[i].penalty*y[i] for i in V), sense=gp.GRB.MINIMIZE)\n",
    "#m.setObjectiveN(gp.quicksum(V[i].penalty*y[i] for i in V), 1)\n",
    "#m.setObjectiveN(gp.quicksum(-1*z[i] for i in V if i != 0), 2)\n",
    "\"\"\"\n",
    "m.setObjectiveN(gp.quicksum(gp.quicksum(V[i].reward.val(x[i,k]) for i in K[k].tour) for k in K))\n",
    "V[i].reward.val(x[i,k]) for k in K for i in K[k].tour\n",
    "\"\"\""
   ]
  },
  {
   "cell_type": "code",
   "execution_count": 492,
   "metadata": {},
   "outputs": [
    {
     "name": "stdout",
     "output_type": "stream",
     "text": [
      "顧客0は顧客2よりも先に訪れられる\n",
      "顧客0は顧客3よりも先に訪れられる\n",
      "顧客2は顧客3よりも先に訪れられる\n",
      "顧客0は顧客4よりも先に訪れられる\n",
      "顧客0は顧客5よりも先に訪れられる\n",
      "顧客0は顧客1よりも先に訪れられる\n",
      "顧客4は顧客5よりも先に訪れられる\n",
      "顧客4は顧客1よりも先に訪れられる\n",
      "顧客5は顧客1よりも先に訪れられる\n"
     ]
    }
   ],
   "source": [
    "# 制約条件を設定\n",
    "## 時間枠の違反に関する制約\n",
    "for k in K:\n",
    "    for i in K[k].tour:\n",
    "        #m.addConstr(y[i,k] == penalty(i, x[i,k], V))\n",
    "        m.addConstr(V[i].tw.e-y[i] <= x[i,k])\n",
    "        m.addConstr(x[i,k] <= V[i].tw.l+y[i])\n",
    "## 時間枠順守の嬉しさに関する制約\n",
    "\"\"\"for k in K:\n",
    "    for i in K[k].tour:\n",
    "        if i != 0:\n",
    "            #m.addConstr(V[i].reward.val(x[i,k]) <= z[i])\n",
    "            #if V[i].tw.e <= x[i,k] <= V[i].tw.l:\n",
    "            m.addConstr(V[i].reward.interception-(x[i,k]-V[i].tw.e)*V[i].reward.slope <= z[i])\"\"\"\n",
    "## 任意の車両の巡回路内における、各顧客への到着時刻の先行、後行に関する制約\n",
    "for k in K:\n",
    "    for idx_p, i_p in enumerate(K[k].tour):\n",
    "        for idx_f, i_f in enumerate(K[k].tour):\n",
    "            if idx_p < idx_f:\n",
    "                print(f\"顧客{i_p}は顧客{i_f}よりも先に訪れられる\")\n",
    "                m.addConstr(x[i_p, k] + distance(i_p, i_f, V) <= x[i_f, k])\n",
    "## 全ての車両はデポを出発し、サービス時間内に到着するという制約\n",
    "for k in K:\n",
    "    m.addConstr(0 <= x[0,k])"
   ]
  },
  {
   "cell_type": "code",
   "execution_count": 493,
   "metadata": {},
   "outputs": [
    {
     "name": "stdout",
     "output_type": "stream",
     "text": [
      "(0, 2, 3)\n",
      "(0, 4, 5, 1)\n"
     ]
    }
   ],
   "source": [
    "for k in range(M):\n",
    "    print(K[k].tour)"
   ]
  },
  {
   "cell_type": "code",
   "execution_count": 494,
   "metadata": {},
   "outputs": [
    {
     "name": "stdout",
     "output_type": "stream",
     "text": [
      "Gurobi Optimizer version 9.0.2 build v9.0.2rc0 (mac64)\n",
      "Optimize a model with 25 rows, 13 columns and 48 nonzeros\n",
      "Model fingerprint: 0x792222a0\n",
      "Coefficient statistics:\n",
      "  Matrix range     [1e+00, 1e+00]\n",
      "  Objective range  [5e+00, 1e+01]\n",
      "  Bounds range     [0e+00, 0e+00]\n",
      "  RHS range        [4e+00, 5e+01]\n",
      "Presolve removed 19 rows and 7 columns\n",
      "Presolve time: 0.01s\n",
      "Presolved: 6 rows, 6 columns, 12 nonzeros\n",
      "\n",
      "Iteration    Objective       Primal Inf.    Dual Inf.      Time\n",
      "       0    0.0000000e+00   1.556984e+01   0.000000e+00      0s\n",
      "       2    0.0000000e+00   0.000000e+00   0.000000e+00      0s\n",
      "\n",
      "Solved in 2 iterations and 0.01 seconds\n",
      "Optimal objective  0.000000000e+00\n",
      "車両0が顧客0に到着する時刻は、0.0\n",
      "車両0が顧客2に到着する時刻は、29.16910197275156\n",
      "車両0が顧客3に到着する時刻は、49.13927380188265\n",
      "車両1が顧客0に到着する時刻は、0.0\n",
      "車両1が顧客4に到着する時刻は、8.552755134486297\n",
      "車両1が顧客5に到着する時刻は、27.434965191779465\n",
      "車両1が顧客1に到着する時刻は、37.89772014701512\n",
      "最適値 :  0.0\n"
     ]
    }
   ],
   "source": [
    "# 最適化\n",
    "m.optimize()\n",
    "                \n",
    "# 解の表示\n",
    "if m.Status == gp.GRB.OPTIMAL:\n",
    "    for k in K:\n",
    "        for i in K[k].tour:\n",
    "            print(f\"車両{k}が顧客{i}に到着する時刻は、{x[i, k].X}\")\n",
    "    print(\"最適値 : \", m.ObjVal)"
   ]
  },
  {
   "cell_type": "code",
   "execution_count": null,
   "metadata": {},
   "outputs": [],
   "source": []
  }
 ],
 "metadata": {
  "kernelspec": {
   "display_name": "Python 3",
   "language": "python",
   "name": "python3"
  },
  "language_info": {
   "codemirror_mode": {
    "name": "ipython",
    "version": 3
   },
   "file_extension": ".py",
   "mimetype": "text/x-python",
   "name": "python",
   "nbconvert_exporter": "python",
   "pygments_lexer": "ipython3",
   "version": "3.7.7"
  }
 },
 "nbformat": 4,
 "nbformat_minor": 4
}
