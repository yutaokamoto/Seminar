{
 "cells": [
  {
   "cell_type": "code",
   "execution_count": 1,
   "metadata": {},
   "outputs": [],
   "source": [
    "import random\n",
    "n,m=2000,5000\n",
    "A={(i,j): random.random() for i in range(n) for j in range(m)}\n",
    "b={j:random.random() for j in range(m)}\n",
    "c={i:random.random() for i in range(n)}"
   ]
  },
  {
   "cell_type": "code",
   "execution_count": 2,
   "metadata": {},
   "outputs": [],
   "source": [
    "import gurobipy as grb"
   ]
  },
  {
   "cell_type": "code",
   "execution_count": 3,
   "metadata": {},
   "outputs": [
    {
     "name": "stdout",
     "output_type": "stream",
     "text": [
      "Using license file /Users/okamoto/gurobi.lic\n",
      "Academic license - for non-commercial use only\n",
      "Changed value of parameter Method to 0\n",
      "   Prev: -1  Min: -1  Max: 5  Default: -1\n",
      "Changed value of parameter Presolve to 0\n",
      "   Prev: -1  Min: -1  Max: 2  Default: -1\n",
      "Gurobi Optimizer version 9.0.2 build v9.0.2rc0 (mac64)\n",
      "Optimize a model with 5000 rows, 2000 columns and 10000000 nonzeros\n",
      "Model fingerprint: 0x71a96849\n",
      "Coefficient statistics:\n",
      "  Matrix range     [2e-07, 1e+00]\n",
      "  Objective range  [5e-04, 1e+00]\n",
      "  Bounds range     [0e+00, 0e+00]\n",
      "  RHS range        [1e+00, 2e+00]\n",
      "Iteration    Objective       Primal Inf.    Dual Inf.      Time\n",
      "       0   -0.0000000e+00   0.000000e+00   1.012091e+03      1s\n",
      "     477    1.8786657e+00   0.000000e+00   5.183732e+02      7s\n",
      "     757    1.9165925e+00   0.000000e+00   1.181858e+02     11s\n",
      "     931    1.9205299e+00   0.000000e+00   0.000000e+00     14s\n",
      "\n",
      "Solved in 931 iterations and 14.32 seconds\n",
      "Optimal objective  1.920529930e+00\n"
     ]
    }
   ],
   "source": [
    "M=grb.Model(\"test\")\n",
    "x={i:M.addVar() for i in range(n)}\n",
    "const={}\n",
    "\n",
    "for j in range(m):\n",
    "    const[j]=M.addConstr(grb.quicksum(A[i,j]*x[i] for i in range(n)) <= b[j]+1)\n",
    "    \n",
    "M.setObjective(grb.quicksum(c[i]*x[i] for i in range(n)),grb.GRB.MAXIMIZE)\n",
    "\n",
    "M.Params.Method = 0\n",
    "M.Params.Presolve = 0\n",
    "M.optimize()"
   ]
  },
  {
   "cell_type": "code",
   "execution_count": 4,
   "metadata": {},
   "outputs": [
    {
     "name": "stdout",
     "output_type": "stream",
     "text": [
      "Gurobi Optimizer version 9.1.1 build v9.1.1rc0 (mac64)\n",
      "Thread count: 8 physical cores, 16 logical processors, using up to 16 threads\n",
      "Optimize a model with 5000 rows, 2000 columns and 10000000 nonzeros\n",
      "Coefficient statistics:\n",
      "  Matrix range     [1e-09, 1e+00]\n",
      "  Objective range  [9e-04, 1e+00]\n",
      "  Bounds range     [0e+00, 0e+00]\n",
      "  RHS range        [1e+00, 2e+00]\n",
      "\n",
      "Solved in 0 iterations and 0.00 seconds\n",
      "Optimal objective  1.930938224e+00\n"
     ]
    }
   ],
   "source": [
    "M.optimize()"
   ]
  },
  {
   "cell_type": "code",
   "execution_count": 5,
   "metadata": {},
   "outputs": [
    {
     "name": "stdout",
     "output_type": "stream",
     "text": [
      "Changed value of parameter Method to 0\n",
      "   Prev: -1  Min: -1  Max: 5  Default: -1\n",
      "Changed value of parameter Presolve to 0\n",
      "   Prev: -1  Min: -1  Max: 2  Default: -1\n"
     ]
    }
   ],
   "source": [
    "M2=grb.Model(\"test\")\n",
    "x2={i:M2.addVar() for i in range(n)}\n",
    "const2={}\n",
    "\n",
    "M2.Params.Method = 0\n",
    "M2.Params.Presolve = 0\n",
    "\n",
    "for j in range(m):\n",
    "    const2[j]=M2.addConstr(grb.quicksum(A[i,j]*x2[i] for i in range(n)) <= b[j]+1)\n",
    "    \n",
    "M2.setObjective(grb.quicksum(c[i]*x2[i] for i in range(n)),grb.GRB.MAXIMIZE)"
   ]
  },
  {
   "cell_type": "code",
   "execution_count": 7,
   "metadata": {},
   "outputs": [],
   "source": [
    "M2.update()\n",
    "\n",
    "for i in x2:\n",
    "    x2[i].VBasis=x[i].VBasis\n",
    "for j in const2:\n",
    "    const2[j].CBasis=const[j].CBasis"
   ]
  },
  {
   "cell_type": "code",
   "execution_count": 8,
   "metadata": {},
   "outputs": [
    {
     "name": "stdout",
     "output_type": "stream",
     "text": [
      "Gurobi Optimizer version 9.1.1 build v9.1.1rc0 (mac64)\n",
      "Thread count: 8 physical cores, 16 logical processors, using up to 16 threads\n",
      "Optimize a model with 5000 rows, 2000 columns and 10000000 nonzeros\n",
      "Coefficient statistics:\n",
      "  Matrix range     [1e-09, 1e+00]\n",
      "  Objective range  [9e-04, 1e+00]\n",
      "  Bounds range     [0e+00, 0e+00]\n",
      "  RHS range        [1e+00, 2e+00]\n",
      "Iteration    Objective       Primal Inf.    Dual Inf.      Time\n",
      "       0    1.9309382e+00   0.000000e+00   0.000000e+00      0s\n",
      "\n",
      "Solved in 0 iterations and 0.39 seconds\n",
      "Optimal objective  1.930938224e+00\n"
     ]
    }
   ],
   "source": [
    "M2.optimize()"
   ]
  }
 ],
 "metadata": {
  "kernelspec": {
   "display_name": "Python 3",
   "language": "python",
   "name": "python3"
  },
  "language_info": {
   "codemirror_mode": {
    "name": "ipython",
    "version": 3
   },
   "file_extension": ".py",
   "mimetype": "text/x-python",
   "name": "python",
   "nbconvert_exporter": "python",
   "pygments_lexer": "ipython3",
   "version": "3.7.7"
  }
 },
 "nbformat": 4,
 "nbformat_minor": 4
}
