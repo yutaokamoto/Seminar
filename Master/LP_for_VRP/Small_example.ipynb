{
 "cells": [
  {
   "cell_type": "markdown",
   "metadata": {},
   "source": [
    "# 問題例の作成"
   ]
  },
  {
   "cell_type": "code",
   "execution_count": 1,
   "metadata": {},
   "outputs": [],
   "source": [
    "class TW():\n",
    "    def __init__(self, e, l):\n",
    "        self.e = e\n",
    "        self.l = l"
   ]
  },
  {
   "cell_type": "code",
   "execution_count": 2,
   "metadata": {},
   "outputs": [],
   "source": [
    "class Coordinate():\n",
    "    def __init__(self, x, y):\n",
    "        self.x = x\n",
    "        self.y = y"
   ]
  },
  {
   "cell_type": "code",
   "execution_count": 7,
   "metadata": {},
   "outputs": [],
   "source": [
    "class piecewise_func():\n",
    "    def __init__(self, xs, ys):\n",
    "        self.xs = xs\n",
    "        self.ys = ys"
   ]
  },
  {
   "cell_type": "code",
   "execution_count": 8,
   "metadata": {},
   "outputs": [],
   "source": [
    "class Customer():\n",
    "    def __init__(self, d, tw, coo, reward):\n",
    "        self.demand = d\n",
    "        self.tw = TW(tw[0], tw[1])\n",
    "        self.coordinate = Coordinate(coo[0], coo[1])\n",
    "        self.reward = reward"
   ]
  },
  {
   "cell_type": "code",
   "execution_count": 9,
   "metadata": {},
   "outputs": [],
   "source": [
    "class Vehicle():\n",
    "    def __init__(self, c, tour):\n",
    "        self.capacity = c\n",
    "        self.tour = tour"
   ]
  },
  {
   "cell_type": "code",
   "execution_count": 10,
   "metadata": {},
   "outputs": [
    {
     "data": {
      "text/plain": [
       "[0, 10, 20]"
      ]
     },
     "execution_count": 10,
     "metadata": {},
     "output_type": "execute_result"
    }
   ],
   "source": [
    "a = [10,20]\n",
    "b = [0,*a]\n",
    "b"
   ]
  },
  {
   "cell_type": "code",
   "execution_count": null,
   "metadata": {},
   "outputs": [],
   "source": [
    "def ex():\n",
    "    \"\"\"\n",
    "    V : 客集合\n",
    "        N : 客数\n",
    "        d : 需要\n",
    "        tw : 時間枠\n",
    "        (x, y) : 座標\n",
    "        penalty : 時間枠を違反した場合にかかる、単位時間あたりの違反料\n",
    "    K : 車両集合\n",
    "        c : 容料\n",
    "        #loading : 現在積んでいる荷物の量\n",
    "        tour : 巡回路\n",
    "    \"\"\"\n",
    "    import random\n",
    "    random.seed(0)\n",
    "    N = random.randint(10, 50)\n",
    "    max_d = 10\n",
    "    max_tw = 10\n",
    "    max_co = 50\n",
    "    min_penalty = 10\n",
    "    max_penalty = 20\n",
    "    max_reward = 20\n",
    "    V = {}\n",
    "    sum_d = 0\n",
    "    V[0] = Customer(0, [0,max_tw], (0,0), 0, piecewise_func(*(0, max_tw), *(0,0)))\n",
    "    for i in range(1, N+1):\n",
    "        d = random.uniform(-max_d, max_d)\n",
    "        tw = sorted([random.uniform(0, max_tw) for i in range(2)])\n",
    "        x, y = random.uniform(-max_co, max_co), random.uniform(-max_co, max_co)\n",
    "        penalty = random.uniform(min_penalty, max_penalty)\n",
    "        reward_e, reward_l = sorted([random.uniform(0, max_reward) for i in range(2), reverse=True])\n",
    "        if tw[0] != 0:\n",
    "            xs = [0, tw[0]] + tw\n",
    "            ys = [penalty, penalty, reward_e, reward_l]\n",
    "        else:\n",
    "            xs = tw\n",
    "            ys = [reward_e, reward_l]\n",
    "        if tw[1] != S:\n",
    "            tw += [tw[1], S]\n",
    "            ys += [penalty, penalty]\n",
    "        reward = piecewise_func(xs, ys)\n",
    "        V[i] = Customer(d, tw, (x, y), reward)\n",
    "        sum_d += d*(d>0)\n",
    "        \n",
    "    K = {}\n",
    "    min_cap = max_d/7\n",
    "    max_cap = max_d/5\n",
    "    sum_cap = 0\n",
    "    i = 0\n",
    "    while sum_cap<sum_d:\n",
    "        c = random.uniform(min_cap, max_cap)\n",
    "        K[i] = Vehicle(c, {})\n",
    "        sum_cap += c\n",
    "        i += 1\n",
    "    return V, K"
   ]
  },
  {
   "cell_type": "code",
   "execution_count": null,
   "metadata": {},
   "outputs": [],
   "source": [
    "def ex_small():\n",
    "    \"\"\"\n",
    "    V : 客集合\n",
    "        N : 客数\n",
    "        d : 需要\n",
    "        tw : 時間枠\n",
    "        (x, y) : 座標\n",
    "        penalty : 時間枠を違反した場合にかかる、単位時間あたりの違反料\n",
    "    K : 車両集合\n",
    "        c : 容料\n",
    "        tour : 巡回路\n",
    "    \"\"\"\n",
    "    import random\n",
    "    random.seed(0)\n",
    "    N = 5\n",
    "    V = {}\n",
    "    d_list = [0,1,-2,3,-4,5]\n",
    "    tw_list = [(0,10),(0,10),(1,6),(2,8),(3,7),(4,7)]\n",
    "    coo_list = [(0,0) for i in range(5+1)]#[(0,0),(0,2),(1,3),(2,6),(3,3),(4,10)]\n",
    "    penalty_list = [0,10,10,10,20,20]\n",
    "    linearfunc_list = [(0,0),(1,0),(2,0),(3,0),(4,0),(5,0)]\n",
    "    V[0] = Customer(d_list[0], tw_list[0], coo_list[0], penalty_list[0], piecewise_func(*tw_list[0], *linearfunc_list[0]))\n",
    "    for i in range(1,N+1):\n",
    "        d = d_list[i]\n",
    "        tw = tw_list[i]\n",
    "        x, y = coo_list[i]\n",
    "        penalty = penalty_list[i]\n",
    "        reward = Reward_func(*linearfunc_list[i])#piecewise_func(*tw, *linearfunc_list[i])\n",
    "        V[i] = Customer(d, tw, (x, y), penalty, reward)\n",
    "        \n",
    "    M = 3\n",
    "    c_list = [2,4,6]\n",
    "    K = {k:Vehicle(c_list[k], {}) for k in range(M)}\n",
    "    K[0].tour = {0,1}\n",
    "    K[1].tour = {0,2,3}\n",
    "    K[2].tour = {0,4,5}\n",
    "    \n",
    "    return V, K"
   ]
  },
  {
   "cell_type": "code",
   "execution_count": null,
   "metadata": {},
   "outputs": [],
   "source": [
    "V, K = ex()"
   ]
  },
  {
   "cell_type": "code",
   "execution_count": null,
   "metadata": {},
   "outputs": [],
   "source": [
    "for i in V:\n",
    "    print(i, end=\"\\t\")\n",
    "    for condition in V[i].__dict__.values():\n",
    "        print(condition, end=\"\\n\\t\")\n",
    "    print()"
   ]
  },
  {
   "cell_type": "code",
   "execution_count": null,
   "metadata": {},
   "outputs": [],
   "source": [
    "sum(i.demand for i in V.values())"
   ]
  },
  {
   "cell_type": "code",
   "execution_count": null,
   "metadata": {},
   "outputs": [],
   "source": [
    "sum(i.capacity for i in K.values())"
   ]
  },
  {
   "cell_type": "markdown",
   "metadata": {},
   "source": [
    "# 問題を解く"
   ]
  },
  {
   "cell_type": "markdown",
   "metadata": {},
   "source": [
    "## 巡回路を生成  \n",
    "先生のソルバーを使う"
   ]
  },
  {
   "cell_type": "code",
   "execution_count": null,
   "metadata": {
    "scrolled": true
   },
   "outputs": [],
   "source": []
  },
  {
   "cell_type": "markdown",
   "metadata": {},
   "source": [
    "## 巡回路を評価（各顧客の出発時刻を決める）  \n",
    "どのくらい時間がかかるか調べる"
   ]
  },
  {
   "cell_type": "code",
   "execution_count": null,
   "metadata": {},
   "outputs": [],
   "source": [
    "def distance(i, j, V):\n",
    "    x0 = V[i].coordinate.x\n",
    "    y0 = V[i].coordinate.y\n",
    "    x1 = V[j].coordinate.x\n",
    "    y1 = V[j].coordinate.y\n",
    "    return ((x0-x1)**2 + (y0-y1)**2)**(1/2)"
   ]
  },
  {
   "cell_type": "code",
   "execution_count": null,
   "metadata": {
    "scrolled": false
   },
   "outputs": [],
   "source": [
    "import gurobipy as gp\n",
    "\n",
    "# インスタンスの生成\n",
    "m = gp.Model(\"LP_for_VRP_small\")\n",
    "\n",
    "# 定数を設定\n",
    "V, K = ex_small()\n",
    "\n",
    "# 変数を設定\n",
    "\"\"\"\n",
    "x_ik : 顧客iへ車両kが到着する時刻を表す変数\n",
    "y_i : 車両が顧客iに到着する時刻が、顧客iの時間枠に対して、どの程度嬉しいかを表す変数\n",
    "\"\"\"\n",
    "x = {(i,k):m.addVar(vtype=gp.GRB.CONTINUOUS, name=f\"x({i},{k})\") for k in K for i in K[k].tour}\n",
    "y = {i:m.addVar(vtype=gp.GRB.CONTINUOUS, name=f\"y({i})\") for i in V}\n",
    "\n",
    "m.update()"
   ]
  },
  {
   "cell_type": "code",
   "execution_count": null,
   "metadata": {},
   "outputs": [],
   "source": [
    "# 目的関数を設定\n",
    "## 各顧客iの到着時刻x_ikと顧客iの時間枠を元に計算した違反料の和を最小化する\n",
    "m.setObjective(gp.quicksum(y[i] for i in V), sense=gp.GRB.MAXIMIZE)"
   ]
  },
  {
   "cell_type": "code",
   "execution_count": null,
   "metadata": {},
   "outputs": [],
   "source": [
    "# 制約条件を設定\n",
    "## 任意の車両の巡回路内における、各顧客への到着時刻の先行、後行に関する制約\n",
    "for k in K:\n",
    "    for i_p in K[k].tour:\n",
    "        for i_f in K[k].tour:\n",
    "            if i_p != i_f:\n",
    "                m.addConstr(x[i_p, k] + distance(i_p, i_f, V) <= x[i_f, k])\n",
    "## 全ての車両はデポを出発し、サービス時間内に到着するという制約\n",
    "for k in K:\n",
    "    m.addConstr(0 <= x[0,k])"
   ]
  },
  {
   "cell_type": "code",
   "execution_count": null,
   "metadata": {},
   "outputs": [],
   "source": [
    "# 最適化\n",
    "m.optimize()\n",
    "                \n",
    "# 解の表示\n",
    "if m.Status == gp.GRB.OPTIMAL:\n",
    "    for k in K:\n",
    "        for i in K[k].tour:\n",
    "            print(f\"車両{k}が顧客{i}に到着する時刻は、{x[i, k].X}\")\n",
    "    print(\"最適値 : \", m.ObjVal)"
   ]
  },
  {
   "cell_type": "code",
   "execution_count": null,
   "metadata": {},
   "outputs": [],
   "source": []
  }
 ],
 "metadata": {
  "kernelspec": {
   "display_name": "Python 3",
   "language": "python",
   "name": "python3"
  },
  "language_info": {
   "codemirror_mode": {
    "name": "ipython",
    "version": 3
   },
   "file_extension": ".py",
   "mimetype": "text/x-python",
   "name": "python",
   "nbconvert_exporter": "python",
   "pygments_lexer": "ipython3",
   "version": "3.7.7"
  }
 },
 "nbformat": 4,
 "nbformat_minor": 4
}
