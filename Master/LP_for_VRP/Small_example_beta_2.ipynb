{
 "cells": [
  {
   "cell_type": "markdown",
   "metadata": {},
   "source": [
    "# 問題例の作成"
   ]
  },
  {
   "cell_type": "code",
   "execution_count": 1,
   "metadata": {},
   "outputs": [],
   "source": [
    "class TW():\n",
    "    def __init__(self, e, l):\n",
    "        self.e = e\n",
    "        self.l = l"
   ]
  },
  {
   "cell_type": "code",
   "execution_count": 2,
   "metadata": {},
   "outputs": [],
   "source": [
    "class Coordinate():\n",
    "    def __init__(self, x, y):\n",
    "        self.x = x\n",
    "        self.y = y"
   ]
  },
  {
   "cell_type": "code",
   "execution_count": 3,
   "metadata": {},
   "outputs": [],
   "source": [
    "class Customer():\n",
    "    def __init__(self, d, tw, coo, penalty):\n",
    "        self.demand = d\n",
    "        self.tw = TW(tw[0], tw[1])\n",
    "        self.coordinate = Coordinate(coo[0], coo[1])\n",
    "        self.penalty = penalty"
   ]
  },
  {
   "cell_type": "code",
   "execution_count": 4,
   "metadata": {},
   "outputs": [],
   "source": [
    "class Vehicle():\n",
    "    def __init__(self, c, tour):\n",
    "        self.capacity = c\n",
    "        #self.loading = 0\n",
    "        self.tour = tour"
   ]
  },
  {
   "cell_type": "code",
   "execution_count": 22,
   "metadata": {},
   "outputs": [],
   "source": [
    "def ex():\n",
    "    \"\"\"\n",
    "    V : 客集合\n",
    "        N : 客数\n",
    "        d : 需要\n",
    "        tw : 時間枠\n",
    "        (x, y) : 座標\n",
    "        penalty : 時間枠を違反した場合にかかる、単位時間あたりの違反料\n",
    "    K : 車両集合\n",
    "        c : 容料\n",
    "        #loading : 現在積んでいる荷物の量\n",
    "        tour : 巡回路\n",
    "    \"\"\"\n",
    "    import random\n",
    "    random.seed(0)\n",
    "    N = random.randint(10, 50)\n",
    "    max_d = 10\n",
    "    max_tw = 10\n",
    "    max_co = 50\n",
    "    V = {}\n",
    "    sum_d = 0\n",
    "    V[0] = Customer(0, [0,max_tw], (0,0), 0)\n",
    "    for i in range(1, N+1):\n",
    "        d = random.uniform(-max_d, max_d)\n",
    "        tw = sorted([random.uniform(0, max_tw) for i in range(2)])\n",
    "        x, y = random.uniform(-max_co, max_co), random.uniform(-max_co, max_co)\n",
    "        penalty = random.uniform(10, 100)\n",
    "        V[i] = Customer(d, tw, (x, y), penalty)\n",
    "        sum_d += d*(d>0)\n",
    "        \n",
    "    K = {}\n",
    "    min_cap = max_d/7\n",
    "    max_cap = max_d/5\n",
    "    sum_cap = 0\n",
    "    i = 0\n",
    "    while sum_cap<sum_d:\n",
    "        c = random.uniform(min_cap, max_cap)\n",
    "        K[i] = Vehicle(c, {})\n",
    "        sum_cap += c\n",
    "        i += 1\n",
    "    return V, K"
   ]
  },
  {
   "cell_type": "code",
   "execution_count": 23,
   "metadata": {},
   "outputs": [],
   "source": [
    "def ex_small():\n",
    "    \"\"\"\n",
    "    V : 客集合\n",
    "        N : 客数\n",
    "        d : 需要\n",
    "        tw : 時間枠\n",
    "        (x, y) : 座標\n",
    "        penalty : 時間枠を違反した場合にかかる、単位時間あたりの違反料\n",
    "    K : 車両集合\n",
    "        c : 容料\n",
    "        tour : 巡回路\n",
    "    \"\"\"\n",
    "    import random\n",
    "    random.seed(0)\n",
    "    N = 5\n",
    "    V = {}\n",
    "    d_list = [0,1,-2,3,-4,5]\n",
    "    tw_list = [(0,10),(0,10),(1,6),(2,8),(3,7),(4,7)]\n",
    "    coo_list = [(0,0) for i in range(5+1)]#[(0,0),(0,2),(1,3),(2,6),(3,3),(4,10)]\n",
    "    penalty_list = [0,10,10,10,20,20]\n",
    "    V[0] = Customer(d_list[0], tw_list[0], coo_list[0], penalty_list[0])\n",
    "    for i in range(1,N+1):\n",
    "        d = d_list[i]\n",
    "        tw = tw_list[i]\n",
    "        x, y = coo_list[i]\n",
    "        penalty = penalty_list[i]\n",
    "        V[i] = Customer(d, tw, (x, y), penalty)\n",
    "        \n",
    "    M = 3\n",
    "    c_list = [2,4,6]\n",
    "    K = {k:Vehicle(c_list[k], {}) for k in range(M)}\n",
    "    K[0].tour = {0,1}\n",
    "    K[1].tour = {0,2,3}\n",
    "    K[2].tour = {0,4,5}\n",
    "    \n",
    "    return V, K"
   ]
  },
  {
   "cell_type": "code",
   "execution_count": 24,
   "metadata": {},
   "outputs": [],
   "source": [
    "V, K = ex()"
   ]
  },
  {
   "cell_type": "code",
   "execution_count": 25,
   "metadata": {},
   "outputs": [
    {
     "name": "stdout",
     "output_type": "stream",
     "text": [
      "0\t0\n",
      "\t<__main__.TW object at 0x7fbeae987a50>\n",
      "\t<__main__.Coordinate object at 0x7fbeae987d50>\n",
      "\t0\n",
      "\t\n",
      "1\t5.159088058806049\n",
      "\t<__main__.TW object at 0x7fbeae987d10>\n",
      "\t<__main__.Coordinate object at 0x7fbeae987950>\n",
      "\t80.54187301312953\n",
      "\t\n",
      "2\t-3.933745478421451\n",
      "\t<__main__.TW object at 0x7fbeae987b50>\n",
      "\t<__main__.Coordinate object at 0x7fbeae987ad0>\n",
      "\t35.36540599597335\n",
      "\t\n",
      "3\t5.116084083144479\n",
      "\t<__main__.TW object at 0x7fbeae987810>\n",
      "\t<__main__.Coordinate object at 0x7fbeae9874d0>\n",
      "\t82.91955123969306\n",
      "\t\n",
      "4\t8.043319008791656\n",
      "\t<__main__.TW object at 0x7fbeae9879d0>\n",
      "\t<__main__.Coordinate object at 0x7fbeae987c50>\n",
      "\t52.4928443907442\n",
      "\t\n",
      "5\t-7.985975838632684\n",
      "\t<__main__.TW object at 0x7fbeae9878d0>\n",
      "\t<__main__.Coordinate object at 0x7fbeae987910>\n",
      "\t52.93087988974453\n",
      "\t\n",
      "6\t7.3061985554328\n",
      "\t<__main__.TW object at 0x7fbeae987890>\n",
      "\t<__main__.Coordinate object at 0x7fbeae987850>\n",
      "\t74.77342177635587\n",
      "\t\n",
      "7\t-2.023529155514625\n",
      "\t<__main__.TW object at 0x7fbeae95a0d0>\n",
      "\t<__main__.Coordinate object at 0x7fbeae95a350>\n",
      "\t88.08424979435028\n",
      "\t\n",
      "8\t-5.121782462257361\n",
      "\t<__main__.TW object at 0x7fbeae95a050>\n",
      "\t<__main__.Coordinate object at 0x7fbeaeea8650>\n",
      "\t31.475433575369816\n",
      "\t\n",
      "9\t9.350805005802869\n",
      "\t<__main__.TW object at 0x7fbeaeea8450>\n",
      "\t<__main__.Coordinate object at 0x7fbeaeea8790>\n",
      "\t55.71465782685165\n",
      "\t\n",
      "10\t8.656676484538135\n",
      "\t<__main__.TW object at 0x7fbeaeea8b90>\n",
      "\t<__main__.Coordinate object at 0x7fbeaeea8d90>\n",
      "\t83.30201769622023\n",
      "\t\n",
      "11\t0.8056721394064787\n",
      "\t<__main__.TW object at 0x7fbeaeea8350>\n",
      "\t<__main__.Coordinate object at 0x7fbeaeea8c90>\n",
      "\t63.665817542479566\n",
      "\t\n",
      "12\t-2.3019770805467914\n",
      "\t<__main__.TW object at 0x7fbeaeea8dd0>\n",
      "\t<__main__.Coordinate object at 0x7fbeaeea8910>\n",
      "\t65.1495861881746\n",
      "\t\n",
      "13\t3.1331877797925767\n",
      "\t<__main__.TW object at 0x7fbeaeea8a10>\n",
      "\t<__main__.Coordinate object at 0x7fbeae961090>\n",
      "\t93.10429143516525\n",
      "\t\n",
      "14\t6.849204462803648\n",
      "\t<__main__.TW object at 0x7fbeae961950>\n",
      "\t<__main__.Coordinate object at 0x7fbeae961910>\n",
      "\t73.47550598689656\n",
      "\t\n",
      "15\t-4.487317573757457\n",
      "\t<__main__.TW object at 0x7fbeaed4f0d0>\n",
      "\t<__main__.Coordinate object at 0x7fbeaed4f890>\n",
      "\t95.47883859089085\n",
      "\t\n",
      "16\t1.593900214912118\n",
      "\t<__main__.TW object at 0x7fbeaed4f090>\n",
      "\t<__main__.Coordinate object at 0x7fbeaed4f810>\n",
      "\t81.39925757172017\n",
      "\t\n",
      "17\t-8.352540236067052\n",
      "\t<__main__.TW object at 0x7fbeaed4f9d0>\n",
      "\t<__main__.Coordinate object at 0x7fbeaed4f850>\n",
      "\t31.87320598556706\n",
      "\t\n",
      "18\t4.629784415816955\n",
      "\t<__main__.TW object at 0x7fbeaed4fa50>\n",
      "\t<__main__.Coordinate object at 0x7fbeaed4f910>\n",
      "\t83.43217868802935\n",
      "\t\n",
      "19\t-7.987849595678076\n",
      "\t<__main__.TW object at 0x7fbeaed4fd90>\n",
      "\t<__main__.Coordinate object at 0x7fbeaed4f950>\n",
      "\t91.90144132291357\n",
      "\t\n",
      "20\t0.6839593652144789\n",
      "\t<__main__.TW object at 0x7fbeaed4fb90>\n",
      "\t<__main__.Coordinate object at 0x7fbeaed4fd10>\n",
      "\t61.83576532283867\n",
      "\t\n",
      "21\t-2.1758118135434623\n",
      "\t<__main__.TW object at 0x7fbeaed4fcd0>\n",
      "\t<__main__.Coordinate object at 0x7fbeaed4fbd0>\n",
      "\t96.49281522156501\n",
      "\t\n",
      "22\t-6.300561172051234\n",
      "\t<__main__.TW object at 0x7fbeaed4fc50>\n",
      "\t<__main__.Coordinate object at 0x7fbeaed4fad0>\n",
      "\t12.050431810179255\n",
      "\t\n",
      "23\t-1.4876233606636564\n",
      "\t<__main__.TW object at 0x7fbeaed4fb50>\n",
      "\t<__main__.Coordinate object at 0x7fbeaed4fe50>\n",
      "\t41.52645706568791\n",
      "\t\n",
      "24\t-6.393641969406243\n",
      "\t<__main__.TW object at 0x7fbeaed4ff90>\n",
      "\t<__main__.Coordinate object at 0x7fbeaed4fed0>\n",
      "\t27.942021142035667\n",
      "\t\n",
      "25\t-2.828893973767963\n",
      "\t<__main__.TW object at 0x7fbeaed4fa10>\n",
      "\t<__main__.Coordinate object at 0x7fbeaed4f990>\n",
      "\t70.53765072157474\n",
      "\t\n",
      "26\t9.330978060863664\n",
      "\t<__main__.TW object at 0x7fbeaed4fd50>\n",
      "\t<__main__.Coordinate object at 0x7fbeaed4f610>\n",
      "\t32.561860535660045\n",
      "\t\n",
      "27\t1.9358278693882198\n",
      "\t<__main__.TW object at 0x7fbeaed4fdd0>\n",
      "\t<__main__.Coordinate object at 0x7fbeaed4f490>\n",
      "\t61.22014655718522\n",
      "\t\n",
      "28\t0.17200260125266276\n",
      "\t<__main__.TW object at 0x7fbeaed4f050>\n",
      "\t<__main__.Coordinate object at 0x7fbeaed4f2d0>\n",
      "\t60.454019696817156\n",
      "\t\n",
      "29\t-9.751273623413713\n",
      "\t<__main__.TW object at 0x7fbeaed4f290>\n",
      "\t<__main__.Coordinate object at 0x7fbeaed4f110>\n",
      "\t31.611736704371857\n",
      "\t\n",
      "30\t9.062586796555976\n",
      "\t<__main__.TW object at 0x7fbead556b10>\n",
      "\t<__main__.Coordinate object at 0x7fbead556410>\n",
      "\t67.03730670243273\n",
      "\t\n",
      "31\t2.4215369123733446\n",
      "\t<__main__.TW object at 0x7fbead556b90>\n",
      "\t<__main__.Coordinate object at 0x7fbead556c90>\n",
      "\t10.137179967104817\n",
      "\t\n",
      "32\t-6.153809175106484\n",
      "\t<__main__.TW object at 0x7fbeaeebd310>\n",
      "\t<__main__.Coordinate object at 0x7fbeaeebd650>\n",
      "\t88.78810525417154\n",
      "\t\n",
      "33\t1.3630284182038377\n",
      "\t<__main__.TW object at 0x7fbeaeebd610>\n",
      "\t<__main__.Coordinate object at 0x7fbeaeebd350>\n",
      "\t69.59763000764357\n",
      "\t\n",
      "34\t-9.064406280864034\n",
      "\t<__main__.TW object at 0x7fbeaeebd790>\n",
      "\t<__main__.Coordinate object at 0x7fbeaedd3750>\n",
      "\t53.85390409621289\n",
      "\t\n"
     ]
    }
   ],
   "source": [
    "for i in V:\n",
    "    print(i, end=\"\\t\")\n",
    "    for condition in V[i].__dict__.values():\n",
    "        print(condition, end=\"\\n\\t\")\n",
    "    print()"
   ]
  },
  {
   "cell_type": "code",
   "execution_count": 26,
   "metadata": {},
   "outputs": [
    {
     "data": {
      "text/plain": [
       "-0.7368985565923367"
      ]
     },
     "execution_count": 26,
     "metadata": {},
     "output_type": "execute_result"
    }
   ],
   "source": [
    "sum(i.demand for i in V.values())"
   ]
  },
  {
   "cell_type": "code",
   "execution_count": 27,
   "metadata": {},
   "outputs": [
    {
     "data": {
      "text/plain": [
       "86.84306230756245"
      ]
     },
     "execution_count": 27,
     "metadata": {},
     "output_type": "execute_result"
    }
   ],
   "source": [
    "sum(i.capacity for i in K.values())"
   ]
  },
  {
   "cell_type": "markdown",
   "metadata": {},
   "source": [
    "# 問題を解く"
   ]
  },
  {
   "cell_type": "markdown",
   "metadata": {},
   "source": [
    "## 巡回路を生成  \n",
    "先生のソルバーを使う"
   ]
  },
  {
   "cell_type": "code",
   "execution_count": null,
   "metadata": {
    "scrolled": true
   },
   "outputs": [],
   "source": []
  },
  {
   "cell_type": "markdown",
   "metadata": {},
   "source": [
    "## 巡回路を評価（各顧客の出発時刻を決める）  \n",
    "どのくらい時間がかかるか調べる"
   ]
  },
  {
   "cell_type": "code",
   "execution_count": 12,
   "metadata": {},
   "outputs": [],
   "source": [
    "def distance(i, j, V):\n",
    "    x0 = V[i].coordinate.x\n",
    "    y0 = V[i].coordinate.y\n",
    "    x1 = V[j].coordinate.x\n",
    "    y1 = V[j].coordinate.y\n",
    "    return ((x0-x1)**2 + (y0-y1)**2)**(1/2)"
   ]
  },
  {
   "cell_type": "code",
   "execution_count": 19,
   "metadata": {
    "scrolled": false
   },
   "outputs": [],
   "source": [
    "import gurobipy as gp\n",
    "\n",
    "# インスタンスの生成\n",
    "m = gp.Model(\"LP_for_VRP_small\")\n",
    "\n",
    "# 定数を設定\n",
    "V, K = ex_small()\n",
    "\n",
    "# 変数を設定\n",
    "\"\"\"\n",
    "x_ik : 顧客iへ車両kが到着する時刻を表す変数\n",
    "z_i : 車両が顧客iに到着する時刻が、顧客iの時間枠に対して、どの程度違反しているかを表す変数\n",
    "\"\"\"\n",
    "x = {(i,k):m.addVar(vtype=gp.GRB.CONTINUOUS, name=f\"x({i},{k})\") for k in K for i in K[k].tour}\n",
    "z = {i:m.addVar(vtype=gp.GRB.CONTINUOUS, name=f\"z({i})\") for i in V}\n",
    "\n",
    "m.update()"
   ]
  },
  {
   "cell_type": "code",
   "execution_count": 16,
   "metadata": {},
   "outputs": [],
   "source": [
    "# 目的関数を設定\n",
    "## 各顧客iの到着時刻x_ikと顧客iの時間枠を元に計算した違反料の和を最小化する\n",
    "m.setObjective(gp.quicksum(V[i].penalty*z[i] for i in V), sense = gp.GRB.MINIMIZE)"
   ]
  },
  {
   "cell_type": "code",
   "execution_count": 20,
   "metadata": {},
   "outputs": [],
   "source": [
    "# 制約条件を設定\n",
    "## 時間枠制約\n",
    "for k in K:\n",
    "    for i in K[k].tour:\n",
    "        #m.addConstr(z[i,k] == penalty(i, x[i,k], V))\n",
    "        m.addConstr(V[i].tw.e-z[i] <= x[i,k])\n",
    "        m.addConstr(x[i,k] <= V[i].tw.l+z[i])\n",
    "## 任意の車両の巡回路内における、各顧客への到着時刻の先行、後行に関する制約\n",
    "for k in K:\n",
    "    for i_p in K[k].tour:\n",
    "        for i_f in K[k].tour:\n",
    "            if i_p != i_f:\n",
    "                m.addConstr(x[i_p, k] + distance(i_p, i_f, V) <= x[i_f, k])\n",
    "## 全ての車両はデポを出発し、サービス時間内に到着するという制約\n",
    "for k in K:\n",
    "    m.addConstr(0 <= x[0,k])"
   ]
  },
  {
   "cell_type": "code",
   "execution_count": 18,
   "metadata": {},
   "outputs": [
    {
     "name": "stdout",
     "output_type": "stream",
     "text": [
      "Gurobi Optimizer version 9.0.2 build v9.0.2rc0 (mac64)\n",
      "Optimize a model with 33 rows, 14 columns and 63 nonzeros\n",
      "Model fingerprint: 0xdbcc8ec7\n",
      "Coefficient statistics:\n",
      "  Matrix range     [1e+00, 1e+00]\n",
      "  Objective range  [1e+01, 2e+01]\n",
      "  Bounds range     [0e+00, 0e+00]\n",
      "  RHS range        [1e+00, 1e+01]\n",
      "Presolve removed 25 rows and 8 columns\n",
      "Presolve time: 0.01s\n",
      "Presolved: 8 rows, 6 columns, 16 nonzeros\n",
      "\n",
      "Iteration    Objective       Primal Inf.    Dual Inf.      Time\n",
      "       0    0.0000000e+00   1.000000e+01   0.000000e+00      0s\n",
      "       2    0.0000000e+00   0.000000e+00   0.000000e+00      0s\n",
      "\n",
      "Solved in 2 iterations and 0.06 seconds\n",
      "Optimal objective  0.000000000e+00\n",
      "車両0が顧客0に到着する時刻は、<gurobi.Var x(0,0) (value 0.0)>\n",
      "車両0が顧客1に到着する時刻は、<gurobi.Var x(1,0) (value 0.0)>\n",
      "車両1が顧客0に到着する時刻は、<gurobi.Var x(0,1) (value 2.0)>\n",
      "車両1が顧客2に到着する時刻は、<gurobi.Var x(2,1) (value 2.0)>\n",
      "車両1が顧客3に到着する時刻は、<gurobi.Var x(3,1) (value 2.0)>\n",
      "車両2が顧客0に到着する時刻は、<gurobi.Var x(0,2) (value 4.0)>\n",
      "車両2が顧客4に到着する時刻は、<gurobi.Var x(4,2) (value 4.0)>\n",
      "車両2が顧客5に到着する時刻は、<gurobi.Var x(5,2) (value 4.0)>\n",
      "最適値 :  0.0\n"
     ]
    }
   ],
   "source": [
    "# 最適化\n",
    "m.optimize()\n",
    "                \n",
    "# 解の表示\n",
    "if m.Status == gp.GRB.OPTIMAL:\n",
    "    for k in K:\n",
    "        for i in K[k].tour:\n",
    "            print(f\"車両{k}が顧客{i}に到着する時刻は、{x[i, k]}\")\n",
    "    print(\"最適値 : \", m.ObjVal)"
   ]
  },
  {
   "cell_type": "code",
   "execution_count": null,
   "metadata": {},
   "outputs": [],
   "source": []
  }
 ],
 "metadata": {
  "kernelspec": {
   "display_name": "Python 3",
   "language": "python",
   "name": "python3"
  },
  "language_info": {
   "codemirror_mode": {
    "name": "ipython",
    "version": 3
   },
   "file_extension": ".py",
   "mimetype": "text/x-python",
   "name": "python",
   "nbconvert_exporter": "python",
   "pygments_lexer": "ipython3",
   "version": "3.7.7"
  }
 },
 "nbformat": 4,
 "nbformat_minor": 4
}
