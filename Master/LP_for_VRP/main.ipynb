{
 "cells": [
  {
   "cell_type": "markdown",
   "metadata": {},
   "source": [
    "# ルートを評価するために解くLPについて\n",
    "- ルートが1つ与えられた後、そのルートを評価するためにLPを解く(ルートが実行可能であるとは限らない)\n",
    "\n",
    "<!--- 各制約の違反度を変数とし、それらに重みをかけて足し合わせた関数の最小化問題とする-->\n",
    "- 車両が各顧客へ到着する時刻を変数とし、その合計を最小化する問題とする\n",
    "- 制約は、容量制約と時間枠制約とする\n",
    "    - 容量制約は、ある区間における2つの関数の積分値(面積)の大小を比較するという形で表す(車両の積荷の量を表す区分線形関数の\\[x0, xn\\]までの積分値と最大容量を表す線形関数の\\[x0, xn\\]までの積分値)\n",
    "    - 時間枠制約は、通常のVRPの定式化と同様に表す\n"
   ]
  },
  {
   "cell_type": "markdown",
   "metadata": {},
   "source": [
    "# LPへ入力する値の処理"
   ]
  },
  {
   "cell_type": "markdown",
   "metadata": {},
   "source": [
    "## 問題例の読み込み\n",
    "使用した問題例 : https://neo.lcc.uma.es/vrp/vrp-instances/description-for-files-of-solomons-instances/"
   ]
  },
  {
   "cell_type": "code",
   "execution_count": 105,
   "metadata": {},
   "outputs": [],
   "source": [
    "class Customer():\n",
    "    def __init__(self, x, y, d, e, l, s):\n",
    "        self.x = x\n",
    "        self.y = y\n",
    "        self.d = d\n",
    "        self.e = e\n",
    "        self.l = l\n",
    "        self.s = s"
   ]
  },
  {
   "cell_type": "code",
   "execution_count": 106,
   "metadata": {
    "scrolled": true
   },
   "outputs": [
    {
     "name": "stdout",
     "output_type": "stream",
     "text": [
      "./solomon_25/R101.txt\n",
      "./solomon_25/R103.txt\n",
      "./solomon_25/R102.txt\n",
      "./solomon_25/R112.txt\n",
      "./solomon_25/R106.txt\n",
      "./solomon_25/R107.txt\n",
      "./solomon_25/R105.txt\n",
      "./solomon_25/R111.txt\n",
      "./solomon_25/C108.txt\n",
      "./solomon_25/RC208.txt\n",
      "./solomon_25/C109.txt\n",
      "./solomon_25/R110.txt\n",
      "./solomon_25/R104.txt\n",
      "./solomon_25/R201.txt\n",
      "./solomon_25/R202.txt\n",
      "./solomon_25/R203.txt\n",
      "./solomon_25/R207.txt\n",
      "./solomon_25/R206.txt\n",
      "./solomon_25/R210.txt\n",
      "./solomon_25/R204.txt\n",
      "./solomon_25/C208.txt\n",
      "./solomon_25/R205.txt\n",
      "./solomon_25/R211.txt\n",
      "./solomon_25/RC108.txt\n",
      "./solomon_25/RC105.txt\n",
      "./solomon_25/R208.txt\n",
      "./solomon_25/C205.txt\n",
      "./solomon_25/C204.txt\n",
      "./solomon_25/R209.txt\n",
      "./solomon_25/RC104.txt\n",
      "./solomon_25/RC106.txt\n",
      "./solomon_25/C206.txt\n",
      "./solomon_25/C207.txt\n",
      "./solomon_25/RC107.txt\n",
      "./solomon_25/RC103.txt\n",
      "./solomon_25/C203.txt\n",
      "./solomon_25/C202.txt\n",
      "./solomon_25/RC102.txt\n",
      "./solomon_25/C201.txt\n",
      "./solomon_25/RC101.txt\n",
      "./solomon_25/R109.txt\n",
      "./solomon_25/C104.txt\n",
      "./solomon_25/RC204.txt\n",
      "./solomon_25/RC205.txt\n",
      "./solomon_25/C105.txt\n",
      "./solomon_25/R108.txt\n",
      "./solomon_25/C107.txt\n",
      "./solomon_25/RC207.txt\n",
      "./solomon_25/RC206.txt\n",
      "./solomon_25/C106.txt\n",
      "./solomon_25/C102.txt\n",
      "./solomon_25/RC202.txt\n",
      "./solomon_25/RC203.txt\n",
      "./solomon_25/C103.txt\n",
      "./solomon_25/C101.txt\n",
      "./solomon_25/RC201.txt\n"
     ]
    }
   ],
   "source": [
    "import glob\n",
    "\n",
    "files = glob.glob(\"./solomon_25/*\")\n",
    "for file in files:\n",
    "    print(file)"
   ]
  },
  {
   "cell_type": "code",
   "execution_count": 107,
   "metadata": {},
   "outputs": [],
   "source": [
    "# 問題例の選択\n",
    "file = files[0]"
   ]
  },
  {
   "cell_type": "code",
   "execution_count": 108,
   "metadata": {},
   "outputs": [],
   "source": [
    "C_dict = {}\n",
    "with open(file, mode=\"r\") as f:\n",
    "    for index,line in enumerate(f):\n",
    "        #print(line)\n",
    "        l = []\n",
    "        if index==4:\n",
    "            line_s = [s.strip(\"\\n\") for s in line.split(\"\\t\")][0]\n",
    "            for s in line_s.split(\" \"):\n",
    "                if s!=\"\":\n",
    "                    l.append(int(s))\n",
    "            K, Q = l\n",
    "        elif 9<=index<=34:\n",
    "            line_s = [s.strip(\"\\n\") for s in line.split(\"\\t\")][0]\n",
    "            for s in line_s.split(\" \"):\n",
    "                if s!=\"\":\n",
    "                    l.append(int(s))\n",
    "            C_dict[l[0]] = Customer(*l[1:])"
   ]
  },
  {
   "cell_type": "code",
   "execution_count": 109,
   "metadata": {
    "scrolled": true
   },
   "outputs": [
    {
     "name": "stdout",
     "output_type": "stream",
     "text": [
      "\t ['x', 'y', 'd', 'e', 'l', 's']\n",
      "0\t35 35 0 0 230 0 \n",
      "1\t41 49 10 161 171 10 \n",
      "2\t35 17 7 50 60 10 \n",
      "3\t55 45 13 116 126 10 \n",
      "4\t55 20 19 149 159 10 \n",
      "5\t15 30 26 34 44 10 \n",
      "6\t25 30 3 99 109 10 \n",
      "7\t20 50 5 81 91 10 \n",
      "8\t10 43 9 95 105 10 \n",
      "9\t55 60 16 97 107 10 \n",
      "10\t30 60 16 124 134 10 \n",
      "11\t20 65 12 67 77 10 \n",
      "12\t50 35 19 63 73 10 \n",
      "13\t30 25 23 159 169 10 \n",
      "14\t15 10 20 32 42 10 \n",
      "15\t30 5 8 61 71 10 \n",
      "16\t10 20 19 75 85 10 \n",
      "17\t5 30 2 157 167 10 \n",
      "18\t20 40 12 87 97 10 \n",
      "19\t15 60 17 76 86 10 \n",
      "20\t45 65 9 126 136 10 \n",
      "21\t45 20 11 62 72 10 \n",
      "22\t45 10 18 97 107 10 \n",
      "23\t55 5 29 68 78 10 \n",
      "24\t65 35 3 153 163 10 \n",
      "25\t65 20 6 172 182 10 \n"
     ]
    }
   ],
   "source": [
    "print(\"\\t\", list(vars(C_dict[0]).keys()))\n",
    "for i in C_dict.keys():\n",
    "    print(i, end=\"\\t\")\n",
    "    for key, val in vars(C_dict[i]).items():\n",
    "        print(val, end=\" \")\n",
    "    print()"
   ]
  },
  {
   "cell_type": "markdown",
   "metadata": {},
   "source": [
    "## ルートの作成"
   ]
  },
  {
   "cell_type": "code",
   "execution_count": 158,
   "metadata": {},
   "outputs": [],
   "source": [
    "# 入力\n",
    "## 顧客\n",
    "C={} # 客の座標を保存する辞書\n",
    "TW={} # 客の時間枠を保存する辞書\n",
    "demand={} # 客の要求量(正の値は集荷，負の値は配達)\n",
    "S={} # 客のサービス時間\n",
    "\n",
    "for i in C_dict:\n",
    "    x, y = C_dict[i].x, C_dict[i].y\n",
    "    C[i] = (x,y)\n",
    "    e, l = C_dict[i].e, C_dict[i].l\n",
    "    TW[i] = (e,l)\n",
    "    demand[i] = (C_dict[i].d, )\n",
    "    S[i] = C_dict[i].s\n",
    "    \"\"\"name=\"c\"+str(i)\n",
    "    x, y = C_dict[i].x, C_dict[i].y\n",
    "    C[name] = (x,y)\n",
    "    e, l = C_dict[i].e, C_dict[i].l\n",
    "    TW[name] = (e,l)\n",
    "    demand[name] = (C_dict[i].d, )\n",
    "    S[name] = C_dict[i].s\"\"\"\n",
    "C[\"depot\"]=(0,0)\n",
    "\n",
    "## 車両\n",
    "M = K//2 # number of vehicles\n",
    "capacities = [(Q*2, ) for k in range(M)] # capacity of vehicle"
   ]
  },
  {
   "cell_type": "code",
   "execution_count": 159,
   "metadata": {},
   "outputs": [
    {
     "name": "stdout",
     "output_type": "stream",
     "text": [
      "Customer {0: (35, 35), 1: (41, 49), 2: (35, 17), 3: (55, 45), 4: (55, 20), 5: (15, 30), 6: (25, 30), 7: (20, 50), 8: (10, 43), 9: (55, 60), 10: (30, 60), 11: (20, 65), 12: (50, 35), 13: (30, 25), 14: (15, 10), 15: (30, 5), 16: (10, 20), 17: (5, 30), 18: (20, 40), 19: (15, 60), 20: (45, 65), 21: (45, 20), 22: (45, 10), 23: (55, 5), 24: (65, 35), 25: (65, 20), 'depot': (0, 0)}\n",
      "Time Window {0: (0, 230), 1: (161, 171), 2: (50, 60), 3: (116, 126), 4: (149, 159), 5: (34, 44), 6: (99, 109), 7: (81, 91), 8: (95, 105), 9: (97, 107), 10: (124, 134), 11: (67, 77), 12: (63, 73), 13: (159, 169), 14: (32, 42), 15: (61, 71), 16: (75, 85), 17: (157, 167), 18: (87, 97), 19: (76, 86), 20: (126, 136), 21: (62, 72), 22: (97, 107), 23: (68, 78), 24: (153, 163), 25: (172, 182)}\n",
      "Demand {0: (0,), 1: (10,), 2: (7,), 3: (13,), 4: (19,), 5: (26,), 6: (3,), 7: (5,), 8: (9,), 9: (16,), 10: (16,), 11: (12,), 12: (19,), 13: (23,), 14: (20,), 15: (8,), 16: (19,), 17: (2,), 18: (12,), 19: (17,), 20: (9,), 21: (11,), 22: (18,), 23: (29,), 24: (3,), 25: (6,)}\n",
      "Service Time {0: 0, 1: 10, 2: 10, 3: 10, 4: 10, 5: 10, 6: 10, 7: 10, 8: 10, 9: 10, 10: 10, 11: 10, 12: 10, 13: 10, 14: 10, 15: 10, 16: 10, 17: 10, 18: 10, 19: 10, 20: 10, 21: 10, 22: 10, 23: 10, 24: 10, 25: 10}\n"
     ]
    }
   ],
   "source": [
    "print(\"Customer\",C)\n",
    "print(\"Time Window\",TW)\n",
    "print(\"Demand\",demand)\n",
    "print(\"Service Time\",S)"
   ]
  },
  {
   "cell_type": "code",
   "execution_count": 160,
   "metadata": {},
   "outputs": [
    {
     "data": {
      "image/png": "[encoded data removed]",
      "text/plain": [
       "<Figure size 504x504 with 1 Axes>"
      ]
     },
     "metadata": {},
     "output_type": "display_data"
    }
   ],
   "source": [
    "import networkx as nx\n",
    "import matplotlib.pyplot as plt\n",
    "\n",
    "fig=plt.figure(figsize=(7,7))\n",
    "\n",
    "G=nx.DiGraph()\n",
    "nx.draw_networkx(G,pos=C,nodelist=[i for i in C if i != \"depot\"],node_color=\"y\",node_size=50,with_labels=True,edge_color=\"k\",width=1)\n",
    "nx.draw_networkx(G,pos=C,nodelist=[\"depot\"],node_color=\"blue\",node_shape='s',alpha=0.5,node_size=100,with_labels=True,edge_color=\"k\",width=1)\n",
    "\n",
    "plt.show()"
   ]
  },
  {
   "cell_type": "code",
   "execution_count": 161,
   "metadata": {},
   "outputs": [],
   "source": [
    "# 距離関数の定義\n",
    "#def Distance(t1,t2):\n",
    "#    return ((t1[0]-t2[0])**2+(t1[1]-t2[1])**2)**(0.5)\n",
    "def distance(x1, y1, x2, y2):\n",
    "    return ((x2-x1)**2+(y2-y1)**2)**(0.5)\n",
    "\n",
    "# ソルバーの読み込み\n",
    "import sys\n",
    "sys.path.append('..')\n",
    "\n",
    "#from vrplib.vrp_d_1m1_t_model import *\n",
    "import vrplib.vrp_d_1m1_t_model as vrp\n",
    "\n",
    "# ソルバーの実行\n",
    "model = vrp.Model(file.split(\"/\")[-1].split(\".\")[0]) # モデルインスタンスの生成\n",
    "\n",
    "## 客インスタンスの生成\n",
    "for i in C:\n",
    "    if i == \"depot\":\n",
    "        continue\n",
    "    model += vrp.Customer(i,demand=demand[i],timewindow=TW[i],servicetime=S[i])\n",
    "\n",
    "## 車両インスタンスの生成\n",
    "for k in range(M):\n",
    "    model += vrp.Vehicle(\"v\"+str(k),capacity=capacities[k])\n",
    "    \n",
    "## 枝インスタンスの生成\n",
    "for i in C:\n",
    "    for j in C:\n",
    "        if i!=j:\n",
    "            dist = time = Distance(C[i],C[j])\n",
    "            model += vrp.Edge(i,j,dist,time)"
   ]
  },
  {
   "cell_type": "code",
   "execution_count": 162,
   "metadata": {
    "scrolled": true
   },
   "outputs": [
    {
     "name": "stdout",
     "output_type": "stream",
     "text": [
      "objective value = 1211.62\n",
      "\n",
      "Vehicle v0: {'capacity': (400,)}\n",
      "173.07639 = {'distance': 173.07639, 'freight_1M1': 0.0, 'timecost': 0.0}\n",
      "[0, 9, 20, 1]\n",
      "0\n",
      "9\n",
      "20\n",
      "1\n",
      "\n",
      "Vehicle v1: {'capacity': (400,)}\n",
      "36.055513 = {'distance': 36.055513, 'freight_1M1': 0.0, 'timecost': 0.0}\n",
      "[14]\n",
      "14\n",
      "\n",
      "Vehicle v2: {'capacity': (400,)}\n",
      "117.873959 = {'distance': 117.873959, 'freight_1M1': 0.0, 'timecost': 0.0}\n",
      "[2, 21, 4]\n",
      "2\n",
      "21\n",
      "4\n",
      "\n",
      "Vehicle v3: {'capacity': (400,)}\n",
      "67.082039 = {'distance': 67.082039, 'freight_1M1': 0.0, 'timecost': 0.0}\n",
      "[5]\n",
      "5\n",
      "\n",
      "Vehicle v4: {'capacity': (400,)}\n",
      "60.827625 = {'distance': 60.827625, 'freight_1M1': 0.0, 'timecost': 0.0}\n",
      "[17]\n",
      "17\n",
      "\n",
      "Vehicle v5: {'capacity': (400,)}\n",
      "164.129669 = {'distance': 164.129669, 'freight_1M1': 0.0, 'timecost': 0.0}\n",
      "[11, 19, 10, 13]\n",
      "11\n",
      "19\n",
      "10\n",
      "13\n",
      "\n",
      "Vehicle v6: {'capacity': (400,)}\n",
      "169.362606 = {'distance': 169.362606, 'freight_1M1': 0.0, 'timecost': 0.0}\n",
      "[12, 3, 24, 25]\n",
      "12\n",
      "3\n",
      "24\n",
      "25\n",
      "\n",
      "Vehicle v7: {'capacity': (400,)}\n",
      "112.504867 = {'distance': 112.504867, 'freight_1M1': 0.0, 'timecost': 0.0}\n",
      "[23, 22]\n",
      "23\n",
      "22\n",
      "\n",
      "Vehicle v8: {'capacity': (400,)}\n",
      "44.72136 = {'distance': 44.72136, 'freight_1M1': 0.0, 'timecost': 0.0}\n",
      "[16]\n",
      "16\n",
      "\n",
      "Vehicle v9: {'capacity': (400,)}\n",
      "110.205684 = {'distance': 110.205684, 'freight_1M1': 0.0, 'timecost': 0.0}\n",
      "[7, 8]\n",
      "7\n",
      "8\n",
      "\n",
      "Vehicle v10: {'capacity': (400,)}\n",
      "60.827625 = {'distance': 60.827625, 'freight_1M1': 0.0, 'timecost': 0.0}\n",
      "[15]\n",
      "15\n",
      "\n",
      "Vehicle v11: {'capacity': (400,)}\n",
      "94.952948 = {'distance': 94.952948, 'freight_1M1': 0.0, 'timecost': 0.0}\n",
      "[18, 6]\n",
      "18\n",
      "6\n"
     ]
    }
   ],
   "source": [
    "## 最適化の実行\n",
    "obj=model.optimize(IterLimit=100,TimeLimit=1,Verbose=False,OutputFlag=False)\n",
    "\n",
    "## 得られた解の表示\n",
    "print(\"objective value =\",obj)\n",
    "for v in model.vehiclesL:\n",
    "    print()\n",
    "    print(v)\n",
    "    print(list(map(lambda x:x.name,v.routing[1:-1])))    \n",
    "    for iv in map(lambda x:x.name,v.routing[1:-1]):\n",
    "        print(iv)"
   ]
  },
  {
   "cell_type": "markdown",
   "metadata": {},
   "source": [
    "## ルートを1つ選ぶ"
   ]
  },
  {
   "cell_type": "code",
   "execution_count": 215,
   "metadata": {},
   "outputs": [],
   "source": [
    "tour = [12, 3, 24, 25]+[\"depot\"]"
   ]
  },
  {
   "cell_type": "markdown",
   "metadata": {},
   "source": [
    "# 全体を1つのLPとして解くver.\n",
    "1. ルートが与えられる\n",
    "1. Primalを解く"
   ]
  },
  {
   "cell_type": "code",
   "execution_count": 229,
   "metadata": {},
   "outputs": [],
   "source": [
    "import gurobipy as gp\n",
    "\n",
    "# インスタンスの生成\n",
    "m = gp.Model(\"LP_for_VRP_small\")\n",
    "\n",
    "# 定数を設定\n",
    "\n",
    "\n",
    "# 変数を設定\n",
    "\"\"\"\n",
    "x_i : 顧客iへ車両が到着する時刻を表す変数\n",
    "\"\"\"\n",
    "x = {i:m.addVar(vtype=gp.GRB.CONTINUOUS, name=f\"x({i})\") for i in tour}\n",
    "\n",
    "m.update()"
   ]
  },
  {
   "cell_type": "code",
   "execution_count": 230,
   "metadata": {},
   "outputs": [],
   "source": [
    "# 目的関数を設定\n",
    "## 各制約の違反度を最小化する\n",
    "m.setObjective(gp.quicksum(x[i] for i in tour), sense=gp.GRB.MINIMIZE)"
   ]
  },
  {
   "cell_type": "code",
   "execution_count": 231,
   "metadata": {},
   "outputs": [],
   "source": [
    "C_dict[\"depot\"] = Customer(0,0,0,0,1000,0)"
   ]
  },
  {
   "cell_type": "code",
   "execution_count": 232,
   "metadata": {},
   "outputs": [],
   "source": [
    "# 制約条件を設定\n",
    "## 最初に訪問する顧客へ到着する時間の制約\n",
    "m.addConstr(0<=x[tour[0]])\n",
    "\n",
    "## ルート内の顧客の順序に関する制約\n",
    "for index, i in enumerate(tour):\n",
    "    try:\n",
    "        i_next = tour[index+1]\n",
    "    except:\n",
    "        i_next = \"depot\"\n",
    "    m.addConstr(x[i]-x[i_next] <= -distance(C_dict[i].x, C_dict[i].y, C_dict[i_next].x, C_dict[i_next].y))\n",
    "\n",
    "## 時間枠制約\n",
    "for i in tour:\n",
    "    m.addConstr(-x[i] <= -C_dict[i].e)\n",
    "    m.addConstr(x[i] <= C_dict[i].l)\n",
    "\n",
    "## 容量制約\n",
    "integral_val = 0\n",
    "for index, i in enumerate(tour):\n",
    "    try:\n",
    "        i_next = tour[index+1]\n",
    "    except:\n",
    "        i_next = \"depot\"\n",
    "    integral_val += (x[i_next]-x[i])*gp.quicksum(C_dict[j].d for d in tour[:index+1])\n",
    "m.addConstr(integral_val <= (x[\"depot\"]-x[tour[0]])*Q*2)\n",
    "\n",
    "m.update()"
   ]
  },
  {
   "cell_type": "code",
   "execution_count": 233,
   "metadata": {},
   "outputs": [
    {
     "name": "stdout",
     "output_type": "stream",
     "text": [
      "Gurobi Optimizer version 9.0.2 build v9.0.2rc0 (mac64)\n",
      "Optimize a model with 17 rows, 5 columns and 21 nonzeros\n",
      "Model fingerprint: 0x20966c9d\n",
      "Coefficient statistics:\n",
      "  Matrix range     [1e+00, 4e+02]\n",
      "  Objective range  [1e+00, 1e+00]\n",
      "  Bounds range     [0e+00, 0e+00]\n",
      "  RHS range        [1e+01, 1e+03]\n",
      "Presolve removed 17 rows and 5 columns\n",
      "Presolve time: 0.01s\n",
      "Presolve: All rows and columns removed\n",
      "Iteration    Objective       Primal Inf.    Dual Inf.      Time\n",
      "       0    7.4400735e+02   0.000000e+00   0.000000e+00      0s\n",
      "\n",
      "Solved in 0 iterations and 0.02 seconds\n",
      "Optimal objective  7.440073525e+02\n",
      "車両が顧客12に到着する時刻は、63.0\n",
      "最適値 :  744.0073525436771\n",
      "車両が顧客3に到着する時刻は、116.0\n",
      "最適値 :  744.0073525436771\n",
      "車両が顧客24に到着する時刻は、153.0\n",
      "最適値 :  744.0073525436771\n",
      "車両が顧客25に到着する時刻は、172.0\n",
      "最適値 :  744.0073525436771\n",
      "車両が顧客depotに到着する時刻は、240.0073525436772\n",
      "最適値 :  744.0073525436771\n",
      "\u001b[31m実時間\t0.03548121452331543\u001b[0m\n"
     ]
    }
   ],
   "source": [
    "import time\n",
    "\n",
    "# 時間計測スタート\n",
    "start = time.time()\n",
    "\n",
    "# 最適化\n",
    "m.optimize()\n",
    "\n",
    "# 時間計測ストップ\n",
    "elapsed_time = time.time() - start\n",
    "                \n",
    "# 解の表示\n",
    "if m.Status == gp.GRB.OPTIMAL:\n",
    "    for i in tour:\n",
    "        print(f\"車両が顧客{i}に到着する時刻は、{x[i].X}\")\n",
    "        print(\"最適値 : \", m.ObjVal)\n",
    "    \n",
    "print('\\033[31m'+f\"実時間\\t{elapsed_time}\"+'\\033[0m')"
   ]
  },
  {
   "cell_type": "markdown",
   "metadata": {},
   "source": [
    "# 前半と後半をつなげるver.\n",
    "1. ルートが与えられる\n",
    "1. 適当なところで前後に分ける\n",
    "1. 前半後半それぞれのPrimalを解く\n",
    "1. 前半と後半それぞれのPrimalの最適解を、全体のDualに入れて解く(つなげる際に必要になる制約A3を考えなければならない)\n",
    "1. Primalの解を復元"
   ]
  },
  {
   "cell_type": "code",
   "execution_count": null,
   "metadata": {},
   "outputs": [],
   "source": []
  }
 ],
 "metadata": {
  "kernelspec": {
   "display_name": "Python 3",
   "language": "python",
   "name": "python3"
  },
  "language_info": {
   "codemirror_mode": {
    "name": "ipython",
    "version": 3
   },
   "file_extension": ".py",
   "mimetype": "text/x-python",
   "name": "python",
   "nbconvert_exporter": "python",
   "pygments_lexer": "ipython3",
   "version": "3.7.7"
  }
 },
 "nbformat": 4,
 "nbformat_minor": 4
}
