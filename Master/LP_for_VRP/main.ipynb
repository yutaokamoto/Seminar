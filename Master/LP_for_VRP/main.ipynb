{
 "cells": [
  {
   "cell_type": "markdown",
   "metadata": {},
   "source": [
    "# ルートを評価するために解くLPについて\n",
    "- ルートが1つ与えられた後、そのルートを評価するためにLPを解く(ルートが実行可能であるとは限らない)\n",
    "\n",
    "<!--- 各制約の違反度を変数とし、それらに重みをかけて足し合わせた関数の最小化問題とする-->\n",
    "- 車両が各顧客へ到着する時刻を変数とし、その合計を最小化する問題とする\n",
    "- 制約は、容量制約と時間枠制約とする\n",
    "    - 容量制約は、ある区間における2つの関数の積分値(面積)の大小を比較するという形で表す(車両の積荷の量を表す区分線形関数の\\[x0, xn\\]までの積分値と最大容量を表す線形関数の\\[x0, xn\\]までの積分値)\n",
    "    - 時間枠制約は、通常のVRPの定式化と同様に表す\n"
   ]
  },
  {
   "cell_type": "markdown",
   "metadata": {},
   "source": [
    "# 前準備"
   ]
  },
  {
   "cell_type": "markdown",
   "metadata": {},
   "source": [
    "## instances.pyからインスタンスを得る"
   ]
  },
  {
   "cell_type": "code",
   "execution_count": 1,
   "metadata": {},
   "outputs": [],
   "source": [
    "import instances\n",
    "Customers = instances.Customers\n",
    "Points = instances.Points\n",
    "C, F = instances.C, instances.F\n",
    "tour = instances.tour"
   ]
  },
  {
   "cell_type": "code",
   "execution_count": 2,
   "metadata": {},
   "outputs": [],
   "source": [
    "instance_name = \"C\" + str(len(Customers)-1)"
   ]
  },
  {
   "cell_type": "code",
   "execution_count": 3,
   "metadata": {
    "scrolled": true
   },
   "outputs": [
    {
     "data": {
      "text/plain": [
       "[0, 1, 2, 3, 4, 5, 6, 7, 8, 9]"
      ]
     },
     "execution_count": 3,
     "metadata": {},
     "output_type": "execute_result"
    }
   ],
   "source": [
    "tour[:10]"
   ]
  },
  {
   "cell_type": "code",
   "execution_count": 4,
   "metadata": {},
   "outputs": [
    {
     "data": {
      "text/plain": [
       "[1, 2, 3, 4, 5, 6, 7, 8, 9, 'depot']"
      ]
     },
     "execution_count": 4,
     "metadata": {},
     "output_type": "execute_result"
    }
   ],
   "source": [
    "tour[-10:]"
   ]
  },
  {
   "cell_type": "code",
   "execution_count": 5,
   "metadata": {},
   "outputs": [
    {
     "data": {
      "text/plain": [
       "[(6, 7), (0, 1), (4, 5)]"
      ]
     },
     "execution_count": 5,
     "metadata": {},
     "output_type": "execute_result"
    }
   ],
   "source": [
    "Points"
   ]
  },
  {
   "cell_type": "markdown",
   "metadata": {},
   "source": [
    "# 問題を解く\n",
    "2つの手法に対し、計算時間を比較"
   ]
  },
  {
   "cell_type": "markdown",
   "metadata": {},
   "source": [
    "## 入力する行列、ベクトルの作成"
   ]
  },
  {
   "cell_type": "code",
   "execution_count": 6,
   "metadata": {},
   "outputs": [],
   "source": [
    "def distance(x1, y1, x2, y2):\n",
    "    return ((x2-x1)**2+(y2-y1)**2)**(0.5)"
   ]
  },
  {
   "cell_type": "code",
   "execution_count": 7,
   "metadata": {},
   "outputs": [],
   "source": [
    "#def make_preceding_constr(tour, Customers, As, Ac_leq, b_leq):\n",
    "def make_preceding_constr(tour, Customers, Points, As, Ac_leq, Ar_leq, Ap, Aq, b_leq):\n",
    "    # ルート内の顧客の順序に関する制約\n",
    "    for index, i in enumerate(tour):\n",
    "        try:\n",
    "            i_next = tour[index+1]\n",
    "        except:\n",
    "            break\n",
    "        As.append([1 if target==i else -1 if target==i_next else 0 for target in tour])\n",
    "        Ac_leq.append([1 if target==i else 0 for target in tour])\n",
    "        b_leq.append(-distance(Customers[i].x, Customers[i].y, Customers[i_next].x, Customers[i_next].y))\n",
    "        ## 以下はすべての行列のサイズを合わせるために行を追加している\n",
    "        Ar_leq.append([0 for target in tour])\n",
    "        Ap.append([0 for target in tour])\n",
    "        Aq.append([0 for target in tour])\n",
    "    #return As, Ac_leq, b_leq\n",
    "    return As, Ac_leq, Ar_leq, Ap, Aq, b_leq"
   ]
  },
  {
   "cell_type": "code",
   "execution_count": 8,
   "metadata": {},
   "outputs": [],
   "source": [
    "As, Ac_eq, Ac_leq, Ar_eq, Ar_leq, Ap, Aq, b_eq, b_leq, c1, c2 \\\n",
    "    = [], [], [], [], [], [], [], [], [], [1 for _ in range(len(tour))], [1 for _ in range(len(tour))]\n",
    "As, Ac_leq, Ar_leq, Ap, Aq, b_leq = make_preceding_constr(tour, Customers, Points, As, Ac_leq, Ar_leq, Ap, Aq, b_leq)"
   ]
  },
  {
   "cell_type": "code",
   "execution_count": 9,
   "metadata": {},
   "outputs": [
    {
     "data": {
      "text/plain": [
       "[-2.23606797749979,\n",
       " -2.23606797749979,\n",
       " -3.1622776601683795,\n",
       " -9.899494936611665,\n",
       " -10.63014581273465,\n",
       " -11.313708498984761,\n",
       " -11.40175425099138,\n",
       " -8.54400374531753,\n",
       " -3.605551275463989,\n",
       " -10.63014581273465]"
      ]
     },
     "execution_count": 9,
     "metadata": {},
     "output_type": "execute_result"
    }
   ],
   "source": [
    "b_leq"
   ]
  },
  {
   "cell_type": "code",
   "execution_count": 10,
   "metadata": {},
   "outputs": [],
   "source": [
    "#def make_tw_constr(tour, Customers, As, Ap, b_leq):\n",
    "def make_tw_constr(tour, Customers, Points, As, Ac_leq, Ar_leq, Ap, Aq, b_leq):\n",
    "    # 時間枠制約\n",
    "    for index, i in enumerate(tour):\n",
    "        #As.append([-1 if i==target else 0 for index_, target in enumerate(tour)])\n",
    "        #Ap.append([-1 if i==target else 0 for index_, target in enumerate(tour)])\n",
    "        As.append([-1 if i==target else 0 for target in tour])\n",
    "        Ap.append([-1 if i==target else 0 for target in tour])\n",
    "        b_leq.append(-Customers[i].e)\n",
    "        #As.append([1 if i==target else 0 for index_, target in enumerate(tour)])\n",
    "        #Ap.append([-1 if i==target else 0 for index_, target in enumerate(tour)])\n",
    "        As.append([1 if i==target else 0 for target in tour])\n",
    "        Ap.append([-1 if i==target else 0 for target in tour])\n",
    "        b_leq.append(Customers[i].l)\n",
    "        ## 以下はすべての行列のサイズを合わせるために行を追加している\n",
    "        for _ in range(2):\n",
    "            Ac_leq.append([0 for target in tour])\n",
    "            Ar_leq.append([0 for target in tour])\n",
    "            Aq.append([0 for target in tour])\n",
    "    #return As, Ap, b_leq\n",
    "    return As, Ac_leq, Ar_leq, Ap, Aq, b_leq"
   ]
  },
  {
   "cell_type": "code",
   "execution_count": 11,
   "metadata": {},
   "outputs": [],
   "source": [
    "As, Ac_eq, Ac_leq, Ar_eq, Ar_leq, Ap, Aq, b_eq, b_leq, c1, c2 \\\n",
    "    = [], [], [], [], [], [], [], [], [], [1 for _ in range(len(tour))], [1 for _ in range(len(tour))]\n",
    "As, Ac_leq, Ar_leq, Ap, Aq, b_leq = make_tw_constr(tour, Customers, Points, As, Ac_leq, Ar_leq, Ap, Aq, b_leq)"
   ]
  },
  {
   "cell_type": "code",
   "execution_count": 12,
   "metadata": {
    "scrolled": true
   },
   "outputs": [
    {
     "data": {
      "text/plain": [
       "[-1,\n",
       " 3,\n",
       " -4,\n",
       " 6,\n",
       " -8,\n",
       " 9,\n",
       " -10,\n",
       " 11,\n",
       " -12,\n",
       " 16,\n",
       " -17,\n",
       " 17,\n",
       " -18,\n",
       " 21,\n",
       " -22,\n",
       " 25,\n",
       " -27,\n",
       " 28,\n",
       " -29,\n",
       " 33,\n",
       " 0,\n",
       " 0]"
      ]
     },
     "execution_count": 12,
     "metadata": {},
     "output_type": "execute_result"
    }
   ],
   "source": [
    "b_leq"
   ]
  },
  {
   "cell_type": "code",
   "execution_count": 13,
   "metadata": {},
   "outputs": [],
   "source": [
    "#def make_nonnega_constr(tour, As, Ac_leq, Ar_leq, Ap, Aq, b_leq):\n",
    "def make_nonnega_constr(tour, Points, As, Ac_leq, Ar_leq, Ap, Aq, b_leq):\n",
    "    # 変数の非負制約\n",
    "    for index, i in enumerate(tour):\n",
    "        As.append([-1 if i==target else 0 for index_, target in enumerate(tour)])\n",
    "        Ac_leq.append([-1 if i==target else 0 for index_, target in enumerate(tour)])\n",
    "        Ar_leq.append([-1 if i==target else 0 for index_, target in enumerate(tour)])\n",
    "        Ap.append([-1 if i==target else 0 for index_, target in enumerate(tour)])\n",
    "        Aq.append([-1 if i==target else 0 for index_, target in enumerate(tour)])\n",
    "        b_leq.append(0)\n",
    "    return As, Ac_leq, Ar_leq, Ap, Aq, b_leq"
   ]
  },
  {
   "cell_type": "code",
   "execution_count": 15,
   "metadata": {},
   "outputs": [],
   "source": [
    "#def make_time_limit_constr(tour, Customers, Points, As, Aq, b_leq):\n",
    "def make_time_limit_constr(tour, Customers, Points, As, Ac_leq, Ar_leq, Ap, Aq, b_leq):\n",
    "    # ピックアップからデリバリーまでの時間制限に関する制約\n",
    "    for index, pair in enumerate(Points):\n",
    "        p = pair[0]\n",
    "        d = pair[1]\n",
    "        As.append([-1 if target==p else 1 if target==d else 0 for target in tour])\n",
    "        Aq.append([-1 if target==p else 0 for target in tour])\n",
    "        b_leq.append(Customers[p].t)\n",
    "        ## 以下はすべての行列のサイズを合わせるために行を追加している\n",
    "        Ac_leq.append([0 for target in tour])\n",
    "        Ar_leq.append([0 for target in tour])\n",
    "        Ap.append([0 for target in tour])\n",
    "    #return As, Aq, b_leq\n",
    "    return As, Ac_leq, Ar_leq, Ap, Aq, b_leq"
   ]
  },
  {
   "cell_type": "code",
   "execution_count": 16,
   "metadata": {},
   "outputs": [],
   "source": [
    "As, Ac_eq, Ac_leq, Ar_eq, Ar_leq, Ap, Aq, b_eq, b_leq, c1, c2 \\\n",
    "    = [], [], [], [], [], [], [], [], [], [1 for _ in range(len(tour))], [1 for _ in range(len(tour))]\n",
    "As, Ac_leq, Ar_leq, Ap, Aq, b_leq = make_time_limit_constr(tour, Customers, Points, As, Ac_leq, Ar_leq, Ap, Aq, b_leq)"
   ]
  },
  {
   "cell_type": "code",
   "execution_count": 17,
   "metadata": {},
   "outputs": [
    {
     "data": {
      "text/plain": [
       "[[0, 0, 0, 0, 0, 0, -1, 1, 0, 0, 0],\n",
       " [-1, 1, 0, 0, 0, 0, 0, 0, 0, 0, 0],\n",
       " [0, 0, 0, 0, -1, 1, 0, 0, 0, 0, 0]]"
      ]
     },
     "execution_count": 17,
     "metadata": {},
     "output_type": "execute_result"
    }
   ],
   "source": [
    "As"
   ]
  },
  {
   "cell_type": "code",
   "execution_count": 18,
   "metadata": {},
   "outputs": [
    {
     "data": {
      "text/plain": [
       "[[0, 0, 0, 0, 0, 0, -1, 0, 0, 0, 0],\n",
       " [-1, 0, 0, 0, 0, 0, 0, 0, 0, 0, 0],\n",
       " [0, 0, 0, 0, -1, 0, 0, 0, 0, 0, 0]]"
      ]
     },
     "execution_count": 18,
     "metadata": {},
     "output_type": "execute_result"
    }
   ],
   "source": [
    "Aq"
   ]
  },
  {
   "cell_type": "code",
   "execution_count": 19,
   "metadata": {},
   "outputs": [
    {
     "data": {
      "text/plain": [
       "[65, 51, 38]"
      ]
     },
     "execution_count": 19,
     "metadata": {},
     "output_type": "execute_result"
    }
   ],
   "source": [
    "b_leq"
   ]
  },
  {
   "cell_type": "code",
   "execution_count": 20,
   "metadata": {},
   "outputs": [
    {
     "data": {
      "text/plain": [
       "[(6, 7), (0, 1), (4, 5)]"
      ]
     },
     "execution_count": 20,
     "metadata": {},
     "output_type": "execute_result"
    }
   ],
   "source": [
    "Points"
   ]
  },
  {
   "cell_type": "code",
   "execution_count": 21,
   "metadata": {},
   "outputs": [],
   "source": [
    "#def make_charge_constr(tour, Ac_eq, Ac_leq, Ar_eq, Ar_leq, b_eq, b_leq, F, C):\n",
    "def make_charge_constr(tour, Customers, Points, As, Ac_eq, Ac_leq, Ar_eq, Ar_leq, Ap, Aq, b_eq, b_leq, F, C):\n",
    "    # 自動車の燃料を補充することに関する制約\n",
    "    for i in tour:\n",
    "        Ac_leq.append([1 if i==target else 0 for target in tour])\n",
    "        Ar_leq.append([1 if i==target else 0 for target in tour])\n",
    "        b_leq.append(C)\n",
    "        ## 以下はすべての行列のサイズを合わせるために行を追加している\n",
    "        As.append([0 for target in tour])\n",
    "        Ap.append([0 for target in tour])\n",
    "        Aq.append([0 for target in tour])\n",
    "        if i==0:\n",
    "            Ar_eq.append([1] + [0 for j in range(len(tour)-1)])\n",
    "            b_eq.append(F)\n",
    "            ## 以下はすべての行列のサイズを合わせるために行を追加している\n",
    "            Ac_eq.append([0 for target in tour])\n",
    "            \"\"\"elif i==\"depot\":\n",
    "            continue\"\"\"\n",
    "        else:\n",
    "            if i==\"depot\":\n",
    "                i_prev = tour[-1]\n",
    "            else:\n",
    "                i_prev = i-1\n",
    "            Ac_eq.append([-1 if i_prev==target else 0 for target in tour])\n",
    "            Ar_eq.append([1 if i==target else -1 if i_prev==target else 0 for target in tour])\n",
    "            b_eq.append(distance(Customers[i].x, Customers[i].y, Customers[i_prev].x, Customers[i_prev].y))\n",
    "    #return Ac_eq, Ac_leq, Ar_eq, Ar_leq, b_eq, b_leq\n",
    "    return As, Ac_eq, Ac_leq, Ar_eq, Ar_leq, Ap, Aq, b_eq, b_leq"
   ]
  },
  {
   "cell_type": "code",
   "execution_count": 22,
   "metadata": {},
   "outputs": [],
   "source": [
    "As, Ac_eq, Ac_leq, Ar_eq, Ar_leq, Ap, Aq, b_eq, b_leq, c1, c2 \\\n",
    "    = [], [], [], [], [], [], [], [], [], [1 for _ in range(len(tour))], [1 for _ in range(len(tour))]\n",
    "As, Ac_eq, Ac_leq, Ar_eq, Ar_leq, Ap, Aq, b_eq, b_leq = make_charge_constr(tour, Customers, Points, As, Ac_eq, Ac_leq, Ar_eq, Ar_leq, Ap, Aq, b_eq, b_leq, F, C)"
   ]
  },
  {
   "cell_type": "code",
   "execution_count": 23,
   "metadata": {},
   "outputs": [],
   "source": [
    "def make_inputs(tour, Customers, Points, F, C):\n",
    "    import numpy as np\n",
    "    As, Ac_eq, Ac_leq, Ar_eq, Ar_leq, Ap, Aq, b_eq, b_leq, c1, c2 \\\n",
    "        = [], [], [], [], [], [], [], [], [], [1 for _ in range(len(tour))], [1 for _ in range(len(tour))]\n",
    "    \n",
    "    # ルート内の顧客の順序に関する制約\n",
    "    ##As, Ac_leq, b_leq = make_preceding_constr(tour, Customers, As, Ac_leq, b_leq)\n",
    "    As, Ac_leq, Ar_leq, Ap, Aq, b_leq = make_preceding_constr(tour, Customers, Points, As, Ac_leq, Ar_leq, Ap, Aq, b_leq)\n",
    "    print(\"Preceding constraints are done.\")\n",
    "    \n",
    "    # 時間枠制約\n",
    "    ##As, Ap, b_leq = make_tw_constr(tour, Customers, As, Ap, b_leq)\n",
    "    As, Ac_leq, Ar_leq, Ap, Aq, b_leq = make_tw_constr(tour, Customers, Points, As, Ac_leq, Ar_leq, Ap, Aq, b_leq)\n",
    "    print(\"Time-window constarints are done.\")\n",
    "    \n",
    "    # 非負制約\n",
    "    ##As, Ac_leq, Ar_leq, Ap, Aq, b_eq = make_nonnega_constr(tour, Points, As, Ac_leq, Ar_leq, Ap, Aq, b_leq)\n",
    "    ##print(\"Non-negative constarints are done.\")\n",
    "    \n",
    "    # ピックアップからデリバリーまでの時間制限に関する制約\n",
    "    #As, Aq, b_leq = time_limit_constr(tour, Customers, Points, As, Aq, b_leq)\n",
    "    As, Ac_leq, Ar_leq, Ap, Aq, b_leq = make_time_limit_constr(tour, Customers, Points, As, Ac_leq, Ar_leq, Ap, Aq, b_leq)\n",
    "    print(\"Pick-up and delivery constarints are done.\")\n",
    "    \n",
    "    # 自動車の燃料を補充することに関する制約\n",
    "    #Ac_eq, Ac_leq, Ar_eq, Ar_leq, b_eq, b_leq = charge_constr(tour, Ac_eq, Ac_leq, Ar_eq, Ar_leq, b_eq, b_leq, F, C)\n",
    "    As, Ac_eq, Ac_leq, Ar_eq, Ar_leq, Ap, Aq, b_eq, b_leq = make_charge_constr(tour, Customers, Points, As, Ac_eq, Ac_leq, Ar_eq, Ar_leq, Ap, Aq, b_eq, b_leq, F, C)\n",
    "    print(\"Charge constarints are done.\")\n",
    "    \n",
    "    # ndarrayに変換\n",
    "    As = np.array(As)\n",
    "    Ac_eq = np.array(Ac_eq)\n",
    "    Ac_leq = np.array(Ac_leq)\n",
    "    Ar_eq = np.array(Ar_eq)\n",
    "    Ar_leq = np.array(Ar_leq)\n",
    "    Ap = np.array(Ap)\n",
    "    Aq = np.array(Aq)\n",
    "    b_eq = np.array(b_eq)\n",
    "    b_leq = np.array(b_leq)\n",
    "    c1 = np.array(c1)\n",
    "    c2 = np.array(c2)\n",
    "    return As, Ac_eq, Ac_leq, Ar_eq, Ar_leq, Ap, Aq, b_eq, b_leq, c1, c2"
   ]
  },
  {
   "cell_type": "markdown",
   "metadata": {},
   "source": [
    "## 主問題を解く関数の定義\n",
    "与えられた定数を元にLPのモデルを作成した上でそれを解き、最適解を返す関数"
   ]
  },
  {
   "cell_type": "code",
   "execution_count": 24,
   "metadata": {},
   "outputs": [],
   "source": [
    "def solve_primal(As, Ac_eq, Ac_leq, Ar_eq, Ar_leq, Ap, Aq, b_eq, b_leq, c1, c2, instance_name, num_vars):\n",
    "    import gurobipy as gp\n",
    "    from gurobipy import GRB\n",
    "    import numpy as np\n",
    "    import time\n",
    "    \n",
    "    # インスタンスの生成\n",
    "    m = gp.Model(\"LP_for_VRP\" + instance_name)\n",
    "    # 定数を設定　←　入力として与えられる\n",
    "    # 変数を設定\n",
    "    \"\"\"\n",
    "    s_i : 顧客iへ車両が到着する時刻を表す変数\n",
    "    r_i : 顧客 i における車両の燃料補充時間を表す変数\n",
    "    c_i : 顧客 i に到着した時の燃料残量を表す変数\n",
    "    p_i : 顧客iの時間枠の違反度を表す変数\n",
    "    q_i : 顧客 i の荷物を配達するまでの制限時間に関する違反量を表す変数\n",
    "    \"\"\"\n",
    "    s = m.addMVar(shape=num_vars, vtype=GRB.CONTINUOUS, name=\"s\")\n",
    "    r = m.addMVar(shape=num_vars, vtype=GRB.CONTINUOUS, name=\"r\")\n",
    "    c = m.addMVar(shape=num_vars, vtype=GRB.CONTINUOUS, name=\"c\")\n",
    "    p = m.addMVar(shape=num_vars, vtype=GRB.CONTINUOUS, name=\"p\")\n",
    "    q = m.addMVar(shape=num_vars, vtype=GRB.CONTINUOUS, name=\"q\")\n",
    "\n",
    "    # モデルのアップデート\n",
    "    m.update()\n",
    "    \n",
    "    # 目的関数を設定\n",
    "    ## 各制約の違反度を最小化する\n",
    "    m.setObjective(c1.T @ p + c2.T @ q, sense=gp.GRB.MINIMIZE)\n",
    "    \n",
    "    # 制約条件を設定\n",
    "    ## 各係数行列のサイズを合わせる\n",
    "    m.addConstr(As @ s + Ac_leq @ c + Ar_leq @ r + Ap @ p + Aq @ q <= b_leq, name=\"c_leq\")\n",
    "    #m.addConstr(Ac_eq @ c + Ar_eq @ r == b_eq, name=\"c_eq\")\n",
    "\n",
    "    # モデルのアップデート\n",
    "    m.update()\n",
    "    \n",
    "    # 時間計測スタート\n",
    "    start = time.time()\n",
    "    \n",
    "    # パラメータ\n",
    "    #m.Params.Presolve = 0\n",
    "    #m.Params.Method = 0\n",
    "    \n",
    "    # 最適化\n",
    "    m.optimize()\n",
    "    \n",
    "    # 時間計測ストップ\n",
    "    elapsed_time = time.time() - start\n",
    "    \n",
    "    # 解の表示\n",
    "    \"\"\"if m.Status == gp.GRB.OPTIMAL:\n",
    "        for i in range(num_vars):\n",
    "            print(f\"車両が顧客{i}に到着する時刻は、{x[i].X}\")\n",
    "        print(\"最適値 : \", m.ObjVal)\n",
    "    print('\\033[34m'+f\"実時間\\t{elapsed_time}\"+'\\033[0m')\"\"\"\n",
    "    \n",
    "    # モデルをテキストファイルにする\n",
    "    m.write(\"out\"+instance_name+\".json\")\n",
    "        \n",
    "    return m"
   ]
  },
  {
   "cell_type": "markdown",
   "metadata": {},
   "source": [
    "## 双対問題を解く関数の定義"
   ]
  },
  {
   "cell_type": "code",
   "execution_count": 25,
   "metadata": {},
   "outputs": [],
   "source": [
    "def solve_dual(As, Ap, b, c, instance_name, num_vars, PStarts, DStarts):\n",
    "    import gurobipy as gp\n",
    "    from gurobipy import GRB\n",
    "    import numpy as np\n",
    "    import time\n",
    "    \n",
    "    # インスタンスの生成\n",
    "    m = gp.Model(\"LP_for_VRP\" + instance_name)\n",
    "    \n",
    "    # 変数を設定\n",
    "    \"\"\"\n",
    "    y_i : 主問題における制約式iの潜在価値\n",
    "    \"\"\"\n",
    "    y = m.addMVar(shape=num_vars, lb=0.0, ub=float('inf'), vtype=GRB.CONTINUOUS, name=\"y\")\n",
    "\n",
    "    # モデルのアップデート\n",
    "    m.update()\n",
    "    \n",
    "    # 目的関数を設定\n",
    "    m.setObjective(-1 * b.T @ y, sense=gp.GRB.MAsIMIZE)\n",
    "    \n",
    "    # 制約条件を設定\n",
    "    m.addConstr(As.T @ y >= 0, name=\"c1\")\n",
    "    m.addConstr(Ap.T @ y + c >= 0, name=\"c2\")\n",
    "    #m.addConstr(y >= 0, name=\"c3\")\n",
    "\n",
    "    # モデルのアップデート\n",
    "    m.update()\n",
    "    \n",
    "    # 時間計測スタート\n",
    "    start = time.time()\n",
    "    \n",
    "    # ホットスタートの使用\n",
    "    for i, var in enumerate(m.getVars()):\n",
    "        var.PStart = PStarts[i]\n",
    "    for i, constr in enumerate(m.getConstrs()):\n",
    "        #if i < DStarts.shape[0]:\n",
    "        constr.DStart = DStarts[i]\n",
    "    \n",
    "    # パラメータの設定\n",
    "    ##m.Params.Crossover = 4\n",
    "    m.Params.Method = 0\n",
    "    m.Params.Presolve = 0\n",
    "    m.Params.Displayinterval = 2**31-1\n",
    "    \n",
    "    # 最適化\n",
    "    m.optimize()\n",
    "    \n",
    "    # 時間計測ストップ\n",
    "    elapsed_time = time.time() - start\n",
    "    \n",
    "    # 解の表示\n",
    "    \"\"\"if m.Status == gp.GRB.OPTIMAL:\n",
    "        for i in range(num_vars):\n",
    "            print(f\"主問題における制約{i}の潜在価格は、{y[i].X}\")\n",
    "        print(\"最適値 : \", m.ObjVal)\n",
    "    print('\\033[34m'+f\"実時間\\t{elapsed_time}\"+'\\033[0m')\"\"\"\n",
    "    \n",
    "    # モデルをテキストファイルにする\n",
    "    m.write(\"out\"+instance_name+\".mst\")\n",
    "        \n",
    "    return m"
   ]
  },
  {
   "cell_type": "markdown",
   "metadata": {},
   "source": [
    "## ①全体を1つのLPとして解くveb."
   ]
  },
  {
   "cell_type": "markdown",
   "metadata": {},
   "source": [
    "### 全体のPrimalを解く"
   ]
  },
  {
   "cell_type": "code",
   "execution_count": 26,
   "metadata": {
    "scrolled": false
   },
   "outputs": [
    {
     "name": "stdout",
     "output_type": "stream",
     "text": [
      "Preceding constraints are done.\n",
      "Time-window constarints are done.\n",
      "Pick-up and delivery constarints are done.\n",
      "Charge constarints are done.\n"
     ]
    }
   ],
   "source": [
    "As, Ac_eq, Ac_leq, Ar_eq, Ar_leq, Ap, Aq, b_eq, b_leq, c1, c2 = make_inputs(tour, Customers, Points, F, C)"
   ]
  },
  {
   "cell_type": "code",
   "execution_count": null,
   "metadata": {},
   "outputs": [],
   "source": [
    "print(\"As : \", As.shape)\n",
    "print(\"Ac_leq : \", Ac_leq.shape)\n",
    "print(\"Ar_leq : \", Ar_leq.shape)\n",
    "print(\"Ap : \", Ap.shape)\n",
    "print(\"Aq : \", Aq.shape)\n",
    "print(\"b_leq : \", b_leq.shape)\n",
    "\n",
    "print(\"Ac_eq : \", Ac_eq.shape)\n",
    "print(\"Ar_eq : \", Ar_eq.shape)\n",
    "print(\"b_eq : \", b_eq.shape)"
   ]
  },
  {
   "cell_type": "code",
   "execution_count": null,
   "metadata": {},
   "outputs": [],
   "source": [
    "b_leq"
   ]
  },
  {
   "cell_type": "code",
   "execution_count": null,
   "metadata": {},
   "outputs": [],
   "source": [
    "for i in range(As.shape[0]):\n",
    "    print(As[i], \" \", Ac_leq[i], \" \", Ar_leq[i], \" \", Ap[i], \" \", Aq[i])"
   ]
  },
  {
   "cell_type": "code",
   "execution_count": 27,
   "metadata": {
    "scrolled": true
   },
   "outputs": [
    {
     "name": "stdout",
     "output_type": "stream",
     "text": [
      "Using license file /Users/okamoto/gurobi.lic\n",
      "Academic license - for non-commercial use only\n",
      "Gurobi Optimizer version 9.0.2 build v9.0.2rc0 (mac64)\n",
      "Optimize a model with 46 rows, 55 columns and 105 nonzeros\n",
      "Model fingerprint: 0xba659d7c\n",
      "Coefficient statistics:\n",
      "  Matrix range     [1e+00, 1e+00]\n",
      "  Objective range  [1e+00, 1e+00]\n",
      "  Bounds range     [0e+00, 0e+00]\n",
      "  RHS range        [1e+00, 1e+02]\n",
      "Presolve removed 26 rows and 38 columns\n",
      "Presolve time: 0.01s\n",
      "Presolved: 20 rows, 17 columns, 41 nonzeros\n",
      "\n",
      "Iteration    Objective       Primal Inf.    Dual Inf.      Time\n",
      "       0    1.9199067e+02   5.738576e+00   0.000000e+00      0s\n",
      "      17    2.0082444e+02   0.000000e+00   0.000000e+00      0s\n",
      "\n",
      "Solved in 17 iterations and 0.03 seconds\n",
      "Optimal objective  2.008244363e+02\n"
     ]
    }
   ],
   "source": [
    "# Gurobiによって最適解を求める\n",
    "P = solve_primal(As, Ac_eq, Ac_leq, Ar_eq, Ar_leq, Ap, Aq, b_eq, b_leq, c1, c2, instance_name+\"P\", len(tour))"
   ]
  },
  {
   "cell_type": "code",
   "execution_count": null,
   "metadata": {
    "scrolled": true
   },
   "outputs": [],
   "source": [
    "for var in P.getVars():\n",
    "    print(var.varName, var.X)"
   ]
  },
  {
   "cell_type": "code",
   "execution_count": null,
   "metadata": {
    "scrolled": true
   },
   "outputs": [],
   "source": [
    "for constr in P.getConstrs():\n",
    "    print(constr.Pi)"
   ]
  },
  {
   "cell_type": "markdown",
   "metadata": {},
   "source": [
    "## ②前半と後半をつなげるveb.\n",
    "1. 適当なところで前後に分ける\n",
    "1. 前半後半それぞれのPrimalを解く\n",
    "1. 前半と後半それぞれのPrimalの最適解を、全体のDualに入れて解く\n",
    "1. 全体のPrimalの最適解を得る"
   ]
  },
  {
   "cell_type": "markdown",
   "metadata": {},
   "source": [
    "### 1. 適当なところで前後に分ける\n",
    "- ひとまず半分くらいで分けることにする"
   ]
  },
  {
   "cell_type": "code",
   "execution_count": null,
   "metadata": {
    "scrolled": true
   },
   "outputs": [],
   "source": [
    "threshold = len(tour)//2\n",
    "#print(threshold)\n",
    "\n",
    "former = tour[:threshold]\n",
    "latter = tour[threshold:]\n",
    "#print(f\"巡回路全体は、{tour}\")\n",
    "print(f\"前半は、{former}\")\n",
    "print(f\"後半は、{latter}\")"
   ]
  },
  {
   "cell_type": "markdown",
   "metadata": {},
   "source": [
    "### 2. 前半後半それぞれのPrimalを解く"
   ]
  },
  {
   "cell_type": "code",
   "execution_count": null,
   "metadata": {
    "scrolled": true
   },
   "outputs": [],
   "source": [
    "import numpy as np\n",
    "# 係数行列、ベクトルを整える\n",
    "A1x, A1p, A2x, A2p, A3x, A3p, b1, b2, b3, c1, c2 = [], [], [], [], [], [], [], [], [], [], []\n",
    "index = 0\n",
    "index_P_f, index_P_l = [], []\n",
    "## A1, A2, A3を定める\n",
    "## b1, b2, b3を定める\n",
    "for As_i, Ap_i, b_i in zip(As, Ap, b):\n",
    "    if np.linalg.norm(As_i[threshold:], ord=2)==0.:\n",
    "        A1x.append(As_i[:threshold])\n",
    "        A1p.append(Ap_i[:threshold])\n",
    "        b1.append(b_i)\n",
    "        index_P_f.append(index)\n",
    "    elif np.linalg.norm(As_i[:threshold], ord=2)==0.:\n",
    "        A2x.append(As_i[threshold:])\n",
    "        A2p.append(Ap_i[threshold:])\n",
    "        b2.append(b_i)\n",
    "        index_P_l.append(index)\n",
    "    else:\n",
    "        A3x.append(As_i)\n",
    "        A3p.append(Ap_i)\n",
    "        b3.append(b_i)\n",
    "    index += 1\n",
    "## c1, c2, c3を定める\n",
    "c1 = c[:threshold]\n",
    "c2 = c[threshold:]\n",
    "## リストからnumpy arrayに変換\n",
    "A1x = np.array(A1x)\n",
    "A1p = np.array(A1p)\n",
    "A2x = np.array(A2x)\n",
    "A2p = np.array(A2p)\n",
    "A3x = np.array(A3x)\n",
    "A3p = np.array(A3p)\n",
    "b1 = np.array(b1)\n",
    "b2 = np.array(b2)\n",
    "b3 = np.array(b3)\n",
    "c1 = np.array(c1)\n",
    "c2 = np.array(c2)\n",
    "for i in range(1, 4):\n",
    "    print(f\"A{i}x : \", end=\"\")\n",
    "    print(eval(\"A\"+str(i)+\"x\"))\n",
    "    print(f\"A{i}p : \", end=\"\")\n",
    "    print(eval(\"A\"+str(i)+\"p\"))\n",
    "    print(f\"b{i} : \", end=\"\")\n",
    "    print(eval(\"b\"+str(i)))\n",
    "    if i <= 2:\n",
    "        print(eval(\"c\"+str(i)))"
   ]
  },
  {
   "cell_type": "code",
   "execution_count": null,
   "metadata": {
    "scrolled": false
   },
   "outputs": [],
   "source": [
    "# Gurobiによって最適解を求める\n",
    "P_f = solve_primal(A1x, A1p, b1, c1, instance_name+\"P_f\", len(former))\n",
    "P_l = solve_primal(A2x, A2p, b2, c2, instance_name+\"P_l\", len(latter))"
   ]
  },
  {
   "cell_type": "code",
   "execution_count": null,
   "metadata": {},
   "outputs": [],
   "source": [
    "for v in P_f.getVars():\n",
    "    print('%s %g %g' % (v.varName, v.x, v.VBasis))"
   ]
  },
  {
   "cell_type": "code",
   "execution_count": null,
   "metadata": {
    "scrolled": true
   },
   "outputs": [],
   "source": [
    "for v in P_l.getVars():\n",
    "    print('%s %g %g' % (v.varName, v.x, v.VBasis))"
   ]
  },
  {
   "cell_type": "code",
   "execution_count": null,
   "metadata": {
    "scrolled": true
   },
   "outputs": [],
   "source": [
    "for constr in P_f.getConstrs()+P_l.getConstrs():\n",
    "    print(constr.Pi, constr.CBasis)"
   ]
  },
  {
   "cell_type": "markdown",
   "metadata": {},
   "source": [
    "### 3. 前半後半それぞれのPrimalの最適解を、全体のDualに入れて解く"
   ]
  },
  {
   "cell_type": "code",
   "execution_count": null,
   "metadata": {
    "scrolled": true
   },
   "outputs": [],
   "source": [
    "# 初期解の保存\n",
    "PStarts = np.array([0 for constr in P_f.getConstrs()+P_l.getConstrs()])\n",
    "y3 = np.zeros((As.shape[0]-PStarts.shape[0],))\n",
    "PStarts = np.append(PStarts, y3)\n",
    "for i, constr in zip(index_P_f, P_f.getConstrs()):\n",
    "    PStarts[i] = constr.Pi\n",
    "for i, constr in zip(index_P_l, P_l.getConstrs()):\n",
    "    PStarts[i] = constr.Pi\n",
    "\n",
    "DStarts = np.array([var.x for var in P_f.getVars()+P_l.getVars()])\n",
    "#c3 = np.zeros((PStarts.shape[0],))\n",
    "#DStarts = np.append(DStarts, c3)\n",
    "\"\"\"for i, var in zip(index_P_f, P_f.getVars()):\n",
    "    DStarts[i] = var.x\n",
    "for i, var in zip(index_P_l, P_l.getVars()):\n",
    "    DStarts[i] = var.x\"\"\""
   ]
  },
  {
   "cell_type": "code",
   "execution_count": null,
   "metadata": {
    "scrolled": true
   },
   "outputs": [],
   "source": [
    "print(f\"As.T.shape={As.T.shape}\\t\\t\\tAp.T.shape={Ap.T.shape}\")\n",
    "for As_i, Ap_i in zip(As.T, Ap.T):\n",
    "    print(As_i, \"\\t\", Ap_i)"
   ]
  },
  {
   "cell_type": "code",
   "execution_count": null,
   "metadata": {},
   "outputs": [],
   "source": [
    "import numpy as np\n",
    "PStarts = np.array([-constr.Pi for constr in P.getConstrs()])\n",
    "DStarts = np.array([var.x for var in P.getVars()])\n",
    "#c3 = np.zeros((PStarts.shape[0],))\n",
    "#DStarts = np.append(DStarts, c3)"
   ]
  },
  {
   "cell_type": "code",
   "execution_count": null,
   "metadata": {
    "scrolled": false
   },
   "outputs": [],
   "source": [
    "# Gurobiによって最適解を求める\n",
    "D = solve_dual(As, Ap, b, c, instance_name+\"D\", PStarts.shape[0], PStarts, DStarts)"
   ]
  },
  {
   "cell_type": "code",
   "execution_count": null,
   "metadata": {
    "scrolled": false
   },
   "outputs": [],
   "source": [
    "c.T @ DStarts[len(DStarts)//2:]"
   ]
  },
  {
   "cell_type": "code",
   "execution_count": null,
   "metadata": {},
   "outputs": [],
   "source": [
    " -1 * b.T @ PStarts"
   ]
  },
  {
   "cell_type": "code",
   "execution_count": null,
   "metadata": {
    "scrolled": false
   },
   "outputs": [],
   "source": [
    "P.getObjective()"
   ]
  },
  {
   "cell_type": "code",
   "execution_count": null,
   "metadata": {},
   "outputs": [],
   "source": [
    "D.getObjective()"
   ]
  },
  {
   "cell_type": "code",
   "execution_count": null,
   "metadata": {},
   "outputs": [],
   "source": [
    "P.getObjective().getValue()"
   ]
  },
  {
   "cell_type": "code",
   "execution_count": null,
   "metadata": {},
   "outputs": [],
   "source": [
    "D.getObjective().getValue()"
   ]
  },
  {
   "cell_type": "code",
   "execution_count": null,
   "metadata": {
    "scrolled": true
   },
   "outputs": [],
   "source": [
    "# 最適解\n",
    "for var in D.getVars():\n",
    "    print(var.varName, var.X)"
   ]
  },
  {
   "cell_type": "markdown",
   "metadata": {},
   "source": [
    "### 4. 全体のPrimalの最適解を得る"
   ]
  },
  {
   "cell_type": "code",
   "execution_count": null,
   "metadata": {
    "scrolled": false
   },
   "outputs": [],
   "source": [
    "for constr in D.getConstrs():\n",
    "    print(-constr.Pi)"
   ]
  },
  {
   "cell_type": "code",
   "execution_count": null,
   "metadata": {
    "scrolled": false
   },
   "outputs": [],
   "source": [
    "for var in P.getVars():\n",
    "    print(var.varName, var.X)"
   ]
  },
  {
   "cell_type": "code",
   "execution_count": null,
   "metadata": {},
   "outputs": [],
   "source": []
  }
 ],
 "metadata": {
  "kernelspec": {
   "display_name": "Python 3",
   "language": "python",
   "name": "python3"
  },
  "language_info": {
   "codemirror_mode": {
    "name": "ipython",
    "version": 3
   },
   "file_extension": ".py",
   "mimetype": "text/x-python",
   "name": "python",
   "nbconvert_exporter": "python",
   "pygments_lexer": "ipython3",
   "version": "3.7.7"
  }
 },
 "nbformat": 4,
 "nbformat_minor": 4
}
