{
 "cells": [
  {
   "cell_type": "markdown",
   "metadata": {},
   "source": [
    "# ルートを評価するために解くLPについて\n",
    "- ルートが1つ与えられた後、そのルートを評価するためにLPを解く(ルートが実行可能であるとは限らない)\n",
    "\n",
    "<!--- 各制約の違反度を変数とし、それらに重みをかけて足し合わせた関数の最小化問題とする-->\n",
    "- 車両が各顧客へ到着する時刻を変数とし、その合計を最小化する問題とする\n",
    "- 制約は、容量制約と時間枠制約とする\n",
    "    - 容量制約は、ある区間における2つの関数の積分値(面積)の大小を比較するという形で表す(車両の積荷の量を表す区分線形関数の\\[x0, xn\\]までの積分値と最大容量を表す線形関数の\\[x0, xn\\]までの積分値)\n",
    "    - 時間枠制約は、通常のVRPの定式化と同様に表す\n"
   ]
  },
  {
   "cell_type": "markdown",
   "metadata": {},
   "source": [
    "# 前準備"
   ]
  },
  {
   "cell_type": "markdown",
   "metadata": {},
   "source": [
    "## 問題例の読み込み\n",
    "使用した問題例 : https://neo.lcc.uma.es/vrp/vrp-instances/description-for-files-of-solomons-instances/"
   ]
  },
  {
   "cell_type": "code",
   "execution_count": 1,
   "metadata": {},
   "outputs": [],
   "source": [
    "class Customer():\n",
    "    def __init__(self, x, y, d, e, l, s):\n",
    "        self.x = x\n",
    "        self.y = y\n",
    "        self.d = d\n",
    "        self.e = e\n",
    "        self.l = l\n",
    "        self.s = s"
   ]
  },
  {
   "cell_type": "code",
   "execution_count": 2,
   "metadata": {
    "scrolled": true
   },
   "outputs": [
    {
     "name": "stdout",
     "output_type": "stream",
     "text": [
      "./solomon_25/R101.txt\n",
      "./solomon_25/R103.txt\n",
      "./solomon_25/R102.txt\n",
      "./solomon_25/R112.txt\n",
      "./solomon_25/R106.txt\n",
      "./solomon_25/R107.txt\n",
      "./solomon_25/R105.txt\n",
      "./solomon_25/R111.txt\n",
      "./solomon_25/C108.txt\n",
      "./solomon_25/RC208.txt\n",
      "./solomon_25/C109.txt\n",
      "./solomon_25/R110.txt\n",
      "./solomon_25/R104.txt\n",
      "./solomon_25/R201.txt\n",
      "./solomon_25/R202.txt\n",
      "./solomon_25/R203.txt\n",
      "./solomon_25/R207.txt\n",
      "./solomon_25/R206.txt\n",
      "./solomon_25/R210.txt\n",
      "./solomon_25/R204.txt\n",
      "./solomon_25/C208.txt\n",
      "./solomon_25/R205.txt\n",
      "./solomon_25/R211.txt\n",
      "./solomon_25/RC108.txt\n",
      "./solomon_25/RC105.txt\n",
      "./solomon_25/R208.txt\n",
      "./solomon_25/C205.txt\n",
      "./solomon_25/C204.txt\n",
      "./solomon_25/R209.txt\n",
      "./solomon_25/RC104.txt\n",
      "./solomon_25/RC106.txt\n",
      "./solomon_25/R101.txt.distance\n",
      "./solomon_25/C206.txt\n",
      "./solomon_25/C207.txt\n",
      "./solomon_25/RC107.txt\n",
      "./solomon_25/RC103.txt\n",
      "./solomon_25/C203.txt\n",
      "./solomon_25/C202.txt\n",
      "./solomon_25/RC102.txt\n",
      "./solomon_25/C201.txt\n",
      "./solomon_25/RC101.txt\n",
      "./solomon_25/R109.txt\n",
      "./solomon_25/C104.txt\n",
      "./solomon_25/RC204.txt\n",
      "./solomon_25/RC205.txt\n",
      "./solomon_25/R101.txt.freight_1M1\n",
      "./solomon_25/C105.txt\n",
      "./solomon_25/R108.txt\n",
      "./solomon_25/C107.txt\n",
      "./solomon_25/RC207.txt\n",
      "./solomon_25/RC206.txt\n",
      "./solomon_25/C106.txt\n",
      "./solomon_25/C102.txt\n",
      "./solomon_25/RC202.txt\n",
      "./solomon_25/R101.txt.timecost\n",
      "./solomon_25/RC203.txt\n",
      "./solomon_25/C103.txt\n",
      "./solomon_25/C101.txt\n",
      "./solomon_25/RC201.txt\n"
     ]
    }
   ],
   "source": [
    "import glob\n",
    "\n",
    "files = glob.glob(\"./solomon_25/*\")\n",
    "for file in files:\n",
    "    print(file)"
   ]
  },
  {
   "cell_type": "code",
   "execution_count": 3,
   "metadata": {},
   "outputs": [],
   "source": [
    "# 問題例の選択\n",
    "instance = files[0]"
   ]
  },
  {
   "cell_type": "code",
   "execution_count": 4,
   "metadata": {},
   "outputs": [],
   "source": [
    "Customers = {}\n",
    "with open(instance, mode=\"r\") as f:\n",
    "    for index,line in enumerate(f):\n",
    "        #print(line)\n",
    "        l = []\n",
    "        if index==4:\n",
    "            line_s = [s.strip(\"\\n\") for s in line.split(\"\\t\")][0]\n",
    "            for s in line_s.split(\" \"):\n",
    "                if s!=\"\":\n",
    "                    l.append(int(s))\n",
    "            K, Q = l\n",
    "        elif 9<=index<=34:\n",
    "            line_s = [s.strip(\"\\n\") for s in line.split(\"\\t\")][0]\n",
    "            for s in line_s.split(\" \"):\n",
    "                if s!=\"\":\n",
    "                    l.append(int(s))\n",
    "            Customers[l[0]] = Customer(*l[1:])"
   ]
  },
  {
   "cell_type": "code",
   "execution_count": 5,
   "metadata": {},
   "outputs": [],
   "source": [
    "Customers[\"depot\"] = Customer(0,0,0,0,1000,0)"
   ]
  },
  {
   "cell_type": "code",
   "execution_count": 6,
   "metadata": {
    "scrolled": true
   },
   "outputs": [
    {
     "name": "stdout",
     "output_type": "stream",
     "text": [
      "\t ['x', 'y', 'd', 'e', 'l', 's']\n",
      "0\t35 35 0 0 230 0 \n",
      "1\t41 49 10 161 171 10 \n",
      "2\t35 17 7 50 60 10 \n",
      "3\t55 45 13 116 126 10 \n",
      "4\t55 20 19 149 159 10 \n",
      "5\t15 30 26 34 44 10 \n",
      "6\t25 30 3 99 109 10 \n",
      "7\t20 50 5 81 91 10 \n",
      "8\t10 43 9 95 105 10 \n",
      "9\t55 60 16 97 107 10 \n",
      "10\t30 60 16 124 134 10 \n",
      "11\t20 65 12 67 77 10 \n",
      "12\t50 35 19 63 73 10 \n",
      "13\t30 25 23 159 169 10 \n",
      "14\t15 10 20 32 42 10 \n",
      "15\t30 5 8 61 71 10 \n",
      "16\t10 20 19 75 85 10 \n",
      "17\t5 30 2 157 167 10 \n",
      "18\t20 40 12 87 97 10 \n",
      "19\t15 60 17 76 86 10 \n",
      "20\t45 65 9 126 136 10 \n",
      "21\t45 20 11 62 72 10 \n",
      "22\t45 10 18 97 107 10 \n",
      "23\t55 5 29 68 78 10 \n",
      "24\t65 35 3 153 163 10 \n",
      "25\t65 20 6 172 182 10 \n",
      "depot\t0 0 0 0 1000 0 \n"
     ]
    }
   ],
   "source": [
    "print(\"\\t\", list(vars(Customers[0]).keys()))\n",
    "for i in Customers.keys():\n",
    "    print(i, end=\"\\t\")\n",
    "    for key, val in vars(Customers[i]).items():\n",
    "        print(val, end=\" \")\n",
    "    print()"
   ]
  },
  {
   "cell_type": "markdown",
   "metadata": {},
   "source": [
    "## ルートの作成"
   ]
  },
  {
   "cell_type": "code",
   "execution_count": 7,
   "metadata": {},
   "outputs": [],
   "source": [
    "# 入力\n",
    "## 顧客\n",
    "C={} # 客の座標を保存する辞書\n",
    "TW={} # 客の時間枠を保存する辞書\n",
    "demand={} # 客の要求量(正の値は集荷，負の値は配達)\n",
    "S={} # 客のサービス時間\n",
    "\n",
    "for i in Customers:\n",
    "    x, y = Customers[i].x, Customers[i].y\n",
    "    C[i] = (x,y)\n",
    "    e, l = Customers[i].e, Customers[i].l\n",
    "    TW[i] = (e,l)\n",
    "    demand[i] = (Customers[i].d, )\n",
    "    S[i] = Customers[i].s\n",
    "    \"\"\"name=\"c\"+str(i)\n",
    "    x, y = Customers[i].x, Customers[i].y\n",
    "    C[name] = (x,y)\n",
    "    e, l = Customers[i].e, Customers[i].l\n",
    "    TW[name] = (e,l)\n",
    "    demand[name] = (Customers[i].d, )\n",
    "    S[name] = Customers[i].s\"\"\"\n",
    "#C[\"depot\"]=(0,0)\n",
    "\n",
    "## 車両\n",
    "M = K//2 # number of vehicles\n",
    "capacities = [(Q*2, ) for k in range(M)] # capacity of vehicle"
   ]
  },
  {
   "cell_type": "code",
   "execution_count": 8,
   "metadata": {},
   "outputs": [
    {
     "name": "stdout",
     "output_type": "stream",
     "text": [
      "Customer {0: (35, 35), 1: (41, 49), 2: (35, 17), 3: (55, 45), 4: (55, 20), 5: (15, 30), 6: (25, 30), 7: (20, 50), 8: (10, 43), 9: (55, 60), 10: (30, 60), 11: (20, 65), 12: (50, 35), 13: (30, 25), 14: (15, 10), 15: (30, 5), 16: (10, 20), 17: (5, 30), 18: (20, 40), 19: (15, 60), 20: (45, 65), 21: (45, 20), 22: (45, 10), 23: (55, 5), 24: (65, 35), 25: (65, 20), 'depot': (0, 0)}\n",
      "Time Window {0: (0, 230), 1: (161, 171), 2: (50, 60), 3: (116, 126), 4: (149, 159), 5: (34, 44), 6: (99, 109), 7: (81, 91), 8: (95, 105), 9: (97, 107), 10: (124, 134), 11: (67, 77), 12: (63, 73), 13: (159, 169), 14: (32, 42), 15: (61, 71), 16: (75, 85), 17: (157, 167), 18: (87, 97), 19: (76, 86), 20: (126, 136), 21: (62, 72), 22: (97, 107), 23: (68, 78), 24: (153, 163), 25: (172, 182), 'depot': (0, 1000)}\n",
      "Demand {0: (0,), 1: (10,), 2: (7,), 3: (13,), 4: (19,), 5: (26,), 6: (3,), 7: (5,), 8: (9,), 9: (16,), 10: (16,), 11: (12,), 12: (19,), 13: (23,), 14: (20,), 15: (8,), 16: (19,), 17: (2,), 18: (12,), 19: (17,), 20: (9,), 21: (11,), 22: (18,), 23: (29,), 24: (3,), 25: (6,), 'depot': (0,)}\n",
      "Service Time {0: 0, 1: 10, 2: 10, 3: 10, 4: 10, 5: 10, 6: 10, 7: 10, 8: 10, 9: 10, 10: 10, 11: 10, 12: 10, 13: 10, 14: 10, 15: 10, 16: 10, 17: 10, 18: 10, 19: 10, 20: 10, 21: 10, 22: 10, 23: 10, 24: 10, 25: 10, 'depot': 0}\n"
     ]
    }
   ],
   "source": [
    "print(\"Customer\",C)\n",
    "print(\"Time Window\",TW)\n",
    "print(\"Demand\",demand)\n",
    "print(\"Service Time\",S)"
   ]
  },
  {
   "cell_type": "code",
   "execution_count": 9,
   "metadata": {},
   "outputs": [
    {
     "data": {
      "image/png": "[encoded data removed]",
      "text/plain": [
       "<Figure size 504x504 with 1 Axes>"
      ]
     },
     "metadata": {
      "needs_background": "light"
     },
     "output_type": "display_data"
    }
   ],
   "source": [
    "import networkx as nx\n",
    "import matplotlib.pyplot as plt\n",
    "\n",
    "fig=plt.figure(figsize=(7,7))\n",
    "\n",
    "G=nx.DiGraph()\n",
    "nx.draw_networkx(G,pos=C,nodelist=[i for i in C if i != \"depot\"],node_color=\"y\",node_size=50,with_labels=True,edge_color=\"k\",width=1)\n",
    "nx.draw_networkx(G,pos=C,nodelist=[\"depot\"],node_color=\"blue\",node_shape='s',alpha=0.5,node_size=100,with_labels=True,edge_color=\"k\",width=1)\n",
    "\n",
    "plt.show()"
   ]
  },
  {
   "cell_type": "code",
   "execution_count": 10,
   "metadata": {},
   "outputs": [],
   "source": [
    "# 距離関数の定義\n",
    "#def Distance(t1,t2):\n",
    "#    return ((t1[0]-t2[0])**2+(t1[1]-t2[1])**2)**(0.5)\n",
    "def distance(x1, y1, x2, y2):\n",
    "    return ((x2-x1)**2+(y2-y1)**2)**(0.5)\n",
    "\n",
    "# ソルバーの読み込み\n",
    "import sys\n",
    "sys.path.append('..')\n",
    "\n",
    "#from vrplib.vrp_d_1m1_t_model import *\n",
    "import vrplib.vrp_d_1m1_t_model as vrp\n",
    "\n",
    "# ソルバーの実行\n",
    "model = vrp.Model(file.split(\"/\")[-1].split(\".\")[0]) # モデルインスタンスの生成\n",
    "\n",
    "## 客インスタンスの生成\n",
    "for i in C:\n",
    "    if i == \"depot\":\n",
    "        continue\n",
    "    model += vrp.Customer(i,demand=demand[i],timewindow=TW[i],servicetime=S[i])\n",
    "\n",
    "## 車両インスタンスの生成\n",
    "for k in range(M):\n",
    "    model += vrp.Vehicle(\"v\"+str(k),capacity=capacities[k])\n",
    "    \n",
    "## 枝インスタンスの生成\n",
    "for i in C:\n",
    "    for j in C:\n",
    "        if i!=j:\n",
    "            dist = time = distance(*C[i],*C[j])\n",
    "            model += vrp.Edge(i,j,dist,time)"
   ]
  },
  {
   "cell_type": "code",
   "execution_count": 11,
   "metadata": {
    "scrolled": true
   },
   "outputs": [
    {
     "name": "stdout",
     "output_type": "stream",
     "text": [
      "objective value = 1211.62\n",
      "\n",
      "Vehicle v0: {'capacity': (400,)}\n",
      "173.07639 = {'distance': 173.07639, 'freight_1M1': 0.0, 'timecost': 0.0}\n",
      "[0, 9, 20, 1]\n",
      "0\n",
      "9\n",
      "20\n",
      "1\n",
      "\n",
      "Vehicle v1: {'capacity': (400,)}\n",
      "36.055513 = {'distance': 36.055513, 'freight_1M1': 0.0, 'timecost': 0.0}\n",
      "[14]\n",
      "14\n",
      "\n",
      "Vehicle v2: {'capacity': (400,)}\n",
      "117.873959 = {'distance': 117.873959, 'freight_1M1': 0.0, 'timecost': 0.0}\n",
      "[2, 21, 4]\n",
      "2\n",
      "21\n",
      "4\n",
      "\n",
      "Vehicle v3: {'capacity': (400,)}\n",
      "67.082039 = {'distance': 67.082039, 'freight_1M1': 0.0, 'timecost': 0.0}\n",
      "[5]\n",
      "5\n",
      "\n",
      "Vehicle v4: {'capacity': (400,)}\n",
      "60.827625 = {'distance': 60.827625, 'freight_1M1': 0.0, 'timecost': 0.0}\n",
      "[17]\n",
      "17\n",
      "\n",
      "Vehicle v5: {'capacity': (400,)}\n",
      "164.129669 = {'distance': 164.129669, 'freight_1M1': 0.0, 'timecost': 0.0}\n",
      "[11, 19, 10, 13]\n",
      "11\n",
      "19\n",
      "10\n",
      "13\n",
      "\n",
      "Vehicle v6: {'capacity': (400,)}\n",
      "169.362606 = {'distance': 169.362606, 'freight_1M1': 0.0, 'timecost': 0.0}\n",
      "[12, 3, 24, 25]\n",
      "12\n",
      "3\n",
      "24\n",
      "25\n",
      "\n",
      "Vehicle v7: {'capacity': (400,)}\n",
      "112.504867 = {'distance': 112.504867, 'freight_1M1': 0.0, 'timecost': 0.0}\n",
      "[23, 22]\n",
      "23\n",
      "22\n",
      "\n",
      "Vehicle v8: {'capacity': (400,)}\n",
      "44.72136 = {'distance': 44.72136, 'freight_1M1': 0.0, 'timecost': 0.0}\n",
      "[16]\n",
      "16\n",
      "\n",
      "Vehicle v9: {'capacity': (400,)}\n",
      "110.205684 = {'distance': 110.205684, 'freight_1M1': 0.0, 'timecost': 0.0}\n",
      "[7, 8]\n",
      "7\n",
      "8\n",
      "\n",
      "Vehicle v10: {'capacity': (400,)}\n",
      "60.827625 = {'distance': 60.827625, 'freight_1M1': 0.0, 'timecost': 0.0}\n",
      "[15]\n",
      "15\n",
      "\n",
      "Vehicle v11: {'capacity': (400,)}\n",
      "94.952948 = {'distance': 94.952948, 'freight_1M1': 0.0, 'timecost': 0.0}\n",
      "[18, 6]\n",
      "18\n",
      "6\n"
     ]
    }
   ],
   "source": [
    "## 最適化の実行\n",
    "obj=model.optimize(IterLimit=100,TimeLimit=1,Verbose=False,OutputFlag=False)\n",
    "\n",
    "## 得られた解の表示\n",
    "print(\"objective value =\",obj)\n",
    "for v in model.vehiclesL:\n",
    "    print()\n",
    "    print(v)\n",
    "    print(list(map(lambda x:x.name,v.routing[1:-1])))    \n",
    "    for iv in map(lambda x:x.name,v.routing[1:-1]):\n",
    "        print(iv)"
   ]
  },
  {
   "cell_type": "markdown",
   "metadata": {},
   "source": [
    "## ルートを1つ選ぶ"
   ]
  },
  {
   "cell_type": "code",
   "execution_count": 12,
   "metadata": {},
   "outputs": [],
   "source": [
    "# Vehicle 6の巡回路を選んでいる\n",
    "tour = [12, 3, 24, 25]#+[\"depot\"]"
   ]
  },
  {
   "cell_type": "markdown",
   "metadata": {},
   "source": [
    "## その他作業"
   ]
  },
  {
   "cell_type": "code",
   "execution_count": 13,
   "metadata": {
    "scrolled": true
   },
   "outputs": [
    {
     "name": "stdout",
     "output_type": "stream",
     "text": [
      "R101.tx\n"
     ]
    }
   ],
   "source": [
    "# 使用した問題例の名称を保存\n",
    "tmp = []\n",
    "for s in instance[-1:0:-1]:\n",
    "    if s=='/':\n",
    "        break\n",
    "    tmp.append(s)\n",
    "instance_name = \"\".join(tmp[-1:0:-1])\n",
    "print(instance_name)"
   ]
  },
  {
   "cell_type": "markdown",
   "metadata": {},
   "source": [
    "# 問題を解く\n",
    "2つの手法に対し、計算時間を比較"
   ]
  },
  {
   "cell_type": "markdown",
   "metadata": {},
   "source": [
    "## 入力する行列、ベクトルの作成"
   ]
  },
  {
   "cell_type": "code",
   "execution_count": 14,
   "metadata": {},
   "outputs": [],
   "source": [
    "def make_preceding_constr(tour, Customers, Ax, Ap, b, c):\n",
    "    # ルート内の顧客の順序に関する制約\n",
    "    for index, i in enumerate(tour):\n",
    "        try:\n",
    "            i_next = tour[index+1]\n",
    "        except:\n",
    "            i_next = \"depot\"\n",
    "            continue\n",
    "        Ax.append([1 if target==i else -1 if target==i_next else 0 for target in tour])\n",
    "        Ap.append([0 for _ in range(len(tour))])\n",
    "        b.append(-distance(Customers[i].x, Customers[i].y, Customers[i_next].x, Customers[i_next].y))\n",
    "    return Ax, Ap, b, c"
   ]
  },
  {
   "cell_type": "code",
   "execution_count": 15,
   "metadata": {},
   "outputs": [],
   "source": [
    "def make_tw_constr(tour, Customers, Ax, Ap, b, c):\n",
    "    # 時間枠制約\n",
    "    for index, i in enumerate(tour):\n",
    "        Ax.append([-1 if i==target else 0 for index_, target in enumerate(tour)])\n",
    "        Ap.append([-1 if i==target else 0 for index_, target in enumerate(tour)])\n",
    "        b.append(-Customers[i].e)\n",
    "        Ax.append([1 if i==target else 0 for index_, target in enumerate(tour)])\n",
    "        Ap.append([-1 if i==target else 0 for index_, target in enumerate(tour)])\n",
    "        b.append(Customers[i].l)\n",
    "    return Ax, Ap, b, c"
   ]
  },
  {
   "cell_type": "code",
   "execution_count": 16,
   "metadata": {},
   "outputs": [],
   "source": [
    "def make_inputs(tour, Customers):\n",
    "    import numpy as np\n",
    "    Ax, Ap, b, c = [], [], [], [1 for _ in range(len(tour))]\n",
    "    # ルート内の顧客の順序に関する制約\n",
    "    Ax, Ap, b, c = make_preceding_constr(tour, Customers, Ax, Ap, b, c)\n",
    "    # 時間枠制約\n",
    "    Ax, Ap, b, c = make_tw_constr(tour, Customers, Ax, Ap, b, c)\n",
    "    # ndarrayに変換\n",
    "    Ax = np.array(Ax)\n",
    "    Ap = np.array(Ap)\n",
    "    b = np.array(b)\n",
    "    c = np.array(c)\n",
    "    return Ax, Ap, b, c"
   ]
  },
  {
   "cell_type": "markdown",
   "metadata": {},
   "source": [
    "## 主問題を解く関数の定義\n",
    "与えられた定数を元にLPのモデルを作成した上でそれを解き、最適解を返す関数"
   ]
  },
  {
   "cell_type": "code",
   "execution_count": 17,
   "metadata": {},
   "outputs": [],
   "source": [
    "def solve_primal(Ax, Ap, b, c, instance_name, num_vars):\n",
    "    import gurobipy as gp\n",
    "    from gurobipy import GRB\n",
    "    import numpy as np\n",
    "    import time\n",
    "    \n",
    "    # インスタンスの生成\n",
    "    m = gp.Model(\"LP_for_VRP\" + instance_name)\n",
    "    # 定数を設定　←　入力として与えられる\n",
    "    # 変数を設定\n",
    "    \"\"\"\n",
    "    x_i : 顧客iへ車両が到着する時刻を表す変数\n",
    "    p_i : 顧客iの時間枠の違反度を表す変数\n",
    "    \"\"\"\n",
    "    x = m.addMVar(shape=num_vars, vtype=GRB.CONTINUOUS, name=\"x\")\n",
    "    p = m.addMVar(shape=num_vars, vtype=GRB.CONTINUOUS, name=\"p\")\n",
    "\n",
    "    # モデルのアップデート\n",
    "    m.update()\n",
    "    \n",
    "    # 目的関数を設定\n",
    "    ## 各制約の違反度を最小化する\n",
    "    m.setObjective(c.T @ p, sense=gp.GRB.MINIMIZE)\n",
    "    \n",
    "    # 制約条件を設定\n",
    "    m.addConstr(Ax @ x + Ap @ p <= b, name=\"c\")\n",
    "\n",
    "    # モデルのアップデート\n",
    "    m.update()\n",
    "    \n",
    "    # 時間計測スタート\n",
    "    start = time.time()\n",
    "    \n",
    "    # 最適化\n",
    "    m.optimize()\n",
    "    \n",
    "    # 時間計測ストップ\n",
    "    elapsed_time = time.time() - start\n",
    "    \n",
    "    # 解の表示\n",
    "    if m.Status == gp.GRB.OPTIMAL:\n",
    "        for i in range(num_vars):\n",
    "            print(f\"車両が顧客{i}に到着する時刻は、{x[i].X}\")\n",
    "        print(\"最適値 : \", m.ObjVal)\n",
    "    print('\\033[34m'+f\"実時間\\t{elapsed_time}\"+'\\033[0m')\n",
    "        \n",
    "    return m"
   ]
  },
  {
   "cell_type": "markdown",
   "metadata": {},
   "source": [
    "## 双対問題を解く関数の定義"
   ]
  },
  {
   "cell_type": "code",
   "execution_count": 18,
   "metadata": {},
   "outputs": [],
   "source": [
    "def solve_dual(Ax, Ap, b, c, instance_name, num_vars, basis_like):\n",
    "    import gurobipy as gp\n",
    "    from gurobipy import GRB\n",
    "    import numpy as np\n",
    "    import time\n",
    "    \n",
    "    # インスタンスの生成\n",
    "    m = gp.Model(\"LP_for_VRP\" + instance_name)\n",
    "    \n",
    "    # 変数を設定\n",
    "    \"\"\"\n",
    "    y_i : 主問題における制約式iの潜在価値\n",
    "    \"\"\"\n",
    "    y = m.addMVar(shape=num_vars, vtype=GRB.CONTINUOUS, name=\"y\")\n",
    "\n",
    "    # モデルのアップデート\n",
    "    m.update()\n",
    "    \n",
    "    # 目的関数を設定\n",
    "    ## 各制約の違反度を最小化する\n",
    "    m.setObjective(b.T @ y, sense=gp.GRB.MAXIMIZE)\n",
    "    \n",
    "    # 制約条件を設定\n",
    "    m.addConstr(Ax.T @ y == 0, name=\"c1\")\n",
    "    m.addConstr(Ap.T @ y + c == 0, name=\"c2\")\n",
    "    m.addConstr(y >= 0, name=\"c3\")\n",
    "\n",
    "    # モデルのアップデート\n",
    "    m.update()\n",
    "    \n",
    "    # 時間計測スタート\n",
    "    start = time.time()\n",
    "    \n",
    "    # ホットスタートの使用\n",
    "    for i in range(num_vars):\n",
    "        y[i].PStart = basis_like[i]\n",
    "    \n",
    "    # 最適化\n",
    "    m.optimize()\n",
    "    \n",
    "    # 時間計測ストップ\n",
    "    elapsed_time = time.time() - start\n",
    "    \n",
    "    # 解の表示\n",
    "    if m.Status == gp.GRB.OPTIMAL:\n",
    "        for i in range(num_vars):\n",
    "            print(f\"主問題における制約{i}の潜在価格は、{y[i].X}\")\n",
    "        print(\"最適値 : \", m.ObjVal)\n",
    "    print('\\033[34m'+f\"実時間\\t{elapsed_time}\"+'\\033[0m')\n",
    "        \n",
    "    return m"
   ]
  },
  {
   "cell_type": "markdown",
   "metadata": {},
   "source": [
    "## ①全体を1つのLPとして解くveb.\n",
    "1. ルートが与えられる\n",
    "1. Primalを解く"
   ]
  },
  {
   "cell_type": "markdown",
   "metadata": {},
   "source": [
    "### 1. ルートが与えられる"
   ]
  },
  {
   "cell_type": "markdown",
   "metadata": {},
   "source": [
    "### 2. 全体のPrimalを解く"
   ]
  },
  {
   "cell_type": "code",
   "execution_count": 42,
   "metadata": {},
   "outputs": [],
   "source": [
    "Ax, Ap, b, c = make_inputs(tour, Customers)"
   ]
  },
  {
   "cell_type": "code",
   "execution_count": 20,
   "metadata": {
    "scrolled": true
   },
   "outputs": [
    {
     "name": "stdout",
     "output_type": "stream",
     "text": [
      "Using license file /Users/okamoto/gurobi.lic\n",
      "Academic license - for non-commercial use only\n",
      "Gurobi Optimizer version 9.0.2 build v9.0.2rc0 (mac64)\n",
      "Optimize a model with 11 rows, 8 columns and 22 nonzeros\n",
      "Model fingerprint: 0x5007f038\n",
      "Coefficient statistics:\n",
      "  Matrix range     [1e+00, 1e+00]\n",
      "  Objective range  [1e+00, 1e+00]\n",
      "  Bounds range     [0e+00, 0e+00]\n",
      "  RHS range        [1e+01, 2e+02]\n",
      "Presolve removed 2 rows and 1 columns\n",
      "Presolve time: 0.01s\n",
      "Presolved: 9 rows, 7 columns, 18 nonzeros\n",
      "\n",
      "Iteration    Objective       Primal Inf.    Dual Inf.      Time\n",
      "       0    0.0000000e+00   1.792810e+02   0.000000e+00      0s\n",
      "       3    0.0000000e+00   0.000000e+00   0.000000e+00      0s\n",
      "\n",
      "Solved in 3 iterations and 0.02 seconds\n",
      "Optimal objective  0.000000000e+00\n",
      "車両が顧客0に到着する時刻は、[63.]\n",
      "車両が顧客1に到着する時刻は、[116.]\n",
      "車両が顧客2に到着する時刻は、[153.]\n",
      "車両が顧客3に到着する時刻は、[182.]\n",
      "最適値 :  0.0\n",
      "\u001b[34m実時間\t0.02517104148864746\u001b[0m\n"
     ]
    }
   ],
   "source": [
    "# Gurobiによって最適解を求める\n",
    "whole_x = solve_primal(Ax, Ap, b, c, instance_name+\"whole_x\", len(tour))"
   ]
  },
  {
   "cell_type": "code",
   "execution_count": 21,
   "metadata": {
    "scrolled": true
   },
   "outputs": [
    {
     "name": "stdout",
     "output_type": "stream",
     "text": [
      "0.0\n",
      "0.0\n",
      "0.0\n",
      "0.0\n",
      "0.0\n",
      "0.0\n",
      "0.0\n",
      "0.0\n",
      "0.0\n",
      "0.0\n",
      "0.0\n"
     ]
    }
   ],
   "source": [
    "for constr in whole_x.getConstrs():\n",
    "    print(constr.Pi)"
   ]
  },
  {
   "cell_type": "markdown",
   "metadata": {},
   "source": [
    "## ②前半と後半をつなげるveb.\n",
    "1. ルートが与えられる\n",
    "1. 適当なところで前後に分ける\n",
    "1. 前半後半それぞれのPrimalを解く\n",
    "1. 前半と後半それぞれのPrimalの最適解を、全体のDualに入れて解く(つなげる際に必要になる制約A3を考えなければならない)\n",
    "1. Primalの解を相補正条件によって復元"
   ]
  },
  {
   "cell_type": "markdown",
   "metadata": {},
   "source": [
    "### 2. 適当なところで前後に分ける\n",
    "- ひとまず半分くらいで分けることにする"
   ]
  },
  {
   "cell_type": "code",
   "execution_count": 22,
   "metadata": {},
   "outputs": [
    {
     "name": "stdout",
     "output_type": "stream",
     "text": [
      "巡回路全体は、[12, 3, 24, 25]\n",
      "前半は、[12, 3]\n",
      "後半は、[24, 25]\n"
     ]
    }
   ],
   "source": [
    "threshold = len(tour)//2\n",
    "#print(threshold)\n",
    "\n",
    "former = tour[:threshold]\n",
    "latter = tour[threshold:]\n",
    "print(f\"巡回路全体は、{tour}\")\n",
    "print(f\"前半は、{former}\")\n",
    "print(f\"後半は、{latter}\")"
   ]
  },
  {
   "cell_type": "markdown",
   "metadata": {},
   "source": [
    "### 3. 前半後半それぞれのPrimalを解く"
   ]
  },
  {
   "cell_type": "code",
   "execution_count": 23,
   "metadata": {
    "scrolled": true
   },
   "outputs": [
    {
     "name": "stdout",
     "output_type": "stream",
     "text": [
      "A1x : [[ 1 -1]\n",
      " [-1  0]\n",
      " [ 1  0]\n",
      " [ 0 -1]\n",
      " [ 0  1]]\n",
      "A1p : [[ 0  0]\n",
      " [-1  0]\n",
      " [-1  0]\n",
      " [ 0 -1]\n",
      " [ 0 -1]]\n",
      "b1 : [ -11.18033989  -63.           73.         -116.          126.        ]\n",
      "[1 1]\n",
      "A2x : [[ 1 -1]\n",
      " [-1  0]\n",
      " [ 1  0]\n",
      " [ 0 -1]\n",
      " [ 0  1]]\n",
      "A2p : [[ 0  0]\n",
      " [-1  0]\n",
      " [-1  0]\n",
      " [ 0 -1]\n",
      " [ 0 -1]]\n",
      "b2 : [ -15. -153.  163. -172.  182.]\n",
      "[1 1]\n",
      "A3x : [[ 0  1 -1  0]]\n",
      "A3p : [[0 0 0 0]]\n",
      "b3 : [-14.14213562]\n"
     ]
    }
   ],
   "source": [
    "import numpy as np\n",
    "# 係数行列、ベクトルを整える\n",
    "A1x, A1p, A2x, A2p, A3x, A3p, b1, b2, b3, c1, c2 = [], [], [], [], [], [], [], [], [], [], []\n",
    "## A1, A2, A3を定める\n",
    "## b1, b2, b3を定める\n",
    "for Ax_i, Ap_i, b_i in zip(Ax, Ap, b):\n",
    "    if np.linalg.norm(Ax_i[threshold:], ord=2)==0.:\n",
    "        A1x.append(Ax_i[:threshold])\n",
    "        A1p.append(Ap_i[:threshold])\n",
    "        b1.append(b_i)\n",
    "    elif np.linalg.norm(Ax_i[:threshold], ord=2)==0.:\n",
    "        A2x.append(Ax_i[threshold:])\n",
    "        A2p.append(Ap_i[threshold:])\n",
    "        b2.append(b_i)\n",
    "    else:\n",
    "        A3x.append(Ax_i)\n",
    "        A3p.append(Ap_i)\n",
    "        b3.append(b_i)\n",
    "## c1, c2, c3を定める\n",
    "c1 = c[:threshold]\n",
    "c2 = c[threshold:]\n",
    "    \n",
    "## リストからnumpy arrayに変換\n",
    "A1x = np.array(A1x)\n",
    "A1p = np.array(A1p)\n",
    "A2x = np.array(A2x)\n",
    "A2p = np.array(A2p)\n",
    "A3x = np.array(A3x)\n",
    "A3p = np.array(A3p)\n",
    "b1 = np.array(b1)\n",
    "b2 = np.array(b2)\n",
    "b3 = np.array(b3)\n",
    "c1 = np.array(c1)\n",
    "c2 = np.array(c2)\n",
    "for i in range(1, 4):\n",
    "    print(f\"A{i}x : \", end=\"\")\n",
    "    print(eval(\"A\"+str(i)+\"x\"))\n",
    "    print(f\"A{i}p : \", end=\"\")\n",
    "    print(eval(\"A\"+str(i)+\"p\"))\n",
    "    print(f\"b{i} : \", end=\"\")\n",
    "    print(eval(\"b\"+str(i)))\n",
    "    if i <= 2:\n",
    "        print(eval(\"c\"+str(i)))"
   ]
  },
  {
   "cell_type": "code",
   "execution_count": 24,
   "metadata": {
    "scrolled": true
   },
   "outputs": [
    {
     "name": "stdout",
     "output_type": "stream",
     "text": [
      "Gurobi Optimizer version 9.0.2 build v9.0.2rc0 (mac64)\n",
      "Optimize a model with 5 rows, 4 columns and 10 nonzeros\n",
      "Model fingerprint: 0x5e79c72b\n",
      "Coefficient statistics:\n",
      "  Matrix range     [1e+00, 1e+00]\n",
      "  Objective range  [1e+00, 1e+00]\n",
      "  Bounds range     [0e+00, 0e+00]\n",
      "  RHS range        [1e+01, 1e+02]\n",
      "Presolve removed 2 rows and 1 columns\n",
      "Presolve time: 0.03s\n",
      "Presolved: 3 rows, 3 columns, 6 nonzeros\n",
      "\n",
      "Iteration    Objective       Primal Inf.    Dual Inf.      Time\n",
      "       0    0.0000000e+00   6.300000e+01   0.000000e+00      0s\n",
      "       1    0.0000000e+00   0.000000e+00   0.000000e+00      0s\n",
      "\n",
      "Solved in 1 iterations and 0.06 seconds\n",
      "Optimal objective  0.000000000e+00\n",
      "車両が顧客0に到着する時刻は、[63.]\n",
      "車両が顧客1に到着する時刻は、[126.]\n",
      "最適値 :  0.0\n",
      "\u001b[34m実時間\t0.07782888412475586\u001b[0m\n",
      "Gurobi Optimizer version 9.0.2 build v9.0.2rc0 (mac64)\n",
      "Optimize a model with 5 rows, 4 columns and 10 nonzeros\n",
      "Model fingerprint: 0x49be07ce\n",
      "Coefficient statistics:\n",
      "  Matrix range     [1e+00, 1e+00]\n",
      "  Objective range  [1e+00, 1e+00]\n",
      "  Bounds range     [0e+00, 0e+00]\n",
      "  RHS range        [2e+01, 2e+02]\n",
      "Presolve removed 2 rows and 1 columns\n",
      "Presolve time: 0.06s\n",
      "Presolved: 3 rows, 3 columns, 6 nonzeros\n",
      "\n",
      "Iteration    Objective       Primal Inf.    Dual Inf.      Time\n",
      "       0    0.0000000e+00   1.530000e+02   0.000000e+00      0s\n",
      "       1    0.0000000e+00   0.000000e+00   0.000000e+00      0s\n",
      "\n",
      "Solved in 1 iterations and 0.08 seconds\n",
      "Optimal objective  0.000000000e+00\n",
      "車両が顧客0に到着する時刻は、[153.]\n",
      "車両が顧客1に到着する時刻は、[182.]\n",
      "最適値 :  0.0\n",
      "\u001b[34m実時間\t0.0853431224822998\u001b[0m\n"
     ]
    }
   ],
   "source": [
    "# Gurobiによって最適解を求める\n",
    "former_x = solve_primal(A1x, A1p, b1, c1, instance_name+\"former_x\", len(former))\n",
    "latter_x = solve_primal(A2x, A2p, b2, c2, instance_name+\"latter_x\", len(latter))"
   ]
  },
  {
   "cell_type": "code",
   "execution_count": 25,
   "metadata": {},
   "outputs": [
    {
     "name": "stdout",
     "output_type": "stream",
     "text": [
      "x[0] 63 0\n",
      "x[1] 126 0\n",
      "p[0] 0 -1\n",
      "p[1] 0 -1\n"
     ]
    }
   ],
   "source": [
    "for v in former_x.getVars():\n",
    "        print('%s %g %g' % (v.varName, v.x, v.VBasis))"
   ]
  },
  {
   "cell_type": "code",
   "execution_count": 26,
   "metadata": {},
   "outputs": [
    {
     "name": "stdout",
     "output_type": "stream",
     "text": [
      "x[0] 153 0\n",
      "x[1] 182 0\n",
      "p[0] 0 -1\n",
      "p[1] 0 -1\n"
     ]
    }
   ],
   "source": [
    "for v in latter_x.getVars():\n",
    "        print('%s %g %g' % (v.varName, v.x, v.VBasis))"
   ]
  },
  {
   "cell_type": "code",
   "execution_count": 27,
   "metadata": {},
   "outputs": [
    {
     "name": "stdout",
     "output_type": "stream",
     "text": [
      "0.0 0\n",
      "0.0 -1\n",
      "0.0 0\n",
      "0.0 0\n",
      "0.0 -1\n",
      "0.0 0\n",
      "0.0 -1\n",
      "0.0 0\n",
      "0.0 0\n",
      "0.0 -1\n"
     ]
    }
   ],
   "source": [
    "for constr in former_x.getConstrs()+latter_x.getConstrs():\n",
    "    print(constr.Pi, constr.CBasis)"
   ]
  },
  {
   "cell_type": "markdown",
   "metadata": {},
   "source": [
    "### 4. 前半後半それぞれのPrimalの最適解を、全体のDualに入れて解く"
   ]
  },
  {
   "cell_type": "code",
   "execution_count": 30,
   "metadata": {},
   "outputs": [],
   "source": [
    "# 初期解の保存\n",
    "basis_like = np.array([constr.Pi for constr in former_x.getConstrs()+latter_x.getConstrs()])\n",
    "y3 = np.zeros((Ax.shape[0]-basis_like.shape[0],))\n",
    "basis_like = np.append(basis_like, y3)"
   ]
  },
  {
   "cell_type": "code",
   "execution_count": 47,
   "metadata": {},
   "outputs": [
    {
     "name": "stdout",
     "output_type": "stream",
     "text": [
      "Ax.T.shape=(4, 11)\t\t\tAp.T.shape=(4, 11)\n",
      "[ 1  0  0 -1  1  0  0  0  0  0  0] \t [ 0  0  0 -1 -1  0  0  0  0  0  0]\n",
      "[-1  1  0  0  0 -1  1  0  0  0  0] \t [ 0  0  0  0  0 -1 -1  0  0  0  0]\n",
      "[ 0 -1  1  0  0  0  0 -1  1  0  0] \t [ 0  0  0  0  0  0  0 -1 -1  0  0]\n",
      "[ 0  0 -1  0  0  0  0  0  0 -1  1] \t [ 0  0  0  0  0  0  0  0  0 -1 -1]\n"
     ]
    }
   ],
   "source": [
    "print(f\"Ax.T.shape={Ax.T.shape}\\t\\t\\tAp.T.shape={Ap.T.shape}\")\n",
    "for Ax_i, Ap_i in zip(Ax.T, Ap.T):\n",
    "    print(Ax_i, \"\\t\", Ap_i)"
   ]
  },
  {
   "cell_type": "code",
   "execution_count": 34,
   "metadata": {
    "scrolled": true
   },
   "outputs": [
    {
     "name": "stdout",
     "output_type": "stream",
     "text": [
      "Gurobi Optimizer version 9.0.2 build v9.0.2rc0 (mac64)\n",
      "Optimize a model with 19 rows, 11 columns and 33 nonzeros\n",
      "Model fingerprint: 0xc1514e98\n",
      "Coefficient statistics:\n",
      "  Matrix range     [1e+00, 1e+00]\n",
      "  Objective range  [1e+01, 2e+02]\n",
      "  Bounds range     [0e+00, 0e+00]\n",
      "  RHS range        [1e+00, 1e+00]\n",
      "Presolve removed 17 rows and 8 columns\n",
      "Presolve time: 0.01s\n",
      "Presolved: 2 rows, 3 columns, 4 nonzeros\n",
      "\n",
      "Iteration    Objective       Primal Inf.    Dual Inf.      Time\n",
      "       0    3.8181966e+02   1.000000e+00   0.000000e+00      0s\n",
      "       1    1.1153539e+02   0.000000e+00   0.000000e+00      0s\n",
      "\n",
      "Solved in 1 iterations and 0.01 seconds\n",
      "Optimal objective  1.115353889e+02\n",
      "主問題における制約0の潜在価格は、[1.]\n",
      "主問題における制約1の潜在価格は、[2.]\n",
      "主問題における制約2の潜在価格は、[1.]\n",
      "主問題における制約3の潜在価格は、[1.]\n",
      "主問題における制約4の潜在価格は、[0.]\n",
      "主問題における制約5の潜在価格は、[1.]\n",
      "主問題における制約6の潜在価格は、[0.]\n",
      "主問題における制約7の潜在価格は、[0.]\n",
      "主問題における制約8の潜在価格は、[1.]\n",
      "主問題における制約9の潜在価格は、[0.]\n",
      "主問題における制約10の潜在価格は、[1.]\n",
      "最適値 :  111.53538886503915\n",
      "\u001b[34m実時間\t0.019119977951049805\u001b[0m\n"
     ]
    }
   ],
   "source": [
    "# Gurobiによって最適解を求める\n",
    "whole_y = solve_dual(Ax, Ap, b, c, instance_name+\"whole_y\", basis_like.shape[0], basis_like)"
   ]
  },
  {
   "cell_type": "markdown",
   "metadata": {},
   "source": [
    "### 5. Primalの解を復元(相補正条件)"
   ]
  },
  {
   "cell_type": "code",
   "execution_count": 36,
   "metadata": {},
   "outputs": [
    {
     "name": "stdout",
     "output_type": "stream",
     "text": [
      "y[0] 1.0\n",
      "y[1] 2.0\n",
      "y[2] 1.0\n",
      "y[3] 1.0\n",
      "y[4] 0.0\n",
      "y[5] 1.0\n",
      "y[6] 0.0\n",
      "y[7] 0.0\n",
      "y[8] 1.0\n",
      "y[9] 0.0\n",
      "y[10] 1.0\n"
     ]
    }
   ],
   "source": [
    "for var in whole_y.getVars():\n",
    "    print(var.varName, var.X)"
   ]
  },
  {
   "cell_type": "code",
   "execution_count": 40,
   "metadata": {},
   "outputs": [
    {
     "name": "stdout",
     "output_type": "stream",
     "text": [
      "109.81966011250105\n",
      "121.0\n",
      "135.14213562373095\n",
      "150.14213562373095\n",
      "-46.819660112501055\n",
      "-5.0\n",
      "-27.85786437626905\n",
      "-31.85786437626905\n",
      "0.0\n",
      "0.0\n",
      "0.0\n",
      "0.0\n",
      "0.0\n",
      "0.0\n",
      "0.0\n",
      "0.0\n",
      "0.0\n",
      "0.0\n",
      "0.0\n"
     ]
    }
   ],
   "source": [
    "for i, constr in enumerate(whole_y.getConstrs()):\n",
    "    print(constr.Pi)"
   ]
  },
  {
   "cell_type": "code",
   "execution_count": 41,
   "metadata": {},
   "outputs": [
    {
     "name": "stdout",
     "output_type": "stream",
     "text": [
      "x[0] 63.0\n",
      "x[1] 116.0\n",
      "x[2] 153.0\n",
      "x[3] 182.0\n",
      "p[0] 0.0\n",
      "p[1] 0.0\n",
      "p[2] 0.0\n",
      "p[3] 0.0\n"
     ]
    }
   ],
   "source": [
    "for var in whole_x.getVars():\n",
    "    print(var.varName, var.X)"
   ]
  },
  {
   "cell_type": "code",
   "execution_count": null,
   "metadata": {},
   "outputs": [],
   "source": []
  }
 ],
 "metadata": {
  "kernelspec": {
   "display_name": "Python 3",
   "language": "python",
   "name": "python3"
  },
  "language_info": {
   "codemirror_mode": {
    "name": "ipython",
    "version": 3
   },
   "file_extension": ".py",
   "mimetype": "text/x-python",
   "name": "python",
   "nbconvert_exporter": "python",
   "pygments_lexer": "ipython3",
   "version": "3.7.7"
  }
 },
 "nbformat": 4,
 "nbformat_minor": 4
}
