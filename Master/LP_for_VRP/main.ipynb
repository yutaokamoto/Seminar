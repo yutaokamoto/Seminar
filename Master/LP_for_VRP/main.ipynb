{
 "cells": [
  {
   "cell_type": "markdown",
   "metadata": {},
   "source": [
    "# ルートを評価するために解くLPについて\n",
    "- ルートが1つ与えられた後、そのルートを評価するためにLPを解く(ルートが実行可能であるとは限らない)\n",
    "\n",
    "<!--- 各制約の違反度を変数とし、それらに重みをかけて足し合わせた関数の最小化問題とする-->\n",
    "- 車両が各顧客へ到着する時刻を変数とし、その合計を最小化する問題とする\n",
    "- 制約は、容量制約と時間枠制約とする\n",
    "    - 容量制約は、ある区間における2つの関数の積分値(面積)の大小を比較するという形で表す(車両の積荷の量を表す区分線形関数の\\[x0, xn\\]までの積分値と最大容量を表す線形関数の\\[x0, xn\\]までの積分値)\n",
    "    - 時間枠制約は、通常のVRPの定式化と同様に表す\n"
   ]
  },
  {
   "cell_type": "markdown",
   "metadata": {},
   "source": [
    "# 前準備"
   ]
  },
  {
   "cell_type": "markdown",
   "metadata": {},
   "source": [
    "## 問題例の読み込み\n",
    "使用した問題例 : https://neo.lcc.uma.es/vrp/vrp-instances/description-for-files-of-solomons-instances/"
   ]
  },
  {
   "cell_type": "code",
   "execution_count": 1,
   "metadata": {},
   "outputs": [],
   "source": [
    "class Customer():\n",
    "    def __init__(self, x, y, d, e, l, s):\n",
    "        self.x = x\n",
    "        self.y = y\n",
    "        self.d = d\n",
    "        self.e = e\n",
    "        self.l = l\n",
    "        self.s = s"
   ]
  },
  {
   "cell_type": "code",
   "execution_count": 2,
   "metadata": {
    "scrolled": true
   },
   "outputs": [
    {
     "name": "stdout",
     "output_type": "stream",
     "text": [
      "./solomon_25/R101.txt\n",
      "./solomon_25/R103.txt\n",
      "./solomon_25/R102.txt\n",
      "./solomon_25/R112.txt\n",
      "./solomon_25/R106.txt\n",
      "./solomon_25/R107.txt\n",
      "./solomon_25/R105.txt\n",
      "./solomon_25/R111.txt\n",
      "./solomon_25/C108.txt\n",
      "./solomon_25/RC208.txt\n",
      "./solomon_25/C109.txt\n",
      "./solomon_25/R110.txt\n",
      "./solomon_25/R104.txt\n",
      "./solomon_25/R201.txt\n",
      "./solomon_25/R202.txt\n",
      "./solomon_25/R203.txt\n",
      "./solomon_25/R207.txt\n",
      "./solomon_25/R206.txt\n",
      "./solomon_25/R210.txt\n",
      "./solomon_25/R204.txt\n",
      "./solomon_25/C208.txt\n",
      "./solomon_25/R205.txt\n",
      "./solomon_25/R211.txt\n",
      "./solomon_25/RC108.txt\n",
      "./solomon_25/RC105.txt\n",
      "./solomon_25/R208.txt\n",
      "./solomon_25/C205.txt\n",
      "./solomon_25/C204.txt\n",
      "./solomon_25/R209.txt\n",
      "./solomon_25/RC104.txt\n",
      "./solomon_25/RC106.txt\n",
      "./solomon_25/R101.txt.distance\n",
      "./solomon_25/C206.txt\n",
      "./solomon_25/C207.txt\n",
      "./solomon_25/RC107.txt\n",
      "./solomon_25/RC103.txt\n",
      "./solomon_25/C203.txt\n",
      "./solomon_25/C202.txt\n",
      "./solomon_25/RC102.txt\n",
      "./solomon_25/C201.txt\n",
      "./solomon_25/RC101.txt\n",
      "./solomon_25/R109.txt\n",
      "./solomon_25/C104.txt\n",
      "./solomon_25/RC204.txt\n",
      "./solomon_25/RC205.txt\n",
      "./solomon_25/R101.txt.freight_1M1\n",
      "./solomon_25/C105.txt\n",
      "./solomon_25/R108.txt\n",
      "./solomon_25/C107.txt\n",
      "./solomon_25/RC207.txt\n",
      "./solomon_25/RC206.txt\n",
      "./solomon_25/C106.txt\n",
      "./solomon_25/C102.txt\n",
      "./solomon_25/RC202.txt\n",
      "./solomon_25/R101.txt.timecost\n",
      "./solomon_25/RC203.txt\n",
      "./solomon_25/C103.txt\n",
      "./solomon_25/C101.txt\n",
      "./solomon_25/RC201.txt\n"
     ]
    }
   ],
   "source": [
    "import glob\n",
    "\n",
    "files = glob.glob(\"./solomon_25/*\")\n",
    "for file in files:\n",
    "    print(file)"
   ]
  },
  {
   "cell_type": "code",
   "execution_count": 3,
   "metadata": {},
   "outputs": [],
   "source": [
    "# 問題例の選択\n",
    "instance = files[0]"
   ]
  },
  {
   "cell_type": "code",
   "execution_count": 4,
   "metadata": {},
   "outputs": [],
   "source": [
    "Customers = {}\n",
    "with open(instance, mode=\"r\") as f:\n",
    "    for index,line in enumerate(f):\n",
    "        #print(line)\n",
    "        l = []\n",
    "        if index==4:\n",
    "            line_s = [s.strip(\"\\n\") for s in line.split(\"\\t\")][0]\n",
    "            for s in line_s.split(\" \"):\n",
    "                if s!=\"\":\n",
    "                    l.append(int(s))\n",
    "            K, Q = l\n",
    "        elif 9<=index<=34:\n",
    "            line_s = [s.strip(\"\\n\") for s in line.split(\"\\t\")][0]\n",
    "            for s in line_s.split(\" \"):\n",
    "                if s!=\"\":\n",
    "                    l.append(int(s))\n",
    "            Customers[l[0]] = Customer(*l[1:])"
   ]
  },
  {
   "cell_type": "code",
   "execution_count": 5,
   "metadata": {},
   "outputs": [],
   "source": [
    "Customers[\"depot\"] = Customer(0,0,0,0,1000,0)"
   ]
  },
  {
   "cell_type": "code",
   "execution_count": 6,
   "metadata": {
    "scrolled": true
   },
   "outputs": [
    {
     "name": "stdout",
     "output_type": "stream",
     "text": [
      "\t ['x', 'y', 'd', 'e', 'l', 's']\n",
      "0\t35 35 0 0 230 0 \n",
      "1\t41 49 10 161 171 10 \n",
      "2\t35 17 7 50 60 10 \n",
      "3\t55 45 13 116 126 10 \n",
      "4\t55 20 19 149 159 10 \n",
      "5\t15 30 26 34 44 10 \n",
      "6\t25 30 3 99 109 10 \n",
      "7\t20 50 5 81 91 10 \n",
      "8\t10 43 9 95 105 10 \n",
      "9\t55 60 16 97 107 10 \n",
      "10\t30 60 16 124 134 10 \n",
      "11\t20 65 12 67 77 10 \n",
      "12\t50 35 19 63 73 10 \n",
      "13\t30 25 23 159 169 10 \n",
      "14\t15 10 20 32 42 10 \n",
      "15\t30 5 8 61 71 10 \n",
      "16\t10 20 19 75 85 10 \n",
      "17\t5 30 2 157 167 10 \n",
      "18\t20 40 12 87 97 10 \n",
      "19\t15 60 17 76 86 10 \n",
      "20\t45 65 9 126 136 10 \n",
      "21\t45 20 11 62 72 10 \n",
      "22\t45 10 18 97 107 10 \n",
      "23\t55 5 29 68 78 10 \n",
      "24\t65 35 3 153 163 10 \n",
      "25\t65 20 6 172 182 10 \n",
      "depot\t0 0 0 0 1000 0 \n"
     ]
    }
   ],
   "source": [
    "print(\"\\t\", list(vars(Customers[0]).keys()))\n",
    "for i in Customers.keys():\n",
    "    print(i, end=\"\\t\")\n",
    "    for key, val in vars(Customers[i]).items():\n",
    "        print(val, end=\" \")\n",
    "    print()"
   ]
  },
  {
   "cell_type": "markdown",
   "metadata": {},
   "source": [
    "## ルートの作成"
   ]
  },
  {
   "cell_type": "code",
   "execution_count": 7,
   "metadata": {},
   "outputs": [],
   "source": [
    "# 入力\n",
    "## 顧客\n",
    "C={} # 客の座標を保存する辞書\n",
    "TW={} # 客の時間枠を保存する辞書\n",
    "demand={} # 客の要求量(正の値は集荷，負の値は配達)\n",
    "S={} # 客のサービス時間\n",
    "\n",
    "for i in Customers:\n",
    "    x, y = Customers[i].x, Customers[i].y\n",
    "    C[i] = (x,y)\n",
    "    e, l = Customers[i].e, Customers[i].l\n",
    "    TW[i] = (e,l)\n",
    "    demand[i] = (Customers[i].d, )\n",
    "    S[i] = Customers[i].s\n",
    "    \"\"\"name=\"c\"+str(i)\n",
    "    x, y = Customers[i].x, Customers[i].y\n",
    "    C[name] = (x,y)\n",
    "    e, l = Customers[i].e, Customers[i].l\n",
    "    TW[name] = (e,l)\n",
    "    demand[name] = (Customers[i].d, )\n",
    "    S[name] = Customers[i].s\"\"\"\n",
    "#C[\"depot\"]=(0,0)\n",
    "\n",
    "## 車両\n",
    "M = K//2 # number of vehicles\n",
    "capacities = [(Q*2, ) for k in range(M)] # capacity of vehicle"
   ]
  },
  {
   "cell_type": "code",
   "execution_count": 8,
   "metadata": {},
   "outputs": [
    {
     "name": "stdout",
     "output_type": "stream",
     "text": [
      "Customer {0: (35, 35), 1: (41, 49), 2: (35, 17), 3: (55, 45), 4: (55, 20), 5: (15, 30), 6: (25, 30), 7: (20, 50), 8: (10, 43), 9: (55, 60), 10: (30, 60), 11: (20, 65), 12: (50, 35), 13: (30, 25), 14: (15, 10), 15: (30, 5), 16: (10, 20), 17: (5, 30), 18: (20, 40), 19: (15, 60), 20: (45, 65), 21: (45, 20), 22: (45, 10), 23: (55, 5), 24: (65, 35), 25: (65, 20), 'depot': (0, 0)}\n",
      "Time Window {0: (0, 230), 1: (161, 171), 2: (50, 60), 3: (116, 126), 4: (149, 159), 5: (34, 44), 6: (99, 109), 7: (81, 91), 8: (95, 105), 9: (97, 107), 10: (124, 134), 11: (67, 77), 12: (63, 73), 13: (159, 169), 14: (32, 42), 15: (61, 71), 16: (75, 85), 17: (157, 167), 18: (87, 97), 19: (76, 86), 20: (126, 136), 21: (62, 72), 22: (97, 107), 23: (68, 78), 24: (153, 163), 25: (172, 182), 'depot': (0, 1000)}\n",
      "Demand {0: (0,), 1: (10,), 2: (7,), 3: (13,), 4: (19,), 5: (26,), 6: (3,), 7: (5,), 8: (9,), 9: (16,), 10: (16,), 11: (12,), 12: (19,), 13: (23,), 14: (20,), 15: (8,), 16: (19,), 17: (2,), 18: (12,), 19: (17,), 20: (9,), 21: (11,), 22: (18,), 23: (29,), 24: (3,), 25: (6,), 'depot': (0,)}\n",
      "Service Time {0: 0, 1: 10, 2: 10, 3: 10, 4: 10, 5: 10, 6: 10, 7: 10, 8: 10, 9: 10, 10: 10, 11: 10, 12: 10, 13: 10, 14: 10, 15: 10, 16: 10, 17: 10, 18: 10, 19: 10, 20: 10, 21: 10, 22: 10, 23: 10, 24: 10, 25: 10, 'depot': 0}\n"
     ]
    }
   ],
   "source": [
    "print(\"Customer\",C)\n",
    "print(\"Time Window\",TW)\n",
    "print(\"Demand\",demand)\n",
    "print(\"Service Time\",S)"
   ]
  },
  {
   "cell_type": "code",
   "execution_count": 10,
   "metadata": {},
   "outputs": [
    {
     "data": {
      "image/png": "[encoded data removed]",
      "text/plain": [
       "<Figure size 504x504 with 1 Axes>"
      ]
     },
     "metadata": {
      "needs_background": "light"
     },
     "output_type": "display_data"
    }
   ],
   "source": [
    "import networkx as nx\n",
    "import matplotlib.pyplot as plt\n",
    "\n",
    "fig=plt.figure(figsize=(7,7))\n",
    "\n",
    "G=nx.DiGraph()\n",
    "nx.draw_networkx(G,pos=C,nodelist=[i for i in C if i != \"depot\"],node_color=\"y\",node_size=50,with_labels=True,edge_color=\"k\",width=1)\n",
    "nx.draw_networkx(G,pos=C,nodelist=[\"depot\"],node_color=\"blue\",node_shape='s',alpha=0.5,node_size=100,with_labels=True,edge_color=\"k\",width=1)\n",
    "\n",
    "plt.show()"
   ]
  },
  {
   "cell_type": "code",
   "execution_count": 11,
   "metadata": {},
   "outputs": [],
   "source": [
    "# 距離関数の定義\n",
    "#def Distance(t1,t2):\n",
    "#    return ((t1[0]-t2[0])**2+(t1[1]-t2[1])**2)**(0.5)\n",
    "def distance(x1, y1, x2, y2):\n",
    "    return ((x2-x1)**2+(y2-y1)**2)**(0.5)\n",
    "\n",
    "# ソルバーの読み込み\n",
    "import sys\n",
    "sys.path.append('..')\n",
    "\n",
    "#from vrplib.vrp_d_1m1_t_model import *\n",
    "import vrplib.vrp_d_1m1_t_model as vrp\n",
    "\n",
    "# ソルバーの実行\n",
    "model = vrp.Model(file.split(\"/\")[-1].split(\".\")[0]) # モデルインスタンスの生成\n",
    "\n",
    "## 客インスタンスの生成\n",
    "for i in C:\n",
    "    if i == \"depot\":\n",
    "        continue\n",
    "    model += vrp.Customer(i,demand=demand[i],timewindow=TW[i],servicetime=S[i])\n",
    "\n",
    "## 車両インスタンスの生成\n",
    "for k in range(M):\n",
    "    model += vrp.Vehicle(\"v\"+str(k),capacity=capacities[k])\n",
    "    \n",
    "## 枝インスタンスの生成\n",
    "for i in C:\n",
    "    for j in C:\n",
    "        if i!=j:\n",
    "            dist = time = distance(*C[i],*C[j])\n",
    "            model += vrp.Edge(i,j,dist,time)"
   ]
  },
  {
   "cell_type": "code",
   "execution_count": 12,
   "metadata": {
    "scrolled": true
   },
   "outputs": [
    {
     "name": "stdout",
     "output_type": "stream",
     "text": [
      "objective value = 1211.62\n",
      "\n",
      "Vehicle v0: {'capacity': (400,)}\n",
      "173.07639 = {'distance': 173.07639, 'freight_1M1': 0.0, 'timecost': 0.0}\n",
      "[0, 9, 20, 1]\n",
      "0\n",
      "9\n",
      "20\n",
      "1\n",
      "\n",
      "Vehicle v1: {'capacity': (400,)}\n",
      "36.055513 = {'distance': 36.055513, 'freight_1M1': 0.0, 'timecost': 0.0}\n",
      "[14]\n",
      "14\n",
      "\n",
      "Vehicle v2: {'capacity': (400,)}\n",
      "117.873959 = {'distance': 117.873959, 'freight_1M1': 0.0, 'timecost': 0.0}\n",
      "[2, 21, 4]\n",
      "2\n",
      "21\n",
      "4\n",
      "\n",
      "Vehicle v3: {'capacity': (400,)}\n",
      "67.082039 = {'distance': 67.082039, 'freight_1M1': 0.0, 'timecost': 0.0}\n",
      "[5]\n",
      "5\n",
      "\n",
      "Vehicle v4: {'capacity': (400,)}\n",
      "60.827625 = {'distance': 60.827625, 'freight_1M1': 0.0, 'timecost': 0.0}\n",
      "[17]\n",
      "17\n",
      "\n",
      "Vehicle v5: {'capacity': (400,)}\n",
      "164.129669 = {'distance': 164.129669, 'freight_1M1': 0.0, 'timecost': 0.0}\n",
      "[11, 19, 10, 13]\n",
      "11\n",
      "19\n",
      "10\n",
      "13\n",
      "\n",
      "Vehicle v6: {'capacity': (400,)}\n",
      "169.362606 = {'distance': 169.362606, 'freight_1M1': 0.0, 'timecost': 0.0}\n",
      "[12, 3, 24, 25]\n",
      "12\n",
      "3\n",
      "24\n",
      "25\n",
      "\n",
      "Vehicle v7: {'capacity': (400,)}\n",
      "112.504867 = {'distance': 112.504867, 'freight_1M1': 0.0, 'timecost': 0.0}\n",
      "[23, 22]\n",
      "23\n",
      "22\n",
      "\n",
      "Vehicle v8: {'capacity': (400,)}\n",
      "44.72136 = {'distance': 44.72136, 'freight_1M1': 0.0, 'timecost': 0.0}\n",
      "[16]\n",
      "16\n",
      "\n",
      "Vehicle v9: {'capacity': (400,)}\n",
      "110.205684 = {'distance': 110.205684, 'freight_1M1': 0.0, 'timecost': 0.0}\n",
      "[7, 8]\n",
      "7\n",
      "8\n",
      "\n",
      "Vehicle v10: {'capacity': (400,)}\n",
      "60.827625 = {'distance': 60.827625, 'freight_1M1': 0.0, 'timecost': 0.0}\n",
      "[15]\n",
      "15\n",
      "\n",
      "Vehicle v11: {'capacity': (400,)}\n",
      "94.952948 = {'distance': 94.952948, 'freight_1M1': 0.0, 'timecost': 0.0}\n",
      "[18, 6]\n",
      "18\n",
      "6\n"
     ]
    }
   ],
   "source": [
    "## 最適化の実行\n",
    "obj=model.optimize(IterLimit=100,TimeLimit=1,Verbose=False,OutputFlag=False)\n",
    "\n",
    "## 得られた解の表示\n",
    "print(\"objective value =\",obj)\n",
    "for v in model.vehiclesL:\n",
    "    print()\n",
    "    print(v)\n",
    "    print(list(map(lambda x:x.name,v.routing[1:-1])))    \n",
    "    for iv in map(lambda x:x.name,v.routing[1:-1]):\n",
    "        print(iv)"
   ]
  },
  {
   "cell_type": "markdown",
   "metadata": {},
   "source": [
    "## ルートを1つ選ぶ"
   ]
  },
  {
   "cell_type": "code",
   "execution_count": 13,
   "metadata": {},
   "outputs": [],
   "source": [
    "# Vehicle 6の巡回路を選んでいる\n",
    "tour = [12, 3, 24, 25]#+[\"depot\"]"
   ]
  },
  {
   "cell_type": "markdown",
   "metadata": {},
   "source": [
    "## その他作業"
   ]
  },
  {
   "cell_type": "code",
   "execution_count": 14,
   "metadata": {
    "scrolled": true
   },
   "outputs": [
    {
     "name": "stdout",
     "output_type": "stream",
     "text": [
      "R101.tx\n"
     ]
    }
   ],
   "source": [
    "# 使用した問題例の名称を保存\n",
    "tmp = []\n",
    "for s in instance[-1:0:-1]:\n",
    "    if s=='/':\n",
    "        break\n",
    "    tmp.append(s)\n",
    "instance_name = \"\".join(tmp[-1:0:-1])\n",
    "print(instance_name)"
   ]
  },
  {
   "cell_type": "markdown",
   "metadata": {},
   "source": [
    "# 問題を解く\n",
    "2つの手法に対し、計算時間を比較"
   ]
  },
  {
   "cell_type": "markdown",
   "metadata": {},
   "source": [
    "## 入力する行列、ベクトルの作成"
   ]
  },
  {
   "cell_type": "code",
   "execution_count": null,
   "metadata": {},
   "outputs": [],
   "source": [
    "def make_A():"
   ]
  },
  {
   "cell_type": "code",
   "execution_count": null,
   "metadata": {},
   "outputs": [],
   "source": [
    "def make_b():"
   ]
  },
  {
   "cell_type": "code",
   "execution_count": null,
   "metadata": {},
   "outputs": [],
   "source": [
    "def make_c():"
   ]
  },
  {
   "cell_type": "code",
   "execution_count": null,
   "metadata": {},
   "outputs": [],
   "source": [
    "def make_inputs():\n",
    "    A, b, c = [], [], []\n",
    "    ## ルート内の顧客の順序に関する制約\n",
    "    for index, i in enumerate(tour):\n",
    "        try:\n",
    "            i_next = tour[index+1]\n",
    "        except:\n",
    "            i_next = \"depot\"\n",
    "            continue\n",
    "        #A = np.append(A, [[1 if target==i else -1 if target==i_next else 0 for target in tour]], axis=0)\n",
    "        #b = np.append(b, [-distance(Customers[i].x, Customers[i].y, Customers[i_next].x, Customers[i_next].y), ], axis=0)\n",
    "        A.append([1 if target==i else -1 if target==i_next else 0 for target in tour])\n",
    "        b.append(-distance(Customers[i].x, Customers[i].y, Customers[i_next].x, Customers[i_next].y))\n",
    "    ## 時間枠制約\n",
    "    for index, i in enumerate(tour):\n",
    "        #A = np.append(A, [[-1 if i==target else 0 for index_, target in enumerate(tour)]], axis=0)\n",
    "        #b = np.append(b, [-Customers[i].e], axis=0)\n",
    "        #A = np.append(A, [[1 if i==target else 0 for index_, target in enumerate(tour)]], axis=0)\n",
    "        #b = np.append(b, [-Customers[i].l], axis=0)\n",
    "        A.append([-1 if i==target else 0 for index_, target in enumerate(tour)])\n",
    "        b.append(-Customers[i].e)\n",
    "        A.append([1 if i==target else 0 for index_, target in enumerate(tour)])\n",
    "        b.append(Customers[i].l)"
   ]
  },
  {
   "cell_type": "markdown",
   "metadata": {},
   "source": [
    "## opt()の定義\n",
    "与えられた定数を元にLPのモデルを作成した上でそれを解き、最適解を返す関数"
   ]
  },
  {
   "cell_type": "code",
   "execution_count": 468,
   "metadata": {},
   "outputs": [],
   "source": [
    "def opt(A, b, c, instance_name, tour_len, warm_start=None, sense=\"MINIMIZE\"):\n",
    "    import gurobipy as gp\n",
    "    from gurobipy import GRB\n",
    "    import numpy as np\n",
    "    import time\n",
    "    \n",
    "    # インスタンスの生成\n",
    "    m = gp.Model(\"LP_for_VRP\" + instance_name)\n",
    "    # 定数を設定　←　入力として与えられる\n",
    "    # 変数を設定\n",
    "    \"\"\"\n",
    "    x_i : 顧客iへ車両が到着する時刻を表す変数\n",
    "    \"\"\"\n",
    "    x = m.addMVar(shape=tour_len, vtype=GRB.CONTINUOUS, name=\"x\")\n",
    "\n",
    "    # モデルのアップデート\n",
    "    m.update()\n",
    "    \n",
    "    # 目的関数を設定\n",
    "    ## 各制約の違反度を最小化する\n",
    "    m.setObjective(c @ x, sense=eval(\"gp.GRB.\"+sense))\n",
    "    \n",
    "    # 制約条件を設定\n",
    "    if sense==\"MINIMIZE\":\n",
    "        m.addConstr(A @ x <= b, name=\"c\")\n",
    "    elif sense==\"MAXIMAZE\":\n",
    "        m.addConstr(A @ x >= b, name=\"c\")\n",
    "\n",
    "    # モデルのアップデート\n",
    "    m.update()\n",
    "    \n",
    "    # 時間計測スタート\n",
    "    start = time.time()\n",
    "    \n",
    "    # ホットスタートの使用\n",
    "    \"\"\"if warm_start is not None:\n",
    "        for i in range(tour_len):\n",
    "            x[i].Pstart = warm_start[i]\n",
    "            #print(x[i].X)\"\"\"\n",
    "    \n",
    "    # 最適化\n",
    "    m.optimize()\n",
    "    \n",
    "    # 時間計測ストップ\n",
    "    elapsed_time = time.time() - start\n",
    "    \n",
    "    # 解の表示\n",
    "    if m.Status == gp.GRB.OPTIMAL:\n",
    "        for i in range(tour_len):\n",
    "            print(f\"車両が顧客{i}に到着する時刻は、{x[i].X}\")\n",
    "        print(\"最適値 : \", m.ObjVal)\n",
    "    print('\\033[34m'+f\"実時間\\t{elapsed_time}\"+'\\033[0m')\n",
    "        \n",
    "    return m"
   ]
  },
  {
   "cell_type": "markdown",
   "metadata": {},
   "source": [
    "## ①全体を1つのLPとして解くveb.\n",
    "1. ルートが与えられる\n",
    "1. Primalを解く"
   ]
  },
  {
   "cell_type": "markdown",
   "metadata": {},
   "source": [
    "### 1. ルートが与えられる"
   ]
  },
  {
   "cell_type": "markdown",
   "metadata": {},
   "source": [
    "### 2. 全体のPrimalを解く"
   ]
  },
  {
   "cell_type": "code",
   "execution_count": 488,
   "metadata": {},
   "outputs": [],
   "source": [
    "import numpy as np\n",
    "\n",
    "## 制約式の左辺を保存する変数\n",
    "A = [] #np.array([np.zeros(len(tour))])\n",
    "## 制約式の右辺を保存する変数\n",
    "b = [] #np.array([])\n",
    "\n",
    "## ルート内の顧客の順序に関する制約\n",
    "for index, i in enumerate(tour):\n",
    "    try:\n",
    "        i_next = tour[index+1]\n",
    "    except:\n",
    "        i_next = \"depot\"\n",
    "        continue\n",
    "    #A = np.append(A, [[1 if target==i else -1 if target==i_next else 0 for target in tour]], axis=0)\n",
    "    #b = np.append(b, [-distance(Customers[i].x, Customers[i].y, Customers[i_next].x, Customers[i_next].y), ], axis=0)\n",
    "    A.append([1 if target==i else -1 if target==i_next else 0 for target in tour])\n",
    "    b.append(-distance(Customers[i].x, Customers[i].y, Customers[i_next].x, Customers[i_next].y))"
   ]
  },
  {
   "cell_type": "code",
   "execution_count": 490,
   "metadata": {},
   "outputs": [],
   "source": [
    "## 時間枠制約\n",
    "for index, i in enumerate(tour):\n",
    "    #A = np.append(A, [[-1 if i==target else 0 for index_, target in enumerate(tour)]], axis=0)\n",
    "    #b = np.append(b, [-Customers[i].e], axis=0)\n",
    "    #A = np.append(A, [[1 if i==target else 0 for index_, target in enumerate(tour)]], axis=0)\n",
    "    #b = np.append(b, [-Customers[i].l], axis=0)\n",
    "    A.append([-1 if i==target else 0 for index_, target in enumerate(tour)])\n",
    "    b.append(-Customers[i].e)\n",
    "    A.append([1 if i==target else 0 for index_, target in enumerate(tour)])\n",
    "    b.append(Customers[i].l)\n",
    "    \n",
    "#for index, i in enumerate(tour):\n",
    "    #m.addConstr(-x[i] <= -Customers[i].e)\n",
    "    #m.addConstr(x[i] <= Customers[i].l)"
   ]
  },
  {
   "cell_type": "code",
   "execution_count": 492,
   "metadata": {},
   "outputs": [],
   "source": [
    "## 容量制約\n",
    "integral_val = 0\n",
    "A.append([0 for _ in range(len(tour))])\n",
    "for index, i in enumerate(tour):\n",
    "    try:\n",
    "        i_next = tour[index+1]\n",
    "    except:\n",
    "        i_next = \"depot\"\n",
    "    #integral_val += (x[i_next]-x[i])*sum(Customers[j].d for j in tour[:index+1])\n",
    "    sum_d = sum(Customers[j].d for j in tour[:index+1])\n",
    "    A[-1] = [-sum_d if i==target else sum_d if i_next==target else A[-1][index_] for index_, target in enumerate(tour)]\n",
    "A[-1][0] += Q\n",
    "A[-1][-1] += -Q\n",
    "b.append(0)\n",
    "#m.addConstr(integral_val <= (x[\"depot\"]-x[tour[0]])*Q*2)"
   ]
  },
  {
   "cell_type": "code",
   "execution_count": 493,
   "metadata": {},
   "outputs": [
    {
     "name": "stdout",
     "output_type": "stream",
     "text": [
      "[1, -1, 0, 0] \t -11.180339887498949\n",
      "[0, 1, -1, 0] \t -14.142135623730951\n",
      "[0, 0, 1, -1] \t -15.0\n",
      "[-1, 0, 0, 0] \t -63\n",
      "[1, 0, 0, 0] \t 73\n",
      "[0, -1, 0, 0] \t -116\n",
      "[0, 1, 0, 0] \t 126\n",
      "[0, 0, -1, 0] \t -153\n",
      "[0, 0, 1, 0] \t 163\n",
      "[0, 0, 0, -1] \t -172\n",
      "[0, 0, 0, 1] \t 182\n",
      "[181, -32, -35, -241] \t 0\n"
     ]
    }
   ],
   "source": [
    "for A_i, b_i in zip(A, b):\n",
    "    print(A_i, \"\\t\", b_i)"
   ]
  },
  {
   "cell_type": "code",
   "execution_count": 494,
   "metadata": {
    "scrolled": false
   },
   "outputs": [
    {
     "name": "stdout",
     "output_type": "stream",
     "text": [
      "[ 1 -1  0  0] \t -11.180339887498949\n",
      "[ 0  1 -1  0] \t -14.142135623730951\n",
      "[ 0  0  1 -1] \t -15.0\n",
      "[-1  0  0  0] \t -63.0\n",
      "[1 0 0 0] \t 73.0\n",
      "[ 0 -1  0  0] \t -116.0\n",
      "[0 1 0 0] \t 126.0\n",
      "[ 0  0 -1  0] \t -153.0\n",
      "[0 0 1 0] \t 163.0\n",
      "[ 0  0  0 -1] \t -172.0\n",
      "[0 0 0 1] \t 182.0\n",
      "[ 181  -32  -35 -241] \t 0.0\n"
     ]
    }
   ],
   "source": [
    "# 定数を成形する\n",
    "## 制約の数は(制約の種類)*(巡回路内の顧客の数)\n",
    "\n",
    "## 制約式の左辺\n",
    "A = np.array(A)\n",
    "\n",
    "## 制約式の右辺\n",
    "b = np.array(b)\n",
    "\n",
    "## 目的関数の係数\n",
    "c = np.array([1 for _ in range(len(tour))])\n",
    "\n",
    "for A_i, b_i in zip(A, b):\n",
    "    print(A_i, \"\\t\", b_i)"
   ]
  },
  {
   "cell_type": "code",
   "execution_count": 495,
   "metadata": {
    "scrolled": true
   },
   "outputs": [
    {
     "name": "stdout",
     "output_type": "stream",
     "text": [
      "Gurobi Optimizer version 9.0.2 build v9.0.2rc0 (mac64)\n",
      "Optimize a model with 12 rows, 4 columns and 18 nonzeros\n",
      "Model fingerprint: 0x6dfd34e6\n",
      "Coefficient statistics:\n",
      "  Matrix range     [1e+00, 2e+02]\n",
      "  Objective range  [1e+00, 1e+00]\n",
      "  Bounds range     [0e+00, 0e+00]\n",
      "  RHS range        [1e+01, 2e+02]\n",
      "Presolve removed 12 rows and 4 columns\n",
      "Presolve time: 0.01s\n",
      "Presolve: All rows and columns removed\n",
      "Iteration    Objective       Primal Inf.    Dual Inf.      Time\n",
      "       0    5.0400000e+02   0.000000e+00   0.000000e+00      0s\n",
      "\n",
      "Solved in 0 iterations and 0.01 seconds\n",
      "Optimal objective  5.040000000e+02\n",
      "車両が顧客0に到着する時刻は、[63.]\n",
      "車両が顧客1に到着する時刻は、[116.]\n",
      "車両が顧客2に到着する時刻は、[153.]\n",
      "車両が顧客3に到着する時刻は、[172.]\n",
      "最適値 :  504.0\n",
      "\u001b[34m実時間\t0.017222881317138672\u001b[0m\n"
     ]
    }
   ],
   "source": [
    "# opt()によってLPを解く\n",
    "whole_x = opt(A, b, c, instance_name+\"whole_x\", len(tour))"
   ]
  },
  {
   "cell_type": "code",
   "execution_count": 496,
   "metadata": {},
   "outputs": [
    {
     "data": {
      "text/plain": [
       "<gurobi.Model Continuous instance LP_for_VRPR101.txwhole_x: 12 constrs, 4 vars, No parameter changes>"
      ]
     },
     "execution_count": 496,
     "metadata": {},
     "output_type": "execute_result"
    }
   ],
   "source": [
    "whole_x"
   ]
  },
  {
   "cell_type": "code",
   "execution_count": 497,
   "metadata": {
    "scrolled": false
   },
   "outputs": [
    {
     "name": "stdout",
     "output_type": "stream",
     "text": [
      "0.0\n",
      "0.0\n",
      "0.0\n",
      "-1.0\n",
      "0.0\n",
      "-1.0\n",
      "0.0\n",
      "-1.0\n",
      "0.0\n",
      "-1.0\n",
      "0.0\n",
      "0.0\n"
     ]
    }
   ],
   "source": [
    "for constr in whole_x.getConstrs():\n",
    "    print(constr.Pi)"
   ]
  },
  {
   "cell_type": "markdown",
   "metadata": {},
   "source": [
    "## ②前半と後半をつなげるveb.\n",
    "1. ルートが与えられる\n",
    "1. 適当なところで前後に分ける\n",
    "1. 前半後半それぞれのPrimalを解く\n",
    "1. 前半と後半それぞれのPrimalの最適解を、全体のDualに入れて解く(つなげる際に必要になる制約A3を考えなければならない)\n",
    "1. Primalの解を相補正条件によって復元"
   ]
  },
  {
   "cell_type": "markdown",
   "metadata": {},
   "source": [
    "### 2. 適当なところで前後に分ける\n",
    "- ひとまず半分くらいで分けることにする"
   ]
  },
  {
   "cell_type": "code",
   "execution_count": 498,
   "metadata": {},
   "outputs": [
    {
     "name": "stdout",
     "output_type": "stream",
     "text": [
      "巡回路全体は、[12, 3, 24, 25]\n",
      "前半は、[12, 3]\n",
      "後半は、[24, 25]\n"
     ]
    }
   ],
   "source": [
    "threshold = len(tour)//2\n",
    "#print(threshold)\n",
    "\n",
    "former = tour[:threshold]\n",
    "latter = tour[threshold:]\n",
    "print(f\"巡回路全体は、{tour}\")\n",
    "print(f\"前半は、{former}\")\n",
    "print(f\"後半は、{latter}\")"
   ]
  },
  {
   "cell_type": "markdown",
   "metadata": {},
   "source": [
    "### 3. 前半後半それぞれのPrimalを解く"
   ]
  },
  {
   "cell_type": "code",
   "execution_count": 499,
   "metadata": {
    "scrolled": true
   },
   "outputs": [
    {
     "name": "stdout",
     "output_type": "stream",
     "text": [
      "[[ 1 -1]\n",
      " [-1  0]\n",
      " [ 1  0]\n",
      " [ 0 -1]\n",
      " [ 0  1]]\n",
      "[ -11.18033989  -63.           73.         -116.          126.        ]\n",
      "[[1 1]]\n",
      "[[ 1 -1]\n",
      " [-1  0]\n",
      " [ 1  0]\n",
      " [ 0 -1]\n",
      " [ 0  1]]\n",
      "[ -15. -153.  163. -172.  182.]\n",
      "[[1 1]]\n",
      "[[   0    1   -1    0]\n",
      " [ 181  -32  -35 -241]]\n",
      "[-14.14213562   0.        ]\n"
     ]
    }
   ],
   "source": [
    "# 係数行列、ベクトルを整える\n",
    "A1, A2, A3, b1, b2, b3, c1, c2 = [], [], [], [], [], [], [], []\n",
    "## A1, A2, A3を定める\n",
    "## b1, b2, b3を定める\n",
    "for A_i,b_i in zip(A, b):\n",
    "    if np.linalg.norm(A_i[threshold:], ord=2)==0.:\n",
    "        A1.append(A_i[:threshold])\n",
    "        b1.append(b_i)\n",
    "    elif np.linalg.norm(A_i[:threshold], ord=2)==0.:\n",
    "        A2.append(A_i[threshold:])\n",
    "        b2.append(b_i)\n",
    "    else:\n",
    "        A3.append(A_i)\n",
    "        b3.append(b_i)\n",
    "## c1, c2, c3を定める\n",
    "c1.append(c[:threshold])\n",
    "c2.append(c[threshold:])\n",
    "    \n",
    "## リストからnumpy arrayに変換\n",
    "A1 = np.array(A1)\n",
    "A2 = np.array(A2)\n",
    "A3 = np.array(A3)\n",
    "b1 = np.array(b1)\n",
    "b2 = np.array(b2)\n",
    "b3 = np.array(b3)\n",
    "c1 = np.array(c1)\n",
    "c2 = np.array(c2)\n",
    "for i in range(1, 4):\n",
    "    print(eval(\"A\"+str(i)))\n",
    "    print(eval(\"b\"+str(i)))\n",
    "    if i <= 2:\n",
    "        print(eval(\"c\"+str(i)))"
   ]
  },
  {
   "cell_type": "code",
   "execution_count": 500,
   "metadata": {
    "scrolled": true
   },
   "outputs": [
    {
     "name": "stdout",
     "output_type": "stream",
     "text": [
      "Gurobi Optimizer version 9.0.2 build v9.0.2rc0 (mac64)\n",
      "Optimize a model with 5 rows, 2 columns and 6 nonzeros\n",
      "Model fingerprint: 0xf85739b4\n",
      "Coefficient statistics:\n",
      "  Matrix range     [1e+00, 1e+00]\n",
      "  Objective range  [1e+00, 1e+00]\n",
      "  Bounds range     [0e+00, 0e+00]\n",
      "  RHS range        [1e+01, 1e+02]\n",
      "Presolve removed 5 rows and 2 columns\n",
      "Presolve time: 0.01s\n",
      "Presolve: All rows and columns removed\n",
      "Iteration    Objective       Primal Inf.    Dual Inf.      Time\n",
      "       0    1.7900000e+02   0.000000e+00   0.000000e+00      0s\n",
      "\n",
      "Solved in 0 iterations and 0.01 seconds\n",
      "Optimal objective  1.790000000e+02\n",
      "車両が顧客0に到着する時刻は、[63.]\n",
      "車両が顧客1に到着する時刻は、[116.]\n",
      "最適値 :  179.0\n",
      "\u001b[34m実時間\t0.015311956405639648\u001b[0m\n",
      "Gurobi Optimizer version 9.0.2 build v9.0.2rc0 (mac64)\n",
      "Optimize a model with 5 rows, 2 columns and 6 nonzeros\n",
      "Model fingerprint: 0xc3974699\n",
      "Coefficient statistics:\n",
      "  Matrix range     [1e+00, 1e+00]\n",
      "  Objective range  [1e+00, 1e+00]\n",
      "  Bounds range     [0e+00, 0e+00]\n",
      "  RHS range        [2e+01, 2e+02]\n",
      "Presolve removed 5 rows and 2 columns\n",
      "Presolve time: 0.01s\n",
      "Presolve: All rows and columns removed\n",
      "Iteration    Objective       Primal Inf.    Dual Inf.      Time\n",
      "       0    3.2500000e+02   0.000000e+00   0.000000e+00      0s\n",
      "\n",
      "Solved in 0 iterations and 0.03 seconds\n",
      "Optimal objective  3.250000000e+02\n",
      "車両が顧客0に到着する時刻は、[153.]\n",
      "車両が顧客1に到着する時刻は、[172.]\n",
      "最適値 :  325.0\n",
      "\u001b[34m実時間\t0.03850197792053223\u001b[0m\n"
     ]
    }
   ],
   "source": [
    "# Gurobiによって最適解を求める\n",
    "former_x = opt(A1, b1, c1, instance_name+\"former_x\", len(former))\n",
    "latter_x = opt(A2, b2, c2, instance_name+\"latter_x\", len(latter))"
   ]
  },
  {
   "cell_type": "markdown",
   "metadata": {},
   "source": [
    "### 4. 前半後半それぞれのPrimalの最適解を、全体のDualに入れて解く"
   ]
  },
  {
   "cell_type": "code",
   "execution_count": 501,
   "metadata": {
    "scrolled": true
   },
   "outputs": [],
   "source": [
    "# 変数yの非負制約をA、bに加える\n",
    "## 加える行列を定義\n",
    "A_ = np.eye(A.shape[0])\n",
    "c_ = np.zeros(A.shape[0])\n",
    "## 加える\n",
    "A = np.concatenate([A, A_], axis=1)\n",
    "c = np.concatenate([c, c_])"
   ]
  },
  {
   "cell_type": "code",
   "execution_count": 502,
   "metadata": {},
   "outputs": [],
   "source": [
    "# 基底解の保存\n",
    "basis = np.array([constr.Pi for constr in former_x.getConstrs()+latter_x.getConstrs()])\n",
    "y3 = np.zeros((A.shape[0]-basis.shape[0],))\n",
    "basis = np.append(basis, y3)"
   ]
  },
  {
   "cell_type": "code",
   "execution_count": 503,
   "metadata": {},
   "outputs": [
    {
     "name": "stdout",
     "output_type": "stream",
     "text": [
      "[  1.   0.   0.  -1.   1.   0.   0.   0.   0.   0.   0. 181.] \t 1.0\n",
      "[ -1.   1.   0.   0.   0.  -1.   1.   0.   0.   0.   0. -32.] \t 1.0\n",
      "[  0.  -1.   1.   0.   0.   0.   0.  -1.   1.   0.   0. -35.] \t 1.0\n",
      "[   0.    0.   -1.    0.    0.    0.    0.    0.    0.   -1.    1. -241.] \t 1.0\n",
      "[1. 0. 0. 0. 0. 0. 0. 0. 0. 0. 0. 0.] \t 0.0\n",
      "[0. 1. 0. 0. 0. 0. 0. 0. 0. 0. 0. 0.] \t 0.0\n",
      "[0. 0. 1. 0. 0. 0. 0. 0. 0. 0. 0. 0.] \t 0.0\n",
      "[0. 0. 0. 1. 0. 0. 0. 0. 0. 0. 0. 0.] \t 0.0\n",
      "[0. 0. 0. 0. 1. 0. 0. 0. 0. 0. 0. 0.] \t 0.0\n",
      "[0. 0. 0. 0. 0. 1. 0. 0. 0. 0. 0. 0.] \t 0.0\n",
      "[0. 0. 0. 0. 0. 0. 1. 0. 0. 0. 0. 0.] \t 0.0\n",
      "[0. 0. 0. 0. 0. 0. 0. 1. 0. 0. 0. 0.] \t 0.0\n",
      "[0. 0. 0. 0. 0. 0. 0. 0. 1. 0. 0. 0.] \t 0.0\n",
      "[0. 0. 0. 0. 0. 0. 0. 0. 0. 1. 0. 0.] \t 0.0\n",
      "[0. 0. 0. 0. 0. 0. 0. 0. 0. 0. 1. 0.] \t 0.0\n",
      "[0. 0. 0. 0. 0. 0. 0. 0. 0. 0. 0. 1.] \t 0.0\n"
     ]
    }
   ],
   "source": [
    "for A_i, b_i in zip(A.T, c.T):\n",
    "    print(A_i, \"\\t\", b_i)"
   ]
  },
  {
   "cell_type": "code",
   "execution_count": 504,
   "metadata": {
    "scrolled": true
   },
   "outputs": [
    {
     "name": "stdout",
     "output_type": "stream",
     "text": [
      "Gurobi Optimizer version 9.0.2 build v9.0.2rc0 (mac64)\n",
      "Optimize a model with 0 rows, 12 columns and 0 nonzeros\n",
      "Model fingerprint: 0x735bf0b1\n",
      "Coefficient statistics:\n",
      "  Matrix range     [0e+00, 0e+00]\n",
      "  Objective range  [1e+01, 2e+02]\n",
      "  Bounds range     [0e+00, 0e+00]\n",
      "  RHS range        [0e+00, 0e+00]\n",
      "Presolve removed 0 rows and 4 columns\n",
      "Presolve time: 0.01s\n",
      "\n",
      "Solved in 0 iterations and 0.01 seconds\n",
      "Unbounded model\n",
      "\u001b[34m実時間\t0.014952898025512695\u001b[0m\n"
     ]
    }
   ],
   "source": [
    "whole_y = opt(A.T, c.T, b.T, instance_name+\"whole_y\", basis.shape[0], basis, \"MAXIMIZE\")"
   ]
  },
  {
   "cell_type": "markdown",
   "metadata": {},
   "source": [
    "### 5. Primalの解を相補正条件によって復元"
   ]
  },
  {
   "cell_type": "code",
   "execution_count": null,
   "metadata": {},
   "outputs": [],
   "source": []
  }
 ],
 "metadata": {
  "kernelspec": {
   "display_name": "Python 3",
   "language": "python",
   "name": "python3"
  },
  "language_info": {
   "codemirror_mode": {
    "name": "ipython",
    "version": 3
   },
   "file_extension": ".py",
   "mimetype": "text/x-python",
   "name": "python",
   "nbconvert_exporter": "python",
   "pygments_lexer": "ipython3",
   "version": "3.7.7"
  }
 },
 "nbformat": 4,
 "nbformat_minor": 4
}
