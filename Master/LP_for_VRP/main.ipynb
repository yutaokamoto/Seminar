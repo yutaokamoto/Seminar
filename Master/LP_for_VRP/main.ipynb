{
 "cells": [
  {
   "cell_type": "markdown",
   "metadata": {},
   "source": [
    "# ルートを評価するために解くLPについて\n",
    "- ルートが1つ与えられた後、そのルートを評価するためにLPを解く(ルートが実行可能であるとは限らない)\n",
    "\n",
    "<!--- 各制約の違反度を変数とし、それらに重みをかけて足し合わせた関数の最小化問題とする-->\n",
    "- 車両が各顧客へ到着する時刻を変数とし、その合計を最小化する問題とする\n",
    "- 制約は、容量制約と時間枠制約とする\n",
    "    - 容量制約は、ある区間における2つの関数の積分値(面積)の大小を比較するという形で表す(車両の積荷の量を表す区分線形関数の\\[x0, xn\\]までの積分値と最大容量を表す線形関数の\\[x0, xn\\]までの積分値)\n",
    "    - 時間枠制約は、通常のVRPの定式化と同様に表す\n"
   ]
  },
  {
   "cell_type": "markdown",
   "metadata": {},
   "source": [
    "# 前準備"
   ]
  },
  {
   "cell_type": "markdown",
   "metadata": {},
   "source": [
    "## instances.pyからインスタンスを得る"
   ]
  },
  {
   "cell_type": "code",
   "execution_count": 1,
   "metadata": {},
   "outputs": [],
   "source": [
    "import instances\n",
    "Customers = instances.Customers\n",
    "tour = instances.tour"
   ]
  },
  {
   "cell_type": "code",
   "execution_count": 2,
   "metadata": {},
   "outputs": [],
   "source": [
    "instance_name = \"C\" + str(len(Customers)-1)"
   ]
  },
  {
   "cell_type": "code",
   "execution_count": 3,
   "metadata": {
    "scrolled": true
   },
   "outputs": [
    {
     "data": {
      "text/plain": [
       "[0, 1, 2, 3, 4, 5, 6, 7, 8, 9]"
      ]
     },
     "execution_count": 3,
     "metadata": {},
     "output_type": "execute_result"
    }
   ],
   "source": [
    "tour[:10]"
   ]
  },
  {
   "cell_type": "code",
   "execution_count": 4,
   "metadata": {},
   "outputs": [
    {
     "data": {
      "text/plain": [
       "[50, 51, 52, 53, 54, 55, 56, 57, 58, 'depot']"
      ]
     },
     "execution_count": 4,
     "metadata": {},
     "output_type": "execute_result"
    }
   ],
   "source": [
    "tour[-10:]"
   ]
  },
  {
   "cell_type": "markdown",
   "metadata": {},
   "source": [
    "# 問題を解く\n",
    "2つの手法に対し、計算時間を比較"
   ]
  },
  {
   "cell_type": "markdown",
   "metadata": {},
   "source": [
    "## 入力する行列、ベクトルの作成"
   ]
  },
  {
   "cell_type": "code",
   "execution_count": 5,
   "metadata": {},
   "outputs": [],
   "source": [
    "def distance(x1, y1, x2, y2):\n",
    "    return ((x2-x1)**2+(y2-y1)**2)**(0.5)"
   ]
  },
  {
   "cell_type": "code",
   "execution_count": 6,
   "metadata": {},
   "outputs": [],
   "source": [
    "def make_preceding_constr(tour, Customers, Ax, Ap, b, c):\n",
    "    # ルート内の顧客の順序に関する制約\n",
    "    for index, i in enumerate(tour):\n",
    "        try:\n",
    "            i_next = tour[index+1]\n",
    "        except:\n",
    "            i_next = \"depot\"\n",
    "            continue\n",
    "        Ax.append([1 if target==i else -1 if target==i_next else 0 for target in tour])\n",
    "        Ap.append([0 for _ in range(len(tour))])\n",
    "        b.append(-distance(Customers[i].x, Customers[i].y, Customers[i_next].x, Customers[i_next].y))\n",
    "    return Ax, Ap, b, c"
   ]
  },
  {
   "cell_type": "code",
   "execution_count": 7,
   "metadata": {},
   "outputs": [],
   "source": [
    "def make_tw_constr(tour, Customers, Ax, Ap, b, c):\n",
    "    # 時間枠制約\n",
    "    for index, i in enumerate(tour):\n",
    "        Ax.append([-1 if i==target else 0 for index_, target in enumerate(tour)])\n",
    "        Ap.append([-1 if i==target else 0 for index_, target in enumerate(tour)])\n",
    "        b.append(-Customers[i].e)\n",
    "        Ax.append([1 if i==target else 0 for index_, target in enumerate(tour)])\n",
    "        Ap.append([-1 if i==target else 0 for index_, target in enumerate(tour)])\n",
    "        b.append(Customers[i].l)\n",
    "    return Ax, Ap, b, c"
   ]
  },
  {
   "cell_type": "code",
   "execution_count": 8,
   "metadata": {},
   "outputs": [],
   "source": [
    "def make_inputs(tour, Customers):\n",
    "    import numpy as np\n",
    "    Ax, Ap, b, c = [], [], [], [1 for _ in range(len(tour))]\n",
    "    # ルート内の顧客の順序に関する制約\n",
    "    Ax, Ap, b, c = make_preceding_constr(tour, Customers, Ax, Ap, b, c)\n",
    "    print(\"Preceding constraints are done.\")\n",
    "    # 時間枠制約\n",
    "    Ax, Ap, b, c = make_tw_constr(tour, Customers, Ax, Ap, b, c)\n",
    "    print(\"Time-window constarints are done.\")\n",
    "    # ndarrayに変換\n",
    "    Ax = np.array(Ax)\n",
    "    Ap = np.array(Ap)\n",
    "    b = np.array(b)\n",
    "    c = np.array(c)\n",
    "    return Ax, Ap, b, c"
   ]
  },
  {
   "cell_type": "markdown",
   "metadata": {},
   "source": [
    "## 主問題を解く関数の定義\n",
    "与えられた定数を元にLPのモデルを作成した上でそれを解き、最適解を返す関数"
   ]
  },
  {
   "cell_type": "code",
   "execution_count": 9,
   "metadata": {},
   "outputs": [],
   "source": [
    "def solve_primal(Ax, Ap, b, c, instance_name, num_vars):\n",
    "    import gurobipy as gp\n",
    "    from gurobipy import GRB\n",
    "    import numpy as np\n",
    "    import time\n",
    "    \n",
    "    # インスタンスの生成\n",
    "    m = gp.Model(\"LP_for_VRP\" + instance_name)\n",
    "    # 定数を設定　←　入力として与えられる\n",
    "    # 変数を設定\n",
    "    \"\"\"\n",
    "    x_i : 顧客iへ車両が到着する時刻を表す変数\n",
    "    p_i : 顧客iの時間枠の違反度を表す変数\n",
    "    \"\"\"\n",
    "    x = m.addMVar(shape=num_vars, vtype=GRB.CONTINUOUS, name=\"x\")\n",
    "    p = m.addMVar(shape=num_vars, vtype=GRB.CONTINUOUS, name=\"p\")\n",
    "\n",
    "    # モデルのアップデート\n",
    "    m.update()\n",
    "    \n",
    "    # 目的関数を設定\n",
    "    ## 各制約の違反度を最小化する\n",
    "    m.setObjective(c.T @ p, sense=gp.GRB.MINIMIZE)\n",
    "    \n",
    "    # 制約条件を設定\n",
    "    m.addConstr(Ax @ x + Ap @ p <= b, name=\"c\")\n",
    "\n",
    "    # モデルのアップデート\n",
    "    m.update()\n",
    "    \n",
    "    # 時間計測スタート\n",
    "    start = time.time()\n",
    "    \n",
    "    # 最適化\n",
    "    m.optimize()\n",
    "    \n",
    "    # 時間計測ストップ\n",
    "    elapsed_time = time.time() - start\n",
    "    \n",
    "    # 解の表示\n",
    "    \"\"\"if m.Status == gp.GRB.OPTIMAL:\n",
    "        for i in range(num_vars):\n",
    "            print(f\"車両が顧客{i}に到着する時刻は、{x[i].X}\")\n",
    "        print(\"最適値 : \", m.ObjVal)\n",
    "    print('\\033[34m'+f\"実時間\\t{elapsed_time}\"+'\\033[0m')\"\"\"\n",
    "    \n",
    "    # モデルをテキストファイルにする\n",
    "    m.write(\"out\"+instance_name+\".json\")\n",
    "        \n",
    "    return m"
   ]
  },
  {
   "cell_type": "markdown",
   "metadata": {},
   "source": [
    "## 双対問題を解く関数の定義"
   ]
  },
  {
   "cell_type": "code",
   "execution_count": 24,
   "metadata": {},
   "outputs": [],
   "source": [
    "def solve_dual(Ax, Ap, b, c, instance_name, num_vars, PStarts, DStarts):\n",
    "    import gurobipy as gp\n",
    "    from gurobipy import GRB\n",
    "    import numpy as np\n",
    "    import time\n",
    "    \n",
    "    # インスタンスの生成\n",
    "    m = gp.Model(\"LP_for_VRP\" + instance_name)\n",
    "    \n",
    "    # 変数を設定\n",
    "    \"\"\"\n",
    "    y_i : 主問題における制約式iの潜在価値\n",
    "    \"\"\"\n",
    "    y = m.addMVar(shape=num_vars, vtype=GRB.CONTINUOUS, name=\"y\")\n",
    "\n",
    "    # モデルのアップデート\n",
    "    m.update()\n",
    "    \n",
    "    # 目的関数を設定\n",
    "    ## 各制約の違反度を最小化する\n",
    "    m.setObjective(-1 * b.T @ y, sense=gp.GRB.MAXIMIZE)\n",
    "    \n",
    "    # 制約条件を設定\n",
    "    c1 = m.addConstr(Ax.T @ y >= 0, name=\"c1\")\n",
    "    c2 = m.addConstr(Ap.T @ y + c >= 0, name=\"c2\")\n",
    "    c3 = m.addConstr(y >= 0, name=\"c3\")\n",
    "    c = c1+ c2 + c3\n",
    "\n",
    "    # モデルのアップデート\n",
    "    m.update()\n",
    "    \n",
    "    # 時間計測スタート\n",
    "    start = time.time()\n",
    "    \n",
    "    # ホットスタートの使用\n",
    "    for i in range(num_vars):\n",
    "        y[i].PStart = PStarts[i]\n",
    "    for i in range(len(c)):\n",
    "        c[i].DStart = DStarts[i]\n",
    "    \n",
    "    # 最適化\n",
    "    m.Params.Method = 0\n",
    "    #m.Params.Presolve = 0\n",
    "    \n",
    "    m.optimize()\n",
    "    \n",
    "    # 時間計測ストップ\n",
    "    elapsed_time = time.time() - start\n",
    "    \n",
    "    # 解の表示\n",
    "    \"\"\"if m.Status == gp.GRB.OPTIMAL:\n",
    "        for i in range(num_vars):\n",
    "            print(f\"主問題における制約{i}の潜在価格は、{y[i].X}\")\n",
    "        print(\"最適値 : \", m.ObjVal)\n",
    "    print('\\033[34m'+f\"実時間\\t{elapsed_time}\"+'\\033[0m')\"\"\"\n",
    "    \n",
    "    # モデルをテキストファイルにする\n",
    "    m.write(\"out\"+instance_name+\".mst\")\n",
    "        \n",
    "    return m"
   ]
  },
  {
   "cell_type": "markdown",
   "metadata": {},
   "source": [
    "## ①全体を1つのLPとして解くveb."
   ]
  },
  {
   "cell_type": "markdown",
   "metadata": {},
   "source": [
    "### 全体のPrimalを解く"
   ]
  },
  {
   "cell_type": "code",
   "execution_count": 11,
   "metadata": {},
   "outputs": [
    {
     "name": "stdout",
     "output_type": "stream",
     "text": [
      "Preceding constraints are done.\n",
      "Time-window constarints are done.\n"
     ]
    }
   ],
   "source": [
    "Ax, Ap, b, c = make_inputs(tour, Customers)"
   ]
  },
  {
   "cell_type": "code",
   "execution_count": 12,
   "metadata": {
    "scrolled": true
   },
   "outputs": [
    {
     "name": "stdout",
     "output_type": "stream",
     "text": [
      "Using license file /Users/okamoto/gurobi.lic\n",
      "Academic license - for non-commercial use only\n",
      "Gurobi Optimizer version 9.0.2 build v9.0.2rc0 (mac64)\n",
      "Optimize a model with 179 rows, 120 columns and 358 nonzeros\n",
      "Model fingerprint: 0xeedfc6f2\n",
      "Coefficient statistics:\n",
      "  Matrix range     [1e+00, 1e+00]\n",
      "  Objective range  [1e+00, 1e+00]\n",
      "  Bounds range     [0e+00, 0e+00]\n",
      "  RHS range        [1e+00, 1e+03]\n",
      "Presolve removed 167 rows and 110 columns\n",
      "Presolve time: 0.07s\n",
      "Presolved: 12 rows, 10 columns, 24 nonzeros\n",
      "\n",
      "Iteration    Objective       Primal Inf.    Dual Inf.      Time\n",
      "       0    4.0418432e+03   2.162926e+00   0.000000e+00      0s\n",
      "       7    4.0445317e+03   0.000000e+00   0.000000e+00      0s\n",
      "\n",
      "Solved in 7 iterations and 0.09 seconds\n",
      "Optimal objective  4.044531741e+03\n"
     ]
    }
   ],
   "source": [
    "# Gurobiによって最適解を求める\n",
    "P = solve_primal(Ax, Ap, b, c, instance_name+\"P\", len(tour))"
   ]
  },
  {
   "cell_type": "code",
   "execution_count": null,
   "metadata": {},
   "outputs": [],
   "source": [
    "for var in P.getVars():\n",
    "    print(var.varName, var.X)"
   ]
  },
  {
   "cell_type": "code",
   "execution_count": null,
   "metadata": {
    "scrolled": true
   },
   "outputs": [],
   "source": [
    "for constr in P.getConstrs():\n",
    "    print(constr.Pi)"
   ]
  },
  {
   "cell_type": "markdown",
   "metadata": {},
   "source": [
    "## ②前半と後半をつなげるveb.\n",
    "1. 適当なところで前後に分ける\n",
    "1. 前半後半それぞれのPrimalを解く\n",
    "1. 前半と後半それぞれのPrimalの最適解を、全体のDualに入れて解く\n",
    "1. 全体のPrimalの最適解を得る"
   ]
  },
  {
   "cell_type": "markdown",
   "metadata": {},
   "source": [
    "### 1. 適当なところで前後に分ける\n",
    "- ひとまず半分くらいで分けることにする"
   ]
  },
  {
   "cell_type": "code",
   "execution_count": 13,
   "metadata": {
    "scrolled": true
   },
   "outputs": [
    {
     "name": "stdout",
     "output_type": "stream",
     "text": [
      "前半は、[0, 1, 2, 3, 4, 5, 6, 7, 8, 9, 10, 11, 12, 13, 14, 15, 16, 17, 18, 19, 20, 21, 22, 23, 24, 25, 26, 27, 28, 29]\n",
      "後半は、[30, 31, 32, 33, 34, 35, 36, 37, 38, 39, 40, 41, 42, 43, 44, 45, 46, 47, 48, 49, 50, 51, 52, 53, 54, 55, 56, 57, 58, 'depot']\n"
     ]
    }
   ],
   "source": [
    "threshold = len(tour)//2\n",
    "#print(threshold)\n",
    "\n",
    "former = tour[:threshold]\n",
    "latter = tour[threshold:]\n",
    "#print(f\"巡回路全体は、{tour}\")\n",
    "print(f\"前半は、{former}\")\n",
    "print(f\"後半は、{latter}\")"
   ]
  },
  {
   "cell_type": "markdown",
   "metadata": {},
   "source": [
    "### 2. 前半後半それぞれのPrimalを解く"
   ]
  },
  {
   "cell_type": "code",
   "execution_count": 14,
   "metadata": {
    "scrolled": true
   },
   "outputs": [
    {
     "name": "stdout",
     "output_type": "stream",
     "text": [
      "A1x : [[ 1 -1  0 ...  0  0  0]\n",
      " [ 0  1 -1 ...  0  0  0]\n",
      " [ 0  0  1 ...  0  0  0]\n",
      " ...\n",
      " [ 0  0  0 ...  0  1  0]\n",
      " [ 0  0  0 ...  0  0 -1]\n",
      " [ 0  0  0 ...  0  0  1]]\n",
      "A1p : [[ 0  0  0 ...  0  0  0]\n",
      " [ 0  0  0 ...  0  0  0]\n",
      " [ 0  0  0 ...  0  0  0]\n",
      " ...\n",
      " [ 0  0  0 ...  0 -1  0]\n",
      " [ 0  0  0 ...  0  0 -1]\n",
      " [ 0  0  0 ...  0  0 -1]]\n",
      "b1 : [  -6.08276253   -3.60555128   -5.83095189   -7.           -2.\n",
      "  -11.3137085   -11.40175425   -8.54400375   -3.60555128   -8.06225775\n",
      "   -6.70820393  -10.81665383   -5.83095189   -4.           -2.23606798\n",
      "   -2.23606798   -6.           -3.           -4.47213595   -1.41421356\n",
      "   -2.           -6.32455532   -4.12310563   -7.28010989   -7.81024968\n",
      "  -10.81665383   -8.06225775   -7.81024968   -8.48528137   -2.\n",
      "    6.           -7.           10.          -10.           14.\n",
      "  -14.           14.          -16.           21.          -22.\n",
      "   22.          -23.           26.          -27.           30.\n",
      "  -32.           33.          -34.           38.          -40.\n",
      "   40.          -42.           47.          -49.           52.\n",
      "  -54.           56.          -58.           59.          -61.\n",
      "   64.          -65.           69.          -70.           74.\n",
      "  -76.           78.          -80.           84.          -85.\n",
      "   85.          -86.           90.          -90.           91.\n",
      "  -93.           98.          -98.           98.          -98.\n",
      "   98.         -100.          103.         -105.          106.\n",
      " -108.          111.         -112.          115.        ]\n",
      "[1 1 1 1 1 1 1 1 1 1 1 1 1 1 1 1 1 1 1 1 1 1 1 1 1 1 1 1 1 1]\n",
      "A2x : [[ 1 -1  0 ...  0  0  0]\n",
      " [ 0  1 -1 ...  0  0  0]\n",
      " [ 0  0  1 ...  0  0  0]\n",
      " ...\n",
      " [ 0  0  0 ...  0  1  0]\n",
      " [ 0  0  0 ...  0  0 -1]\n",
      " [ 0  0  0 ...  0  0  1]]\n",
      "A2p : [[ 0  0  0 ...  0  0  0]\n",
      " [ 0  0  0 ...  0  0  0]\n",
      " [ 0  0  0 ...  0  0  0]\n",
      " ...\n",
      " [ 0  0  0 ...  0 -1  0]\n",
      " [ 0  0  0 ...  0  0 -1]\n",
      " [ 0  0  0 ...  0  0 -1]]\n",
      "b2 : [ -10.29563014   -7.21110255   -7.21110255   -2.23606798   -1.41421356\n",
      "   -5.09901951   -3.16227766  -10.29563014  -11.3137085   -12.04159458\n",
      "   -8.94427191   -9.43398113  -10.63014581   -3.16227766   -6.08276253\n",
      "   -7.81024968   -3.60555128   -5.          -11.40175425   -6.70820393\n",
      "   -6.40312424   -6.70820393   -8.06225775   -2.23606798   -6.08276253\n",
      "   -4.           -7.21110255   -8.48528137  -10.77032961 -117.\n",
      "  119.         -121.          121.         -123.          125.\n",
      " -125.          130.         -132.          133.         -134.\n",
      "  137.         -137.          142.         -144.          149.\n",
      " -151.          151.         -153.          154.         -154.\n",
      "  157.         -157.          157.         -157.          158.\n",
      " -158.          163.         -163.          167.         -167.\n",
      "  169.         -169.          174.         -175.          176.\n",
      " -177.          177.         -179.          182.         -183.\n",
      "  188.         -188.          193.         -193.          198.\n",
      " -199.          203.         -205.          208.         -208.\n",
      "  211.         -213.          217.         -218.          221.\n",
      " -221.          225.            0.         1000.        ]\n",
      "[1 1 1 1 1 1 1 1 1 1 1 1 1 1 1 1 1 1 1 1 1 1 1 1 1 1 1 1 1 1]\n",
      "A3x : [[ 0  0  0  0  0  0  0  0  0  0  0  0  0  0  0  0  0  0  0  0  0  0  0  0\n",
      "   0  0  0  0  0  1 -1  0  0  0  0  0  0  0  0  0  0  0  0  0  0  0  0  0\n",
      "   0  0  0  0  0  0  0  0  0  0  0  0]]\n",
      "A3p : [[0 0 0 0 0 0 0 0 0 0 0 0 0 0 0 0 0 0 0 0 0 0 0 0 0 0 0 0 0 0 0 0 0 0 0 0\n",
      "  0 0 0 0 0 0 0 0 0 0 0 0 0 0 0 0 0 0 0 0 0 0 0 0]]\n",
      "b3 : [-6.08276253]\n"
     ]
    }
   ],
   "source": [
    "import numpy as np\n",
    "# 係数行列、ベクトルを整える\n",
    "A1x, A1p, A2x, A2p, A3x, A3p, b1, b2, b3, c1, c2 = [], [], [], [], [], [], [], [], [], [], []\n",
    "index = 0\n",
    "index_P_f, index_P_l = [], []\n",
    "## A1, A2, A3を定める\n",
    "## b1, b2, b3を定める\n",
    "for Ax_i, Ap_i, b_i in zip(Ax, Ap, b):\n",
    "    if np.linalg.norm(Ax_i[threshold:], ord=2)==0.:\n",
    "        A1x.append(Ax_i[:threshold])\n",
    "        A1p.append(Ap_i[:threshold])\n",
    "        b1.append(b_i)\n",
    "        index_P_f.append(index)\n",
    "    elif np.linalg.norm(Ax_i[:threshold], ord=2)==0.:\n",
    "        A2x.append(Ax_i[threshold:])\n",
    "        A2p.append(Ap_i[threshold:])\n",
    "        b2.append(b_i)\n",
    "        index_P_l.append(index)\n",
    "    else:\n",
    "        A3x.append(Ax_i)\n",
    "        A3p.append(Ap_i)\n",
    "        b3.append(b_i)\n",
    "    index += 1\n",
    "## c1, c2, c3を定める\n",
    "c1 = c[:threshold]\n",
    "c2 = c[threshold:]\n",
    "## リストからnumpy arrayに変換\n",
    "A1x = np.array(A1x)\n",
    "A1p = np.array(A1p)\n",
    "A2x = np.array(A2x)\n",
    "A2p = np.array(A2p)\n",
    "A3x = np.array(A3x)\n",
    "A3p = np.array(A3p)\n",
    "b1 = np.array(b1)\n",
    "b2 = np.array(b2)\n",
    "b3 = np.array(b3)\n",
    "c1 = np.array(c1)\n",
    "c2 = np.array(c2)\n",
    "for i in range(1, 4):\n",
    "    print(f\"A{i}x : \", end=\"\")\n",
    "    print(eval(\"A\"+str(i)+\"x\"))\n",
    "    print(f\"A{i}p : \", end=\"\")\n",
    "    print(eval(\"A\"+str(i)+\"p\"))\n",
    "    print(f\"b{i} : \", end=\"\")\n",
    "    print(eval(\"b\"+str(i)))\n",
    "    if i <= 2:\n",
    "        print(eval(\"c\"+str(i)))"
   ]
  },
  {
   "cell_type": "code",
   "execution_count": 15,
   "metadata": {
    "scrolled": true
   },
   "outputs": [
    {
     "name": "stdout",
     "output_type": "stream",
     "text": [
      "Gurobi Optimizer version 9.0.2 build v9.0.2rc0 (mac64)\n",
      "Optimize a model with 89 rows, 60 columns and 178 nonzeros\n",
      "Model fingerprint: 0x72456f1b\n",
      "Coefficient statistics:\n",
      "  Matrix range     [1e+00, 1e+00]\n",
      "  Objective range  [1e+00, 1e+00]\n",
      "  Bounds range     [0e+00, 0e+00]\n",
      "  RHS range        [1e+00, 1e+02]\n",
      "Presolve removed 78 rows and 51 columns\n",
      "Presolve time: 0.04s\n",
      "Presolved: 11 rows, 9 columns, 22 nonzeros\n",
      "\n",
      "Iteration    Objective       Primal Inf.    Dual Inf.      Time\n",
      "       0    8.0767780e+02   2.162926e+00   0.000000e+00      0s\n",
      "       7    8.1016095e+02   0.000000e+00   0.000000e+00      0s\n",
      "\n",
      "Solved in 7 iterations and 0.05 seconds\n",
      "Optimal objective  8.101609507e+02\n",
      "Gurobi Optimizer version 9.0.2 build v9.0.2rc0 (mac64)\n",
      "Optimize a model with 89 rows, 60 columns and 178 nonzeros\n",
      "Model fingerprint: 0x4b34acdd\n",
      "Coefficient statistics:\n",
      "  Matrix range     [1e+00, 1e+00]\n",
      "  Objective range  [1e+00, 1e+00]\n",
      "  Bounds range     [0e+00, 0e+00]\n",
      "  RHS range        [1e+00, 1e+03]\n",
      "Presolve removed 2 rows and 1 columns\n",
      "Presolve time: 0.01s\n",
      "Presolved: 87 rows, 59 columns, 174 nonzeros\n",
      "\n",
      "Iteration    Objective       Primal Inf.    Dual Inf.      Time\n",
      "       0    0.0000000e+00   3.650171e+02   0.000000e+00      0s\n",
      "      91    7.1292194e+02   0.000000e+00   0.000000e+00      0s\n",
      "\n",
      "Solved in 91 iterations and 0.02 seconds\n",
      "Optimal objective  7.129219353e+02\n"
     ]
    }
   ],
   "source": [
    "# Gurobiによって最適解を求める\n",
    "P_f = solve_primal(A1x, A1p, b1, c1, instance_name+\"P_f\", len(former))\n",
    "P_l = solve_primal(A2x, A2p, b2, c2, instance_name+\"P_l\", len(latter))"
   ]
  },
  {
   "cell_type": "code",
   "execution_count": null,
   "metadata": {
    "scrolled": true
   },
   "outputs": [],
   "source": [
    "for v in P_f.getVars():\n",
    "    print('%s %g %g' % (v.varName, v.x, v.VBasis))"
   ]
  },
  {
   "cell_type": "code",
   "execution_count": null,
   "metadata": {
    "scrolled": true
   },
   "outputs": [],
   "source": [
    "for v in P_l.getVars():\n",
    "    print('%s %g %g' % (v.varName, v.x, v.VBasis))"
   ]
  },
  {
   "cell_type": "code",
   "execution_count": null,
   "metadata": {},
   "outputs": [],
   "source": [
    "for constr in P_f.getConstrs()+P_l.getConstrs():\n",
    "    print(constr.Pi, constr.CBasis)"
   ]
  },
  {
   "cell_type": "markdown",
   "metadata": {},
   "source": [
    "### 3. 前半後半それぞれのPrimalの最適解を、全体のDualに入れて解く"
   ]
  },
  {
   "cell_type": "code",
   "execution_count": 16,
   "metadata": {},
   "outputs": [],
   "source": [
    "# 初期解の保存\n",
    "PStarts = np.array([constr.Pi for constr in P_f.getConstrs()+P_l.getConstrs()])\n",
    "y3 = np.zeros((Ax.shape[0]-PStarts.shape[0],))\n",
    "PStarts = np.append(PStarts, y3)\n",
    "\n",
    "DStarts = np.array([0 for var in P_f.getVars()+P_l.getVars()])\n",
    "c3 = np.zeros((PStarts.shape[0],))\n",
    "DStarts = np.append(DStarts, c3)\n",
    "for i, var in zip(index_P_f, P_f.getVars()):\n",
    "    DStarts[i] = var.x\n",
    "for i, var in zip(index_P_l, P_l.getVars()):\n",
    "    DStarts[i] = var.x"
   ]
  },
  {
   "cell_type": "code",
   "execution_count": null,
   "metadata": {
    "scrolled": true
   },
   "outputs": [],
   "source": [
    "print(f\"Ax.T.shape={Ax.T.shape}\\t\\t\\tAp.T.shape={Ap.T.shape}\")\n",
    "for Ax_i, Ap_i in zip(Ax.T, Ap.T):\n",
    "    print(Ax_i, \"\\t\", Ap_i)"
   ]
  },
  {
   "cell_type": "code",
   "execution_count": 20,
   "metadata": {},
   "outputs": [],
   "source": [
    "PStarts = np.array([constr.Pi for constr in P.getConstrs()])\n",
    "DStarts = np.array([var.x for var in P.getVars()])\n",
    "c3 = np.zeros((PStarts.shape[0],))\n",
    "DStarts = np.append(DStarts, c3)"
   ]
  },
  {
   "cell_type": "code",
   "execution_count": 25,
   "metadata": {
    "scrolled": false
   },
   "outputs": [
    {
     "name": "stdout",
     "output_type": "stream",
     "text": [
      "Changed value of parameter Method to 0\n",
      "   Prev: -1  Min: -1  Max: 5  Default: -1\n",
      "Gurobi Optimizer version 9.0.2 build v9.0.2rc0 (mac64)\n",
      "Optimize a model with 299 rows, 179 columns and 537 nonzeros\n",
      "Coefficient statistics:\n",
      "  Matrix range     [1e+00, 1e+00]\n",
      "  Objective range  [1e+00, 1e+03]\n",
      "  Bounds range     [0e+00, 0e+00]\n",
      "  RHS range        [1e+00, 1e+00]\n",
      "Crossover log...\n",
      "\n",
      "     118 DPushes remaining with DInf 2.3772580e+04                 0s\n",
      "       0 DPushes remaining with DInf 4.5546330e+03                 0s\n",
      "\n",
      "       0 PPushes remaining with PInf 0.0000000e+00                 0s\n",
      "\n",
      "  Push phase complete: Pinf 0.0000000e+00, Dinf 4.5546330e+03      0s\n",
      "\n",
      "Iteration    Objective       Primal Inf.    Dual Inf.      Time\n",
      "      61   -0.0000000e+00   0.000000e+00   4.554633e+03      0s\n",
      "\n",
      "Solved in 122 iterations and 0.06 seconds\n",
      "Optimal objective  4.044531741e+03\n"
     ]
    }
   ],
   "source": [
    "# Gurobiによって最適解を求める\n",
    "D = solve_dual(Ax, Ap, b, c, instance_name+\"D\", PStarts.shape[0], PStarts, DStarts)"
   ]
  },
  {
   "cell_type": "code",
   "execution_count": null,
   "metadata": {},
   "outputs": [],
   "source": [
    "# 最適解\n",
    "for var in D.getVars():\n",
    "    print(var.varName, var.X)"
   ]
  },
  {
   "cell_type": "markdown",
   "metadata": {},
   "source": [
    "### 4. 全体のPrimalの最適解を得る"
   ]
  },
  {
   "cell_type": "code",
   "execution_count": null,
   "metadata": {},
   "outputs": [],
   "source": [
    "for i, constr in enumerate(D.getConstrs()):\n",
    "    print(constr.Pi)"
   ]
  },
  {
   "cell_type": "code",
   "execution_count": null,
   "metadata": {},
   "outputs": [],
   "source": [
    "for var in P.getVars():\n",
    "    print(var.varName, var.X)"
   ]
  },
  {
   "cell_type": "code",
   "execution_count": null,
   "metadata": {},
   "outputs": [],
   "source": []
  }
 ],
 "metadata": {
  "kernelspec": {
   "display_name": "Python 3",
   "language": "python",
   "name": "python3"
  },
  "language_info": {
   "codemirror_mode": {
    "name": "ipython",
    "version": 3
   },
   "file_extension": ".py",
   "mimetype": "text/x-python",
   "name": "python",
   "nbconvert_exporter": "python",
   "pygments_lexer": "ipython3",
   "version": "3.7.7"
  }
 },
 "nbformat": 4,
 "nbformat_minor": 4
}
