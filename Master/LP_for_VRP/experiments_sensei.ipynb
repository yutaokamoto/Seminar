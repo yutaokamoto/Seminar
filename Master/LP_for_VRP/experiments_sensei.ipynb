{
 "cells": [
  {
   "cell_type": "code",
   "execution_count": 1,
   "id": "3a2560eb",
   "metadata": {},
   "outputs": [],
   "source": [
    "#import subprocess\n",
    "#proc = subprocess.run([\"python\", \"./main.py\"],stdout = subprocess.PIPE, stderr = subprocess.PIPE)\n",
    "#print(proc.stdout.decode(\"utf8\"))\n",
    "#print(proc.stderr.decode(\"utf8\"))"
   ]
  },
  {
   "cell_type": "code",
   "execution_count": 2,
   "id": "c81ea983",
   "metadata": {},
   "outputs": [],
   "source": [
    "import instances\n",
    "Customers = instances.Customers\n",
    "Points = instances.Points\n",
    "C, F = instances.C, instances.F\n",
    "tour = instances.tour\n",
    "\n",
    "instance_name = \"C\" + str(len(Customers)-1)"
   ]
  },
  {
   "cell_type": "code",
   "execution_count": 3,
   "id": "edc8bb56",
   "metadata": {},
   "outputs": [
    {
     "name": "stdout",
     "output_type": "stream",
     "text": [
      "Preceding constraints are done.\n",
      "Time-window constarints are done.\n",
      "Pick-up and delivery constarints are done.\n",
      "Charge constarints are done.\n"
     ]
    }
   ],
   "source": [
    "import inputs\n",
    "As, Ac_eq, Ac_leq, Ar_eq, Ar_leq, Ap, Aq, b_eq, b_leq, op, oq = inputs.make_inputs(tour, Customers, Points, F, C)"
   ]
  },
  {
   "cell_type": "code",
   "execution_count": 4,
   "id": "1692277d",
   "metadata": {},
   "outputs": [
    {
     "name": "stdout",
     "output_type": "stream",
     "text": [
      "Academic license - for non-commercial use only - expires 2021-08-18\n",
      "Using license file /Users/hasimoto/gurobi.lic\n",
      "Changed value of parameter Method to 0\n",
      "   Prev: -1  Min: -1  Max: 5  Default: -1\n",
      "Gurobi Optimizer version 9.1.1 build v9.1.1rc0 (mac64)\n",
      "Thread count: 8 physical cores, 16 logical processors, using up to 16 threads\n",
      "Optimize a model with 15792 rows, 15005 columns and 38370 nonzeros\n",
      "Model fingerprint: 0x6b14ba4a\n",
      "Coefficient statistics:\n",
      "  Matrix range     [1e+00, 1e+00]\n",
      "  Objective range  [1e+00, 1e+00]\n",
      "  Bounds range     [0e+00, 0e+00]\n",
      "  RHS range        [1e-01, 1e+04]\n",
      "Presolve removed 5191 rows and 4397 columns\n",
      "Presolve time: 0.04s\n",
      "Presolved: 10601 rows, 10608 columns, 33771 nonzeros\n",
      "\n",
      "Iteration    Objective       Primal Inf.    Dual Inf.      Time\n",
      "       0    1.1602325e+01   1.163955e-01   2.999992e+06      0s\n",
      "      12    1.5766775e+07   0.000000e+00   0.000000e+00      0s\n",
      "\n",
      "Solved in 12 iterations and 0.08 seconds\n",
      "Optimal objective  1.576677518e+07\n"
     ]
    }
   ],
   "source": [
    "# Gurobiによって最適解を求める\n",
    "import formulation\n",
    "import importlib\n",
    "importlib.reload(formulation)\n",
    "P = formulation.solve_primal(As, Ac_eq, Ac_leq, Ar_eq, Ar_leq, Ap, Aq, b_eq, b_leq, op, oq, instance_name+\"P\", len(tour))"
   ]
  },
  {
   "cell_type": "code",
   "execution_count": 5,
   "id": "36f1d82d",
   "metadata": {},
   "outputs": [],
   "source": [
    "CBasis = [constr.CBasis for constr in P.getConstrs()]\n",
    "VBasis = [var.VBasis for var in P.getVars()]"
   ]
  },
  {
   "cell_type": "code",
   "execution_count": 6,
   "id": "7baa7ab1",
   "metadata": {},
   "outputs": [],
   "source": [
    "def solve_primal2(As, Ac_eq, Ac_leq, Ar_eq, Ar_leq, Ap, Aq, b_eq, b_leq, op, oq, instance_name, num_vars,VBasis,CBasis):\n",
    "    import gurobipy as gp\n",
    "    from gurobipy import GRB\n",
    "    import numpy as np\n",
    "    import time\n",
    "    \n",
    "    # インスタンスの生成\n",
    "    m = gp.Model(\"LP_for_VRP\" + instance_name)\n",
    "    # 定数を設定　←　入力として与えられる\n",
    "    # 変数を設定\n",
    "    \"\"\"\n",
    "    s_i : 顧客iへ車両が到着する時刻を表す変数\n",
    "    r_i : 顧客 i における車両の燃料補充時間を表す変数\n",
    "    c_i : 顧客 i に到着した時の燃料残量を表す変数\n",
    "    p_i : 顧客iの時間枠の違反度を表す変数\n",
    "    q_i : 顧客 i の荷物を配達するまでの制限時間に関する違反量を表す変数\n",
    "    \"\"\"\n",
    "    s = m.addMVar(shape=num_vars, lb=0.0,  vtype=GRB.CONTINUOUS, name=\"s\")\n",
    "    r = m.addMVar(shape=num_vars, lb=0.0,  vtype=GRB.CONTINUOUS, name=\"r\")\n",
    "    c = m.addMVar(shape=num_vars, lb=0.0,  vtype=GRB.CONTINUOUS, name=\"c\")\n",
    "    p = m.addMVar(shape=num_vars, lb=0.0,  vtype=GRB.CONTINUOUS, name=\"p\")\n",
    "    q = m.addMVar(shape=num_vars, lb=0.0,  vtype=GRB.CONTINUOUS, name=\"q\")\n",
    "\n",
    "    # モデルのアップデート\n",
    "    m.update()\n",
    "    \n",
    "    # 目的関数を設定\n",
    "    ## 各制約の違反度を最小化する\n",
    "    m.setObjective(op.T @ p + oq.T @ q, sense=gp.GRB.MINIMIZE)\n",
    "    \n",
    "    # 制約条件を設定\n",
    "    ## 各係数行列のサイズを合わせる\n",
    "    m.addConstr(As @ s + Ac_leq @ c + Ar_leq @ r + Ap @ p + Aq @ q <= b_leq, name=\"c_leq\")\n",
    "    m.addConstr(Ac_eq @ c + Ar_eq @ r == b_eq, name=\"c_eq\")\n",
    "\n",
    "    # モデルのアップデート\n",
    "    m.update()\n",
    "    \n",
    "    # 時間計測スタート\n",
    "    start = time.time()\n",
    "    \n",
    "    # パラメータ\n",
    "    m.Params.Presolve = 0\n",
    "    m.Params.Method = 1\n",
    "\n",
    "    \n",
    "    for i, var in enumerate(m.getVars()):\n",
    "#        var.PStart = PStarts[i]\n",
    "        var.VBasis = VBasis[i]\n",
    "    for i, constr in enumerate(m.getConstrs()):\n",
    "        constr.CBasis = CBasis[i]\n",
    "\n",
    "    \n",
    "    # 最適化\n",
    "    m.optimize()\n",
    "    \n",
    "    # 時間計測ストップ\n",
    "    elapsed_time = time.time() - start\n",
    "    \n",
    "    # 解の表示\n",
    "    \"\"\"if m.Status == gp.GRB.OPTIMAL:\n",
    "        for i in range(num_vars):\n",
    "            print(f\"車両が顧客{i}に到着する時刻は、{x[i].X}\")\n",
    "        print(\"最適値 : \", m.ObjVal)\n",
    "    print('\\033[34m'+f\"実時間\\t{elapsed_time}\"+'\\033[0m')\"\"\"\n",
    "    \n",
    "    # モデルをテキストファイルにする\n",
    "#    m.write(\"out\"+instance_name+\".json\")\n",
    "        \n",
    "    return m"
   ]
  },
  {
   "cell_type": "code",
   "execution_count": 8,
   "id": "3816f6f1",
   "metadata": {},
   "outputs": [
    {
     "name": "stdout",
     "output_type": "stream",
     "text": [
      "Changed value of parameter Presolve to 0\n",
      "   Prev: -1  Min: -1  Max: 2  Default: -1\n",
      "Changed value of parameter Method to 1\n",
      "   Prev: -1  Min: -1  Max: 5  Default: -1\n",
      "Gurobi Optimizer version 9.1.1 build v9.1.1rc0 (mac64)\n",
      "Thread count: 8 physical cores, 16 logical processors, using up to 16 threads\n",
      "Optimize a model with 15792 rows, 15005 columns and 38370 nonzeros\n",
      "Coefficient statistics:\n",
      "  Matrix range     [1e+00, 1e+00]\n",
      "  Objective range  [1e+00, 1e+00]\n",
      "  Bounds range     [0e+00, 0e+00]\n",
      "  RHS range        [1e-01, 1e+04]\n",
      "Iteration    Objective       Primal Inf.    Dual Inf.      Time\n",
      "       0    1.5766775e+07   0.000000e+00   0.000000e+00      0s\n",
      "\n",
      "Solved in 0 iterations and 0.01 seconds\n",
      "Optimal objective  1.576677518e+07\n"
     ]
    },
    {
     "data": {
      "text/plain": [
       "<gurobi.Model Continuous instance LP_for_VRPC3000P: 15792 constrs, 15005 vars, Parameter changes: Method=1, Presolve=0>"
      ]
     },
     "execution_count": 8,
     "metadata": {},
     "output_type": "execute_result"
    }
   ],
   "source": [
    "solve_primal2(As, Ac_eq, Ac_leq, Ar_eq, Ar_leq, Ap, Aq, b_eq, b_leq, op, oq, instance_name+\"P\", len(tour),VBasis,CBasis)"
   ]
  },
  {
   "cell_type": "code",
   "execution_count": null,
   "id": "7c990933",
   "metadata": {},
   "outputs": [],
   "source": []
  },
  {
   "cell_type": "code",
   "execution_count": null,
   "id": "5953117f",
   "metadata": {},
   "outputs": [],
   "source": []
  }
 ],
 "metadata": {
  "kernelspec": {
   "display_name": "Python 3",
   "language": "python",
   "name": "python3"
  },
  "language_info": {
   "codemirror_mode": {
    "name": "ipython",
    "version": 3
   },
   "file_extension": ".py",
   "mimetype": "text/x-python",
   "name": "python",
   "nbconvert_exporter": "python",
   "pygments_lexer": "ipython3",
   "version": "3.7.7"
  }
 },
 "nbformat": 4,
 "nbformat_minor": 5
}
