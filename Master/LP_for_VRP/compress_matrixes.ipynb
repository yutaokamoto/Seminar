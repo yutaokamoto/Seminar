{
 "cells": [
  {
   "cell_type": "markdown",
   "id": "76ff1120",
   "metadata": {},
   "source": [
    "# 係数行列の圧縮を行う\n",
    "\n",
    "参考 : https://stackoverflow.com/questions/28816627/how-to-find-linearly-independent-rows-from-a-matrix"
   ]
  },
  {
   "cell_type": "code",
   "execution_count": 141,
   "id": "82b04ee1",
   "metadata": {},
   "outputs": [],
   "source": [
    "import instances\n",
    "import importlib\n",
    "importlib.reload(instances)\n",
    "Customers = instances.Customers\n",
    "Points = instances.Points\n",
    "C, F = instances.C, instances.F\n",
    "tour = instances.tour\n",
    "\n",
    "instance_name = \"C\" + str(len(Customers)-1)"
   ]
  },
  {
   "cell_type": "code",
   "execution_count": 142,
   "id": "012ded49",
   "metadata": {},
   "outputs": [],
   "source": [
    "def distance(x1, y1, x2, y2):\n",
    "    return ((x2-x1)**2+(y2-y1)**2)**(0.5)"
   ]
  },
  {
   "cell_type": "code",
   "execution_count": 143,
   "id": "9e6e63e4",
   "metadata": {},
   "outputs": [],
   "source": [
    "def make_preceding_constr(tour, Customers, Points, As, Ac_leq, Ar_leq, Ap, Aq, b_leq):\n",
    "    # ルート内の顧客の順序に関する制約\n",
    "    for index, i in enumerate(tour):\n",
    "        try:\n",
    "            i_next = tour[index+1]\n",
    "        except:\n",
    "            break\n",
    "        As.append([1 if target==i else -1 if target==i_next else 0 for target in tour])\n",
    "        Ac_leq.append([1 if target==i else 0 for target in tour])\n",
    "        b_leq.append(-distance(Customers[i].x, Customers[i].y, Customers[i_next].x, Customers[i_next].y))\n",
    "        ## 以下はすべての行列のサイズを合わせるために行を追加している\n",
    "        Ar_leq.append([0 for target in tour])\n",
    "        Ap.append([0 for target in tour])\n",
    "        Aq.append([0 for target in tour])\n",
    "    return As, Ac_leq, Ar_leq, Ap, Aq, b_leq"
   ]
  },
  {
   "cell_type": "code",
   "execution_count": 144,
   "id": "65d69a88",
   "metadata": {},
   "outputs": [],
   "source": [
    "def make_tw_constr(tour, Customers, Points, As, Ac_leq, Ar_leq, Ap, Aq, b_leq):\n",
    "    # 時間枠制約\n",
    "    for index, i in enumerate(tour):\n",
    "        As.append([-1 if i==target else 0 for target in tour])\n",
    "        Ap.append([-1 if i==target else 0 for target in tour])\n",
    "        b_leq.append(-Customers[i].e)\n",
    "        As.append([1 if i==target else 0 for target in tour])\n",
    "        Ap.append([-1 if i==target else 0 for target in tour])\n",
    "        b_leq.append(Customers[i].l)\n",
    "        ## 以下はすべての行列のサイズを合わせるために行を追加している\n",
    "        for _ in range(2):\n",
    "            Ac_leq.append([0 for target in tour])\n",
    "            Ar_leq.append([0 for target in tour])\n",
    "            Aq.append([0 for target in tour])\n",
    "    return As, Ac_leq, Ar_leq, Ap, Aq, b_leq"
   ]
  },
  {
   "cell_type": "code",
   "execution_count": 163,
   "id": "06cc892a",
   "metadata": {},
   "outputs": [],
   "source": [
    "import numpy as np\n",
    "As, Ac_eq, Ac_leq, Ar_eq, Ar_leq, Ap, Aq, b_eq, b_leq, op, oq \\\n",
    "    = [], [], [], [], [], [], [], [], [], [1 for _ in range(len(tour))], [1 for _ in range(len(tour))]"
   ]
  },
  {
   "cell_type": "code",
   "execution_count": 164,
   "id": "f7935c86",
   "metadata": {},
   "outputs": [],
   "source": [
    "# ルート内の顧客の順序に関する制約\n",
    "As, Ac_leq, Ar_leq, Ap, Aq, b_leq = make_preceding_constr(tour, Customers, Points, As, Ac_leq, Ar_leq, Ap, Aq, b_leq)"
   ]
  },
  {
   "cell_type": "code",
   "execution_count": 165,
   "id": "4fc00e4d",
   "metadata": {},
   "outputs": [],
   "source": [
    "# 時間枠制約\n",
    "As, Ac_leq, Ar_leq, Ap, Aq, b_leq = make_tw_constr(tour, Customers, Points, As, Ac_leq, Ar_leq, Ap, Aq, b_leq)"
   ]
  },
  {
   "cell_type": "code",
   "execution_count": 148,
   "id": "7bd7bbc7",
   "metadata": {
    "scrolled": true
   },
   "outputs": [
    {
     "name": "stdout",
     "output_type": "stream",
     "text": [
      "-2.23606797749979\n",
      "-2.23606797749979\n",
      "-3.1622776601683795\n",
      "-9.899494936611665\n",
      "-9.055385138137417\n",
      "-1\n",
      "3\n",
      "-4\n",
      "6\n",
      "-8\n",
      "9\n",
      "-10\n",
      "11\n",
      "-12\n",
      "16\n",
      "0\n",
      "0\n"
     ]
    }
   ],
   "source": [
    "for b_i in b_leq:\n",
    "    print(b_i)"
   ]
  },
  {
   "cell_type": "code",
   "execution_count": 149,
   "id": "29238e5e",
   "metadata": {
    "scrolled": true
   },
   "outputs": [
    {
     "name": "stdout",
     "output_type": "stream",
     "text": [
      "[1, -1, 0, 0, 0, 0]\n",
      "[0, 1, -1, 0, 0, 0]\n",
      "[0, 0, 1, -1, 0, 0]\n",
      "[0, 0, 0, 1, -1, 0]\n",
      "[0, 0, 0, 0, 1, -1]\n",
      "[-1, 0, 0, 0, 0, 0]\n",
      "[1, 0, 0, 0, 0, 0]\n",
      "[0, -1, 0, 0, 0, 0]\n",
      "[0, 1, 0, 0, 0, 0]\n",
      "[0, 0, -1, 0, 0, 0]\n",
      "[0, 0, 1, 0, 0, 0]\n",
      "[0, 0, 0, -1, 0, 0]\n",
      "[0, 0, 0, 1, 0, 0]\n",
      "[0, 0, 0, 0, -1, 0]\n",
      "[0, 0, 0, 0, 1, 0]\n",
      "[0, 0, 0, 0, 0, -1]\n",
      "[0, 0, 0, 0, 0, 1]\n"
     ]
    }
   ],
   "source": [
    "for row in As:\n",
    "    print(row)"
   ]
  },
  {
   "cell_type": "code",
   "execution_count": 150,
   "id": "48ff9bd5",
   "metadata": {
    "scrolled": true
   },
   "outputs": [
    {
     "name": "stdout",
     "output_type": "stream",
     "text": [
      "[1, 0, 0, 0, 0, 0]\n",
      "[0, 1, 0, 0, 0, 0]\n",
      "[0, 0, 1, 0, 0, 0]\n",
      "[0, 0, 0, 1, 0, 0]\n",
      "[0, 0, 0, 0, 1, 0]\n",
      "[0, 0, 0, 0, 0, 0]\n",
      "[0, 0, 0, 0, 0, 0]\n",
      "[0, 0, 0, 0, 0, 0]\n",
      "[0, 0, 0, 0, 0, 0]\n",
      "[0, 0, 0, 0, 0, 0]\n",
      "[0, 0, 0, 0, 0, 0]\n",
      "[0, 0, 0, 0, 0, 0]\n",
      "[0, 0, 0, 0, 0, 0]\n",
      "[0, 0, 0, 0, 0, 0]\n",
      "[0, 0, 0, 0, 0, 0]\n",
      "[0, 0, 0, 0, 0, 0]\n",
      "[0, 0, 0, 0, 0, 0]\n"
     ]
    }
   ],
   "source": [
    "for row in Ac_leq:\n",
    "    print(row)"
   ]
  },
  {
   "cell_type": "code",
   "execution_count": 151,
   "id": "59184ebd",
   "metadata": {
    "scrolled": true
   },
   "outputs": [
    {
     "name": "stdout",
     "output_type": "stream",
     "text": [
      "[1, -1, 0, 0, 0, 0] [1, 0, 0, 0, 0, 0] [0, 0, 0, 0, 0, 0] [0, 0, 0, 0, 0, 0] [0, 0, 0, 0, 0, 0] -2.23606797749979\n",
      "[0, 1, -1, 0, 0, 0] [0, 1, 0, 0, 0, 0] [0, 0, 0, 0, 0, 0] [0, 0, 0, 0, 0, 0] [0, 0, 0, 0, 0, 0] -2.23606797749979\n",
      "[0, 0, 1, -1, 0, 0] [0, 0, 1, 0, 0, 0] [0, 0, 0, 0, 0, 0] [0, 0, 0, 0, 0, 0] [0, 0, 0, 0, 0, 0] -3.1622776601683795\n",
      "[0, 0, 0, 1, -1, 0] [0, 0, 0, 1, 0, 0] [0, 0, 0, 0, 0, 0] [0, 0, 0, 0, 0, 0] [0, 0, 0, 0, 0, 0] -9.899494936611665\n",
      "[0, 0, 0, 0, 1, -1] [0, 0, 0, 0, 1, 0] [0, 0, 0, 0, 0, 0] [0, 0, 0, 0, 0, 0] [0, 0, 0, 0, 0, 0] -9.055385138137417\n",
      "[-1, 0, 0, 0, 0, 0] [0, 0, 0, 0, 0, 0] [0, 0, 0, 0, 0, 0] [-1, 0, 0, 0, 0, 0] [0, 0, 0, 0, 0, 0] -1\n",
      "[1, 0, 0, 0, 0, 0] [0, 0, 0, 0, 0, 0] [0, 0, 0, 0, 0, 0] [-1, 0, 0, 0, 0, 0] [0, 0, 0, 0, 0, 0] 3\n",
      "[0, -1, 0, 0, 0, 0] [0, 0, 0, 0, 0, 0] [0, 0, 0, 0, 0, 0] [0, -1, 0, 0, 0, 0] [0, 0, 0, 0, 0, 0] -4\n",
      "[0, 1, 0, 0, 0, 0] [0, 0, 0, 0, 0, 0] [0, 0, 0, 0, 0, 0] [0, -1, 0, 0, 0, 0] [0, 0, 0, 0, 0, 0] 6\n",
      "[0, 0, -1, 0, 0, 0] [0, 0, 0, 0, 0, 0] [0, 0, 0, 0, 0, 0] [0, 0, -1, 0, 0, 0] [0, 0, 0, 0, 0, 0] -8\n",
      "[0, 0, 1, 0, 0, 0] [0, 0, 0, 0, 0, 0] [0, 0, 0, 0, 0, 0] [0, 0, -1, 0, 0, 0] [0, 0, 0, 0, 0, 0] 9\n",
      "[0, 0, 0, -1, 0, 0] [0, 0, 0, 0, 0, 0] [0, 0, 0, 0, 0, 0] [0, 0, 0, -1, 0, 0] [0, 0, 0, 0, 0, 0] -10\n",
      "[0, 0, 0, 1, 0, 0] [0, 0, 0, 0, 0, 0] [0, 0, 0, 0, 0, 0] [0, 0, 0, -1, 0, 0] [0, 0, 0, 0, 0, 0] 11\n",
      "[0, 0, 0, 0, -1, 0] [0, 0, 0, 0, 0, 0] [0, 0, 0, 0, 0, 0] [0, 0, 0, 0, -1, 0] [0, 0, 0, 0, 0, 0] -12\n",
      "[0, 0, 0, 0, 1, 0] [0, 0, 0, 0, 0, 0] [0, 0, 0, 0, 0, 0] [0, 0, 0, 0, -1, 0] [0, 0, 0, 0, 0, 0] 16\n",
      "[0, 0, 0, 0, 0, -1] [0, 0, 0, 0, 0, 0] [0, 0, 0, 0, 0, 0] [0, 0, 0, 0, 0, -1] [0, 0, 0, 0, 0, 0] 0\n",
      "[0, 0, 0, 0, 0, 1] [0, 0, 0, 0, 0, 0] [0, 0, 0, 0, 0, 0] [0, 0, 0, 0, 0, -1] [0, 0, 0, 0, 0, 0] 0\n"
     ]
    }
   ],
   "source": [
    "for As_i, Ac_leq_i, Ar_leq_i, Ap_i, Aq_i, b_leq_i in zip(As, Ac_leq, Ar_leq, Ap, Aq, b_leq):\n",
    "    print(As_i, Ac_leq_i, Ar_leq_i, Ap_i, Aq_i, b_leq_i)"
   ]
  },
  {
   "cell_type": "code",
   "execution_count": 152,
   "id": "9102b95b",
   "metadata": {},
   "outputs": [],
   "source": [
    "# Asにb_leqをつなげる\n",
    "for i in range(len(As)):\n",
    "    As[i] += (Ac_leq[i])\n",
    "    As[i] += (Ar_leq[i])\n",
    "    As[i] += (Ap[i])\n",
    "    As[i] += (Aq[i])\n",
    "    As[i].append(b_leq[i])"
   ]
  },
  {
   "cell_type": "code",
   "execution_count": 153,
   "id": "5194c3eb",
   "metadata": {
    "scrolled": true
   },
   "outputs": [
    {
     "name": "stdout",
     "output_type": "stream",
     "text": [
      "[1, -1, 0, 0, 0, 0, 1, 0, 0, 0, 0, 0, 0, 0, 0, 0, 0, 0, 0, 0, 0, 0, 0, 0, 0, 0, 0, 0, 0, 0, -2.23606797749979]\n",
      "[0, 1, -1, 0, 0, 0, 0, 1, 0, 0, 0, 0, 0, 0, 0, 0, 0, 0, 0, 0, 0, 0, 0, 0, 0, 0, 0, 0, 0, 0, -2.23606797749979]\n",
      "[0, 0, 1, -1, 0, 0, 0, 0, 1, 0, 0, 0, 0, 0, 0, 0, 0, 0, 0, 0, 0, 0, 0, 0, 0, 0, 0, 0, 0, 0, -3.1622776601683795]\n",
      "[0, 0, 0, 1, -1, 0, 0, 0, 0, 1, 0, 0, 0, 0, 0, 0, 0, 0, 0, 0, 0, 0, 0, 0, 0, 0, 0, 0, 0, 0, -9.899494936611665]\n",
      "[0, 0, 0, 0, 1, -1, 0, 0, 0, 0, 1, 0, 0, 0, 0, 0, 0, 0, 0, 0, 0, 0, 0, 0, 0, 0, 0, 0, 0, 0, -9.055385138137417]\n",
      "[-1, 0, 0, 0, 0, 0, 0, 0, 0, 0, 0, 0, 0, 0, 0, 0, 0, 0, -1, 0, 0, 0, 0, 0, 0, 0, 0, 0, 0, 0, -1]\n",
      "[1, 0, 0, 0, 0, 0, 0, 0, 0, 0, 0, 0, 0, 0, 0, 0, 0, 0, -1, 0, 0, 0, 0, 0, 0, 0, 0, 0, 0, 0, 3]\n",
      "[0, -1, 0, 0, 0, 0, 0, 0, 0, 0, 0, 0, 0, 0, 0, 0, 0, 0, 0, -1, 0, 0, 0, 0, 0, 0, 0, 0, 0, 0, -4]\n",
      "[0, 1, 0, 0, 0, 0, 0, 0, 0, 0, 0, 0, 0, 0, 0, 0, 0, 0, 0, -1, 0, 0, 0, 0, 0, 0, 0, 0, 0, 0, 6]\n",
      "[0, 0, -1, 0, 0, 0, 0, 0, 0, 0, 0, 0, 0, 0, 0, 0, 0, 0, 0, 0, -1, 0, 0, 0, 0, 0, 0, 0, 0, 0, -8]\n",
      "[0, 0, 1, 0, 0, 0, 0, 0, 0, 0, 0, 0, 0, 0, 0, 0, 0, 0, 0, 0, -1, 0, 0, 0, 0, 0, 0, 0, 0, 0, 9]\n",
      "[0, 0, 0, -1, 0, 0, 0, 0, 0, 0, 0, 0, 0, 0, 0, 0, 0, 0, 0, 0, 0, -1, 0, 0, 0, 0, 0, 0, 0, 0, -10]\n",
      "[0, 0, 0, 1, 0, 0, 0, 0, 0, 0, 0, 0, 0, 0, 0, 0, 0, 0, 0, 0, 0, -1, 0, 0, 0, 0, 0, 0, 0, 0, 11]\n",
      "[0, 0, 0, 0, -1, 0, 0, 0, 0, 0, 0, 0, 0, 0, 0, 0, 0, 0, 0, 0, 0, 0, -1, 0, 0, 0, 0, 0, 0, 0, -12]\n",
      "[0, 0, 0, 0, 1, 0, 0, 0, 0, 0, 0, 0, 0, 0, 0, 0, 0, 0, 0, 0, 0, 0, -1, 0, 0, 0, 0, 0, 0, 0, 16]\n",
      "[0, 0, 0, 0, 0, -1, 0, 0, 0, 0, 0, 0, 0, 0, 0, 0, 0, 0, 0, 0, 0, 0, 0, -1, 0, 0, 0, 0, 0, 0, 0]\n",
      "[0, 0, 0, 0, 0, 1, 0, 0, 0, 0, 0, 0, 0, 0, 0, 0, 0, 0, 0, 0, 0, 0, 0, -1, 0, 0, 0, 0, 0, 0, 0]\n"
     ]
    }
   ],
   "source": [
    "for row in As:\n",
    "    print(row)"
   ]
  },
  {
   "cell_type": "code",
   "execution_count": 154,
   "id": "2d3b5194",
   "metadata": {},
   "outputs": [
    {
     "data": {
      "text/plain": [
       "[[1, 2, 3, 4], [4, 5, 6, 7]]"
      ]
     },
     "execution_count": 154,
     "metadata": {},
     "output_type": "execute_result"
    }
   ],
   "source": [
    "from numpy.linalg import matrix_rank\n",
    "\n",
    "def LI_vecs(dim,M):\n",
    "    LI=[M[0]]\n",
    "    for i in range(dim):\n",
    "        tmp=[]\n",
    "        for r in LI:\n",
    "            tmp.append(r)\n",
    "        tmp.append(M[i])                #set tmp=LI+[M[i]]\n",
    "        if matrix_rank(tmp)>len(LI):    #test if M[i] is linearly independent from all (row) vectors in LI\n",
    "            LI.append(M[i])             #note that matrix_rank does not need to take in a square matrix\n",
    "    return LI                           #return set of linearly independent (row) vectors\n",
    "\n",
    "#Example\n",
    "mat=[[1,2,3,4],[4,5,6,7],[5,7,9,11],[2,4,6,8]]\n",
    "LI_vecs(4,mat)"
   ]
  },
  {
   "cell_type": "code",
   "execution_count": 155,
   "id": "8769c1bd",
   "metadata": {
    "scrolled": true
   },
   "outputs": [],
   "source": [
    "As_compressed = LI_vecs(len(As), As)"
   ]
  },
  {
   "cell_type": "code",
   "execution_count": 156,
   "id": "dbf5991a",
   "metadata": {},
   "outputs": [
    {
     "data": {
      "text/plain": [
       "17"
      ]
     },
     "execution_count": 156,
     "metadata": {},
     "output_type": "execute_result"
    }
   ],
   "source": [
    "len(As)"
   ]
  },
  {
   "cell_type": "code",
   "execution_count": 157,
   "id": "532e46e9",
   "metadata": {},
   "outputs": [
    {
     "data": {
      "text/plain": [
       "17"
      ]
     },
     "execution_count": 157,
     "metadata": {},
     "output_type": "execute_result"
    }
   ],
   "source": [
    "len(As_compressed)"
   ]
  },
  {
   "cell_type": "code",
   "execution_count": 158,
   "id": "6d8057f0",
   "metadata": {},
   "outputs": [
    {
     "name": "stdout",
     "output_type": "stream",
     "text": [
      "[1, -1, 0, 0, 0, 0, 1, 0, 0, 0, 0, 0, 0, 0, 0, 0, 0, 0, 0, 0, 0, 0, 0, 0, 0, 0, 0, 0, 0, 0, -2.23606797749979]\n",
      "[0, 1, -1, 0, 0, 0, 0, 1, 0, 0, 0, 0, 0, 0, 0, 0, 0, 0, 0, 0, 0, 0, 0, 0, 0, 0, 0, 0, 0, 0, -2.23606797749979]\n",
      "[0, 0, 1, -1, 0, 0, 0, 0, 1, 0, 0, 0, 0, 0, 0, 0, 0, 0, 0, 0, 0, 0, 0, 0, 0, 0, 0, 0, 0, 0, -3.1622776601683795]\n",
      "[0, 0, 0, 1, -1, 0, 0, 0, 0, 1, 0, 0, 0, 0, 0, 0, 0, 0, 0, 0, 0, 0, 0, 0, 0, 0, 0, 0, 0, 0, -9.899494936611665]\n",
      "[0, 0, 0, 0, 1, -1, 0, 0, 0, 0, 1, 0, 0, 0, 0, 0, 0, 0, 0, 0, 0, 0, 0, 0, 0, 0, 0, 0, 0, 0, -9.055385138137417]\n",
      "[-1, 0, 0, 0, 0, 0, 0, 0, 0, 0, 0, 0, 0, 0, 0, 0, 0, 0, -1, 0, 0, 0, 0, 0, 0, 0, 0, 0, 0, 0, -1]\n",
      "[1, 0, 0, 0, 0, 0, 0, 0, 0, 0, 0, 0, 0, 0, 0, 0, 0, 0, -1, 0, 0, 0, 0, 0, 0, 0, 0, 0, 0, 0, 3]\n",
      "[0, -1, 0, 0, 0, 0, 0, 0, 0, 0, 0, 0, 0, 0, 0, 0, 0, 0, 0, -1, 0, 0, 0, 0, 0, 0, 0, 0, 0, 0, -4]\n",
      "[0, 1, 0, 0, 0, 0, 0, 0, 0, 0, 0, 0, 0, 0, 0, 0, 0, 0, 0, -1, 0, 0, 0, 0, 0, 0, 0, 0, 0, 0, 6]\n",
      "[0, 0, -1, 0, 0, 0, 0, 0, 0, 0, 0, 0, 0, 0, 0, 0, 0, 0, 0, 0, -1, 0, 0, 0, 0, 0, 0, 0, 0, 0, -8]\n",
      "[0, 0, 1, 0, 0, 0, 0, 0, 0, 0, 0, 0, 0, 0, 0, 0, 0, 0, 0, 0, -1, 0, 0, 0, 0, 0, 0, 0, 0, 0, 9]\n",
      "[0, 0, 0, -1, 0, 0, 0, 0, 0, 0, 0, 0, 0, 0, 0, 0, 0, 0, 0, 0, 0, -1, 0, 0, 0, 0, 0, 0, 0, 0, -10]\n",
      "[0, 0, 0, 1, 0, 0, 0, 0, 0, 0, 0, 0, 0, 0, 0, 0, 0, 0, 0, 0, 0, -1, 0, 0, 0, 0, 0, 0, 0, 0, 11]\n",
      "[0, 0, 0, 0, -1, 0, 0, 0, 0, 0, 0, 0, 0, 0, 0, 0, 0, 0, 0, 0, 0, 0, -1, 0, 0, 0, 0, 0, 0, 0, -12]\n",
      "[0, 0, 0, 0, 1, 0, 0, 0, 0, 0, 0, 0, 0, 0, 0, 0, 0, 0, 0, 0, 0, 0, -1, 0, 0, 0, 0, 0, 0, 0, 16]\n",
      "[0, 0, 0, 0, 0, -1, 0, 0, 0, 0, 0, 0, 0, 0, 0, 0, 0, 0, 0, 0, 0, 0, 0, -1, 0, 0, 0, 0, 0, 0, 0]\n",
      "[0, 0, 0, 0, 0, 1, 0, 0, 0, 0, 0, 0, 0, 0, 0, 0, 0, 0, 0, 0, 0, 0, 0, -1, 0, 0, 0, 0, 0, 0, 0]\n"
     ]
    }
   ],
   "source": [
    "for row in As_compressed:\n",
    "    print(row)"
   ]
  },
  {
   "cell_type": "markdown",
   "id": "b7b24247",
   "metadata": {},
   "source": [
    "# 全てのものを繋げて圧縮を行おうとしたが、うまく圧縮できない\n",
    "\n",
    "# そこで、制約の種類ごとに係数行列をまとめて、圧縮を行う必要があると思う\n",
    "\n",
    "例えば、訪問順序に関する制約ならば、As、Ac_leq、b_leqをまとめる。そして圧縮する。"
   ]
  },
  {
   "cell_type": "code",
   "execution_count": 166,
   "id": "009c0d61",
   "metadata": {},
   "outputs": [],
   "source": [
    "# Asにb_leqをつなげる\n",
    "A_preceding = [[] for _ in range(len(As))]\n",
    "for i in range(len(As)):\n",
    "    A_preceding[i] += (Ac_leq[i])\n",
    "    A_preceding[i] += (Ap[i])\n",
    "    A_preceding[i].append(b_leq[i])"
   ]
  },
  {
   "cell_type": "code",
   "execution_count": 167,
   "id": "ddc46119",
   "metadata": {},
   "outputs": [],
   "source": [
    "A_preceding_compressed = LI_vecs(len(As), As)"
   ]
  },
  {
   "cell_type": "code",
   "execution_count": 168,
   "id": "0a7d8c0e",
   "metadata": {},
   "outputs": [
    {
     "data": {
      "text/plain": [
       "17"
      ]
     },
     "execution_count": 168,
     "metadata": {},
     "output_type": "execute_result"
    }
   ],
   "source": [
    "len(A_preceding)"
   ]
  },
  {
   "cell_type": "code",
   "execution_count": 169,
   "id": "da529f5c",
   "metadata": {},
   "outputs": [
    {
     "data": {
      "text/plain": [
       "6"
      ]
     },
     "execution_count": 169,
     "metadata": {},
     "output_type": "execute_result"
    }
   ],
   "source": [
    "len(A_preceding_compressed)"
   ]
  },
  {
   "cell_type": "code",
   "execution_count": null,
   "id": "a64534f2",
   "metadata": {},
   "outputs": [],
   "source": []
  }
 ],
 "metadata": {
  "kernelspec": {
   "display_name": "Python 3",
   "language": "python",
   "name": "python3"
  },
  "language_info": {
   "codemirror_mode": {
    "name": "ipython",
    "version": 3
   },
   "file_extension": ".py",
   "mimetype": "text/x-python",
   "name": "python",
   "nbconvert_exporter": "python",
   "pygments_lexer": "ipython3",
   "version": "3.7.7"
  }
 },
 "nbformat": 4,
 "nbformat_minor": 5
}
