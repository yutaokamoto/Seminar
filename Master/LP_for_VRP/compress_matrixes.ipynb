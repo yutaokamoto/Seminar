{
 "cells": [
  {
   "cell_type": "markdown",
   "id": "76ff1120",
   "metadata": {},
   "source": [
    "# 係数行列の圧縮を行う\n",
    "\n",
    "参考 : https://stackoverflow.com/questions/28816627/how-to-find-linearly-independent-rows-from-a-matrix"
   ]
  },
  {
   "cell_type": "code",
   "execution_count": 45,
   "id": "82b04ee1",
   "metadata": {},
   "outputs": [],
   "source": [
    "import instances\n",
    "import importlib\n",
    "importlib.reload(instances)\n",
    "Customers = instances.Customers\n",
    "Points = instances.Points\n",
    "C, F = instances.C, instances.F\n",
    "tour = instances.tour\n",
    "\n",
    "instance_name = \"C\" + str(len(Customers)-1)"
   ]
  },
  {
   "cell_type": "code",
   "execution_count": 46,
   "id": "487cdd4f",
   "metadata": {},
   "outputs": [
    {
     "name": "stdout",
     "output_type": "stream",
     "text": [
      "Preceding constraints are done.\n",
      "Time-window constarints are done.\n",
      "Pick-up and delivery constarints are done.\n",
      "Charge constarints are done.\n"
     ]
    }
   ],
   "source": [
    "import inputs\n",
    "As, Ac_eq, Ac_leq, Ar_eq, Ar_leq, Ap, Aq, b_eq, b_leq, op, oq = inputs.make_inputs(tour, Customers, Points, F, C)"
   ]
  },
  {
   "cell_type": "code",
   "execution_count": 52,
   "id": "9102b95b",
   "metadata": {},
   "outputs": [
    {
     "ename": "ValueError",
     "evalue": "could not broadcast input array from shape (6,) into shape (0,)",
     "output_type": "error",
     "traceback": [
      "\u001b[0;31m---------------------------------------------------------------------------\u001b[0m",
      "\u001b[0;31mValueError\u001b[0m                                Traceback (most recent call last)",
      "\u001b[0;32m<ipython-input-52-3b726b7ca896>\u001b[0m in \u001b[0;36m<module>\u001b[0;34m\u001b[0m\n\u001b[1;32m      3\u001b[0m \u001b[0mA_leq\u001b[0m \u001b[0;34m=\u001b[0m \u001b[0mnp\u001b[0m\u001b[0;34m.\u001b[0m\u001b[0marray\u001b[0m\u001b[0;34m(\u001b[0m\u001b[0;34m[\u001b[0m\u001b[0mnp\u001b[0m\u001b[0;34m.\u001b[0m\u001b[0marray\u001b[0m\u001b[0;34m(\u001b[0m\u001b[0;34m[\u001b[0m\u001b[0;34m]\u001b[0m\u001b[0;34m)\u001b[0m \u001b[0;32mfor\u001b[0m \u001b[0m_\u001b[0m \u001b[0;32min\u001b[0m \u001b[0mrange\u001b[0m\u001b[0;34m(\u001b[0m\u001b[0mlen\u001b[0m\u001b[0;34m(\u001b[0m\u001b[0mAs\u001b[0m\u001b[0;34m)\u001b[0m\u001b[0;34m)\u001b[0m\u001b[0;34m]\u001b[0m\u001b[0;34m)\u001b[0m\u001b[0;34m\u001b[0m\u001b[0;34m\u001b[0m\u001b[0m\n\u001b[1;32m      4\u001b[0m \u001b[0;32mfor\u001b[0m \u001b[0mi\u001b[0m \u001b[0;32min\u001b[0m \u001b[0mrange\u001b[0m\u001b[0;34m(\u001b[0m\u001b[0mlen\u001b[0m\u001b[0;34m(\u001b[0m\u001b[0mAs\u001b[0m\u001b[0;34m)\u001b[0m\u001b[0;34m)\u001b[0m\u001b[0;34m:\u001b[0m\u001b[0;34m\u001b[0m\u001b[0;34m\u001b[0m\u001b[0m\n\u001b[0;32m----> 5\u001b[0;31m     \u001b[0mA_leq\u001b[0m\u001b[0;34m[\u001b[0m\u001b[0mi\u001b[0m\u001b[0;34m]\u001b[0m \u001b[0;34m=\u001b[0m \u001b[0mAs\u001b[0m\u001b[0;34m[\u001b[0m\u001b[0mi\u001b[0m\u001b[0;34m]\u001b[0m \u001b[0;34m+\u001b[0m \u001b[0mAc_leq\u001b[0m\u001b[0;34m[\u001b[0m\u001b[0mi\u001b[0m\u001b[0;34m]\u001b[0m\u001b[0;34m\u001b[0m\u001b[0;34m\u001b[0m\u001b[0m\n\u001b[0m\u001b[1;32m      6\u001b[0m     \u001b[0mA_leq\u001b[0m\u001b[0;34m[\u001b[0m\u001b[0mi\u001b[0m\u001b[0;34m]\u001b[0m \u001b[0;34m=\u001b[0m \u001b[0mAs\u001b[0m\u001b[0;34m[\u001b[0m\u001b[0mi\u001b[0m\u001b[0;34m]\u001b[0m \u001b[0;34m+\u001b[0m \u001b[0mAr_leq\u001b[0m\u001b[0;34m[\u001b[0m\u001b[0mi\u001b[0m\u001b[0;34m]\u001b[0m\u001b[0;34m\u001b[0m\u001b[0;34m\u001b[0m\u001b[0m\n\u001b[1;32m      7\u001b[0m     \u001b[0mA_leq\u001b[0m\u001b[0;34m[\u001b[0m\u001b[0mi\u001b[0m\u001b[0;34m]\u001b[0m \u001b[0;34m=\u001b[0m \u001b[0mAs\u001b[0m\u001b[0;34m[\u001b[0m\u001b[0mi\u001b[0m\u001b[0;34m]\u001b[0m \u001b[0;34m+\u001b[0m \u001b[0mAp\u001b[0m\u001b[0;34m[\u001b[0m\u001b[0mi\u001b[0m\u001b[0;34m]\u001b[0m\u001b[0;34m\u001b[0m\u001b[0;34m\u001b[0m\u001b[0m\n",
      "\u001b[0;31mValueError\u001b[0m: could not broadcast input array from shape (6,) into shape (0,)"
     ]
    }
   ],
   "source": [
    "# Asに他の係数行列をくっつける\n",
    "import numpy as np\n",
    "A_leq = np.array([np.array([]) for _ in range(len(As))])\n",
    "for i in range(len(As)):\n",
    "    A_leq[i] = As[i] + Ac_leq[i]\n",
    "    A_leq[i] = As[i] + Ar_leq[i]\n",
    "    A_leq[i] = As[i] + Ap[i]\n",
    "    A_leq[i] = As[i] + Aq[i]\n",
    "    A_leq[i] = np.append(As[i], b_leq[i])"
   ]
  },
  {
   "cell_type": "code",
   "execution_count": 48,
   "id": "5194c3eb",
   "metadata": {
    "scrolled": true
   },
   "outputs": [
    {
     "name": "stdout",
     "output_type": "stream",
     "text": [
      "[ 2 -1  0  0  0  0]\n",
      "[ 0  2 -1  0  0  0]\n",
      "[ 0  0  2 -1  0  0]\n",
      "[ 0  0  0  2 -1  0]\n",
      "[ 0  0  0  0  2 -1]\n",
      "[-2  0  0  0  0  0]\n",
      "[0 0 0 0 0 0]\n",
      "[ 0 -2  0  0  0  0]\n",
      "[0 0 0 0 0 0]\n",
      "[ 0  0 -2  0  0  0]\n",
      "[0 0 0 0 0 0]\n",
      "[ 0  0  0 -2  0  0]\n",
      "[0 0 0 0 0 0]\n",
      "[ 0  0  0  0 -2  0]\n",
      "[0 0 0 0 0 0]\n",
      "[ 0  0  0  0  0 -2]\n",
      "[0 0 0 0 0 0]\n",
      "[ 0  0 -2  0  1  0]\n",
      "[2 0 0 0 0 0]\n",
      "[0 2 0 0 0 0]\n",
      "[0 0 2 0 0 0]\n",
      "[0 0 0 2 0 0]\n",
      "[0 0 0 0 2 0]\n",
      "[0 0 0 0 0 2]\n"
     ]
    }
   ],
   "source": [
    "for row in A_leq:\n",
    "    print(row)"
   ]
  },
  {
   "cell_type": "code",
   "execution_count": 154,
   "id": "2d3b5194",
   "metadata": {},
   "outputs": [
    {
     "data": {
      "text/plain": [
       "[[1, 2, 3, 4], [4, 5, 6, 7]]"
      ]
     },
     "execution_count": 154,
     "metadata": {},
     "output_type": "execute_result"
    }
   ],
   "source": [
    "from numpy.linalg import matrix_rank\n",
    "\n",
    "def LI_vecs(dim,M):\n",
    "    LI=[M[0]]\n",
    "    for i in range(dim):\n",
    "        tmp=[]\n",
    "        for r in LI:\n",
    "            tmp.append(r)\n",
    "        tmp.append(M[i])                #set tmp=LI+[M[i]]\n",
    "        if matrix_rank(tmp)>len(LI):    #test if M[i] is linearly independent from all (row) vectors in LI\n",
    "            LI.append(M[i])             #note that matrix_rank does not need to take in a square matrix\n",
    "    return LI                           #return set of linearly independent (row) vectors\n",
    "\n",
    "#Example\n",
    "#mat=[[1,2,3,4],[4,5,6,7],[5,7,9,11],[2,4,6,8]]\n",
    "#LI_vecs(4,mat)"
   ]
  },
  {
   "cell_type": "code",
   "execution_count": 155,
   "id": "8769c1bd",
   "metadata": {
    "scrolled": true
   },
   "outputs": [],
   "source": [
    "A_leq_compressed = LI_vecs(len(A_leq), A_leq)"
   ]
  },
  {
   "cell_type": "code",
   "execution_count": 156,
   "id": "dbf5991a",
   "metadata": {},
   "outputs": [
    {
     "data": {
      "text/plain": [
       "17"
      ]
     },
     "execution_count": 156,
     "metadata": {},
     "output_type": "execute_result"
    }
   ],
   "source": [
    "len(A_leq)"
   ]
  },
  {
   "cell_type": "code",
   "execution_count": 157,
   "id": "532e46e9",
   "metadata": {},
   "outputs": [
    {
     "data": {
      "text/plain": [
       "17"
      ]
     },
     "execution_count": 157,
     "metadata": {},
     "output_type": "execute_result"
    }
   ],
   "source": [
    "len(A_leq_compressed)"
   ]
  },
  {
   "cell_type": "code",
   "execution_count": 158,
   "id": "6d8057f0",
   "metadata": {},
   "outputs": [
    {
     "name": "stdout",
     "output_type": "stream",
     "text": [
      "[1, -1, 0, 0, 0, 0, 1, 0, 0, 0, 0, 0, 0, 0, 0, 0, 0, 0, 0, 0, 0, 0, 0, 0, 0, 0, 0, 0, 0, 0, -2.23606797749979]\n",
      "[0, 1, -1, 0, 0, 0, 0, 1, 0, 0, 0, 0, 0, 0, 0, 0, 0, 0, 0, 0, 0, 0, 0, 0, 0, 0, 0, 0, 0, 0, -2.23606797749979]\n",
      "[0, 0, 1, -1, 0, 0, 0, 0, 1, 0, 0, 0, 0, 0, 0, 0, 0, 0, 0, 0, 0, 0, 0, 0, 0, 0, 0, 0, 0, 0, -3.1622776601683795]\n",
      "[0, 0, 0, 1, -1, 0, 0, 0, 0, 1, 0, 0, 0, 0, 0, 0, 0, 0, 0, 0, 0, 0, 0, 0, 0, 0, 0, 0, 0, 0, -9.899494936611665]\n",
      "[0, 0, 0, 0, 1, -1, 0, 0, 0, 0, 1, 0, 0, 0, 0, 0, 0, 0, 0, 0, 0, 0, 0, 0, 0, 0, 0, 0, 0, 0, -9.055385138137417]\n",
      "[-1, 0, 0, 0, 0, 0, 0, 0, 0, 0, 0, 0, 0, 0, 0, 0, 0, 0, -1, 0, 0, 0, 0, 0, 0, 0, 0, 0, 0, 0, -1]\n",
      "[1, 0, 0, 0, 0, 0, 0, 0, 0, 0, 0, 0, 0, 0, 0, 0, 0, 0, -1, 0, 0, 0, 0, 0, 0, 0, 0, 0, 0, 0, 3]\n",
      "[0, -1, 0, 0, 0, 0, 0, 0, 0, 0, 0, 0, 0, 0, 0, 0, 0, 0, 0, -1, 0, 0, 0, 0, 0, 0, 0, 0, 0, 0, -4]\n",
      "[0, 1, 0, 0, 0, 0, 0, 0, 0, 0, 0, 0, 0, 0, 0, 0, 0, 0, 0, -1, 0, 0, 0, 0, 0, 0, 0, 0, 0, 0, 6]\n",
      "[0, 0, -1, 0, 0, 0, 0, 0, 0, 0, 0, 0, 0, 0, 0, 0, 0, 0, 0, 0, -1, 0, 0, 0, 0, 0, 0, 0, 0, 0, -8]\n",
      "[0, 0, 1, 0, 0, 0, 0, 0, 0, 0, 0, 0, 0, 0, 0, 0, 0, 0, 0, 0, -1, 0, 0, 0, 0, 0, 0, 0, 0, 0, 9]\n",
      "[0, 0, 0, -1, 0, 0, 0, 0, 0, 0, 0, 0, 0, 0, 0, 0, 0, 0, 0, 0, 0, -1, 0, 0, 0, 0, 0, 0, 0, 0, -10]\n",
      "[0, 0, 0, 1, 0, 0, 0, 0, 0, 0, 0, 0, 0, 0, 0, 0, 0, 0, 0, 0, 0, -1, 0, 0, 0, 0, 0, 0, 0, 0, 11]\n",
      "[0, 0, 0, 0, -1, 0, 0, 0, 0, 0, 0, 0, 0, 0, 0, 0, 0, 0, 0, 0, 0, 0, -1, 0, 0, 0, 0, 0, 0, 0, -12]\n",
      "[0, 0, 0, 0, 1, 0, 0, 0, 0, 0, 0, 0, 0, 0, 0, 0, 0, 0, 0, 0, 0, 0, -1, 0, 0, 0, 0, 0, 0, 0, 16]\n",
      "[0, 0, 0, 0, 0, -1, 0, 0, 0, 0, 0, 0, 0, 0, 0, 0, 0, 0, 0, 0, 0, 0, 0, -1, 0, 0, 0, 0, 0, 0, 0]\n",
      "[0, 0, 0, 0, 0, 1, 0, 0, 0, 0, 0, 0, 0, 0, 0, 0, 0, 0, 0, 0, 0, 0, 0, -1, 0, 0, 0, 0, 0, 0, 0]\n"
     ]
    }
   ],
   "source": [
    "for row in A_leq_compressed:\n",
    "    print(row)"
   ]
  },
  {
   "cell_type": "markdown",
   "id": "b7b24247",
   "metadata": {},
   "source": [
    "# 全てのものを繋げて圧縮を行おうとしたが、うまく圧縮できない\n",
    "\n",
    "# そこで、制約の種類ごとに係数行列をまとめて、圧縮を行う必要があると思う\n",
    "\n",
    "例えば、訪問順序に関する制約ならば、As、Ac_leq、b_leqをまとめる。そして圧縮する。"
   ]
  },
  {
   "cell_type": "code",
   "execution_count": 166,
   "id": "009c0d61",
   "metadata": {},
   "outputs": [],
   "source": [
    "# Asにb_leqをつなげる\n",
    "A_preceding = [[] for _ in range(len(As))]\n",
    "for i in range(len(As)):\n",
    "    A_preceding[i] += (Ac_leq[i])\n",
    "    A_preceding[i] += (Ap[i])\n",
    "    A_preceding[i].append(b_leq[i])"
   ]
  },
  {
   "cell_type": "code",
   "execution_count": 167,
   "id": "ddc46119",
   "metadata": {},
   "outputs": [],
   "source": [
    "A_preceding_compressed = LI_vecs(len(As), As)"
   ]
  },
  {
   "cell_type": "code",
   "execution_count": 168,
   "id": "0a7d8c0e",
   "metadata": {},
   "outputs": [
    {
     "data": {
      "text/plain": [
       "17"
      ]
     },
     "execution_count": 168,
     "metadata": {},
     "output_type": "execute_result"
    }
   ],
   "source": [
    "len(A_preceding)"
   ]
  },
  {
   "cell_type": "code",
   "execution_count": 169,
   "id": "da529f5c",
   "metadata": {},
   "outputs": [
    {
     "data": {
      "text/plain": [
       "6"
      ]
     },
     "execution_count": 169,
     "metadata": {},
     "output_type": "execute_result"
    }
   ],
   "source": [
    "len(A_preceding_compressed)"
   ]
  },
  {
   "cell_type": "code",
   "execution_count": null,
   "id": "a64534f2",
   "metadata": {},
   "outputs": [],
   "source": []
  }
 ],
 "metadata": {
  "kernelspec": {
   "display_name": "Python 3",
   "language": "python",
   "name": "python3"
  },
  "language_info": {
   "codemirror_mode": {
    "name": "ipython",
    "version": 3
   },
   "file_extension": ".py",
   "mimetype": "text/x-python",
   "name": "python",
   "nbconvert_exporter": "python",
   "pygments_lexer": "ipython3",
   "version": "3.7.7"
  }
 },
 "nbformat": 4,
 "nbformat_minor": 5
}
